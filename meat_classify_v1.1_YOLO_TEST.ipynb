{
  "nbformat": 4,
  "nbformat_minor": 0,
  "metadata": {
    "colab": {
      "provenance": [],
      "gpuType": "T4"
    },
    "kernelspec": {
      "name": "python3",
      "display_name": "Python 3"
    },
    "language_info": {
      "name": "python"
    },
    "accelerator": "GPU"
  },
  "cells": [
    {
      "cell_type": "code",
      "execution_count": null,
      "metadata": {
        "colab": {
          "base_uri": "https://localhost:8080/"
        },
        "id": "h0xtvD7qZOZ_",
        "outputId": "d28e4d13-ac5a-4069-b0d8-767624d7728a"
      },
      "outputs": [
        {
          "output_type": "stream",
          "name": "stdout",
          "text": [
            "Collecting ultralytics\n",
            "  Downloading ultralytics-8.3.30-py3-none-any.whl.metadata (35 kB)\n",
            "Requirement already satisfied: numpy>=1.23.0 in /usr/local/lib/python3.10/dist-packages (from ultralytics) (1.26.4)\n",
            "Requirement already satisfied: matplotlib>=3.3.0 in /usr/local/lib/python3.10/dist-packages (from ultralytics) (3.8.0)\n",
            "Requirement already satisfied: opencv-python>=4.6.0 in /usr/local/lib/python3.10/dist-packages (from ultralytics) (4.10.0.84)\n",
            "Requirement already satisfied: pillow>=7.1.2 in /usr/local/lib/python3.10/dist-packages (from ultralytics) (11.0.0)\n",
            "Requirement already satisfied: pyyaml>=5.3.1 in /usr/local/lib/python3.10/dist-packages (from ultralytics) (6.0.2)\n",
            "Requirement already satisfied: requests>=2.23.0 in /usr/local/lib/python3.10/dist-packages (from ultralytics) (2.32.3)\n",
            "Requirement already satisfied: scipy>=1.4.1 in /usr/local/lib/python3.10/dist-packages (from ultralytics) (1.13.1)\n",
            "Requirement already satisfied: torch>=1.8.0 in /usr/local/lib/python3.10/dist-packages (from ultralytics) (2.5.0+cu121)\n",
            "Requirement already satisfied: torchvision>=0.9.0 in /usr/local/lib/python3.10/dist-packages (from ultralytics) (0.20.0+cu121)\n",
            "Requirement already satisfied: tqdm>=4.64.0 in /usr/local/lib/python3.10/dist-packages (from ultralytics) (4.66.6)\n",
            "Requirement already satisfied: psutil in /usr/local/lib/python3.10/dist-packages (from ultralytics) (5.9.5)\n",
            "Requirement already satisfied: py-cpuinfo in /usr/local/lib/python3.10/dist-packages (from ultralytics) (9.0.0)\n",
            "Requirement already satisfied: pandas>=1.1.4 in /usr/local/lib/python3.10/dist-packages (from ultralytics) (2.2.2)\n",
            "Requirement already satisfied: seaborn>=0.11.0 in /usr/local/lib/python3.10/dist-packages (from ultralytics) (0.13.2)\n",
            "Collecting ultralytics-thop>=2.0.0 (from ultralytics)\n",
            "  Downloading ultralytics_thop-2.0.11-py3-none-any.whl.metadata (9.4 kB)\n",
            "Requirement already satisfied: contourpy>=1.0.1 in /usr/local/lib/python3.10/dist-packages (from matplotlib>=3.3.0->ultralytics) (1.3.0)\n",
            "Requirement already satisfied: cycler>=0.10 in /usr/local/lib/python3.10/dist-packages (from matplotlib>=3.3.0->ultralytics) (0.12.1)\n",
            "Requirement already satisfied: fonttools>=4.22.0 in /usr/local/lib/python3.10/dist-packages (from matplotlib>=3.3.0->ultralytics) (4.54.1)\n",
            "Requirement already satisfied: kiwisolver>=1.0.1 in /usr/local/lib/python3.10/dist-packages (from matplotlib>=3.3.0->ultralytics) (1.4.7)\n",
            "Requirement already satisfied: packaging>=20.0 in /usr/local/lib/python3.10/dist-packages (from matplotlib>=3.3.0->ultralytics) (24.2)\n",
            "Requirement already satisfied: pyparsing>=2.3.1 in /usr/local/lib/python3.10/dist-packages (from matplotlib>=3.3.0->ultralytics) (3.2.0)\n",
            "Requirement already satisfied: python-dateutil>=2.7 in /usr/local/lib/python3.10/dist-packages (from matplotlib>=3.3.0->ultralytics) (2.8.2)\n",
            "Requirement already satisfied: pytz>=2020.1 in /usr/local/lib/python3.10/dist-packages (from pandas>=1.1.4->ultralytics) (2024.2)\n",
            "Requirement already satisfied: tzdata>=2022.7 in /usr/local/lib/python3.10/dist-packages (from pandas>=1.1.4->ultralytics) (2024.2)\n",
            "Requirement already satisfied: charset-normalizer<4,>=2 in /usr/local/lib/python3.10/dist-packages (from requests>=2.23.0->ultralytics) (3.4.0)\n",
            "Requirement already satisfied: idna<4,>=2.5 in /usr/local/lib/python3.10/dist-packages (from requests>=2.23.0->ultralytics) (3.10)\n",
            "Requirement already satisfied: urllib3<3,>=1.21.1 in /usr/local/lib/python3.10/dist-packages (from requests>=2.23.0->ultralytics) (2.2.3)\n",
            "Requirement already satisfied: certifi>=2017.4.17 in /usr/local/lib/python3.10/dist-packages (from requests>=2.23.0->ultralytics) (2024.8.30)\n",
            "Requirement already satisfied: filelock in /usr/local/lib/python3.10/dist-packages (from torch>=1.8.0->ultralytics) (3.16.1)\n",
            "Requirement already satisfied: typing-extensions>=4.8.0 in /usr/local/lib/python3.10/dist-packages (from torch>=1.8.0->ultralytics) (4.12.2)\n",
            "Requirement already satisfied: networkx in /usr/local/lib/python3.10/dist-packages (from torch>=1.8.0->ultralytics) (3.4.2)\n",
            "Requirement already satisfied: jinja2 in /usr/local/lib/python3.10/dist-packages (from torch>=1.8.0->ultralytics) (3.1.4)\n",
            "Requirement already satisfied: fsspec in /usr/local/lib/python3.10/dist-packages (from torch>=1.8.0->ultralytics) (2024.10.0)\n",
            "Requirement already satisfied: sympy==1.13.1 in /usr/local/lib/python3.10/dist-packages (from torch>=1.8.0->ultralytics) (1.13.1)\n",
            "Requirement already satisfied: mpmath<1.4,>=1.1.0 in /usr/local/lib/python3.10/dist-packages (from sympy==1.13.1->torch>=1.8.0->ultralytics) (1.3.0)\n",
            "Requirement already satisfied: six>=1.5 in /usr/local/lib/python3.10/dist-packages (from python-dateutil>=2.7->matplotlib>=3.3.0->ultralytics) (1.16.0)\n",
            "Requirement already satisfied: MarkupSafe>=2.0 in /usr/local/lib/python3.10/dist-packages (from jinja2->torch>=1.8.0->ultralytics) (3.0.2)\n",
            "Downloading ultralytics-8.3.30-py3-none-any.whl (885 kB)\n",
            "\u001b[2K   \u001b[90m━━━━━━━━━━━━━━━━━━━━━━━━━━━━━━━━━━━━━━━━\u001b[0m \u001b[32m885.9/885.9 kB\u001b[0m \u001b[31m22.5 MB/s\u001b[0m eta \u001b[36m0:00:00\u001b[0m\n",
            "\u001b[?25hDownloading ultralytics_thop-2.0.11-py3-none-any.whl (26 kB)\n",
            "Installing collected packages: ultralytics-thop, ultralytics\n",
            "Successfully installed ultralytics-8.3.30 ultralytics-thop-2.0.11\n"
          ]
        }
      ],
      "source": [
        "!pip install ultralytics"
      ]
    },
    {
      "cell_type": "code",
      "source": [
        "import torch\n",
        "print(\"CUDA доступен:\", torch.cuda.is_available())\n",
        "print(\"Количество GPU:\", torch.cuda.device_count())\n",
        "print(\"Название GPU:\", torch.cuda.get_device_name(0) if torch.cuda.is_available() else \"GPU не найдена\")"
      ],
      "metadata": {
        "colab": {
          "base_uri": "https://localhost:8080/"
        },
        "id": "cW6xqWwbZojn",
        "outputId": "4a5c3e78-292d-48d2-ff5f-f5d62b6e925a"
      },
      "execution_count": null,
      "outputs": [
        {
          "output_type": "stream",
          "name": "stdout",
          "text": [
            "CUDA доступен: True\n",
            "Количество GPU: 1\n",
            "Название GPU: Tesla T4\n"
          ]
        }
      ]
    },
    {
      "cell_type": "code",
      "source": [
        "from ultralytics import YOLO\n",
        "# Загрузите YOLOv8 модель для классификации\n",
        "model = YOLO('yolov8x-cls.pt')  # Выберите базовую модель; можно взять и другие модели (s, m, l, x)"
      ],
      "metadata": {
        "colab": {
          "base_uri": "https://localhost:8080/"
        },
        "id": "KgX7Gb00ZsQD",
        "outputId": "0295d828-2648-4795-cf1c-92e245324cc3"
      },
      "execution_count": null,
      "outputs": [
        {
          "output_type": "stream",
          "name": "stdout",
          "text": [
            "Creating new Ultralytics Settings v0.0.6 file ✅ \n",
            "View Ultralytics Settings with 'yolo settings' or at '/root/.config/Ultralytics/settings.json'\n",
            "Update Settings with 'yolo settings key=value', i.e. 'yolo settings runs_dir=path/to/dir'. For help see https://docs.ultralytics.com/quickstart/#ultralytics-settings.\n",
            "Downloading https://github.com/ultralytics/assets/releases/download/v8.3.0/yolov8x-cls.pt to 'yolov8x-cls.pt'...\n"
          ]
        },
        {
          "output_type": "stream",
          "name": "stderr",
          "text": [
            "100%|██████████| 110M/110M [00:02<00:00, 45.6MB/s]\n"
          ]
        }
      ]
    },
    {
      "cell_type": "code",
      "source": [
        "!pip install unrar\n",
        "!unrar x /content/meatFreshnessP_YOLO.rar"
      ],
      "metadata": {
        "colab": {
          "base_uri": "https://localhost:8080/"
        },
        "id": "YFGrhDqrbwOT",
        "outputId": "24f99be8-2a24-4c5b-b28e-71f97d3e0372"
      },
      "execution_count": null,
      "outputs": [
        {
          "output_type": "stream",
          "name": "stdout",
          "text": [
            "Requirement already satisfied: unrar in /usr/local/lib/python3.10/dist-packages (0.4)\n",
            "\n",
            "UNRAR 6.11 beta 1 freeware      Copyright (c) 1993-2022 Alexander Roshal\n",
            "\n",
            "\n",
            "Extracting from /content/meatFreshnessP_YOLO.rar\n",
            "\n",
            "Creating    meatFreshnessP_YOLO                                       OK\n",
            "Creating    meatFreshnessP_YOLO/train                                 OK\n",
            "Creating    meatFreshnessP_YOLO/train/FRESH                           OK\n",
            "Extracting  meatFreshnessP_YOLO/train/FRESH/FRESH_BLUE_ADD_cropped_1.HP.png     \b\b\b\b  0%\b\b\b\b\b  OK \n",
            "Extracting  meatFreshnessP_YOLO/train/FRESH/FRESH_BLUE_ADD_cropped_10.PV.png     \b\b\b\b  0%\b\b\b\b\b  OK \n",
            "Extracting  meatFreshnessP_YOLO/train/FRESH/FRESH_BLUE_ADD_cropped_11.HV.png     \b\b\b\b  0%\b\b\b\b\b  OK \n",
            "Extracting  meatFreshnessP_YOLO/train/FRESH/FRESH_BLUE_ADD_cropped_12.QV.png     \b\b\b\b  1%\b\b\b\b\b  OK \n",
            "Extracting  meatFreshnessP_YOLO/train/FRESH/FRESH_BLUE_ADD_cropped_13.QQ.png     \b\b\b\b  1%\b\b\b\b\b  OK \n",
            "Extracting  meatFreshnessP_YOLO/train/FRESH/FRESH_BLUE_ADD_cropped_14.HQ.png     \b\b\b\b  1%\b\b\b\b\b  OK \n",
            "Extracting  meatFreshnessP_YOLO/train/FRESH/FRESH_BLUE_ADD_cropped_15.PQ.png     \b\b\b\b  1%\b\b\b\b\b  OK \n",
            "Extracting  meatFreshnessP_YOLO/train/FRESH/FRESH_BLUE_ADD_cropped_16.VQ.png     \b\b\b\b  1%\b\b\b\b\b  OK \n",
            "Extracting  meatFreshnessP_YOLO/train/FRESH/FRESH_BLUE_ADD_cropped_17.RQ.png     \b\b\b\b  2%\b\b\b\b\b  OK \n",
            "Extracting  meatFreshnessP_YOLO/train/FRESH/FRESH_BLUE_ADD_cropped_19.LH.png     \b\b\b\b  2%\b\b\b\b\b  OK \n",
            "Extracting  meatFreshnessP_YOLO/train/FRESH/FRESH_BLUE_ADD_cropped_2.PP.png     \b\b\b\b  2%\b\b\b\b\b  OK \n",
            "Extracting  meatFreshnessP_YOLO/train/FRESH/FRESH_BLUE_ADD_cropped_20.RH.png     \b\b\b\b  3%\b\b\b\b\b  OK \n",
            "Extracting  meatFreshnessP_YOLO/train/FRESH/FRESH_BLUE_ADD_cropped_21.HH.png     \b\b\b\b  3%\b\b\b\b\b  OK \n",
            "Extracting  meatFreshnessP_YOLO/train/FRESH/FRESH_BLUE_ADD_cropped_22.QH.png     \b\b\b\b  3%\b\b\b\b\b  OK \n",
            "Extracting  meatFreshnessP_YOLO/train/FRESH/FRESH_BLUE_ADD_cropped_25.RR.png     \b\b\b\b  4%\b\b\b\b\b  OK \n",
            "Extracting  meatFreshnessP_YOLO/train/FRESH/FRESH_BLUE_ADD_cropped_27.HR.png     \b\b\b\b  4%\b\b\b\b\b  OK \n",
            "Extracting  meatFreshnessP_YOLO/train/FRESH/FRESH_BLUE_ADD_cropped_28.QR.png     \b\b\b\b  4%\b\b\b\b\b  OK \n",
            "Extracting  meatFreshnessP_YOLO/train/FRESH/FRESH_BLUE_ADD_cropped_29.PR.png     \b\b\b\b  4%\b\b\b\b\b  OK \n",
            "Extracting  meatFreshnessP_YOLO/train/FRESH/FRESH_BLUE_ADD_cropped_3.VP.png     \b\b\b\b  5%\b\b\b\b\b  OK \n",
            "Extracting  meatFreshnessP_YOLO/train/FRESH/FRESH_BLUE_ADD_cropped_30.VR.png     \b\b\b\b  5%\b\b\b\b\b  OK \n",
            "Extracting  meatFreshnessP_YOLO/train/FRESH/FRESH_BLUE_ADD_cropped_31.VL.png     \b\b\b\b  5%\b\b\b\b\b  OK \n",
            "Extracting  meatFreshnessP_YOLO/train/FRESH/FRESH_BLUE_ADD_cropped_33.HL.png     \b\b\b\b  6%\b\b\b\b\b  OK \n",
            "Extracting  meatFreshnessP_YOLO/train/FRESH/FRESH_BLUE_ADD_cropped_34.QL.png     \b\b\b\b  6%\b\b\b\b\b  OK \n",
            "Extracting  meatFreshnessP_YOLO/train/FRESH/FRESH_BLUE_ADD_cropped_35.RL.png     \b\b\b\b  6%\b\b\b\b\b  OK \n",
            "Extracting  meatFreshnessP_YOLO/train/FRESH/FRESH_BLUE_ADD_cropped_36.LL.png     \b\b\b\b  7%\b\b\b\b\b  OK \n",
            "Extracting  meatFreshnessP_YOLO/train/FRESH/FRESH_BLUE_ADD_cropped_5.RP.png     \b\b\b\b  7%\b\b\b\b\b  OK \n",
            "Extracting  meatFreshnessP_YOLO/train/FRESH/FRESH_BLUE_ADD_cropped_6.LP.png     \b\b\b\b  7%\b\b\b\b\b  OK \n",
            "Extracting  meatFreshnessP_YOLO/train/FRESH/FRESH_BLUE_ADD_cropped_7.LV.png     \b\b\b\b  8%\b\b\b\b\b  OK \n",
            "Extracting  meatFreshnessP_YOLO/train/FRESH/FRESH_BLUE_ADD_cropped_8.RV.png     \b\b\b\b  8%\b\b\b\b\b  OK \n",
            "Extracting  meatFreshnessP_YOLO/train/FRESH/FRESH_BLUE_ADD_cropped_9.VV.png     \b\b\b\b  8%\b\b\b\b\b  OK \n",
            "Extracting  meatFreshnessP_YOLO/train/FRESH/FRESH_BLUE_cropped_1.VH.png     \b\b\b\b  8%\b\b\b\b\b  OK \n",
            "Extracting  meatFreshnessP_YOLO/train/FRESH/FRESH_BLUE_cropped_10.VQ.png     \b\b\b\b  8%\b\b\b\b\b  OK \n",
            "Extracting  meatFreshnessP_YOLO/train/FRESH/FRESH_BLUE_cropped_11.RQ.png     \b\b\b\b  9%\b\b\b\b\b  OK \n",
            "Extracting  meatFreshnessP_YOLO/train/FRESH/FRESH_BLUE_cropped_12.LQ.png     \b\b\b\b  9%\b\b\b\b\b  OK \n",
            "Extracting  meatFreshnessP_YOLO/train/FRESH/FRESH_BLUE_cropped_13.HP.png     \b\b\b\b  9%\b\b\b\b\b  OK \n",
            "Extracting  meatFreshnessP_YOLO/train/FRESH/FRESH_BLUE_cropped_14.PP.png     \b\b\b\b 10%\b\b\b\b\b  OK \n",
            "Extracting  meatFreshnessP_YOLO/train/FRESH/FRESH_BLUE_cropped_15.VP.png     \b\b\b\b 10%\b\b\b\b\b  OK \n",
            "Extracting  meatFreshnessP_YOLO/train/FRESH/FRESH_BLUE_cropped_16.QP.png     \b\b\b\b 10%\b\b\b\b\b  OK \n",
            "Extracting  meatFreshnessP_YOLO/train/FRESH/FRESH_BLUE_cropped_17.RP.png     \b\b\b\b 10%\b\b\b\b\b  OK \n",
            "Extracting  meatFreshnessP_YOLO/train/FRESH/FRESH_BLUE_cropped_19.LV.png     \b\b\b\b 11%\b\b\b\b\b  OK \n",
            "Extracting  meatFreshnessP_YOLO/train/FRESH/FRESH_BLUE_cropped_2.HH.png     \b\b\b\b 11%\b\b\b\b\b  OK \n",
            "Extracting  meatFreshnessP_YOLO/train/FRESH/FRESH_BLUE_cropped_20.RV.png     \b\b\b\b 11%\b\b\b\b\b  OK \n",
            "Extracting  meatFreshnessP_YOLO/train/FRESH/FRESH_BLUE_cropped_21.VV.png     \b\b\b\b 12%\b\b\b\b\b  OK \n",
            "Extracting  meatFreshnessP_YOLO/train/FRESH/FRESH_BLUE_cropped_22.PV.png     \b\b\b\b 12%\b\b\b\b\b  OK \n",
            "Extracting  meatFreshnessP_YOLO/train/FRESH/FRESH_BLUE_cropped_23.HV.png     \b\b\b\b 12%\b\b\b\b\b  OK \n",
            "Extracting  meatFreshnessP_YOLO/train/FRESH/FRESH_BLUE_cropped_24.QV.png     \b\b\b\b 12%\b\b\b\b\b  OK \n",
            "Extracting  meatFreshnessP_YOLO/train/FRESH/FRESH_BLUE_cropped_25.RR.png     \b\b\b\b 13%\b\b\b\b\b  OK \n",
            "Extracting  meatFreshnessP_YOLO/train/FRESH/FRESH_BLUE_cropped_26.LR.png     \b\b\b\b 13%\b\b\b\b\b  OK \n",
            "Extracting  meatFreshnessP_YOLO/train/FRESH/FRESH_BLUE_cropped_28.QR.png     \b\b\b\b 13%\b\b\b\b\b  OK \n",
            "Extracting  meatFreshnessP_YOLO/train/FRESH/FRESH_BLUE_cropped_29.PR.png     \b\b\b\b 13%\b\b\b\b\b  OK \n",
            "Extracting  meatFreshnessP_YOLO/train/FRESH/FRESH_BLUE_cropped_3.PH.png     \b\b\b\b 13%\b\b\b\b\b  OK \n",
            "Extracting  meatFreshnessP_YOLO/train/FRESH/FRESH_BLUE_cropped_30.VR.png     \b\b\b\b 14%\b\b\b\b\b  OK \n",
            "Extracting  meatFreshnessP_YOLO/train/FRESH/FRESH_BLUE_cropped_31.VL.png     \b\b\b\b 14%\b\b\b\b\b  OK \n",
            "Extracting  meatFreshnessP_YOLO/train/FRESH/FRESH_BLUE_cropped_32.PL.png     \b\b\b\b 14%\b\b\b\b\b  OK \n",
            "Extracting  meatFreshnessP_YOLO/train/FRESH/FRESH_BLUE_cropped_33.HL.png     \b\b\b\b 14%\b\b\b\b\b  OK \n",
            "Extracting  meatFreshnessP_YOLO/train/FRESH/FRESH_BLUE_cropped_34.QL.png     \b\b\b\b 15%\b\b\b\b\b  OK \n",
            "Extracting  meatFreshnessP_YOLO/train/FRESH/FRESH_BLUE_cropped_35.RL.png     \b\b\b\b 15%\b\b\b\b\b  OK \n",
            "Extracting  meatFreshnessP_YOLO/train/FRESH/FRESH_BLUE_cropped_36.LL.png     \b\b\b\b 15%\b\b\b\b\b  OK \n",
            "Extracting  meatFreshnessP_YOLO/train/FRESH/FRESH_BLUE_cropped_6.LH.png     \b\b\b\b 16%\b\b\b\b\b  OK \n",
            "Extracting  meatFreshnessP_YOLO/train/FRESH/FRESH_BLUE_cropped_7.HQ.png     \b\b\b\b 16%\b\b\b\b\b  OK \n",
            "Extracting  meatFreshnessP_YOLO/train/FRESH/FRESH_BLUE_cropped_8.QQ.png     \b\b\b\b 16%\b\b\b\b\b  OK \n",
            "Extracting  meatFreshnessP_YOLO/train/FRESH/FRESH_BLUE_cropped_9.PQ.png     \b\b\b\b 16%\b\b\b\b\b  OK \n",
            "Extracting  meatFreshnessP_YOLO/train/FRESH/FRESH_GREEN_ADD_cropped_1.HP.png     \b\b\b\b 17%\b\b\b\b\b  OK \n",
            "Extracting  meatFreshnessP_YOLO/train/FRESH/FRESH_GREEN_ADD_cropped_11.HV.png     \b\b\b\b 17%\b\b\b\b\b  OK \n",
            "Extracting  meatFreshnessP_YOLO/train/FRESH/FRESH_GREEN_ADD_cropped_13.QQ.png     \b\b\b\b 18%\b\b\b\b\b  OK \n",
            "Extracting  meatFreshnessP_YOLO/train/FRESH/FRESH_GREEN_ADD_cropped_14.HQ.png     \b\b\b\b 18%\b\b\b\b\b  OK \n",
            "Extracting  meatFreshnessP_YOLO/train/FRESH/FRESH_GREEN_ADD_cropped_15.PQ.png     \b\b\b\b 18%\b\b\b\b\b  OK \n",
            "Extracting  meatFreshnessP_YOLO/train/FRESH/FRESH_GREEN_ADD_cropped_17.RQ.png     \b\b\b\b 19%\b\b\b\b\b  OK \n",
            "Extracting  meatFreshnessP_YOLO/train/FRESH/FRESH_GREEN_ADD_cropped_18.LQ.png     \b\b\b\b 19%\b\b\b\b\b  OK \n",
            "Extracting  meatFreshnessP_YOLO/train/FRESH/FRESH_GREEN_ADD_cropped_19.LH.png     \b\b\b\b 20%\b\b\b\b\b  OK \n",
            "Extracting  meatFreshnessP_YOLO/train/FRESH/FRESH_GREEN_ADD_cropped_2.PP.png     \b\b\b\b 20%\b\b\b\b\b  OK \n",
            "Extracting  meatFreshnessP_YOLO/train/FRESH/FRESH_GREEN_ADD_cropped_20.RH.png     \b\b\b\b 20%\b\b\b\b\b  OK \n",
            "Extracting  meatFreshnessP_YOLO/train/FRESH/FRESH_GREEN_ADD_cropped_21.HH.png     \b\b\b\b 21%\b\b\b\b\b  OK \n",
            "Extracting  meatFreshnessP_YOLO/train/FRESH/FRESH_GREEN_ADD_cropped_22.QH.png     \b\b\b\b 21%\b\b\b\b\b  OK \n",
            "Extracting  meatFreshnessP_YOLO/train/FRESH/FRESH_GREEN_ADD_cropped_23.PH.png     \b\b\b\b 22%\b\b\b\b\b  OK \n",
            "Extracting  meatFreshnessP_YOLO/train/FRESH/FRESH_GREEN_ADD_cropped_24.VH.png     \b\b\b\b 22%\b\b\b\b\b  OK \n",
            "Extracting  meatFreshnessP_YOLO/train/FRESH/FRESH_GREEN_ADD_cropped_25.RR.png     \b\b\b\b 23%\b\b\b\b\b  OK \n",
            "Extracting  meatFreshnessP_YOLO/train/FRESH/FRESH_GREEN_ADD_cropped_26.LR.png     \b\b\b\b 23%\b\b\b\b\b  OK \n",
            "Extracting  meatFreshnessP_YOLO/train/FRESH/FRESH_GREEN_ADD_cropped_27.HR.png     \b\b\b\b 23%\b\b\b\b\b  OK \n",
            "Extracting  meatFreshnessP_YOLO/train/FRESH/FRESH_GREEN_ADD_cropped_28.QR.png     \b\b\b\b 24%\b\b\b\b\b  OK \n",
            "Extracting  meatFreshnessP_YOLO/train/FRESH/FRESH_GREEN_ADD_cropped_3.VP.png     \b\b\b\b 24%\b\b\b\b\b  OK \n",
            "Extracting  meatFreshnessP_YOLO/train/FRESH/FRESH_GREEN_ADD_cropped_30.VR.png     \b\b\b\b 25%\b\b\b\b\b  OK \n",
            "Extracting  meatFreshnessP_YOLO/train/FRESH/FRESH_GREEN_ADD_cropped_32.PL.png     \b\b\b\b 25%\b\b\b\b\b  OK \n",
            "Extracting  meatFreshnessP_YOLO/train/FRESH/FRESH_GREEN_ADD_cropped_34.QL.png     \b\b\b\b 25%\b\b\b\b\b  OK \n",
            "Extracting  meatFreshnessP_YOLO/train/FRESH/FRESH_GREEN_ADD_cropped_35.RL.png     \b\b\b\b 26%\b\b\b\b\b  OK \n",
            "Extracting  meatFreshnessP_YOLO/train/FRESH/FRESH_GREEN_ADD_cropped_36.LL.png     \b\b\b\b 26%\b\b\b\b\b  OK \n",
            "Extracting  meatFreshnessP_YOLO/train/FRESH/FRESH_GREEN_ADD_cropped_4.QP.png     \b\b\b\b 27%\b\b\b\b\b  OK \n",
            "Extracting  meatFreshnessP_YOLO/train/FRESH/FRESH_GREEN_ADD_cropped_5.RP.png     \b\b\b\b 27%\b\b\b\b\b  OK \n",
            "Extracting  meatFreshnessP_YOLO/train/FRESH/FRESH_GREEN_ADD_cropped_7.LV.png     \b\b\b\b 28%\b\b\b\b\b  OK \n",
            "Extracting  meatFreshnessP_YOLO/train/FRESH/FRESH_GREEN_ADD_cropped_8.RV.png     \b\b\b\b 28%\b\b\b\b\b  OK \n",
            "Extracting  meatFreshnessP_YOLO/train/FRESH/FRESH_GREEN_ADD_cropped_9.VV.png     \b\b\b\b 28%\b\b\b\b\b  OK \n",
            "Extracting  meatFreshnessP_YOLO/train/FRESH/FRESH_GREEN_cropped_10.PV.png     \b\b\b\b 29%\b\b\b\b\b  OK \n",
            "Extracting  meatFreshnessP_YOLO/train/FRESH/FRESH_GREEN_cropped_11.HV.png     \b\b\b\b 29%\b\b\b\b\b  OK \n",
            "Extracting  meatFreshnessP_YOLO/train/FRESH/FRESH_GREEN_cropped_14.HQ.png     \b\b\b\b 29%\b\b\b\b\b  OK \n",
            "Extracting  meatFreshnessP_YOLO/train/FRESH/FRESH_GREEN_cropped_15.PQ.png     \b\b\b\b 29%\b\b\b\b\b  OK \n",
            "Extracting  meatFreshnessP_YOLO/train/FRESH/FRESH_GREEN_cropped_16.VQ.png     \b\b\b\b 30%\b\b\b\b\b  OK \n",
            "Extracting  meatFreshnessP_YOLO/train/FRESH/FRESH_GREEN_cropped_17.RQ.png     \b\b\b\b 30%\b\b\b\b\b  OK \n",
            "Extracting  meatFreshnessP_YOLO/train/FRESH/FRESH_GREEN_cropped_2.PP.png     \b\b\b\b 30%\b\b\b\b\b  OK \n",
            "Extracting  meatFreshnessP_YOLO/train/FRESH/FRESH_GREEN_cropped_20.RH.png     \b\b\b\b 31%\b\b\b\b\b  OK \n",
            "Extracting  meatFreshnessP_YOLO/train/FRESH/FRESH_GREEN_cropped_21.HH.png     \b\b\b\b 31%\b\b\b\b\b  OK \n",
            "Extracting  meatFreshnessP_YOLO/train/FRESH/FRESH_GREEN_cropped_22.QH.png     \b\b\b\b 31%\b\b\b\b\b  OK \n",
            "Extracting  meatFreshnessP_YOLO/train/FRESH/FRESH_GREEN_cropped_23.PH.png     \b\b\b\b 31%\b\b\b\b\b  OK \n",
            "Extracting  meatFreshnessP_YOLO/train/FRESH/FRESH_GREEN_cropped_25.RR.png     \b\b\b\b 31%\b\b\b\b\b  OK \n",
            "Extracting  meatFreshnessP_YOLO/train/FRESH/FRESH_GREEN_cropped_26.LR.png     \b\b\b\b 31%\b\b\b\b\b  OK \n",
            "Extracting  meatFreshnessP_YOLO/train/FRESH/FRESH_GREEN_cropped_27.HR.png     \b\b\b\b 32%\b\b\b\b\b  OK \n",
            "Extracting  meatFreshnessP_YOLO/train/FRESH/FRESH_GREEN_cropped_29.PR.png     \b\b\b\b 32%\b\b\b\b\b  OK \n",
            "Extracting  meatFreshnessP_YOLO/train/FRESH/FRESH_GREEN_cropped_3.VP.png     \b\b\b\b 32%\b\b\b\b\b  OK \n",
            "Extracting  meatFreshnessP_YOLO/train/FRESH/FRESH_GREEN_cropped_30.VR.png     \b\b\b\b 32%\b\b\b\b\b  OK \n",
            "Extracting  meatFreshnessP_YOLO/train/FRESH/FRESH_GREEN_cropped_31.VL.png     \b\b\b\b 33%\b\b\b\b\b  OK \n",
            "Extracting  meatFreshnessP_YOLO/train/FRESH/FRESH_GREEN_cropped_32.PL.png     \b\b\b\b 33%\b\b\b\b\b  OK \n",
            "Extracting  meatFreshnessP_YOLO/train/FRESH/FRESH_GREEN_cropped_33.HL.png     \b\b\b\b 33%\b\b\b\b\b  OK \n",
            "Extracting  meatFreshnessP_YOLO/train/FRESH/FRESH_GREEN_cropped_35.RL.png     \b\b\b\b 33%\b\b\b\b\b  OK \n",
            "Extracting  meatFreshnessP_YOLO/train/FRESH/FRESH_GREEN_cropped_36.LL.png     \b\b\b\b 34%\b\b\b\b\b  OK \n",
            "Extracting  meatFreshnessP_YOLO/train/FRESH/FRESH_GREEN_cropped_6.LP.png     \b\b\b\b 34%\b\b\b\b\b  OK \n",
            "Extracting  meatFreshnessP_YOLO/train/FRESH/FRESH_GREEN_cropped_7.LV.png     \b\b\b\b 34%\b\b\b\b\b  OK \n",
            "Extracting  meatFreshnessP_YOLO/train/FRESH/FRESH_GREEN_cropped_9.VV.png     \b\b\b\b 34%\b\b\b\b\b  OK \n",
            "Extracting  meatFreshnessP_YOLO/train/FRESH/FRESH_RED_ADD_cropped_1.HP.png     \b\b\b\b 35%\b\b\b\b\b  OK \n",
            "Extracting  meatFreshnessP_YOLO/train/FRESH/FRESH_RED_ADD_cropped_10.PV.png     \b\b\b\b 35%\b\b\b\b\b  OK \n",
            "Extracting  meatFreshnessP_YOLO/train/FRESH/FRESH_RED_ADD_cropped_12.QV.png     \b\b\b\b 35%\b\b\b\b\b  OK \n",
            "Extracting  meatFreshnessP_YOLO/train/FRESH/FRESH_RED_ADD_cropped_13.QQ.png     \b\b\b\b 36%\b\b\b\b\b  OK \n",
            "Extracting  meatFreshnessP_YOLO/train/FRESH/FRESH_RED_ADD_cropped_14.HQ.png     \b\b\b\b 36%\b\b\b\b\b  OK \n",
            "Extracting  meatFreshnessP_YOLO/train/FRESH/FRESH_RED_ADD_cropped_15.PQ.png     \b\b\b\b 36%\b\b\b\b\b  OK \n",
            "Extracting  meatFreshnessP_YOLO/train/FRESH/FRESH_RED_ADD_cropped_16.VQ.png     \b\b\b\b 36%\b\b\b\b\b  OK \n",
            "Extracting  meatFreshnessP_YOLO/train/FRESH/FRESH_RED_ADD_cropped_17.RQ.png     \b\b\b\b 36%\b\b\b\b\b  OK \n",
            "Extracting  meatFreshnessP_YOLO/train/FRESH/FRESH_RED_ADD_cropped_18.LQ.png     \b\b\b\b 37%\b\b\b\b\b  OK \n",
            "Extracting  meatFreshnessP_YOLO/train/FRESH/FRESH_RED_ADD_cropped_2.PP.png     \b\b\b\b 37%\b\b\b\b\b  OK \n",
            "Extracting  meatFreshnessP_YOLO/train/FRESH/FRESH_RED_ADD_cropped_20.RH.png     \b\b\b\b 37%\b\b\b\b\b  OK \n",
            "Extracting  meatFreshnessP_YOLO/train/FRESH/FRESH_RED_ADD_cropped_21.HH.png     \b\b\b\b 38%\b\b\b\b\b  OK \n",
            "Extracting  meatFreshnessP_YOLO/train/FRESH/FRESH_RED_ADD_cropped_22.QH.png     \b\b\b\b 38%\b\b\b\b\b  OK \n",
            "Extracting  meatFreshnessP_YOLO/train/FRESH/FRESH_RED_ADD_cropped_24.VH.png     \b\b\b\b 38%\b\b\b\b\b  OK \n",
            "Extracting  meatFreshnessP_YOLO/train/FRESH/FRESH_RED_ADD_cropped_26.LR.png     \b\b\b\b 38%\b\b\b\b\b  OK \n",
            "Extracting  meatFreshnessP_YOLO/train/FRESH/FRESH_RED_ADD_cropped_27.HR.png     \b\b\b\b 39%\b\b\b\b\b  OK \n",
            "Extracting  meatFreshnessP_YOLO/train/FRESH/FRESH_RED_ADD_cropped_28.QR.png     \b\b\b\b 39%\b\b\b\b\b  OK \n",
            "Extracting  meatFreshnessP_YOLO/train/FRESH/FRESH_RED_ADD_cropped_29.PR.png     \b\b\b\b 39%\b\b\b\b\b  OK \n",
            "Extracting  meatFreshnessP_YOLO/train/FRESH/FRESH_RED_ADD_cropped_3.VP.png     \b\b\b\b 39%\b\b\b\b\b  OK \n",
            "Extracting  meatFreshnessP_YOLO/train/FRESH/FRESH_RED_ADD_cropped_30.VR.png     \b\b\b\b 39%\b\b\b\b\b  OK \n",
            "Extracting  meatFreshnessP_YOLO/train/FRESH/FRESH_RED_ADD_cropped_31.VL.png     \b\b\b\b 39%\b\b\b\b\b  OK \n",
            "Extracting  meatFreshnessP_YOLO/train/FRESH/FRESH_RED_ADD_cropped_32.PL.png     \b\b\b\b 40%\b\b\b\b\b  OK \n",
            "Extracting  meatFreshnessP_YOLO/train/FRESH/FRESH_RED_ADD_cropped_33.HL.png     \b\b\b\b 40%\b\b\b\b\b  OK \n",
            "Extracting  meatFreshnessP_YOLO/train/FRESH/FRESH_RED_ADD_cropped_34.QL.png     \b\b\b\b 40%\b\b\b\b\b  OK \n",
            "Extracting  meatFreshnessP_YOLO/train/FRESH/FRESH_RED_ADD_cropped_36.LL.png     \b\b\b\b 41%\b\b\b\b\b  OK \n",
            "Extracting  meatFreshnessP_YOLO/train/FRESH/FRESH_RED_ADD_cropped_4.QP.png     \b\b\b\b 41%\b\b\b\b\b  OK \n",
            "Extracting  meatFreshnessP_YOLO/train/FRESH/FRESH_RED_ADD_cropped_5.RP.png     \b\b\b\b 41%\b\b\b\b\b  OK \n",
            "Extracting  meatFreshnessP_YOLO/train/FRESH/FRESH_RED_ADD_cropped_8.RV.png     \b\b\b\b 42%\b\b\b\b\b  OK \n",
            "Extracting  meatFreshnessP_YOLO/train/FRESH/FRESH_RED_ADD_cropped_9.VV.png     \b\b\b\b 42%\b\b\b\b\b  OK \n",
            "Extracting  meatFreshnessP_YOLO/train/FRESH/FRESH_RED_cropped_1.HP.png     \b\b\b\b 42%\b\b\b\b\b  OK \n",
            "Extracting  meatFreshnessP_YOLO/train/FRESH/FRESH_RED_cropped_10.PV.png     \b\b\b\b 42%\b\b\b\b\b  OK \n",
            "Extracting  meatFreshnessP_YOLO/train/FRESH/FRESH_RED_cropped_12.QV.png     \b\b\b\b 43%\b\b\b\b\b  OK \n",
            "Extracting  meatFreshnessP_YOLO/train/FRESH/FRESH_RED_cropped_14.HQ.png     \b\b\b\b 43%\b\b\b\b\b  OK \n",
            "Extracting  meatFreshnessP_YOLO/train/FRESH/FRESH_RED_cropped_16,VQ.png     \b\b\b\b 43%\b\b\b\b\b  OK \n",
            "Extracting  meatFreshnessP_YOLO/train/FRESH/FRESH_RED_cropped_17.RQ.png     \b\b\b\b 43%\b\b\b\b\b  OK \n",
            "Extracting  meatFreshnessP_YOLO/train/FRESH/FRESH_RED_cropped_18.LQ.png     \b\b\b\b 43%\b\b\b\b\b  OK \n",
            "Extracting  meatFreshnessP_YOLO/train/FRESH/FRESH_RED_cropped_2.PP.png     \b\b\b\b 44%\b\b\b\b\b  OK \n",
            "Extracting  meatFreshnessP_YOLO/train/FRESH/FRESH_RED_cropped_21.HH.png     \b\b\b\b 44%\b\b\b\b\b  OK \n",
            "Extracting  meatFreshnessP_YOLO/train/FRESH/FRESH_RED_cropped_22.QH.png     \b\b\b\b 44%\b\b\b\b\b  OK \n",
            "Extracting  meatFreshnessP_YOLO/train/FRESH/FRESH_RED_cropped_23.PH.png     \b\b\b\b 44%\b\b\b\b\b  OK \n",
            "Extracting  meatFreshnessP_YOLO/train/FRESH/FRESH_RED_cropped_24.VH.png     \b\b\b\b 45%\b\b\b\b\b  OK \n",
            "Extracting  meatFreshnessP_YOLO/train/FRESH/FRESH_RED_cropped_25.RR.png     \b\b\b\b 45%\b\b\b\b\b  OK \n",
            "Extracting  meatFreshnessP_YOLO/train/FRESH/FRESH_RED_cropped_26.LR.png     \b\b\b\b 45%\b\b\b\b\b  OK \n",
            "Extracting  meatFreshnessP_YOLO/train/FRESH/FRESH_RED_cropped_28.QR.png     \b\b\b\b 46%\b\b\b\b\b  OK \n",
            "Extracting  meatFreshnessP_YOLO/train/FRESH/FRESH_RED_cropped_3.VP.png     \b\b\b\b 46%\b\b\b\b\b  OK \n",
            "Extracting  meatFreshnessP_YOLO/train/FRESH/FRESH_RED_cropped_30.VR.png     \b\b\b\b 46%\b\b\b\b\b  OK \n",
            "Extracting  meatFreshnessP_YOLO/train/FRESH/FRESH_RED_cropped_31.VL.png     \b\b\b\b 46%\b\b\b\b\b  OK \n",
            "Extracting  meatFreshnessP_YOLO/train/FRESH/FRESH_RED_cropped_33.HL.png     \b\b\b\b 46%\b\b\b\b\b  OK \n",
            "Extracting  meatFreshnessP_YOLO/train/FRESH/FRESH_RED_cropped_34.QL.png     \b\b\b\b 47%\b\b\b\b\b  OK \n",
            "Extracting  meatFreshnessP_YOLO/train/FRESH/FRESH_RED_cropped_35.RL.png     \b\b\b\b 47%\b\b\b\b\b  OK \n",
            "Extracting  meatFreshnessP_YOLO/train/FRESH/FRESH_RED_cropped_36.LL.png     \b\b\b\b 47%\b\b\b\b\b  OK \n",
            "Extracting  meatFreshnessP_YOLO/train/FRESH/FRESH_RED_cropped_4.QP.png     \b\b\b\b 48%\b\b\b\b\b  OK \n",
            "Extracting  meatFreshnessP_YOLO/train/FRESH/FRESH_RED_cropped_5.RP.png     \b\b\b\b 48%\b\b\b\b\b  OK \n",
            "Extracting  meatFreshnessP_YOLO/train/FRESH/FRESH_RED_cropped_6.LP.png     \b\b\b\b 48%\b\b\b\b\b  OK \n",
            "Extracting  meatFreshnessP_YOLO/train/FRESH/FRESH_RED_cropped_8.RV.png     \b\b\b\b 48%\b\b\b\b\b  OK \n",
            "Extracting  meatFreshnessP_YOLO/train/FRESH/FRESH_RED_cropped_9.VV.png     \b\b\b\b 49%\b\b\b\b\b  OK \n",
            "Creating    meatFreshnessP_YOLO/train/HALF                            OK\n",
            "Extracting  meatFreshnessP_YOLO/train/HALF/HALF_BLUE_cropped_10.PV.png     \b\b\b\b 49%\b\b\b\b\b  OK \n",
            "Extracting  meatFreshnessP_YOLO/train/HALF/HALF_BLUE_cropped_11.HV.png     \b\b\b\b 49%\b\b\b\b\b  OK \n",
            "Extracting  meatFreshnessP_YOLO/train/HALF/HALF_BLUE_cropped_12.QV.png     \b\b\b\b 49%\b\b\b\b\b  OK \n",
            "Extracting  meatFreshnessP_YOLO/train/HALF/HALF_BLUE_cropped_14.HQ.png     \b\b\b\b 49%\b\b\b\b\b  OK \n",
            "Extracting  meatFreshnessP_YOLO/train/HALF/HALF_BLUE_cropped_15.PQ.png     \b\b\b\b 50%\b\b\b\b\b  OK \n",
            "Extracting  meatFreshnessP_YOLO/train/HALF/HALF_BLUE_cropped_16.VQ.png     \b\b\b\b 50%\b\b\b\b\b  OK \n",
            "Extracting  meatFreshnessP_YOLO/train/HALF/HALF_BLUE_cropped_17.RQ.png     \b\b\b\b 50%\b\b\b\b\b  OK \n",
            "Extracting  meatFreshnessP_YOLO/train/HALF/HALF_BLUE_cropped_18.LQ.png     \b\b\b\b 50%\b\b\b\b\b  OK \n",
            "Extracting  meatFreshnessP_YOLO/train/HALF/HALF_BLUE_cropped_2.PP.png     \b\b\b\b 51%\b\b\b\b\b  OK \n",
            "Extracting  meatFreshnessP_YOLO/train/HALF/HALF_BLUE_cropped_21.HH.png     \b\b\b\b 51%\b\b\b\b\b  OK \n",
            "Extracting  meatFreshnessP_YOLO/train/HALF/HALF_BLUE_cropped_22.QH.png     \b\b\b\b 51%\b\b\b\b\b  OK \n",
            "Extracting  meatFreshnessP_YOLO/train/HALF/HALF_BLUE_cropped_23.PH.png     \b\b\b\b 51%\b\b\b\b\b  OK \n",
            "Extracting  meatFreshnessP_YOLO/train/HALF/HALF_BLUE_cropped_24.VH.png     \b\b\b\b 52%\b\b\b\b\b  OK \n",
            "Extracting  meatFreshnessP_YOLO/train/HALF/HALF_BLUE_cropped_25.RR.png     \b\b\b\b 52%\b\b\b\b\b  OK \n",
            "Extracting  meatFreshnessP_YOLO/train/HALF/HALF_BLUE_cropped_27.HR.png     \b\b\b\b 52%\b\b\b\b\b  OK \n",
            "Extracting  meatFreshnessP_YOLO/train/HALF/HALF_BLUE_cropped_28.QR.png     \b\b\b\b 52%\b\b\b\b\b  OK \n",
            "Extracting  meatFreshnessP_YOLO/train/HALF/HALF_BLUE_cropped_29.PR.png     \b\b\b\b 52%\b\b\b\b\b  OK \n",
            "Extracting  meatFreshnessP_YOLO/train/HALF/HALF_BLUE_cropped_30.VR.png     \b\b\b\b 53%\b\b\b\b\b  OK \n",
            "Extracting  meatFreshnessP_YOLO/train/HALF/HALF_BLUE_cropped_31.VL.png     \b\b\b\b 53%\b\b\b\b\b  OK \n",
            "Extracting  meatFreshnessP_YOLO/train/HALF/HALF_BLUE_cropped_32.PL.png     \b\b\b\b 53%\b\b\b\b\b  OK \n",
            "Extracting  meatFreshnessP_YOLO/train/HALF/HALF_BLUE_cropped_34.QL.png     \b\b\b\b 53%\b\b\b\b\b  OK \n",
            "Extracting  meatFreshnessP_YOLO/train/HALF/HALF_BLUE_cropped_36.LL.png     \b\b\b\b 54%\b\b\b\b\b  OK \n",
            "Extracting  meatFreshnessP_YOLO/train/HALF/HALF_BLUE_cropped_4.QP.png     \b\b\b\b 54%\b\b\b\b\b  OK \n",
            "Extracting  meatFreshnessP_YOLO/train/HALF/HALF_BLUE_cropped_5.RP.png     \b\b\b\b 54%\b\b\b\b\b  OK \n",
            "Extracting  meatFreshnessP_YOLO/train/HALF/HALF_BLUE_cropped_6.LP.png     \b\b\b\b 54%\b\b\b\b\b  OK \n",
            "Extracting  meatFreshnessP_YOLO/train/HALF/HALF_BLUE_cropped_7.LV.png     \b\b\b\b 54%\b\b\b\b\b  OK \n",
            "Extracting  meatFreshnessP_YOLO/train/HALF/HALF_BLUE_cropped_8.RV.png     \b\b\b\b 55%\b\b\b\b\b  OK \n",
            "Extracting  meatFreshnessP_YOLO/train/HALF/HALF_GREEN_cropped_1.HP.png     \b\b\b\b 55%\b\b\b\b\b  OK \n",
            "Extracting  meatFreshnessP_YOLO/train/HALF/HALF_GREEN_cropped_10.PV.png     \b\b\b\b 55%\b\b\b\b\b  OK \n",
            "Extracting  meatFreshnessP_YOLO/train/HALF/HALF_GREEN_cropped_12.QV.png     \b\b\b\b 55%\b\b\b\b\b  OK \n",
            "Extracting  meatFreshnessP_YOLO/train/HALF/HALF_GREEN_cropped_15.PQ.png     \b\b\b\b 56%\b\b\b\b\b  OK \n",
            "Extracting  meatFreshnessP_YOLO/train/HALF/HALF_GREEN_cropped_16.VQ.png     \b\b\b\b 56%\b\b\b\b\b  OK \n",
            "Extracting  meatFreshnessP_YOLO/train/HALF/HALF_GREEN_cropped_17.RQ.png     \b\b\b\b 56%\b\b\b\b\b  OK \n",
            "Extracting  meatFreshnessP_YOLO/train/HALF/HALF_GREEN_cropped_19.LH.png     \b\b\b\b 57%\b\b\b\b\b  OK \n",
            "Extracting  meatFreshnessP_YOLO/train/HALF/HALF_GREEN_cropped_2.PP.png     \b\b\b\b 57%\b\b\b\b\b  OK \n",
            "Extracting  meatFreshnessP_YOLO/train/HALF/HALF_GREEN_cropped_20.RH.png     \b\b\b\b 57%\b\b\b\b\b  OK \n",
            "Extracting  meatFreshnessP_YOLO/train/HALF/HALF_GREEN_cropped_22.QH.png     \b\b\b\b 57%\b\b\b\b\b  OK \n",
            "Extracting  meatFreshnessP_YOLO/train/HALF/HALF_GREEN_cropped_28.QR.png     \b\b\b\b 58%\b\b\b\b\b  OK \n",
            "Extracting  meatFreshnessP_YOLO/train/HALF/HALF_GREEN_cropped_29.PR.png     \b\b\b\b 58%\b\b\b\b\b  OK \n",
            "Extracting  meatFreshnessP_YOLO/train/HALF/HALF_GREEN_cropped_3.VP.png     \b\b\b\b 58%\b\b\b\b\b  OK \n",
            "Extracting  meatFreshnessP_YOLO/train/HALF/HALF_GREEN_cropped_32.PL.png     \b\b\b\b 58%\b\b\b\b\b  OK \n",
            "Extracting  meatFreshnessP_YOLO/train/HALF/HALF_GREEN_cropped_34.QL.png     \b\b\b\b 59%\b\b\b\b\b  OK \n",
            "Extracting  meatFreshnessP_YOLO/train/HALF/HALF_GREEN_cropped_5.RP.png     \b\b\b\b 59%\b\b\b\b\b  OK \n",
            "Extracting  meatFreshnessP_YOLO/train/HALF/HALF_GREEN_cropped_6.LP.png     \b\b\b\b 59%\b\b\b\b\b  OK \n",
            "Extracting  meatFreshnessP_YOLO/train/HALF/HALF_RED_cropped_1.HP.png     \b\b\b\b 60%\b\b\b\b\b  OK \n",
            "Extracting  meatFreshnessP_YOLO/train/HALF/HALF_RED_cropped_10.PV.png     \b\b\b\b 60%\b\b\b\b\b  OK \n",
            "Extracting  meatFreshnessP_YOLO/train/HALF/HALF_RED_cropped_11.HV.png     \b\b\b\b 60%\b\b\b\b\b  OK \n",
            "Extracting  meatFreshnessP_YOLO/train/HALF/HALF_RED_cropped_12.QV.png     \b\b\b\b 60%\b\b\b\b\b  OK \n",
            "Extracting  meatFreshnessP_YOLO/train/HALF/HALF_RED_cropped_14.HQ.png     \b\b\b\b 60%\b\b\b\b\b  OK \n",
            "Extracting  meatFreshnessP_YOLO/train/HALF/HALF_RED_cropped_15.PQ.png     \b\b\b\b 61%\b\b\b\b\b  OK \n",
            "Extracting  meatFreshnessP_YOLO/train/HALF/HALF_RED_cropped_16.VQ.png     \b\b\b\b 61%\b\b\b\b\b  OK \n",
            "Extracting  meatFreshnessP_YOLO/train/HALF/HALF_RED_cropped_17.RQ.png     \b\b\b\b 61%\b\b\b\b\b  OK \n",
            "Extracting  meatFreshnessP_YOLO/train/HALF/HALF_RED_cropped_19.LH.png     \b\b\b\b 61%\b\b\b\b\b  OK \n",
            "Extracting  meatFreshnessP_YOLO/train/HALF/HALF_RED_cropped_2.PP.png     \b\b\b\b 61%\b\b\b\b\b  OK \n",
            "Extracting  meatFreshnessP_YOLO/train/HALF/HALF_RED_cropped_20.RH.png     \b\b\b\b 62%\b\b\b\b\b  OK \n",
            "Extracting  meatFreshnessP_YOLO/train/HALF/HALF_RED_cropped_21.HH.png     \b\b\b\b 62%\b\b\b\b\b  OK \n",
            "Extracting  meatFreshnessP_YOLO/train/HALF/HALF_RED_cropped_23.PH.png     \b\b\b\b 62%\b\b\b\b\b  OK \n",
            "Extracting  meatFreshnessP_YOLO/train/HALF/HALF_RED_cropped_24.VH.png     \b\b\b\b 62%\b\b\b\b\b  OK \n",
            "Extracting  meatFreshnessP_YOLO/train/HALF/HALF_RED_cropped_25.RR.png     \b\b\b\b 62%\b\b\b\b\b  OK \n",
            "Extracting  meatFreshnessP_YOLO/train/HALF/HALF_RED_cropped_26.LR.png     \b\b\b\b 63%\b\b\b\b\b  OK \n",
            "Extracting  meatFreshnessP_YOLO/train/HALF/HALF_RED_cropped_27.HR.png     \b\b\b\b 63%\b\b\b\b\b  OK \n",
            "Extracting  meatFreshnessP_YOLO/train/HALF/HALF_RED_cropped_28.QR.png     \b\b\b\b 63%\b\b\b\b\b  OK \n",
            "Extracting  meatFreshnessP_YOLO/train/HALF/HALF_RED_cropped_29.PR.png     \b\b\b\b 63%\b\b\b\b\b  OK \n",
            "Extracting  meatFreshnessP_YOLO/train/HALF/HALF_RED_cropped_3.VP.png     \b\b\b\b 63%\b\b\b\b\b  OK \n",
            "Extracting  meatFreshnessP_YOLO/train/HALF/HALF_RED_cropped_30.VR.png     \b\b\b\b 64%\b\b\b\b\b  OK \n",
            "Extracting  meatFreshnessP_YOLO/train/HALF/HALF_RED_cropped_31.VL.png     \b\b\b\b 64%\b\b\b\b\b  OK \n",
            "Extracting  meatFreshnessP_YOLO/train/HALF/HALF_RED_cropped_33.HL.png     \b\b\b\b 64%\b\b\b\b\b  OK \n",
            "Extracting  meatFreshnessP_YOLO/train/HALF/HALF_RED_cropped_35.RL.png     \b\b\b\b 64%\b\b\b\b\b  OK \n",
            "Extracting  meatFreshnessP_YOLO/train/HALF/HALF_RED_cropped_36.LL.png     \b\b\b\b 64%\b\b\b\b\b  OK \n",
            "Extracting  meatFreshnessP_YOLO/train/HALF/HALF_RED_cropped_4.QP.png     \b\b\b\b 65%\b\b\b\b\b  OK \n",
            "Extracting  meatFreshnessP_YOLO/train/HALF/HALF_RED_cropped_5.RP.png     \b\b\b\b 65%\b\b\b\b\b  OK \n",
            "Extracting  meatFreshnessP_YOLO/train/HALF/HALF_RED_cropped_6.LP.png     \b\b\b\b 65%\b\b\b\b\b  OK \n",
            "Extracting  meatFreshnessP_YOLO/train/HALF/HALF_RED_cropped_8.RV.png     \b\b\b\b 65%\b\b\b\b\b  OK \n",
            "Extracting  meatFreshnessP_YOLO/train/HALF/HALF_RED_cropped_9.VV.png     \b\b\b\b 65%\b\b\b\b\b  OK \n",
            "Creating    meatFreshnessP_YOLO/train/SPOILT                          OK\n",
            "Extracting  meatFreshnessP_YOLO/train/SPOILT/SPOILT_GREEN_cropped_10.HR.png     \b\b\b\b 66%\b\b\b\b\b  OK \n",
            "Extracting  meatFreshnessP_YOLO/train/SPOILT/SPOILT_GREEN_cropped_11.LR.png     \b\b\b\b 66%\b\b\b\b\b  OK \n",
            "Extracting  meatFreshnessP_YOLO/train/SPOILT/SPOILT_GREEN_cropped_12.RR.png     \b\b\b\b 66%\b\b\b\b\b  OK \n",
            "Extracting  meatFreshnessP_YOLO/train/SPOILT/SPOILT_GREEN_cropped_15.QH.png     \b\b\b\b 67%\b\b\b\b\b  OK \n",
            "Extracting  meatFreshnessP_YOLO/train/SPOILT/SPOILT_GREEN_cropped_16.HH.png     \b\b\b\b 67%\b\b\b\b\b  OK \n",
            "Extracting  meatFreshnessP_YOLO/train/SPOILT/SPOILT_GREEN_cropped_17.RH.png     \b\b\b\b 67%\b\b\b\b\b  OK \n",
            "Extracting  meatFreshnessP_YOLO/train/SPOILT/SPOILT_GREEN_cropped_2.RL.png     \b\b\b\b 67%\b\b\b\b\b  OK \n",
            "Extracting  meatFreshnessP_YOLO/train/SPOILT/SPOILT_GREEN_cropped_21.VQ.png     \b\b\b\b 68%\b\b\b\b\b  OK \n",
            "Extracting  meatFreshnessP_YOLO/train/SPOILT/SPOILT_GREEN_cropped_22.PQ.png     \b\b\b\b 68%\b\b\b\b\b  OK \n",
            "Extracting  meatFreshnessP_YOLO/train/SPOILT/SPOILT_GREEN_cropped_23.HQ.png     \b\b\b\b 68%\b\b\b\b\b  OK \n",
            "Extracting  meatFreshnessP_YOLO/train/SPOILT/SPOILT_GREEN_cropped_24.QQ.png     \b\b\b\b 69%\b\b\b\b\b  OK \n",
            "Extracting  meatFreshnessP_YOLO/train/SPOILT/SPOILT_GREEN_cropped_25.QV.png     \b\b\b\b 69%\b\b\b\b\b  OK \n",
            "Extracting  meatFreshnessP_YOLO/train/SPOILT/SPOILT_GREEN_cropped_27.PV.png     \b\b\b\b 69%\b\b\b\b\b  OK \n",
            "Extracting  meatFreshnessP_YOLO/train/SPOILT/SPOILT_GREEN_cropped_28,VV.png     \b\b\b\b 69%\b\b\b\b\b  OK \n",
            "Extracting  meatFreshnessP_YOLO/train/SPOILT/SPOILT_GREEN_cropped_29.RV.png     \b\b\b\b 70%\b\b\b\b\b  OK \n",
            "Extracting  meatFreshnessP_YOLO/train/SPOILT/SPOILT_GREEN_cropped_3.QL.png     \b\b\b\b 70%\b\b\b\b\b  OK \n",
            "Extracting  meatFreshnessP_YOLO/train/SPOILT/SPOILT_GREEN_cropped_30.LV.png     \b\b\b\b 70%\b\b\b\b\b  OK \n",
            "Extracting  meatFreshnessP_YOLO/train/SPOILT/SPOILT_GREEN_cropped_31.LP.png     \b\b\b\b 71%\b\b\b\b\b  OK \n",
            "Extracting  meatFreshnessP_YOLO/train/SPOILT/SPOILT_GREEN_cropped_32.RP.png     \b\b\b\b 71%\b\b\b\b\b  OK \n",
            "Extracting  meatFreshnessP_YOLO/train/SPOILT/SPOILT_GREEN_cropped_33.QP.png     \b\b\b\b 71%\b\b\b\b\b  OK \n",
            "Extracting  meatFreshnessP_YOLO/train/SPOILT/SPOILT_GREEN_cropped_34.VP.png     \b\b\b\b 71%\b\b\b\b\b  OK \n",
            "Extracting  meatFreshnessP_YOLO/train/SPOILT/SPOILT_GREEN_cropped_36.HP.png     \b\b\b\b 72%\b\b\b\b\b  OK \n",
            "Extracting  meatFreshnessP_YOLO/train/SPOILT/SPOILT_GREEN_cropped_4.HL.png     \b\b\b\b 72%\b\b\b\b\b  OK \n",
            "Extracting  meatFreshnessP_YOLO/train/SPOILT/SPOILT_GREEN_cropped_6.VL.png     \b\b\b\b 72%\b\b\b\b\b  OK \n",
            "Extracting  meatFreshnessP_YOLO/train/SPOILT/SPOILT_GREEN_cropped_7.VR.png     \b\b\b\b 73%\b\b\b\b\b  OK \n",
            "Extracting  meatFreshnessP_YOLO/train/SPOILT/SPOILT_GREEN_cropped_9.QR.png     \b\b\b\b 73%\b\b\b\b\b  OK \n",
            "Extracting  meatFreshnessP_YOLO/train/SPOILT/SPOILT_RED_cropped_1.HP.png     \b\b\b\b 73%\b\b\b\b\b  OK \n",
            "Extracting  meatFreshnessP_YOLO/train/SPOILT/SPOILT_RED_cropped_10.PV.png     \b\b\b\b 73%\b\b\b\b\b  OK \n",
            "Extracting  meatFreshnessP_YOLO/train/SPOILT/SPOILT_RED_cropped_11.HV.png     \b\b\b\b 73%\b\b\b\b\b  OK \n",
            "Extracting  meatFreshnessP_YOLO/train/SPOILT/SPOILT_RED_cropped_12.QV.png     \b\b\b\b 74%\b\b\b\b\b  OK \n",
            "Extracting  meatFreshnessP_YOLO/train/SPOILT/SPOILT_RED_cropped_13.QQ.png     \b\b\b\b 74%\b\b\b\b\b  OK \n",
            "Extracting  meatFreshnessP_YOLO/train/SPOILT/SPOILT_RED_cropped_14.PQ.png     \b\b\b\b 74%\b\b\b\b\b  OK \n",
            "Extracting  meatFreshnessP_YOLO/train/SPOILT/SPOILT_RED_cropped_15.VQ.png     \b\b\b\b 75%\b\b\b\b\b  OK \n",
            "Extracting  meatFreshnessP_YOLO/train/SPOILT/SPOILT_RED_cropped_16.RQ.png     \b\b\b\b 75%\b\b\b\b\b  OK \n",
            "Extracting  meatFreshnessP_YOLO/train/SPOILT/SPOILT_RED_cropped_17.LQ.png     \b\b\b\b 75%\b\b\b\b\b  OK \n",
            "Extracting  meatFreshnessP_YOLO/train/SPOILT/SPOILT_RED_cropped_19.LH.png     \b\b\b\b 75%\b\b\b\b\b  OK \n",
            "Extracting  meatFreshnessP_YOLO/train/SPOILT/SPOILT_RED_cropped_20.RH.png     \b\b\b\b 75%\b\b\b\b\b  OK \n",
            "Extracting  meatFreshnessP_YOLO/train/SPOILT/SPOILT_RED_cropped_21.HH.png     \b\b\b\b 75%\b\b\b\b\b  OK \n",
            "Extracting  meatFreshnessP_YOLO/train/SPOILT/SPOILT_RED_cropped_23.PH.png     \b\b\b\b 75%\b\b\b\b\b  OK \n",
            "Extracting  meatFreshnessP_YOLO/train/SPOILT/SPOILT_RED_cropped_24.VH.png     \b\b\b\b 76%\b\b\b\b\b  OK \n",
            "Extracting  meatFreshnessP_YOLO/train/SPOILT/SPOILT_RED_cropped_25.RR.png     \b\b\b\b 76%\b\b\b\b\b  OK \n",
            "Extracting  meatFreshnessP_YOLO/train/SPOILT/SPOILT_RED_cropped_27.HR.png     \b\b\b\b 76%\b\b\b\b\b  OK \n",
            "Extracting  meatFreshnessP_YOLO/train/SPOILT/SPOILT_RED_cropped_28.QR.png     \b\b\b\b 76%\b\b\b\b\b  OK \n",
            "Extracting  meatFreshnessP_YOLO/train/SPOILT/SPOILT_RED_cropped_29.PR.png     \b\b\b\b 77%\b\b\b\b\b  OK \n",
            "Extracting  meatFreshnessP_YOLO/train/SPOILT/SPOILT_RED_cropped_3.VP.png     \b\b\b\b 77%\b\b\b\b\b  OK \n",
            "Extracting  meatFreshnessP_YOLO/train/SPOILT/SPOILT_RED_cropped_30.VR.png     \b\b\b\b 77%\b\b\b\b\b  OK \n",
            "Extracting  meatFreshnessP_YOLO/train/SPOILT/SPOILT_RED_cropped_31.VL.png     \b\b\b\b 77%\b\b\b\b\b  OK \n",
            "Extracting  meatFreshnessP_YOLO/train/SPOILT/SPOILT_RED_cropped_32.PL.png     \b\b\b\b 78%\b\b\b\b\b  OK \n",
            "Extracting  meatFreshnessP_YOLO/train/SPOILT/SPOILT_RED_cropped_34.QL.png     \b\b\b\b 78%\b\b\b\b\b  OK \n",
            "Extracting  meatFreshnessP_YOLO/train/SPOILT/SPOILT_RED_cropped_35.RL.png     \b\b\b\b 78%\b\b\b\b\b  OK \n",
            "Extracting  meatFreshnessP_YOLO/train/SPOILT/SPOILT_RED_cropped_36.LL.png     \b\b\b\b 78%\b\b\b\b\b  OK \n",
            "Extracting  meatFreshnessP_YOLO/train/SPOILT/SPOILT_RED_cropped_4.QP.png     \b\b\b\b 79%\b\b\b\b\b  OK \n",
            "Extracting  meatFreshnessP_YOLO/train/SPOILT/SPOILT_RED_cropped_5.RP.png     \b\b\b\b 79%\b\b\b\b\b  OK \n",
            "Extracting  meatFreshnessP_YOLO/train/SPOILT/SPOILT_RED_cropped_6.LP.png     \b\b\b\b 79%\b\b\b\b\b  OK \n",
            "Extracting  meatFreshnessP_YOLO/train/SPOILT/SPOILT_RED_cropped_7.LV.png     \b\b\b\b 79%\b\b\b\b\b  OK \n",
            "Extracting  meatFreshnessP_YOLO/train/SPOILT/SPOILT_RED_cropped_8.RV.png     \b\b\b\b 79%\b\b\b\b\b  OK \n",
            "Extracting  meatFreshnessP_YOLO/train/SPOILT/SPOILT_RED_cropped_9.VV.png     \b\b\b\b 79%\b\b\b\b\b  OK \n",
            "Extracting  meatFreshnessP_YOLO/train.cache                              \b\b\b\b 79%\b\b\b\b\b  OK \n",
            "Creating    meatFreshnessP_YOLO/val                                   OK\n",
            "Creating    meatFreshnessP_YOLO/val/FRESH                             OK\n",
            "Extracting  meatFreshnessP_YOLO/val/FRESH/FRESH_BLUE_ADD_cropped_18.LQ.png     \b\b\b\b 80%\b\b\b\b\b  OK \n",
            "Extracting  meatFreshnessP_YOLO/val/FRESH/FRESH_BLUE_ADD_cropped_23.PH.png     \b\b\b\b 80%\b\b\b\b\b  OK \n",
            "Extracting  meatFreshnessP_YOLO/val/FRESH/FRESH_BLUE_ADD_cropped_24.VH.png     \b\b\b\b 80%\b\b\b\b\b  OK \n",
            "Extracting  meatFreshnessP_YOLO/val/FRESH/FRESH_BLUE_ADD_cropped_26.LR.png     \b\b\b\b 80%\b\b\b\b\b  OK \n",
            "Extracting  meatFreshnessP_YOLO/val/FRESH/FRESH_BLUE_ADD_cropped_32.PL.png     \b\b\b\b 80%\b\b\b\b\b  OK \n",
            "Extracting  meatFreshnessP_YOLO/val/FRESH/FRESH_BLUE_ADD_cropped_4.QP.png     \b\b\b\b 81%\b\b\b\b\b  OK \n",
            "Extracting  meatFreshnessP_YOLO/val/FRESH/FRESH_BLUE_cropped_18.LP.png     \b\b\b\b 81%\b\b\b\b\b  OK \n",
            "Extracting  meatFreshnessP_YOLO/val/FRESH/FRESH_BLUE_cropped_27.HR.png     \b\b\b\b 81%\b\b\b\b\b  OK \n",
            "Extracting  meatFreshnessP_YOLO/val/FRESH/FRESH_BLUE_cropped_4.QH.png     \b\b\b\b 82%\b\b\b\b\b  OK \n",
            "Extracting  meatFreshnessP_YOLO/val/FRESH/FRESH_BLUE_cropped_5.RH.png     \b\b\b\b 82%\b\b\b\b\b  OK \n",
            "Extracting  meatFreshnessP_YOLO/val/FRESH/FRESH_GREEN_ADD_cropped_10.PV.png     \b\b\b\b 82%\b\b\b\b\b  OK \n",
            "Extracting  meatFreshnessP_YOLO/val/FRESH/FRESH_GREEN_ADD_cropped_12.QV.png     \b\b\b\b 83%\b\b\b\b\b  OK \n",
            "Extracting  meatFreshnessP_YOLO/val/FRESH/FRESH_GREEN_ADD_cropped_16.VQ.png     \b\b\b\b 83%\b\b\b\b\b  OK \n",
            "Extracting  meatFreshnessP_YOLO/val/FRESH/FRESH_GREEN_ADD_cropped_29.PR.png     \b\b\b\b 84%\b\b\b\b\b  OK \n",
            "Extracting  meatFreshnessP_YOLO/val/FRESH/FRESH_GREEN_ADD_cropped_31.VL.png     \b\b\b\b 84%\b\b\b\b\b  OK \n",
            "Extracting  meatFreshnessP_YOLO/val/FRESH/FRESH_GREEN_ADD_cropped_33.HL.png     \b\b\b\b 84%\b\b\b\b\b  OK \n",
            "Extracting  meatFreshnessP_YOLO/val/FRESH/FRESH_GREEN_ADD_cropped_6.LP.png     \b\b\b\b 85%\b\b\b\b\b  OK \n",
            "Extracting  meatFreshnessP_YOLO/val/FRESH/FRESH_GREEN_cropped_1.HP.png     \b\b\b\b 85%\b\b\b\b\b  OK \n",
            "Extracting  meatFreshnessP_YOLO/val/FRESH/FRESH_GREEN_cropped_12.QV.png     \b\b\b\b 85%\b\b\b\b\b  OK \n",
            "Extracting  meatFreshnessP_YOLO/val/FRESH/FRESH_GREEN_cropped_13.QQ.png     \b\b\b\b 86%\b\b\b\b\b  OK \n",
            "Extracting  meatFreshnessP_YOLO/val/FRESH/FRESH_GREEN_cropped_18.LQ.png     \b\b\b\b 86%\b\b\b\b\b  OK \n",
            "Extracting  meatFreshnessP_YOLO/val/FRESH/FRESH_GREEN_cropped_19.LH.png     \b\b\b\b 86%\b\b\b\b\b  OK \n",
            "Extracting  meatFreshnessP_YOLO/val/FRESH/FRESH_GREEN_cropped_24.VH.png     \b\b\b\b 86%\b\b\b\b\b  OK \n",
            "Extracting  meatFreshnessP_YOLO/val/FRESH/FRESH_GREEN_cropped_28.QR.png     \b\b\b\b 86%\b\b\b\b\b  OK \n",
            "Extracting  meatFreshnessP_YOLO/val/FRESH/FRESH_GREEN_cropped_34.QL.png     \b\b\b\b 86%\b\b\b\b\b  OK \n",
            "Extracting  meatFreshnessP_YOLO/val/FRESH/FRESH_GREEN_cropped_4.QP.png     \b\b\b\b 87%\b\b\b\b\b  OK \n",
            "Extracting  meatFreshnessP_YOLO/val/FRESH/FRESH_GREEN_cropped_5.RP.png     \b\b\b\b 87%\b\b\b\b\b  OK \n",
            "Extracting  meatFreshnessP_YOLO/val/FRESH/FRESH_GREEN_cropped_8.RV.png     \b\b\b\b 87%\b\b\b\b\b  OK \n",
            "Extracting  meatFreshnessP_YOLO/val/FRESH/FRESH_RED_ADD_cropped_11.HV.png     \b\b\b\b 87%\b\b\b\b\b  OK \n",
            "Extracting  meatFreshnessP_YOLO/val/FRESH/FRESH_RED_ADD_cropped_19.LH.png     \b\b\b\b 88%\b\b\b\b\b  OK \n",
            "Extracting  meatFreshnessP_YOLO/val/FRESH/FRESH_RED_ADD_cropped_23.PH.png     \b\b\b\b 88%\b\b\b\b\b  OK \n",
            "Extracting  meatFreshnessP_YOLO/val/FRESH/FRESH_RED_ADD_cropped_25.RR.png     \b\b\b\b 88%\b\b\b\b\b  OK \n",
            "Extracting  meatFreshnessP_YOLO/val/FRESH/FRESH_RED_ADD_cropped_35.RL.png     \b\b\b\b 89%\b\b\b\b\b  OK \n",
            "Extracting  meatFreshnessP_YOLO/val/FRESH/FRESH_RED_ADD_cropped_6.LP.png     \b\b\b\b 89%\b\b\b\b\b  OK \n",
            "Extracting  meatFreshnessP_YOLO/val/FRESH/FRESH_RED_ADD_cropped_7.LV.png     \b\b\b\b 89%\b\b\b\b\b  OK \n",
            "Extracting  meatFreshnessP_YOLO/val/FRESH/FRESH_RED_cropped_11.HV.png     \b\b\b\b 90%\b\b\b\b\b  OK \n",
            "Extracting  meatFreshnessP_YOLO/val/FRESH/FRESH_RED_cropped_13.QQ.png     \b\b\b\b 90%\b\b\b\b\b  OK \n",
            "Extracting  meatFreshnessP_YOLO/val/FRESH/FRESH_RED_cropped_15.PQ.png     \b\b\b\b 90%\b\b\b\b\b  OK \n",
            "Extracting  meatFreshnessP_YOLO/val/FRESH/FRESH_RED_cropped_19.LH.png     \b\b\b\b 90%\b\b\b\b\b  OK \n",
            "Extracting  meatFreshnessP_YOLO/val/FRESH/FRESH_RED_cropped_20.RH.png     \b\b\b\b 90%\b\b\b\b\b  OK \n",
            "Extracting  meatFreshnessP_YOLO/val/FRESH/FRESH_RED_cropped_27.HR.png     \b\b\b\b 91%\b\b\b\b\b  OK \n",
            "Extracting  meatFreshnessP_YOLO/val/FRESH/FRESH_RED_cropped_29.PR.png     \b\b\b\b 91%\b\b\b\b\b  OK \n",
            "Extracting  meatFreshnessP_YOLO/val/FRESH/FRESH_RED_cropped_32.PL.png     \b\b\b\b 91%\b\b\b\b\b  OK \n",
            "Extracting  meatFreshnessP_YOLO/val/FRESH/FRESH_RED_cropped_7.LV.png     \b\b\b\b 92%\b\b\b\b\b  OK \n",
            "Creating    meatFreshnessP_YOLO/val/HALF                              OK\n",
            "Extracting  meatFreshnessP_YOLO/val/HALF/HALF_BLUE_cropped_1.HP.png      \b\b\b\b 92%\b\b\b\b\b  OK \n",
            "Extracting  meatFreshnessP_YOLO/val/HALF/HALF_BLUE_cropped_13.QQ.png     \b\b\b\b 92%\b\b\b\b\b  OK \n",
            "Extracting  meatFreshnessP_YOLO/val/HALF/HALF_BLUE_cropped_19.LH.png     \b\b\b\b 92%\b\b\b\b\b  OK \n",
            "Extracting  meatFreshnessP_YOLO/val/HALF/HALF_BLUE_cropped_20.RH.png     \b\b\b\b 93%\b\b\b\b\b  OK \n",
            "Extracting  meatFreshnessP_YOLO/val/HALF/HALF_BLUE_cropped_26.LR.png     \b\b\b\b 93%\b\b\b\b\b  OK \n",
            "Extracting  meatFreshnessP_YOLO/val/HALF/HALF_BLUE_cropped_3.VP.png      \b\b\b\b 93%\b\b\b\b\b  OK \n",
            "Extracting  meatFreshnessP_YOLO/val/HALF/HALF_BLUE_cropped_33.HL.png     \b\b\b\b 93%\b\b\b\b\b  OK \n",
            "Extracting  meatFreshnessP_YOLO/val/HALF/HALF_BLUE_cropped_35.RL.png     \b\b\b\b 93%\b\b\b\b\b  OK \n",
            "Extracting  meatFreshnessP_YOLO/val/HALF/HALF_BLUE_cropped_9.VV.png      \b\b\b\b 94%\b\b\b\b\b  OK \n",
            "Extracting  meatFreshnessP_YOLO/val/HALF/HALF_GREEN_cropped_13.QQ.png     \b\b\b\b 94%\b\b\b\b\b  OK \n",
            "Extracting  meatFreshnessP_YOLO/val/HALF/HALF_GREEN_cropped_14.HQ.png     \b\b\b\b 94%\b\b\b\b\b  OK \n",
            "Extracting  meatFreshnessP_YOLO/val/HALF/HALF_GREEN_cropped_18.LQ.png     \b\b\b\b 95%\b\b\b\b\b  OK \n",
            "Extracting  meatFreshnessP_YOLO/val/HALF/HALF_GREEN_cropped_23.PH.png     \b\b\b\b 95%\b\b\b\b\b  OK \n",
            "Extracting  meatFreshnessP_YOLO/val/HALF/HALF_GREEN_cropped_4.QP.png     \b\b\b\b 95%\b\b\b\b\b  OK \n",
            "Extracting  meatFreshnessP_YOLO/val/HALF/HALF_RED_cropped_13.QQ.png      \b\b\b\b 95%\b\b\b\b\b  OK \n",
            "Extracting  meatFreshnessP_YOLO/val/HALF/HALF_RED_cropped_18.LQ.png      \b\b\b\b 96%\b\b\b\b\b  OK \n",
            "Extracting  meatFreshnessP_YOLO/val/HALF/HALF_RED_cropped_22.QH.png      \b\b\b\b 96%\b\b\b\b\b  OK \n",
            "Extracting  meatFreshnessP_YOLO/val/HALF/HALF_RED_cropped_32.PL.png      \b\b\b\b 96%\b\b\b\b\b  OK \n",
            "Extracting  meatFreshnessP_YOLO/val/HALF/HALF_RED_cropped_7.LV.png       \b\b\b\b 96%\b\b\b\b\b  OK \n",
            "Creating    meatFreshnessP_YOLO/val/SPOILT                            OK\n",
            "Extracting  meatFreshnessP_YOLO/val/SPOILT/SPOILT_GREEN_cropped_1.LL.png     \b\b\b\b 97%\b\b\b\b\b  OK \n",
            "Extracting  meatFreshnessP_YOLO/val/SPOILT/SPOILT_GREEN_cropped_13.VH.png     \b\b\b\b 97%\b\b\b\b\b  OK \n",
            "Extracting  meatFreshnessP_YOLO/val/SPOILT/SPOILT_GREEN_cropped_14.PH.png     \b\b\b\b 97%\b\b\b\b\b  OK \n",
            "Extracting  meatFreshnessP_YOLO/val/SPOILT/SPOILT_GREEN_cropped_18.LH.png     \b\b\b\b 97%\b\b\b\b\b  OK \n",
            "Extracting  meatFreshnessP_YOLO/val/SPOILT/SPOILT_GREEN_cropped_19.LQ.png     \b\b\b\b 98%\b\b\b\b\b  OK \n",
            "Extracting  meatFreshnessP_YOLO/val/SPOILT/SPOILT_GREEN_cropped_20.RQ.png     \b\b\b\b 98%\b\b\b\b\b  OK \n",
            "Extracting  meatFreshnessP_YOLO/val/SPOILT/SPOILT_GREEN_cropped_26.HV.png     \b\b\b\b 98%\b\b\b\b\b  OK \n",
            "Extracting  meatFreshnessP_YOLO/val/SPOILT/SPOILT_GREEN_cropped_35.PP.png     \b\b\b\b 98%\b\b\b\b\b  OK \n",
            "Extracting  meatFreshnessP_YOLO/val/SPOILT/SPOILT_GREEN_cropped_5.PL.png     \b\b\b\b 99%\b\b\b\b\b  OK \n",
            "Extracting  meatFreshnessP_YOLO/val/SPOILT/SPOILT_GREEN_cropped_8.PR.png     \b\b\b\b 99%\b\b\b\b\b  OK \n",
            "Extracting  meatFreshnessP_YOLO/val/SPOILT/SPOILT_RED_cropped_18.HQ.png     \b\b\b\b 99%\b\b\b\b\b  OK \n",
            "Extracting  meatFreshnessP_YOLO/val/SPOILT/SPOILT_RED_cropped_2.PP.png     \b\b\b\b 99%\b\b\b\b\b  OK \n",
            "Extracting  meatFreshnessP_YOLO/val/SPOILT/SPOILT_RED_cropped_22.QH.png     \b\b\b\b 99%\b\b\b\b\b  OK \n",
            "Extracting  meatFreshnessP_YOLO/val/SPOILT/SPOILT_RED_cropped_26.LR.png     \b\b\b\b 99%\b\b\b\b\b  OK \n",
            "Extracting  meatFreshnessP_YOLO/val/SPOILT/SPOILT_RED_cropped_33.HL.png     \b\b\b\b 99%\b\b\b\b\b  OK \n",
            "Extracting  meatFreshnessP_YOLO/val.cache                                \b\b\b\b 99%\b\b\b\b\b  OK \n",
            "All OK\n"
          ]
        }
      ]
    },
    {
      "cell_type": "code",
      "source": [
        "# Обучение\n",
        "model.train(data=r'/content/meatFreshnessP_YOLO', epochs=30, imgsz=250, batch=16)"
      ],
      "metadata": {
        "colab": {
          "base_uri": "https://localhost:8080/"
        },
        "id": "5HcIQfn4Z5nv",
        "outputId": "6b97e88e-ee4e-4a73-df74-2fc365c0db83"
      },
      "execution_count": null,
      "outputs": [
        {
          "output_type": "stream",
          "name": "stdout",
          "text": [
            "Ultralytics 8.3.30 🚀 Python-3.10.12 torch-2.5.0+cu121 CUDA:0 (Tesla T4, 15102MiB)\n",
            "\u001b[34m\u001b[1mengine/trainer: \u001b[0mtask=classify, mode=train, model=yolov8x-cls.pt, data=/content/meatFreshnessP_YOLO, epochs=30, time=None, patience=100, batch=16, imgsz=250, save=True, save_period=-1, cache=False, device=None, workers=8, project=None, name=train, exist_ok=False, pretrained=True, optimizer=auto, verbose=True, seed=0, deterministic=True, single_cls=False, rect=False, cos_lr=False, close_mosaic=10, resume=False, amp=True, fraction=1.0, profile=False, freeze=None, multi_scale=False, overlap_mask=True, mask_ratio=4, dropout=0.0, val=True, split=val, save_json=False, save_hybrid=False, conf=None, iou=0.7, max_det=300, half=False, dnn=False, plots=True, source=None, vid_stride=1, stream_buffer=False, visualize=False, augment=False, agnostic_nms=False, classes=None, retina_masks=False, embed=None, show=False, save_frames=False, save_txt=False, save_conf=False, save_crop=False, show_labels=True, show_conf=True, show_boxes=True, line_width=None, format=torchscript, keras=False, optimize=False, int8=False, dynamic=False, simplify=True, opset=None, workspace=4, nms=False, lr0=0.01, lrf=0.01, momentum=0.937, weight_decay=0.0005, warmup_epochs=3.0, warmup_momentum=0.8, warmup_bias_lr=0.1, box=7.5, cls=0.5, dfl=1.5, pose=12.0, kobj=1.0, label_smoothing=0.0, nbs=64, hsv_h=0.015, hsv_s=0.7, hsv_v=0.4, degrees=0.0, translate=0.1, scale=0.5, shear=0.0, perspective=0.0, flipud=0.0, fliplr=0.5, bgr=0.0, mosaic=1.0, mixup=0.0, copy_paste=0.0, copy_paste_mode=flip, auto_augment=randaugment, erasing=0.4, crop_fraction=1.0, cfg=None, tracker=botsort.yaml, save_dir=runs/classify/train\n",
            "\u001b[34m\u001b[1mtrain:\u001b[0m /content/meatFreshnessP_YOLO/train... found 303 images in 3 classes ✅ \n",
            "\u001b[34m\u001b[1mval:\u001b[0m /content/meatFreshnessP_YOLO/val... found 78 images in 3 classes ✅ \n",
            "\u001b[34m\u001b[1mtest:\u001b[0m None...\n",
            "Overriding model.yaml nc=1000 with nc=3\n",
            "\n",
            "                   from  n    params  module                                       arguments                     \n",
            "  0                  -1  1      2320  ultralytics.nn.modules.conv.Conv             [3, 80, 3, 2]                 \n",
            "  1                  -1  1    115520  ultralytics.nn.modules.conv.Conv             [80, 160, 3, 2]               \n",
            "  2                  -1  3    436800  ultralytics.nn.modules.block.C2f             [160, 160, 3, True]           \n",
            "  3                  -1  1    461440  ultralytics.nn.modules.conv.Conv             [160, 320, 3, 2]              \n",
            "  4                  -1  6   3281920  ultralytics.nn.modules.block.C2f             [320, 320, 6, True]           \n",
            "  5                  -1  1   1844480  ultralytics.nn.modules.conv.Conv             [320, 640, 3, 2]              \n",
            "  6                  -1  6  13117440  ultralytics.nn.modules.block.C2f             [640, 640, 6, True]           \n",
            "  7                  -1  1   7375360  ultralytics.nn.modules.conv.Conv             [640, 1280, 3, 2]             \n",
            "  8                  -1  3  27865600  ultralytics.nn.modules.block.C2f             [1280, 1280, 3, True]         \n",
            "  9                  -1  1   1644803  ultralytics.nn.modules.head.Classify         [1280, 3]                     \n",
            "YOLOv8x-cls summary: 183 layers, 56,145,683 parameters, 56,145,683 gradients, 154.3 GFLOPs\n",
            "Transferred 300/302 items from pretrained weights\n",
            "\u001b[34m\u001b[1mTensorBoard: \u001b[0mStart with 'tensorboard --logdir runs/classify/train', view at http://localhost:6006/\n",
            "\u001b[34m\u001b[1mAMP: \u001b[0mrunning Automatic Mixed Precision (AMP) checks...\n",
            "Downloading https://github.com/ultralytics/assets/releases/download/v8.3.0/yolo11n.pt to 'yolo11n.pt'...\n"
          ]
        },
        {
          "output_type": "stream",
          "name": "stderr",
          "text": [
            "100%|██████████| 5.35M/5.35M [00:00<00:00, 115MB/s]\n"
          ]
        },
        {
          "output_type": "stream",
          "name": "stdout",
          "text": [
            "\u001b[34m\u001b[1mAMP: \u001b[0mchecks passed ✅\n",
            "WARNING ⚠️ imgsz=[250] must be multiple of max stride 32, updating to [256]\n"
          ]
        },
        {
          "output_type": "stream",
          "name": "stderr",
          "text": [
            "\u001b[34m\u001b[1mtrain: \u001b[0mScanning /content/meatFreshnessP_YOLO/train... 303 images, 0 corrupt: 100%|██████████| 303/303 [00:00<00:00, 4235.41it/s]"
          ]
        },
        {
          "output_type": "stream",
          "name": "stdout",
          "text": [
            "\u001b[34m\u001b[1mtrain: \u001b[0mNew cache created: /content/meatFreshnessP_YOLO/train.cache\n"
          ]
        },
        {
          "output_type": "stream",
          "name": "stderr",
          "text": [
            "\n",
            "\u001b[34m\u001b[1mval: \u001b[0mScanning /content/meatFreshnessP_YOLO/val... 78 images, 0 corrupt: 100%|██████████| 78/78 [00:00<00:00, 3516.82it/s]\n"
          ]
        },
        {
          "output_type": "stream",
          "name": "stdout",
          "text": [
            "\u001b[34m\u001b[1mval: \u001b[0mNew cache created: /content/meatFreshnessP_YOLO/val.cache\n",
            "\u001b[34m\u001b[1moptimizer:\u001b[0m 'optimizer=auto' found, ignoring 'lr0=0.01' and 'momentum=0.937' and determining best 'optimizer', 'lr0' and 'momentum' automatically... \n",
            "\u001b[34m\u001b[1moptimizer:\u001b[0m AdamW(lr=0.000714, momentum=0.9) with parameter groups 50 weight(decay=0.0), 51 weight(decay=0.0005), 51 bias(decay=0.0)\n",
            "\u001b[34m\u001b[1mTensorBoard: \u001b[0mmodel graph visualization added ✅\n",
            "Image sizes 256 train, 256 val\n",
            "Using 2 dataloader workers\n",
            "Logging results to \u001b[1mruns/classify/train\u001b[0m\n",
            "Starting training for 30 epochs...\n",
            "\n",
            "      Epoch    GPU_mem       loss  Instances       Size\n"
          ]
        },
        {
          "output_type": "stream",
          "name": "stderr",
          "text": [
            "       1/30       2.6G      1.148         16        256:  16%|█▌        | 3/19 [00:01<00:05,  2.79it/s]"
          ]
        },
        {
          "output_type": "stream",
          "name": "stdout",
          "text": [
            "Downloading https://ultralytics.com/assets/Arial.ttf to '/root/.config/Ultralytics/Arial.ttf'...\n"
          ]
        },
        {
          "output_type": "stream",
          "name": "stderr",
          "text": [
            "       1/30       2.6G      1.145         16        256:  26%|██▋       | 5/19 [00:01<00:04,  3.38it/s]\n",
            "100%|██████████| 755k/755k [00:00<00:00, 18.7MB/s]\n",
            "       1/30       2.6G      1.039         15        256: 100%|██████████| 19/19 [00:05<00:00,  3.74it/s]\n",
            "               classes   top1_acc   top5_acc: 100%|██████████| 3/3 [00:00<00:00,  7.03it/s]"
          ]
        },
        {
          "output_type": "stream",
          "name": "stdout",
          "text": [
            "                   all      0.705          1\n"
          ]
        },
        {
          "output_type": "stream",
          "name": "stderr",
          "text": [
            "\n"
          ]
        },
        {
          "output_type": "stream",
          "name": "stdout",
          "text": [
            "\n",
            "      Epoch    GPU_mem       loss  Instances       Size\n"
          ]
        },
        {
          "output_type": "stream",
          "name": "stderr",
          "text": [
            "       2/30      2.66G     0.6988         15        256: 100%|██████████| 19/19 [00:02<00:00,  6.38it/s]\n",
            "               classes   top1_acc   top5_acc: 100%|██████████| 3/3 [00:00<00:00, 13.13it/s]"
          ]
        },
        {
          "output_type": "stream",
          "name": "stdout",
          "text": [
            "                   all       0.91          1\n"
          ]
        },
        {
          "output_type": "stream",
          "name": "stderr",
          "text": [
            "\n"
          ]
        },
        {
          "output_type": "stream",
          "name": "stdout",
          "text": [
            "\n",
            "      Epoch    GPU_mem       loss  Instances       Size\n"
          ]
        },
        {
          "output_type": "stream",
          "name": "stderr",
          "text": [
            "       3/30      2.76G     0.4028         15        256: 100%|██████████| 19/19 [00:04<00:00,  4.19it/s]\n",
            "               classes   top1_acc   top5_acc: 100%|██████████| 3/3 [00:00<00:00, 10.35it/s]"
          ]
        },
        {
          "output_type": "stream",
          "name": "stdout",
          "text": [
            "                   all      0.936          1\n"
          ]
        },
        {
          "output_type": "stream",
          "name": "stderr",
          "text": [
            "\n"
          ]
        },
        {
          "output_type": "stream",
          "name": "stdout",
          "text": [
            "\n",
            "      Epoch    GPU_mem       loss  Instances       Size\n"
          ]
        },
        {
          "output_type": "stream",
          "name": "stderr",
          "text": [
            "       4/30      2.64G      0.263         15        256: 100%|██████████| 19/19 [00:02<00:00,  6.64it/s]\n",
            "               classes   top1_acc   top5_acc: 100%|██████████| 3/3 [00:00<00:00, 13.15it/s]"
          ]
        },
        {
          "output_type": "stream",
          "name": "stdout",
          "text": [
            "                   all      0.974          1\n"
          ]
        },
        {
          "output_type": "stream",
          "name": "stderr",
          "text": [
            "\n"
          ]
        },
        {
          "output_type": "stream",
          "name": "stdout",
          "text": [
            "\n",
            "      Epoch    GPU_mem       loss  Instances       Size\n"
          ]
        },
        {
          "output_type": "stream",
          "name": "stderr",
          "text": [
            "       5/30      2.76G     0.1942         15        256: 100%|██████████| 19/19 [00:02<00:00,  6.76it/s]\n",
            "               classes   top1_acc   top5_acc: 100%|██████████| 3/3 [00:00<00:00, 13.10it/s]"
          ]
        },
        {
          "output_type": "stream",
          "name": "stdout",
          "text": [
            "                   all      0.859          1\n"
          ]
        },
        {
          "output_type": "stream",
          "name": "stderr",
          "text": [
            "\n"
          ]
        },
        {
          "output_type": "stream",
          "name": "stdout",
          "text": [
            "\n",
            "      Epoch    GPU_mem       loss  Instances       Size\n"
          ]
        },
        {
          "output_type": "stream",
          "name": "stderr",
          "text": [
            "       6/30      2.73G     0.2014         15        256: 100%|██████████| 19/19 [00:02<00:00,  6.64it/s]\n",
            "               classes   top1_acc   top5_acc: 100%|██████████| 3/3 [00:00<00:00, 13.86it/s]"
          ]
        },
        {
          "output_type": "stream",
          "name": "stdout",
          "text": [
            "                   all          1          1\n"
          ]
        },
        {
          "output_type": "stream",
          "name": "stderr",
          "text": [
            "\n"
          ]
        },
        {
          "output_type": "stream",
          "name": "stdout",
          "text": [
            "\n",
            "      Epoch    GPU_mem       loss  Instances       Size\n"
          ]
        },
        {
          "output_type": "stream",
          "name": "stderr",
          "text": [
            "       7/30      2.75G     0.1818         15        256: 100%|██████████| 19/19 [00:03<00:00,  4.76it/s]\n",
            "               classes   top1_acc   top5_acc: 100%|██████████| 3/3 [00:00<00:00, 11.14it/s]"
          ]
        },
        {
          "output_type": "stream",
          "name": "stdout",
          "text": [
            "                   all      0.872          1\n"
          ]
        },
        {
          "output_type": "stream",
          "name": "stderr",
          "text": [
            "\n"
          ]
        },
        {
          "output_type": "stream",
          "name": "stdout",
          "text": [
            "\n",
            "      Epoch    GPU_mem       loss  Instances       Size\n"
          ]
        },
        {
          "output_type": "stream",
          "name": "stderr",
          "text": [
            "       8/30      2.76G     0.1818         15        256: 100%|██████████| 19/19 [00:02<00:00,  6.54it/s]\n",
            "               classes   top1_acc   top5_acc: 100%|██████████| 3/3 [00:00<00:00, 13.30it/s]"
          ]
        },
        {
          "output_type": "stream",
          "name": "stdout",
          "text": [
            "                   all      0.872          1\n"
          ]
        },
        {
          "output_type": "stream",
          "name": "stderr",
          "text": [
            "\n"
          ]
        },
        {
          "output_type": "stream",
          "name": "stdout",
          "text": [
            "\n",
            "      Epoch    GPU_mem       loss  Instances       Size\n"
          ]
        },
        {
          "output_type": "stream",
          "name": "stderr",
          "text": [
            "       9/30      2.66G     0.1727         15        256: 100%|██████████| 19/19 [00:03<00:00,  5.64it/s]\n",
            "               classes   top1_acc   top5_acc: 100%|██████████| 3/3 [00:00<00:00, 10.65it/s]"
          ]
        },
        {
          "output_type": "stream",
          "name": "stdout",
          "text": [
            "                   all      0.897          1\n"
          ]
        },
        {
          "output_type": "stream",
          "name": "stderr",
          "text": [
            "\n"
          ]
        },
        {
          "output_type": "stream",
          "name": "stdout",
          "text": [
            "\n",
            "      Epoch    GPU_mem       loss  Instances       Size\n"
          ]
        },
        {
          "output_type": "stream",
          "name": "stderr",
          "text": [
            "      10/30      2.75G     0.1152         15        256: 100%|██████████| 19/19 [00:03<00:00,  5.30it/s]\n",
            "               classes   top1_acc   top5_acc: 100%|██████████| 3/3 [00:00<00:00, 12.89it/s]"
          ]
        },
        {
          "output_type": "stream",
          "name": "stdout",
          "text": [
            "                   all          1          1\n"
          ]
        },
        {
          "output_type": "stream",
          "name": "stderr",
          "text": [
            "\n"
          ]
        },
        {
          "output_type": "stream",
          "name": "stdout",
          "text": [
            "\n",
            "      Epoch    GPU_mem       loss  Instances       Size\n"
          ]
        },
        {
          "output_type": "stream",
          "name": "stderr",
          "text": [
            "      11/30      2.74G     0.1497         15        256: 100%|██████████| 19/19 [00:02<00:00,  6.57it/s]\n",
            "               classes   top1_acc   top5_acc: 100%|██████████| 3/3 [00:00<00:00, 13.09it/s]"
          ]
        },
        {
          "output_type": "stream",
          "name": "stdout",
          "text": [
            "                   all      0.987          1\n"
          ]
        },
        {
          "output_type": "stream",
          "name": "stderr",
          "text": [
            "\n"
          ]
        },
        {
          "output_type": "stream",
          "name": "stdout",
          "text": [
            "\n",
            "      Epoch    GPU_mem       loss  Instances       Size\n"
          ]
        },
        {
          "output_type": "stream",
          "name": "stderr",
          "text": [
            "      12/30      2.78G     0.1204         15        256: 100%|██████████| 19/19 [00:04<00:00,  4.74it/s]\n",
            "               classes   top1_acc   top5_acc: 100%|██████████| 3/3 [00:00<00:00,  8.18it/s]"
          ]
        },
        {
          "output_type": "stream",
          "name": "stdout",
          "text": [
            "                   all          1          1\n"
          ]
        },
        {
          "output_type": "stream",
          "name": "stderr",
          "text": [
            "\n"
          ]
        },
        {
          "output_type": "stream",
          "name": "stdout",
          "text": [
            "\n",
            "      Epoch    GPU_mem       loss  Instances       Size\n"
          ]
        },
        {
          "output_type": "stream",
          "name": "stderr",
          "text": [
            "      13/30      2.65G    0.05392         15        256: 100%|██████████| 19/19 [00:02<00:00,  6.47it/s]\n",
            "               classes   top1_acc   top5_acc: 100%|██████████| 3/3 [00:00<00:00, 12.90it/s]"
          ]
        },
        {
          "output_type": "stream",
          "name": "stdout",
          "text": [
            "                   all      0.987          1\n"
          ]
        },
        {
          "output_type": "stream",
          "name": "stderr",
          "text": [
            "\n"
          ]
        },
        {
          "output_type": "stream",
          "name": "stdout",
          "text": [
            "\n",
            "      Epoch    GPU_mem       loss  Instances       Size\n"
          ]
        },
        {
          "output_type": "stream",
          "name": "stderr",
          "text": [
            "      14/30      2.74G      0.067         15        256: 100%|██████████| 19/19 [00:03<00:00,  4.79it/s]\n",
            "               classes   top1_acc   top5_acc: 100%|██████████| 3/3 [00:00<00:00, 10.50it/s]"
          ]
        },
        {
          "output_type": "stream",
          "name": "stdout",
          "text": [
            "                   all          1          1\n"
          ]
        },
        {
          "output_type": "stream",
          "name": "stderr",
          "text": [
            "\n"
          ]
        },
        {
          "output_type": "stream",
          "name": "stdout",
          "text": [
            "\n",
            "      Epoch    GPU_mem       loss  Instances       Size\n"
          ]
        },
        {
          "output_type": "stream",
          "name": "stderr",
          "text": [
            "      15/30      2.73G     0.1129         15        256: 100%|██████████| 19/19 [00:02<00:00,  6.46it/s]\n",
            "               classes   top1_acc   top5_acc: 100%|██████████| 3/3 [00:00<00:00, 12.74it/s]"
          ]
        },
        {
          "output_type": "stream",
          "name": "stdout",
          "text": [
            "                   all      0.974          1\n"
          ]
        },
        {
          "output_type": "stream",
          "name": "stderr",
          "text": [
            "\n"
          ]
        },
        {
          "output_type": "stream",
          "name": "stdout",
          "text": [
            "\n",
            "      Epoch    GPU_mem       loss  Instances       Size\n"
          ]
        },
        {
          "output_type": "stream",
          "name": "stderr",
          "text": [
            "      16/30      2.77G    0.08349         15        256: 100%|██████████| 19/19 [00:03<00:00,  4.82it/s]\n",
            "               classes   top1_acc   top5_acc: 100%|██████████| 3/3 [00:00<00:00,  9.43it/s]"
          ]
        },
        {
          "output_type": "stream",
          "name": "stdout",
          "text": [
            "                   all          1          1\n"
          ]
        },
        {
          "output_type": "stream",
          "name": "stderr",
          "text": [
            "\n"
          ]
        },
        {
          "output_type": "stream",
          "name": "stdout",
          "text": [
            "\n",
            "      Epoch    GPU_mem       loss  Instances       Size\n"
          ]
        },
        {
          "output_type": "stream",
          "name": "stderr",
          "text": [
            "      17/30      2.65G    0.05275         15        256: 100%|██████████| 19/19 [00:02<00:00,  6.50it/s]\n",
            "               classes   top1_acc   top5_acc: 100%|██████████| 3/3 [00:00<00:00, 13.11it/s]"
          ]
        },
        {
          "output_type": "stream",
          "name": "stdout",
          "text": [
            "                   all          1          1\n"
          ]
        },
        {
          "output_type": "stream",
          "name": "stderr",
          "text": [
            "\n"
          ]
        },
        {
          "output_type": "stream",
          "name": "stdout",
          "text": [
            "\n",
            "      Epoch    GPU_mem       loss  Instances       Size\n"
          ]
        },
        {
          "output_type": "stream",
          "name": "stderr",
          "text": [
            "      18/30      2.74G    0.04159         15        256: 100%|██████████| 19/19 [00:02<00:00,  6.52it/s]\n",
            "               classes   top1_acc   top5_acc: 100%|██████████| 3/3 [00:00<00:00, 12.96it/s]"
          ]
        },
        {
          "output_type": "stream",
          "name": "stdout",
          "text": [
            "                   all          1          1\n"
          ]
        },
        {
          "output_type": "stream",
          "name": "stderr",
          "text": [
            "\n"
          ]
        },
        {
          "output_type": "stream",
          "name": "stdout",
          "text": [
            "\n",
            "      Epoch    GPU_mem       loss  Instances       Size\n"
          ]
        },
        {
          "output_type": "stream",
          "name": "stderr",
          "text": [
            "      19/30      2.73G    0.06187         15        256: 100%|██████████| 19/19 [00:03<00:00,  5.80it/s]\n",
            "               classes   top1_acc   top5_acc: 100%|██████████| 3/3 [00:00<00:00, 10.48it/s]"
          ]
        },
        {
          "output_type": "stream",
          "name": "stdout",
          "text": [
            "                   all          1          1\n"
          ]
        },
        {
          "output_type": "stream",
          "name": "stderr",
          "text": [
            "\n"
          ]
        },
        {
          "output_type": "stream",
          "name": "stdout",
          "text": [
            "\n",
            "      Epoch    GPU_mem       loss  Instances       Size\n"
          ]
        },
        {
          "output_type": "stream",
          "name": "stderr",
          "text": [
            "      20/30      2.78G    0.06414         15        256: 100%|██████████| 19/19 [00:02<00:00,  6.43it/s]\n",
            "               classes   top1_acc   top5_acc: 100%|██████████| 3/3 [00:00<00:00, 13.31it/s]"
          ]
        },
        {
          "output_type": "stream",
          "name": "stdout",
          "text": [
            "                   all          1          1\n"
          ]
        },
        {
          "output_type": "stream",
          "name": "stderr",
          "text": [
            "\n"
          ]
        },
        {
          "output_type": "stream",
          "name": "stdout",
          "text": [
            "\n",
            "      Epoch    GPU_mem       loss  Instances       Size\n"
          ]
        },
        {
          "output_type": "stream",
          "name": "stderr",
          "text": [
            "      21/30      2.66G    0.05632         15        256: 100%|██████████| 19/19 [00:05<00:00,  3.78it/s]\n",
            "               classes   top1_acc   top5_acc: 100%|██████████| 3/3 [00:00<00:00, 12.93it/s]"
          ]
        },
        {
          "output_type": "stream",
          "name": "stdout",
          "text": [
            "                   all          1          1\n"
          ]
        },
        {
          "output_type": "stream",
          "name": "stderr",
          "text": [
            "\n"
          ]
        },
        {
          "output_type": "stream",
          "name": "stdout",
          "text": [
            "\n",
            "      Epoch    GPU_mem       loss  Instances       Size\n"
          ]
        },
        {
          "output_type": "stream",
          "name": "stderr",
          "text": [
            "      22/30      2.74G     0.0415         15        256: 100%|██████████| 19/19 [00:02<00:00,  6.39it/s]\n",
            "               classes   top1_acc   top5_acc: 100%|██████████| 3/3 [00:00<00:00, 13.21it/s]"
          ]
        },
        {
          "output_type": "stream",
          "name": "stdout",
          "text": [
            "                   all          1          1\n"
          ]
        },
        {
          "output_type": "stream",
          "name": "stderr",
          "text": [
            "\n"
          ]
        },
        {
          "output_type": "stream",
          "name": "stdout",
          "text": [
            "\n",
            "      Epoch    GPU_mem       loss  Instances       Size\n"
          ]
        },
        {
          "output_type": "stream",
          "name": "stderr",
          "text": [
            "      23/30      2.74G    0.05043         15        256: 100%|██████████| 19/19 [00:04<00:00,  4.52it/s]\n",
            "               classes   top1_acc   top5_acc: 100%|██████████| 3/3 [00:00<00:00,  8.93it/s]"
          ]
        },
        {
          "output_type": "stream",
          "name": "stdout",
          "text": [
            "                   all          1          1\n"
          ]
        },
        {
          "output_type": "stream",
          "name": "stderr",
          "text": [
            "\n"
          ]
        },
        {
          "output_type": "stream",
          "name": "stdout",
          "text": [
            "\n",
            "      Epoch    GPU_mem       loss  Instances       Size\n"
          ]
        },
        {
          "output_type": "stream",
          "name": "stderr",
          "text": [
            "      24/30      2.79G    0.03214         15        256: 100%|██████████| 19/19 [00:02<00:00,  6.58it/s]\n",
            "               classes   top1_acc   top5_acc: 100%|██████████| 3/3 [00:00<00:00, 13.22it/s]"
          ]
        },
        {
          "output_type": "stream",
          "name": "stdout",
          "text": [
            "                   all          1          1\n"
          ]
        },
        {
          "output_type": "stream",
          "name": "stderr",
          "text": [
            "\n"
          ]
        },
        {
          "output_type": "stream",
          "name": "stdout",
          "text": [
            "\n",
            "      Epoch    GPU_mem       loss  Instances       Size\n"
          ]
        },
        {
          "output_type": "stream",
          "name": "stderr",
          "text": [
            "      25/30      2.65G    0.03021         15        256: 100%|██████████| 19/19 [00:03<00:00,  5.39it/s]\n",
            "               classes   top1_acc   top5_acc: 100%|██████████| 3/3 [00:00<00:00, 11.32it/s]"
          ]
        },
        {
          "output_type": "stream",
          "name": "stdout",
          "text": [
            "                   all          1          1\n"
          ]
        },
        {
          "output_type": "stream",
          "name": "stderr",
          "text": [
            "\n"
          ]
        },
        {
          "output_type": "stream",
          "name": "stdout",
          "text": [
            "\n",
            "      Epoch    GPU_mem       loss  Instances       Size\n"
          ]
        },
        {
          "output_type": "stream",
          "name": "stderr",
          "text": [
            "      26/30      2.73G    0.03414         15        256: 100%|██████████| 19/19 [00:04<00:00,  4.68it/s]\n",
            "               classes   top1_acc   top5_acc: 100%|██████████| 3/3 [00:00<00:00, 10.93it/s]"
          ]
        },
        {
          "output_type": "stream",
          "name": "stdout",
          "text": [
            "                   all          1          1\n"
          ]
        },
        {
          "output_type": "stream",
          "name": "stderr",
          "text": [
            "\n"
          ]
        },
        {
          "output_type": "stream",
          "name": "stdout",
          "text": [
            "\n",
            "      Epoch    GPU_mem       loss  Instances       Size\n"
          ]
        },
        {
          "output_type": "stream",
          "name": "stderr",
          "text": [
            "      27/30      2.75G    0.01889         15        256: 100%|██████████| 19/19 [00:03<00:00,  4.87it/s]\n",
            "               classes   top1_acc   top5_acc: 100%|██████████| 3/3 [00:00<00:00, 12.93it/s]"
          ]
        },
        {
          "output_type": "stream",
          "name": "stdout",
          "text": [
            "                   all          1          1\n"
          ]
        },
        {
          "output_type": "stream",
          "name": "stderr",
          "text": [
            "\n"
          ]
        },
        {
          "output_type": "stream",
          "name": "stdout",
          "text": [
            "\n",
            "      Epoch    GPU_mem       loss  Instances       Size\n"
          ]
        },
        {
          "output_type": "stream",
          "name": "stderr",
          "text": [
            "      28/30      2.75G    0.02138         15        256: 100%|██████████| 19/19 [00:02<00:00,  6.41it/s]\n",
            "               classes   top1_acc   top5_acc: 100%|██████████| 3/3 [00:00<00:00, 13.37it/s]"
          ]
        },
        {
          "output_type": "stream",
          "name": "stdout",
          "text": [
            "                   all          1          1\n"
          ]
        },
        {
          "output_type": "stream",
          "name": "stderr",
          "text": [
            "\n"
          ]
        },
        {
          "output_type": "stream",
          "name": "stdout",
          "text": [
            "\n",
            "      Epoch    GPU_mem       loss  Instances       Size\n"
          ]
        },
        {
          "output_type": "stream",
          "name": "stderr",
          "text": [
            "      29/30      2.65G    0.02429         15        256: 100%|██████████| 19/19 [00:02<00:00,  6.69it/s]\n",
            "               classes   top1_acc   top5_acc: 100%|██████████| 3/3 [00:00<00:00, 13.52it/s]"
          ]
        },
        {
          "output_type": "stream",
          "name": "stdout",
          "text": [
            "                   all          1          1\n"
          ]
        },
        {
          "output_type": "stream",
          "name": "stderr",
          "text": [
            "\n"
          ]
        },
        {
          "output_type": "stream",
          "name": "stdout",
          "text": [
            "\n",
            "      Epoch    GPU_mem       loss  Instances       Size\n"
          ]
        },
        {
          "output_type": "stream",
          "name": "stderr",
          "text": [
            "      30/30      2.73G    0.02739         15        256: 100%|██████████| 19/19 [00:02<00:00,  6.44it/s]\n",
            "               classes   top1_acc   top5_acc: 100%|██████████| 3/3 [00:00<00:00, 12.96it/s]"
          ]
        },
        {
          "output_type": "stream",
          "name": "stdout",
          "text": [
            "                   all          1          1\n"
          ]
        },
        {
          "output_type": "stream",
          "name": "stderr",
          "text": [
            "\n"
          ]
        },
        {
          "output_type": "stream",
          "name": "stdout",
          "text": [
            "\n",
            "30 epochs completed in 0.074 hours.\n",
            "Optimizer stripped from runs/classify/train/weights/last.pt, 112.5MB\n",
            "Optimizer stripped from runs/classify/train/weights/best.pt, 112.5MB\n",
            "\n",
            "Validating runs/classify/train/weights/best.pt...\n",
            "Ultralytics 8.3.30 🚀 Python-3.10.12 torch-2.5.0+cu121 CUDA:0 (Tesla T4, 15102MiB)\n",
            "YOLOv8x-cls summary (fused): 133 layers, 56,127,043 parameters, 0 gradients, 153.8 GFLOPs\n",
            "\u001b[34m\u001b[1mtrain:\u001b[0m /content/meatFreshnessP_YOLO/train... found 303 images in 3 classes ✅ \n",
            "\u001b[34m\u001b[1mval:\u001b[0m /content/meatFreshnessP_YOLO/val... found 78 images in 3 classes ✅ \n",
            "\u001b[34m\u001b[1mtest:\u001b[0m None...\n"
          ]
        },
        {
          "output_type": "stream",
          "name": "stderr",
          "text": [
            "               classes   top1_acc   top5_acc: 100%|██████████| 3/3 [00:00<00:00,  7.66it/s]\n"
          ]
        },
        {
          "output_type": "stream",
          "name": "stdout",
          "text": [
            "                   all          1          1\n",
            "Speed: 0.1ms preprocess, 3.6ms inference, 0.0ms loss, 0.0ms postprocess per image\n",
            "Results saved to \u001b[1mruns/classify/train\u001b[0m\n"
          ]
        },
        {
          "output_type": "execute_result",
          "data": {
            "text/plain": [
              "ultralytics.utils.metrics.ClassifyMetrics object with attributes:\n",
              "\n",
              "confusion_matrix: <ultralytics.utils.metrics.ConfusionMatrix object at 0x7ebb162dada0>\n",
              "curves: []\n",
              "curves_results: []\n",
              "fitness: 1.0\n",
              "keys: ['metrics/accuracy_top1', 'metrics/accuracy_top5']\n",
              "results_dict: {'metrics/accuracy_top1': 1.0, 'metrics/accuracy_top5': 1.0, 'fitness': 1.0}\n",
              "save_dir: PosixPath('runs/classify/train')\n",
              "speed: {'preprocess': 0.1486692673120743, 'inference': 3.606334710732485, 'loss': 0.0005318568303034856, 'postprocess': 0.0004890637520032051}\n",
              "task: 'classify'\n",
              "top1: 1.0\n",
              "top5: 1.0"
            ]
          },
          "metadata": {},
          "execution_count": 6
        }
      ]
    },
    {
      "cell_type": "code",
      "source": [
        "import cv2\n",
        "import numpy as np\n",
        "import albumentations as A\n",
        "from matplotlib import pyplot as plt\n",
        "\n",
        "# Пример аугментации\n",
        "transform = A.Compose([\n",
        "    A.HorizontalFlip(p=0.5),\n",
        "    A.RandomRotate90(p=0.5),\n",
        "    A.RandomBrightnessContrast(p=0.2),\n",
        "    A.ShiftScaleRotate(shift_limit=0.05, scale_limit=0.05, rotate_limit=15, p=0.5),\n",
        "    A.GaussNoise(p=0.2)\n",
        "])\n",
        "\n",
        "# Применение аугментации к изображению\n",
        "image = cv2.imread('/content/meatFreshnessP_YOLO/train/FRESH/FRESH_GREEN_ADD_cropped_20.RH.png')\n",
        "augmented = transform(image=image)['image']\n",
        "\n",
        "# Визуализация\n",
        "plt.imshow(cv2.cvtColor(augmented, cv2.COLOR_BGR2RGB))\n",
        "plt.show()\n"
      ],
      "metadata": {
        "id": "ubbSB6Wyi-IV"
      },
      "execution_count": null,
      "outputs": []
    },
    {
      "cell_type": "code",
      "source": [
        "# Загрузка обученной модели YOLOv8\n",
        "model = YOLO('/content/runs/classify/train/weights/best.pt')\n",
        "\n",
        "# Проведение инференса на аугментированном изображении\n",
        "results = model(augmented)\n",
        "\n",
        "import matplotlib.pyplot as plt\n",
        "\n",
        "# Проведение инференса на аугментированном изображении\n",
        "results = model(augmented)\n",
        "\n",
        "# Вывести результаты предсказаний\n",
        "for res in results:\n",
        "    print(res)  # это выведет предсказания\n"
      ],
      "metadata": {
        "colab": {
          "base_uri": "https://localhost:8080/"
        },
        "id": "oFOOACsuZjVW",
        "outputId": "04c8428a-7c16-4aad-af4c-0beab5ac7d4e"
      },
      "execution_count": null,
      "outputs": [
        {
          "output_type": "stream",
          "name": "stdout",
          "text": [
            "\n",
            "0: 256x256 FRESH 0.92, SPOILT 0.05, HALF 0.04, 17.6ms\n",
            "Speed: 7.8ms preprocess, 17.6ms inference, 0.1ms postprocess per image at shape (1, 3, 256, 256)\n",
            "\n",
            "0: 256x256 FRESH 0.92, SPOILT 0.05, HALF 0.04, 14.6ms\n",
            "Speed: 9.6ms preprocess, 14.6ms inference, 0.1ms postprocess per image at shape (1, 3, 256, 256)\n",
            "ultralytics.engine.results.Results object with attributes:\n",
            "\n",
            "boxes: None\n",
            "keypoints: None\n",
            "masks: None\n",
            "names: {0: 'FRESH', 1: 'HALF', 2: 'SPOILT'}\n",
            "obb: None\n",
            "orig_img: array([[[40, 40, 40],\n",
            "        [ 0,  0,  0],\n",
            "        [ 0,  0,  0],\n",
            "        ...,\n",
            "        [ 0,  0,  0],\n",
            "        [ 0,  0,  0],\n",
            "        [75, 75, 75]],\n",
            "\n",
            "       [[58, 58, 58],\n",
            "        [ 0,  0,  0],\n",
            "        [ 0,  0,  0],\n",
            "        ...,\n",
            "        [ 0,  0,  0],\n",
            "        [ 0,  0,  0],\n",
            "        [81, 81, 81]],\n",
            "\n",
            "       [[58, 58, 58],\n",
            "        [ 0,  0,  0],\n",
            "        [ 0,  0,  0],\n",
            "        ...,\n",
            "        [ 0,  0,  0],\n",
            "        [ 0,  0,  0],\n",
            "        [81, 81, 81]],\n",
            "\n",
            "       ...,\n",
            "\n",
            "       [[ 0,  0,  0],\n",
            "        [ 0,  0,  0],\n",
            "        [ 0,  0,  0],\n",
            "        ...,\n",
            "        [ 0,  0,  0],\n",
            "        [ 0,  0,  0],\n",
            "        [ 0,  0,  0]],\n",
            "\n",
            "       [[ 0,  0,  0],\n",
            "        [ 0,  0,  0],\n",
            "        [ 0,  0,  0],\n",
            "        ...,\n",
            "        [ 0,  0,  0],\n",
            "        [ 0,  0,  0],\n",
            "        [ 0,  0,  0]],\n",
            "\n",
            "       [[97, 97, 97],\n",
            "        [ 0,  0,  0],\n",
            "        [ 0,  0,  0],\n",
            "        ...,\n",
            "        [ 0,  0,  0],\n",
            "        [ 0,  0,  0],\n",
            "        [66, 66, 66]]], dtype=uint8)\n",
            "orig_shape: (250, 250)\n",
            "path: 'image0.jpg'\n",
            "probs: ultralytics.engine.results.Probs object\n",
            "save_dir: 'runs/classify/predict'\n",
            "speed: {'preprocess': 9.573221206665039, 'inference': 14.552116394042969, 'postprocess': 0.07271766662597656}\n"
          ]
        }
      ]
    },
    {
      "cell_type": "code",
      "source": [
        "import cv2\n",
        "import numpy as np\n",
        "import matplotlib.pyplot as plt\n",
        "\n",
        "# Проведение инференса на аугментированном изображении\n",
        "results = model(augmented)\n",
        "\n",
        "# Применение аугментации к изображению\n",
        "image = cv2.imread('/content/meatFreshnessP_YOLO/train/SPOILT/SPOILT_RED_cropped_35.RL.png')\n",
        "augmented = transform(image=image)['image']\n",
        "\n",
        "# Визуализация\n",
        "plt.imshow(cv2.cvtColor(augmented, cv2.COLOR_BGR2RGB))\n",
        "plt.show()"
      ],
      "metadata": {
        "colab": {
          "base_uri": "https://localhost:8080/"
        },
        "id": "2uiavwvMfOfU",
        "outputId": "76fc4fd3-67ac-4dcd-89b9-e76bfb5fdee0"
      },
      "execution_count": null,
      "outputs": [
        {
          "output_type": "stream",
          "name": "stdout",
          "text": [
            "\n",
            "0: 256x256 SPOILT 1.00, FRESH 0.00, HALF 0.00, 14.6ms\n",
            "Speed: 4.6ms preprocess, 14.6ms inference, 0.1ms postprocess per image at shape (1, 3, 256, 256)\n"
          ]
        }
      ]
    },
    {
      "cell_type": "code",
      "source": [
        "import cv2\n",
        "import numpy as np\n",
        "import matplotlib.pyplot as plt\n",
        "\n",
        "# Проведение инференса на аугментированном изображении\n",
        "results = model(augmented)\n",
        "\n",
        "# Обрабатываем результат\n",
        "for res in results:\n",
        "    # Получаем вероятности\n",
        "    probs = res.probs\n",
        "    labels = res.names\n",
        "\n",
        "    # Считываем изображение (преобразуем его обратно в формат, понятный OpenCV)\n",
        "    img = res.orig_img\n",
        "\n",
        "    # Создаем текст с вероятностями (сначала получаем индексы классов с максимальной вероятностью)\n",
        "    fresh_prob = probs.top1conf  # вероятности для класса с максимальной вероятностью\n",
        "    fresh_label = labels[probs.top1]  # сам класс с максимальной вероятностью\n",
        "\n",
        "    # Пример для других классов\n",
        "    half_prob = probs.top5conf[1]  # вторая по вероятности метка\n",
        "    half_label = labels[probs.top5[1]]\n",
        "\n",
        "    spoilt_prob = probs.top5conf[2]  # третья по вероятности метка\n",
        "    spoilt_label = labels[probs.top5[2]]\n",
        "\n",
        "    # Формируем строку текста для отображения\n",
        "    text = f\"FRESH {fresh_prob:.2f}, HALF {half_prob:.2f}, SPOILT {spoilt_prob:.2f}\"\n",
        "\n",
        "    # Указываем параметры текста (шрифт, цвет, размер)\n",
        "    font = cv2.FONT_HERSHEY_SIMPLEX\n",
        "    font_scale = 0.7\n",
        "    color = (255, 0, 0)  # синий цвет в формате BGR\n",
        "    thickness = 2\n",
        "    position = (10, 30)  # координаты для начала текста\n",
        "\n",
        "    # Наносим текст на изображение\n",
        "    img_with_text = cv2.putText(img.copy(), text, position, font, font_scale, color, thickness, cv2.LINE_AA)\n",
        "\n",
        "    # Визуализируем изображение с текстом\n",
        "    plt.imshow(cv2.cvtColor(img_with_text, cv2.COLOR_BGR2RGB))  # конвертация BGR в RGB для отображения через matplotlib\n",
        "    plt.axis('off')  # убираем оси\n",
        "    plt.show()\n"
      ],
      "metadata": {
        "colab": {
          "base_uri": "https://localhost:8080/"
        },
        "id": "KqfC2m1YbEHj",
        "outputId": "146c1bf8-b276-4566-c765-a767cfb8b353"
      },
      "execution_count": null,
      "outputs": [
        {
          "output_type": "stream",
          "name": "stdout",
          "text": [
            "\n",
            "0: 256x256 SPOILT 0.96, FRESH 0.04, HALF 0.00, 14.6ms\n",
            "Speed: 4.0ms preprocess, 14.6ms inference, 0.1ms postprocess per image at shape (1, 3, 256, 256)\n"
          ]
        }
      ]
    },
    {
      "cell_type": "code",
      "source": [
        "!yolo task=classify mode=predict model='/content/runs/classify/train/weights/best.pt' source=test_fresh.png"
      ],
      "metadata": {
        "colab": {
          "base_uri": "https://localhost:8080/"
        },
        "id": "6rH4tTv3cz1F",
        "outputId": "c6c88240-e278-4592-835a-1c391c07b858"
      },
      "execution_count": null,
      "outputs": [
        {
          "output_type": "stream",
          "name": "stdout",
          "text": [
            "Ultralytics 8.3.30 🚀 Python-3.10.12 torch-2.5.0+cu121 CUDA:0 (Tesla T4, 15102MiB)\n",
            "YOLOv8x-cls summary (fused): 133 layers, 56,127,043 parameters, 0 gradients, 153.8 GFLOPs\n",
            "\n",
            "image 1/1 /content/test_fresh.png: 256x256 FRESH 1.00, SPOILT 0.00, HALF 0.00, 14.5ms\n",
            "Speed: 8.7ms preprocess, 14.5ms inference, 0.1ms postprocess per image at shape (1, 3, 256, 256)\n",
            "Results saved to \u001b[1mruns/classify/predict\u001b[0m\n",
            "💡 Learn more at https://docs.ultralytics.com/modes/predict\n"
          ]
        }
      ]
    },
    {
      "cell_type": "code",
      "source": [
        "!yolo val model='/content/runs/classify/train/weights/best.pt' data='/content/runs/classify/train/args.yaml'"
      ],
      "metadata": {
        "colab": {
          "base_uri": "https://localhost:8080/"
        },
        "id": "5gbea1Ecl4qO",
        "outputId": "04a6cb9b-a11d-4133-b705-fe7f38183138"
      },
      "execution_count": null,
      "outputs": [
        {
          "output_type": "stream",
          "name": "stdout",
          "text": [
            "Ultralytics 8.3.30 🚀 Python-3.10.12 torch-2.5.0+cu121 CUDA:0 (Tesla T4, 15102MiB)\n",
            "YOLOv8x-cls summary (fused): 133 layers, 56,127,043 parameters, 0 gradients, 153.8 GFLOPs\n",
            "Traceback (most recent call last):\n",
            "  File \"/usr/local/bin/yolo\", line 8, in <module>\n",
            "    sys.exit(entrypoint())\n",
            "  File \"/usr/local/lib/python3.10/dist-packages/ultralytics/cfg/__init__.py\", line 969, in entrypoint\n",
            "    getattr(model, mode)(**overrides)  # default args from model\n",
            "  File \"/usr/local/lib/python3.10/dist-packages/ultralytics/engine/model.py\", line 635, in val\n",
            "    validator(model=self.model)\n",
            "  File \"/usr/local/lib/python3.10/dist-packages/torch/utils/_contextlib.py\", line 116, in decorate_context\n",
            "    return func(*args, **kwargs)\n",
            "  File \"/usr/local/lib/python3.10/dist-packages/ultralytics/engine/validator.py\", line 145, in __call__\n",
            "    self.data = check_det_dataset(self.args.data)\n",
            "  File \"/usr/local/lib/python3.10/dist-packages/ultralytics/data/utils.py\", line 285, in check_det_dataset\n",
            "    raise SyntaxError(\n",
            "SyntaxError: /content/runs/classify/train/args.yaml 'train:' key missing ❌.\n",
            "'train' and 'val' are required in all data YAMLs.\n",
            "Sentry is attempting to send 2 pending events\n",
            "Waiting up to 2 seconds\n",
            "Press Ctrl-C to quit\n"
          ]
        }
      ]
    }
  ]
}