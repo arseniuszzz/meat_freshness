{
  "nbformat": 4,
  "nbformat_minor": 0,
  "metadata": {
    "colab": {
      "provenance": [],
      "gpuType": "T4"
    },
    "kernelspec": {
      "name": "python3",
      "display_name": "Python 3"
    },
    "language_info": {
      "name": "python"
    },
    "accelerator": "GPU"
  },
  "cells": [
    {
      "cell_type": "code",
      "source": [
        "!unzip -q A.zip\n",
        "!unzip -q B.zip\n",
        "!unzip -q C.zip"
      ],
      "metadata": {
        "id": "2brhmpgZjN8P",
        "colab": {
          "base_uri": "https://localhost:8080/"
        },
        "outputId": "8e18a86e-c2b7-41be-bc4a-fcc089f395d1"
      },
      "execution_count": null,
      "outputs": [
        {
          "output_type": "stream",
          "name": "stdout",
          "text": [
            "replace for dataset A/FRESH_BLUE/D.png? [y]es, [n]o, [A]ll, [N]one, [r]ename: A\n",
            "replace for dataset B/FRESH_BLUE/M01.png? [y]es, [n]o, [A]ll, [N]one, [r]ename: A\n",
            "replace for dataset C/FRESH_BLUE/D.png? [y]es, [n]o, [A]ll, [N]one, [r]ename: N\n"
          ]
        }
      ]
    },
    {
      "cell_type": "code",
      "source": [
        "import shutil\n",
        "import os\n",
        "\n",
        "def zip_folder(folder_path):\n",
        "    \"\"\"Архивирует папку в ZIP с тем же именем (без /content/)\"\"\"\n",
        "    folder_name = os.path.basename(folder_path)  # Получаем имя папки без пути\n",
        "    zip_file_name = f\"{folder_name}.zip\"  # Добавляем .zip\n",
        "\n",
        "    try:\n",
        "        shutil.make_archive(zip_file_name[:-4], 'zip', folder_path)  # Создаём архив\n",
        "        print(f\"✅ Успешно архивировано: {folder_name} → {zip_file_name}\")\n",
        "    except Exception as e:\n",
        "        print(f\"❌ Ошибка при архивации: {e}\")\n",
        "\n",
        "# 🔹 Использование\n",
        "folder_to_zip1 = \"/content/runs\"  # Укажи свою папку\n",
        "zip_folder(folder_to_zip1)"
      ],
      "metadata": {
        "colab": {
          "base_uri": "https://localhost:8080/"
        },
        "id": "CbTa-73YkSwf",
        "outputId": "65f6bbd4-5ea2-4aa2-aa38-ff26a776d661"
      },
      "execution_count": null,
      "outputs": [
        {
          "output_type": "stream",
          "name": "stdout",
          "text": [
            "❌ Ошибка при архивации: [Errno 2] No such file or directory: '/content/runs'\n"
          ]
        }
      ]
    },
    {
      "cell_type": "code",
      "source": [
        "import os\n",
        "import shutil\n",
        "import cv2\n",
        "\n",
        "def reorganize_dataset(input_folder, output_folder):\n",
        "    categories = {\n",
        "        \"FRESH\": [\"FRESH_GREEN\", \"FRESH_RED\", \"FRESH_BLUE\"],\n",
        "        \"HALF\": [\"HALF_GREEN\", \"HALF_RED\", \"HALF_BLUE\"],\n",
        "        \"SPOILT\": [\"SPOILT_GREEN\", \"SPOILT_RED\", \"SPOILT_BLUE\"]\n",
        "    }\n",
        "\n",
        "    os.makedirs(output_folder, exist_ok=True)\n",
        "    for category, subdirs in categories.items():\n",
        "        category_path = os.path.join(output_folder, category)\n",
        "        os.makedirs(category_path, exist_ok=True)\n",
        "\n",
        "        for subdir in subdirs:\n",
        "            subdir_path = os.path.join(input_folder, subdir)\n",
        "            if not os.path.isdir(subdir_path):\n",
        "                continue\n",
        "\n",
        "            for filename in os.listdir(subdir_path):\n",
        "                file_path = os.path.join(subdir_path, filename)\n",
        "                if os.path.isfile(file_path):\n",
        "                    new_filename = f\"{subdir}_{filename}\"\n",
        "                    new_path = os.path.join(category_path, new_filename)\n",
        "                    shutil.copy2(file_path, new_path)\n",
        "                    print(f\"Copied: {file_path} -> {new_path}\")\n",
        "\n",
        "def split_images(input_folder):\n",
        "    tile_size = 50\n",
        "\n",
        "    for category in os.listdir(input_folder):\n",
        "        category_path = os.path.join(input_folder, category)\n",
        "        if not os.path.isdir(category_path):\n",
        "            continue\n",
        "\n",
        "        for filename in os.listdir(category_path):\n",
        "            file_path = os.path.join(category_path, filename)\n",
        "            if not filename.endswith(\".png\"):\n",
        "                continue\n",
        "\n",
        "            image = cv2.imread(file_path)\n",
        "            if image is None or image.shape[:2] != (250, 250):\n",
        "                continue\n",
        "\n",
        "            base_name = os.path.splitext(filename)[0]\n",
        "\n",
        "            for row in range(0, 250, tile_size):\n",
        "                for col in range(0, 250, tile_size):\n",
        "                    tile = image[row:row+tile_size, col:col+tile_size]\n",
        "                    tile_filename = f\"{base_name}_row{row//tile_size}_col{col//tile_size}.png\"\n",
        "                    tile_path = os.path.join(category_path, tile_filename)\n",
        "                    cv2.imwrite(tile_path, tile)\n",
        "\n",
        "            os.remove(file_path)\n",
        "            print(f\"Processed and removed: {file_path}\")\n",
        "\n",
        "# Пример использования\n",
        "input_folder = \"/content/for dataset C\"  # Путь к папке с 9 подпапками\n",
        "output_folder = \"3categoryC\"  # Путь к папке с 3 категориями\n",
        "reorganize_dataset(input_folder, output_folder)\n",
        "split_images(output_folder)"
      ],
      "metadata": {
        "colab": {
          "base_uri": "https://localhost:8080/"
        },
        "id": "cFuisU7dpv9M",
        "outputId": "7b534890-27ea-468d-d2b1-a7872d76e57b"
      },
      "execution_count": null,
      "outputs": [
        {
          "output_type": "stream",
          "name": "stdout",
          "text": [
            "Copied: /content/for dataset C/FRESH_GREEN/P-delta.png -> 3categoryC/FRESH/FRESH_GREEN_P-delta.png\n",
            "Copied: /content/for dataset C/FRESH_GREEN/M33.png -> 3categoryC/FRESH/FRESH_GREEN_M33.png\n",
            "Copied: /content/for dataset C/FRESH_GREEN/M23.png -> 3categoryC/FRESH/FRESH_GREEN_M23.png\n",
            "Copied: /content/for dataset C/FRESH_GREEN/M20.png -> 3categoryC/FRESH/FRESH_GREEN_M20.png\n",
            "Copied: /content/for dataset C/FRESH_GREEN/D.png -> 3categoryC/FRESH/FRESH_GREEN_D.png\n",
            "Copied: /content/for dataset C/FRESH_GREEN/M13.png -> 3categoryC/FRESH/FRESH_GREEN_M13.png\n",
            "Copied: /content/for dataset C/FRESH_GREEN/M01.png -> 3categoryC/FRESH/FRESH_GREEN_M01.png\n",
            "Copied: /content/for dataset C/FRESH_GREEN/P2.png -> 3categoryC/FRESH/FRESH_GREEN_P2.png\n",
            "Copied: /content/for dataset C/FRESH_GREEN/M02.png -> 3categoryC/FRESH/FRESH_GREEN_M02.png\n",
            "Copied: /content/for dataset C/FRESH_GREEN/M10.png -> 3categoryC/FRESH/FRESH_GREEN_M10.png\n",
            "Copied: /content/for dataset C/FRESH_GREEN/psi.png -> 3categoryC/FRESH/FRESH_GREEN_psi.png\n",
            "Copied: /content/for dataset C/FRESH_GREEN/M11.png -> 3categoryC/FRESH/FRESH_GREEN_M11.png\n",
            "Copied: /content/for dataset C/FRESH_GREEN/P3.png -> 3categoryC/FRESH/FRESH_GREEN_P3.png\n",
            "Copied: /content/for dataset C/FRESH_GREEN/M30.png -> 3categoryC/FRESH/FRESH_GREEN_M30.png\n",
            "Copied: /content/for dataset C/FRESH_GREEN/M03.png -> 3categoryC/FRESH/FRESH_GREEN_M03.png\n",
            "Copied: /content/for dataset C/FRESH_GREEN/R.png -> 3categoryC/FRESH/FRESH_GREEN_R.png\n",
            "Copied: /content/for dataset C/FRESH_GREEN/M12.png -> 3categoryC/FRESH/FRESH_GREEN_M12.png\n",
            "Copied: /content/for dataset C/FRESH_GREEN/P.png -> 3categoryC/FRESH/FRESH_GREEN_P.png\n",
            "Copied: /content/for dataset C/FRESH_GREEN/M22.png -> 3categoryC/FRESH/FRESH_GREEN_M22.png\n",
            "Copied: /content/for dataset C/FRESH_GREEN/M32.png -> 3categoryC/FRESH/FRESH_GREEN_M32.png\n",
            "Copied: /content/for dataset C/FRESH_GREEN/P1.png -> 3categoryC/FRESH/FRESH_GREEN_P1.png\n",
            "Copied: /content/for dataset C/FRESH_GREEN/M21.png -> 3categoryC/FRESH/FRESH_GREEN_M21.png\n",
            "Copied: /content/for dataset C/FRESH_GREEN/delta.png -> 3categoryC/FRESH/FRESH_GREEN_delta.png\n",
            "Copied: /content/for dataset C/FRESH_GREEN/M31.png -> 3categoryC/FRESH/FRESH_GREEN_M31.png\n",
            "Copied: /content/for dataset C/FRESH_GREEN/Ps.png -> 3categoryC/FRESH/FRESH_GREEN_Ps.png\n",
            "Copied: /content/for dataset C/FRESH_RED/M33.png -> 3categoryC/FRESH/FRESH_RED_M33.png\n",
            "Copied: /content/for dataset C/FRESH_RED/M23.png -> 3categoryC/FRESH/FRESH_RED_M23.png\n",
            "Copied: /content/for dataset C/FRESH_RED/R_output.png -> 3categoryC/FRESH/FRESH_RED_R_output.png\n",
            "Copied: /content/for dataset C/FRESH_RED/M20.png -> 3categoryC/FRESH/FRESH_RED_M20.png\n",
            "Copied: /content/for dataset C/FRESH_RED/Delta_output.png -> 3categoryC/FRESH/FRESH_RED_Delta_output.png\n",
            "Copied: /content/for dataset C/FRESH_RED/D.png -> 3categoryC/FRESH/FRESH_RED_D.png\n",
            "Copied: /content/for dataset C/FRESH_RED/M13.png -> 3categoryC/FRESH/FRESH_RED_M13.png\n",
            "Copied: /content/for dataset C/FRESH_RED/M01.png -> 3categoryC/FRESH/FRESH_RED_M01.png\n",
            "Copied: /content/for dataset C/FRESH_RED/P2.png -> 3categoryC/FRESH/FRESH_RED_P2.png\n",
            "Copied: /content/for dataset C/FRESH_RED/M02.png -> 3categoryC/FRESH/FRESH_RED_M02.png\n",
            "Copied: /content/for dataset C/FRESH_RED/P_delta_method1.png -> 3categoryC/FRESH/FRESH_RED_P_delta_method1.png\n",
            "Copied: /content/for dataset C/FRESH_RED/M10.png -> 3categoryC/FRESH/FRESH_RED_M10.png\n",
            "Copied: /content/for dataset C/FRESH_RED/M11.png -> 3categoryC/FRESH/FRESH_RED_M11.png\n",
            "Copied: /content/for dataset C/FRESH_RED/P3.png -> 3categoryC/FRESH/FRESH_RED_P3.png\n",
            "Copied: /content/for dataset C/FRESH_RED/M30.png -> 3categoryC/FRESH/FRESH_RED_M30.png\n",
            "Copied: /content/for dataset C/FRESH_RED/M03.png -> 3categoryC/FRESH/FRESH_RED_M03.png\n",
            "Copied: /content/for dataset C/FRESH_RED/M12.png -> 3categoryC/FRESH/FRESH_RED_M12.png\n",
            "Copied: /content/for dataset C/FRESH_RED/P.png -> 3categoryC/FRESH/FRESH_RED_P.png\n",
            "Copied: /content/for dataset C/FRESH_RED/Psi_output.png -> 3categoryC/FRESH/FRESH_RED_Psi_output.png\n",
            "Copied: /content/for dataset C/FRESH_RED/M22.png -> 3categoryC/FRESH/FRESH_RED_M22.png\n",
            "Copied: /content/for dataset C/FRESH_RED/M32.png -> 3categoryC/FRESH/FRESH_RED_M32.png\n",
            "Copied: /content/for dataset C/FRESH_RED/P1.png -> 3categoryC/FRESH/FRESH_RED_P1.png\n",
            "Copied: /content/for dataset C/FRESH_RED/M21.png -> 3categoryC/FRESH/FRESH_RED_M21.png\n",
            "Copied: /content/for dataset C/FRESH_RED/M31.png -> 3categoryC/FRESH/FRESH_RED_M31.png\n",
            "Copied: /content/for dataset C/FRESH_RED/Ps.png -> 3categoryC/FRESH/FRESH_RED_Ps.png\n",
            "Copied: /content/for dataset C/FRESH_BLUE/M33.png -> 3categoryC/FRESH/FRESH_BLUE_M33.png\n",
            "Copied: /content/for dataset C/FRESH_BLUE/M23.png -> 3categoryC/FRESH/FRESH_BLUE_M23.png\n",
            "Copied: /content/for dataset C/FRESH_BLUE/R_output.png -> 3categoryC/FRESH/FRESH_BLUE_R_output.png\n",
            "Copied: /content/for dataset C/FRESH_BLUE/M20.png -> 3categoryC/FRESH/FRESH_BLUE_M20.png\n",
            "Copied: /content/for dataset C/FRESH_BLUE/Delta_output.png -> 3categoryC/FRESH/FRESH_BLUE_Delta_output.png\n",
            "Copied: /content/for dataset C/FRESH_BLUE/D.png -> 3categoryC/FRESH/FRESH_BLUE_D.png\n",
            "Copied: /content/for dataset C/FRESH_BLUE/M13.png -> 3categoryC/FRESH/FRESH_BLUE_M13.png\n",
            "Copied: /content/for dataset C/FRESH_BLUE/M01.png -> 3categoryC/FRESH/FRESH_BLUE_M01.png\n",
            "Copied: /content/for dataset C/FRESH_BLUE/P2.png -> 3categoryC/FRESH/FRESH_BLUE_P2.png\n",
            "Copied: /content/for dataset C/FRESH_BLUE/M02.png -> 3categoryC/FRESH/FRESH_BLUE_M02.png\n",
            "Copied: /content/for dataset C/FRESH_BLUE/P_delta_method1.png -> 3categoryC/FRESH/FRESH_BLUE_P_delta_method1.png\n",
            "Copied: /content/for dataset C/FRESH_BLUE/M10.png -> 3categoryC/FRESH/FRESH_BLUE_M10.png\n",
            "Copied: /content/for dataset C/FRESH_BLUE/M11.png -> 3categoryC/FRESH/FRESH_BLUE_M11.png\n",
            "Copied: /content/for dataset C/FRESH_BLUE/P3.png -> 3categoryC/FRESH/FRESH_BLUE_P3.png\n",
            "Copied: /content/for dataset C/FRESH_BLUE/M30.png -> 3categoryC/FRESH/FRESH_BLUE_M30.png\n",
            "Copied: /content/for dataset C/FRESH_BLUE/M03.png -> 3categoryC/FRESH/FRESH_BLUE_M03.png\n",
            "Copied: /content/for dataset C/FRESH_BLUE/M12.png -> 3categoryC/FRESH/FRESH_BLUE_M12.png\n",
            "Copied: /content/for dataset C/FRESH_BLUE/P.png -> 3categoryC/FRESH/FRESH_BLUE_P.png\n",
            "Copied: /content/for dataset C/FRESH_BLUE/Psi_output.png -> 3categoryC/FRESH/FRESH_BLUE_Psi_output.png\n",
            "Copied: /content/for dataset C/FRESH_BLUE/M22.png -> 3categoryC/FRESH/FRESH_BLUE_M22.png\n",
            "Copied: /content/for dataset C/FRESH_BLUE/M32.png -> 3categoryC/FRESH/FRESH_BLUE_M32.png\n",
            "Copied: /content/for dataset C/FRESH_BLUE/P1.png -> 3categoryC/FRESH/FRESH_BLUE_P1.png\n",
            "Copied: /content/for dataset C/FRESH_BLUE/M21.png -> 3categoryC/FRESH/FRESH_BLUE_M21.png\n",
            "Copied: /content/for dataset C/FRESH_BLUE/M31.png -> 3categoryC/FRESH/FRESH_BLUE_M31.png\n",
            "Copied: /content/for dataset C/FRESH_BLUE/Ps.png -> 3categoryC/FRESH/FRESH_BLUE_Ps.png\n",
            "Copied: /content/for dataset C/HALF_GREEN/M33.png -> 3categoryC/HALF/HALF_GREEN_M33.png\n",
            "Copied: /content/for dataset C/HALF_GREEN/M23.png -> 3categoryC/HALF/HALF_GREEN_M23.png\n",
            "Copied: /content/for dataset C/HALF_GREEN/R_output.png -> 3categoryC/HALF/HALF_GREEN_R_output.png\n",
            "Copied: /content/for dataset C/HALF_GREEN/M20.png -> 3categoryC/HALF/HALF_GREEN_M20.png\n",
            "Copied: /content/for dataset C/HALF_GREEN/Delta_output.png -> 3categoryC/HALF/HALF_GREEN_Delta_output.png\n",
            "Copied: /content/for dataset C/HALF_GREEN/D.png -> 3categoryC/HALF/HALF_GREEN_D.png\n",
            "Copied: /content/for dataset C/HALF_GREEN/M13.png -> 3categoryC/HALF/HALF_GREEN_M13.png\n",
            "Copied: /content/for dataset C/HALF_GREEN/M01.png -> 3categoryC/HALF/HALF_GREEN_M01.png\n",
            "Copied: /content/for dataset C/HALF_GREEN/P2.png -> 3categoryC/HALF/HALF_GREEN_P2.png\n",
            "Copied: /content/for dataset C/HALF_GREEN/M02.png -> 3categoryC/HALF/HALF_GREEN_M02.png\n",
            "Copied: /content/for dataset C/HALF_GREEN/P_delta_method1.png -> 3categoryC/HALF/HALF_GREEN_P_delta_method1.png\n",
            "Copied: /content/for dataset C/HALF_GREEN/M10.png -> 3categoryC/HALF/HALF_GREEN_M10.png\n",
            "Copied: /content/for dataset C/HALF_GREEN/M11.png -> 3categoryC/HALF/HALF_GREEN_M11.png\n",
            "Copied: /content/for dataset C/HALF_GREEN/P3.png -> 3categoryC/HALF/HALF_GREEN_P3.png\n",
            "Copied: /content/for dataset C/HALF_GREEN/M30.png -> 3categoryC/HALF/HALF_GREEN_M30.png\n",
            "Copied: /content/for dataset C/HALF_GREEN/M03.png -> 3categoryC/HALF/HALF_GREEN_M03.png\n",
            "Copied: /content/for dataset C/HALF_GREEN/M12.png -> 3categoryC/HALF/HALF_GREEN_M12.png\n",
            "Copied: /content/for dataset C/HALF_GREEN/P.png -> 3categoryC/HALF/HALF_GREEN_P.png\n",
            "Copied: /content/for dataset C/HALF_GREEN/Psi_output.png -> 3categoryC/HALF/HALF_GREEN_Psi_output.png\n",
            "Copied: /content/for dataset C/HALF_GREEN/M22.png -> 3categoryC/HALF/HALF_GREEN_M22.png\n",
            "Copied: /content/for dataset C/HALF_GREEN/M32.png -> 3categoryC/HALF/HALF_GREEN_M32.png\n",
            "Copied: /content/for dataset C/HALF_GREEN/P1.png -> 3categoryC/HALF/HALF_GREEN_P1.png\n",
            "Copied: /content/for dataset C/HALF_GREEN/M21.png -> 3categoryC/HALF/HALF_GREEN_M21.png\n",
            "Copied: /content/for dataset C/HALF_GREEN/M31.png -> 3categoryC/HALF/HALF_GREEN_M31.png\n",
            "Copied: /content/for dataset C/HALF_GREEN/Ps.png -> 3categoryC/HALF/HALF_GREEN_Ps.png\n",
            "Copied: /content/for dataset C/HALF_RED/M33.png -> 3categoryC/HALF/HALF_RED_M33.png\n",
            "Copied: /content/for dataset C/HALF_RED/M23.png -> 3categoryC/HALF/HALF_RED_M23.png\n",
            "Copied: /content/for dataset C/HALF_RED/R_output.png -> 3categoryC/HALF/HALF_RED_R_output.png\n",
            "Copied: /content/for dataset C/HALF_RED/M20.png -> 3categoryC/HALF/HALF_RED_M20.png\n",
            "Copied: /content/for dataset C/HALF_RED/Delta_output.png -> 3categoryC/HALF/HALF_RED_Delta_output.png\n",
            "Copied: /content/for dataset C/HALF_RED/D.png -> 3categoryC/HALF/HALF_RED_D.png\n",
            "Copied: /content/for dataset C/HALF_RED/M13.png -> 3categoryC/HALF/HALF_RED_M13.png\n",
            "Copied: /content/for dataset C/HALF_RED/M01.png -> 3categoryC/HALF/HALF_RED_M01.png\n",
            "Copied: /content/for dataset C/HALF_RED/P2.png -> 3categoryC/HALF/HALF_RED_P2.png\n",
            "Copied: /content/for dataset C/HALF_RED/M02.png -> 3categoryC/HALF/HALF_RED_M02.png\n",
            "Copied: /content/for dataset C/HALF_RED/P_delta_method1.png -> 3categoryC/HALF/HALF_RED_P_delta_method1.png\n",
            "Copied: /content/for dataset C/HALF_RED/M10.png -> 3categoryC/HALF/HALF_RED_M10.png\n",
            "Copied: /content/for dataset C/HALF_RED/M11.png -> 3categoryC/HALF/HALF_RED_M11.png\n",
            "Copied: /content/for dataset C/HALF_RED/P3.png -> 3categoryC/HALF/HALF_RED_P3.png\n",
            "Copied: /content/for dataset C/HALF_RED/M30.png -> 3categoryC/HALF/HALF_RED_M30.png\n",
            "Copied: /content/for dataset C/HALF_RED/M03.png -> 3categoryC/HALF/HALF_RED_M03.png\n",
            "Copied: /content/for dataset C/HALF_RED/M12.png -> 3categoryC/HALF/HALF_RED_M12.png\n",
            "Copied: /content/for dataset C/HALF_RED/P.png -> 3categoryC/HALF/HALF_RED_P.png\n",
            "Copied: /content/for dataset C/HALF_RED/Psi_output.png -> 3categoryC/HALF/HALF_RED_Psi_output.png\n",
            "Copied: /content/for dataset C/HALF_RED/M22.png -> 3categoryC/HALF/HALF_RED_M22.png\n",
            "Copied: /content/for dataset C/HALF_RED/M32.png -> 3categoryC/HALF/HALF_RED_M32.png\n",
            "Copied: /content/for dataset C/HALF_RED/P1.png -> 3categoryC/HALF/HALF_RED_P1.png\n",
            "Copied: /content/for dataset C/HALF_RED/M21.png -> 3categoryC/HALF/HALF_RED_M21.png\n",
            "Copied: /content/for dataset C/HALF_RED/M31.png -> 3categoryC/HALF/HALF_RED_M31.png\n",
            "Copied: /content/for dataset C/HALF_RED/Ps.png -> 3categoryC/HALF/HALF_RED_Ps.png\n",
            "Copied: /content/for dataset C/HALF_BLUE/M33.png -> 3categoryC/HALF/HALF_BLUE_M33.png\n",
            "Copied: /content/for dataset C/HALF_BLUE/M23.png -> 3categoryC/HALF/HALF_BLUE_M23.png\n",
            "Copied: /content/for dataset C/HALF_BLUE/R_output.png -> 3categoryC/HALF/HALF_BLUE_R_output.png\n",
            "Copied: /content/for dataset C/HALF_BLUE/M20.png -> 3categoryC/HALF/HALF_BLUE_M20.png\n",
            "Copied: /content/for dataset C/HALF_BLUE/Delta_output.png -> 3categoryC/HALF/HALF_BLUE_Delta_output.png\n",
            "Copied: /content/for dataset C/HALF_BLUE/D.png -> 3categoryC/HALF/HALF_BLUE_D.png\n",
            "Copied: /content/for dataset C/HALF_BLUE/M13.png -> 3categoryC/HALF/HALF_BLUE_M13.png\n",
            "Copied: /content/for dataset C/HALF_BLUE/M01.png -> 3categoryC/HALF/HALF_BLUE_M01.png\n",
            "Copied: /content/for dataset C/HALF_BLUE/P2.png -> 3categoryC/HALF/HALF_BLUE_P2.png\n",
            "Copied: /content/for dataset C/HALF_BLUE/M02.png -> 3categoryC/HALF/HALF_BLUE_M02.png\n",
            "Copied: /content/for dataset C/HALF_BLUE/P_delta_method1.png -> 3categoryC/HALF/HALF_BLUE_P_delta_method1.png\n",
            "Copied: /content/for dataset C/HALF_BLUE/M10.png -> 3categoryC/HALF/HALF_BLUE_M10.png\n",
            "Copied: /content/for dataset C/HALF_BLUE/M11.png -> 3categoryC/HALF/HALF_BLUE_M11.png\n",
            "Copied: /content/for dataset C/HALF_BLUE/P3.png -> 3categoryC/HALF/HALF_BLUE_P3.png\n",
            "Copied: /content/for dataset C/HALF_BLUE/M30.png -> 3categoryC/HALF/HALF_BLUE_M30.png\n",
            "Copied: /content/for dataset C/HALF_BLUE/M03.png -> 3categoryC/HALF/HALF_BLUE_M03.png\n",
            "Copied: /content/for dataset C/HALF_BLUE/M12.png -> 3categoryC/HALF/HALF_BLUE_M12.png\n",
            "Copied: /content/for dataset C/HALF_BLUE/P.png -> 3categoryC/HALF/HALF_BLUE_P.png\n",
            "Copied: /content/for dataset C/HALF_BLUE/Psi_output.png -> 3categoryC/HALF/HALF_BLUE_Psi_output.png\n",
            "Copied: /content/for dataset C/HALF_BLUE/M22.png -> 3categoryC/HALF/HALF_BLUE_M22.png\n",
            "Copied: /content/for dataset C/HALF_BLUE/M32.png -> 3categoryC/HALF/HALF_BLUE_M32.png\n",
            "Copied: /content/for dataset C/HALF_BLUE/P1.png -> 3categoryC/HALF/HALF_BLUE_P1.png\n",
            "Copied: /content/for dataset C/HALF_BLUE/M21.png -> 3categoryC/HALF/HALF_BLUE_M21.png\n",
            "Copied: /content/for dataset C/HALF_BLUE/M31.png -> 3categoryC/HALF/HALF_BLUE_M31.png\n",
            "Copied: /content/for dataset C/HALF_BLUE/Ps.png -> 3categoryC/HALF/HALF_BLUE_Ps.png\n",
            "Copied: /content/for dataset C/SPOILT_GREEN/M33.png -> 3categoryC/SPOILT/SPOILT_GREEN_M33.png\n",
            "Copied: /content/for dataset C/SPOILT_GREEN/M23.png -> 3categoryC/SPOILT/SPOILT_GREEN_M23.png\n",
            "Copied: /content/for dataset C/SPOILT_GREEN/R_output.png -> 3categoryC/SPOILT/SPOILT_GREEN_R_output.png\n",
            "Copied: /content/for dataset C/SPOILT_GREEN/M20.png -> 3categoryC/SPOILT/SPOILT_GREEN_M20.png\n",
            "Copied: /content/for dataset C/SPOILT_GREEN/Delta_output.png -> 3categoryC/SPOILT/SPOILT_GREEN_Delta_output.png\n",
            "Copied: /content/for dataset C/SPOILT_GREEN/D.png -> 3categoryC/SPOILT/SPOILT_GREEN_D.png\n",
            "Copied: /content/for dataset C/SPOILT_GREEN/M13.png -> 3categoryC/SPOILT/SPOILT_GREEN_M13.png\n",
            "Copied: /content/for dataset C/SPOILT_GREEN/M01.png -> 3categoryC/SPOILT/SPOILT_GREEN_M01.png\n",
            "Copied: /content/for dataset C/SPOILT_GREEN/P2.png -> 3categoryC/SPOILT/SPOILT_GREEN_P2.png\n",
            "Copied: /content/for dataset C/SPOILT_GREEN/M02.png -> 3categoryC/SPOILT/SPOILT_GREEN_M02.png\n",
            "Copied: /content/for dataset C/SPOILT_GREEN/P_delta_method1.png -> 3categoryC/SPOILT/SPOILT_GREEN_P_delta_method1.png\n",
            "Copied: /content/for dataset C/SPOILT_GREEN/M10.png -> 3categoryC/SPOILT/SPOILT_GREEN_M10.png\n",
            "Copied: /content/for dataset C/SPOILT_GREEN/M11.png -> 3categoryC/SPOILT/SPOILT_GREEN_M11.png\n",
            "Copied: /content/for dataset C/SPOILT_GREEN/P3.png -> 3categoryC/SPOILT/SPOILT_GREEN_P3.png\n",
            "Copied: /content/for dataset C/SPOILT_GREEN/M30.png -> 3categoryC/SPOILT/SPOILT_GREEN_M30.png\n",
            "Copied: /content/for dataset C/SPOILT_GREEN/M03.png -> 3categoryC/SPOILT/SPOILT_GREEN_M03.png\n",
            "Copied: /content/for dataset C/SPOILT_GREEN/M12.png -> 3categoryC/SPOILT/SPOILT_GREEN_M12.png\n",
            "Copied: /content/for dataset C/SPOILT_GREEN/P.png -> 3categoryC/SPOILT/SPOILT_GREEN_P.png\n",
            "Copied: /content/for dataset C/SPOILT_GREEN/Psi_output.png -> 3categoryC/SPOILT/SPOILT_GREEN_Psi_output.png\n",
            "Copied: /content/for dataset C/SPOILT_GREEN/M22.png -> 3categoryC/SPOILT/SPOILT_GREEN_M22.png\n",
            "Copied: /content/for dataset C/SPOILT_GREEN/M32.png -> 3categoryC/SPOILT/SPOILT_GREEN_M32.png\n",
            "Copied: /content/for dataset C/SPOILT_GREEN/P1.png -> 3categoryC/SPOILT/SPOILT_GREEN_P1.png\n",
            "Copied: /content/for dataset C/SPOILT_GREEN/M21.png -> 3categoryC/SPOILT/SPOILT_GREEN_M21.png\n",
            "Copied: /content/for dataset C/SPOILT_GREEN/M31.png -> 3categoryC/SPOILT/SPOILT_GREEN_M31.png\n",
            "Copied: /content/for dataset C/SPOILT_GREEN/Ps.png -> 3categoryC/SPOILT/SPOILT_GREEN_Ps.png\n",
            "Copied: /content/for dataset C/SPOILT_RED/M33.png -> 3categoryC/SPOILT/SPOILT_RED_M33.png\n",
            "Copied: /content/for dataset C/SPOILT_RED/M23.png -> 3categoryC/SPOILT/SPOILT_RED_M23.png\n",
            "Copied: /content/for dataset C/SPOILT_RED/R_output.png -> 3categoryC/SPOILT/SPOILT_RED_R_output.png\n",
            "Copied: /content/for dataset C/SPOILT_RED/M20.png -> 3categoryC/SPOILT/SPOILT_RED_M20.png\n",
            "Copied: /content/for dataset C/SPOILT_RED/Delta_output.png -> 3categoryC/SPOILT/SPOILT_RED_Delta_output.png\n",
            "Copied: /content/for dataset C/SPOILT_RED/D.png -> 3categoryC/SPOILT/SPOILT_RED_D.png\n",
            "Copied: /content/for dataset C/SPOILT_RED/M13.png -> 3categoryC/SPOILT/SPOILT_RED_M13.png\n",
            "Copied: /content/for dataset C/SPOILT_RED/M01.png -> 3categoryC/SPOILT/SPOILT_RED_M01.png\n",
            "Copied: /content/for dataset C/SPOILT_RED/P2.png -> 3categoryC/SPOILT/SPOILT_RED_P2.png\n",
            "Copied: /content/for dataset C/SPOILT_RED/M02.png -> 3categoryC/SPOILT/SPOILT_RED_M02.png\n",
            "Copied: /content/for dataset C/SPOILT_RED/P_delta_method1.png -> 3categoryC/SPOILT/SPOILT_RED_P_delta_method1.png\n",
            "Copied: /content/for dataset C/SPOILT_RED/M10.png -> 3categoryC/SPOILT/SPOILT_RED_M10.png\n",
            "Copied: /content/for dataset C/SPOILT_RED/M11.png -> 3categoryC/SPOILT/SPOILT_RED_M11.png\n",
            "Copied: /content/for dataset C/SPOILT_RED/P3.png -> 3categoryC/SPOILT/SPOILT_RED_P3.png\n",
            "Copied: /content/for dataset C/SPOILT_RED/M30.png -> 3categoryC/SPOILT/SPOILT_RED_M30.png\n",
            "Copied: /content/for dataset C/SPOILT_RED/M03.png -> 3categoryC/SPOILT/SPOILT_RED_M03.png\n",
            "Copied: /content/for dataset C/SPOILT_RED/M12.png -> 3categoryC/SPOILT/SPOILT_RED_M12.png\n",
            "Copied: /content/for dataset C/SPOILT_RED/P.png -> 3categoryC/SPOILT/SPOILT_RED_P.png\n",
            "Copied: /content/for dataset C/SPOILT_RED/Psi_output.png -> 3categoryC/SPOILT/SPOILT_RED_Psi_output.png\n",
            "Copied: /content/for dataset C/SPOILT_RED/M22.png -> 3categoryC/SPOILT/SPOILT_RED_M22.png\n",
            "Copied: /content/for dataset C/SPOILT_RED/M32.png -> 3categoryC/SPOILT/SPOILT_RED_M32.png\n",
            "Copied: /content/for dataset C/SPOILT_RED/P1.png -> 3categoryC/SPOILT/SPOILT_RED_P1.png\n",
            "Copied: /content/for dataset C/SPOILT_RED/M21.png -> 3categoryC/SPOILT/SPOILT_RED_M21.png\n",
            "Copied: /content/for dataset C/SPOILT_RED/M31.png -> 3categoryC/SPOILT/SPOILT_RED_M31.png\n",
            "Copied: /content/for dataset C/SPOILT_RED/Ps.png -> 3categoryC/SPOILT/SPOILT_RED_Ps.png\n",
            "Copied: /content/for dataset C/SPOILT_BLUE/M33.png -> 3categoryC/SPOILT/SPOILT_BLUE_M33.png\n",
            "Copied: /content/for dataset C/SPOILT_BLUE/M23.png -> 3categoryC/SPOILT/SPOILT_BLUE_M23.png\n",
            "Copied: /content/for dataset C/SPOILT_BLUE/R_output.png -> 3categoryC/SPOILT/SPOILT_BLUE_R_output.png\n",
            "Copied: /content/for dataset C/SPOILT_BLUE/M20.png -> 3categoryC/SPOILT/SPOILT_BLUE_M20.png\n",
            "Copied: /content/for dataset C/SPOILT_BLUE/Delta_output.png -> 3categoryC/SPOILT/SPOILT_BLUE_Delta_output.png\n",
            "Copied: /content/for dataset C/SPOILT_BLUE/D.png -> 3categoryC/SPOILT/SPOILT_BLUE_D.png\n",
            "Copied: /content/for dataset C/SPOILT_BLUE/M13.png -> 3categoryC/SPOILT/SPOILT_BLUE_M13.png\n",
            "Copied: /content/for dataset C/SPOILT_BLUE/M01.png -> 3categoryC/SPOILT/SPOILT_BLUE_M01.png\n",
            "Copied: /content/for dataset C/SPOILT_BLUE/P2.png -> 3categoryC/SPOILT/SPOILT_BLUE_P2.png\n",
            "Copied: /content/for dataset C/SPOILT_BLUE/M02.png -> 3categoryC/SPOILT/SPOILT_BLUE_M02.png\n",
            "Copied: /content/for dataset C/SPOILT_BLUE/P_delta_method1.png -> 3categoryC/SPOILT/SPOILT_BLUE_P_delta_method1.png\n",
            "Copied: /content/for dataset C/SPOILT_BLUE/M10.png -> 3categoryC/SPOILT/SPOILT_BLUE_M10.png\n",
            "Copied: /content/for dataset C/SPOILT_BLUE/M11.png -> 3categoryC/SPOILT/SPOILT_BLUE_M11.png\n",
            "Copied: /content/for dataset C/SPOILT_BLUE/P3.png -> 3categoryC/SPOILT/SPOILT_BLUE_P3.png\n",
            "Copied: /content/for dataset C/SPOILT_BLUE/M30.png -> 3categoryC/SPOILT/SPOILT_BLUE_M30.png\n",
            "Copied: /content/for dataset C/SPOILT_BLUE/M03.png -> 3categoryC/SPOILT/SPOILT_BLUE_M03.png\n",
            "Copied: /content/for dataset C/SPOILT_BLUE/M12.png -> 3categoryC/SPOILT/SPOILT_BLUE_M12.png\n",
            "Copied: /content/for dataset C/SPOILT_BLUE/P.png -> 3categoryC/SPOILT/SPOILT_BLUE_P.png\n",
            "Copied: /content/for dataset C/SPOILT_BLUE/Psi_output.png -> 3categoryC/SPOILT/SPOILT_BLUE_Psi_output.png\n",
            "Copied: /content/for dataset C/SPOILT_BLUE/M22.png -> 3categoryC/SPOILT/SPOILT_BLUE_M22.png\n",
            "Copied: /content/for dataset C/SPOILT_BLUE/M32.png -> 3categoryC/SPOILT/SPOILT_BLUE_M32.png\n",
            "Copied: /content/for dataset C/SPOILT_BLUE/P1.png -> 3categoryC/SPOILT/SPOILT_BLUE_P1.png\n",
            "Copied: /content/for dataset C/SPOILT_BLUE/M21.png -> 3categoryC/SPOILT/SPOILT_BLUE_M21.png\n",
            "Copied: /content/for dataset C/SPOILT_BLUE/M31.png -> 3categoryC/SPOILT/SPOILT_BLUE_M31.png\n",
            "Copied: /content/for dataset C/SPOILT_BLUE/Ps.png -> 3categoryC/SPOILT/SPOILT_BLUE_Ps.png\n",
            "Processed and removed: 3categoryC/HALF/HALF_RED_M03.png\n",
            "Processed and removed: 3categoryC/HALF/HALF_BLUE_M02.png\n",
            "Processed and removed: 3categoryC/HALF/HALF_RED_R_output.png\n",
            "Processed and removed: 3categoryC/HALF/HALF_RED_M23.png\n",
            "Processed and removed: 3categoryC/HALF/HALF_BLUE_P.png\n",
            "Processed and removed: 3categoryC/HALF/HALF_GREEN_M10.png\n",
            "Processed and removed: 3categoryC/HALF/HALF_GREEN_M12.png\n",
            "Processed and removed: 3categoryC/HALF/HALF_RED_M22.png\n",
            "Processed and removed: 3categoryC/HALF/HALF_RED_M13.png\n",
            "Processed and removed: 3categoryC/HALF/HALF_BLUE_M10.png\n",
            "Processed and removed: 3categoryC/HALF/HALF_BLUE_M03.png\n",
            "Processed and removed: 3categoryC/HALF/HALF_BLUE_M13.png\n",
            "Processed and removed: 3categoryC/HALF/HALF_BLUE_M01.png\n",
            "Processed and removed: 3categoryC/HALF/HALF_RED_P1.png\n",
            "Processed and removed: 3categoryC/HALF/HALF_GREEN_Psi_output.png\n",
            "Processed and removed: 3categoryC/HALF/HALF_GREEN_M03.png\n",
            "Processed and removed: 3categoryC/HALF/HALF_BLUE_M11.png\n",
            "Processed and removed: 3categoryC/HALF/HALF_BLUE_P_delta_method1.png\n",
            "Processed and removed: 3categoryC/HALF/HALF_RED_M20.png\n",
            "Processed and removed: 3categoryC/HALF/HALF_GREEN_Ps.png\n",
            "Processed and removed: 3categoryC/HALF/HALF_BLUE_P1.png\n",
            "Processed and removed: 3categoryC/HALF/HALF_RED_M21.png\n",
            "Processed and removed: 3categoryC/HALF/HALF_GREEN_D.png\n",
            "Processed and removed: 3categoryC/HALF/HALF_BLUE_Delta_output.png\n",
            "Processed and removed: 3categoryC/HALF/HALF_RED_M30.png\n",
            "Processed and removed: 3categoryC/HALF/HALF_BLUE_M30.png\n",
            "Processed and removed: 3categoryC/HALF/HALF_BLUE_M32.png\n",
            "Processed and removed: 3categoryC/HALF/HALF_GREEN_M11.png\n",
            "Processed and removed: 3categoryC/HALF/HALF_RED_P_delta_method1.png\n",
            "Processed and removed: 3categoryC/HALF/HALF_BLUE_M22.png\n",
            "Processed and removed: 3categoryC/HALF/HALF_BLUE_Ps.png\n",
            "Processed and removed: 3categoryC/HALF/HALF_GREEN_M02.png\n",
            "Processed and removed: 3categoryC/HALF/HALF_RED_P.png\n",
            "Processed and removed: 3categoryC/HALF/HALF_RED_P2.png\n",
            "Processed and removed: 3categoryC/HALF/HALF_GREEN_M31.png\n",
            "Processed and removed: 3categoryC/HALF/HALF_GREEN_P3.png\n",
            "Processed and removed: 3categoryC/HALF/HALF_GREEN_P.png\n",
            "Processed and removed: 3categoryC/HALF/HALF_GREEN_M20.png\n",
            "Processed and removed: 3categoryC/HALF/HALF_GREEN_M13.png\n",
            "Processed and removed: 3categoryC/HALF/HALF_GREEN_M30.png\n",
            "Processed and removed: 3categoryC/HALF/HALF_BLUE_R_output.png\n",
            "Processed and removed: 3categoryC/HALF/HALF_GREEN_M32.png\n",
            "Processed and removed: 3categoryC/HALF/HALF_BLUE_Psi_output.png\n",
            "Processed and removed: 3categoryC/HALF/HALF_RED_Ps.png\n",
            "Processed and removed: 3categoryC/HALF/HALF_BLUE_D.png\n",
            "Processed and removed: 3categoryC/HALF/HALF_RED_M01.png\n",
            "Processed and removed: 3categoryC/HALF/HALF_RED_P3.png\n",
            "Processed and removed: 3categoryC/HALF/HALF_BLUE_M21.png\n",
            "Processed and removed: 3categoryC/HALF/HALF_BLUE_M33.png\n",
            "Processed and removed: 3categoryC/HALF/HALF_RED_M02.png\n",
            "Processed and removed: 3categoryC/HALF/HALF_GREEN_Delta_output.png\n",
            "Processed and removed: 3categoryC/HALF/HALF_GREEN_M23.png\n",
            "Processed and removed: 3categoryC/HALF/HALF_BLUE_M31.png\n",
            "Processed and removed: 3categoryC/HALF/HALF_RED_D.png\n",
            "Processed and removed: 3categoryC/HALF/HALF_RED_Psi_output.png\n",
            "Processed and removed: 3categoryC/HALF/HALF_BLUE_P3.png\n",
            "Processed and removed: 3categoryC/HALF/HALF_RED_M33.png\n",
            "Processed and removed: 3categoryC/HALF/HALF_RED_Delta_output.png\n",
            "Processed and removed: 3categoryC/HALF/HALF_GREEN_M22.png\n",
            "Processed and removed: 3categoryC/HALF/HALF_GREEN_M33.png\n",
            "Processed and removed: 3categoryC/HALF/HALF_RED_M10.png\n",
            "Processed and removed: 3categoryC/HALF/HALF_BLUE_P2.png\n",
            "Processed and removed: 3categoryC/HALF/HALF_GREEN_R_output.png\n",
            "Processed and removed: 3categoryC/HALF/HALF_GREEN_M01.png\n",
            "Processed and removed: 3categoryC/HALF/HALF_RED_M32.png\n",
            "Processed and removed: 3categoryC/HALF/HALF_RED_M31.png\n",
            "Processed and removed: 3categoryC/HALF/HALF_GREEN_P2.png\n",
            "Processed and removed: 3categoryC/HALF/HALF_GREEN_P1.png\n",
            "Processed and removed: 3categoryC/HALF/HALF_RED_M11.png\n",
            "Processed and removed: 3categoryC/HALF/HALF_BLUE_M20.png\n",
            "Processed and removed: 3categoryC/HALF/HALF_BLUE_M23.png\n",
            "Processed and removed: 3categoryC/HALF/HALF_GREEN_M21.png\n",
            "Processed and removed: 3categoryC/HALF/HALF_BLUE_M12.png\n",
            "Processed and removed: 3categoryC/HALF/HALF_GREEN_P_delta_method1.png\n",
            "Processed and removed: 3categoryC/HALF/HALF_RED_M12.png\n",
            "Processed and removed: 3categoryC/SPOILT/SPOILT_RED_Ps.png\n",
            "Processed and removed: 3categoryC/SPOILT/SPOILT_GREEN_M23.png\n",
            "Processed and removed: 3categoryC/SPOILT/SPOILT_RED_M31.png\n",
            "Processed and removed: 3categoryC/SPOILT/SPOILT_GREEN_M03.png\n",
            "Processed and removed: 3categoryC/SPOILT/SPOILT_GREEN_P_delta_method1.png\n",
            "Processed and removed: 3categoryC/SPOILT/SPOILT_BLUE_M12.png\n",
            "Processed and removed: 3categoryC/SPOILT/SPOILT_GREEN_Psi_output.png\n",
            "Processed and removed: 3categoryC/SPOILT/SPOILT_RED_P1.png\n",
            "Processed and removed: 3categoryC/SPOILT/SPOILT_RED_M10.png\n",
            "Processed and removed: 3categoryC/SPOILT/SPOILT_GREEN_P2.png\n",
            "Processed and removed: 3categoryC/SPOILT/SPOILT_BLUE_P3.png\n",
            "Processed and removed: 3categoryC/SPOILT/SPOILT_BLUE_M30.png\n",
            "Processed and removed: 3categoryC/SPOILT/SPOILT_RED_M11.png\n",
            "Processed and removed: 3categoryC/SPOILT/SPOILT_BLUE_M01.png\n",
            "Processed and removed: 3categoryC/SPOILT/SPOILT_GREEN_M02.png\n",
            "Processed and removed: 3categoryC/SPOILT/SPOILT_GREEN_M31.png\n",
            "Processed and removed: 3categoryC/SPOILT/SPOILT_RED_M03.png\n",
            "Processed and removed: 3categoryC/SPOILT/SPOILT_RED_P_delta_method1.png\n",
            "Processed and removed: 3categoryC/SPOILT/SPOILT_GREEN_M21.png\n",
            "Processed and removed: 3categoryC/SPOILT/SPOILT_BLUE_M33.png\n",
            "Processed and removed: 3categoryC/SPOILT/SPOILT_BLUE_Ps.png\n",
            "Processed and removed: 3categoryC/SPOILT/SPOILT_RED_R_output.png\n",
            "Processed and removed: 3categoryC/SPOILT/SPOILT_BLUE_P1.png\n",
            "Processed and removed: 3categoryC/SPOILT/SPOILT_RED_M12.png\n",
            "Processed and removed: 3categoryC/SPOILT/SPOILT_RED_M33.png\n",
            "Processed and removed: 3categoryC/SPOILT/SPOILT_RED_P.png\n",
            "Processed and removed: 3categoryC/SPOILT/SPOILT_BLUE_R_output.png\n",
            "Processed and removed: 3categoryC/SPOILT/SPOILT_RED_M21.png\n",
            "Processed and removed: 3categoryC/SPOILT/SPOILT_RED_Psi_output.png\n",
            "Processed and removed: 3categoryC/SPOILT/SPOILT_GREEN_M22.png\n",
            "Processed and removed: 3categoryC/SPOILT/SPOILT_RED_P3.png\n",
            "Processed and removed: 3categoryC/SPOILT/SPOILT_RED_M32.png\n",
            "Processed and removed: 3categoryC/SPOILT/SPOILT_RED_M22.png\n",
            "Processed and removed: 3categoryC/SPOILT/SPOILT_GREEN_M20.png\n",
            "Processed and removed: 3categoryC/SPOILT/SPOILT_BLUE_M21.png\n",
            "Processed and removed: 3categoryC/SPOILT/SPOILT_GREEN_M33.png\n",
            "Processed and removed: 3categoryC/SPOILT/SPOILT_BLUE_M03.png\n",
            "Processed and removed: 3categoryC/SPOILT/SPOILT_BLUE_P_delta_method1.png\n",
            "Processed and removed: 3categoryC/SPOILT/SPOILT_GREEN_M32.png\n",
            "Processed and removed: 3categoryC/SPOILT/SPOILT_GREEN_P3.png\n",
            "Processed and removed: 3categoryC/SPOILT/SPOILT_RED_M30.png\n",
            "Processed and removed: 3categoryC/SPOILT/SPOILT_BLUE_M22.png\n",
            "Processed and removed: 3categoryC/SPOILT/SPOILT_RED_D.png\n",
            "Processed and removed: 3categoryC/SPOILT/SPOILT_BLUE_M23.png\n",
            "Processed and removed: 3categoryC/SPOILT/SPOILT_GREEN_P1.png\n",
            "Processed and removed: 3categoryC/SPOILT/SPOILT_BLUE_P.png\n",
            "Processed and removed: 3categoryC/SPOILT/SPOILT_BLUE_P2.png\n",
            "Processed and removed: 3categoryC/SPOILT/SPOILT_BLUE_M11.png\n",
            "Processed and removed: 3categoryC/SPOILT/SPOILT_RED_M02.png\n",
            "Processed and removed: 3categoryC/SPOILT/SPOILT_GREEN_M11.png\n",
            "Processed and removed: 3categoryC/SPOILT/SPOILT_GREEN_M10.png\n",
            "Processed and removed: 3categoryC/SPOILT/SPOILT_BLUE_M13.png\n",
            "Processed and removed: 3categoryC/SPOILT/SPOILT_GREEN_Ps.png\n",
            "Processed and removed: 3categoryC/SPOILT/SPOILT_BLUE_M10.png\n",
            "Processed and removed: 3categoryC/SPOILT/SPOILT_GREEN_R_output.png\n",
            "Processed and removed: 3categoryC/SPOILT/SPOILT_RED_M23.png\n",
            "Processed and removed: 3categoryC/SPOILT/SPOILT_GREEN_P.png\n",
            "Processed and removed: 3categoryC/SPOILT/SPOILT_GREEN_M30.png\n",
            "Processed and removed: 3categoryC/SPOILT/SPOILT_BLUE_Psi_output.png\n",
            "Processed and removed: 3categoryC/SPOILT/SPOILT_BLUE_M02.png\n",
            "Processed and removed: 3categoryC/SPOILT/SPOILT_RED_M20.png\n",
            "Processed and removed: 3categoryC/SPOILT/SPOILT_RED_M13.png\n",
            "Processed and removed: 3categoryC/SPOILT/SPOILT_GREEN_M13.png\n",
            "Processed and removed: 3categoryC/SPOILT/SPOILT_BLUE_M20.png\n",
            "Processed and removed: 3categoryC/SPOILT/SPOILT_GREEN_D.png\n",
            "Processed and removed: 3categoryC/SPOILT/SPOILT_BLUE_D.png\n",
            "Processed and removed: 3categoryC/SPOILT/SPOILT_RED_M01.png\n",
            "Processed and removed: 3categoryC/SPOILT/SPOILT_GREEN_M12.png\n",
            "Processed and removed: 3categoryC/SPOILT/SPOILT_GREEN_M01.png\n",
            "Processed and removed: 3categoryC/SPOILT/SPOILT_BLUE_M31.png\n",
            "Processed and removed: 3categoryC/SPOILT/SPOILT_BLUE_Delta_output.png\n",
            "Processed and removed: 3categoryC/SPOILT/SPOILT_GREEN_Delta_output.png\n",
            "Processed and removed: 3categoryC/SPOILT/SPOILT_RED_Delta_output.png\n",
            "Processed and removed: 3categoryC/SPOILT/SPOILT_RED_P2.png\n",
            "Processed and removed: 3categoryC/SPOILT/SPOILT_BLUE_M32.png\n",
            "Processed and removed: 3categoryC/FRESH/FRESH_BLUE_M31.png\n",
            "Processed and removed: 3categoryC/FRESH/FRESH_BLUE_Psi_output.png\n",
            "Processed and removed: 3categoryC/FRESH/FRESH_BLUE_P.png\n",
            "Processed and removed: 3categoryC/FRESH/FRESH_GREEN_M23.png\n",
            "Processed and removed: 3categoryC/FRESH/FRESH_RED_D.png\n",
            "Processed and removed: 3categoryC/FRESH/FRESH_BLUE_M33.png\n",
            "Processed and removed: 3categoryC/FRESH/FRESH_RED_M32.png\n",
            "Processed and removed: 3categoryC/FRESH/FRESH_BLUE_M20.png\n",
            "Processed and removed: 3categoryC/FRESH/FRESH_RED_M20.png\n",
            "Processed and removed: 3categoryC/FRESH/FRESH_RED_R_output.png\n",
            "Processed and removed: 3categoryC/FRESH/FRESH_GREEN_M11.png\n",
            "Processed and removed: 3categoryC/FRESH/FRESH_GREEN_P.png\n",
            "Processed and removed: 3categoryC/FRESH/FRESH_RED_P2.png\n",
            "Processed and removed: 3categoryC/FRESH/FRESH_BLUE_M12.png\n",
            "Processed and removed: 3categoryC/FRESH/FRESH_BLUE_M02.png\n",
            "Processed and removed: 3categoryC/FRESH/FRESH_GREEN_M21.png\n",
            "Processed and removed: 3categoryC/FRESH/FRESH_RED_M23.png\n",
            "Processed and removed: 3categoryC/FRESH/FRESH_RED_Delta_output.png\n",
            "Processed and removed: 3categoryC/FRESH/FRESH_GREEN_R.png\n",
            "Processed and removed: 3categoryC/FRESH/FRESH_RED_M33.png\n",
            "Processed and removed: 3categoryC/FRESH/FRESH_GREEN_Ps.png\n",
            "Processed and removed: 3categoryC/FRESH/FRESH_RED_P3.png\n",
            "Processed and removed: 3categoryC/FRESH/FRESH_BLUE_Ps.png\n",
            "Processed and removed: 3categoryC/FRESH/FRESH_BLUE_P1.png\n",
            "Processed and removed: 3categoryC/FRESH/FRESH_GREEN_M31.png\n",
            "Processed and removed: 3categoryC/FRESH/FRESH_RED_P_delta_method1.png\n",
            "Processed and removed: 3categoryC/FRESH/FRESH_GREEN_M20.png\n",
            "Processed and removed: 3categoryC/FRESH/FRESH_GREEN_P2.png\n",
            "Processed and removed: 3categoryC/FRESH/FRESH_GREEN_M02.png\n",
            "Processed and removed: 3categoryC/FRESH/FRESH_GREEN_M10.png\n",
            "Processed and removed: 3categoryC/FRESH/FRESH_RED_M02.png\n",
            "Processed and removed: 3categoryC/FRESH/FRESH_GREEN_M13.png\n",
            "Processed and removed: 3categoryC/FRESH/FRESH_BLUE_R_output.png\n",
            "Processed and removed: 3categoryC/FRESH/FRESH_RED_Psi_output.png\n",
            "Processed and removed: 3categoryC/FRESH/FRESH_RED_M13.png\n",
            "Processed and removed: 3categoryC/FRESH/FRESH_GREEN_P3.png\n",
            "Processed and removed: 3categoryC/FRESH/FRESH_BLUE_Delta_output.png\n",
            "Processed and removed: 3categoryC/FRESH/FRESH_RED_M31.png\n",
            "Processed and removed: 3categoryC/FRESH/FRESH_GREEN_M03.png\n",
            "Processed and removed: 3categoryC/FRESH/FRESH_GREEN_M32.png\n",
            "Processed and removed: 3categoryC/FRESH/FRESH_GREEN_D.png\n",
            "Processed and removed: 3categoryC/FRESH/FRESH_GREEN_M01.png\n",
            "Processed and removed: 3categoryC/FRESH/FRESH_RED_M12.png\n",
            "Processed and removed: 3categoryC/FRESH/FRESH_RED_M03.png\n",
            "Processed and removed: 3categoryC/FRESH/FRESH_RED_Ps.png\n",
            "Processed and removed: 3categoryC/FRESH/FRESH_BLUE_M32.png\n",
            "Processed and removed: 3categoryC/FRESH/FRESH_BLUE_D.png\n",
            "Processed and removed: 3categoryC/FRESH/FRESH_GREEN_M12.png\n",
            "Processed and removed: 3categoryC/FRESH/FRESH_BLUE_M01.png\n",
            "Processed and removed: 3categoryC/FRESH/FRESH_BLUE_M30.png\n",
            "Processed and removed: 3categoryC/FRESH/FRESH_RED_P.png\n",
            "Processed and removed: 3categoryC/FRESH/FRESH_BLUE_P_delta_method1.png\n",
            "Processed and removed: 3categoryC/FRESH/FRESH_RED_M01.png\n",
            "Processed and removed: 3categoryC/FRESH/FRESH_BLUE_M10.png\n",
            "Processed and removed: 3categoryC/FRESH/FRESH_BLUE_M13.png\n",
            "Processed and removed: 3categoryC/FRESH/FRESH_BLUE_P2.png\n",
            "Processed and removed: 3categoryC/FRESH/FRESH_RED_M10.png\n",
            "Processed and removed: 3categoryC/FRESH/FRESH_GREEN_M30.png\n",
            "Processed and removed: 3categoryC/FRESH/FRESH_RED_M30.png\n",
            "Processed and removed: 3categoryC/FRESH/FRESH_GREEN_psi.png\n",
            "Processed and removed: 3categoryC/FRESH/FRESH_BLUE_M11.png\n",
            "Processed and removed: 3categoryC/FRESH/FRESH_GREEN_P-delta.png\n",
            "Processed and removed: 3categoryC/FRESH/FRESH_GREEN_M33.png\n",
            "Processed and removed: 3categoryC/FRESH/FRESH_BLUE_P3.png\n",
            "Processed and removed: 3categoryC/FRESH/FRESH_RED_M21.png\n",
            "Processed and removed: 3categoryC/FRESH/FRESH_GREEN_M22.png\n",
            "Processed and removed: 3categoryC/FRESH/FRESH_BLUE_M22.png\n",
            "Processed and removed: 3categoryC/FRESH/FRESH_BLUE_M21.png\n",
            "Processed and removed: 3categoryC/FRESH/FRESH_GREEN_delta.png\n",
            "Processed and removed: 3categoryC/FRESH/FRESH_BLUE_M23.png\n",
            "Processed and removed: 3categoryC/FRESH/FRESH_BLUE_M03.png\n",
            "Processed and removed: 3categoryC/FRESH/FRESH_RED_P1.png\n",
            "Processed and removed: 3categoryC/FRESH/FRESH_RED_M11.png\n",
            "Processed and removed: 3categoryC/FRESH/FRESH_RED_M22.png\n",
            "Processed and removed: 3categoryC/FRESH/FRESH_GREEN_P1.png\n"
          ]
        }
      ]
    },
    {
      "cell_type": "code",
      "source": [
        "import os\n",
        "import shutil\n",
        "import random\n",
        "\n",
        "# Укажите путь к вашему исходному датасету\n",
        "DATASET_PATH = \"/content/3categoryC\"\n",
        "OUTPUT_PATH = \"YOLOC_50\"\n",
        "CATEGORIES = [\"FRESH\", \"HALF\", \"SPOILT\"]\n",
        "SPLIT_RATIO = 0.8  # 80% train, 20% val\n",
        "\n",
        "# Функция для создания структуры папок\n",
        "def create_dir_structure(base_path):\n",
        "    for split in [\"train\", \"val\"]:\n",
        "        for category in CATEGORIES:\n",
        "            os.makedirs(os.path.join(base_path, split, category), exist_ok=True)\n",
        "\n",
        "# Функция для разделения файлов на train и val\n",
        "def split_dataset():\n",
        "    create_dir_structure(OUTPUT_PATH)\n",
        "\n",
        "    for category in CATEGORIES:\n",
        "        img_path = os.path.join(DATASET_PATH, category)\n",
        "\n",
        "        images = sorted([f for f in os.listdir(img_path) if f.endswith(('.jpg', '.png', '.jpeg'))])\n",
        "        random.shuffle(images)\n",
        "        split_idx = int(len(images) * SPLIT_RATIO)\n",
        "\n",
        "        train_imgs, val_imgs = images[:split_idx], images[split_idx:]\n",
        "\n",
        "        for img in train_imgs:\n",
        "            shutil.copy(os.path.join(img_path, img), os.path.join(OUTPUT_PATH, \"train\", category, img))\n",
        "\n",
        "        for img in val_imgs:\n",
        "            shutil.copy(os.path.join(img_path, img), os.path.join(OUTPUT_PATH, \"val\", category, img))\n",
        "\n",
        "if __name__ == \"__main__\":\n",
        "    split_dataset()\n",
        "    print(\"Dataset successfully split into train/val with 80/20 ratio.\")"
      ],
      "metadata": {
        "colab": {
          "base_uri": "https://localhost:8080/"
        },
        "id": "omazEckHsVL7",
        "outputId": "5bac3088-f484-44c2-dbe9-213ffc864002"
      },
      "execution_count": null,
      "outputs": [
        {
          "output_type": "stream",
          "name": "stdout",
          "text": [
            "Dataset successfully split into train/val with 80/20 ratio.\n"
          ]
        }
      ]
    },
    {
      "cell_type": "code",
      "source": [
        "!pip install ultralytics"
      ],
      "metadata": {
        "colab": {
          "base_uri": "https://localhost:8080/"
        },
        "id": "gka5zowjtWxr",
        "outputId": "1ddaeae8-4c03-4dac-fa1a-22b3adde227c",
        "collapsed": true
      },
      "execution_count": null,
      "outputs": [
        {
          "output_type": "stream",
          "name": "stdout",
          "text": [
            "Requirement already satisfied: ultralytics in /usr/local/lib/python3.11/dist-packages (8.3.98)\n",
            "Requirement already satisfied: numpy<=2.1.1,>=1.23.0 in /usr/local/lib/python3.11/dist-packages (from ultralytics) (2.0.2)\n",
            "Requirement already satisfied: matplotlib>=3.3.0 in /usr/local/lib/python3.11/dist-packages (from ultralytics) (3.10.0)\n",
            "Requirement already satisfied: opencv-python>=4.6.0 in /usr/local/lib/python3.11/dist-packages (from ultralytics) (4.11.0.86)\n",
            "Requirement already satisfied: pillow>=7.1.2 in /usr/local/lib/python3.11/dist-packages (from ultralytics) (11.1.0)\n",
            "Requirement already satisfied: pyyaml>=5.3.1 in /usr/local/lib/python3.11/dist-packages (from ultralytics) (6.0.2)\n",
            "Requirement already satisfied: requests>=2.23.0 in /usr/local/lib/python3.11/dist-packages (from ultralytics) (2.32.3)\n",
            "Requirement already satisfied: scipy>=1.4.1 in /usr/local/lib/python3.11/dist-packages (from ultralytics) (1.14.1)\n",
            "Requirement already satisfied: torch>=1.8.0 in /usr/local/lib/python3.11/dist-packages (from ultralytics) (2.6.0+cu124)\n",
            "Requirement already satisfied: torchvision>=0.9.0 in /usr/local/lib/python3.11/dist-packages (from ultralytics) (0.21.0+cu124)\n",
            "Requirement already satisfied: tqdm>=4.64.0 in /usr/local/lib/python3.11/dist-packages (from ultralytics) (4.67.1)\n",
            "Requirement already satisfied: psutil in /usr/local/lib/python3.11/dist-packages (from ultralytics) (5.9.5)\n",
            "Requirement already satisfied: py-cpuinfo in /usr/local/lib/python3.11/dist-packages (from ultralytics) (9.0.0)\n",
            "Requirement already satisfied: pandas>=1.1.4 in /usr/local/lib/python3.11/dist-packages (from ultralytics) (2.2.2)\n",
            "Requirement already satisfied: seaborn>=0.11.0 in /usr/local/lib/python3.11/dist-packages (from ultralytics) (0.13.2)\n",
            "Requirement already satisfied: ultralytics-thop>=2.0.0 in /usr/local/lib/python3.11/dist-packages (from ultralytics) (2.0.14)\n",
            "Requirement already satisfied: contourpy>=1.0.1 in /usr/local/lib/python3.11/dist-packages (from matplotlib>=3.3.0->ultralytics) (1.3.1)\n",
            "Requirement already satisfied: cycler>=0.10 in /usr/local/lib/python3.11/dist-packages (from matplotlib>=3.3.0->ultralytics) (0.12.1)\n",
            "Requirement already satisfied: fonttools>=4.22.0 in /usr/local/lib/python3.11/dist-packages (from matplotlib>=3.3.0->ultralytics) (4.56.0)\n",
            "Requirement already satisfied: kiwisolver>=1.3.1 in /usr/local/lib/python3.11/dist-packages (from matplotlib>=3.3.0->ultralytics) (1.4.8)\n",
            "Requirement already satisfied: packaging>=20.0 in /usr/local/lib/python3.11/dist-packages (from matplotlib>=3.3.0->ultralytics) (24.2)\n",
            "Requirement already satisfied: pyparsing>=2.3.1 in /usr/local/lib/python3.11/dist-packages (from matplotlib>=3.3.0->ultralytics) (3.2.1)\n",
            "Requirement already satisfied: python-dateutil>=2.7 in /usr/local/lib/python3.11/dist-packages (from matplotlib>=3.3.0->ultralytics) (2.8.2)\n",
            "Requirement already satisfied: pytz>=2020.1 in /usr/local/lib/python3.11/dist-packages (from pandas>=1.1.4->ultralytics) (2025.1)\n",
            "Requirement already satisfied: tzdata>=2022.7 in /usr/local/lib/python3.11/dist-packages (from pandas>=1.1.4->ultralytics) (2025.1)\n",
            "Requirement already satisfied: charset-normalizer<4,>=2 in /usr/local/lib/python3.11/dist-packages (from requests>=2.23.0->ultralytics) (3.4.1)\n",
            "Requirement already satisfied: idna<4,>=2.5 in /usr/local/lib/python3.11/dist-packages (from requests>=2.23.0->ultralytics) (3.10)\n",
            "Requirement already satisfied: urllib3<3,>=1.21.1 in /usr/local/lib/python3.11/dist-packages (from requests>=2.23.0->ultralytics) (2.3.0)\n",
            "Requirement already satisfied: certifi>=2017.4.17 in /usr/local/lib/python3.11/dist-packages (from requests>=2.23.0->ultralytics) (2025.1.31)\n",
            "Requirement already satisfied: filelock in /usr/local/lib/python3.11/dist-packages (from torch>=1.8.0->ultralytics) (3.18.0)\n",
            "Requirement already satisfied: typing-extensions>=4.10.0 in /usr/local/lib/python3.11/dist-packages (from torch>=1.8.0->ultralytics) (4.12.2)\n",
            "Requirement already satisfied: networkx in /usr/local/lib/python3.11/dist-packages (from torch>=1.8.0->ultralytics) (3.4.2)\n",
            "Requirement already satisfied: jinja2 in /usr/local/lib/python3.11/dist-packages (from torch>=1.8.0->ultralytics) (3.1.6)\n",
            "Requirement already satisfied: fsspec in /usr/local/lib/python3.11/dist-packages (from torch>=1.8.0->ultralytics) (2025.3.0)\n",
            "Requirement already satisfied: nvidia-cuda-nvrtc-cu12==12.4.127 in /usr/local/lib/python3.11/dist-packages (from torch>=1.8.0->ultralytics) (12.4.127)\n",
            "Requirement already satisfied: nvidia-cuda-runtime-cu12==12.4.127 in /usr/local/lib/python3.11/dist-packages (from torch>=1.8.0->ultralytics) (12.4.127)\n",
            "Requirement already satisfied: nvidia-cuda-cupti-cu12==12.4.127 in /usr/local/lib/python3.11/dist-packages (from torch>=1.8.0->ultralytics) (12.4.127)\n",
            "Requirement already satisfied: nvidia-cudnn-cu12==9.1.0.70 in /usr/local/lib/python3.11/dist-packages (from torch>=1.8.0->ultralytics) (9.1.0.70)\n",
            "Requirement already satisfied: nvidia-cublas-cu12==12.4.5.8 in /usr/local/lib/python3.11/dist-packages (from torch>=1.8.0->ultralytics) (12.4.5.8)\n",
            "Requirement already satisfied: nvidia-cufft-cu12==11.2.1.3 in /usr/local/lib/python3.11/dist-packages (from torch>=1.8.0->ultralytics) (11.2.1.3)\n",
            "Requirement already satisfied: nvidia-curand-cu12==10.3.5.147 in /usr/local/lib/python3.11/dist-packages (from torch>=1.8.0->ultralytics) (10.3.5.147)\n",
            "Requirement already satisfied: nvidia-cusolver-cu12==11.6.1.9 in /usr/local/lib/python3.11/dist-packages (from torch>=1.8.0->ultralytics) (11.6.1.9)\n",
            "Requirement already satisfied: nvidia-cusparse-cu12==12.3.1.170 in /usr/local/lib/python3.11/dist-packages (from torch>=1.8.0->ultralytics) (12.3.1.170)\n",
            "Requirement already satisfied: nvidia-cusparselt-cu12==0.6.2 in /usr/local/lib/python3.11/dist-packages (from torch>=1.8.0->ultralytics) (0.6.2)\n",
            "Requirement already satisfied: nvidia-nccl-cu12==2.21.5 in /usr/local/lib/python3.11/dist-packages (from torch>=1.8.0->ultralytics) (2.21.5)\n",
            "Requirement already satisfied: nvidia-nvtx-cu12==12.4.127 in /usr/local/lib/python3.11/dist-packages (from torch>=1.8.0->ultralytics) (12.4.127)\n",
            "Requirement already satisfied: nvidia-nvjitlink-cu12==12.4.127 in /usr/local/lib/python3.11/dist-packages (from torch>=1.8.0->ultralytics) (12.4.127)\n",
            "Requirement already satisfied: triton==3.2.0 in /usr/local/lib/python3.11/dist-packages (from torch>=1.8.0->ultralytics) (3.2.0)\n",
            "Requirement already satisfied: sympy==1.13.1 in /usr/local/lib/python3.11/dist-packages (from torch>=1.8.0->ultralytics) (1.13.1)\n",
            "Requirement already satisfied: mpmath<1.4,>=1.1.0 in /usr/local/lib/python3.11/dist-packages (from sympy==1.13.1->torch>=1.8.0->ultralytics) (1.3.0)\n",
            "Requirement already satisfied: six>=1.5 in /usr/local/lib/python3.11/dist-packages (from python-dateutil>=2.7->matplotlib>=3.3.0->ultralytics) (1.17.0)\n",
            "Requirement already satisfied: MarkupSafe>=2.0 in /usr/local/lib/python3.11/dist-packages (from jinja2->torch>=1.8.0->ultralytics) (3.0.2)\n"
          ]
        }
      ]
    },
    {
      "cell_type": "code",
      "source": [
        "!pip install scikit-learn"
      ],
      "metadata": {
        "colab": {
          "base_uri": "https://localhost:8080/"
        },
        "id": "2y8hQuIatpYv",
        "outputId": "a0928ece-64b9-4f87-adbe-ab81b5c59783"
      },
      "execution_count": null,
      "outputs": [
        {
          "output_type": "stream",
          "name": "stdout",
          "text": [
            "Requirement already satisfied: scikit-learn in /usr/local/lib/python3.11/dist-packages (1.6.1)\n",
            "Requirement already satisfied: numpy>=1.19.5 in /usr/local/lib/python3.11/dist-packages (from scikit-learn) (2.0.2)\n",
            "Requirement already satisfied: scipy>=1.6.0 in /usr/local/lib/python3.11/dist-packages (from scikit-learn) (1.14.1)\n",
            "Requirement already satisfied: joblib>=1.2.0 in /usr/local/lib/python3.11/dist-packages (from scikit-learn) (1.4.2)\n",
            "Requirement already satisfied: threadpoolctl>=3.1.0 in /usr/local/lib/python3.11/dist-packages (from scikit-learn) (3.6.0)\n"
          ]
        }
      ]
    },
    {
      "cell_type": "code",
      "source": [
        "!pip install torch torchvision torchaudio --index-url https://download.pytorch.org/whl/cu118 --verbose"
      ],
      "metadata": {
        "colab": {
          "base_uri": "https://localhost:8080/"
        },
        "id": "eo0vADQ0t8dl",
        "outputId": "2437e9de-284d-49a0-9e10-bbe7e8d5e693",
        "collapsed": true
      },
      "execution_count": null,
      "outputs": [
        {
          "output_type": "stream",
          "name": "stdout",
          "text": [
            "Using pip 24.1.2 from /usr/local/lib/python3.11/dist-packages/pip (python 3.11)\n",
            "Looking in indexes: https://download.pytorch.org/whl/cu118\n",
            "Requirement already satisfied: torch in /usr/local/lib/python3.11/dist-packages (2.6.0+cu124)\n",
            "Requirement already satisfied: torchvision in /usr/local/lib/python3.11/dist-packages (0.21.0+cu124)\n",
            "Requirement already satisfied: torchaudio in /usr/local/lib/python3.11/dist-packages (2.6.0+cu124)\n",
            "Requirement already satisfied: filelock in /usr/local/lib/python3.11/dist-packages (from torch) (3.18.0)\n",
            "Requirement already satisfied: typing-extensions>=4.10.0 in /usr/local/lib/python3.11/dist-packages (from torch) (4.12.2)\n",
            "Requirement already satisfied: networkx in /usr/local/lib/python3.11/dist-packages (from torch) (3.4.2)\n",
            "Requirement already satisfied: jinja2 in /usr/local/lib/python3.11/dist-packages (from torch) (3.1.6)\n",
            "Requirement already satisfied: fsspec in /usr/local/lib/python3.11/dist-packages (from torch) (2025.3.0)\n",
            "Requirement already satisfied: nvidia-cuda-nvrtc-cu12==12.4.127 in /usr/local/lib/python3.11/dist-packages (from torch) (12.4.127)\n",
            "Requirement already satisfied: nvidia-cuda-runtime-cu12==12.4.127 in /usr/local/lib/python3.11/dist-packages (from torch) (12.4.127)\n",
            "Requirement already satisfied: nvidia-cuda-cupti-cu12==12.4.127 in /usr/local/lib/python3.11/dist-packages (from torch) (12.4.127)\n",
            "Requirement already satisfied: nvidia-cudnn-cu12==9.1.0.70 in /usr/local/lib/python3.11/dist-packages (from torch) (9.1.0.70)\n",
            "Requirement already satisfied: nvidia-cublas-cu12==12.4.5.8 in /usr/local/lib/python3.11/dist-packages (from torch) (12.4.5.8)\n",
            "Requirement already satisfied: nvidia-cufft-cu12==11.2.1.3 in /usr/local/lib/python3.11/dist-packages (from torch) (11.2.1.3)\n",
            "Requirement already satisfied: nvidia-curand-cu12==10.3.5.147 in /usr/local/lib/python3.11/dist-packages (from torch) (10.3.5.147)\n",
            "Requirement already satisfied: nvidia-cusolver-cu12==11.6.1.9 in /usr/local/lib/python3.11/dist-packages (from torch) (11.6.1.9)\n",
            "Requirement already satisfied: nvidia-cusparse-cu12==12.3.1.170 in /usr/local/lib/python3.11/dist-packages (from torch) (12.3.1.170)\n",
            "Requirement already satisfied: nvidia-cusparselt-cu12==0.6.2 in /usr/local/lib/python3.11/dist-packages (from torch) (0.6.2)\n",
            "Requirement already satisfied: nvidia-nccl-cu12==2.21.5 in /usr/local/lib/python3.11/dist-packages (from torch) (2.21.5)\n",
            "Requirement already satisfied: nvidia-nvtx-cu12==12.4.127 in /usr/local/lib/python3.11/dist-packages (from torch) (12.4.127)\n",
            "Requirement already satisfied: nvidia-nvjitlink-cu12==12.4.127 in /usr/local/lib/python3.11/dist-packages (from torch) (12.4.127)\n",
            "Requirement already satisfied: triton==3.2.0 in /usr/local/lib/python3.11/dist-packages (from torch) (3.2.0)\n",
            "Requirement already satisfied: sympy==1.13.1 in /usr/local/lib/python3.11/dist-packages (from torch) (1.13.1)\n",
            "Requirement already satisfied: mpmath<1.4,>=1.1.0 in /usr/local/lib/python3.11/dist-packages (from sympy==1.13.1->torch) (1.3.0)\n",
            "Requirement already satisfied: numpy in /usr/local/lib/python3.11/dist-packages (from torchvision) (2.0.2)\n",
            "Requirement already satisfied: pillow!=8.3.*,>=5.3.0 in /usr/local/lib/python3.11/dist-packages (from torchvision) (11.1.0)\n",
            "Requirement already satisfied: MarkupSafe>=2.0 in /usr/local/lib/python3.11/dist-packages (from jinja2->torch) (3.0.2)\n"
          ]
        }
      ]
    },
    {
      "cell_type": "code",
      "source": [
        "import torch\n",
        "print(\"CUDA доступен:\", torch.cuda.is_available())\n",
        "print(\"Количество GPU:\", torch.cuda.device_count())\n",
        "print(\"Название GPU:\", torch.cuda.get_device_name(0) if torch.cuda.is_available() else \"GPU не найдена\")"
      ],
      "metadata": {
        "colab": {
          "base_uri": "https://localhost:8080/"
        },
        "id": "BwLoEhuyt9_z",
        "outputId": "f75f5ba4-0c34-4f86-88ac-91c5969d80e5"
      },
      "execution_count": null,
      "outputs": [
        {
          "output_type": "stream",
          "name": "stdout",
          "text": [
            "CUDA доступен: True\n",
            "Количество GPU: 1\n",
            "Название GPU: Tesla T4\n"
          ]
        }
      ]
    },
    {
      "cell_type": "code",
      "source": [
        "from ultralytics import YOLO\n",
        "# Загрузите YOLOv8 модель для классификации\n",
        "model = YOLO('yolo11m-cls.pt')  # Выберите базовую модель; можно взять и другие модели (s, m, l, x)"
      ],
      "metadata": {
        "id": "uOwzTU2tuB1k",
        "colab": {
          "base_uri": "https://localhost:8080/"
        },
        "outputId": "e1bd9f4d-9d83-4fbf-8993-f5b9e539b6b2"
      },
      "execution_count": null,
      "outputs": [
        {
          "output_type": "stream",
          "name": "stdout",
          "text": [
            "Creating new Ultralytics Settings v0.0.6 file ✅ \n",
            "View Ultralytics Settings with 'yolo settings' or at '/root/.config/Ultralytics/settings.json'\n",
            "Update Settings with 'yolo settings key=value', i.e. 'yolo settings runs_dir=path/to/dir'. For help see https://docs.ultralytics.com/quickstart/#ultralytics-settings.\n",
            "Downloading https://github.com/ultralytics/assets/releases/download/v8.3.0/yolo11m-cls.pt to 'yolo11m-cls.pt'...\n"
          ]
        },
        {
          "output_type": "stream",
          "name": "stderr",
          "text": [
            "100%|██████████| 22.4M/22.4M [00:00<00:00, 41.7MB/s]\n"
          ]
        }
      ]
    },
    {
      "cell_type": "code",
      "source": [
        "# Обучение\n",
        "model.train(\n",
        "    data='/content/YOLOC_50',\n",
        "    epochs=200,               # больше эпох, так как изображения очень маленькие\n",
        "    imgsz=50,               # размер изображений (10x10)\n",
        "    batch=128,               # можно увеличить batch, так как картинки занимают мало памяти\n",
        "    device='0',             # GPU ускорит обучение\n",
        "    workers=1,              # уменьшить, если возникают ошибки загрузки\n",
        "    optimizer='Adam',       # Adam лучше работает на маленьких данных\n",
        "    lr0=0.001,              # маленький learning rate\n",
        "    weight_decay=0.0001,    # L2-регуляризация\n",
        "    augment=False,          # НЕ использовать аугментацию (иначе потеряется информация)\n",
        "    rect=False,             # НЕ использовать rectangular training (может искажать пиксели)\n",
        "    single_cls=False,       # у вас 3 класса (FRESH, HALF, SPOILT)\n",
        "    dropout=0.1,            # небольшой dropout для регуляризации\n",
        ")"
      ],
      "metadata": {
        "colab": {
          "base_uri": "https://localhost:8080/"
        },
        "id": "pawFEllvuSaz",
        "outputId": "cd85b454-f8db-4605-a83b-87aa19cb3cbb"
      },
      "execution_count": null,
      "outputs": [
        {
          "output_type": "stream",
          "name": "stdout",
          "text": [
            "Ultralytics 8.3.98 🚀 Python-3.11.11 torch-2.6.0+cu124 CUDA:0 (Tesla T4, 15095MiB)\n",
            "\u001b[34m\u001b[1mengine/trainer: \u001b[0mtask=classify, mode=train, model=yolo11m-cls.pt, data=/content/YOLOC_50, epochs=200, time=None, patience=100, batch=128, imgsz=50, save=True, save_period=-1, cache=False, device=0, workers=1, project=None, name=train, exist_ok=False, pretrained=True, optimizer=Adam, verbose=True, seed=0, deterministic=True, single_cls=False, rect=False, cos_lr=False, close_mosaic=10, resume=False, amp=True, fraction=1.0, profile=False, freeze=None, multi_scale=False, overlap_mask=True, mask_ratio=4, dropout=0.1, val=True, split=val, save_json=False, save_hybrid=False, conf=None, iou=0.7, max_det=300, half=False, dnn=False, plots=True, source=None, vid_stride=1, stream_buffer=False, visualize=False, augment=False, agnostic_nms=False, classes=None, retina_masks=False, embed=None, show=False, save_frames=False, save_txt=False, save_conf=False, save_crop=False, show_labels=True, show_conf=True, show_boxes=True, line_width=None, format=torchscript, keras=False, optimize=False, int8=False, dynamic=False, simplify=True, opset=None, workspace=None, nms=False, lr0=0.001, lrf=0.01, momentum=0.937, weight_decay=0.0001, warmup_epochs=3.0, warmup_momentum=0.8, warmup_bias_lr=0.1, box=7.5, cls=0.5, dfl=1.5, pose=12.0, kobj=1.0, nbs=64, hsv_h=0.015, hsv_s=0.7, hsv_v=0.4, degrees=0.0, translate=0.1, scale=0.5, shear=0.0, perspective=0.0, flipud=0.0, fliplr=0.5, bgr=0.0, mosaic=1.0, mixup=0.0, copy_paste=0.0, copy_paste_mode=flip, auto_augment=randaugment, erasing=0.4, crop_fraction=1.0, cfg=None, tracker=botsort.yaml, save_dir=runs/classify/train\n",
            "\u001b[34m\u001b[1mtrain:\u001b[0m /content/YOLOC_50/train... found 4500 images in 3 classes ✅ \n",
            "\u001b[34m\u001b[1mval:\u001b[0m /content/YOLOC_50/val... found 1125 images in 3 classes ✅ \n",
            "\u001b[34m\u001b[1mtest:\u001b[0m None...\n",
            "Overriding model.yaml nc=80 with nc=3\n",
            "\n",
            "                   from  n    params  module                                       arguments                     \n",
            "  0                  -1  1      1856  ultralytics.nn.modules.conv.Conv             [3, 64, 3, 2]                 \n",
            "  1                  -1  1     73984  ultralytics.nn.modules.conv.Conv             [64, 128, 3, 2]               \n",
            "  2                  -1  1    111872  ultralytics.nn.modules.block.C3k2            [128, 256, 1, True, 0.25]     \n",
            "  3                  -1  1    590336  ultralytics.nn.modules.conv.Conv             [256, 256, 3, 2]              \n",
            "  4                  -1  1    444928  ultralytics.nn.modules.block.C3k2            [256, 512, 1, True, 0.25]     \n",
            "  5                  -1  1   2360320  ultralytics.nn.modules.conv.Conv             [512, 512, 3, 2]              \n",
            "  6                  -1  1   1380352  ultralytics.nn.modules.block.C3k2            [512, 512, 1, True]           \n",
            "  7                  -1  1   2360320  ultralytics.nn.modules.conv.Conv             [512, 512, 3, 2]              \n",
            "  8                  -1  1   1380352  ultralytics.nn.modules.block.C3k2            [512, 512, 1, True]           \n",
            "  9                  -1  1    990976  ultralytics.nn.modules.block.C2PSA           [512, 512, 1]                 \n",
            " 10                  -1  1    661763  ultralytics.nn.modules.head.Classify         [512, 3]                      \n",
            "YOLO11m-cls summary: 106 layers, 10,357,059 parameters, 10,357,059 gradients, 39.6 GFLOPs\n",
            "Transferred 294/296 items from pretrained weights\n",
            "\u001b[34m\u001b[1mTensorBoard: \u001b[0mStart with 'tensorboard --logdir runs/classify/train', view at http://localhost:6006/\n",
            "\u001b[34m\u001b[1mAMP: \u001b[0mrunning Automatic Mixed Precision (AMP) checks...\n",
            "Downloading https://github.com/ultralytics/assets/releases/download/v8.3.0/yolo11n.pt to 'yolo11n.pt'...\n"
          ]
        },
        {
          "output_type": "stream",
          "name": "stderr",
          "text": [
            "100%|██████████| 5.35M/5.35M [00:00<00:00, 339MB/s]\n"
          ]
        },
        {
          "output_type": "stream",
          "name": "stdout",
          "text": [
            "\u001b[34m\u001b[1mAMP: \u001b[0mchecks passed ✅\n",
            "WARNING ⚠️ imgsz=[50] must be multiple of max stride 32, updating to [64]\n"
          ]
        },
        {
          "output_type": "stream",
          "name": "stderr",
          "text": [
            "\u001b[34m\u001b[1mtrain: \u001b[0mScanning /content/YOLOC_50/train... 4500 images, 0 corrupt: 100%|██████████| 4500/4500 [00:01<00:00, 2274.69it/s]"
          ]
        },
        {
          "output_type": "stream",
          "name": "stdout",
          "text": [
            "\u001b[34m\u001b[1mtrain: \u001b[0mNew cache created: /content/YOLOC_50/train.cache\n"
          ]
        },
        {
          "output_type": "stream",
          "name": "stderr",
          "text": [
            "\n",
            "\u001b[34m\u001b[1mval: \u001b[0mScanning /content/YOLOC_50/val... 1125 images, 0 corrupt: 100%|██████████| 1125/1125 [00:00<00:00, 2182.62it/s]\n"
          ]
        },
        {
          "output_type": "stream",
          "name": "stdout",
          "text": [
            "\u001b[34m\u001b[1mval: \u001b[0mNew cache created: /content/YOLOC_50/val.cache\n",
            "\u001b[34m\u001b[1moptimizer:\u001b[0m Adam(lr=0.001, momentum=0.937) with parameter groups 49 weight(decay=0.0), 50 weight(decay=0.0002), 50 bias(decay=0.0)\n",
            "\u001b[34m\u001b[1mTensorBoard: \u001b[0mmodel graph visualization added ✅\n",
            "Image sizes 64 train, 64 val\n",
            "Using 1 dataloader workers\n",
            "Logging results to \u001b[1mruns/classify/train\u001b[0m\n",
            "Starting training for 200 epochs...\n",
            "\n",
            "      Epoch    GPU_mem       loss  Instances       Size\n"
          ]
        },
        {
          "output_type": "stream",
          "name": "stderr",
          "text": [
            "      1/200      1.17G      1.242        128         64:  11%|█         | 4/36 [00:01<00:08,  4.00it/s]"
          ]
        },
        {
          "output_type": "stream",
          "name": "stdout",
          "text": [
            "Downloading https://ultralytics.com/assets/Arial.ttf to '/root/.config/Ultralytics/Arial.ttf'...\n"
          ]
        },
        {
          "output_type": "stream",
          "name": "stderr",
          "text": [
            "      1/200      1.17G        1.2        128         64:  22%|██▏       | 8/36 [00:01<00:05,  5.04it/s]\n",
            "100%|██████████| 755k/755k [00:00<00:00, 67.9MB/s]\n",
            "      1/200      1.17G      1.029         20         64: 100%|██████████| 36/36 [00:08<00:00,  4.23it/s]\n",
            "               classes   top1_acc   top5_acc: 100%|██████████| 5/5 [00:00<00:00,  7.87it/s]"
          ]
        },
        {
          "output_type": "stream",
          "name": "stdout",
          "text": [
            "                   all      0.478          1\n"
          ]
        },
        {
          "output_type": "stream",
          "name": "stderr",
          "text": [
            "\n"
          ]
        },
        {
          "output_type": "stream",
          "name": "stdout",
          "text": [
            "\n",
            "      Epoch    GPU_mem       loss  Instances       Size\n"
          ]
        },
        {
          "output_type": "stream",
          "name": "stderr",
          "text": [
            "      2/200      1.19G     0.8106         20         64: 100%|██████████| 36/36 [00:08<00:00,  4.48it/s]\n",
            "               classes   top1_acc   top5_acc: 100%|██████████| 5/5 [00:00<00:00,  6.10it/s]"
          ]
        },
        {
          "output_type": "stream",
          "name": "stdout",
          "text": [
            "                   all      0.632          1\n"
          ]
        },
        {
          "output_type": "stream",
          "name": "stderr",
          "text": [
            "\n"
          ]
        },
        {
          "output_type": "stream",
          "name": "stdout",
          "text": [
            "\n",
            "      Epoch    GPU_mem       loss  Instances       Size\n"
          ]
        },
        {
          "output_type": "stream",
          "name": "stderr",
          "text": [
            "      3/200      1.21G     0.8523         20         64: 100%|██████████| 36/36 [00:07<00:00,  5.06it/s]\n",
            "               classes   top1_acc   top5_acc: 100%|██████████| 5/5 [00:00<00:00,  7.61it/s]"
          ]
        },
        {
          "output_type": "stream",
          "name": "stdout",
          "text": [
            "                   all      0.645          1\n"
          ]
        },
        {
          "output_type": "stream",
          "name": "stderr",
          "text": [
            "\n"
          ]
        },
        {
          "output_type": "stream",
          "name": "stdout",
          "text": [
            "\n",
            "      Epoch    GPU_mem       loss  Instances       Size\n"
          ]
        },
        {
          "output_type": "stream",
          "name": "stderr",
          "text": [
            "      4/200      1.24G     0.7909         20         64: 100%|██████████| 36/36 [00:07<00:00,  4.55it/s]\n",
            "               classes   top1_acc   top5_acc: 100%|██████████| 5/5 [00:00<00:00,  9.24it/s]"
          ]
        },
        {
          "output_type": "stream",
          "name": "stdout",
          "text": [
            "                   all      0.713          1\n"
          ]
        },
        {
          "output_type": "stream",
          "name": "stderr",
          "text": [
            "\n"
          ]
        },
        {
          "output_type": "stream",
          "name": "stdout",
          "text": [
            "\n",
            "      Epoch    GPU_mem       loss  Instances       Size\n"
          ]
        },
        {
          "output_type": "stream",
          "name": "stderr",
          "text": [
            "      5/200      1.27G     0.7591         20         64: 100%|██████████| 36/36 [00:07<00:00,  4.57it/s]\n",
            "               classes   top1_acc   top5_acc: 100%|██████████| 5/5 [00:00<00:00,  9.02it/s]"
          ]
        },
        {
          "output_type": "stream",
          "name": "stdout",
          "text": [
            "                   all      0.679          1\n"
          ]
        },
        {
          "output_type": "stream",
          "name": "stderr",
          "text": [
            "\n"
          ]
        },
        {
          "output_type": "stream",
          "name": "stdout",
          "text": [
            "\n",
            "      Epoch    GPU_mem       loss  Instances       Size\n"
          ]
        },
        {
          "output_type": "stream",
          "name": "stderr",
          "text": [
            "      6/200      1.29G     0.7616         20         64: 100%|██████████| 36/36 [00:07<00:00,  4.59it/s]\n",
            "               classes   top1_acc   top5_acc: 100%|██████████| 5/5 [00:00<00:00,  8.94it/s]"
          ]
        },
        {
          "output_type": "stream",
          "name": "stdout",
          "text": [
            "                   all      0.596          1\n"
          ]
        },
        {
          "output_type": "stream",
          "name": "stderr",
          "text": [
            "\n"
          ]
        },
        {
          "output_type": "stream",
          "name": "stdout",
          "text": [
            "\n",
            "      Epoch    GPU_mem       loss  Instances       Size\n"
          ]
        },
        {
          "output_type": "stream",
          "name": "stderr",
          "text": [
            "      7/200      1.31G      0.721         20         64: 100%|██████████| 36/36 [00:07<00:00,  5.07it/s]\n",
            "               classes   top1_acc   top5_acc: 100%|██████████| 5/5 [00:00<00:00,  9.09it/s]"
          ]
        },
        {
          "output_type": "stream",
          "name": "stdout",
          "text": [
            "                   all      0.756          1\n"
          ]
        },
        {
          "output_type": "stream",
          "name": "stderr",
          "text": [
            "\n"
          ]
        },
        {
          "output_type": "stream",
          "name": "stdout",
          "text": [
            "\n",
            "      Epoch    GPU_mem       loss  Instances       Size\n"
          ]
        },
        {
          "output_type": "stream",
          "name": "stderr",
          "text": [
            "      8/200      1.34G     0.6713         20         64: 100%|██████████| 36/36 [00:07<00:00,  4.52it/s]\n",
            "               classes   top1_acc   top5_acc: 100%|██████████| 5/5 [00:00<00:00,  5.22it/s]"
          ]
        },
        {
          "output_type": "stream",
          "name": "stdout",
          "text": [
            "                   all      0.609          1\n"
          ]
        },
        {
          "output_type": "stream",
          "name": "stderr",
          "text": [
            "\n"
          ]
        },
        {
          "output_type": "stream",
          "name": "stdout",
          "text": [
            "\n",
            "      Epoch    GPU_mem       loss  Instances       Size\n"
          ]
        },
        {
          "output_type": "stream",
          "name": "stderr",
          "text": [
            "      9/200      1.68G     0.6467         20         64: 100%|██████████| 36/36 [00:07<00:00,  4.58it/s]\n",
            "               classes   top1_acc   top5_acc: 100%|██████████| 5/5 [00:00<00:00,  9.24it/s]"
          ]
        },
        {
          "output_type": "stream",
          "name": "stdout",
          "text": [
            "                   all      0.741          1\n"
          ]
        },
        {
          "output_type": "stream",
          "name": "stderr",
          "text": [
            "\n"
          ]
        },
        {
          "output_type": "stream",
          "name": "stdout",
          "text": [
            "\n",
            "      Epoch    GPU_mem       loss  Instances       Size\n"
          ]
        },
        {
          "output_type": "stream",
          "name": "stderr",
          "text": [
            "     10/200       1.7G     0.6453         20         64: 100%|██████████| 36/36 [00:07<00:00,  4.73it/s]\n",
            "               classes   top1_acc   top5_acc: 100%|██████████| 5/5 [00:00<00:00,  6.34it/s]"
          ]
        },
        {
          "output_type": "stream",
          "name": "stdout",
          "text": [
            "                   all      0.729          1\n"
          ]
        },
        {
          "output_type": "stream",
          "name": "stderr",
          "text": [
            "\n"
          ]
        },
        {
          "output_type": "stream",
          "name": "stdout",
          "text": [
            "\n",
            "      Epoch    GPU_mem       loss  Instances       Size\n"
          ]
        },
        {
          "output_type": "stream",
          "name": "stderr",
          "text": [
            "     11/200      1.73G     0.6866         20         64: 100%|██████████| 36/36 [00:07<00:00,  5.09it/s]\n",
            "               classes   top1_acc   top5_acc: 100%|██████████| 5/5 [00:00<00:00,  9.33it/s]"
          ]
        },
        {
          "output_type": "stream",
          "name": "stdout",
          "text": [
            "                   all      0.597          1\n"
          ]
        },
        {
          "output_type": "stream",
          "name": "stderr",
          "text": [
            "\n"
          ]
        },
        {
          "output_type": "stream",
          "name": "stdout",
          "text": [
            "\n",
            "      Epoch    GPU_mem       loss  Instances       Size\n"
          ]
        },
        {
          "output_type": "stream",
          "name": "stderr",
          "text": [
            "     12/200      1.75G     0.6285         20         64: 100%|██████████| 36/36 [00:07<00:00,  4.62it/s]\n",
            "               classes   top1_acc   top5_acc: 100%|██████████| 5/5 [00:00<00:00,  8.91it/s]"
          ]
        },
        {
          "output_type": "stream",
          "name": "stdout",
          "text": [
            "                   all      0.647          1\n"
          ]
        },
        {
          "output_type": "stream",
          "name": "stderr",
          "text": [
            "\n"
          ]
        },
        {
          "output_type": "stream",
          "name": "stdout",
          "text": [
            "\n",
            "      Epoch    GPU_mem       loss  Instances       Size\n"
          ]
        },
        {
          "output_type": "stream",
          "name": "stderr",
          "text": [
            "     13/200      1.78G     0.6602         20         64: 100%|██████████| 36/36 [00:07<00:00,  4.57it/s]\n",
            "               classes   top1_acc   top5_acc: 100%|██████████| 5/5 [00:00<00:00,  9.45it/s]"
          ]
        },
        {
          "output_type": "stream",
          "name": "stdout",
          "text": [
            "                   all       0.72          1\n"
          ]
        },
        {
          "output_type": "stream",
          "name": "stderr",
          "text": [
            "\n"
          ]
        },
        {
          "output_type": "stream",
          "name": "stdout",
          "text": [
            "\n",
            "      Epoch    GPU_mem       loss  Instances       Size\n"
          ]
        },
        {
          "output_type": "stream",
          "name": "stderr",
          "text": [
            "     14/200       1.8G       0.67         20         64: 100%|██████████| 36/36 [00:07<00:00,  5.13it/s]\n",
            "               classes   top1_acc   top5_acc: 100%|██████████| 5/5 [00:00<00:00,  9.04it/s]"
          ]
        },
        {
          "output_type": "stream",
          "name": "stdout",
          "text": [
            "                   all       0.69          1\n"
          ]
        },
        {
          "output_type": "stream",
          "name": "stderr",
          "text": [
            "\n"
          ]
        },
        {
          "output_type": "stream",
          "name": "stdout",
          "text": [
            "\n",
            "      Epoch    GPU_mem       loss  Instances       Size\n"
          ]
        },
        {
          "output_type": "stream",
          "name": "stderr",
          "text": [
            "     15/200      1.82G      0.701         20         64: 100%|██████████| 36/36 [00:07<00:00,  4.62it/s]\n",
            "               classes   top1_acc   top5_acc: 100%|██████████| 5/5 [00:00<00:00,  9.11it/s]"
          ]
        },
        {
          "output_type": "stream",
          "name": "stdout",
          "text": [
            "                   all      0.583          1\n"
          ]
        },
        {
          "output_type": "stream",
          "name": "stderr",
          "text": [
            "\n"
          ]
        },
        {
          "output_type": "stream",
          "name": "stdout",
          "text": [
            "\n",
            "      Epoch    GPU_mem       loss  Instances       Size\n"
          ]
        },
        {
          "output_type": "stream",
          "name": "stderr",
          "text": [
            "     16/200      1.85G     0.6564         20         64: 100%|██████████| 36/36 [00:07<00:00,  4.60it/s]\n",
            "               classes   top1_acc   top5_acc: 100%|██████████| 5/5 [00:00<00:00,  9.16it/s]"
          ]
        },
        {
          "output_type": "stream",
          "name": "stdout",
          "text": [
            "                   all       0.75          1\n"
          ]
        },
        {
          "output_type": "stream",
          "name": "stderr",
          "text": [
            "\n"
          ]
        },
        {
          "output_type": "stream",
          "name": "stdout",
          "text": [
            "\n",
            "      Epoch    GPU_mem       loss  Instances       Size\n"
          ]
        },
        {
          "output_type": "stream",
          "name": "stderr",
          "text": [
            "     17/200      1.87G     0.6763         20         64: 100%|██████████| 36/36 [00:07<00:00,  5.01it/s]\n",
            "               classes   top1_acc   top5_acc: 100%|██████████| 5/5 [00:00<00:00,  6.66it/s]"
          ]
        },
        {
          "output_type": "stream",
          "name": "stdout",
          "text": [
            "                   all      0.765          1\n"
          ]
        },
        {
          "output_type": "stream",
          "name": "stderr",
          "text": [
            "\n"
          ]
        },
        {
          "output_type": "stream",
          "name": "stdout",
          "text": [
            "\n",
            "      Epoch    GPU_mem       loss  Instances       Size\n"
          ]
        },
        {
          "output_type": "stream",
          "name": "stderr",
          "text": [
            "     18/200      2.21G     0.6669         20         64: 100%|██████████| 36/36 [00:07<00:00,  4.76it/s]\n",
            "               classes   top1_acc   top5_acc: 100%|██████████| 5/5 [00:00<00:00,  8.89it/s]"
          ]
        },
        {
          "output_type": "stream",
          "name": "stdout",
          "text": [
            "                   all      0.691          1\n"
          ]
        },
        {
          "output_type": "stream",
          "name": "stderr",
          "text": [
            "\n"
          ]
        },
        {
          "output_type": "stream",
          "name": "stdout",
          "text": [
            "\n",
            "      Epoch    GPU_mem       loss  Instances       Size\n"
          ]
        },
        {
          "output_type": "stream",
          "name": "stderr",
          "text": [
            "     19/200      2.24G     0.6815         20         64: 100%|██████████| 36/36 [00:07<00:00,  4.61it/s]\n",
            "               classes   top1_acc   top5_acc: 100%|██████████| 5/5 [00:00<00:00,  9.04it/s]"
          ]
        },
        {
          "output_type": "stream",
          "name": "stdout",
          "text": [
            "                   all      0.668          1\n"
          ]
        },
        {
          "output_type": "stream",
          "name": "stderr",
          "text": [
            "\n"
          ]
        },
        {
          "output_type": "stream",
          "name": "stdout",
          "text": [
            "\n",
            "      Epoch    GPU_mem       loss  Instances       Size\n"
          ]
        },
        {
          "output_type": "stream",
          "name": "stderr",
          "text": [
            "     20/200      2.26G     0.6936         20         64: 100%|██████████| 36/36 [00:07<00:00,  4.86it/s]\n",
            "               classes   top1_acc   top5_acc: 100%|██████████| 5/5 [00:00<00:00,  5.79it/s]"
          ]
        },
        {
          "output_type": "stream",
          "name": "stdout",
          "text": [
            "                   all      0.714          1\n"
          ]
        },
        {
          "output_type": "stream",
          "name": "stderr",
          "text": [
            "\n"
          ]
        },
        {
          "output_type": "stream",
          "name": "stdout",
          "text": [
            "\n",
            "      Epoch    GPU_mem       loss  Instances       Size\n"
          ]
        },
        {
          "output_type": "stream",
          "name": "stderr",
          "text": [
            "     21/200      2.29G     0.6474         20         64: 100%|██████████| 36/36 [00:07<00:00,  5.08it/s]\n",
            "               classes   top1_acc   top5_acc: 100%|██████████| 5/5 [00:00<00:00,  8.27it/s]"
          ]
        },
        {
          "output_type": "stream",
          "name": "stdout",
          "text": [
            "                   all      0.773          1\n"
          ]
        },
        {
          "output_type": "stream",
          "name": "stderr",
          "text": [
            "\n"
          ]
        },
        {
          "output_type": "stream",
          "name": "stdout",
          "text": [
            "\n",
            "      Epoch    GPU_mem       loss  Instances       Size\n"
          ]
        },
        {
          "output_type": "stream",
          "name": "stderr",
          "text": [
            "     22/200      2.31G     0.6174         20         64: 100%|██████████| 36/36 [00:07<00:00,  4.59it/s]\n",
            "               classes   top1_acc   top5_acc: 100%|██████████| 5/5 [00:00<00:00,  9.01it/s]"
          ]
        },
        {
          "output_type": "stream",
          "name": "stdout",
          "text": [
            "                   all      0.805          1\n"
          ]
        },
        {
          "output_type": "stream",
          "name": "stderr",
          "text": [
            "\n"
          ]
        },
        {
          "output_type": "stream",
          "name": "stdout",
          "text": [
            "\n",
            "      Epoch    GPU_mem       loss  Instances       Size\n"
          ]
        },
        {
          "output_type": "stream",
          "name": "stderr",
          "text": [
            "     23/200      2.33G     0.5918         20         64: 100%|██████████| 36/36 [00:07<00:00,  4.62it/s]\n",
            "               classes   top1_acc   top5_acc: 100%|██████████| 5/5 [00:00<00:00,  9.34it/s]"
          ]
        },
        {
          "output_type": "stream",
          "name": "stdout",
          "text": [
            "                   all      0.794          1\n"
          ]
        },
        {
          "output_type": "stream",
          "name": "stderr",
          "text": [
            "\n"
          ]
        },
        {
          "output_type": "stream",
          "name": "stdout",
          "text": [
            "\n",
            "      Epoch    GPU_mem       loss  Instances       Size\n"
          ]
        },
        {
          "output_type": "stream",
          "name": "stderr",
          "text": [
            "     24/200      2.36G     0.5753         20         64: 100%|██████████| 36/36 [00:06<00:00,  5.15it/s]\n",
            "               classes   top1_acc   top5_acc: 100%|██████████| 5/5 [00:00<00:00,  9.19it/s]"
          ]
        },
        {
          "output_type": "stream",
          "name": "stdout",
          "text": [
            "                   all       0.78          1\n"
          ]
        },
        {
          "output_type": "stream",
          "name": "stderr",
          "text": [
            "\n"
          ]
        },
        {
          "output_type": "stream",
          "name": "stdout",
          "text": [
            "\n",
            "      Epoch    GPU_mem       loss  Instances       Size\n"
          ]
        },
        {
          "output_type": "stream",
          "name": "stderr",
          "text": [
            "     25/200      2.38G     0.6581         20         64: 100%|██████████| 36/36 [00:07<00:00,  4.59it/s]\n",
            "               classes   top1_acc   top5_acc: 100%|██████████| 5/5 [00:00<00:00,  9.38it/s]"
          ]
        },
        {
          "output_type": "stream",
          "name": "stdout",
          "text": [
            "                   all      0.751          1\n"
          ]
        },
        {
          "output_type": "stream",
          "name": "stderr",
          "text": [
            "\n"
          ]
        },
        {
          "output_type": "stream",
          "name": "stdout",
          "text": [
            "\n",
            "      Epoch    GPU_mem       loss  Instances       Size\n"
          ]
        },
        {
          "output_type": "stream",
          "name": "stderr",
          "text": [
            "     26/200      2.41G      0.643         20         64: 100%|██████████| 36/36 [00:07<00:00,  4.60it/s]\n",
            "               classes   top1_acc   top5_acc: 100%|██████████| 5/5 [00:00<00:00,  9.33it/s]"
          ]
        },
        {
          "output_type": "stream",
          "name": "stdout",
          "text": [
            "                   all      0.703          1\n"
          ]
        },
        {
          "output_type": "stream",
          "name": "stderr",
          "text": [
            "\n"
          ]
        },
        {
          "output_type": "stream",
          "name": "stdout",
          "text": [
            "\n",
            "      Epoch    GPU_mem       loss  Instances       Size\n"
          ]
        },
        {
          "output_type": "stream",
          "name": "stderr",
          "text": [
            "     27/200      2.75G     0.6719         20         64: 100%|██████████| 36/36 [00:07<00:00,  5.08it/s]\n",
            "               classes   top1_acc   top5_acc: 100%|██████████| 5/5 [00:00<00:00,  6.05it/s]"
          ]
        },
        {
          "output_type": "stream",
          "name": "stdout",
          "text": [
            "                   all      0.772          1\n"
          ]
        },
        {
          "output_type": "stream",
          "name": "stderr",
          "text": [
            "\n"
          ]
        },
        {
          "output_type": "stream",
          "name": "stdout",
          "text": [
            "\n",
            "      Epoch    GPU_mem       loss  Instances       Size\n"
          ]
        },
        {
          "output_type": "stream",
          "name": "stderr",
          "text": [
            "     28/200      2.77G     0.6316         20         64: 100%|██████████| 36/36 [00:07<00:00,  4.89it/s]\n",
            "               classes   top1_acc   top5_acc: 100%|██████████| 5/5 [00:00<00:00,  8.85it/s]"
          ]
        },
        {
          "output_type": "stream",
          "name": "stdout",
          "text": [
            "                   all      0.744          1\n"
          ]
        },
        {
          "output_type": "stream",
          "name": "stderr",
          "text": [
            "\n"
          ]
        },
        {
          "output_type": "stream",
          "name": "stdout",
          "text": [
            "\n",
            "      Epoch    GPU_mem       loss  Instances       Size\n"
          ]
        },
        {
          "output_type": "stream",
          "name": "stderr",
          "text": [
            "     29/200      2.79G      0.597         20         64: 100%|██████████| 36/36 [00:07<00:00,  4.60it/s]\n",
            "               classes   top1_acc   top5_acc: 100%|██████████| 5/5 [00:00<00:00,  9.16it/s]"
          ]
        },
        {
          "output_type": "stream",
          "name": "stdout",
          "text": [
            "                   all      0.796          1\n"
          ]
        },
        {
          "output_type": "stream",
          "name": "stderr",
          "text": [
            "\n"
          ]
        },
        {
          "output_type": "stream",
          "name": "stdout",
          "text": [
            "\n",
            "      Epoch    GPU_mem       loss  Instances       Size\n"
          ]
        },
        {
          "output_type": "stream",
          "name": "stderr",
          "text": [
            "     30/200      2.82G     0.5711         20         64: 100%|██████████| 36/36 [00:07<00:00,  4.76it/s]\n",
            "               classes   top1_acc   top5_acc: 100%|██████████| 5/5 [00:00<00:00,  6.20it/s]"
          ]
        },
        {
          "output_type": "stream",
          "name": "stdout",
          "text": [
            "                   all      0.692          1\n"
          ]
        },
        {
          "output_type": "stream",
          "name": "stderr",
          "text": [
            "\n"
          ]
        },
        {
          "output_type": "stream",
          "name": "stdout",
          "text": [
            "\n",
            "      Epoch    GPU_mem       loss  Instances       Size\n"
          ]
        },
        {
          "output_type": "stream",
          "name": "stderr",
          "text": [
            "     31/200      2.84G     0.5749         20         64: 100%|██████████| 36/36 [00:07<00:00,  5.09it/s]\n",
            "               classes   top1_acc   top5_acc: 100%|██████████| 5/5 [00:00<00:00,  8.86it/s]"
          ]
        },
        {
          "output_type": "stream",
          "name": "stdout",
          "text": [
            "                   all       0.79          1\n"
          ]
        },
        {
          "output_type": "stream",
          "name": "stderr",
          "text": [
            "\n"
          ]
        },
        {
          "output_type": "stream",
          "name": "stdout",
          "text": [
            "\n",
            "      Epoch    GPU_mem       loss  Instances       Size\n"
          ]
        },
        {
          "output_type": "stream",
          "name": "stderr",
          "text": [
            "     32/200      2.87G     0.5675         20         64: 100%|██████████| 36/36 [00:07<00:00,  4.57it/s]\n",
            "               classes   top1_acc   top5_acc: 100%|██████████| 5/5 [00:00<00:00,  9.13it/s]"
          ]
        },
        {
          "output_type": "stream",
          "name": "stdout",
          "text": [
            "                   all      0.801          1\n"
          ]
        },
        {
          "output_type": "stream",
          "name": "stderr",
          "text": [
            "\n"
          ]
        },
        {
          "output_type": "stream",
          "name": "stdout",
          "text": [
            "\n",
            "      Epoch    GPU_mem       loss  Instances       Size\n"
          ]
        },
        {
          "output_type": "stream",
          "name": "stderr",
          "text": [
            "     33/200      2.89G     0.5862         20         64: 100%|██████████| 36/36 [00:07<00:00,  4.60it/s]\n",
            "               classes   top1_acc   top5_acc: 100%|██████████| 5/5 [00:00<00:00,  8.79it/s]"
          ]
        },
        {
          "output_type": "stream",
          "name": "stdout",
          "text": [
            "                   all      0.739          1\n"
          ]
        },
        {
          "output_type": "stream",
          "name": "stderr",
          "text": [
            "\n"
          ]
        },
        {
          "output_type": "stream",
          "name": "stdout",
          "text": [
            "\n",
            "      Epoch    GPU_mem       loss  Instances       Size\n"
          ]
        },
        {
          "output_type": "stream",
          "name": "stderr",
          "text": [
            "     34/200      2.92G     0.5514         20         64: 100%|██████████| 36/36 [00:06<00:00,  5.17it/s]\n",
            "               classes   top1_acc   top5_acc: 100%|██████████| 5/5 [00:00<00:00,  8.91it/s]"
          ]
        },
        {
          "output_type": "stream",
          "name": "stdout",
          "text": [
            "                   all      0.787          1\n"
          ]
        },
        {
          "output_type": "stream",
          "name": "stderr",
          "text": [
            "\n"
          ]
        },
        {
          "output_type": "stream",
          "name": "stdout",
          "text": [
            "\n",
            "      Epoch    GPU_mem       loss  Instances       Size\n"
          ]
        },
        {
          "output_type": "stream",
          "name": "stderr",
          "text": [
            "     35/200      2.94G     0.5636         20         64: 100%|██████████| 36/36 [00:07<00:00,  4.60it/s]\n",
            "               classes   top1_acc   top5_acc: 100%|██████████| 5/5 [00:00<00:00,  9.31it/s]"
          ]
        },
        {
          "output_type": "stream",
          "name": "stdout",
          "text": [
            "                   all      0.751          1\n"
          ]
        },
        {
          "output_type": "stream",
          "name": "stderr",
          "text": [
            "\n"
          ]
        },
        {
          "output_type": "stream",
          "name": "stdout",
          "text": [
            "\n",
            "      Epoch    GPU_mem       loss  Instances       Size\n"
          ]
        },
        {
          "output_type": "stream",
          "name": "stderr",
          "text": [
            "     36/200      3.28G     0.5554         20         64: 100%|██████████| 36/36 [00:07<00:00,  4.61it/s]\n",
            "               classes   top1_acc   top5_acc: 100%|██████████| 5/5 [00:00<00:00,  9.11it/s]"
          ]
        },
        {
          "output_type": "stream",
          "name": "stdout",
          "text": [
            "                   all      0.741          1\n"
          ]
        },
        {
          "output_type": "stream",
          "name": "stderr",
          "text": [
            "\n"
          ]
        },
        {
          "output_type": "stream",
          "name": "stdout",
          "text": [
            "\n",
            "      Epoch    GPU_mem       loss  Instances       Size\n"
          ]
        },
        {
          "output_type": "stream",
          "name": "stderr",
          "text": [
            "     37/200       3.3G     0.5579         20         64: 100%|██████████| 36/36 [00:07<00:00,  5.07it/s]\n",
            "               classes   top1_acc   top5_acc: 100%|██████████| 5/5 [00:00<00:00,  7.02it/s]"
          ]
        },
        {
          "output_type": "stream",
          "name": "stdout",
          "text": [
            "                   all      0.818          1\n"
          ]
        },
        {
          "output_type": "stream",
          "name": "stderr",
          "text": [
            "\n"
          ]
        },
        {
          "output_type": "stream",
          "name": "stdout",
          "text": [
            "\n",
            "      Epoch    GPU_mem       loss  Instances       Size\n"
          ]
        },
        {
          "output_type": "stream",
          "name": "stderr",
          "text": [
            "     38/200      3.33G     0.5541         20         64: 100%|██████████| 36/36 [00:07<00:00,  4.82it/s]\n",
            "               classes   top1_acc   top5_acc: 100%|██████████| 5/5 [00:00<00:00,  9.09it/s]"
          ]
        },
        {
          "output_type": "stream",
          "name": "stdout",
          "text": [
            "                   all      0.713          1\n"
          ]
        },
        {
          "output_type": "stream",
          "name": "stderr",
          "text": [
            "\n"
          ]
        },
        {
          "output_type": "stream",
          "name": "stdout",
          "text": [
            "\n",
            "      Epoch    GPU_mem       loss  Instances       Size\n"
          ]
        },
        {
          "output_type": "stream",
          "name": "stderr",
          "text": [
            "     39/200      3.35G      0.569         20         64: 100%|██████████| 36/36 [00:07<00:00,  4.57it/s]\n",
            "               classes   top1_acc   top5_acc: 100%|██████████| 5/5 [00:00<00:00,  9.19it/s]"
          ]
        },
        {
          "output_type": "stream",
          "name": "stdout",
          "text": [
            "                   all      0.808          1\n"
          ]
        },
        {
          "output_type": "stream",
          "name": "stderr",
          "text": [
            "\n"
          ]
        },
        {
          "output_type": "stream",
          "name": "stdout",
          "text": [
            "\n",
            "      Epoch    GPU_mem       loss  Instances       Size\n"
          ]
        },
        {
          "output_type": "stream",
          "name": "stderr",
          "text": [
            "     40/200      3.38G     0.5674         20         64: 100%|██████████| 36/36 [00:07<00:00,  4.72it/s]\n",
            "               classes   top1_acc   top5_acc: 100%|██████████| 5/5 [00:00<00:00,  5.91it/s]"
          ]
        },
        {
          "output_type": "stream",
          "name": "stdout",
          "text": [
            "                   all      0.771          1\n"
          ]
        },
        {
          "output_type": "stream",
          "name": "stderr",
          "text": [
            "\n"
          ]
        },
        {
          "output_type": "stream",
          "name": "stdout",
          "text": [
            "\n",
            "      Epoch    GPU_mem       loss  Instances       Size\n"
          ]
        },
        {
          "output_type": "stream",
          "name": "stderr",
          "text": [
            "     41/200       3.4G     0.5693         20         64: 100%|██████████| 36/36 [00:07<00:00,  5.02it/s]\n",
            "               classes   top1_acc   top5_acc: 100%|██████████| 5/5 [00:00<00:00,  8.64it/s]"
          ]
        },
        {
          "output_type": "stream",
          "name": "stdout",
          "text": [
            "                   all      0.796          1\n"
          ]
        },
        {
          "output_type": "stream",
          "name": "stderr",
          "text": [
            "\n"
          ]
        },
        {
          "output_type": "stream",
          "name": "stdout",
          "text": [
            "\n",
            "      Epoch    GPU_mem       loss  Instances       Size\n"
          ]
        },
        {
          "output_type": "stream",
          "name": "stderr",
          "text": [
            "     42/200      3.43G     0.5718         20         64: 100%|██████████| 36/36 [00:07<00:00,  4.58it/s]\n",
            "               classes   top1_acc   top5_acc: 100%|██████████| 5/5 [00:00<00:00,  9.16it/s]"
          ]
        },
        {
          "output_type": "stream",
          "name": "stdout",
          "text": [
            "                   all      0.766          1\n"
          ]
        },
        {
          "output_type": "stream",
          "name": "stderr",
          "text": [
            "\n"
          ]
        },
        {
          "output_type": "stream",
          "name": "stdout",
          "text": [
            "\n",
            "      Epoch    GPU_mem       loss  Instances       Size\n"
          ]
        },
        {
          "output_type": "stream",
          "name": "stderr",
          "text": [
            "     43/200      3.45G     0.5399         20         64: 100%|██████████| 36/36 [00:07<00:00,  4.59it/s]\n",
            "               classes   top1_acc   top5_acc: 100%|██████████| 5/5 [00:00<00:00,  9.18it/s]"
          ]
        },
        {
          "output_type": "stream",
          "name": "stdout",
          "text": [
            "                   all      0.781          1\n"
          ]
        },
        {
          "output_type": "stream",
          "name": "stderr",
          "text": [
            "\n"
          ]
        },
        {
          "output_type": "stream",
          "name": "stdout",
          "text": [
            "\n",
            "      Epoch    GPU_mem       loss  Instances       Size\n"
          ]
        },
        {
          "output_type": "stream",
          "name": "stderr",
          "text": [
            "     44/200      3.48G     0.5348         20         64: 100%|██████████| 36/36 [00:07<00:00,  5.07it/s]\n",
            "               classes   top1_acc   top5_acc: 100%|██████████| 5/5 [00:00<00:00,  9.23it/s]"
          ]
        },
        {
          "output_type": "stream",
          "name": "stdout",
          "text": [
            "                   all      0.826          1\n"
          ]
        },
        {
          "output_type": "stream",
          "name": "stderr",
          "text": [
            "\n"
          ]
        },
        {
          "output_type": "stream",
          "name": "stdout",
          "text": [
            "\n",
            "      Epoch    GPU_mem       loss  Instances       Size\n"
          ]
        },
        {
          "output_type": "stream",
          "name": "stderr",
          "text": [
            "     45/200      3.81G     0.5143         20         64: 100%|██████████| 36/36 [00:07<00:00,  4.60it/s]\n",
            "               classes   top1_acc   top5_acc: 100%|██████████| 5/5 [00:00<00:00,  8.97it/s]"
          ]
        },
        {
          "output_type": "stream",
          "name": "stdout",
          "text": [
            "                   all      0.803          1\n"
          ]
        },
        {
          "output_type": "stream",
          "name": "stderr",
          "text": [
            "\n"
          ]
        },
        {
          "output_type": "stream",
          "name": "stdout",
          "text": [
            "\n",
            "      Epoch    GPU_mem       loss  Instances       Size\n"
          ]
        },
        {
          "output_type": "stream",
          "name": "stderr",
          "text": [
            "     46/200      3.84G     0.5491         20         64: 100%|██████████| 36/36 [00:07<00:00,  4.58it/s]\n",
            "               classes   top1_acc   top5_acc: 100%|██████████| 5/5 [00:00<00:00,  8.68it/s]"
          ]
        },
        {
          "output_type": "stream",
          "name": "stdout",
          "text": [
            "                   all      0.692          1\n"
          ]
        },
        {
          "output_type": "stream",
          "name": "stderr",
          "text": [
            "\n"
          ]
        },
        {
          "output_type": "stream",
          "name": "stdout",
          "text": [
            "\n",
            "      Epoch    GPU_mem       loss  Instances       Size\n"
          ]
        },
        {
          "output_type": "stream",
          "name": "stderr",
          "text": [
            "     47/200      3.87G     0.5688         20         64: 100%|██████████| 36/36 [00:07<00:00,  4.81it/s]\n",
            "               classes   top1_acc   top5_acc: 100%|██████████| 5/5 [00:00<00:00,  6.07it/s]"
          ]
        },
        {
          "output_type": "stream",
          "name": "stdout",
          "text": [
            "                   all      0.775          1\n"
          ]
        },
        {
          "output_type": "stream",
          "name": "stderr",
          "text": [
            "\n"
          ]
        },
        {
          "output_type": "stream",
          "name": "stdout",
          "text": [
            "\n",
            "      Epoch    GPU_mem       loss  Instances       Size\n"
          ]
        },
        {
          "output_type": "stream",
          "name": "stderr",
          "text": [
            "     48/200      3.89G     0.5669         20         64: 100%|██████████| 36/36 [00:07<00:00,  5.01it/s]\n",
            "               classes   top1_acc   top5_acc: 100%|██████████| 5/5 [00:00<00:00,  9.62it/s]"
          ]
        },
        {
          "output_type": "stream",
          "name": "stdout",
          "text": [
            "                   all      0.804          1\n"
          ]
        },
        {
          "output_type": "stream",
          "name": "stderr",
          "text": [
            "\n"
          ]
        },
        {
          "output_type": "stream",
          "name": "stdout",
          "text": [
            "\n",
            "      Epoch    GPU_mem       loss  Instances       Size\n"
          ]
        },
        {
          "output_type": "stream",
          "name": "stderr",
          "text": [
            "     49/200      3.91G     0.5587         20         64: 100%|██████████| 36/36 [00:07<00:00,  4.57it/s]\n",
            "               classes   top1_acc   top5_acc: 100%|██████████| 5/5 [00:00<00:00,  8.96it/s]"
          ]
        },
        {
          "output_type": "stream",
          "name": "stdout",
          "text": [
            "                   all      0.772          1\n"
          ]
        },
        {
          "output_type": "stream",
          "name": "stderr",
          "text": [
            "\n"
          ]
        },
        {
          "output_type": "stream",
          "name": "stdout",
          "text": [
            "\n",
            "      Epoch    GPU_mem       loss  Instances       Size\n"
          ]
        },
        {
          "output_type": "stream",
          "name": "stderr",
          "text": [
            "     50/200      3.94G     0.5663         20         64: 100%|██████████| 36/36 [00:07<00:00,  4.58it/s]\n",
            "               classes   top1_acc   top5_acc: 100%|██████████| 5/5 [00:00<00:00,  8.92it/s]"
          ]
        },
        {
          "output_type": "stream",
          "name": "stdout",
          "text": [
            "                   all      0.802          1\n"
          ]
        },
        {
          "output_type": "stream",
          "name": "stderr",
          "text": [
            "\n"
          ]
        },
        {
          "output_type": "stream",
          "name": "stdout",
          "text": [
            "\n",
            "      Epoch    GPU_mem       loss  Instances       Size\n"
          ]
        },
        {
          "output_type": "stream",
          "name": "stderr",
          "text": [
            "     51/200      3.96G     0.5455         20         64: 100%|██████████| 36/36 [00:07<00:00,  5.06it/s]\n",
            "               classes   top1_acc   top5_acc: 100%|██████████| 5/5 [00:00<00:00,  8.74it/s]"
          ]
        },
        {
          "output_type": "stream",
          "name": "stdout",
          "text": [
            "                   all      0.739          1\n"
          ]
        },
        {
          "output_type": "stream",
          "name": "stderr",
          "text": [
            "\n"
          ]
        },
        {
          "output_type": "stream",
          "name": "stdout",
          "text": [
            "\n",
            "      Epoch    GPU_mem       loss  Instances       Size\n"
          ]
        },
        {
          "output_type": "stream",
          "name": "stderr",
          "text": [
            "     52/200      3.99G     0.5541         20         64: 100%|██████████| 36/36 [00:07<00:00,  4.58it/s]\n",
            "               classes   top1_acc   top5_acc: 100%|██████████| 5/5 [00:00<00:00,  9.10it/s]"
          ]
        },
        {
          "output_type": "stream",
          "name": "stdout",
          "text": [
            "                   all      0.643          1\n"
          ]
        },
        {
          "output_type": "stream",
          "name": "stderr",
          "text": [
            "\n"
          ]
        },
        {
          "output_type": "stream",
          "name": "stdout",
          "text": [
            "\n",
            "      Epoch    GPU_mem       loss  Instances       Size\n"
          ]
        },
        {
          "output_type": "stream",
          "name": "stderr",
          "text": [
            "     53/200      4.01G     0.6383         20         64: 100%|██████████| 36/36 [00:07<00:00,  4.55it/s]\n",
            "               classes   top1_acc   top5_acc: 100%|██████████| 5/5 [00:00<00:00,  7.96it/s]"
          ]
        },
        {
          "output_type": "stream",
          "name": "stdout",
          "text": [
            "                   all      0.811          1\n"
          ]
        },
        {
          "output_type": "stream",
          "name": "stderr",
          "text": [
            "\n"
          ]
        },
        {
          "output_type": "stream",
          "name": "stdout",
          "text": [
            "\n",
            "      Epoch    GPU_mem       loss  Instances       Size\n"
          ]
        },
        {
          "output_type": "stream",
          "name": "stderr",
          "text": [
            "     54/200      4.04G     0.5102         20         64: 100%|██████████| 36/36 [00:07<00:00,  5.08it/s]\n",
            "               classes   top1_acc   top5_acc: 100%|██████████| 5/5 [00:00<00:00,  6.03it/s]"
          ]
        },
        {
          "output_type": "stream",
          "name": "stdout",
          "text": [
            "                   all      0.804          1\n"
          ]
        },
        {
          "output_type": "stream",
          "name": "stderr",
          "text": [
            "\n"
          ]
        },
        {
          "output_type": "stream",
          "name": "stdout",
          "text": [
            "\n",
            "      Epoch    GPU_mem       loss  Instances       Size\n"
          ]
        },
        {
          "output_type": "stream",
          "name": "stderr",
          "text": [
            "     55/200      4.38G      0.538         20         64: 100%|██████████| 36/36 [00:07<00:00,  4.75it/s]\n",
            "               classes   top1_acc   top5_acc: 100%|██████████| 5/5 [00:00<00:00,  9.30it/s]"
          ]
        },
        {
          "output_type": "stream",
          "name": "stdout",
          "text": [
            "                   all      0.728          1\n"
          ]
        },
        {
          "output_type": "stream",
          "name": "stderr",
          "text": [
            "\n"
          ]
        },
        {
          "output_type": "stream",
          "name": "stdout",
          "text": [
            "\n",
            "      Epoch    GPU_mem       loss  Instances       Size\n"
          ]
        },
        {
          "output_type": "stream",
          "name": "stderr",
          "text": [
            "     56/200       4.4G     0.5186         20         64: 100%|██████████| 36/36 [00:07<00:00,  4.51it/s]\n",
            "               classes   top1_acc   top5_acc: 100%|██████████| 5/5 [00:00<00:00,  9.10it/s]"
          ]
        },
        {
          "output_type": "stream",
          "name": "stdout",
          "text": [
            "                   all      0.752          1\n"
          ]
        },
        {
          "output_type": "stream",
          "name": "stderr",
          "text": [
            "\n"
          ]
        },
        {
          "output_type": "stream",
          "name": "stdout",
          "text": [
            "\n",
            "      Epoch    GPU_mem       loss  Instances       Size\n"
          ]
        },
        {
          "output_type": "stream",
          "name": "stderr",
          "text": [
            "     57/200      4.42G     0.5147         20         64: 100%|██████████| 36/36 [00:07<00:00,  4.65it/s]\n",
            "               classes   top1_acc   top5_acc: 100%|██████████| 5/5 [00:00<00:00,  7.47it/s]"
          ]
        },
        {
          "output_type": "stream",
          "name": "stdout",
          "text": [
            "                   all        0.8          1\n"
          ]
        },
        {
          "output_type": "stream",
          "name": "stderr",
          "text": [
            "\n"
          ]
        },
        {
          "output_type": "stream",
          "name": "stdout",
          "text": [
            "\n",
            "      Epoch    GPU_mem       loss  Instances       Size\n"
          ]
        },
        {
          "output_type": "stream",
          "name": "stderr",
          "text": [
            "     58/200      4.45G     0.5228         20         64: 100%|██████████| 36/36 [00:07<00:00,  5.01it/s]\n",
            "               classes   top1_acc   top5_acc: 100%|██████████| 5/5 [00:00<00:00,  9.19it/s]"
          ]
        },
        {
          "output_type": "stream",
          "name": "stdout",
          "text": [
            "                   all      0.822          1\n"
          ]
        },
        {
          "output_type": "stream",
          "name": "stderr",
          "text": [
            "\n"
          ]
        },
        {
          "output_type": "stream",
          "name": "stdout",
          "text": [
            "\n",
            "      Epoch    GPU_mem       loss  Instances       Size\n"
          ]
        },
        {
          "output_type": "stream",
          "name": "stderr",
          "text": [
            "     59/200      4.47G     0.5624         20         64: 100%|██████████| 36/36 [00:07<00:00,  4.59it/s]\n",
            "               classes   top1_acc   top5_acc: 100%|██████████| 5/5 [00:00<00:00,  8.86it/s]"
          ]
        },
        {
          "output_type": "stream",
          "name": "stdout",
          "text": [
            "                   all      0.804          1\n"
          ]
        },
        {
          "output_type": "stream",
          "name": "stderr",
          "text": [
            "\n"
          ]
        },
        {
          "output_type": "stream",
          "name": "stdout",
          "text": [
            "\n",
            "      Epoch    GPU_mem       loss  Instances       Size\n"
          ]
        },
        {
          "output_type": "stream",
          "name": "stderr",
          "text": [
            "     60/200       4.5G     0.4931         20         64: 100%|██████████| 36/36 [00:07<00:00,  4.58it/s]\n",
            "               classes   top1_acc   top5_acc: 100%|██████████| 5/5 [00:00<00:00,  8.80it/s]"
          ]
        },
        {
          "output_type": "stream",
          "name": "stdout",
          "text": [
            "                   all      0.771          1\n"
          ]
        },
        {
          "output_type": "stream",
          "name": "stderr",
          "text": [
            "\n"
          ]
        },
        {
          "output_type": "stream",
          "name": "stdout",
          "text": [
            "\n",
            "      Epoch    GPU_mem       loss  Instances       Size\n"
          ]
        },
        {
          "output_type": "stream",
          "name": "stderr",
          "text": [
            "     61/200      4.52G     0.5022         20         64: 100%|██████████| 36/36 [00:07<00:00,  5.10it/s]\n",
            "               classes   top1_acc   top5_acc: 100%|██████████| 5/5 [00:00<00:00,  8.50it/s]"
          ]
        },
        {
          "output_type": "stream",
          "name": "stdout",
          "text": [
            "                   all      0.829          1\n"
          ]
        },
        {
          "output_type": "stream",
          "name": "stderr",
          "text": [
            "\n"
          ]
        },
        {
          "output_type": "stream",
          "name": "stdout",
          "text": [
            "\n",
            "      Epoch    GPU_mem       loss  Instances       Size\n"
          ]
        },
        {
          "output_type": "stream",
          "name": "stderr",
          "text": [
            "     62/200      4.55G     0.4907         20         64: 100%|██████████| 36/36 [00:07<00:00,  4.65it/s]\n",
            "               classes   top1_acc   top5_acc: 100%|██████████| 5/5 [00:00<00:00,  9.05it/s]"
          ]
        },
        {
          "output_type": "stream",
          "name": "stdout",
          "text": [
            "                   all      0.797          1\n"
          ]
        },
        {
          "output_type": "stream",
          "name": "stderr",
          "text": [
            "\n"
          ]
        },
        {
          "output_type": "stream",
          "name": "stdout",
          "text": [
            "\n",
            "      Epoch    GPU_mem       loss  Instances       Size\n"
          ]
        },
        {
          "output_type": "stream",
          "name": "stderr",
          "text": [
            "     63/200      4.57G     0.5207         20         64: 100%|██████████| 36/36 [00:07<00:00,  4.55it/s]\n",
            "               classes   top1_acc   top5_acc: 100%|██████████| 5/5 [00:00<00:00,  9.37it/s]"
          ]
        },
        {
          "output_type": "stream",
          "name": "stdout",
          "text": [
            "                   all      0.737          1\n"
          ]
        },
        {
          "output_type": "stream",
          "name": "stderr",
          "text": [
            "\n"
          ]
        },
        {
          "output_type": "stream",
          "name": "stdout",
          "text": [
            "\n",
            "      Epoch    GPU_mem       loss  Instances       Size\n"
          ]
        },
        {
          "output_type": "stream",
          "name": "stderr",
          "text": [
            "     64/200      4.91G     0.5039         20         64: 100%|██████████| 36/36 [00:07<00:00,  4.79it/s]\n",
            "               classes   top1_acc   top5_acc: 100%|██████████| 5/5 [00:00<00:00,  5.42it/s]"
          ]
        },
        {
          "output_type": "stream",
          "name": "stdout",
          "text": [
            "                   all      0.809          1\n"
          ]
        },
        {
          "output_type": "stream",
          "name": "stderr",
          "text": [
            "\n"
          ]
        },
        {
          "output_type": "stream",
          "name": "stdout",
          "text": [
            "\n",
            "      Epoch    GPU_mem       loss  Instances       Size\n"
          ]
        },
        {
          "output_type": "stream",
          "name": "stderr",
          "text": [
            "     65/200      4.93G      0.509         20         64: 100%|██████████| 36/36 [00:07<00:00,  5.01it/s]\n",
            "               classes   top1_acc   top5_acc: 100%|██████████| 5/5 [00:00<00:00,  8.53it/s]"
          ]
        },
        {
          "output_type": "stream",
          "name": "stdout",
          "text": [
            "                   all      0.799          1\n"
          ]
        },
        {
          "output_type": "stream",
          "name": "stderr",
          "text": [
            "\n"
          ]
        },
        {
          "output_type": "stream",
          "name": "stdout",
          "text": [
            "\n",
            "      Epoch    GPU_mem       loss  Instances       Size\n"
          ]
        },
        {
          "output_type": "stream",
          "name": "stderr",
          "text": [
            "     66/200      4.96G     0.6123         20         64: 100%|██████████| 36/36 [00:07<00:00,  4.59it/s]\n",
            "               classes   top1_acc   top5_acc: 100%|██████████| 5/5 [00:00<00:00,  8.69it/s]"
          ]
        },
        {
          "output_type": "stream",
          "name": "stdout",
          "text": [
            "                   all      0.806          1\n"
          ]
        },
        {
          "output_type": "stream",
          "name": "stderr",
          "text": [
            "\n"
          ]
        },
        {
          "output_type": "stream",
          "name": "stdout",
          "text": [
            "\n",
            "      Epoch    GPU_mem       loss  Instances       Size\n"
          ]
        },
        {
          "output_type": "stream",
          "name": "stderr",
          "text": [
            "     67/200      4.98G     0.4777         20         64: 100%|██████████| 36/36 [00:07<00:00,  4.61it/s]\n",
            "               classes   top1_acc   top5_acc: 100%|██████████| 5/5 [00:00<00:00,  9.05it/s]"
          ]
        },
        {
          "output_type": "stream",
          "name": "stdout",
          "text": [
            "                   all      0.796          1\n"
          ]
        },
        {
          "output_type": "stream",
          "name": "stderr",
          "text": [
            "\n"
          ]
        },
        {
          "output_type": "stream",
          "name": "stdout",
          "text": [
            "\n",
            "      Epoch    GPU_mem       loss  Instances       Size\n"
          ]
        },
        {
          "output_type": "stream",
          "name": "stderr",
          "text": [
            "     68/200      5.01G     0.5152         20         64: 100%|██████████| 36/36 [00:07<00:00,  5.05it/s]\n",
            "               classes   top1_acc   top5_acc: 100%|██████████| 5/5 [00:00<00:00,  8.88it/s]"
          ]
        },
        {
          "output_type": "stream",
          "name": "stdout",
          "text": [
            "                   all      0.828          1\n"
          ]
        },
        {
          "output_type": "stream",
          "name": "stderr",
          "text": [
            "\n"
          ]
        },
        {
          "output_type": "stream",
          "name": "stdout",
          "text": [
            "\n",
            "      Epoch    GPU_mem       loss  Instances       Size\n"
          ]
        },
        {
          "output_type": "stream",
          "name": "stderr",
          "text": [
            "     69/200      5.03G     0.5174         20         64: 100%|██████████| 36/36 [00:07<00:00,  4.57it/s]\n",
            "               classes   top1_acc   top5_acc: 100%|██████████| 5/5 [00:00<00:00,  8.86it/s]"
          ]
        },
        {
          "output_type": "stream",
          "name": "stdout",
          "text": [
            "                   all      0.832          1\n"
          ]
        },
        {
          "output_type": "stream",
          "name": "stderr",
          "text": [
            "\n"
          ]
        },
        {
          "output_type": "stream",
          "name": "stdout",
          "text": [
            "\n",
            "      Epoch    GPU_mem       loss  Instances       Size\n"
          ]
        },
        {
          "output_type": "stream",
          "name": "stderr",
          "text": [
            "     70/200      5.06G     0.4904         20         64: 100%|██████████| 36/36 [00:08<00:00,  4.49it/s]\n",
            "               classes   top1_acc   top5_acc: 100%|██████████| 5/5 [00:00<00:00,  8.99it/s]"
          ]
        },
        {
          "output_type": "stream",
          "name": "stdout",
          "text": [
            "                   all      0.807          1\n"
          ]
        },
        {
          "output_type": "stream",
          "name": "stderr",
          "text": [
            "\n"
          ]
        },
        {
          "output_type": "stream",
          "name": "stdout",
          "text": [
            "\n",
            "      Epoch    GPU_mem       loss  Instances       Size\n"
          ]
        },
        {
          "output_type": "stream",
          "name": "stderr",
          "text": [
            "     71/200      5.08G     0.4969         20         64: 100%|██████████| 36/36 [00:07<00:00,  5.10it/s]\n",
            "               classes   top1_acc   top5_acc: 100%|██████████| 5/5 [00:00<00:00,  5.59it/s]"
          ]
        },
        {
          "output_type": "stream",
          "name": "stdout",
          "text": [
            "                   all      0.822          1\n"
          ]
        },
        {
          "output_type": "stream",
          "name": "stderr",
          "text": [
            "\n"
          ]
        },
        {
          "output_type": "stream",
          "name": "stdout",
          "text": [
            "\n",
            "      Epoch    GPU_mem       loss  Instances       Size\n"
          ]
        },
        {
          "output_type": "stream",
          "name": "stderr",
          "text": [
            "     72/200      5.11G     0.4861         20         64: 100%|██████████| 36/36 [00:07<00:00,  4.89it/s]\n",
            "               classes   top1_acc   top5_acc: 100%|██████████| 5/5 [00:00<00:00,  9.45it/s]"
          ]
        },
        {
          "output_type": "stream",
          "name": "stdout",
          "text": [
            "                   all      0.743          1\n"
          ]
        },
        {
          "output_type": "stream",
          "name": "stderr",
          "text": [
            "\n"
          ]
        },
        {
          "output_type": "stream",
          "name": "stdout",
          "text": [
            "\n",
            "      Epoch    GPU_mem       loss  Instances       Size\n"
          ]
        },
        {
          "output_type": "stream",
          "name": "stderr",
          "text": [
            "     73/200      5.44G     0.4985         20         64: 100%|██████████| 36/36 [00:07<00:00,  4.62it/s]\n",
            "               classes   top1_acc   top5_acc: 100%|██████████| 5/5 [00:00<00:00,  8.66it/s]"
          ]
        },
        {
          "output_type": "stream",
          "name": "stdout",
          "text": [
            "                   all      0.832          1\n"
          ]
        },
        {
          "output_type": "stream",
          "name": "stderr",
          "text": [
            "\n"
          ]
        },
        {
          "output_type": "stream",
          "name": "stdout",
          "text": [
            "\n",
            "      Epoch    GPU_mem       loss  Instances       Size\n"
          ]
        },
        {
          "output_type": "stream",
          "name": "stderr",
          "text": [
            "     74/200      5.47G     0.4779         20         64: 100%|██████████| 36/36 [00:07<00:00,  4.62it/s]\n",
            "               classes   top1_acc   top5_acc: 100%|██████████| 5/5 [00:00<00:00,  7.25it/s]"
          ]
        },
        {
          "output_type": "stream",
          "name": "stdout",
          "text": [
            "                   all      0.834          1\n"
          ]
        },
        {
          "output_type": "stream",
          "name": "stderr",
          "text": [
            "\n"
          ]
        },
        {
          "output_type": "stream",
          "name": "stdout",
          "text": [
            "\n",
            "      Epoch    GPU_mem       loss  Instances       Size\n"
          ]
        },
        {
          "output_type": "stream",
          "name": "stderr",
          "text": [
            "     75/200      5.49G      0.504         20         64: 100%|██████████| 36/36 [00:07<00:00,  4.99it/s]\n",
            "               classes   top1_acc   top5_acc: 100%|██████████| 5/5 [00:00<00:00,  8.41it/s]"
          ]
        },
        {
          "output_type": "stream",
          "name": "stdout",
          "text": [
            "                   all      0.793          1\n"
          ]
        },
        {
          "output_type": "stream",
          "name": "stderr",
          "text": [
            "\n"
          ]
        },
        {
          "output_type": "stream",
          "name": "stdout",
          "text": [
            "\n",
            "      Epoch    GPU_mem       loss  Instances       Size\n"
          ]
        },
        {
          "output_type": "stream",
          "name": "stderr",
          "text": [
            "     76/200      5.52G     0.4757         20         64: 100%|██████████| 36/36 [00:07<00:00,  4.56it/s]\n",
            "               classes   top1_acc   top5_acc: 100%|██████████| 5/5 [00:00<00:00,  9.46it/s]"
          ]
        },
        {
          "output_type": "stream",
          "name": "stdout",
          "text": [
            "                   all      0.823          1\n"
          ]
        },
        {
          "output_type": "stream",
          "name": "stderr",
          "text": [
            "\n"
          ]
        },
        {
          "output_type": "stream",
          "name": "stdout",
          "text": [
            "\n",
            "      Epoch    GPU_mem       loss  Instances       Size\n"
          ]
        },
        {
          "output_type": "stream",
          "name": "stderr",
          "text": [
            "     77/200      5.54G     0.4726         20         64: 100%|██████████| 36/36 [00:07<00:00,  4.52it/s]\n",
            "               classes   top1_acc   top5_acc: 100%|██████████| 5/5 [00:00<00:00,  9.00it/s]"
          ]
        },
        {
          "output_type": "stream",
          "name": "stdout",
          "text": [
            "                   all      0.777          1\n"
          ]
        },
        {
          "output_type": "stream",
          "name": "stderr",
          "text": [
            "\n"
          ]
        },
        {
          "output_type": "stream",
          "name": "stdout",
          "text": [
            "\n",
            "      Epoch    GPU_mem       loss  Instances       Size\n"
          ]
        },
        {
          "output_type": "stream",
          "name": "stderr",
          "text": [
            "     78/200      5.57G     0.4826         20         64: 100%|██████████| 36/36 [00:07<00:00,  5.07it/s]\n",
            "               classes   top1_acc   top5_acc: 100%|██████████| 5/5 [00:00<00:00,  8.10it/s]"
          ]
        },
        {
          "output_type": "stream",
          "name": "stdout",
          "text": [
            "                   all      0.755          1\n"
          ]
        },
        {
          "output_type": "stream",
          "name": "stderr",
          "text": [
            "\n"
          ]
        },
        {
          "output_type": "stream",
          "name": "stdout",
          "text": [
            "\n",
            "      Epoch    GPU_mem       loss  Instances       Size\n"
          ]
        },
        {
          "output_type": "stream",
          "name": "stderr",
          "text": [
            "     79/200      5.59G     0.4569         20         64: 100%|██████████| 36/36 [00:07<00:00,  4.69it/s]\n",
            "               classes   top1_acc   top5_acc: 100%|██████████| 5/5 [00:00<00:00,  8.89it/s]"
          ]
        },
        {
          "output_type": "stream",
          "name": "stdout",
          "text": [
            "                   all      0.807          1\n"
          ]
        },
        {
          "output_type": "stream",
          "name": "stderr",
          "text": [
            "\n"
          ]
        },
        {
          "output_type": "stream",
          "name": "stdout",
          "text": [
            "\n",
            "      Epoch    GPU_mem       loss  Instances       Size\n"
          ]
        },
        {
          "output_type": "stream",
          "name": "stderr",
          "text": [
            "     80/200      5.62G     0.4684        128         64:  53%|█████▎    | 19/36 [00:04<00:04,  3.65it/s]"
          ]
        }
      ]
    },
    {
      "cell_type": "code",
      "source": [
        "!yolo task=classify mode=predict model=runs/classify/train/weights/best.pt source=/content/meatFreshnessP_YOLO/test"
      ],
      "metadata": {
        "id": "vKpdfVi5SpAN"
      },
      "execution_count": null,
      "outputs": []
    },
    {
      "cell_type": "code",
      "source": [
        "import numpy as np\n",
        "import pandas as pd\n",
        "import os\n",
        "import matplotlib.pyplot as plt\n",
        "import seaborn as sns\n",
        "from tensorflow.keras.preprocessing.image import ImageDataGenerator\n",
        "from tensorflow.keras.models import Sequential\n",
        "from tensorflow.keras.layers import Dense, Dropout, Flatten\n",
        "from tensorflow.keras.optimizers import Adam\n",
        "from sklearn.svm import SVC\n",
        "from sklearn.metrics import classification_report, confusion_matrix\n",
        "from sklearn.preprocessing import StandardScaler\n",
        "from sklearn.model_selection import train_test_split\n",
        "\n",
        "# Параметры\n",
        "img_size = (50, 50)\n",
        "batch_size = 128\n",
        "epochs = 500\n",
        "\n",
        "# Пути к данным\n",
        "data_dir = \"/content/YOLOA_501\"\n",
        "#train_dir = os.path.join(data_dir, \"train\")\n",
        "#val_dir = os.path.join(data_dir, \"val\")\n",
        "train_dir = \"/content/YOLOA_501/train\"\n",
        "val_dir = \"/content/YOLOA_501/val\"\n",
        "\n",
        "# Генераторы данных\n",
        "datagen = ImageDataGenerator(rescale=1./255)\n",
        "train_generator = datagen.flow_from_directory(train_dir, target_size=img_size, batch_size=batch_size, class_mode='categorical')\n",
        "val_generator = datagen.flow_from_directory(val_dir, target_size=img_size, batch_size=batch_size, class_mode='categorical')\n",
        "\n",
        "# Создание ANN\n",
        "model = Sequential([\n",
        "    Flatten(input_shape=(50, 50, 3)),\n",
        "    Dense(512, activation='relu'),\n",
        "    Dropout(0.3),\n",
        "    Dense(256, activation='relu'),\n",
        "    Dropout(0.2),\n",
        "    Dense(128, activation='relu'),\n",
        "    Dropout(0.1),\n",
        "    Dense(3, activation='softmax')  # 3 класса\n",
        "])\n",
        "\n",
        "# Компиляция модели\n",
        "model.compile(optimizer=Adam(learning_rate=0.0005), loss='categorical_crossentropy', metrics=['accuracy'])\n",
        "\n",
        "# Обучение модели\n",
        "history = model.fit(train_generator, epochs=epochs, validation_data=val_generator)"
      ],
      "metadata": {
        "colab": {
          "base_uri": "https://localhost:8080/",
          "height": 1000
        },
        "id": "v5-kN5i5ypJy",
        "outputId": "01c3916c-5c2e-42c3-9e14-460f9e6644dd"
      },
      "execution_count": null,
      "outputs": [
        {
          "output_type": "stream",
          "name": "stdout",
          "text": [
            "Found 1800 images belonging to 3 classes.\n",
            "Found 450 images belonging to 3 classes.\n",
            "Epoch 1/500\n"
          ]
        },
        {
          "output_type": "stream",
          "name": "stderr",
          "text": [
            "/usr/local/lib/python3.11/dist-packages/keras/src/layers/reshaping/flatten.py:37: UserWarning: Do not pass an `input_shape`/`input_dim` argument to a layer. When using Sequential models, prefer using an `Input(shape)` object as the first layer in the model instead.\n",
            "  super().__init__(**kwargs)\n",
            "/usr/local/lib/python3.11/dist-packages/keras/src/trainers/data_adapters/py_dataset_adapter.py:121: UserWarning: Your `PyDataset` class should call `super().__init__(**kwargs)` in its constructor. `**kwargs` can include `workers`, `use_multiprocessing`, `max_queue_size`. Do not pass these arguments to `fit()`, as they will be ignored.\n",
            "  self._warn_if_super_not_called()\n"
          ]
        },
        {
          "output_type": "stream",
          "name": "stdout",
          "text": [
            "\u001b[1m15/15\u001b[0m \u001b[32m━━━━━━━━━━━━━━━━━━━━\u001b[0m\u001b[37m\u001b[0m \u001b[1m8s\u001b[0m 277ms/step - accuracy: 0.3440 - loss: 1.5765 - val_accuracy: 0.3422 - val_loss: 1.1635\n",
            "Epoch 2/500\n",
            "\u001b[1m15/15\u001b[0m \u001b[32m━━━━━━━━━━━━━━━━━━━━\u001b[0m\u001b[37m\u001b[0m \u001b[1m1s\u001b[0m 69ms/step - accuracy: 0.3468 - loss: 1.2766 - val_accuracy: 0.3556 - val_loss: 1.1671\n",
            "Epoch 3/500\n",
            "\u001b[1m15/15\u001b[0m \u001b[32m━━━━━━━━━━━━━━━━━━━━\u001b[0m\u001b[37m\u001b[0m \u001b[1m1s\u001b[0m 45ms/step - accuracy: 0.3522 - loss: 1.2134 - val_accuracy: 0.3578 - val_loss: 1.1064\n",
            "Epoch 4/500\n",
            "\u001b[1m15/15\u001b[0m \u001b[32m━━━━━━━━━━━━━━━━━━━━\u001b[0m\u001b[37m\u001b[0m \u001b[1m1s\u001b[0m 46ms/step - accuracy: 0.3623 - loss: 1.1461 - val_accuracy: 0.4022 - val_loss: 1.0956\n",
            "Epoch 5/500\n",
            "\u001b[1m15/15\u001b[0m \u001b[32m━━━━━━━━━━━━━━━━━━━━\u001b[0m\u001b[37m\u001b[0m \u001b[1m1s\u001b[0m 51ms/step - accuracy: 0.3522 - loss: 1.1268 - val_accuracy: 0.3600 - val_loss: 1.0971\n",
            "Epoch 6/500\n",
            "\u001b[1m15/15\u001b[0m \u001b[32m━━━━━━━━━━━━━━━━━━━━\u001b[0m\u001b[37m\u001b[0m \u001b[1m1s\u001b[0m 47ms/step - accuracy: 0.3535 - loss: 1.1166 - val_accuracy: 0.4022 - val_loss: 1.0917\n",
            "Epoch 7/500\n",
            "\u001b[1m15/15\u001b[0m \u001b[32m━━━━━━━━━━━━━━━━━━━━\u001b[0m\u001b[37m\u001b[0m \u001b[1m1s\u001b[0m 47ms/step - accuracy: 0.3631 - loss: 1.1017 - val_accuracy: 0.3311 - val_loss: 1.0903\n",
            "Epoch 8/500\n",
            "\u001b[1m15/15\u001b[0m \u001b[32m━━━━━━━━━━━━━━━━━━━━\u001b[0m\u001b[37m\u001b[0m \u001b[1m1s\u001b[0m 47ms/step - accuracy: 0.3540 - loss: 1.0923 - val_accuracy: 0.3978 - val_loss: 1.0855\n",
            "Epoch 9/500\n",
            "\u001b[1m15/15\u001b[0m \u001b[32m━━━━━━━━━━━━━━━━━━━━\u001b[0m\u001b[37m\u001b[0m \u001b[1m1s\u001b[0m 47ms/step - accuracy: 0.3755 - loss: 1.0882 - val_accuracy: 0.4000 - val_loss: 1.0745\n",
            "Epoch 10/500\n",
            "\u001b[1m15/15\u001b[0m \u001b[32m━━━━━━━━━━━━━━━━━━━━\u001b[0m\u001b[37m\u001b[0m \u001b[1m1s\u001b[0m 47ms/step - accuracy: 0.3696 - loss: 1.0940 - val_accuracy: 0.4333 - val_loss: 1.0827\n",
            "Epoch 11/500\n",
            "\u001b[1m15/15\u001b[0m \u001b[32m━━━━━━━━━━━━━━━━━━━━\u001b[0m\u001b[37m\u001b[0m \u001b[1m1s\u001b[0m 47ms/step - accuracy: 0.3712 - loss: 1.0977 - val_accuracy: 0.3933 - val_loss: 1.0776\n",
            "Epoch 12/500\n",
            "\u001b[1m15/15\u001b[0m \u001b[32m━━━━━━━━━━━━━━━━━━━━\u001b[0m\u001b[37m\u001b[0m \u001b[1m1s\u001b[0m 46ms/step - accuracy: 0.3850 - loss: 1.0860 - val_accuracy: 0.4444 - val_loss: 1.0567\n",
            "Epoch 13/500\n",
            "\u001b[1m15/15\u001b[0m \u001b[32m━━━━━━━━━━━━━━━━━━━━\u001b[0m\u001b[37m\u001b[0m \u001b[1m1s\u001b[0m 52ms/step - accuracy: 0.3702 - loss: 1.0645 - val_accuracy: 0.4578 - val_loss: 1.0599\n",
            "Epoch 14/500\n",
            "\u001b[1m15/15\u001b[0m \u001b[32m━━━━━━━━━━━━━━━━━━━━\u001b[0m\u001b[37m\u001b[0m \u001b[1m1s\u001b[0m 46ms/step - accuracy: 0.3832 - loss: 1.0657 - val_accuracy: 0.4444 - val_loss: 1.0467\n",
            "Epoch 15/500\n",
            "\u001b[1m15/15\u001b[0m \u001b[32m━━━━━━━━━━━━━━━━━━━━\u001b[0m\u001b[37m\u001b[0m \u001b[1m1s\u001b[0m 61ms/step - accuracy: 0.3967 - loss: 1.0491 - val_accuracy: 0.4489 - val_loss: 1.0404\n",
            "Epoch 16/500\n",
            "\u001b[1m15/15\u001b[0m \u001b[32m━━━━━━━━━━━━━━━━━━━━\u001b[0m\u001b[37m\u001b[0m \u001b[1m2s\u001b[0m 110ms/step - accuracy: 0.4014 - loss: 1.0540 - val_accuracy: 0.4622 - val_loss: 1.0349\n",
            "Epoch 17/500\n",
            "\u001b[1m15/15\u001b[0m \u001b[32m━━━━━━━━━━━━━━━━━━━━\u001b[0m\u001b[37m\u001b[0m \u001b[1m1s\u001b[0m 71ms/step - accuracy: 0.4455 - loss: 1.0338 - val_accuracy: 0.4778 - val_loss: 1.0351\n",
            "Epoch 18/500\n",
            "\u001b[1m15/15\u001b[0m \u001b[32m━━━━━━━━━━━━━━━━━━━━\u001b[0m\u001b[37m\u001b[0m \u001b[1m1s\u001b[0m 72ms/step - accuracy: 0.4079 - loss: 1.0506 - val_accuracy: 0.4756 - val_loss: 1.0212\n",
            "Epoch 19/500\n",
            "\u001b[1m15/15\u001b[0m \u001b[32m━━━━━━━━━━━━━━━━━━━━\u001b[0m\u001b[37m\u001b[0m \u001b[1m1s\u001b[0m 60ms/step - accuracy: 0.4519 - loss: 1.0277 - val_accuracy: 0.4533 - val_loss: 1.0203\n",
            "Epoch 20/500\n",
            "\u001b[1m15/15\u001b[0m \u001b[32m━━━━━━━━━━━━━━━━━━━━\u001b[0m\u001b[37m\u001b[0m \u001b[1m1s\u001b[0m 45ms/step - accuracy: 0.4519 - loss: 1.0122 - val_accuracy: 0.4467 - val_loss: 1.0146\n",
            "Epoch 21/500\n",
            "\u001b[1m15/15\u001b[0m \u001b[32m━━━━━━━━━━━━━━━━━━━━\u001b[0m\u001b[37m\u001b[0m \u001b[1m1s\u001b[0m 46ms/step - accuracy: 0.4377 - loss: 1.0257 - val_accuracy: 0.4733 - val_loss: 1.0057\n",
            "Epoch 22/500\n",
            "\u001b[1m15/15\u001b[0m \u001b[32m━━━━━━━━━━━━━━━━━━━━\u001b[0m\u001b[37m\u001b[0m \u001b[1m1s\u001b[0m 47ms/step - accuracy: 0.4697 - loss: 0.9987 - val_accuracy: 0.4689 - val_loss: 1.0039\n",
            "Epoch 23/500\n",
            "\u001b[1m15/15\u001b[0m \u001b[32m━━━━━━━━━━━━━━━━━━━━\u001b[0m\u001b[37m\u001b[0m \u001b[1m1s\u001b[0m 45ms/step - accuracy: 0.4677 - loss: 0.9957 - val_accuracy: 0.4667 - val_loss: 1.0017\n",
            "Epoch 24/500\n",
            "\u001b[1m15/15\u001b[0m \u001b[32m━━━━━━━━━━━━━━━━━━━━\u001b[0m\u001b[37m\u001b[0m \u001b[1m1s\u001b[0m 46ms/step - accuracy: 0.4620 - loss: 1.0041 - val_accuracy: 0.4533 - val_loss: 1.0019\n",
            "Epoch 25/500\n",
            "\u001b[1m15/15\u001b[0m \u001b[32m━━━━━━━━━━━━━━━━━━━━\u001b[0m\u001b[37m\u001b[0m \u001b[1m1s\u001b[0m 47ms/step - accuracy: 0.4610 - loss: 0.9927 - val_accuracy: 0.4733 - val_loss: 0.9750\n",
            "Epoch 26/500\n",
            "\u001b[1m15/15\u001b[0m \u001b[32m━━━━━━━━━━━━━━━━━━━━\u001b[0m\u001b[37m\u001b[0m \u001b[1m1s\u001b[0m 45ms/step - accuracy: 0.4619 - loss: 0.9892 - val_accuracy: 0.4867 - val_loss: 0.9814\n",
            "Epoch 27/500\n",
            "\u001b[1m15/15\u001b[0m \u001b[32m━━━━━━━━━━━━━━━━━━━━\u001b[0m\u001b[37m\u001b[0m \u001b[1m1s\u001b[0m 46ms/step - accuracy: 0.5106 - loss: 0.9558 - val_accuracy: 0.4911 - val_loss: 0.9691\n",
            "Epoch 28/500\n",
            "\u001b[1m15/15\u001b[0m \u001b[32m━━━━━━━━━━━━━━━━━━━━\u001b[0m\u001b[37m\u001b[0m \u001b[1m1s\u001b[0m 47ms/step - accuracy: 0.5108 - loss: 0.9510 - val_accuracy: 0.4978 - val_loss: 0.9833\n",
            "Epoch 29/500\n",
            "\u001b[1m15/15\u001b[0m \u001b[32m━━━━━━━━━━━━━━━━━━━━\u001b[0m\u001b[37m\u001b[0m \u001b[1m1s\u001b[0m 58ms/step - accuracy: 0.4944 - loss: 0.9735 - val_accuracy: 0.4689 - val_loss: 0.9740\n",
            "Epoch 30/500\n",
            "\u001b[1m15/15\u001b[0m \u001b[32m━━━━━━━━━━━━━━━━━━━━\u001b[0m\u001b[37m\u001b[0m \u001b[1m1s\u001b[0m 64ms/step - accuracy: 0.4602 - loss: 1.0156 - val_accuracy: 0.5111 - val_loss: 0.9825\n",
            "Epoch 31/500\n",
            "\u001b[1m15/15\u001b[0m \u001b[32m━━━━━━━━━━━━━━━━━━━━\u001b[0m\u001b[37m\u001b[0m \u001b[1m1s\u001b[0m 54ms/step - accuracy: 0.4742 - loss: 0.9920 - val_accuracy: 0.4511 - val_loss: 0.9986\n",
            "Epoch 32/500\n",
            "\u001b[1m15/15\u001b[0m \u001b[32m━━━━━━━━━━━━━━━━━━━━\u001b[0m\u001b[37m\u001b[0m \u001b[1m1s\u001b[0m 44ms/step - accuracy: 0.4662 - loss: 0.9870 - val_accuracy: 0.5111 - val_loss: 0.9742\n",
            "Epoch 33/500\n",
            "\u001b[1m15/15\u001b[0m \u001b[32m━━━━━━━━━━━━━━━━━━━━\u001b[0m\u001b[37m\u001b[0m \u001b[1m1s\u001b[0m 46ms/step - accuracy: 0.4767 - loss: 0.9764 - val_accuracy: 0.5111 - val_loss: 0.9751\n",
            "Epoch 34/500\n",
            "\u001b[1m15/15\u001b[0m \u001b[32m━━━━━━━━━━━━━━━━━━━━\u001b[0m\u001b[37m\u001b[0m \u001b[1m1s\u001b[0m 46ms/step - accuracy: 0.4728 - loss: 0.9778 - val_accuracy: 0.3911 - val_loss: 1.1105\n",
            "Epoch 35/500\n",
            "\u001b[1m15/15\u001b[0m \u001b[32m━━━━━━━━━━━━━━━━━━━━\u001b[0m\u001b[37m\u001b[0m \u001b[1m1s\u001b[0m 49ms/step - accuracy: 0.4478 - loss: 1.0697 - val_accuracy: 0.4978 - val_loss: 1.0000\n",
            "Epoch 36/500\n",
            "\u001b[1m15/15\u001b[0m \u001b[32m━━━━━━━━━━━━━━━━━━━━\u001b[0m\u001b[37m\u001b[0m \u001b[1m1s\u001b[0m 46ms/step - accuracy: 0.4696 - loss: 0.9949 - val_accuracy: 0.5022 - val_loss: 0.9689\n",
            "Epoch 37/500\n",
            "\u001b[1m15/15\u001b[0m \u001b[32m━━━━━━━━━━━━━━━━━━━━\u001b[0m\u001b[37m\u001b[0m \u001b[1m1s\u001b[0m 50ms/step - accuracy: 0.4941 - loss: 0.9646 - val_accuracy: 0.5333 - val_loss: 0.9641\n",
            "Epoch 38/500\n",
            "\u001b[1m15/15\u001b[0m \u001b[32m━━━━━━━━━━━━━━━━━━━━\u001b[0m\u001b[37m\u001b[0m \u001b[1m1s\u001b[0m 46ms/step - accuracy: 0.5074 - loss: 0.9594 - val_accuracy: 0.5089 - val_loss: 0.9724\n",
            "Epoch 39/500\n",
            "\u001b[1m15/15\u001b[0m \u001b[32m━━━━━━━━━━━━━━━━━━━━\u001b[0m\u001b[37m\u001b[0m \u001b[1m1s\u001b[0m 47ms/step - accuracy: 0.5239 - loss: 0.9413 - val_accuracy: 0.5089 - val_loss: 0.9558\n",
            "Epoch 40/500\n",
            "\u001b[1m15/15\u001b[0m \u001b[32m━━━━━━━━━━━━━━━━━━━━\u001b[0m\u001b[37m\u001b[0m \u001b[1m1s\u001b[0m 48ms/step - accuracy: 0.5131 - loss: 0.9441 - val_accuracy: 0.4978 - val_loss: 0.9591\n",
            "Epoch 41/500\n",
            "\u001b[1m15/15\u001b[0m \u001b[32m━━━━━━━━━━━━━━━━━━━━\u001b[0m\u001b[37m\u001b[0m \u001b[1m1s\u001b[0m 46ms/step - accuracy: 0.5108 - loss: 0.9446 - val_accuracy: 0.5133 - val_loss: 0.9477\n",
            "Epoch 42/500\n",
            "\u001b[1m15/15\u001b[0m \u001b[32m━━━━━━━━━━━━━━━━━━━━\u001b[0m\u001b[37m\u001b[0m \u001b[1m1s\u001b[0m 45ms/step - accuracy: 0.5197 - loss: 0.9337 - val_accuracy: 0.4956 - val_loss: 0.9591\n",
            "Epoch 43/500\n",
            "\u001b[1m15/15\u001b[0m \u001b[32m━━━━━━━━━━━━━━━━━━━━\u001b[0m\u001b[37m\u001b[0m \u001b[1m1s\u001b[0m 47ms/step - accuracy: 0.5049 - loss: 0.9356 - val_accuracy: 0.4556 - val_loss: 1.0199\n",
            "Epoch 44/500\n",
            "\u001b[1m15/15\u001b[0m \u001b[32m━━━━━━━━━━━━━━━━━━━━\u001b[0m\u001b[37m\u001b[0m \u001b[1m1s\u001b[0m 46ms/step - accuracy: 0.4847 - loss: 0.9563 - val_accuracy: 0.5289 - val_loss: 0.9505\n",
            "Epoch 45/500\n",
            "\u001b[1m15/15\u001b[0m \u001b[32m━━━━━━━━━━━━━━━━━━━━\u001b[0m\u001b[37m\u001b[0m \u001b[1m1s\u001b[0m 67ms/step - accuracy: 0.5314 - loss: 0.9092 - val_accuracy: 0.5556 - val_loss: 0.9249\n",
            "Epoch 46/500\n",
            "\u001b[1m15/15\u001b[0m \u001b[32m━━━━━━━━━━━━━━━━━━━━\u001b[0m\u001b[37m\u001b[0m \u001b[1m1s\u001b[0m 75ms/step - accuracy: 0.5489 - loss: 0.8890 - val_accuracy: 0.5244 - val_loss: 0.9407\n",
            "Epoch 47/500\n",
            "\u001b[1m15/15\u001b[0m \u001b[32m━━━━━━━━━━━━━━━━━━━━\u001b[0m\u001b[37m\u001b[0m \u001b[1m1s\u001b[0m 58ms/step - accuracy: 0.5606 - loss: 0.9007 - val_accuracy: 0.5178 - val_loss: 0.9757\n",
            "Epoch 48/500\n",
            "\u001b[1m15/15\u001b[0m \u001b[32m━━━━━━━━━━━━━━━━━━━━\u001b[0m\u001b[37m\u001b[0m \u001b[1m1s\u001b[0m 46ms/step - accuracy: 0.5268 - loss: 0.9261 - val_accuracy: 0.5133 - val_loss: 0.9583\n",
            "Epoch 49/500\n",
            "\u001b[1m15/15\u001b[0m \u001b[32m━━━━━━━━━━━━━━━━━━━━\u001b[0m\u001b[37m\u001b[0m \u001b[1m1s\u001b[0m 48ms/step - accuracy: 0.5429 - loss: 0.9012 - val_accuracy: 0.5378 - val_loss: 0.9123\n",
            "Epoch 50/500\n",
            "\u001b[1m15/15\u001b[0m \u001b[32m━━━━━━━━━━━━━━━━━━━━\u001b[0m\u001b[37m\u001b[0m \u001b[1m1s\u001b[0m 49ms/step - accuracy: 0.5837 - loss: 0.8648 - val_accuracy: 0.5044 - val_loss: 0.9257\n",
            "Epoch 51/500\n",
            "\u001b[1m15/15\u001b[0m \u001b[32m━━━━━━━━━━━━━━━━━━━━\u001b[0m\u001b[37m\u001b[0m \u001b[1m1s\u001b[0m 46ms/step - accuracy: 0.5483 - loss: 0.8826 - val_accuracy: 0.5067 - val_loss: 0.9613\n",
            "Epoch 52/500\n",
            "\u001b[1m15/15\u001b[0m \u001b[32m━━━━━━━━━━━━━━━━━━━━\u001b[0m\u001b[37m\u001b[0m \u001b[1m1s\u001b[0m 46ms/step - accuracy: 0.5337 - loss: 0.9079 - val_accuracy: 0.5267 - val_loss: 0.9276\n",
            "Epoch 53/500\n",
            "\u001b[1m15/15\u001b[0m \u001b[32m━━━━━━━━━━━━━━━━━━━━\u001b[0m\u001b[37m\u001b[0m \u001b[1m1s\u001b[0m 47ms/step - accuracy: 0.5597 - loss: 0.8654 - val_accuracy: 0.5467 - val_loss: 0.9353\n",
            "Epoch 54/500\n",
            "\u001b[1m15/15\u001b[0m \u001b[32m━━━━━━━━━━━━━━━━━━━━\u001b[0m\u001b[37m\u001b[0m \u001b[1m1s\u001b[0m 48ms/step - accuracy: 0.5478 - loss: 0.9061 - val_accuracy: 0.5267 - val_loss: 0.9588\n",
            "Epoch 55/500\n",
            "\u001b[1m15/15\u001b[0m \u001b[32m━━━━━━━━━━━━━━━━━━━━\u001b[0m\u001b[37m\u001b[0m \u001b[1m1s\u001b[0m 46ms/step - accuracy: 0.5335 - loss: 0.9580 - val_accuracy: 0.5378 - val_loss: 0.9351\n",
            "Epoch 56/500\n",
            "\u001b[1m15/15\u001b[0m \u001b[32m━━━━━━━━━━━━━━━━━━━━\u001b[0m\u001b[37m\u001b[0m \u001b[1m1s\u001b[0m 47ms/step - accuracy: 0.5658 - loss: 0.8817 - val_accuracy: 0.5556 - val_loss: 0.9246\n",
            "Epoch 57/500\n",
            "\u001b[1m15/15\u001b[0m \u001b[32m━━━━━━━━━━━━━━━━━━━━\u001b[0m\u001b[37m\u001b[0m \u001b[1m1s\u001b[0m 46ms/step - accuracy: 0.5450 - loss: 0.8970 - val_accuracy: 0.5333 - val_loss: 0.9612\n",
            "Epoch 58/500\n",
            "\u001b[1m15/15\u001b[0m \u001b[32m━━━━━━━━━━━━━━━━━━━━\u001b[0m\u001b[37m\u001b[0m \u001b[1m1s\u001b[0m 47ms/step - accuracy: 0.5436 - loss: 0.9035 - val_accuracy: 0.5133 - val_loss: 0.9797\n",
            "Epoch 59/500\n",
            "\u001b[1m15/15\u001b[0m \u001b[32m━━━━━━━━━━━━━━━━━━━━\u001b[0m\u001b[37m\u001b[0m \u001b[1m1s\u001b[0m 47ms/step - accuracy: 0.5667 - loss: 0.8803 - val_accuracy: 0.5178 - val_loss: 0.9699\n",
            "Epoch 60/500\n",
            "\u001b[1m15/15\u001b[0m \u001b[32m━━━━━━━━━━━━━━━━━━━━\u001b[0m\u001b[37m\u001b[0m \u001b[1m1s\u001b[0m 58ms/step - accuracy: 0.5437 - loss: 0.8831 - val_accuracy: 0.5511 - val_loss: 0.9261\n",
            "Epoch 61/500\n",
            "\u001b[1m15/15\u001b[0m \u001b[32m━━━━━━━━━━━━━━━━━━━━\u001b[0m\u001b[37m\u001b[0m \u001b[1m2s\u001b[0m 76ms/step - accuracy: 0.6036 - loss: 0.8356 - val_accuracy: 0.5644 - val_loss: 0.9703\n",
            "Epoch 62/500\n",
            "\u001b[1m15/15\u001b[0m \u001b[32m━━━━━━━━━━━━━━━━━━━━\u001b[0m\u001b[37m\u001b[0m \u001b[1m1s\u001b[0m 50ms/step - accuracy: 0.5680 - loss: 0.9449 - val_accuracy: 0.5556 - val_loss: 0.9224\n",
            "Epoch 63/500\n",
            "\u001b[1m15/15\u001b[0m \u001b[32m━━━━━━━━━━━━━━━━━━━━\u001b[0m\u001b[37m\u001b[0m \u001b[1m1s\u001b[0m 47ms/step - accuracy: 0.5641 - loss: 0.8601 - val_accuracy: 0.5356 - val_loss: 0.9389\n",
            "Epoch 64/500\n",
            "\u001b[1m15/15\u001b[0m \u001b[32m━━━━━━━━━━━━━━━━━━━━\u001b[0m\u001b[37m\u001b[0m \u001b[1m1s\u001b[0m 46ms/step - accuracy: 0.5740 - loss: 0.8673 - val_accuracy: 0.5467 - val_loss: 0.9490\n",
            "Epoch 65/500\n",
            "\u001b[1m15/15\u001b[0m \u001b[32m━━━━━━━━━━━━━━━━━━━━\u001b[0m\u001b[37m\u001b[0m \u001b[1m1s\u001b[0m 44ms/step - accuracy: 0.5656 - loss: 0.9107 - val_accuracy: 0.5333 - val_loss: 0.9275\n",
            "Epoch 66/500\n",
            "\u001b[1m15/15\u001b[0m \u001b[32m━━━━━━━━━━━━━━━━━━━━\u001b[0m\u001b[37m\u001b[0m \u001b[1m1s\u001b[0m 48ms/step - accuracy: 0.5477 - loss: 0.9281 - val_accuracy: 0.4467 - val_loss: 1.0612\n",
            "Epoch 67/500\n",
            "\u001b[1m15/15\u001b[0m \u001b[32m━━━━━━━━━━━━━━━━━━━━\u001b[0m\u001b[37m\u001b[0m \u001b[1m1s\u001b[0m 46ms/step - accuracy: 0.5173 - loss: 0.9442 - val_accuracy: 0.5244 - val_loss: 0.9413\n",
            "Epoch 68/500\n",
            "\u001b[1m15/15\u001b[0m \u001b[32m━━━━━━━━━━━━━━━━━━━━\u001b[0m\u001b[37m\u001b[0m \u001b[1m1s\u001b[0m 48ms/step - accuracy: 0.6192 - loss: 0.8386 - val_accuracy: 0.5400 - val_loss: 0.9147\n",
            "Epoch 69/500\n",
            "\u001b[1m15/15\u001b[0m \u001b[32m━━━━━━━━━━━━━━━━━━━━\u001b[0m\u001b[37m\u001b[0m \u001b[1m1s\u001b[0m 48ms/step - accuracy: 0.6102 - loss: 0.8206 - val_accuracy: 0.5600 - val_loss: 0.9144\n",
            "Epoch 70/500\n",
            "\u001b[1m15/15\u001b[0m \u001b[32m━━━━━━━━━━━━━━━━━━━━\u001b[0m\u001b[37m\u001b[0m \u001b[1m1s\u001b[0m 49ms/step - accuracy: 0.6126 - loss: 0.8177 - val_accuracy: 0.5311 - val_loss: 0.9267\n",
            "Epoch 71/500\n",
            "\u001b[1m15/15\u001b[0m \u001b[32m━━━━━━━━━━━━━━━━━━━━\u001b[0m\u001b[37m\u001b[0m \u001b[1m1s\u001b[0m 46ms/step - accuracy: 0.5605 - loss: 0.8661 - val_accuracy: 0.5400 - val_loss: 0.9466\n",
            "Epoch 72/500\n",
            "\u001b[1m15/15\u001b[0m \u001b[32m━━━━━━━━━━━━━━━━━━━━\u001b[0m\u001b[37m\u001b[0m \u001b[1m1s\u001b[0m 46ms/step - accuracy: 0.5488 - loss: 0.8738 - val_accuracy: 0.5311 - val_loss: 0.9377\n",
            "Epoch 73/500\n",
            "\u001b[1m15/15\u001b[0m \u001b[32m━━━━━━━━━━━━━━━━━━━━\u001b[0m\u001b[37m\u001b[0m \u001b[1m1s\u001b[0m 46ms/step - accuracy: 0.5885 - loss: 0.8342 - val_accuracy: 0.5267 - val_loss: 0.9625\n",
            "Epoch 74/500\n",
            "\u001b[1m15/15\u001b[0m \u001b[32m━━━━━━━━━━━━━━━━━━━━\u001b[0m\u001b[37m\u001b[0m \u001b[1m1s\u001b[0m 49ms/step - accuracy: 0.5813 - loss: 0.8867 - val_accuracy: 0.5711 - val_loss: 0.9139\n",
            "Epoch 75/500\n",
            "\u001b[1m15/15\u001b[0m \u001b[32m━━━━━━━━━━━━━━━━━━━━\u001b[0m\u001b[37m\u001b[0m \u001b[1m1s\u001b[0m 56ms/step - accuracy: 0.5869 - loss: 0.8367 - val_accuracy: 0.5489 - val_loss: 0.9323\n",
            "Epoch 76/500\n",
            "\u001b[1m15/15\u001b[0m \u001b[32m━━━━━━━━━━━━━━━━━━━━\u001b[0m\u001b[37m\u001b[0m \u001b[1m1s\u001b[0m 66ms/step - accuracy: 0.5498 - loss: 0.8957 - val_accuracy: 0.5222 - val_loss: 0.9665\n",
            "Epoch 77/500\n",
            "\u001b[1m15/15\u001b[0m \u001b[32m━━━━━━━━━━━━━━━━━━━━\u001b[0m\u001b[37m\u001b[0m \u001b[1m1s\u001b[0m 49ms/step - accuracy: 0.5099 - loss: 0.9617 - val_accuracy: 0.4667 - val_loss: 0.9856\n",
            "Epoch 78/500\n",
            "\u001b[1m15/15\u001b[0m \u001b[32m━━━━━━━━━━━━━━━━━━━━\u001b[0m\u001b[37m\u001b[0m \u001b[1m1s\u001b[0m 48ms/step - accuracy: 0.5068 - loss: 0.9386 - val_accuracy: 0.4867 - val_loss: 0.9661\n",
            "Epoch 79/500\n",
            "\u001b[1m15/15\u001b[0m \u001b[32m━━━━━━━━━━━━━━━━━━━━\u001b[0m\u001b[37m\u001b[0m \u001b[1m1s\u001b[0m 46ms/step - accuracy: 0.5279 - loss: 0.9396 - val_accuracy: 0.5489 - val_loss: 0.9131\n",
            "Epoch 80/500\n",
            "\u001b[1m15/15\u001b[0m \u001b[32m━━━━━━━━━━━━━━━━━━━━\u001b[0m\u001b[37m\u001b[0m \u001b[1m1s\u001b[0m 49ms/step - accuracy: 0.5601 - loss: 0.8941 - val_accuracy: 0.4978 - val_loss: 0.9816\n",
            "Epoch 81/500\n",
            "\u001b[1m15/15\u001b[0m \u001b[32m━━━━━━━━━━━━━━━━━━━━\u001b[0m\u001b[37m\u001b[0m \u001b[1m1s\u001b[0m 46ms/step - accuracy: 0.5282 - loss: 0.9300 - val_accuracy: 0.5333 - val_loss: 0.9542\n",
            "Epoch 82/500\n",
            "\u001b[1m15/15\u001b[0m \u001b[32m━━━━━━━━━━━━━━━━━━━━\u001b[0m\u001b[37m\u001b[0m \u001b[1m1s\u001b[0m 48ms/step - accuracy: 0.5930 - loss: 0.8399 - val_accuracy: 0.5511 - val_loss: 0.9181\n",
            "Epoch 83/500\n",
            "\u001b[1m15/15\u001b[0m \u001b[32m━━━━━━━━━━━━━━━━━━━━\u001b[0m\u001b[37m\u001b[0m \u001b[1m1s\u001b[0m 46ms/step - accuracy: 0.6379 - loss: 0.8025 - val_accuracy: 0.5644 - val_loss: 0.9481\n",
            "Epoch 84/500\n",
            "\u001b[1m15/15\u001b[0m \u001b[32m━━━━━━━━━━━━━━━━━━━━\u001b[0m\u001b[37m\u001b[0m \u001b[1m1s\u001b[0m 45ms/step - accuracy: 0.5777 - loss: 0.8690 - val_accuracy: 0.5689 - val_loss: 0.9314\n",
            "Epoch 85/500\n",
            "\u001b[1m15/15\u001b[0m \u001b[32m━━━━━━━━━━━━━━━━━━━━\u001b[0m\u001b[37m\u001b[0m \u001b[1m1s\u001b[0m 46ms/step - accuracy: 0.6038 - loss: 0.8382 - val_accuracy: 0.5556 - val_loss: 0.9152\n",
            "Epoch 86/500\n",
            "\u001b[1m15/15\u001b[0m \u001b[32m━━━━━━━━━━━━━━━━━━━━\u001b[0m\u001b[37m\u001b[0m \u001b[1m1s\u001b[0m 47ms/step - accuracy: 0.5892 - loss: 0.8432 - val_accuracy: 0.5511 - val_loss: 0.9414\n",
            "Epoch 87/500\n",
            "\u001b[1m15/15\u001b[0m \u001b[32m━━━━━━━━━━━━━━━━━━━━\u001b[0m\u001b[37m\u001b[0m \u001b[1m1s\u001b[0m 47ms/step - accuracy: 0.5717 - loss: 0.8474 - val_accuracy: 0.5444 - val_loss: 0.9495\n",
            "Epoch 88/500\n",
            "\u001b[1m15/15\u001b[0m \u001b[32m━━━━━━━━━━━━━━━━━━━━\u001b[0m\u001b[37m\u001b[0m \u001b[1m1s\u001b[0m 49ms/step - accuracy: 0.5651 - loss: 0.8597 - val_accuracy: 0.5356 - val_loss: 0.9719\n",
            "Epoch 89/500\n",
            "\u001b[1m15/15\u001b[0m \u001b[32m━━━━━━━━━━━━━━━━━━━━\u001b[0m\u001b[37m\u001b[0m \u001b[1m1s\u001b[0m 46ms/step - accuracy: 0.6144 - loss: 0.8108 - val_accuracy: 0.5400 - val_loss: 1.0431\n",
            "Epoch 90/500\n",
            "\u001b[1m15/15\u001b[0m \u001b[32m━━━━━━━━━━━━━━━━━━━━\u001b[0m\u001b[37m\u001b[0m \u001b[1m1s\u001b[0m 72ms/step - accuracy: 0.6318 - loss: 0.7873 - val_accuracy: 0.5933 - val_loss: 0.9079\n",
            "Epoch 91/500\n",
            "\u001b[1m15/15\u001b[0m \u001b[32m━━━━━━━━━━━━━━━━━━━━\u001b[0m\u001b[37m\u001b[0m \u001b[1m1s\u001b[0m 77ms/step - accuracy: 0.6139 - loss: 0.7995 - val_accuracy: 0.5533 - val_loss: 0.9139\n",
            "Epoch 92/500\n",
            "\u001b[1m15/15\u001b[0m \u001b[32m━━━━━━━━━━━━━━━━━━━━\u001b[0m\u001b[37m\u001b[0m \u001b[1m1s\u001b[0m 46ms/step - accuracy: 0.6448 - loss: 0.7737 - val_accuracy: 0.5400 - val_loss: 0.9187\n",
            "Epoch 93/500\n",
            "\u001b[1m15/15\u001b[0m \u001b[32m━━━━━━━━━━━━━━━━━━━━\u001b[0m\u001b[37m\u001b[0m \u001b[1m1s\u001b[0m 45ms/step - accuracy: 0.5968 - loss: 0.8249 - val_accuracy: 0.5533 - val_loss: 0.9470\n",
            "Epoch 94/500\n",
            "\u001b[1m15/15\u001b[0m \u001b[32m━━━━━━━━━━━━━━━━━━━━\u001b[0m\u001b[37m\u001b[0m \u001b[1m1s\u001b[0m 48ms/step - accuracy: 0.6239 - loss: 0.7985 - val_accuracy: 0.5600 - val_loss: 0.9417\n",
            "Epoch 95/500\n",
            "\u001b[1m15/15\u001b[0m \u001b[32m━━━━━━━━━━━━━━━━━━━━\u001b[0m\u001b[37m\u001b[0m \u001b[1m1s\u001b[0m 46ms/step - accuracy: 0.5790 - loss: 0.8519 - val_accuracy: 0.5267 - val_loss: 0.9555\n",
            "Epoch 96/500\n",
            "\u001b[1m15/15\u001b[0m \u001b[32m━━━━━━━━━━━━━━━━━━━━\u001b[0m\u001b[37m\u001b[0m \u001b[1m1s\u001b[0m 46ms/step - accuracy: 0.5833 - loss: 0.8636 - val_accuracy: 0.5489 - val_loss: 0.9283\n",
            "Epoch 97/500\n",
            "\u001b[1m15/15\u001b[0m \u001b[32m━━━━━━━━━━━━━━━━━━━━\u001b[0m\u001b[37m\u001b[0m \u001b[1m1s\u001b[0m 50ms/step - accuracy: 0.6057 - loss: 0.8438 - val_accuracy: 0.5444 - val_loss: 0.9682\n",
            "Epoch 98/500\n",
            "\u001b[1m15/15\u001b[0m \u001b[32m━━━━━━━━━━━━━━━━━━━━\u001b[0m\u001b[37m\u001b[0m \u001b[1m1s\u001b[0m 48ms/step - accuracy: 0.6497 - loss: 0.7523 - val_accuracy: 0.5822 - val_loss: 0.9081\n",
            "Epoch 99/500\n",
            "\u001b[1m15/15\u001b[0m \u001b[32m━━━━━━━━━━━━━━━━━━━━\u001b[0m\u001b[37m\u001b[0m \u001b[1m1s\u001b[0m 46ms/step - accuracy: 0.6051 - loss: 0.8336 - val_accuracy: 0.5667 - val_loss: 0.9358\n",
            "Epoch 100/500\n",
            "\u001b[1m15/15\u001b[0m \u001b[32m━━━━━━━━━━━━━━━━━━━━\u001b[0m\u001b[37m\u001b[0m \u001b[1m1s\u001b[0m 46ms/step - accuracy: 0.5988 - loss: 0.8270 - val_accuracy: 0.5422 - val_loss: 0.9173\n",
            "Epoch 101/500\n",
            "\u001b[1m15/15\u001b[0m \u001b[32m━━━━━━━━━━━━━━━━━━━━\u001b[0m\u001b[37m\u001b[0m \u001b[1m1s\u001b[0m 47ms/step - accuracy: 0.5820 - loss: 0.8629 - val_accuracy: 0.4978 - val_loss: 1.0804\n",
            "Epoch 102/500\n",
            "\u001b[1m15/15\u001b[0m \u001b[32m━━━━━━━━━━━━━━━━━━━━\u001b[0m\u001b[37m\u001b[0m \u001b[1m1s\u001b[0m 46ms/step - accuracy: 0.5987 - loss: 0.8694 - val_accuracy: 0.5422 - val_loss: 0.9277\n",
            "Epoch 103/500\n",
            "\u001b[1m15/15\u001b[0m \u001b[32m━━━━━━━━━━━━━━━━━━━━\u001b[0m\u001b[37m\u001b[0m \u001b[1m1s\u001b[0m 46ms/step - accuracy: 0.5695 - loss: 0.8866 - val_accuracy: 0.5489 - val_loss: 0.9224\n",
            "Epoch 104/500\n",
            "\u001b[1m15/15\u001b[0m \u001b[32m━━━━━━━━━━━━━━━━━━━━\u001b[0m\u001b[37m\u001b[0m \u001b[1m2s\u001b[0m 66ms/step - accuracy: 0.5829 - loss: 0.8674 - val_accuracy: 0.5156 - val_loss: 0.9586\n",
            "Epoch 105/500\n",
            "\u001b[1m15/15\u001b[0m \u001b[32m━━━━━━━━━━━━━━━━━━━━\u001b[0m\u001b[37m\u001b[0m \u001b[1m1s\u001b[0m 75ms/step - accuracy: 0.5321 - loss: 0.9301 - val_accuracy: 0.4600 - val_loss: 1.0079\n",
            "Epoch 106/500\n",
            "\u001b[1m15/15\u001b[0m \u001b[32m━━━━━━━━━━━━━━━━━━━━\u001b[0m\u001b[37m\u001b[0m \u001b[1m1s\u001b[0m 50ms/step - accuracy: 0.5113 - loss: 0.9526 - val_accuracy: 0.5556 - val_loss: 0.9318\n",
            "Epoch 107/500\n",
            "\u001b[1m15/15\u001b[0m \u001b[32m━━━━━━━━━━━━━━━━━━━━\u001b[0m\u001b[37m\u001b[0m \u001b[1m1s\u001b[0m 57ms/step - accuracy: 0.5737 - loss: 0.8562 - val_accuracy: 0.5267 - val_loss: 0.9598\n",
            "Epoch 108/500\n",
            "\u001b[1m15/15\u001b[0m \u001b[32m━━━━━━━━━━━━━━━━━━━━\u001b[0m\u001b[37m\u001b[0m \u001b[1m1s\u001b[0m 47ms/step - accuracy: 0.5434 - loss: 0.8996 - val_accuracy: 0.4978 - val_loss: 0.9880\n",
            "Epoch 109/500\n",
            "\u001b[1m15/15\u001b[0m \u001b[32m━━━━━━━━━━━━━━━━━━━━\u001b[0m\u001b[37m\u001b[0m \u001b[1m1s\u001b[0m 47ms/step - accuracy: 0.5394 - loss: 0.9408 - val_accuracy: 0.4822 - val_loss: 1.0287\n",
            "Epoch 110/500\n",
            "\u001b[1m15/15\u001b[0m \u001b[32m━━━━━━━━━━━━━━━━━━━━\u001b[0m\u001b[37m\u001b[0m \u001b[1m1s\u001b[0m 50ms/step - accuracy: 0.5284 - loss: 1.1050 - val_accuracy: 0.5356 - val_loss: 0.9496\n",
            "Epoch 111/500\n",
            "\u001b[1m15/15\u001b[0m \u001b[32m━━━━━━━━━━━━━━━━━━━━\u001b[0m\u001b[37m\u001b[0m \u001b[1m1s\u001b[0m 46ms/step - accuracy: 0.5170 - loss: 0.9299 - val_accuracy: 0.5000 - val_loss: 0.9935\n",
            "Epoch 112/500\n",
            "\u001b[1m15/15\u001b[0m \u001b[32m━━━━━━━━━━━━━━━━━━━━\u001b[0m\u001b[37m\u001b[0m \u001b[1m1s\u001b[0m 50ms/step - accuracy: 0.5572 - loss: 0.8880 - val_accuracy: 0.5489 - val_loss: 0.9324\n",
            "Epoch 113/500\n",
            "\u001b[1m15/15\u001b[0m \u001b[32m━━━━━━━━━━━━━━━━━━━━\u001b[0m\u001b[37m\u001b[0m \u001b[1m1s\u001b[0m 49ms/step - accuracy: 0.5621 - loss: 0.8912 - val_accuracy: 0.5533 - val_loss: 0.9364\n",
            "Epoch 114/500\n",
            "\u001b[1m15/15\u001b[0m \u001b[32m━━━━━━━━━━━━━━━━━━━━\u001b[0m\u001b[37m\u001b[0m \u001b[1m1s\u001b[0m 47ms/step - accuracy: 0.5910 - loss: 0.8578 - val_accuracy: 0.5556 - val_loss: 0.9109\n",
            "Epoch 115/500\n",
            "\u001b[1m15/15\u001b[0m \u001b[32m━━━━━━━━━━━━━━━━━━━━\u001b[0m\u001b[37m\u001b[0m \u001b[1m1s\u001b[0m 46ms/step - accuracy: 0.5672 - loss: 0.8924 - val_accuracy: 0.5244 - val_loss: 0.9457\n",
            "Epoch 116/500\n",
            "\u001b[1m15/15\u001b[0m \u001b[32m━━━━━━━━━━━━━━━━━━━━\u001b[0m\u001b[37m\u001b[0m \u001b[1m1s\u001b[0m 47ms/step - accuracy: 0.5384 - loss: 0.8916 - val_accuracy: 0.5511 - val_loss: 0.9092\n",
            "Epoch 117/500\n",
            "\u001b[1m15/15\u001b[0m \u001b[32m━━━━━━━━━━━━━━━━━━━━\u001b[0m\u001b[37m\u001b[0m \u001b[1m1s\u001b[0m 60ms/step - accuracy: 0.5812 - loss: 0.8484 - val_accuracy: 0.6000 - val_loss: 0.9113\n",
            "Epoch 118/500\n",
            "\u001b[1m15/15\u001b[0m \u001b[32m━━━━━━━━━━━━━━━━━━━━\u001b[0m\u001b[37m\u001b[0m \u001b[1m1s\u001b[0m 47ms/step - accuracy: 0.6198 - loss: 0.8138 - val_accuracy: 0.5867 - val_loss: 0.9148\n",
            "Epoch 119/500\n",
            "\u001b[1m15/15\u001b[0m \u001b[32m━━━━━━━━━━━━━━━━━━━━\u001b[0m\u001b[37m\u001b[0m \u001b[1m1s\u001b[0m 61ms/step - accuracy: 0.6133 - loss: 0.7992 - val_accuracy: 0.5533 - val_loss: 0.9747\n",
            "Epoch 120/500\n",
            "\u001b[1m15/15\u001b[0m \u001b[32m━━━━━━━━━━━━━━━━━━━━\u001b[0m\u001b[37m\u001b[0m \u001b[1m1s\u001b[0m 77ms/step - accuracy: 0.5498 - loss: 0.9524 - val_accuracy: 0.5444 - val_loss: 0.9230\n",
            "Epoch 121/500\n",
            "\u001b[1m15/15\u001b[0m \u001b[32m━━━━━━━━━━━━━━━━━━━━\u001b[0m\u001b[37m\u001b[0m \u001b[1m1s\u001b[0m 51ms/step - accuracy: 0.5917 - loss: 0.8482 - val_accuracy: 0.6044 - val_loss: 0.9269\n",
            "Epoch 122/500\n",
            "\u001b[1m15/15\u001b[0m \u001b[32m━━━━━━━━━━━━━━━━━━━━\u001b[0m\u001b[37m\u001b[0m \u001b[1m1s\u001b[0m 49ms/step - accuracy: 0.6506 - loss: 0.7590 - val_accuracy: 0.6244 - val_loss: 0.9222\n",
            "Epoch 123/500\n",
            "\u001b[1m15/15\u001b[0m \u001b[32m━━━━━━━━━━━━━━━━━━━━\u001b[0m\u001b[37m\u001b[0m \u001b[1m1s\u001b[0m 47ms/step - accuracy: 0.6454 - loss: 0.7830 - val_accuracy: 0.6067 - val_loss: 0.9445\n",
            "Epoch 124/500\n",
            "\u001b[1m15/15\u001b[0m \u001b[32m━━━━━━━━━━━━━━━━━━━━\u001b[0m\u001b[37m\u001b[0m \u001b[1m1s\u001b[0m 46ms/step - accuracy: 0.6611 - loss: 0.7489 - val_accuracy: 0.6044 - val_loss: 1.0253\n",
            "Epoch 125/500\n",
            "\u001b[1m15/15\u001b[0m \u001b[32m━━━━━━━━━━━━━━━━━━━━\u001b[0m\u001b[37m\u001b[0m \u001b[1m1s\u001b[0m 48ms/step - accuracy: 0.6775 - loss: 0.7307 - val_accuracy: 0.6133 - val_loss: 1.0044\n",
            "Epoch 126/500\n",
            "\u001b[1m15/15\u001b[0m \u001b[32m━━━━━━━━━━━━━━━━━━━━\u001b[0m\u001b[37m\u001b[0m \u001b[1m1s\u001b[0m 49ms/step - accuracy: 0.6430 - loss: 0.7754 - val_accuracy: 0.5711 - val_loss: 0.9493\n",
            "Epoch 127/500\n",
            "\u001b[1m15/15\u001b[0m \u001b[32m━━━━━━━━━━━━━━━━━━━━\u001b[0m\u001b[37m\u001b[0m \u001b[1m1s\u001b[0m 47ms/step - accuracy: 0.6040 - loss: 0.8168 - val_accuracy: 0.6067 - val_loss: 0.9645\n",
            "Epoch 128/500\n",
            "\u001b[1m15/15\u001b[0m \u001b[32m━━━━━━━━━━━━━━━━━━━━\u001b[0m\u001b[37m\u001b[0m \u001b[1m1s\u001b[0m 59ms/step - accuracy: 0.6308 - loss: 0.7880 - val_accuracy: 0.5978 - val_loss: 0.8909\n",
            "Epoch 129/500\n",
            "\u001b[1m15/15\u001b[0m \u001b[32m━━━━━━━━━━━━━━━━━━━━\u001b[0m\u001b[37m\u001b[0m \u001b[1m1s\u001b[0m 46ms/step - accuracy: 0.6605 - loss: 0.7408 - val_accuracy: 0.6022 - val_loss: 0.9214\n",
            "Epoch 130/500\n",
            "\u001b[1m15/15\u001b[0m \u001b[32m━━━━━━━━━━━━━━━━━━━━\u001b[0m\u001b[37m\u001b[0m \u001b[1m1s\u001b[0m 49ms/step - accuracy: 0.5915 - loss: 0.8328 - val_accuracy: 0.5444 - val_loss: 0.9450\n",
            "Epoch 131/500\n",
            "\u001b[1m15/15\u001b[0m \u001b[32m━━━━━━━━━━━━━━━━━━━━\u001b[0m\u001b[37m\u001b[0m \u001b[1m1s\u001b[0m 48ms/step - accuracy: 0.6133 - loss: 0.8035 - val_accuracy: 0.5711 - val_loss: 0.9608\n",
            "Epoch 132/500\n",
            "\u001b[1m15/15\u001b[0m \u001b[32m━━━━━━━━━━━━━━━━━━━━\u001b[0m\u001b[37m\u001b[0m \u001b[1m1s\u001b[0m 48ms/step - accuracy: 0.6152 - loss: 0.7814 - val_accuracy: 0.5689 - val_loss: 1.0532\n",
            "Epoch 133/500\n",
            "\u001b[1m15/15\u001b[0m \u001b[32m━━━━━━━━━━━━━━━━━━━━\u001b[0m\u001b[37m\u001b[0m \u001b[1m1s\u001b[0m 47ms/step - accuracy: 0.6089 - loss: 0.7889 - val_accuracy: 0.5933 - val_loss: 0.9631\n",
            "Epoch 134/500\n",
            "\u001b[1m15/15\u001b[0m \u001b[32m━━━━━━━━━━━━━━━━━━━━\u001b[0m\u001b[37m\u001b[0m \u001b[1m1s\u001b[0m 56ms/step - accuracy: 0.6268 - loss: 0.7506 - val_accuracy: 0.5867 - val_loss: 0.9630\n",
            "Epoch 135/500\n",
            "\u001b[1m15/15\u001b[0m \u001b[32m━━━━━━━━━━━━━━━━━━━━\u001b[0m\u001b[37m\u001b[0m \u001b[1m2s\u001b[0m 79ms/step - accuracy: 0.6542 - loss: 0.7367 - val_accuracy: 0.6200 - val_loss: 1.0183\n",
            "Epoch 136/500\n",
            "\u001b[1m15/15\u001b[0m \u001b[32m━━━━━━━━━━━━━━━━━━━━\u001b[0m\u001b[37m\u001b[0m \u001b[1m1s\u001b[0m 47ms/step - accuracy: 0.6750 - loss: 0.7113 - val_accuracy: 0.5622 - val_loss: 0.9318\n",
            "Epoch 137/500\n",
            "\u001b[1m15/15\u001b[0m \u001b[32m━━━━━━━━━━━━━━━━━━━━\u001b[0m\u001b[37m\u001b[0m \u001b[1m1s\u001b[0m 47ms/step - accuracy: 0.6297 - loss: 0.7826 - val_accuracy: 0.6400 - val_loss: 0.9015\n",
            "Epoch 138/500\n",
            "\u001b[1m15/15\u001b[0m \u001b[32m━━━━━━━━━━━━━━━━━━━━\u001b[0m\u001b[37m\u001b[0m \u001b[1m1s\u001b[0m 46ms/step - accuracy: 0.6742 - loss: 0.7292 - val_accuracy: 0.5444 - val_loss: 0.9781\n",
            "Epoch 139/500\n",
            "\u001b[1m15/15\u001b[0m \u001b[32m━━━━━━━━━━━━━━━━━━━━\u001b[0m\u001b[37m\u001b[0m \u001b[1m1s\u001b[0m 48ms/step - accuracy: 0.6270 - loss: 0.7920 - val_accuracy: 0.6022 - val_loss: 0.8793\n",
            "Epoch 140/500\n",
            "\u001b[1m15/15\u001b[0m \u001b[32m━━━━━━━━━━━━━━━━━━━━\u001b[0m\u001b[37m\u001b[0m \u001b[1m1s\u001b[0m 47ms/step - accuracy: 0.6527 - loss: 0.7495 - val_accuracy: 0.5289 - val_loss: 0.9773\n",
            "Epoch 141/500\n",
            "\u001b[1m15/15\u001b[0m \u001b[32m━━━━━━━━━━━━━━━━━━━━\u001b[0m\u001b[37m\u001b[0m \u001b[1m1s\u001b[0m 47ms/step - accuracy: 0.5563 - loss: 0.9013 - val_accuracy: 0.4933 - val_loss: 0.9690\n",
            "Epoch 142/500\n",
            "\u001b[1m15/15\u001b[0m \u001b[32m━━━━━━━━━━━━━━━━━━━━\u001b[0m\u001b[37m\u001b[0m \u001b[1m1s\u001b[0m 46ms/step - accuracy: 0.5001 - loss: 0.9539 - val_accuracy: 0.5000 - val_loss: 0.9658\n",
            "Epoch 143/500\n",
            "\u001b[1m15/15\u001b[0m \u001b[32m━━━━━━━━━━━━━━━━━━━━\u001b[0m\u001b[37m\u001b[0m \u001b[1m1s\u001b[0m 48ms/step - accuracy: 0.5380 - loss: 0.9118 - val_accuracy: 0.4844 - val_loss: 1.1946\n",
            "Epoch 144/500\n",
            "\u001b[1m15/15\u001b[0m \u001b[32m━━━━━━━━━━━━━━━━━━━━\u001b[0m\u001b[37m\u001b[0m \u001b[1m1s\u001b[0m 47ms/step - accuracy: 0.5267 - loss: 0.9411 - val_accuracy: 0.5022 - val_loss: 0.9636\n",
            "Epoch 145/500\n",
            "\u001b[1m15/15\u001b[0m \u001b[32m━━━━━━━━━━━━━━━━━━━━\u001b[0m\u001b[37m\u001b[0m \u001b[1m1s\u001b[0m 47ms/step - accuracy: 0.5240 - loss: 0.9221 - val_accuracy: 0.5089 - val_loss: 0.9657\n",
            "Epoch 146/500\n",
            "\u001b[1m15/15\u001b[0m \u001b[32m━━━━━━━━━━━━━━━━━━━━\u001b[0m\u001b[37m\u001b[0m \u001b[1m1s\u001b[0m 49ms/step - accuracy: 0.4928 - loss: 0.9408 - val_accuracy: 0.4956 - val_loss: 0.9947\n",
            "Epoch 147/500\n",
            "\u001b[1m15/15\u001b[0m \u001b[32m━━━━━━━━━━━━━━━━━━━━\u001b[0m\u001b[37m\u001b[0m \u001b[1m1s\u001b[0m 56ms/step - accuracy: 0.5412 - loss: 0.9233 - val_accuracy: 0.5089 - val_loss: 1.0311\n",
            "Epoch 148/500\n",
            "\u001b[1m15/15\u001b[0m \u001b[32m━━━━━━━━━━━━━━━━━━━━\u001b[0m\u001b[37m\u001b[0m \u001b[1m2s\u001b[0m 72ms/step - accuracy: 0.5276 - loss: 0.9174 - val_accuracy: 0.5311 - val_loss: 0.9211\n",
            "Epoch 149/500\n",
            "\u001b[1m15/15\u001b[0m \u001b[32m━━━━━━━━━━━━━━━━━━━━\u001b[0m\u001b[37m\u001b[0m \u001b[1m1s\u001b[0m 46ms/step - accuracy: 0.5788 - loss: 0.8553 - val_accuracy: 0.5689 - val_loss: 0.9066\n",
            "Epoch 150/500\n",
            "\u001b[1m15/15\u001b[0m \u001b[32m━━━━━━━━━━━━━━━━━━━━\u001b[0m\u001b[37m\u001b[0m \u001b[1m1s\u001b[0m 48ms/step - accuracy: 0.6066 - loss: 0.8534 - val_accuracy: 0.5311 - val_loss: 0.9350\n",
            "Epoch 151/500\n",
            "\u001b[1m15/15\u001b[0m \u001b[32m━━━━━━━━━━━━━━━━━━━━\u001b[0m\u001b[37m\u001b[0m \u001b[1m1s\u001b[0m 47ms/step - accuracy: 0.6015 - loss: 0.8565 - val_accuracy: 0.5756 - val_loss: 0.8961\n",
            "Epoch 152/500\n",
            "\u001b[1m15/15\u001b[0m \u001b[32m━━━━━━━━━━━━━━━━━━━━\u001b[0m\u001b[37m\u001b[0m \u001b[1m1s\u001b[0m 49ms/step - accuracy: 0.5967 - loss: 0.8532 - val_accuracy: 0.5267 - val_loss: 0.9171\n",
            "Epoch 153/500\n",
            "\u001b[1m15/15\u001b[0m \u001b[32m━━━━━━━━━━━━━━━━━━━━\u001b[0m\u001b[37m\u001b[0m \u001b[1m1s\u001b[0m 46ms/step - accuracy: 0.5788 - loss: 0.8711 - val_accuracy: 0.5467 - val_loss: 0.9124\n",
            "Epoch 154/500\n",
            "\u001b[1m15/15\u001b[0m \u001b[32m━━━━━━━━━━━━━━━━━━━━\u001b[0m\u001b[37m\u001b[0m \u001b[1m1s\u001b[0m 49ms/step - accuracy: 0.5531 - loss: 0.9066 - val_accuracy: 0.5689 - val_loss: 0.9173\n",
            "Epoch 155/500\n",
            "\u001b[1m15/15\u001b[0m \u001b[32m━━━━━━━━━━━━━━━━━━━━\u001b[0m\u001b[37m\u001b[0m \u001b[1m1s\u001b[0m 49ms/step - accuracy: 0.5927 - loss: 0.8362 - val_accuracy: 0.5578 - val_loss: 0.8794\n",
            "Epoch 156/500\n",
            "\u001b[1m15/15\u001b[0m \u001b[32m━━━━━━━━━━━━━━━━━━━━\u001b[0m\u001b[37m\u001b[0m \u001b[1m1s\u001b[0m 48ms/step - accuracy: 0.6331 - loss: 0.7888 - val_accuracy: 0.6156 - val_loss: 0.9216\n",
            "Epoch 157/500\n",
            "\u001b[1m15/15\u001b[0m \u001b[32m━━━━━━━━━━━━━━━━━━━━\u001b[0m\u001b[37m\u001b[0m \u001b[1m1s\u001b[0m 49ms/step - accuracy: 0.6882 - loss: 0.7328 - val_accuracy: 0.6533 - val_loss: 0.8798\n",
            "Epoch 158/500\n",
            "\u001b[1m15/15\u001b[0m \u001b[32m━━━━━━━━━━━━━━━━━━━━\u001b[0m\u001b[37m\u001b[0m \u001b[1m1s\u001b[0m 46ms/step - accuracy: 0.6551 - loss: 0.7585 - val_accuracy: 0.6044 - val_loss: 0.9131\n",
            "Epoch 159/500\n",
            "\u001b[1m15/15\u001b[0m \u001b[32m━━━━━━━━━━━━━━━━━━━━\u001b[0m\u001b[37m\u001b[0m \u001b[1m1s\u001b[0m 48ms/step - accuracy: 0.6615 - loss: 0.7546 - val_accuracy: 0.6000 - val_loss: 0.9574\n",
            "Epoch 160/500\n",
            "\u001b[1m15/15\u001b[0m \u001b[32m━━━━━━━━━━━━━━━━━━━━\u001b[0m\u001b[37m\u001b[0m \u001b[1m1s\u001b[0m 47ms/step - accuracy: 0.6641 - loss: 0.7587 - val_accuracy: 0.6156 - val_loss: 0.8882\n",
            "Epoch 161/500\n",
            "\u001b[1m15/15\u001b[0m \u001b[32m━━━━━━━━━━━━━━━━━━━━\u001b[0m\u001b[37m\u001b[0m \u001b[1m1s\u001b[0m 46ms/step - accuracy: 0.6847 - loss: 0.7203 - val_accuracy: 0.6156 - val_loss: 0.9296\n",
            "Epoch 162/500\n",
            "\u001b[1m15/15\u001b[0m \u001b[32m━━━━━━━━━━━━━━━━━━━━\u001b[0m\u001b[37m\u001b[0m \u001b[1m1s\u001b[0m 54ms/step - accuracy: 0.6534 - loss: 0.7602 - val_accuracy: 0.6178 - val_loss: 0.9193\n",
            "Epoch 163/500\n",
            "\u001b[1m15/15\u001b[0m \u001b[32m━━━━━━━━━━━━━━━━━━━━\u001b[0m\u001b[37m\u001b[0m \u001b[1m2s\u001b[0m 71ms/step - accuracy: 0.6289 - loss: 0.8112 - val_accuracy: 0.5733 - val_loss: 0.8925\n",
            "Epoch 164/500\n",
            "\u001b[1m15/15\u001b[0m \u001b[32m━━━━━━━━━━━━━━━━━━━━\u001b[0m\u001b[37m\u001b[0m \u001b[1m1s\u001b[0m 48ms/step - accuracy: 0.6367 - loss: 0.7922 - val_accuracy: 0.6222 - val_loss: 1.0167\n",
            "Epoch 165/500\n",
            "\u001b[1m15/15\u001b[0m \u001b[32m━━━━━━━━━━━━━━━━━━━━\u001b[0m\u001b[37m\u001b[0m \u001b[1m1s\u001b[0m 47ms/step - accuracy: 0.6805 - loss: 0.7243 - val_accuracy: 0.6333 - val_loss: 0.9656\n",
            "Epoch 166/500\n",
            "\u001b[1m15/15\u001b[0m \u001b[32m━━━━━━━━━━━━━━━━━━━━\u001b[0m\u001b[37m\u001b[0m \u001b[1m1s\u001b[0m 46ms/step - accuracy: 0.6753 - loss: 0.7174 - val_accuracy: 0.6356 - val_loss: 0.8975\n",
            "Epoch 167/500\n",
            "\u001b[1m15/15\u001b[0m \u001b[32m━━━━━━━━━━━━━━━━━━━━\u001b[0m\u001b[37m\u001b[0m \u001b[1m1s\u001b[0m 46ms/step - accuracy: 0.6934 - loss: 0.7194 - val_accuracy: 0.6133 - val_loss: 0.8900\n",
            "Epoch 168/500\n",
            "\u001b[1m15/15\u001b[0m \u001b[32m━━━━━━━━━━━━━━━━━━━━\u001b[0m\u001b[37m\u001b[0m \u001b[1m1s\u001b[0m 49ms/step - accuracy: 0.6559 - loss: 0.7780 - val_accuracy: 0.5822 - val_loss: 0.8984\n",
            "Epoch 169/500\n",
            "\u001b[1m15/15\u001b[0m \u001b[32m━━━━━━━━━━━━━━━━━━━━\u001b[0m\u001b[37m\u001b[0m \u001b[1m1s\u001b[0m 47ms/step - accuracy: 0.6530 - loss: 0.7776 - val_accuracy: 0.6289 - val_loss: 0.8711\n",
            "Epoch 170/500\n",
            "\u001b[1m15/15\u001b[0m \u001b[32m━━━━━━━━━━━━━━━━━━━━\u001b[0m\u001b[37m\u001b[0m \u001b[1m1s\u001b[0m 49ms/step - accuracy: 0.6418 - loss: 0.7987 - val_accuracy: 0.6267 - val_loss: 0.8968\n",
            "Epoch 171/500\n",
            "\u001b[1m15/15\u001b[0m \u001b[32m━━━━━━━━━━━━━━━━━━━━\u001b[0m\u001b[37m\u001b[0m \u001b[1m1s\u001b[0m 60ms/step - accuracy: 0.6503 - loss: 0.7858 - val_accuracy: 0.6022 - val_loss: 0.8981\n",
            "Epoch 172/500\n",
            "\u001b[1m15/15\u001b[0m \u001b[32m━━━━━━━━━━━━━━━━━━━━\u001b[0m\u001b[37m\u001b[0m \u001b[1m1s\u001b[0m 49ms/step - accuracy: 0.6208 - loss: 0.8196 - val_accuracy: 0.5489 - val_loss: 0.9729\n",
            "Epoch 173/500\n",
            "\u001b[1m15/15\u001b[0m \u001b[32m━━━━━━━━━━━━━━━━━━━━\u001b[0m\u001b[37m\u001b[0m \u001b[1m1s\u001b[0m 47ms/step - accuracy: 0.5890 - loss: 0.8345 - val_accuracy: 0.5889 - val_loss: 0.8688\n",
            "Epoch 174/500\n",
            "\u001b[1m15/15\u001b[0m \u001b[32m━━━━━━━━━━━━━━━━━━━━\u001b[0m\u001b[37m\u001b[0m \u001b[1m1s\u001b[0m 50ms/step - accuracy: 0.6108 - loss: 0.8262 - val_accuracy: 0.5711 - val_loss: 0.8937\n",
            "Epoch 175/500\n",
            "\u001b[1m15/15\u001b[0m \u001b[32m━━━━━━━━━━━━━━━━━━━━\u001b[0m\u001b[37m\u001b[0m \u001b[1m1s\u001b[0m 46ms/step - accuracy: 0.6186 - loss: 0.8243 - val_accuracy: 0.6022 - val_loss: 0.8988\n",
            "Epoch 176/500\n",
            "\u001b[1m15/15\u001b[0m \u001b[32m━━━━━━━━━━━━━━━━━━━━\u001b[0m\u001b[37m\u001b[0m \u001b[1m1s\u001b[0m 50ms/step - accuracy: 0.6182 - loss: 0.8371 - val_accuracy: 0.6311 - val_loss: 0.8803\n",
            "Epoch 177/500\n",
            "\u001b[1m15/15\u001b[0m \u001b[32m━━━━━━━━━━━━━━━━━━━━\u001b[0m\u001b[37m\u001b[0m \u001b[1m1s\u001b[0m 65ms/step - accuracy: 0.6430 - loss: 0.7841 - val_accuracy: 0.6311 - val_loss: 0.9552\n",
            "Epoch 178/500\n",
            "\u001b[1m15/15\u001b[0m \u001b[32m━━━━━━━━━━━━━━━━━━━━\u001b[0m\u001b[37m\u001b[0m \u001b[1m1s\u001b[0m 72ms/step - accuracy: 0.6676 - loss: 0.7536 - val_accuracy: 0.6378 - val_loss: 0.8779\n",
            "Epoch 179/500\n",
            "\u001b[1m15/15\u001b[0m \u001b[32m━━━━━━━━━━━━━━━━━━━━\u001b[0m\u001b[37m\u001b[0m \u001b[1m1s\u001b[0m 54ms/step - accuracy: 0.6623 - loss: 0.7662 - val_accuracy: 0.6067 - val_loss: 0.9008\n",
            "Epoch 180/500\n",
            "\u001b[1m15/15\u001b[0m \u001b[32m━━━━━━━━━━━━━━━━━━━━\u001b[0m\u001b[37m\u001b[0m \u001b[1m1s\u001b[0m 48ms/step - accuracy: 0.6281 - loss: 0.8048 - val_accuracy: 0.5578 - val_loss: 0.9376\n",
            "Epoch 181/500\n",
            "\u001b[1m15/15\u001b[0m \u001b[32m━━━━━━━━━━━━━━━━━━━━\u001b[0m\u001b[37m\u001b[0m \u001b[1m1s\u001b[0m 47ms/step - accuracy: 0.5555 - loss: 0.8930 - val_accuracy: 0.4711 - val_loss: 1.0248\n",
            "Epoch 182/500\n",
            "\u001b[1m15/15\u001b[0m \u001b[32m━━━━━━━━━━━━━━━━━━━━\u001b[0m\u001b[37m\u001b[0m \u001b[1m1s\u001b[0m 46ms/step - accuracy: 0.4828 - loss: 0.9915 - val_accuracy: 0.5200 - val_loss: 0.9533\n",
            "Epoch 183/500\n",
            "\u001b[1m15/15\u001b[0m \u001b[32m━━━━━━━━━━━━━━━━━━━━\u001b[0m\u001b[37m\u001b[0m \u001b[1m1s\u001b[0m 47ms/step - accuracy: 0.5484 - loss: 0.9017 - val_accuracy: 0.5133 - val_loss: 0.9890\n",
            "Epoch 184/500\n",
            "\u001b[1m15/15\u001b[0m \u001b[32m━━━━━━━━━━━━━━━━━━━━\u001b[0m\u001b[37m\u001b[0m \u001b[1m1s\u001b[0m 58ms/step - accuracy: 0.5121 - loss: 0.9275 - val_accuracy: 0.5356 - val_loss: 0.9832\n",
            "Epoch 185/500\n",
            "\u001b[1m15/15\u001b[0m \u001b[32m━━━━━━━━━━━━━━━━━━━━\u001b[0m\u001b[37m\u001b[0m \u001b[1m1s\u001b[0m 45ms/step - accuracy: 0.5108 - loss: 0.9258 - val_accuracy: 0.5222 - val_loss: 0.9550\n",
            "Epoch 186/500\n",
            "\u001b[1m15/15\u001b[0m \u001b[32m━━━━━━━━━━━━━━━━━━━━\u001b[0m\u001b[37m\u001b[0m \u001b[1m1s\u001b[0m 48ms/step - accuracy: 0.5235 - loss: 0.8897 - val_accuracy: 0.5578 - val_loss: 0.9259\n",
            "Epoch 187/500\n",
            "\u001b[1m15/15\u001b[0m \u001b[32m━━━━━━━━━━━━━━━━━━━━\u001b[0m\u001b[37m\u001b[0m \u001b[1m1s\u001b[0m 47ms/step - accuracy: 0.5723 - loss: 0.8598 - val_accuracy: 0.5822 - val_loss: 0.9091\n",
            "Epoch 188/500\n",
            "\u001b[1m15/15\u001b[0m \u001b[32m━━━━━━━━━━━━━━━━━━━━\u001b[0m\u001b[37m\u001b[0m \u001b[1m1s\u001b[0m 48ms/step - accuracy: 0.5647 - loss: 0.8628 - val_accuracy: 0.5400 - val_loss: 0.9505\n",
            "Epoch 189/500\n",
            "\u001b[1m15/15\u001b[0m \u001b[32m━━━━━━━━━━━━━━━━━━━━\u001b[0m\u001b[37m\u001b[0m \u001b[1m1s\u001b[0m 47ms/step - accuracy: 0.6107 - loss: 0.8287 - val_accuracy: 0.5511 - val_loss: 0.9140\n",
            "Epoch 190/500\n",
            "\u001b[1m15/15\u001b[0m \u001b[32m━━━━━━━━━━━━━━━━━━━━\u001b[0m\u001b[37m\u001b[0m \u001b[1m1s\u001b[0m 49ms/step - accuracy: 0.5844 - loss: 0.8547 - val_accuracy: 0.5267 - val_loss: 0.9029\n",
            "Epoch 191/500\n",
            "\u001b[1m15/15\u001b[0m \u001b[32m━━━━━━━━━━━━━━━━━━━━\u001b[0m\u001b[37m\u001b[0m \u001b[1m1s\u001b[0m 47ms/step - accuracy: 0.5922 - loss: 0.8390 - val_accuracy: 0.5244 - val_loss: 0.9908\n",
            "Epoch 192/500\n",
            "\u001b[1m15/15\u001b[0m \u001b[32m━━━━━━━━━━━━━━━━━━━━\u001b[0m\u001b[37m\u001b[0m \u001b[1m1s\u001b[0m 58ms/step - accuracy: 0.6093 - loss: 0.8309 - val_accuracy: 0.5733 - val_loss: 0.9058\n",
            "Epoch 193/500\n",
            "\u001b[1m15/15\u001b[0m \u001b[32m━━━━━━━━━━━━━━━━━━━━\u001b[0m\u001b[37m\u001b[0m \u001b[1m1s\u001b[0m 63ms/step - accuracy: 0.6079 - loss: 0.8321 - val_accuracy: 0.5889 - val_loss: 0.8766\n",
            "Epoch 194/500\n",
            "\u001b[1m15/15\u001b[0m \u001b[32m━━━━━━━━━━━━━━━━━━━━\u001b[0m\u001b[37m\u001b[0m \u001b[1m1s\u001b[0m 69ms/step - accuracy: 0.6378 - loss: 0.8071 - val_accuracy: 0.6444 - val_loss: 0.8679\n",
            "Epoch 195/500\n",
            "\u001b[1m15/15\u001b[0m \u001b[32m━━━━━━━━━━━━━━━━━━━━\u001b[0m\u001b[37m\u001b[0m \u001b[1m1s\u001b[0m 48ms/step - accuracy: 0.6538 - loss: 0.7818 - val_accuracy: 0.6156 - val_loss: 0.9158\n",
            "Epoch 196/500\n",
            "\u001b[1m15/15\u001b[0m \u001b[32m━━━━━━━━━━━━━━━━━━━━\u001b[0m\u001b[37m\u001b[0m \u001b[1m1s\u001b[0m 46ms/step - accuracy: 0.6091 - loss: 0.8110 - val_accuracy: 0.5889 - val_loss: 0.9249\n",
            "Epoch 197/500\n",
            "\u001b[1m15/15\u001b[0m \u001b[32m━━━━━━━━━━━━━━━━━━━━\u001b[0m\u001b[37m\u001b[0m \u001b[1m1s\u001b[0m 46ms/step - accuracy: 0.6021 - loss: 0.8133 - val_accuracy: 0.6178 - val_loss: 0.9056\n",
            "Epoch 198/500\n",
            "\u001b[1m15/15\u001b[0m \u001b[32m━━━━━━━━━━━━━━━━━━━━\u001b[0m\u001b[37m\u001b[0m \u001b[1m1s\u001b[0m 46ms/step - accuracy: 0.6485 - loss: 0.7642 - val_accuracy: 0.6089 - val_loss: 0.9121\n",
            "Epoch 199/500\n",
            "\u001b[1m15/15\u001b[0m \u001b[32m━━━━━━━━━━━━━━━━━━━━\u001b[0m\u001b[37m\u001b[0m \u001b[1m1s\u001b[0m 47ms/step - accuracy: 0.6015 - loss: 0.8169 - val_accuracy: 0.5022 - val_loss: 1.0619\n",
            "Epoch 200/500\n",
            "\u001b[1m15/15\u001b[0m \u001b[32m━━━━━━━━━━━━━━━━━━━━\u001b[0m\u001b[37m\u001b[0m \u001b[1m1s\u001b[0m 48ms/step - accuracy: 0.4906 - loss: 0.9415 - val_accuracy: 0.5022 - val_loss: 0.9693\n",
            "Epoch 201/500\n",
            "\u001b[1m15/15\u001b[0m \u001b[32m━━━━━━━━━━━━━━━━━━━━\u001b[0m\u001b[37m\u001b[0m \u001b[1m1s\u001b[0m 46ms/step - accuracy: 0.5144 - loss: 0.9153 - val_accuracy: 0.5133 - val_loss: 0.9719\n",
            "Epoch 202/500\n",
            "\u001b[1m15/15\u001b[0m \u001b[32m━━━━━━━━━━━━━━━━━━━━\u001b[0m\u001b[37m\u001b[0m \u001b[1m1s\u001b[0m 50ms/step - accuracy: 0.4922 - loss: 0.9260 - val_accuracy: 0.5444 - val_loss: 0.9275\n",
            "Epoch 203/500\n",
            "\u001b[1m15/15\u001b[0m \u001b[32m━━━━━━━━━━━━━━━━━━━━\u001b[0m\u001b[37m\u001b[0m \u001b[1m1s\u001b[0m 46ms/step - accuracy: 0.5526 - loss: 0.8612 - val_accuracy: 0.5422 - val_loss: 0.9652\n",
            "Epoch 204/500\n",
            "\u001b[1m15/15\u001b[0m \u001b[32m━━━━━━━━━━━━━━━━━━━━\u001b[0m\u001b[37m\u001b[0m \u001b[1m1s\u001b[0m 46ms/step - accuracy: 0.5547 - loss: 0.8571 - val_accuracy: 0.5600 - val_loss: 0.9140\n",
            "Epoch 205/500\n",
            "\u001b[1m15/15\u001b[0m \u001b[32m━━━━━━━━━━━━━━━━━━━━\u001b[0m\u001b[37m\u001b[0m \u001b[1m1s\u001b[0m 47ms/step - accuracy: 0.5780 - loss: 0.8336 - val_accuracy: 0.5578 - val_loss: 0.9875\n",
            "Epoch 206/500\n",
            "\u001b[1m15/15\u001b[0m \u001b[32m━━━━━━━━━━━━━━━━━━━━\u001b[0m\u001b[37m\u001b[0m \u001b[1m1s\u001b[0m 59ms/step - accuracy: 0.5816 - loss: 0.8486 - val_accuracy: 0.5444 - val_loss: 0.9540\n",
            "Epoch 207/500\n",
            "\u001b[1m15/15\u001b[0m \u001b[32m━━━━━━━━━━━━━━━━━━━━\u001b[0m\u001b[37m\u001b[0m \u001b[1m2s\u001b[0m 78ms/step - accuracy: 0.6299 - loss: 0.7845 - val_accuracy: 0.5844 - val_loss: 1.0019\n",
            "Epoch 208/500\n",
            "\u001b[1m15/15\u001b[0m \u001b[32m━━━━━━━━━━━━━━━━━━━━\u001b[0m\u001b[37m\u001b[0m \u001b[1m1s\u001b[0m 48ms/step - accuracy: 0.6274 - loss: 0.8048 - val_accuracy: 0.5533 - val_loss: 0.9364\n",
            "Epoch 209/500\n",
            "\u001b[1m15/15\u001b[0m \u001b[32m━━━━━━━━━━━━━━━━━━━━\u001b[0m\u001b[37m\u001b[0m \u001b[1m1s\u001b[0m 47ms/step - accuracy: 0.5919 - loss: 0.8422 - val_accuracy: 0.5533 - val_loss: 0.9479\n",
            "Epoch 210/500\n",
            "\u001b[1m15/15\u001b[0m \u001b[32m━━━━━━━━━━━━━━━━━━━━\u001b[0m\u001b[37m\u001b[0m \u001b[1m1s\u001b[0m 48ms/step - accuracy: 0.5815 - loss: 0.8581 - val_accuracy: 0.5578 - val_loss: 1.0050\n",
            "Epoch 211/500\n",
            "\u001b[1m15/15\u001b[0m \u001b[32m━━━━━━━━━━━━━━━━━━━━\u001b[0m\u001b[37m\u001b[0m \u001b[1m1s\u001b[0m 49ms/step - accuracy: 0.6179 - loss: 0.7995 - val_accuracy: 0.5711 - val_loss: 0.9189\n",
            "Epoch 212/500\n",
            "\u001b[1m15/15\u001b[0m \u001b[32m━━━━━━━━━━━━━━━━━━━━\u001b[0m\u001b[37m\u001b[0m \u001b[1m1s\u001b[0m 48ms/step - accuracy: 0.5985 - loss: 0.7996 - val_accuracy: 0.5067 - val_loss: 0.9876\n",
            "Epoch 213/500\n",
            "\u001b[1m15/15\u001b[0m \u001b[32m━━━━━━━━━━━━━━━━━━━━\u001b[0m\u001b[37m\u001b[0m \u001b[1m1s\u001b[0m 48ms/step - accuracy: 0.6107 - loss: 0.8257 - val_accuracy: 0.5711 - val_loss: 0.9584\n",
            "Epoch 214/500\n",
            "\u001b[1m15/15\u001b[0m \u001b[32m━━━━━━━━━━━━━━━━━━━━\u001b[0m\u001b[37m\u001b[0m \u001b[1m1s\u001b[0m 47ms/step - accuracy: 0.6597 - loss: 0.7648 - val_accuracy: 0.6356 - val_loss: 0.8957\n",
            "Epoch 215/500\n",
            "\u001b[1m15/15\u001b[0m \u001b[32m━━━━━━━━━━━━━━━━━━━━\u001b[0m\u001b[37m\u001b[0m \u001b[1m1s\u001b[0m 47ms/step - accuracy: 0.6756 - loss: 0.7163 - val_accuracy: 0.6267 - val_loss: 0.9152\n",
            "Epoch 216/500\n",
            "\u001b[1m15/15\u001b[0m \u001b[32m━━━━━━━━━━━━━━━━━━━━\u001b[0m\u001b[37m\u001b[0m \u001b[1m1s\u001b[0m 48ms/step - accuracy: 0.6788 - loss: 0.7297 - val_accuracy: 0.6022 - val_loss: 0.8969\n",
            "Epoch 217/500\n",
            "\u001b[1m15/15\u001b[0m \u001b[32m━━━━━━━━━━━━━━━━━━━━\u001b[0m\u001b[37m\u001b[0m \u001b[1m1s\u001b[0m 46ms/step - accuracy: 0.5978 - loss: 0.8159 - val_accuracy: 0.5267 - val_loss: 0.9880\n",
            "Epoch 218/500\n",
            "\u001b[1m15/15\u001b[0m \u001b[32m━━━━━━━━━━━━━━━━━━━━\u001b[0m\u001b[37m\u001b[0m \u001b[1m1s\u001b[0m 47ms/step - accuracy: 0.5599 - loss: 0.8664 - val_accuracy: 0.5467 - val_loss: 0.9322\n",
            "Epoch 219/500\n",
            "\u001b[1m15/15\u001b[0m \u001b[32m━━━━━━━━━━━━━━━━━━━━\u001b[0m\u001b[37m\u001b[0m \u001b[1m1s\u001b[0m 46ms/step - accuracy: 0.5596 - loss: 0.8540 - val_accuracy: 0.5378 - val_loss: 0.9493\n",
            "Epoch 220/500\n",
            "\u001b[1m15/15\u001b[0m \u001b[32m━━━━━━━━━━━━━━━━━━━━\u001b[0m\u001b[37m\u001b[0m \u001b[1m1s\u001b[0m 67ms/step - accuracy: 0.5795 - loss: 0.8365 - val_accuracy: 0.5422 - val_loss: 0.9825\n",
            "Epoch 221/500\n",
            "\u001b[1m15/15\u001b[0m \u001b[32m━━━━━━━━━━━━━━━━━━━━\u001b[0m\u001b[37m\u001b[0m \u001b[1m1s\u001b[0m 77ms/step - accuracy: 0.5652 - loss: 0.8810 - val_accuracy: 0.5578 - val_loss: 1.0134\n",
            "Epoch 222/500\n",
            "\u001b[1m15/15\u001b[0m \u001b[32m━━━━━━━━━━━━━━━━━━━━\u001b[0m\u001b[37m\u001b[0m \u001b[1m1s\u001b[0m 49ms/step - accuracy: 0.5542 - loss: 0.8641 - val_accuracy: 0.5644 - val_loss: 0.9301\n",
            "Epoch 223/500\n",
            "\u001b[1m15/15\u001b[0m \u001b[32m━━━━━━━━━━━━━━━━━━━━\u001b[0m\u001b[37m\u001b[0m \u001b[1m1s\u001b[0m 48ms/step - accuracy: 0.5453 - loss: 0.8656 - val_accuracy: 0.5822 - val_loss: 0.9357\n",
            "Epoch 224/500\n",
            "\u001b[1m15/15\u001b[0m \u001b[32m━━━━━━━━━━━━━━━━━━━━\u001b[0m\u001b[37m\u001b[0m \u001b[1m1s\u001b[0m 47ms/step - accuracy: 0.5887 - loss: 0.8443 - val_accuracy: 0.5867 - val_loss: 0.9445\n",
            "Epoch 225/500\n",
            "\u001b[1m15/15\u001b[0m \u001b[32m━━━━━━━━━━━━━━━━━━━━\u001b[0m\u001b[37m\u001b[0m \u001b[1m1s\u001b[0m 47ms/step - accuracy: 0.6292 - loss: 0.7731 - val_accuracy: 0.6467 - val_loss: 0.9998\n",
            "Epoch 226/500\n",
            "\u001b[1m15/15\u001b[0m \u001b[32m━━━━━━━━━━━━━━━━━━━━\u001b[0m\u001b[37m\u001b[0m \u001b[1m1s\u001b[0m 49ms/step - accuracy: 0.6835 - loss: 0.7271 - val_accuracy: 0.5822 - val_loss: 1.1332\n",
            "Epoch 227/500\n",
            "\u001b[1m15/15\u001b[0m \u001b[32m━━━━━━━━━━━━━━━━━━━━\u001b[0m\u001b[37m\u001b[0m \u001b[1m1s\u001b[0m 49ms/step - accuracy: 0.6578 - loss: 0.7283 - val_accuracy: 0.6333 - val_loss: 0.9746\n",
            "Epoch 228/500\n",
            "\u001b[1m15/15\u001b[0m \u001b[32m━━━━━━━━━━━━━━━━━━━━\u001b[0m\u001b[37m\u001b[0m \u001b[1m1s\u001b[0m 47ms/step - accuracy: 0.6851 - loss: 0.6887 - val_accuracy: 0.6133 - val_loss: 0.9332\n",
            "Epoch 229/500\n",
            "\u001b[1m15/15\u001b[0m \u001b[32m━━━━━━━━━━━━━━━━━━━━\u001b[0m\u001b[37m\u001b[0m \u001b[1m1s\u001b[0m 50ms/step - accuracy: 0.6669 - loss: 0.7346 - val_accuracy: 0.5244 - val_loss: 1.7753\n",
            "Epoch 230/500\n",
            "\u001b[1m15/15\u001b[0m \u001b[32m━━━━━━━━━━━━━━━━━━━━\u001b[0m\u001b[37m\u001b[0m \u001b[1m1s\u001b[0m 47ms/step - accuracy: 0.6321 - loss: 0.8783 - val_accuracy: 0.6044 - val_loss: 1.0360\n",
            "Epoch 231/500\n",
            "\u001b[1m15/15\u001b[0m \u001b[32m━━━━━━━━━━━━━━━━━━━━\u001b[0m\u001b[37m\u001b[0m \u001b[1m1s\u001b[0m 48ms/step - accuracy: 0.6297 - loss: 0.7976 - val_accuracy: 0.5333 - val_loss: 1.0534\n",
            "Epoch 232/500\n",
            "\u001b[1m15/15\u001b[0m \u001b[32m━━━━━━━━━━━━━━━━━━━━\u001b[0m\u001b[37m\u001b[0m \u001b[1m1s\u001b[0m 46ms/step - accuracy: 0.5536 - loss: 0.9388 - val_accuracy: 0.5422 - val_loss: 0.9468\n",
            "Epoch 233/500\n",
            "\u001b[1m15/15\u001b[0m \u001b[32m━━━━━━━━━━━━━━━━━━━━\u001b[0m\u001b[37m\u001b[0m \u001b[1m1s\u001b[0m 47ms/step - accuracy: 0.5577 - loss: 0.8878 - val_accuracy: 0.5822 - val_loss: 0.9130\n",
            "Epoch 234/500\n",
            "\u001b[1m15/15\u001b[0m \u001b[32m━━━━━━━━━━━━━━━━━━━━\u001b[0m\u001b[37m\u001b[0m \u001b[1m1s\u001b[0m 48ms/step - accuracy: 0.5876 - loss: 0.8403 - val_accuracy: 0.5689 - val_loss: 0.9106\n",
            "Epoch 235/500\n",
            "\u001b[1m15/15\u001b[0m \u001b[32m━━━━━━━━━━━━━━━━━━━━\u001b[0m\u001b[37m\u001b[0m \u001b[1m1s\u001b[0m 78ms/step - accuracy: 0.6011 - loss: 0.8459 - val_accuracy: 0.5489 - val_loss: 0.9306\n",
            "Epoch 236/500\n",
            "\u001b[1m15/15\u001b[0m \u001b[32m━━━━━━━━━━━━━━━━━━━━\u001b[0m\u001b[37m\u001b[0m \u001b[1m1s\u001b[0m 67ms/step - accuracy: 0.5713 - loss: 0.8968 - val_accuracy: 0.5267 - val_loss: 0.9334\n",
            "Epoch 237/500\n",
            "\u001b[1m15/15\u001b[0m \u001b[32m━━━━━━━━━━━━━━━━━━━━\u001b[0m\u001b[37m\u001b[0m \u001b[1m1s\u001b[0m 47ms/step - accuracy: 0.5332 - loss: 0.9328 - val_accuracy: 0.5200 - val_loss: 0.9285\n",
            "Epoch 238/500\n",
            "\u001b[1m15/15\u001b[0m \u001b[32m━━━━━━━━━━━━━━━━━━━━\u001b[0m\u001b[37m\u001b[0m \u001b[1m1s\u001b[0m 46ms/step - accuracy: 0.5435 - loss: 0.9004 - val_accuracy: 0.4511 - val_loss: 1.0809\n",
            "Epoch 239/500\n",
            "\u001b[1m15/15\u001b[0m \u001b[32m━━━━━━━━━━━━━━━━━━━━\u001b[0m\u001b[37m\u001b[0m \u001b[1m1s\u001b[0m 47ms/step - accuracy: 0.5166 - loss: 0.9378 - val_accuracy: 0.5244 - val_loss: 0.9244\n",
            "Epoch 240/500\n",
            "\u001b[1m15/15\u001b[0m \u001b[32m━━━━━━━━━━━━━━━━━━━━\u001b[0m\u001b[37m\u001b[0m \u001b[1m1s\u001b[0m 49ms/step - accuracy: 0.5311 - loss: 0.9221 - val_accuracy: 0.4889 - val_loss: 0.9597\n",
            "Epoch 241/500\n",
            "\u001b[1m15/15\u001b[0m \u001b[32m━━━━━━━━━━━━━━━━━━━━\u001b[0m\u001b[37m\u001b[0m \u001b[1m1s\u001b[0m 46ms/step - accuracy: 0.5019 - loss: 0.9276 - val_accuracy: 0.5133 - val_loss: 0.9823\n",
            "Epoch 242/500\n",
            "\u001b[1m15/15\u001b[0m \u001b[32m━━━━━━━━━━━━━━━━━━━━\u001b[0m\u001b[37m\u001b[0m \u001b[1m1s\u001b[0m 46ms/step - accuracy: 0.5766 - loss: 0.8897 - val_accuracy: 0.5200 - val_loss: 0.9543\n",
            "Epoch 243/500\n",
            "\u001b[1m15/15\u001b[0m \u001b[32m━━━━━━━━━━━━━━━━━━━━\u001b[0m\u001b[37m\u001b[0m \u001b[1m1s\u001b[0m 51ms/step - accuracy: 0.5452 - loss: 0.9003 - val_accuracy: 0.5400 - val_loss: 0.9533\n",
            "Epoch 244/500\n",
            "\u001b[1m15/15\u001b[0m \u001b[32m━━━━━━━━━━━━━━━━━━━━\u001b[0m\u001b[37m\u001b[0m \u001b[1m1s\u001b[0m 51ms/step - accuracy: 0.6120 - loss: 0.8360 - val_accuracy: 0.5689 - val_loss: 0.9713\n",
            "Epoch 245/500\n",
            "\u001b[1m15/15\u001b[0m \u001b[32m━━━━━━━━━━━━━━━━━━━━\u001b[0m\u001b[37m\u001b[0m \u001b[1m1s\u001b[0m 48ms/step - accuracy: 0.6418 - loss: 0.7921 - val_accuracy: 0.5778 - val_loss: 0.9534\n",
            "Epoch 246/500\n",
            "\u001b[1m15/15\u001b[0m \u001b[32m━━━━━━━━━━━━━━━━━━━━\u001b[0m\u001b[37m\u001b[0m \u001b[1m1s\u001b[0m 48ms/step - accuracy: 0.6436 - loss: 0.7758 - val_accuracy: 0.6067 - val_loss: 0.8894\n",
            "Epoch 247/500\n",
            "\u001b[1m15/15\u001b[0m \u001b[32m━━━━━━━━━━━━━━━━━━━━\u001b[0m\u001b[37m\u001b[0m \u001b[1m1s\u001b[0m 48ms/step - accuracy: 0.6481 - loss: 0.7740 - val_accuracy: 0.5978 - val_loss: 0.9339\n",
            "Epoch 248/500\n",
            "\u001b[1m15/15\u001b[0m \u001b[32m━━━━━━━━━━━━━━━━━━━━\u001b[0m\u001b[37m\u001b[0m \u001b[1m1s\u001b[0m 48ms/step - accuracy: 0.6416 - loss: 0.7839 - val_accuracy: 0.5756 - val_loss: 1.0499\n",
            "Epoch 249/500\n",
            "\u001b[1m15/15\u001b[0m \u001b[32m━━━━━━━━━━━━━━━━━━━━\u001b[0m\u001b[37m\u001b[0m \u001b[1m1s\u001b[0m 48ms/step - accuracy: 0.6305 - loss: 0.8257 - val_accuracy: 0.5600 - val_loss: 0.9602\n",
            "Epoch 250/500\n",
            "\u001b[1m15/15\u001b[0m \u001b[32m━━━━━━━━━━━━━━━━━━━━\u001b[0m\u001b[37m\u001b[0m \u001b[1m1s\u001b[0m 63ms/step - accuracy: 0.5840 - loss: 0.8631 - val_accuracy: 0.5378 - val_loss: 0.9386\n",
            "Epoch 251/500\n",
            "\u001b[1m15/15\u001b[0m \u001b[32m━━━━━━━━━━━━━━━━━━━━\u001b[0m\u001b[37m\u001b[0m \u001b[1m1s\u001b[0m 70ms/step - accuracy: 0.5509 - loss: 0.8958 - val_accuracy: 0.5000 - val_loss: 1.0709\n",
            "Epoch 252/500\n",
            "\u001b[1m15/15\u001b[0m \u001b[32m━━━━━━━━━━━━━━━━━━━━\u001b[0m\u001b[37m\u001b[0m \u001b[1m1s\u001b[0m 48ms/step - accuracy: 0.5515 - loss: 0.8934 - val_accuracy: 0.4978 - val_loss: 0.9813\n",
            "Epoch 253/500\n",
            "\u001b[1m15/15\u001b[0m \u001b[32m━━━━━━━━━━━━━━━━━━━━\u001b[0m\u001b[37m\u001b[0m \u001b[1m1s\u001b[0m 48ms/step - accuracy: 0.5914 - loss: 0.8531 - val_accuracy: 0.5622 - val_loss: 0.9645\n",
            "Epoch 254/500\n",
            "\u001b[1m15/15\u001b[0m \u001b[32m━━━━━━━━━━━━━━━━━━━━\u001b[0m\u001b[37m\u001b[0m \u001b[1m1s\u001b[0m 49ms/step - accuracy: 0.6758 - loss: 0.7629 - val_accuracy: 0.5733 - val_loss: 0.9437\n",
            "Epoch 255/500\n",
            "\u001b[1m15/15\u001b[0m \u001b[32m━━━━━━━━━━━━━━━━━━━━\u001b[0m\u001b[37m\u001b[0m \u001b[1m1s\u001b[0m 59ms/step - accuracy: 0.6512 - loss: 0.7719 - val_accuracy: 0.5467 - val_loss: 0.9193\n",
            "Epoch 256/500\n",
            "\u001b[1m15/15\u001b[0m \u001b[32m━━━━━━━━━━━━━━━━━━━━\u001b[0m\u001b[37m\u001b[0m \u001b[1m1s\u001b[0m 47ms/step - accuracy: 0.6687 - loss: 0.7488 - val_accuracy: 0.6000 - val_loss: 0.9562\n",
            "Epoch 257/500\n",
            "\u001b[1m15/15\u001b[0m \u001b[32m━━━━━━━━━━━━━━━━━━━━\u001b[0m\u001b[37m\u001b[0m \u001b[1m1s\u001b[0m 46ms/step - accuracy: 0.6447 - loss: 0.7646 - val_accuracy: 0.5822 - val_loss: 0.9415\n",
            "Epoch 258/500\n",
            "\u001b[1m15/15\u001b[0m \u001b[32m━━━━━━━━━━━━━━━━━━━━\u001b[0m\u001b[37m\u001b[0m \u001b[1m1s\u001b[0m 47ms/step - accuracy: 0.6742 - loss: 0.7301 - val_accuracy: 0.5911 - val_loss: 0.9348\n",
            "Epoch 259/500\n",
            "\u001b[1m15/15\u001b[0m \u001b[32m━━━━━━━━━━━━━━━━━━━━\u001b[0m\u001b[37m\u001b[0m \u001b[1m1s\u001b[0m 49ms/step - accuracy: 0.6659 - loss: 0.7564 - val_accuracy: 0.6067 - val_loss: 0.8606\n",
            "Epoch 260/500\n",
            "\u001b[1m15/15\u001b[0m \u001b[32m━━━━━━━━━━━━━━━━━━━━\u001b[0m\u001b[37m\u001b[0m \u001b[1m1s\u001b[0m 47ms/step - accuracy: 0.6606 - loss: 0.7508 - val_accuracy: 0.5622 - val_loss: 0.9889\n",
            "Epoch 261/500\n",
            "\u001b[1m15/15\u001b[0m \u001b[32m━━━━━━━━━━━━━━━━━━━━\u001b[0m\u001b[37m\u001b[0m \u001b[1m1s\u001b[0m 46ms/step - accuracy: 0.6179 - loss: 0.8078 - val_accuracy: 0.5467 - val_loss: 0.9708\n",
            "Epoch 262/500\n",
            "\u001b[1m15/15\u001b[0m \u001b[32m━━━━━━━━━━━━━━━━━━━━\u001b[0m\u001b[37m\u001b[0m \u001b[1m1s\u001b[0m 49ms/step - accuracy: 0.6456 - loss: 0.7786 - val_accuracy: 0.6022 - val_loss: 0.8838\n",
            "Epoch 263/500\n",
            "\u001b[1m15/15\u001b[0m \u001b[32m━━━━━━━━━━━━━━━━━━━━\u001b[0m\u001b[37m\u001b[0m \u001b[1m1s\u001b[0m 73ms/step - accuracy: 0.6645 - loss: 0.7496 - val_accuracy: 0.5711 - val_loss: 0.9218\n",
            "Epoch 264/500\n",
            "\u001b[1m15/15\u001b[0m \u001b[32m━━━━━━━━━━━━━━━━━━━━\u001b[0m\u001b[37m\u001b[0m \u001b[1m1s\u001b[0m 66ms/step - accuracy: 0.6527 - loss: 0.7664 - val_accuracy: 0.6111 - val_loss: 0.9446\n",
            "Epoch 265/500\n",
            "\u001b[1m15/15\u001b[0m \u001b[32m━━━━━━━━━━━━━━━━━━━━\u001b[0m\u001b[37m\u001b[0m \u001b[1m1s\u001b[0m 48ms/step - accuracy: 0.6740 - loss: 0.7273 - val_accuracy: 0.5533 - val_loss: 0.9593\n",
            "Epoch 266/500\n",
            "\u001b[1m15/15\u001b[0m \u001b[32m━━━━━━━━━━━━━━━━━━━━\u001b[0m\u001b[37m\u001b[0m \u001b[1m1s\u001b[0m 46ms/step - accuracy: 0.5755 - loss: 0.9531 - val_accuracy: 0.4822 - val_loss: 1.0042\n",
            "Epoch 267/500\n",
            "\u001b[1m15/15\u001b[0m \u001b[32m━━━━━━━━━━━━━━━━━━━━\u001b[0m\u001b[37m\u001b[0m \u001b[1m1s\u001b[0m 48ms/step - accuracy: 0.5159 - loss: 0.9398 - val_accuracy: 0.5422 - val_loss: 0.9989\n",
            "Epoch 268/500\n",
            "\u001b[1m15/15\u001b[0m \u001b[32m━━━━━━━━━━━━━━━━━━━━\u001b[0m\u001b[37m\u001b[0m \u001b[1m1s\u001b[0m 47ms/step - accuracy: 0.5748 - loss: 0.8804 - val_accuracy: 0.5000 - val_loss: 1.0085\n",
            "Epoch 269/500\n",
            "\u001b[1m15/15\u001b[0m \u001b[32m━━━━━━━━━━━━━━━━━━━━\u001b[0m\u001b[37m\u001b[0m \u001b[1m1s\u001b[0m 47ms/step - accuracy: 0.5692 - loss: 0.8908 - val_accuracy: 0.5089 - val_loss: 1.0164\n",
            "Epoch 270/500\n",
            "\u001b[1m15/15\u001b[0m \u001b[32m━━━━━━━━━━━━━━━━━━━━\u001b[0m\u001b[37m\u001b[0m \u001b[1m1s\u001b[0m 49ms/step - accuracy: 0.5809 - loss: 0.8694 - val_accuracy: 0.5689 - val_loss: 1.0411\n",
            "Epoch 271/500\n",
            "\u001b[1m15/15\u001b[0m \u001b[32m━━━━━━━━━━━━━━━━━━━━\u001b[0m\u001b[37m\u001b[0m \u001b[1m1s\u001b[0m 47ms/step - accuracy: 0.6255 - loss: 0.8045 - val_accuracy: 0.5444 - val_loss: 1.0153\n",
            "Epoch 272/500\n",
            "\u001b[1m15/15\u001b[0m \u001b[32m━━━━━━━━━━━━━━━━━━━━\u001b[0m\u001b[37m\u001b[0m \u001b[1m1s\u001b[0m 48ms/step - accuracy: 0.6237 - loss: 0.8104 - val_accuracy: 0.5533 - val_loss: 0.9645\n",
            "Epoch 273/500\n",
            "\u001b[1m15/15\u001b[0m \u001b[32m━━━━━━━━━━━━━━━━━━━━\u001b[0m\u001b[37m\u001b[0m \u001b[1m1s\u001b[0m 47ms/step - accuracy: 0.6274 - loss: 0.7942 - val_accuracy: 0.6044 - val_loss: 0.9344\n",
            "Epoch 274/500\n",
            "\u001b[1m15/15\u001b[0m \u001b[32m━━━━━━━━━━━━━━━━━━━━\u001b[0m\u001b[37m\u001b[0m \u001b[1m1s\u001b[0m 47ms/step - accuracy: 0.6207 - loss: 0.8090 - val_accuracy: 0.5511 - val_loss: 0.9627\n",
            "Epoch 275/500\n",
            "\u001b[1m15/15\u001b[0m \u001b[32m━━━━━━━━━━━━━━━━━━━━\u001b[0m\u001b[37m\u001b[0m \u001b[1m1s\u001b[0m 48ms/step - accuracy: 0.5791 - loss: 0.8633 - val_accuracy: 0.5644 - val_loss: 0.9237\n",
            "Epoch 276/500\n",
            "\u001b[1m15/15\u001b[0m \u001b[32m━━━━━━━━━━━━━━━━━━━━\u001b[0m\u001b[37m\u001b[0m \u001b[1m1s\u001b[0m 75ms/step - accuracy: 0.6134 - loss: 0.8223 - val_accuracy: 0.5644 - val_loss: 0.9261\n",
            "Epoch 277/500\n",
            "\u001b[1m15/15\u001b[0m \u001b[32m━━━━━━━━━━━━━━━━━━━━\u001b[0m\u001b[37m\u001b[0m \u001b[1m1s\u001b[0m 77ms/step - accuracy: 0.6131 - loss: 0.8212 - val_accuracy: 0.5178 - val_loss: 0.9637\n",
            "Epoch 278/500\n",
            "\u001b[1m15/15\u001b[0m \u001b[32m━━━━━━━━━━━━━━━━━━━━\u001b[0m\u001b[37m\u001b[0m \u001b[1m1s\u001b[0m 48ms/step - accuracy: 0.5956 - loss: 0.8453 - val_accuracy: 0.5511 - val_loss: 0.9610\n",
            "Epoch 279/500\n",
            "\u001b[1m15/15\u001b[0m \u001b[32m━━━━━━━━━━━━━━━━━━━━\u001b[0m\u001b[37m\u001b[0m \u001b[1m1s\u001b[0m 47ms/step - accuracy: 0.6007 - loss: 0.8335 - val_accuracy: 0.5600 - val_loss: 1.0524\n",
            "Epoch 280/500\n",
            "\u001b[1m15/15\u001b[0m \u001b[32m━━━━━━━━━━━━━━━━━━━━\u001b[0m\u001b[37m\u001b[0m \u001b[1m1s\u001b[0m 47ms/step - accuracy: 0.6180 - loss: 0.8118 - val_accuracy: 0.5644 - val_loss: 1.0165\n",
            "Epoch 281/500\n",
            "\u001b[1m15/15\u001b[0m \u001b[32m━━━━━━━━━━━━━━━━━━━━\u001b[0m\u001b[37m\u001b[0m \u001b[1m1s\u001b[0m 47ms/step - accuracy: 0.5874 - loss: 0.8596 - val_accuracy: 0.5311 - val_loss: 0.9480\n",
            "Epoch 282/500\n",
            "\u001b[1m15/15\u001b[0m \u001b[32m━━━━━━━━━━━━━━━━━━━━\u001b[0m\u001b[37m\u001b[0m \u001b[1m1s\u001b[0m 46ms/step - accuracy: 0.5650 - loss: 0.8742 - val_accuracy: 0.5578 - val_loss: 0.9744\n",
            "Epoch 283/500\n",
            "\u001b[1m15/15\u001b[0m \u001b[32m━━━━━━━━━━━━━━━━━━━━\u001b[0m\u001b[37m\u001b[0m \u001b[1m1s\u001b[0m 46ms/step - accuracy: 0.5806 - loss: 0.8433 - val_accuracy: 0.5178 - val_loss: 0.9932\n",
            "Epoch 284/500\n",
            "\u001b[1m15/15\u001b[0m \u001b[32m━━━━━━━━━━━━━━━━━━━━\u001b[0m\u001b[37m\u001b[0m \u001b[1m1s\u001b[0m 47ms/step - accuracy: 0.5676 - loss: 0.8550 - val_accuracy: 0.5489 - val_loss: 1.0808\n",
            "Epoch 285/500\n",
            "\u001b[1m15/15\u001b[0m \u001b[32m━━━━━━━━━━━━━━━━━━━━\u001b[0m\u001b[37m\u001b[0m \u001b[1m1s\u001b[0m 47ms/step - accuracy: 0.6330 - loss: 0.7767 - val_accuracy: 0.5622 - val_loss: 1.0805\n",
            "Epoch 286/500\n",
            "\u001b[1m15/15\u001b[0m \u001b[32m━━━━━━━━━━━━━━━━━━━━\u001b[0m\u001b[37m\u001b[0m \u001b[1m1s\u001b[0m 47ms/step - accuracy: 0.6140 - loss: 0.8178 - val_accuracy: 0.5600 - val_loss: 0.9705\n",
            "Epoch 287/500\n",
            "\u001b[1m15/15\u001b[0m \u001b[32m━━━━━━━━━━━━━━━━━━━━\u001b[0m\u001b[37m\u001b[0m \u001b[1m1s\u001b[0m 47ms/step - accuracy: 0.5724 - loss: 0.8589 - val_accuracy: 0.5533 - val_loss: 0.9536\n",
            "Epoch 288/500\n",
            "\u001b[1m15/15\u001b[0m \u001b[32m━━━━━━━━━━━━━━━━━━━━\u001b[0m\u001b[37m\u001b[0m \u001b[1m1s\u001b[0m 49ms/step - accuracy: 0.5441 - loss: 0.8805 - val_accuracy: 0.5178 - val_loss: 0.9684\n",
            "Epoch 289/500\n",
            "\u001b[1m15/15\u001b[0m \u001b[32m━━━━━━━━━━━━━━━━━━━━\u001b[0m\u001b[37m\u001b[0m \u001b[1m1s\u001b[0m 46ms/step - accuracy: 0.5197 - loss: 0.9196 - val_accuracy: 0.5044 - val_loss: 0.9775\n",
            "Epoch 290/500\n",
            "\u001b[1m15/15\u001b[0m \u001b[32m━━━━━━━━━━━━━━━━━━━━\u001b[0m\u001b[37m\u001b[0m \u001b[1m1s\u001b[0m 47ms/step - accuracy: 0.5249 - loss: 0.9157 - val_accuracy: 0.5000 - val_loss: 0.9748\n",
            "Epoch 291/500\n",
            "\u001b[1m15/15\u001b[0m \u001b[32m━━━━━━━━━━━━━━━━━━━━\u001b[0m\u001b[37m\u001b[0m \u001b[1m1s\u001b[0m 52ms/step - accuracy: 0.5181 - loss: 0.9179 - val_accuracy: 0.5356 - val_loss: 0.9884\n",
            "Epoch 292/500\n",
            "\u001b[1m15/15\u001b[0m \u001b[32m━━━━━━━━━━━━━━━━━━━━\u001b[0m\u001b[37m\u001b[0m \u001b[1m1s\u001b[0m 68ms/step - accuracy: 0.5367 - loss: 0.8912 - val_accuracy: 0.5711 - val_loss: 0.9393\n",
            "Epoch 293/500\n",
            "\u001b[1m15/15\u001b[0m \u001b[32m━━━━━━━━━━━━━━━━━━━━\u001b[0m\u001b[37m\u001b[0m \u001b[1m1s\u001b[0m 70ms/step - accuracy: 0.5889 - loss: 0.8461 - val_accuracy: 0.5289 - val_loss: 0.9779\n",
            "Epoch 294/500\n",
            "\u001b[1m15/15\u001b[0m \u001b[32m━━━━━━━━━━━━━━━━━━━━\u001b[0m\u001b[37m\u001b[0m \u001b[1m1s\u001b[0m 47ms/step - accuracy: 0.5846 - loss: 0.8266 - val_accuracy: 0.5556 - val_loss: 0.9668\n",
            "Epoch 295/500\n",
            "\u001b[1m15/15\u001b[0m \u001b[32m━━━━━━━━━━━━━━━━━━━━\u001b[0m\u001b[37m\u001b[0m \u001b[1m1s\u001b[0m 50ms/step - accuracy: 0.6084 - loss: 0.8144 - val_accuracy: 0.5489 - val_loss: 0.9515\n",
            "Epoch 296/500\n",
            "\u001b[1m15/15\u001b[0m \u001b[32m━━━━━━━━━━━━━━━━━━━━\u001b[0m\u001b[37m\u001b[0m \u001b[1m1s\u001b[0m 51ms/step - accuracy: 0.6078 - loss: 0.8225 - val_accuracy: 0.5644 - val_loss: 0.9813\n",
            "Epoch 297/500\n",
            "\u001b[1m15/15\u001b[0m \u001b[32m━━━━━━━━━━━━━━━━━━━━\u001b[0m\u001b[37m\u001b[0m \u001b[1m1s\u001b[0m 47ms/step - accuracy: 0.6580 - loss: 0.7501 - val_accuracy: 0.5467 - val_loss: 0.9727\n",
            "Epoch 298/500\n",
            "\u001b[1m15/15\u001b[0m \u001b[32m━━━━━━━━━━━━━━━━━━━━\u001b[0m\u001b[37m\u001b[0m \u001b[1m1s\u001b[0m 48ms/step - accuracy: 0.6217 - loss: 0.7939 - val_accuracy: 0.5822 - val_loss: 0.9988\n",
            "Epoch 299/500\n",
            "\u001b[1m15/15\u001b[0m \u001b[32m━━━━━━━━━━━━━━━━━━━━\u001b[0m\u001b[37m\u001b[0m \u001b[1m1s\u001b[0m 48ms/step - accuracy: 0.6491 - loss: 0.7531 - val_accuracy: 0.5867 - val_loss: 1.0306\n",
            "Epoch 300/500\n",
            "\u001b[1m15/15\u001b[0m \u001b[32m━━━━━━━━━━━━━━━━━━━━\u001b[0m\u001b[37m\u001b[0m \u001b[1m1s\u001b[0m 51ms/step - accuracy: 0.6772 - loss: 0.7131 - val_accuracy: 0.6000 - val_loss: 1.0202\n",
            "Epoch 301/500\n",
            "\u001b[1m15/15\u001b[0m \u001b[32m━━━━━━━━━━━━━━━━━━━━\u001b[0m\u001b[37m\u001b[0m \u001b[1m1s\u001b[0m 47ms/step - accuracy: 0.6774 - loss: 0.7336 - val_accuracy: 0.5800 - val_loss: 1.0478\n",
            "Epoch 302/500\n",
            "\u001b[1m15/15\u001b[0m \u001b[32m━━━━━━━━━━━━━━━━━━━━\u001b[0m\u001b[37m\u001b[0m \u001b[1m1s\u001b[0m 48ms/step - accuracy: 0.6463 - loss: 0.7797 - val_accuracy: 0.5933 - val_loss: 1.0642\n",
            "Epoch 303/500\n",
            "\u001b[1m15/15\u001b[0m \u001b[32m━━━━━━━━━━━━━━━━━━━━\u001b[0m\u001b[37m\u001b[0m \u001b[1m2s\u001b[0m 76ms/step - accuracy: 0.6358 - loss: 0.7846 - val_accuracy: 0.5022 - val_loss: 0.9656\n",
            "Epoch 304/500\n",
            "\u001b[1m15/15\u001b[0m \u001b[32m━━━━━━━━━━━━━━━━━━━━\u001b[0m\u001b[37m\u001b[0m \u001b[1m1s\u001b[0m 81ms/step - accuracy: 0.5196 - loss: 0.9072 - val_accuracy: 0.5333 - val_loss: 0.9516\n",
            "Epoch 305/500\n",
            "\u001b[1m15/15\u001b[0m \u001b[32m━━━━━━━━━━━━━━━━━━━━\u001b[0m\u001b[37m\u001b[0m \u001b[1m1s\u001b[0m 46ms/step - accuracy: 0.5462 - loss: 0.8740 - val_accuracy: 0.5111 - val_loss: 1.0052\n",
            "Epoch 306/500\n",
            "\u001b[1m15/15\u001b[0m \u001b[32m━━━━━━━━━━━━━━━━━━━━\u001b[0m\u001b[37m\u001b[0m \u001b[1m1s\u001b[0m 47ms/step - accuracy: 0.5652 - loss: 0.8517 - val_accuracy: 0.5578 - val_loss: 0.9512\n",
            "Epoch 307/500\n",
            "\u001b[1m15/15\u001b[0m \u001b[32m━━━━━━━━━━━━━━━━━━━━\u001b[0m\u001b[37m\u001b[0m \u001b[1m1s\u001b[0m 49ms/step - accuracy: 0.5977 - loss: 0.8205 - val_accuracy: 0.5622 - val_loss: 0.9963\n",
            "Epoch 308/500\n",
            "\u001b[1m15/15\u001b[0m \u001b[32m━━━━━━━━━━━━━━━━━━━━\u001b[0m\u001b[37m\u001b[0m \u001b[1m1s\u001b[0m 49ms/step - accuracy: 0.5952 - loss: 0.8216 - val_accuracy: 0.5333 - val_loss: 1.0622\n",
            "Epoch 309/500\n",
            "\u001b[1m15/15\u001b[0m \u001b[32m━━━━━━━━━━━━━━━━━━━━\u001b[0m\u001b[37m\u001b[0m \u001b[1m1s\u001b[0m 47ms/step - accuracy: 0.6598 - loss: 0.7508 - val_accuracy: 0.5556 - val_loss: 1.2894\n",
            "Epoch 310/500\n",
            "\u001b[1m15/15\u001b[0m \u001b[32m━━━━━━━━━━━━━━━━━━━━\u001b[0m\u001b[37m\u001b[0m \u001b[1m1s\u001b[0m 50ms/step - accuracy: 0.6786 - loss: 0.7392 - val_accuracy: 0.5644 - val_loss: 1.0203\n",
            "Epoch 311/500\n",
            "\u001b[1m15/15\u001b[0m \u001b[32m━━━━━━━━━━━━━━━━━━━━\u001b[0m\u001b[37m\u001b[0m \u001b[1m1s\u001b[0m 49ms/step - accuracy: 0.6476 - loss: 0.7881 - val_accuracy: 0.5467 - val_loss: 1.0794\n",
            "Epoch 312/500\n",
            "\u001b[1m15/15\u001b[0m \u001b[32m━━━━━━━━━━━━━━━━━━━━\u001b[0m\u001b[37m\u001b[0m \u001b[1m1s\u001b[0m 50ms/step - accuracy: 0.6415 - loss: 0.7703 - val_accuracy: 0.5733 - val_loss: 1.0706\n",
            "Epoch 313/500\n",
            "\u001b[1m15/15\u001b[0m \u001b[32m━━━━━━━━━━━━━━━━━━━━\u001b[0m\u001b[37m\u001b[0m \u001b[1m1s\u001b[0m 49ms/step - accuracy: 0.6340 - loss: 0.8179 - val_accuracy: 0.5689 - val_loss: 0.9559\n",
            "Epoch 314/500\n",
            "\u001b[1m15/15\u001b[0m \u001b[32m━━━━━━━━━━━━━━━━━━━━\u001b[0m\u001b[37m\u001b[0m \u001b[1m1s\u001b[0m 58ms/step - accuracy: 0.6191 - loss: 0.7983 - val_accuracy: 0.5844 - val_loss: 0.9480\n",
            "Epoch 315/500\n",
            "\u001b[1m15/15\u001b[0m \u001b[32m━━━━━━━━━━━━━━━━━━━━\u001b[0m\u001b[37m\u001b[0m \u001b[1m1s\u001b[0m 50ms/step - accuracy: 0.6633 - loss: 0.7326 - val_accuracy: 0.5978 - val_loss: 0.9868\n",
            "Epoch 316/500\n",
            "\u001b[1m15/15\u001b[0m \u001b[32m━━━━━━━━━━━━━━━━━━━━\u001b[0m\u001b[37m\u001b[0m \u001b[1m1s\u001b[0m 52ms/step - accuracy: 0.6873 - loss: 0.7189 - val_accuracy: 0.5600 - val_loss: 0.9671\n",
            "Epoch 317/500\n",
            "\u001b[1m15/15\u001b[0m \u001b[32m━━━━━━━━━━━━━━━━━━━━\u001b[0m\u001b[37m\u001b[0m \u001b[1m2s\u001b[0m 72ms/step - accuracy: 0.6350 - loss: 0.7821 - val_accuracy: 0.5378 - val_loss: 0.9406\n",
            "Epoch 318/500\n",
            "\u001b[1m15/15\u001b[0m \u001b[32m━━━━━━━━━━━━━━━━━━━━\u001b[0m\u001b[37m\u001b[0m \u001b[1m1s\u001b[0m 51ms/step - accuracy: 0.5735 - loss: 0.9652 - val_accuracy: 0.5733 - val_loss: 0.9647\n",
            "Epoch 319/500\n",
            "\u001b[1m15/15\u001b[0m \u001b[32m━━━━━━━━━━━━━━━━━━━━\u001b[0m\u001b[37m\u001b[0m \u001b[1m1s\u001b[0m 51ms/step - accuracy: 0.6024 - loss: 0.8035 - val_accuracy: 0.5667 - val_loss: 0.9754\n",
            "Epoch 320/500\n",
            "\u001b[1m15/15\u001b[0m \u001b[32m━━━━━━━━━━━━━━━━━━━━\u001b[0m\u001b[37m\u001b[0m \u001b[1m1s\u001b[0m 47ms/step - accuracy: 0.5967 - loss: 0.8259 - val_accuracy: 0.5511 - val_loss: 0.9656\n",
            "Epoch 321/500\n",
            "\u001b[1m15/15\u001b[0m \u001b[32m━━━━━━━━━━━━━━━━━━━━\u001b[0m\u001b[37m\u001b[0m \u001b[1m1s\u001b[0m 48ms/step - accuracy: 0.6031 - loss: 0.8209 - val_accuracy: 0.5511 - val_loss: 0.9962\n",
            "Epoch 322/500\n",
            "\u001b[1m15/15\u001b[0m \u001b[32m━━━━━━━━━━━━━━━━━━━━\u001b[0m\u001b[37m\u001b[0m \u001b[1m1s\u001b[0m 49ms/step - accuracy: 0.5980 - loss: 0.8258 - val_accuracy: 0.5844 - val_loss: 0.9450\n",
            "Epoch 323/500\n",
            "\u001b[1m15/15\u001b[0m \u001b[32m━━━━━━━━━━━━━━━━━━━━\u001b[0m\u001b[37m\u001b[0m \u001b[1m1s\u001b[0m 48ms/step - accuracy: 0.6280 - loss: 0.7913 - val_accuracy: 0.5333 - val_loss: 1.0168\n",
            "Epoch 324/500\n",
            "\u001b[1m15/15\u001b[0m \u001b[32m━━━━━━━━━━━━━━━━━━━━\u001b[0m\u001b[37m\u001b[0m \u001b[1m1s\u001b[0m 50ms/step - accuracy: 0.5746 - loss: 0.8792 - val_accuracy: 0.5533 - val_loss: 1.1056\n",
            "Epoch 325/500\n",
            "\u001b[1m15/15\u001b[0m \u001b[32m━━━━━━━━━━━━━━━━━━━━\u001b[0m\u001b[37m\u001b[0m \u001b[1m1s\u001b[0m 48ms/step - accuracy: 0.6197 - loss: 0.8093 - val_accuracy: 0.5378 - val_loss: 0.9445\n",
            "Epoch 326/500\n",
            "\u001b[1m15/15\u001b[0m \u001b[32m━━━━━━━━━━━━━━━━━━━━\u001b[0m\u001b[37m\u001b[0m \u001b[1m1s\u001b[0m 47ms/step - accuracy: 0.5466 - loss: 0.8721 - val_accuracy: 0.5600 - val_loss: 0.9823\n",
            "Epoch 327/500\n",
            "\u001b[1m15/15\u001b[0m \u001b[32m━━━━━━━━━━━━━━━━━━━━\u001b[0m\u001b[37m\u001b[0m \u001b[1m1s\u001b[0m 48ms/step - accuracy: 0.5445 - loss: 0.8671 - val_accuracy: 0.5178 - val_loss: 0.9606\n",
            "Epoch 328/500\n",
            "\u001b[1m15/15\u001b[0m \u001b[32m━━━━━━━━━━━━━━━━━━━━\u001b[0m\u001b[37m\u001b[0m \u001b[1m1s\u001b[0m 48ms/step - accuracy: 0.5730 - loss: 0.8551 - val_accuracy: 0.5089 - val_loss: 0.9721\n",
            "Epoch 329/500\n",
            "\u001b[1m15/15\u001b[0m \u001b[32m━━━━━━━━━━━━━━━━━━━━\u001b[0m\u001b[37m\u001b[0m \u001b[1m1s\u001b[0m 48ms/step - accuracy: 0.5527 - loss: 0.8559 - val_accuracy: 0.5289 - val_loss: 1.1511\n",
            "Epoch 330/500\n",
            "\u001b[1m15/15\u001b[0m \u001b[32m━━━━━━━━━━━━━━━━━━━━\u001b[0m\u001b[37m\u001b[0m \u001b[1m2s\u001b[0m 72ms/step - accuracy: 0.6052 - loss: 0.7896 - val_accuracy: 0.5444 - val_loss: 1.0005\n",
            "Epoch 331/500\n",
            "\u001b[1m15/15\u001b[0m \u001b[32m━━━━━━━━━━━━━━━━━━━━\u001b[0m\u001b[37m\u001b[0m \u001b[1m1s\u001b[0m 54ms/step - accuracy: 0.5871 - loss: 0.8292 - val_accuracy: 0.5711 - val_loss: 1.0261\n",
            "Epoch 332/500\n",
            "\u001b[1m15/15\u001b[0m \u001b[32m━━━━━━━━━━━━━━━━━━━━\u001b[0m\u001b[37m\u001b[0m \u001b[1m1s\u001b[0m 47ms/step - accuracy: 0.6251 - loss: 0.7781 - val_accuracy: 0.5800 - val_loss: 1.0388\n",
            "Epoch 333/500\n",
            "\u001b[1m15/15\u001b[0m \u001b[32m━━━━━━━━━━━━━━━━━━━━\u001b[0m\u001b[37m\u001b[0m \u001b[1m1s\u001b[0m 46ms/step - accuracy: 0.6136 - loss: 0.7912 - val_accuracy: 0.5667 - val_loss: 1.0145\n",
            "Epoch 334/500\n",
            "\u001b[1m15/15\u001b[0m \u001b[32m━━━━━━━━━━━━━━━━━━━━\u001b[0m\u001b[37m\u001b[0m \u001b[1m1s\u001b[0m 48ms/step - accuracy: 0.6141 - loss: 0.7925 - val_accuracy: 0.5778 - val_loss: 1.0259\n",
            "Epoch 335/500\n",
            "\u001b[1m15/15\u001b[0m \u001b[32m━━━━━━━━━━━━━━━━━━━━\u001b[0m\u001b[37m\u001b[0m \u001b[1m1s\u001b[0m 50ms/step - accuracy: 0.6341 - loss: 0.7687 - val_accuracy: 0.5800 - val_loss: 1.0658\n",
            "Epoch 336/500\n",
            "\u001b[1m15/15\u001b[0m \u001b[32m━━━━━━━━━━━━━━━━━━━━\u001b[0m\u001b[37m\u001b[0m \u001b[1m1s\u001b[0m 48ms/step - accuracy: 0.6150 - loss: 0.7964 - val_accuracy: 0.5956 - val_loss: 1.0636\n",
            "Epoch 337/500\n",
            "\u001b[1m15/15\u001b[0m \u001b[32m━━━━━━━━━━━━━━━━━━━━\u001b[0m\u001b[37m\u001b[0m \u001b[1m1s\u001b[0m 47ms/step - accuracy: 0.6461 - loss: 0.7689 - val_accuracy: 0.5822 - val_loss: 1.0036\n",
            "Epoch 338/500\n",
            "\u001b[1m15/15\u001b[0m \u001b[32m━━━━━━━━━━━━━━━━━━━━\u001b[0m\u001b[37m\u001b[0m \u001b[1m1s\u001b[0m 48ms/step - accuracy: 0.5984 - loss: 0.7994 - val_accuracy: 0.5222 - val_loss: 0.9742\n",
            "Epoch 339/500\n",
            "\u001b[1m15/15\u001b[0m \u001b[32m━━━━━━━━━━━━━━━━━━━━\u001b[0m\u001b[37m\u001b[0m \u001b[1m1s\u001b[0m 48ms/step - accuracy: 0.6021 - loss: 0.8034 - val_accuracy: 0.5578 - val_loss: 1.0107\n",
            "Epoch 340/500\n",
            "\u001b[1m15/15\u001b[0m \u001b[32m━━━━━━━━━━━━━━━━━━━━\u001b[0m\u001b[37m\u001b[0m \u001b[1m1s\u001b[0m 49ms/step - accuracy: 0.5888 - loss: 0.8117 - val_accuracy: 0.5333 - val_loss: 0.9641\n",
            "Epoch 341/500\n",
            "\u001b[1m15/15\u001b[0m \u001b[32m━━━━━━━━━━━━━━━━━━━━\u001b[0m\u001b[37m\u001b[0m \u001b[1m1s\u001b[0m 60ms/step - accuracy: 0.5781 - loss: 0.8351 - val_accuracy: 0.5867 - val_loss: 0.9363\n",
            "Epoch 342/500\n",
            "\u001b[1m15/15\u001b[0m \u001b[32m━━━━━━━━━━━━━━━━━━━━\u001b[0m\u001b[37m\u001b[0m \u001b[1m1s\u001b[0m 68ms/step - accuracy: 0.6073 - loss: 0.7815 - val_accuracy: 0.5800 - val_loss: 1.1102\n",
            "Epoch 343/500\n",
            "\u001b[1m15/15\u001b[0m \u001b[32m━━━━━━━━━━━━━━━━━━━━\u001b[0m\u001b[37m\u001b[0m \u001b[1m1s\u001b[0m 52ms/step - accuracy: 0.6494 - loss: 0.7613 - val_accuracy: 0.5600 - val_loss: 1.0030\n",
            "Epoch 344/500\n",
            "\u001b[1m15/15\u001b[0m \u001b[32m━━━━━━━━━━━━━━━━━━━━\u001b[0m\u001b[37m\u001b[0m \u001b[1m1s\u001b[0m 48ms/step - accuracy: 0.6241 - loss: 0.7803 - val_accuracy: 0.5733 - val_loss: 0.9663\n",
            "Epoch 345/500\n",
            "\u001b[1m15/15\u001b[0m \u001b[32m━━━━━━━━━━━━━━━━━━━━\u001b[0m\u001b[37m\u001b[0m \u001b[1m1s\u001b[0m 50ms/step - accuracy: 0.6408 - loss: 0.7755 - val_accuracy: 0.5911 - val_loss: 1.0804\n",
            "Epoch 346/500\n",
            "\u001b[1m15/15\u001b[0m \u001b[32m━━━━━━━━━━━━━━━━━━━━\u001b[0m\u001b[37m\u001b[0m \u001b[1m1s\u001b[0m 46ms/step - accuracy: 0.6372 - loss: 0.7515 - val_accuracy: 0.5800 - val_loss: 1.2114\n",
            "Epoch 347/500\n",
            "\u001b[1m15/15\u001b[0m \u001b[32m━━━━━━━━━━━━━━━━━━━━\u001b[0m\u001b[37m\u001b[0m \u001b[1m1s\u001b[0m 48ms/step - accuracy: 0.6142 - loss: 0.7905 - val_accuracy: 0.5511 - val_loss: 1.2583\n",
            "Epoch 348/500\n",
            "\u001b[1m15/15\u001b[0m \u001b[32m━━━━━━━━━━━━━━━━━━━━\u001b[0m\u001b[37m\u001b[0m \u001b[1m1s\u001b[0m 48ms/step - accuracy: 0.6171 - loss: 0.8000 - val_accuracy: 0.5844 - val_loss: 1.0618\n",
            "Epoch 349/500\n",
            "\u001b[1m15/15\u001b[0m \u001b[32m━━━━━━━━━━━━━━━━━━━━\u001b[0m\u001b[37m\u001b[0m \u001b[1m1s\u001b[0m 50ms/step - accuracy: 0.6170 - loss: 0.8344 - val_accuracy: 0.5267 - val_loss: 1.0401\n",
            "Epoch 350/500\n",
            "\u001b[1m15/15\u001b[0m \u001b[32m━━━━━━━━━━━━━━━━━━━━\u001b[0m\u001b[37m\u001b[0m \u001b[1m1s\u001b[0m 59ms/step - accuracy: 0.5215 - loss: 0.9028 - val_accuracy: 0.5422 - val_loss: 1.0232\n",
            "Epoch 351/500\n",
            "\u001b[1m15/15\u001b[0m \u001b[32m━━━━━━━━━━━━━━━━━━━━\u001b[0m\u001b[37m\u001b[0m \u001b[1m1s\u001b[0m 47ms/step - accuracy: 0.5854 - loss: 0.8187 - val_accuracy: 0.5733 - val_loss: 1.0597\n",
            "Epoch 352/500\n",
            "\u001b[1m15/15\u001b[0m \u001b[32m━━━━━━━━━━━━━━━━━━━━\u001b[0m\u001b[37m\u001b[0m \u001b[1m1s\u001b[0m 48ms/step - accuracy: 0.6461 - loss: 0.7727 - val_accuracy: 0.5978 - val_loss: 1.0537\n",
            "Epoch 353/500\n",
            "\u001b[1m15/15\u001b[0m \u001b[32m━━━━━━━━━━━━━━━━━━━━\u001b[0m\u001b[37m\u001b[0m \u001b[1m1s\u001b[0m 74ms/step - accuracy: 0.6452 - loss: 0.7558 - val_accuracy: 0.5911 - val_loss: 1.0686\n",
            "Epoch 354/500\n",
            "\u001b[1m15/15\u001b[0m \u001b[32m━━━━━━━━━━━━━━━━━━━━\u001b[0m\u001b[37m\u001b[0m \u001b[1m1s\u001b[0m 71ms/step - accuracy: 0.6802 - loss: 0.7191 - val_accuracy: 0.6244 - val_loss: 0.9265\n",
            "Epoch 355/500\n",
            "\u001b[1m15/15\u001b[0m \u001b[32m━━━━━━━━━━━━━━━━━━━━\u001b[0m\u001b[37m\u001b[0m \u001b[1m1s\u001b[0m 48ms/step - accuracy: 0.6681 - loss: 0.7320 - val_accuracy: 0.6022 - val_loss: 1.0071\n",
            "Epoch 356/500\n",
            "\u001b[1m15/15\u001b[0m \u001b[32m━━━━━━━━━━━━━━━━━━━━\u001b[0m\u001b[37m\u001b[0m \u001b[1m1s\u001b[0m 51ms/step - accuracy: 0.6764 - loss: 0.7252 - val_accuracy: 0.5711 - val_loss: 1.1169\n",
            "Epoch 357/500\n",
            "\u001b[1m15/15\u001b[0m \u001b[32m━━━━━━━━━━━━━━━━━━━━\u001b[0m\u001b[37m\u001b[0m \u001b[1m1s\u001b[0m 48ms/step - accuracy: 0.6697 - loss: 0.7298 - val_accuracy: 0.5756 - val_loss: 1.0422\n",
            "Epoch 358/500\n",
            "\u001b[1m15/15\u001b[0m \u001b[32m━━━━━━━━━━━━━━━━━━━━\u001b[0m\u001b[37m\u001b[0m \u001b[1m1s\u001b[0m 47ms/step - accuracy: 0.6487 - loss: 0.7587 - val_accuracy: 0.6222 - val_loss: 0.9637\n",
            "Epoch 359/500\n",
            "\u001b[1m15/15\u001b[0m \u001b[32m━━━━━━━━━━━━━━━━━━━━\u001b[0m\u001b[37m\u001b[0m \u001b[1m1s\u001b[0m 48ms/step - accuracy: 0.6642 - loss: 0.7395 - val_accuracy: 0.5933 - val_loss: 1.0902\n",
            "Epoch 360/500\n",
            "\u001b[1m15/15\u001b[0m \u001b[32m━━━━━━━━━━━━━━━━━━━━\u001b[0m\u001b[37m\u001b[0m \u001b[1m1s\u001b[0m 59ms/step - accuracy: 0.6491 - loss: 0.7521 - val_accuracy: 0.5000 - val_loss: 1.2611\n",
            "Epoch 361/500\n",
            "\u001b[1m15/15\u001b[0m \u001b[32m━━━━━━━━━━━━━━━━━━━━\u001b[0m\u001b[37m\u001b[0m \u001b[1m1s\u001b[0m 47ms/step - accuracy: 0.5312 - loss: 0.9258 - val_accuracy: 0.5311 - val_loss: 0.9522\n",
            "Epoch 362/500\n",
            "\u001b[1m15/15\u001b[0m \u001b[32m━━━━━━━━━━━━━━━━━━━━\u001b[0m\u001b[37m\u001b[0m \u001b[1m1s\u001b[0m 47ms/step - accuracy: 0.5523 - loss: 0.8617 - val_accuracy: 0.5622 - val_loss: 0.9284\n",
            "Epoch 363/500\n",
            "\u001b[1m15/15\u001b[0m \u001b[32m━━━━━━━━━━━━━━━━━━━━\u001b[0m\u001b[37m\u001b[0m \u001b[1m1s\u001b[0m 48ms/step - accuracy: 0.5799 - loss: 0.8474 - val_accuracy: 0.5844 - val_loss: 0.9231\n",
            "Epoch 364/500\n",
            "\u001b[1m15/15\u001b[0m \u001b[32m━━━━━━━━━━━━━━━━━━━━\u001b[0m\u001b[37m\u001b[0m \u001b[1m2s\u001b[0m 67ms/step - accuracy: 0.5858 - loss: 0.8450 - val_accuracy: 0.5467 - val_loss: 0.9256\n",
            "Epoch 365/500\n",
            "\u001b[1m15/15\u001b[0m \u001b[32m━━━━━━━━━━━━━━━━━━━━\u001b[0m\u001b[37m\u001b[0m \u001b[1m1s\u001b[0m 58ms/step - accuracy: 0.5659 - loss: 0.8737 - val_accuracy: 0.5444 - val_loss: 0.9558\n",
            "Epoch 366/500\n",
            "\u001b[1m15/15\u001b[0m \u001b[32m━━━━━━━━━━━━━━━━━━━━\u001b[0m\u001b[37m\u001b[0m \u001b[1m1s\u001b[0m 48ms/step - accuracy: 0.5783 - loss: 0.8430 - val_accuracy: 0.5556 - val_loss: 0.9532\n",
            "Epoch 367/500\n",
            "\u001b[1m15/15\u001b[0m \u001b[32m━━━━━━━━━━━━━━━━━━━━\u001b[0m\u001b[37m\u001b[0m \u001b[1m1s\u001b[0m 48ms/step - accuracy: 0.5744 - loss: 0.8503 - val_accuracy: 0.5711 - val_loss: 0.9335\n",
            "Epoch 368/500\n",
            "\u001b[1m15/15\u001b[0m \u001b[32m━━━━━━━━━━━━━━━━━━━━\u001b[0m\u001b[37m\u001b[0m \u001b[1m1s\u001b[0m 47ms/step - accuracy: 0.6044 - loss: 0.8162 - val_accuracy: 0.5733 - val_loss: 0.9784\n",
            "Epoch 369/500\n",
            "\u001b[1m15/15\u001b[0m \u001b[32m━━━━━━━━━━━━━━━━━━━━\u001b[0m\u001b[37m\u001b[0m \u001b[1m1s\u001b[0m 46ms/step - accuracy: 0.6378 - loss: 0.7757 - val_accuracy: 0.5644 - val_loss: 1.0418\n",
            "Epoch 370/500\n",
            "\u001b[1m15/15\u001b[0m \u001b[32m━━━━━━━━━━━━━━━━━━━━\u001b[0m\u001b[37m\u001b[0m \u001b[1m1s\u001b[0m 48ms/step - accuracy: 0.6622 - loss: 0.7603 - val_accuracy: 0.5844 - val_loss: 1.0859\n",
            "Epoch 371/500\n",
            "\u001b[1m15/15\u001b[0m \u001b[32m━━━━━━━━━━━━━━━━━━━━\u001b[0m\u001b[37m\u001b[0m \u001b[1m1s\u001b[0m 49ms/step - accuracy: 0.6982 - loss: 0.7022 - val_accuracy: 0.5644 - val_loss: 1.0392\n",
            "Epoch 372/500\n",
            "\u001b[1m15/15\u001b[0m \u001b[32m━━━━━━━━━━━━━━━━━━━━\u001b[0m\u001b[37m\u001b[0m \u001b[1m1s\u001b[0m 47ms/step - accuracy: 0.6601 - loss: 0.7403 - val_accuracy: 0.5644 - val_loss: 1.0122\n",
            "Epoch 373/500\n",
            "\u001b[1m15/15\u001b[0m \u001b[32m━━━━━━━━━━━━━━━━━━━━\u001b[0m\u001b[37m\u001b[0m \u001b[1m1s\u001b[0m 47ms/step - accuracy: 0.6776 - loss: 0.7287 - val_accuracy: 0.5644 - val_loss: 1.0063\n",
            "Epoch 374/500\n",
            "\u001b[1m15/15\u001b[0m \u001b[32m━━━━━━━━━━━━━━━━━━━━\u001b[0m\u001b[37m\u001b[0m \u001b[1m1s\u001b[0m 46ms/step - accuracy: 0.6438 - loss: 0.7752 - val_accuracy: 0.5800 - val_loss: 0.9987\n",
            "Epoch 375/500\n",
            "\u001b[1m15/15\u001b[0m \u001b[32m━━━━━━━━━━━━━━━━━━━━\u001b[0m\u001b[37m\u001b[0m \u001b[1m1s\u001b[0m 48ms/step - accuracy: 0.6723 - loss: 0.7458 - val_accuracy: 0.5978 - val_loss: 1.0280\n",
            "Epoch 376/500\n",
            "\u001b[1m15/15\u001b[0m \u001b[32m━━━━━━━━━━━━━━━━━━━━\u001b[0m\u001b[37m\u001b[0m \u001b[1m1s\u001b[0m 79ms/step - accuracy: 0.6479 - loss: 0.7702 - val_accuracy: 0.5933 - val_loss: 1.0210\n",
            "Epoch 377/500\n",
            "\u001b[1m15/15\u001b[0m \u001b[32m━━━━━━━━━━━━━━━━━━━━\u001b[0m\u001b[37m\u001b[0m \u001b[1m1s\u001b[0m 70ms/step - accuracy: 0.6638 - loss: 0.7636 - val_accuracy: 0.5956 - val_loss: 0.9574\n",
            "Epoch 378/500\n",
            "\u001b[1m15/15\u001b[0m \u001b[32m━━━━━━━━━━━━━━━━━━━━\u001b[0m\u001b[37m\u001b[0m \u001b[1m1s\u001b[0m 47ms/step - accuracy: 0.6083 - loss: 0.8193 - val_accuracy: 0.5422 - val_loss: 1.1776\n",
            "Epoch 379/500\n",
            "\u001b[1m15/15\u001b[0m \u001b[32m━━━━━━━━━━━━━━━━━━━━\u001b[0m\u001b[37m\u001b[0m \u001b[1m1s\u001b[0m 48ms/step - accuracy: 0.5694 - loss: 0.8609 - val_accuracy: 0.4956 - val_loss: 0.9523\n",
            "Epoch 380/500\n",
            "\u001b[1m15/15\u001b[0m \u001b[32m━━━━━━━━━━━━━━━━━━━━\u001b[0m\u001b[37m\u001b[0m \u001b[1m1s\u001b[0m 48ms/step - accuracy: 0.5091 - loss: 0.8992 - val_accuracy: 0.5044 - val_loss: 1.0269\n",
            "Epoch 381/500\n",
            "\u001b[1m15/15\u001b[0m \u001b[32m━━━━━━━━━━━━━━━━━━━━\u001b[0m\u001b[37m\u001b[0m \u001b[1m1s\u001b[0m 49ms/step - accuracy: 0.5518 - loss: 0.8487 - val_accuracy: 0.5644 - val_loss: 1.1357\n",
            "Epoch 382/500\n",
            "\u001b[1m15/15\u001b[0m \u001b[32m━━━━━━━━━━━━━━━━━━━━\u001b[0m\u001b[37m\u001b[0m \u001b[1m1s\u001b[0m 48ms/step - accuracy: 0.6161 - loss: 0.7941 - val_accuracy: 0.5756 - val_loss: 1.0117\n",
            "Epoch 383/500\n",
            "\u001b[1m15/15\u001b[0m \u001b[32m━━━━━━━━━━━━━━━━━━━━\u001b[0m\u001b[37m\u001b[0m \u001b[1m1s\u001b[0m 49ms/step - accuracy: 0.6390 - loss: 0.7851 - val_accuracy: 0.5711 - val_loss: 1.0949\n",
            "Epoch 384/500\n",
            "\u001b[1m15/15\u001b[0m \u001b[32m━━━━━━━━━━━━━━━━━━━━\u001b[0m\u001b[37m\u001b[0m \u001b[1m1s\u001b[0m 60ms/step - accuracy: 0.6560 - loss: 0.7569 - val_accuracy: 0.5844 - val_loss: 1.1315\n",
            "Epoch 385/500\n",
            "\u001b[1m15/15\u001b[0m \u001b[32m━━━━━━━━━━━━━━━━━━━━\u001b[0m\u001b[37m\u001b[0m \u001b[1m1s\u001b[0m 52ms/step - accuracy: 0.6367 - loss: 0.7747 - val_accuracy: 0.5822 - val_loss: 0.9353\n",
            "Epoch 386/500\n",
            "\u001b[1m15/15\u001b[0m \u001b[32m━━━━━━━━━━━━━━━━━━━━\u001b[0m\u001b[37m\u001b[0m \u001b[1m1s\u001b[0m 49ms/step - accuracy: 0.6462 - loss: 0.7675 - val_accuracy: 0.5178 - val_loss: 0.9931\n",
            "Epoch 387/500\n",
            "\u001b[1m15/15\u001b[0m \u001b[32m━━━━━━━━━━━━━━━━━━━━\u001b[0m\u001b[37m\u001b[0m \u001b[1m1s\u001b[0m 47ms/step - accuracy: 0.5798 - loss: 0.8421 - val_accuracy: 0.5133 - val_loss: 1.0967\n",
            "Epoch 388/500\n",
            "\u001b[1m15/15\u001b[0m \u001b[32m━━━━━━━━━━━━━━━━━━━━\u001b[0m\u001b[37m\u001b[0m \u001b[1m1s\u001b[0m 74ms/step - accuracy: 0.5859 - loss: 0.8297 - val_accuracy: 0.5689 - val_loss: 0.9479\n",
            "Epoch 389/500\n",
            "\u001b[1m15/15\u001b[0m \u001b[32m━━━━━━━━━━━━━━━━━━━━\u001b[0m\u001b[37m\u001b[0m \u001b[1m1s\u001b[0m 78ms/step - accuracy: 0.6428 - loss: 0.7859 - val_accuracy: 0.5467 - val_loss: 0.9634\n",
            "Epoch 390/500\n",
            "\u001b[1m15/15\u001b[0m \u001b[32m━━━━━━━━━━━━━━━━━━━━\u001b[0m\u001b[37m\u001b[0m \u001b[1m1s\u001b[0m 48ms/step - accuracy: 0.6340 - loss: 0.7854 - val_accuracy: 0.5311 - val_loss: 0.9444\n",
            "Epoch 391/500\n",
            "\u001b[1m15/15\u001b[0m \u001b[32m━━━━━━━━━━━━━━━━━━━━\u001b[0m\u001b[37m\u001b[0m \u001b[1m1s\u001b[0m 46ms/step - accuracy: 0.6072 - loss: 0.8061 - val_accuracy: 0.5978 - val_loss: 0.9760\n",
            "Epoch 392/500\n",
            "\u001b[1m15/15\u001b[0m \u001b[32m━━━━━━━━━━━━━━━━━━━━\u001b[0m\u001b[37m\u001b[0m \u001b[1m1s\u001b[0m 50ms/step - accuracy: 0.6622 - loss: 0.7278 - val_accuracy: 0.5711 - val_loss: 1.0204\n",
            "Epoch 393/500\n",
            "\u001b[1m15/15\u001b[0m \u001b[32m━━━━━━━━━━━━━━━━━━━━\u001b[0m\u001b[37m\u001b[0m \u001b[1m1s\u001b[0m 51ms/step - accuracy: 0.6606 - loss: 0.7505 - val_accuracy: 0.6000 - val_loss: 0.9987\n",
            "Epoch 394/500\n",
            "\u001b[1m15/15\u001b[0m \u001b[32m━━━━━━━━━━━━━━━━━━━━\u001b[0m\u001b[37m\u001b[0m \u001b[1m1s\u001b[0m 50ms/step - accuracy: 0.6782 - loss: 0.7033 - val_accuracy: 0.5889 - val_loss: 1.1899\n",
            "Epoch 395/500\n",
            "\u001b[1m15/15\u001b[0m \u001b[32m━━━━━━━━━━━━━━━━━━━━\u001b[0m\u001b[37m\u001b[0m \u001b[1m1s\u001b[0m 48ms/step - accuracy: 0.7142 - loss: 0.6678 - val_accuracy: 0.5867 - val_loss: 1.1693\n",
            "Epoch 396/500\n",
            "\u001b[1m15/15\u001b[0m \u001b[32m━━━━━━━━━━━━━━━━━━━━\u001b[0m\u001b[37m\u001b[0m \u001b[1m1s\u001b[0m 49ms/step - accuracy: 0.6843 - loss: 0.6934 - val_accuracy: 0.6289 - val_loss: 1.1642\n",
            "Epoch 397/500\n",
            "\u001b[1m15/15\u001b[0m \u001b[32m━━━━━━━━━━━━━━━━━━━━\u001b[0m\u001b[37m\u001b[0m \u001b[1m1s\u001b[0m 49ms/step - accuracy: 0.7240 - loss: 0.6618 - val_accuracy: 0.6200 - val_loss: 1.2178\n",
            "Epoch 398/500\n",
            "\u001b[1m15/15\u001b[0m \u001b[32m━━━━━━━━━━━━━━━━━━━━\u001b[0m\u001b[37m\u001b[0m \u001b[1m1s\u001b[0m 47ms/step - accuracy: 0.7033 - loss: 0.6858 - val_accuracy: 0.6311 - val_loss: 1.3215\n",
            "Epoch 399/500\n",
            "\u001b[1m15/15\u001b[0m \u001b[32m━━━━━━━━━━━━━━━━━━━━\u001b[0m\u001b[37m\u001b[0m \u001b[1m1s\u001b[0m 49ms/step - accuracy: 0.7485 - loss: 0.6400 - val_accuracy: 0.6022 - val_loss: 1.1319\n",
            "Epoch 400/500\n",
            "\u001b[1m15/15\u001b[0m \u001b[32m━━━━━━━━━━━━━━━━━━━━\u001b[0m\u001b[37m\u001b[0m \u001b[1m2s\u001b[0m 67ms/step - accuracy: 0.7243 - loss: 0.6515 - val_accuracy: 0.5644 - val_loss: 1.0115\n",
            "Epoch 401/500\n",
            "\u001b[1m15/15\u001b[0m \u001b[32m━━━━━━━━━━━━━━━━━━━━\u001b[0m\u001b[37m\u001b[0m \u001b[1m1s\u001b[0m 66ms/step - accuracy: 0.6169 - loss: 0.7978 - val_accuracy: 0.5756 - val_loss: 0.9935\n",
            "Epoch 402/500\n",
            "\u001b[1m15/15\u001b[0m \u001b[32m━━━━━━━━━━━━━━━━━━━━\u001b[0m\u001b[37m\u001b[0m \u001b[1m1s\u001b[0m 53ms/step - accuracy: 0.6293 - loss: 0.7795 - val_accuracy: 0.6089 - val_loss: 1.0657\n",
            "Epoch 403/500\n",
            "\u001b[1m15/15\u001b[0m \u001b[32m━━━━━━━━━━━━━━━━━━━━\u001b[0m\u001b[37m\u001b[0m \u001b[1m1s\u001b[0m 49ms/step - accuracy: 0.6957 - loss: 0.7010 - val_accuracy: 0.6311 - val_loss: 1.0796\n",
            "Epoch 404/500\n",
            "\u001b[1m15/15\u001b[0m \u001b[32m━━━━━━━━━━━━━━━━━━━━\u001b[0m\u001b[37m\u001b[0m \u001b[1m1s\u001b[0m 49ms/step - accuracy: 0.6851 - loss: 0.6950 - val_accuracy: 0.5667 - val_loss: 1.0533\n",
            "Epoch 405/500\n",
            "\u001b[1m15/15\u001b[0m \u001b[32m━━━━━━━━━━━━━━━━━━━━\u001b[0m\u001b[37m\u001b[0m \u001b[1m1s\u001b[0m 49ms/step - accuracy: 0.6739 - loss: 0.7121 - val_accuracy: 0.5956 - val_loss: 1.1721\n",
            "Epoch 406/500\n",
            "\u001b[1m15/15\u001b[0m \u001b[32m━━━━━━━━━━━━━━━━━━━━\u001b[0m\u001b[37m\u001b[0m \u001b[1m1s\u001b[0m 61ms/step - accuracy: 0.7128 - loss: 0.6643 - val_accuracy: 0.6044 - val_loss: 1.1237\n",
            "Epoch 407/500\n",
            "\u001b[1m15/15\u001b[0m \u001b[32m━━━━━━━━━━━━━━━━━━━━\u001b[0m\u001b[37m\u001b[0m \u001b[1m1s\u001b[0m 52ms/step - accuracy: 0.6743 - loss: 0.7297 - val_accuracy: 0.5644 - val_loss: 1.0356\n",
            "Epoch 408/500\n",
            "\u001b[1m15/15\u001b[0m \u001b[32m━━━━━━━━━━━━━━━━━━━━\u001b[0m\u001b[37m\u001b[0m \u001b[1m1s\u001b[0m 48ms/step - accuracy: 0.6041 - loss: 0.8201 - val_accuracy: 0.5711 - val_loss: 0.9384\n",
            "Epoch 409/500\n",
            "\u001b[1m15/15\u001b[0m \u001b[32m━━━━━━━━━━━━━━━━━━━━\u001b[0m\u001b[37m\u001b[0m \u001b[1m1s\u001b[0m 47ms/step - accuracy: 0.6576 - loss: 0.7449 - val_accuracy: 0.5600 - val_loss: 0.9594\n",
            "Epoch 410/500\n",
            "\u001b[1m15/15\u001b[0m \u001b[32m━━━━━━━━━━━━━━━━━━━━\u001b[0m\u001b[37m\u001b[0m \u001b[1m1s\u001b[0m 48ms/step - accuracy: 0.6002 - loss: 0.8018 - val_accuracy: 0.5778 - val_loss: 1.0012\n",
            "Epoch 411/500\n",
            "\u001b[1m15/15\u001b[0m \u001b[32m━━━━━━━━━━━━━━━━━━━━\u001b[0m\u001b[37m\u001b[0m \u001b[1m1s\u001b[0m 49ms/step - accuracy: 0.6230 - loss: 0.7692 - val_accuracy: 0.6000 - val_loss: 1.1089\n",
            "Epoch 412/500\n",
            "\u001b[1m15/15\u001b[0m \u001b[32m━━━━━━━━━━━━━━━━━━━━\u001b[0m\u001b[37m\u001b[0m \u001b[1m1s\u001b[0m 53ms/step - accuracy: 0.7032 - loss: 0.6809 - val_accuracy: 0.5933 - val_loss: 1.1122\n",
            "Epoch 413/500\n",
            "\u001b[1m15/15\u001b[0m \u001b[32m━━━━━━━━━━━━━━━━━━━━\u001b[0m\u001b[37m\u001b[0m \u001b[1m1s\u001b[0m 70ms/step - accuracy: 0.6881 - loss: 0.7104 - val_accuracy: 0.5956 - val_loss: 1.0840\n",
            "Epoch 414/500\n",
            "\u001b[1m15/15\u001b[0m \u001b[32m━━━━━━━━━━━━━━━━━━━━\u001b[0m\u001b[37m\u001b[0m \u001b[1m1s\u001b[0m 78ms/step - accuracy: 0.6908 - loss: 0.6891 - val_accuracy: 0.5933 - val_loss: 1.1151\n",
            "Epoch 415/500\n",
            "\u001b[1m15/15\u001b[0m \u001b[32m━━━━━━━━━━━━━━━━━━━━\u001b[0m\u001b[37m\u001b[0m \u001b[1m1s\u001b[0m 51ms/step - accuracy: 0.7100 - loss: 0.6760 - val_accuracy: 0.5733 - val_loss: 1.0437\n",
            "Epoch 416/500\n",
            "\u001b[1m15/15\u001b[0m \u001b[32m━━━━━━━━━━━━━━━━━━━━\u001b[0m\u001b[37m\u001b[0m \u001b[1m1s\u001b[0m 47ms/step - accuracy: 0.6554 - loss: 0.7328 - val_accuracy: 0.5733 - val_loss: 1.0237\n",
            "Epoch 417/500\n",
            "\u001b[1m15/15\u001b[0m \u001b[32m━━━━━━━━━━━━━━━━━━━━\u001b[0m\u001b[37m\u001b[0m \u001b[1m1s\u001b[0m 61ms/step - accuracy: 0.6700 - loss: 0.7266 - val_accuracy: 0.5867 - val_loss: 1.0487\n",
            "Epoch 418/500\n",
            "\u001b[1m15/15\u001b[0m \u001b[32m━━━━━━━━━━━━━━━━━━━━\u001b[0m\u001b[37m\u001b[0m \u001b[1m1s\u001b[0m 59ms/step - accuracy: 0.6914 - loss: 0.6901 - val_accuracy: 0.5911 - val_loss: 1.1241\n",
            "Epoch 419/500\n",
            "\u001b[1m15/15\u001b[0m \u001b[32m━━━━━━━━━━━━━━━━━━━━\u001b[0m\u001b[37m\u001b[0m \u001b[1m1s\u001b[0m 46ms/step - accuracy: 0.6757 - loss: 0.7147 - val_accuracy: 0.5733 - val_loss: 1.3259\n",
            "Epoch 420/500\n",
            "\u001b[1m15/15\u001b[0m \u001b[32m━━━━━━━━━━━━━━━━━━━━\u001b[0m\u001b[37m\u001b[0m \u001b[1m1s\u001b[0m 50ms/step - accuracy: 0.7104 - loss: 0.6680 - val_accuracy: 0.6000 - val_loss: 1.2221\n",
            "Epoch 421/500\n",
            "\u001b[1m15/15\u001b[0m \u001b[32m━━━━━━━━━━━━━━━━━━━━\u001b[0m\u001b[37m\u001b[0m \u001b[1m1s\u001b[0m 48ms/step - accuracy: 0.7171 - loss: 0.6659 - val_accuracy: 0.5756 - val_loss: 1.0134\n",
            "Epoch 422/500\n",
            "\u001b[1m15/15\u001b[0m \u001b[32m━━━━━━━━━━━━━━━━━━━━\u001b[0m\u001b[37m\u001b[0m \u001b[1m1s\u001b[0m 49ms/step - accuracy: 0.6649 - loss: 0.7437 - val_accuracy: 0.5933 - val_loss: 1.0478\n",
            "Epoch 423/500\n",
            "\u001b[1m15/15\u001b[0m \u001b[32m━━━━━━━━━━━━━━━━━━━━\u001b[0m\u001b[37m\u001b[0m \u001b[1m1s\u001b[0m 48ms/step - accuracy: 0.6877 - loss: 0.6915 - val_accuracy: 0.5733 - val_loss: 1.0338\n",
            "Epoch 424/500\n",
            "\u001b[1m15/15\u001b[0m \u001b[32m━━━━━━━━━━━━━━━━━━━━\u001b[0m\u001b[37m\u001b[0m \u001b[1m1s\u001b[0m 53ms/step - accuracy: 0.6318 - loss: 0.7711 - val_accuracy: 0.5778 - val_loss: 1.0572\n",
            "Epoch 425/500\n",
            "\u001b[1m15/15\u001b[0m \u001b[32m━━━━━━━━━━━━━━━━━━━━\u001b[0m\u001b[37m\u001b[0m \u001b[1m1s\u001b[0m 46ms/step - accuracy: 0.6457 - loss: 0.7731 - val_accuracy: 0.5533 - val_loss: 0.9405\n",
            "Epoch 426/500\n",
            "\u001b[1m15/15\u001b[0m \u001b[32m━━━━━━━━━━━━━━━━━━━━\u001b[0m\u001b[37m\u001b[0m \u001b[1m1s\u001b[0m 67ms/step - accuracy: 0.5813 - loss: 0.8308 - val_accuracy: 0.5733 - val_loss: 1.2069\n",
            "Epoch 427/500\n",
            "\u001b[1m15/15\u001b[0m \u001b[32m━━━━━━━━━━━━━━━━━━━━\u001b[0m\u001b[37m\u001b[0m \u001b[1m1s\u001b[0m 78ms/step - accuracy: 0.6505 - loss: 0.7646 - val_accuracy: 0.5733 - val_loss: 1.1051\n",
            "Epoch 428/500\n",
            "\u001b[1m15/15\u001b[0m \u001b[32m━━━━━━━━━━━━━━━━━━━━\u001b[0m\u001b[37m\u001b[0m \u001b[1m1s\u001b[0m 48ms/step - accuracy: 0.6835 - loss: 0.7197 - val_accuracy: 0.5733 - val_loss: 1.1657\n",
            "Epoch 429/500\n",
            "\u001b[1m15/15\u001b[0m \u001b[32m━━━━━━━━━━━━━━━━━━━━\u001b[0m\u001b[37m\u001b[0m \u001b[1m1s\u001b[0m 49ms/step - accuracy: 0.6864 - loss: 0.7044 - val_accuracy: 0.5533 - val_loss: 0.9859\n",
            "Epoch 430/500\n",
            "\u001b[1m15/15\u001b[0m \u001b[32m━━━━━━━━━━━━━━━━━━━━\u001b[0m\u001b[37m\u001b[0m \u001b[1m1s\u001b[0m 49ms/step - accuracy: 0.6250 - loss: 0.7563 - val_accuracy: 0.5711 - val_loss: 1.0974\n",
            "Epoch 431/500\n",
            "\u001b[1m15/15\u001b[0m \u001b[32m━━━━━━━━━━━━━━━━━━━━\u001b[0m\u001b[37m\u001b[0m \u001b[1m1s\u001b[0m 54ms/step - accuracy: 0.6741 - loss: 0.7082 - val_accuracy: 0.5733 - val_loss: 1.3053\n",
            "Epoch 432/500\n",
            "\u001b[1m15/15\u001b[0m \u001b[32m━━━━━━━━━━━━━━━━━━━━\u001b[0m\u001b[37m\u001b[0m \u001b[1m1s\u001b[0m 60ms/step - accuracy: 0.7190 - loss: 0.6547 - val_accuracy: 0.5644 - val_loss: 1.3056\n",
            "Epoch 433/500\n",
            "\u001b[1m15/15\u001b[0m \u001b[32m━━━━━━━━━━━━━━━━━━━━\u001b[0m\u001b[37m\u001b[0m \u001b[1m1s\u001b[0m 47ms/step - accuracy: 0.6922 - loss: 0.6928 - val_accuracy: 0.5933 - val_loss: 1.2593\n",
            "Epoch 434/500\n",
            "\u001b[1m15/15\u001b[0m \u001b[32m━━━━━━━━━━━━━━━━━━━━\u001b[0m\u001b[37m\u001b[0m \u001b[1m1s\u001b[0m 48ms/step - accuracy: 0.7310 - loss: 0.6355 - val_accuracy: 0.5911 - val_loss: 1.1591\n",
            "Epoch 435/500\n",
            "\u001b[1m15/15\u001b[0m \u001b[32m━━━━━━━━━━━━━━━━━━━━\u001b[0m\u001b[37m\u001b[0m \u001b[1m1s\u001b[0m 49ms/step - accuracy: 0.7131 - loss: 0.6601 - val_accuracy: 0.5911 - val_loss: 1.2470\n",
            "Epoch 436/500\n",
            "\u001b[1m15/15\u001b[0m \u001b[32m━━━━━━━━━━━━━━━━━━━━\u001b[0m\u001b[37m\u001b[0m \u001b[1m1s\u001b[0m 49ms/step - accuracy: 0.6873 - loss: 0.7644 - val_accuracy: 0.4356 - val_loss: 2.1975\n",
            "Epoch 437/500\n",
            "\u001b[1m15/15\u001b[0m \u001b[32m━━━━━━━━━━━━━━━━━━━━\u001b[0m\u001b[37m\u001b[0m \u001b[1m1s\u001b[0m 48ms/step - accuracy: 0.6398 - loss: 1.0358 - val_accuracy: 0.5822 - val_loss: 1.0698\n",
            "Epoch 438/500\n",
            "\u001b[1m15/15\u001b[0m \u001b[32m━━━━━━━━━━━━━━━━━━━━\u001b[0m\u001b[37m\u001b[0m \u001b[1m2s\u001b[0m 70ms/step - accuracy: 0.6400 - loss: 0.7772 - val_accuracy: 0.5756 - val_loss: 1.0658\n",
            "Epoch 439/500\n",
            "\u001b[1m15/15\u001b[0m \u001b[32m━━━━━━━━━━━━━━━━━━━━\u001b[0m\u001b[37m\u001b[0m \u001b[1m1s\u001b[0m 60ms/step - accuracy: 0.6939 - loss: 0.7154 - val_accuracy: 0.5889 - val_loss: 1.1606\n",
            "Epoch 440/500\n",
            "\u001b[1m15/15\u001b[0m \u001b[32m━━━━━━━━━━━━━━━━━━━━\u001b[0m\u001b[37m\u001b[0m \u001b[1m1s\u001b[0m 49ms/step - accuracy: 0.7272 - loss: 0.6520 - val_accuracy: 0.6467 - val_loss: 1.1026\n",
            "Epoch 441/500\n",
            "\u001b[1m15/15\u001b[0m \u001b[32m━━━━━━━━━━━━━━━━━━━━\u001b[0m\u001b[37m\u001b[0m \u001b[1m1s\u001b[0m 48ms/step - accuracy: 0.7823 - loss: 0.5756 - val_accuracy: 0.6200 - val_loss: 1.1711\n",
            "Epoch 442/500\n",
            "\u001b[1m15/15\u001b[0m \u001b[32m━━━━━━━━━━━━━━━━━━━━\u001b[0m\u001b[37m\u001b[0m \u001b[1m1s\u001b[0m 52ms/step - accuracy: 0.7301 - loss: 0.6350 - val_accuracy: 0.6044 - val_loss: 1.0886\n",
            "Epoch 443/500\n",
            "\u001b[1m15/15\u001b[0m \u001b[32m━━━━━━━━━━━━━━━━━━━━\u001b[0m\u001b[37m\u001b[0m \u001b[1m1s\u001b[0m 49ms/step - accuracy: 0.7156 - loss: 0.6535 - val_accuracy: 0.6022 - val_loss: 1.1303\n",
            "Epoch 444/500\n",
            "\u001b[1m15/15\u001b[0m \u001b[32m━━━━━━━━━━━━━━━━━━━━\u001b[0m\u001b[37m\u001b[0m \u001b[1m1s\u001b[0m 49ms/step - accuracy: 0.7224 - loss: 0.6452 - val_accuracy: 0.6467 - val_loss: 1.0083\n",
            "Epoch 445/500\n",
            "\u001b[1m15/15\u001b[0m \u001b[32m━━━━━━━━━━━━━━━━━━━━\u001b[0m\u001b[37m\u001b[0m \u001b[1m1s\u001b[0m 49ms/step - accuracy: 0.7248 - loss: 0.6623 - val_accuracy: 0.6022 - val_loss: 1.0087\n",
            "Epoch 446/500\n",
            "\u001b[1m15/15\u001b[0m \u001b[32m━━━━━━━━━━━━━━━━━━━━\u001b[0m\u001b[37m\u001b[0m \u001b[1m1s\u001b[0m 48ms/step - accuracy: 0.7256 - loss: 0.6435 - val_accuracy: 0.6133 - val_loss: 1.1534\n",
            "Epoch 447/500\n",
            "\u001b[1m15/15\u001b[0m \u001b[32m━━━━━━━━━━━━━━━━━━━━\u001b[0m\u001b[37m\u001b[0m \u001b[1m1s\u001b[0m 48ms/step - accuracy: 0.6747 - loss: 0.7257 - val_accuracy: 0.5956 - val_loss: 1.1673\n",
            "Epoch 448/500\n",
            "\u001b[1m15/15\u001b[0m \u001b[32m━━━━━━━━━━━━━━━━━━━━\u001b[0m\u001b[37m\u001b[0m \u001b[1m1s\u001b[0m 49ms/step - accuracy: 0.6818 - loss: 0.7472 - val_accuracy: 0.5911 - val_loss: 1.0322\n",
            "Epoch 449/500\n",
            "\u001b[1m15/15\u001b[0m \u001b[32m━━━━━━━━━━━━━━━━━━━━\u001b[0m\u001b[37m\u001b[0m \u001b[1m1s\u001b[0m 76ms/step - accuracy: 0.6728 - loss: 0.7246 - val_accuracy: 0.6244 - val_loss: 0.9163\n",
            "Epoch 450/500\n",
            "\u001b[1m15/15\u001b[0m \u001b[32m━━━━━━━━━━━━━━━━━━━━\u001b[0m\u001b[37m\u001b[0m \u001b[1m1s\u001b[0m 77ms/step - accuracy: 0.6852 - loss: 0.7115 - val_accuracy: 0.6178 - val_loss: 0.9970\n",
            "Epoch 451/500\n",
            "\u001b[1m15/15\u001b[0m \u001b[32m━━━━━━━━━━━━━━━━━━━━\u001b[0m\u001b[37m\u001b[0m \u001b[1m1s\u001b[0m 50ms/step - accuracy: 0.7014 - loss: 0.6807 - val_accuracy: 0.6222 - val_loss: 0.9950\n",
            "Epoch 452/500\n",
            "\u001b[1m15/15\u001b[0m \u001b[32m━━━━━━━━━━━━━━━━━━━━\u001b[0m\u001b[37m\u001b[0m \u001b[1m1s\u001b[0m 50ms/step - accuracy: 0.7097 - loss: 0.6654 - val_accuracy: 0.6400 - val_loss: 1.0383\n",
            "Epoch 453/500\n",
            "\u001b[1m15/15\u001b[0m \u001b[32m━━━━━━━━━━━━━━━━━━━━\u001b[0m\u001b[37m\u001b[0m \u001b[1m1s\u001b[0m 48ms/step - accuracy: 0.7607 - loss: 0.5943 - val_accuracy: 0.6333 - val_loss: 1.0854\n",
            "Epoch 454/500\n",
            "\u001b[1m15/15\u001b[0m \u001b[32m━━━━━━━━━━━━━━━━━━━━\u001b[0m\u001b[37m\u001b[0m \u001b[1m1s\u001b[0m 49ms/step - accuracy: 0.7478 - loss: 0.6161 - val_accuracy: 0.6267 - val_loss: 1.1018\n",
            "Epoch 455/500\n",
            "\u001b[1m15/15\u001b[0m \u001b[32m━━━━━━━━━━━━━━━━━━━━\u001b[0m\u001b[37m\u001b[0m \u001b[1m1s\u001b[0m 52ms/step - accuracy: 0.7626 - loss: 0.5816 - val_accuracy: 0.5889 - val_loss: 1.4399\n",
            "Epoch 456/500\n",
            "\u001b[1m15/15\u001b[0m \u001b[32m━━━━━━━━━━━━━━━━━━━━\u001b[0m\u001b[37m\u001b[0m \u001b[1m1s\u001b[0m 53ms/step - accuracy: 0.7209 - loss: 0.6678 - val_accuracy: 0.5933 - val_loss: 1.0949\n",
            "Epoch 457/500\n",
            "\u001b[1m15/15\u001b[0m \u001b[32m━━━━━━━━━━━━━━━━━━━━\u001b[0m\u001b[37m\u001b[0m \u001b[1m1s\u001b[0m 47ms/step - accuracy: 0.7149 - loss: 0.6515 - val_accuracy: 0.6067 - val_loss: 1.2738\n",
            "Epoch 458/500\n",
            "\u001b[1m15/15\u001b[0m \u001b[32m━━━━━━━━━━━━━━━━━━━━\u001b[0m\u001b[37m\u001b[0m \u001b[1m1s\u001b[0m 49ms/step - accuracy: 0.7255 - loss: 0.6316 - val_accuracy: 0.6000 - val_loss: 1.2001\n",
            "Epoch 459/500\n",
            "\u001b[1m15/15\u001b[0m \u001b[32m━━━━━━━━━━━━━━━━━━━━\u001b[0m\u001b[37m\u001b[0m \u001b[1m1s\u001b[0m 49ms/step - accuracy: 0.7118 - loss: 0.6511 - val_accuracy: 0.6222 - val_loss: 1.3148\n",
            "Epoch 460/500\n",
            "\u001b[1m15/15\u001b[0m \u001b[32m━━━━━━━━━━━━━━━━━━━━\u001b[0m\u001b[37m\u001b[0m \u001b[1m1s\u001b[0m 64ms/step - accuracy: 0.6683 - loss: 0.7127 - val_accuracy: 0.6067 - val_loss: 1.3458\n",
            "Epoch 461/500\n",
            "\u001b[1m15/15\u001b[0m \u001b[32m━━━━━━━━━━━━━━━━━━━━\u001b[0m\u001b[37m\u001b[0m \u001b[1m1s\u001b[0m 75ms/step - accuracy: 0.7219 - loss: 0.6382 - val_accuracy: 0.5889 - val_loss: 1.1128\n",
            "Epoch 462/500\n",
            "\u001b[1m15/15\u001b[0m \u001b[32m━━━━━━━━━━━━━━━━━━━━\u001b[0m\u001b[37m\u001b[0m \u001b[1m1s\u001b[0m 50ms/step - accuracy: 0.6809 - loss: 0.6803 - val_accuracy: 0.6156 - val_loss: 1.1219\n",
            "Epoch 463/500\n",
            "\u001b[1m15/15\u001b[0m \u001b[32m━━━━━━━━━━━━━━━━━━━━\u001b[0m\u001b[37m\u001b[0m \u001b[1m1s\u001b[0m 48ms/step - accuracy: 0.7433 - loss: 0.6038 - val_accuracy: 0.6489 - val_loss: 1.3336\n",
            "Epoch 464/500\n",
            "\u001b[1m15/15\u001b[0m \u001b[32m━━━━━━━━━━━━━━━━━━━━\u001b[0m\u001b[37m\u001b[0m \u001b[1m1s\u001b[0m 50ms/step - accuracy: 0.7898 - loss: 0.5381 - val_accuracy: 0.6333 - val_loss: 1.3138\n",
            "Epoch 465/500\n",
            "\u001b[1m15/15\u001b[0m \u001b[32m━━━━━━━━━━━━━━━━━━━━\u001b[0m\u001b[37m\u001b[0m \u001b[1m1s\u001b[0m 47ms/step - accuracy: 0.7841 - loss: 0.5559 - val_accuracy: 0.6422 - val_loss: 1.0871\n",
            "Epoch 466/500\n",
            "\u001b[1m15/15\u001b[0m \u001b[32m━━━━━━━━━━━━━━━━━━━━\u001b[0m\u001b[37m\u001b[0m \u001b[1m1s\u001b[0m 48ms/step - accuracy: 0.7111 - loss: 0.7058 - val_accuracy: 0.6378 - val_loss: 0.9773\n",
            "Epoch 467/500\n",
            "\u001b[1m15/15\u001b[0m \u001b[32m━━━━━━━━━━━━━━━━━━━━\u001b[0m\u001b[37m\u001b[0m \u001b[1m1s\u001b[0m 48ms/step - accuracy: 0.6997 - loss: 0.6856 - val_accuracy: 0.6511 - val_loss: 1.0467\n",
            "Epoch 468/500\n",
            "\u001b[1m15/15\u001b[0m \u001b[32m━━━━━━━━━━━━━━━━━━━━\u001b[0m\u001b[37m\u001b[0m \u001b[1m1s\u001b[0m 49ms/step - accuracy: 0.6885 - loss: 0.7008 - val_accuracy: 0.6333 - val_loss: 1.0486\n",
            "Epoch 469/500\n",
            "\u001b[1m15/15\u001b[0m \u001b[32m━━━━━━━━━━━━━━━━━━━━\u001b[0m\u001b[37m\u001b[0m \u001b[1m1s\u001b[0m 48ms/step - accuracy: 0.7521 - loss: 0.6350 - val_accuracy: 0.6667 - val_loss: 1.3000\n",
            "Epoch 470/500\n",
            "\u001b[1m15/15\u001b[0m \u001b[32m━━━━━━━━━━━━━━━━━━━━\u001b[0m\u001b[37m\u001b[0m \u001b[1m1s\u001b[0m 47ms/step - accuracy: 0.7617 - loss: 0.6030 - val_accuracy: 0.6444 - val_loss: 1.2405\n",
            "Epoch 471/500\n",
            "\u001b[1m15/15\u001b[0m \u001b[32m━━━━━━━━━━━━━━━━━━━━\u001b[0m\u001b[37m\u001b[0m \u001b[1m1s\u001b[0m 47ms/step - accuracy: 0.7730 - loss: 0.5729 - val_accuracy: 0.6289 - val_loss: 1.3223\n",
            "Epoch 472/500\n",
            "\u001b[1m15/15\u001b[0m \u001b[32m━━━━━━━━━━━━━━━━━━━━\u001b[0m\u001b[37m\u001b[0m \u001b[1m2s\u001b[0m 77ms/step - accuracy: 0.7926 - loss: 0.5307 - val_accuracy: 0.6311 - val_loss: 1.4078\n",
            "Epoch 473/500\n",
            "\u001b[1m15/15\u001b[0m \u001b[32m━━━━━━━━━━━━━━━━━━━━\u001b[0m\u001b[37m\u001b[0m \u001b[1m1s\u001b[0m 52ms/step - accuracy: 0.7652 - loss: 0.5777 - val_accuracy: 0.6178 - val_loss: 1.2505\n",
            "Epoch 474/500\n",
            "\u001b[1m15/15\u001b[0m \u001b[32m━━━━━━━━━━━━━━━━━━━━\u001b[0m\u001b[37m\u001b[0m \u001b[1m1s\u001b[0m 49ms/step - accuracy: 0.7848 - loss: 0.5467 - val_accuracy: 0.6156 - val_loss: 1.3129\n",
            "Epoch 475/500\n",
            "\u001b[1m15/15\u001b[0m \u001b[32m━━━━━━━━━━━━━━━━━━━━\u001b[0m\u001b[37m\u001b[0m \u001b[1m1s\u001b[0m 49ms/step - accuracy: 0.7315 - loss: 0.6792 - val_accuracy: 0.6200 - val_loss: 1.1786\n",
            "Epoch 476/500\n",
            "\u001b[1m15/15\u001b[0m \u001b[32m━━━━━━━━━━━━━━━━━━━━\u001b[0m\u001b[37m\u001b[0m \u001b[1m1s\u001b[0m 50ms/step - accuracy: 0.7446 - loss: 0.6136 - val_accuracy: 0.6289 - val_loss: 1.1601\n",
            "Epoch 477/500\n",
            "\u001b[1m15/15\u001b[0m \u001b[32m━━━━━━━━━━━━━━━━━━━━\u001b[0m\u001b[37m\u001b[0m \u001b[1m1s\u001b[0m 48ms/step - accuracy: 0.6718 - loss: 0.7650 - val_accuracy: 0.6111 - val_loss: 1.0241\n",
            "Epoch 478/500\n",
            "\u001b[1m15/15\u001b[0m \u001b[32m━━━━━━━━━━━━━━━━━━━━\u001b[0m\u001b[37m\u001b[0m \u001b[1m1s\u001b[0m 49ms/step - accuracy: 0.7157 - loss: 0.6606 - val_accuracy: 0.6244 - val_loss: 1.0718\n",
            "Epoch 479/500\n",
            "\u001b[1m15/15\u001b[0m \u001b[32m━━━━━━━━━━━━━━━━━━━━\u001b[0m\u001b[37m\u001b[0m \u001b[1m1s\u001b[0m 48ms/step - accuracy: 0.6858 - loss: 0.6992 - val_accuracy: 0.5822 - val_loss: 1.0946\n",
            "Epoch 480/500\n",
            "\u001b[1m15/15\u001b[0m \u001b[32m━━━━━━━━━━━━━━━━━━━━\u001b[0m\u001b[37m\u001b[0m \u001b[1m1s\u001b[0m 49ms/step - accuracy: 0.6378 - loss: 0.7509 - val_accuracy: 0.5956 - val_loss: 1.1489\n",
            "Epoch 481/500\n",
            "\u001b[1m15/15\u001b[0m \u001b[32m━━━━━━━━━━━━━━━━━━━━\u001b[0m\u001b[37m\u001b[0m \u001b[1m1s\u001b[0m 48ms/step - accuracy: 0.6621 - loss: 0.7131 - val_accuracy: 0.6422 - val_loss: 1.0940\n",
            "Epoch 482/500\n",
            "\u001b[1m15/15\u001b[0m \u001b[32m━━━━━━━━━━━━━━━━━━━━\u001b[0m\u001b[37m\u001b[0m \u001b[1m1s\u001b[0m 47ms/step - accuracy: 0.7368 - loss: 0.6467 - val_accuracy: 0.6222 - val_loss: 1.3042\n",
            "Epoch 483/500\n",
            "\u001b[1m15/15\u001b[0m \u001b[32m━━━━━━━━━━━━━━━━━━━━\u001b[0m\u001b[37m\u001b[0m \u001b[1m1s\u001b[0m 47ms/step - accuracy: 0.7450 - loss: 0.6089 - val_accuracy: 0.6244 - val_loss: 1.0646\n",
            "Epoch 484/500\n",
            "\u001b[1m15/15\u001b[0m \u001b[32m━━━━━━━━━━━━━━━━━━━━\u001b[0m\u001b[37m\u001b[0m \u001b[1m1s\u001b[0m 48ms/step - accuracy: 0.7363 - loss: 0.6302 - val_accuracy: 0.5578 - val_loss: 1.2717\n",
            "Epoch 485/500\n",
            "\u001b[1m15/15\u001b[0m \u001b[32m━━━━━━━━━━━━━━━━━━━━\u001b[0m\u001b[37m\u001b[0m \u001b[1m1s\u001b[0m 62ms/step - accuracy: 0.6319 - loss: 0.9471 - val_accuracy: 0.5844 - val_loss: 1.0426\n",
            "Epoch 486/500\n",
            "\u001b[1m15/15\u001b[0m \u001b[32m━━━━━━━━━━━━━━━━━━━━\u001b[0m\u001b[37m\u001b[0m \u001b[1m1s\u001b[0m 74ms/step - accuracy: 0.6600 - loss: 0.7518 - val_accuracy: 0.5400 - val_loss: 1.0455\n",
            "Epoch 487/500\n",
            "\u001b[1m15/15\u001b[0m \u001b[32m━━━━━━━━━━━━━━━━━━━━\u001b[0m\u001b[37m\u001b[0m \u001b[1m1s\u001b[0m 51ms/step - accuracy: 0.5985 - loss: 0.8105 - val_accuracy: 0.5578 - val_loss: 0.9870\n",
            "Epoch 488/500\n",
            "\u001b[1m15/15\u001b[0m \u001b[32m━━━━━━━━━━━━━━━━━━━━\u001b[0m\u001b[37m\u001b[0m \u001b[1m1s\u001b[0m 48ms/step - accuracy: 0.6248 - loss: 0.7846 - val_accuracy: 0.5889 - val_loss: 1.1177\n",
            "Epoch 489/500\n",
            "\u001b[1m15/15\u001b[0m \u001b[32m━━━━━━━━━━━━━━━━━━━━\u001b[0m\u001b[37m\u001b[0m \u001b[1m1s\u001b[0m 50ms/step - accuracy: 0.7135 - loss: 0.6928 - val_accuracy: 0.6067 - val_loss: 1.1640\n",
            "Epoch 490/500\n",
            "\u001b[1m15/15\u001b[0m \u001b[32m━━━━━━━━━━━━━━━━━━━━\u001b[0m\u001b[37m\u001b[0m \u001b[1m1s\u001b[0m 48ms/step - accuracy: 0.7308 - loss: 0.6464 - val_accuracy: 0.6178 - val_loss: 1.1021\n",
            "Epoch 491/500\n",
            "\u001b[1m15/15\u001b[0m \u001b[32m━━━━━━━━━━━━━━━━━━━━\u001b[0m\u001b[37m\u001b[0m \u001b[1m1s\u001b[0m 48ms/step - accuracy: 0.7302 - loss: 0.6431 - val_accuracy: 0.6067 - val_loss: 1.1803\n",
            "Epoch 492/500\n",
            "\u001b[1m15/15\u001b[0m \u001b[32m━━━━━━━━━━━━━━━━━━━━\u001b[0m\u001b[37m\u001b[0m \u001b[1m1s\u001b[0m 48ms/step - accuracy: 0.7238 - loss: 0.6397 - val_accuracy: 0.5778 - val_loss: 1.1365\n",
            "Epoch 493/500\n",
            "\u001b[1m15/15\u001b[0m \u001b[32m━━━━━━━━━━━━━━━━━━━━\u001b[0m\u001b[37m\u001b[0m \u001b[1m1s\u001b[0m 47ms/step - accuracy: 0.6895 - loss: 0.6940 - val_accuracy: 0.6356 - val_loss: 1.1543\n",
            "Epoch 494/500\n",
            "\u001b[1m15/15\u001b[0m \u001b[32m━━━━━━━━━━━━━━━━━━━━\u001b[0m\u001b[37m\u001b[0m \u001b[1m1s\u001b[0m 49ms/step - accuracy: 0.7267 - loss: 0.6279 - val_accuracy: 0.6089 - val_loss: 1.0413\n",
            "Epoch 495/500\n",
            "\u001b[1m15/15\u001b[0m \u001b[32m━━━━━━━━━━━━━━━━━━━━\u001b[0m\u001b[37m\u001b[0m \u001b[1m1s\u001b[0m 47ms/step - accuracy: 0.7022 - loss: 0.6757 - val_accuracy: 0.5933 - val_loss: 1.1698\n",
            "Epoch 496/500\n",
            "\u001b[1m15/15\u001b[0m \u001b[32m━━━━━━━━━━━━━━━━━━━━\u001b[0m\u001b[37m\u001b[0m \u001b[1m1s\u001b[0m 49ms/step - accuracy: 0.6904 - loss: 0.6894 - val_accuracy: 0.5778 - val_loss: 1.1005\n",
            "Epoch 497/500\n",
            "\u001b[1m15/15\u001b[0m \u001b[32m━━━━━━━━━━━━━━━━━━━━\u001b[0m\u001b[37m\u001b[0m \u001b[1m1s\u001b[0m 81ms/step - accuracy: 0.6894 - loss: 0.7055 - val_accuracy: 0.5444 - val_loss: 1.1987\n",
            "Epoch 498/500\n",
            "\u001b[1m15/15\u001b[0m \u001b[32m━━━━━━━━━━━━━━━━━━━━\u001b[0m\u001b[37m\u001b[0m \u001b[1m1s\u001b[0m 73ms/step - accuracy: 0.6867 - loss: 0.7131 - val_accuracy: 0.5489 - val_loss: 1.2799\n",
            "Epoch 499/500\n",
            "\u001b[1m15/15\u001b[0m \u001b[32m━━━━━━━━━━━━━━━━━━━━\u001b[0m\u001b[37m\u001b[0m \u001b[1m1s\u001b[0m 49ms/step - accuracy: 0.6589 - loss: 0.7567 - val_accuracy: 0.5467 - val_loss: 1.1471\n",
            "Epoch 500/500\n",
            "\u001b[1m15/15\u001b[0m \u001b[32m━━━━━━━━━━━━━━━━━━━━\u001b[0m\u001b[37m\u001b[0m \u001b[1m1s\u001b[0m 60ms/step - accuracy: 0.6817 - loss: 0.6898 - val_accuracy: 0.6178 - val_loss: 1.0488\n"
          ]
        },
        {
          "output_type": "display_data",
          "data": {
            "text/plain": [
              "<Figure size 1000x500 with 1 Axes>"
            ],
            "image/png": "[encoded data removed]"
          },
          "metadata": {}
        },
        {
          "output_type": "stream",
          "name": "stdout",
          "text": [
            "              precision    recall  f1-score   support\n",
            "\n",
            "           0       0.62      0.49      0.55       128\n",
            "           1       0.64      0.51      0.57       127\n",
            "           2       0.44      0.66      0.53       105\n",
            "\n",
            "    accuracy                           0.55       360\n",
            "   macro avg       0.57      0.55      0.55       360\n",
            "weighted avg       0.57      0.55      0.55       360\n",
            "\n"
          ]
        },
        {
          "output_type": "display_data",
          "data": {
            "text/plain": [
              "<Figure size 640x480 with 2 Axes>"
            ],
            "image/png": "[encoded data removed]"
          },
          "metadata": {}
        }
      ]
    },
    {
      "cell_type": "code",
      "source": [
        "import os\n",
        "\n",
        "print(\"Train folders:\", os.listdir(train_dir))\n",
        "print(\"Val folders:\", os.listdir(val_dir))\n",
        "\n"
      ],
      "metadata": {
        "colab": {
          "base_uri": "https://localhost:8080/"
        },
        "id": "_fI9tUBpzYfd",
        "outputId": "9bbebdfb-7904-4956-ec0a-20a55226f22e"
      },
      "execution_count": null,
      "outputs": [
        {
          "output_type": "stream",
          "name": "stdout",
          "text": [
            "Train folders: ['.ipynb_checkpoints', 'HALF', 'SPOILT', 'FRESH']\n",
            "Val folders: ['HALF', 'SPOILT', 'FRESH']\n"
          ]
        }
      ]
    },
    {
      "cell_type": "code",
      "source": [
        "rm -rf train/.ipynb_checkpoints val/.ipynb_checkpoints\n"
      ],
      "metadata": {
        "id": "1LMtKu811C5W"
      },
      "execution_count": null,
      "outputs": []
    },
    {
      "cell_type": "code",
      "source": [
        "# Сохранение модели\n",
        "model.save(\"meat_freshness_ann_1000.keras\")"
      ],
      "metadata": {
        "id": "mxd7CUnr9PqS"
      },
      "execution_count": null,
      "outputs": []
    },
    {
      "cell_type": "code",
      "source": [
        "from tensorflow.keras.callbacks import ModelCheckpoint\n",
        "\n",
        "checkpoint = ModelCheckpoint(\"meat_freshness_ann_500.keras\", monitor=\"val_accuracy\", save_best_only=True, verbose=1)\n",
        "\n",
        "history = model.fit(train_generator, epochs=epochs, validation_data=val_generator, callbacks=[checkpoint])\n"
      ],
      "metadata": {
        "colab": {
          "base_uri": "https://localhost:8080/"
        },
        "collapsed": true,
        "id": "7nsRb0lc9oqP",
        "outputId": "480ab585-4646-42ca-cbf6-8f0d898924b4"
      },
      "execution_count": null,
      "outputs": [
        {
          "output_type": "stream",
          "name": "stdout",
          "text": [
            "Epoch 1/500\n",
            "\u001b[1m14/15\u001b[0m \u001b[32m━━━━━━━━━━━━━━━━━━\u001b[0m\u001b[37m━━\u001b[0m \u001b[1m0s\u001b[0m 35ms/step - accuracy: 0.7152 - loss: 0.6396\n",
            "Epoch 1: val_accuracy improved from -inf to 0.62222, saving model to meat_freshness_ann_500.keras\n",
            "\u001b[1m15/15\u001b[0m \u001b[32m━━━━━━━━━━━━━━━━━━━━\u001b[0m\u001b[37m\u001b[0m \u001b[1m1s\u001b[0m 68ms/step - accuracy: 0.7134 - loss: 0.6415 - val_accuracy: 0.6222 - val_loss: 1.2450\n",
            "Epoch 2/500\n",
            "\u001b[1m14/15\u001b[0m \u001b[32m━━━━━━━━━━━━━━━━━━\u001b[0m\u001b[37m━━\u001b[0m \u001b[1m0s\u001b[0m 34ms/step - accuracy: 0.7130 - loss: 0.6527\n",
            "Epoch 2: val_accuracy improved from 0.62222 to 0.62444, saving model to meat_freshness_ann_500.keras\n",
            "\u001b[1m15/15\u001b[0m \u001b[32m━━━━━━━━━━━━━━━━━━━━\u001b[0m\u001b[37m\u001b[0m \u001b[1m1s\u001b[0m 62ms/step - accuracy: 0.7125 - loss: 0.6551 - val_accuracy: 0.6244 - val_loss: 1.0883\n",
            "Epoch 3/500\n",
            "\u001b[1m14/15\u001b[0m \u001b[32m━━━━━━━━━━━━━━━━━━\u001b[0m\u001b[37m━━\u001b[0m \u001b[1m0s\u001b[0m 34ms/step - accuracy: 0.7481 - loss: 0.6059\n",
            "Epoch 3: val_accuracy improved from 0.62444 to 0.65333, saving model to meat_freshness_ann_500.keras\n",
            "\u001b[1m15/15\u001b[0m \u001b[32m━━━━━━━━━━━━━━━━━━━━\u001b[0m\u001b[37m\u001b[0m \u001b[1m1s\u001b[0m 60ms/step - accuracy: 0.7478 - loss: 0.6063 - val_accuracy: 0.6533 - val_loss: 1.1167\n",
            "Epoch 4/500\n",
            "\u001b[1m15/15\u001b[0m \u001b[32m━━━━━━━━━━━━━━━━━━━━\u001b[0m\u001b[37m\u001b[0m \u001b[1m0s\u001b[0m 37ms/step - accuracy: 0.7482 - loss: 0.5912\n",
            "Epoch 4: val_accuracy did not improve from 0.65333\n",
            "\u001b[1m15/15\u001b[0m \u001b[32m━━━━━━━━━━━━━━━━━━━━\u001b[0m\u001b[37m\u001b[0m \u001b[1m1s\u001b[0m 60ms/step - accuracy: 0.7486 - loss: 0.5914 - val_accuracy: 0.6356 - val_loss: 1.2999\n",
            "Epoch 5/500\n",
            "\u001b[1m15/15\u001b[0m \u001b[32m━━━━━━━━━━━━━━━━━━━━\u001b[0m\u001b[37m\u001b[0m \u001b[1m0s\u001b[0m 49ms/step - accuracy: 0.7877 - loss: 0.5465\n",
            "Epoch 5: val_accuracy improved from 0.65333 to 0.66444, saving model to meat_freshness_ann_500.keras\n",
            "\u001b[1m15/15\u001b[0m \u001b[32m━━━━━━━━━━━━━━━━━━━━\u001b[0m\u001b[37m\u001b[0m \u001b[1m1s\u001b[0m 93ms/step - accuracy: 0.7867 - loss: 0.5472 - val_accuracy: 0.6644 - val_loss: 1.1188\n",
            "Epoch 6/500\n",
            "\u001b[1m14/15\u001b[0m \u001b[32m━━━━━━━━━━━━━━━━━━\u001b[0m\u001b[37m━━\u001b[0m \u001b[1m0s\u001b[0m 34ms/step - accuracy: 0.7640 - loss: 0.5834\n",
            "Epoch 6: val_accuracy did not improve from 0.66444\n",
            "\u001b[1m15/15\u001b[0m \u001b[32m━━━━━━━━━━━━━━━━━━━━\u001b[0m\u001b[37m\u001b[0m \u001b[1m2s\u001b[0m 47ms/step - accuracy: 0.7616 - loss: 0.5887 - val_accuracy: 0.6222 - val_loss: 1.1110\n",
            "Epoch 7/500\n",
            "\u001b[1m14/15\u001b[0m \u001b[32m━━━━━━━━━━━━━━━━━━\u001b[0m\u001b[37m━━\u001b[0m \u001b[1m0s\u001b[0m 34ms/step - accuracy: 0.7562 - loss: 0.6091\n",
            "Epoch 7: val_accuracy did not improve from 0.66444\n",
            "\u001b[1m15/15\u001b[0m \u001b[32m━━━━━━━━━━━━━━━━━━━━\u001b[0m\u001b[37m\u001b[0m \u001b[1m1s\u001b[0m 44ms/step - accuracy: 0.7574 - loss: 0.6060 - val_accuracy: 0.6422 - val_loss: 1.3053\n",
            "Epoch 8/500\n",
            "\u001b[1m13/15\u001b[0m \u001b[32m━━━━━━━━━━━━━━━━━\u001b[0m\u001b[37m━━━\u001b[0m \u001b[1m0s\u001b[0m 37ms/step - accuracy: 0.7808 - loss: 0.5315\n",
            "Epoch 8: val_accuracy did not improve from 0.66444\n",
            "\u001b[1m15/15\u001b[0m \u001b[32m━━━━━━━━━━━━━━━━━━━━\u001b[0m\u001b[37m\u001b[0m \u001b[1m1s\u001b[0m 46ms/step - accuracy: 0.7807 - loss: 0.5341 - val_accuracy: 0.6489 - val_loss: 1.0244\n",
            "Epoch 9/500\n",
            "\u001b[1m14/15\u001b[0m \u001b[32m━━━━━━━━━━━━━━━━━━\u001b[0m\u001b[37m━━\u001b[0m \u001b[1m0s\u001b[0m 35ms/step - accuracy: 0.7376 - loss: 0.6151\n",
            "Epoch 9: val_accuracy did not improve from 0.66444\n",
            "\u001b[1m15/15\u001b[0m \u001b[32m━━━━━━━━━━━━━━━━━━━━\u001b[0m\u001b[37m\u001b[0m \u001b[1m1s\u001b[0m 47ms/step - accuracy: 0.7396 - loss: 0.6129 - val_accuracy: 0.6444 - val_loss: 1.1992\n",
            "Epoch 10/500\n",
            "\u001b[1m15/15\u001b[0m \u001b[32m━━━━━━━━━━━━━━━━━━━━\u001b[0m\u001b[37m\u001b[0m \u001b[1m0s\u001b[0m 43ms/step - accuracy: 0.7775 - loss: 0.5417\n",
            "Epoch 10: val_accuracy improved from 0.66444 to 0.67111, saving model to meat_freshness_ann_500.keras\n",
            "\u001b[1m15/15\u001b[0m \u001b[32m━━━━━━━━━━━━━━━━━━━━\u001b[0m\u001b[37m\u001b[0m \u001b[1m1s\u001b[0m 68ms/step - accuracy: 0.7766 - loss: 0.5437 - val_accuracy: 0.6711 - val_loss: 1.0920\n",
            "Epoch 11/500\n",
            "\u001b[1m14/15\u001b[0m \u001b[32m━━━━━━━━━━━━━━━━━━\u001b[0m\u001b[37m━━\u001b[0m \u001b[1m0s\u001b[0m 34ms/step - accuracy: 0.7770 - loss: 0.5580\n",
            "Epoch 11: val_accuracy did not improve from 0.67111\n",
            "\u001b[1m15/15\u001b[0m \u001b[32m━━━━━━━━━━━━━━━━━━━━\u001b[0m\u001b[37m\u001b[0m \u001b[1m1s\u001b[0m 45ms/step - accuracy: 0.7762 - loss: 0.5577 - val_accuracy: 0.6400 - val_loss: 1.0896\n",
            "Epoch 12/500\n",
            "\u001b[1m14/15\u001b[0m \u001b[32m━━━━━━━━━━━━━━━━━━\u001b[0m\u001b[37m━━\u001b[0m \u001b[1m0s\u001b[0m 36ms/step - accuracy: 0.7840 - loss: 0.5504\n",
            "Epoch 12: val_accuracy did not improve from 0.67111\n",
            "\u001b[1m15/15\u001b[0m \u001b[32m━━━━━━━━━━━━━━━━━━━━\u001b[0m\u001b[37m\u001b[0m \u001b[1m1s\u001b[0m 47ms/step - accuracy: 0.7812 - loss: 0.5556 - val_accuracy: 0.6200 - val_loss: 1.1914\n",
            "Epoch 13/500\n",
            "\u001b[1m14/15\u001b[0m \u001b[32m━━━━━━━━━━━━━━━━━━\u001b[0m\u001b[37m━━\u001b[0m \u001b[1m0s\u001b[0m 40ms/step - accuracy: 0.7421 - loss: 0.6096\n",
            "Epoch 13: val_accuracy did not improve from 0.67111\n",
            "\u001b[1m15/15\u001b[0m \u001b[32m━━━━━━━━━━━━━━━━━━━━\u001b[0m\u001b[37m\u001b[0m \u001b[1m1s\u001b[0m 50ms/step - accuracy: 0.7426 - loss: 0.6088 - val_accuracy: 0.6556 - val_loss: 1.2172\n",
            "Epoch 14/500\n",
            "\u001b[1m14/15\u001b[0m \u001b[32m━━━━━━━━━━━━━━━━━━\u001b[0m\u001b[37m━━\u001b[0m \u001b[1m0s\u001b[0m 35ms/step - accuracy: 0.7812 - loss: 0.5443\n",
            "Epoch 14: val_accuracy did not improve from 0.67111\n",
            "\u001b[1m15/15\u001b[0m \u001b[32m━━━━━━━━━━━━━━━━━━━━\u001b[0m\u001b[37m\u001b[0m \u001b[1m1s\u001b[0m 48ms/step - accuracy: 0.7810 - loss: 0.5440 - val_accuracy: 0.6578 - val_loss: 1.1997\n",
            "Epoch 15/500\n",
            "\u001b[1m14/15\u001b[0m \u001b[32m━━━━━━━━━━━━━━━━━━\u001b[0m\u001b[37m━━\u001b[0m \u001b[1m0s\u001b[0m 35ms/step - accuracy: 0.7894 - loss: 0.5415\n",
            "Epoch 15: val_accuracy did not improve from 0.67111\n",
            "\u001b[1m15/15\u001b[0m \u001b[32m━━━━━━━━━━━━━━━━━━━━\u001b[0m\u001b[37m\u001b[0m \u001b[1m1s\u001b[0m 46ms/step - accuracy: 0.7893 - loss: 0.5423 - val_accuracy: 0.6356 - val_loss: 1.1705\n",
            "Epoch 16/500\n",
            "\u001b[1m15/15\u001b[0m \u001b[32m━━━━━━━━━━━━━━━━━━━━\u001b[0m\u001b[37m\u001b[0m \u001b[1m0s\u001b[0m 38ms/step - accuracy: 0.7475 - loss: 0.6142\n",
            "Epoch 16: val_accuracy did not improve from 0.67111\n",
            "\u001b[1m15/15\u001b[0m \u001b[32m━━━━━━━━━━━━━━━━━━━━\u001b[0m\u001b[37m\u001b[0m \u001b[1m1s\u001b[0m 49ms/step - accuracy: 0.7470 - loss: 0.6151 - val_accuracy: 0.6289 - val_loss: 1.3172\n",
            "Epoch 17/500\n",
            "\u001b[1m14/15\u001b[0m \u001b[32m━━━━━━━━━━━━━━━━━━\u001b[0m\u001b[37m━━\u001b[0m \u001b[1m0s\u001b[0m 34ms/step - accuracy: 0.6915 - loss: 0.7286\n",
            "Epoch 17: val_accuracy did not improve from 0.67111\n",
            "\u001b[1m15/15\u001b[0m \u001b[32m━━━━━━━━━━━━━━━━━━━━\u001b[0m\u001b[37m\u001b[0m \u001b[1m1s\u001b[0m 46ms/step - accuracy: 0.6918 - loss: 0.7264 - val_accuracy: 0.5756 - val_loss: 1.0321\n",
            "Epoch 18/500\n",
            "\u001b[1m15/15\u001b[0m \u001b[32m━━━━━━━━━━━━━━━━━━━━\u001b[0m\u001b[37m\u001b[0m \u001b[1m0s\u001b[0m 50ms/step - accuracy: 0.7077 - loss: 0.6786\n",
            "Epoch 18: val_accuracy did not improve from 0.67111\n",
            "\u001b[1m15/15\u001b[0m \u001b[32m━━━━━━━━━━━━━━━━━━━━\u001b[0m\u001b[37m\u001b[0m \u001b[1m2s\u001b[0m 65ms/step - accuracy: 0.7088 - loss: 0.6766 - val_accuracy: 0.6400 - val_loss: 1.0832\n",
            "Epoch 19/500\n",
            "\u001b[1m14/15\u001b[0m \u001b[32m━━━━━━━━━━━━━━━━━━\u001b[0m\u001b[37m━━\u001b[0m \u001b[1m0s\u001b[0m 60ms/step - accuracy: 0.7629 - loss: 0.5828\n",
            "Epoch 19: val_accuracy did not improve from 0.67111\n",
            "\u001b[1m15/15\u001b[0m \u001b[32m━━━━━━━━━━━━━━━━━━━━\u001b[0m\u001b[37m\u001b[0m \u001b[1m1s\u001b[0m 69ms/step - accuracy: 0.7622 - loss: 0.5825 - val_accuracy: 0.6689 - val_loss: 1.0699\n",
            "Epoch 20/500\n",
            "\u001b[1m14/15\u001b[0m \u001b[32m━━━━━━━━━━━━━━━━━━\u001b[0m\u001b[37m━━\u001b[0m \u001b[1m0s\u001b[0m 36ms/step - accuracy: 0.8002 - loss: 0.5253\n",
            "Epoch 20: val_accuracy did not improve from 0.67111\n",
            "\u001b[1m15/15\u001b[0m \u001b[32m━━━━━━━━━━━━━━━━━━━━\u001b[0m\u001b[37m\u001b[0m \u001b[1m1s\u001b[0m 47ms/step - accuracy: 0.7977 - loss: 0.5275 - val_accuracy: 0.6533 - val_loss: 1.0573\n",
            "Epoch 21/500\n",
            "\u001b[1m14/15\u001b[0m \u001b[32m━━━━━━━━━━━━━━━━━━\u001b[0m\u001b[37m━━\u001b[0m \u001b[1m0s\u001b[0m 39ms/step - accuracy: 0.7808 - loss: 0.5441\n",
            "Epoch 21: val_accuracy did not improve from 0.67111\n",
            "\u001b[1m15/15\u001b[0m \u001b[32m━━━━━━━━━━━━━━━━━━━━\u001b[0m\u001b[37m\u001b[0m \u001b[1m1s\u001b[0m 51ms/step - accuracy: 0.7787 - loss: 0.5482 - val_accuracy: 0.6356 - val_loss: 1.1921\n",
            "Epoch 22/500\n",
            "\u001b[1m14/15\u001b[0m \u001b[32m━━━━━━━━━━━━━━━━━━\u001b[0m\u001b[37m━━\u001b[0m \u001b[1m0s\u001b[0m 36ms/step - accuracy: 0.7377 - loss: 0.6180\n",
            "Epoch 22: val_accuracy did not improve from 0.67111\n",
            "\u001b[1m15/15\u001b[0m \u001b[32m━━━━━━━━━━━━━━━━━━━━\u001b[0m\u001b[37m\u001b[0m \u001b[1m1s\u001b[0m 46ms/step - accuracy: 0.7352 - loss: 0.6214 - val_accuracy: 0.6467 - val_loss: 0.9507\n",
            "Epoch 23/500\n",
            "\u001b[1m14/15\u001b[0m \u001b[32m━━━━━━━━━━━━━━━━━━\u001b[0m\u001b[37m━━\u001b[0m \u001b[1m0s\u001b[0m 34ms/step - accuracy: 0.7254 - loss: 0.6221\n",
            "Epoch 23: val_accuracy did not improve from 0.67111\n",
            "\u001b[1m15/15\u001b[0m \u001b[32m━━━━━━━━━━━━━━━━━━━━\u001b[0m\u001b[37m\u001b[0m \u001b[1m1s\u001b[0m 45ms/step - accuracy: 0.7239 - loss: 0.6234 - val_accuracy: 0.6111 - val_loss: 1.0866\n",
            "Epoch 24/500\n",
            "\u001b[1m14/15\u001b[0m \u001b[32m━━━━━━━━━━━━━━━━━━\u001b[0m\u001b[37m━━\u001b[0m \u001b[1m0s\u001b[0m 35ms/step - accuracy: 0.7341 - loss: 0.6185\n",
            "Epoch 24: val_accuracy did not improve from 0.67111\n",
            "\u001b[1m15/15\u001b[0m \u001b[32m━━━━━━━━━━━━━━━━━━━━\u001b[0m\u001b[37m\u001b[0m \u001b[1m1s\u001b[0m 46ms/step - accuracy: 0.7313 - loss: 0.6208 - val_accuracy: 0.6044 - val_loss: 1.1193\n",
            "Epoch 25/500\n",
            "\u001b[1m14/15\u001b[0m \u001b[32m━━━━━━━━━━━━━━━━━━\u001b[0m\u001b[37m━━\u001b[0m \u001b[1m0s\u001b[0m 35ms/step - accuracy: 0.7332 - loss: 0.6159\n",
            "Epoch 25: val_accuracy did not improve from 0.67111\n",
            "\u001b[1m15/15\u001b[0m \u001b[32m━━━━━━━━━━━━━━━━━━━━\u001b[0m\u001b[37m\u001b[0m \u001b[1m1s\u001b[0m 46ms/step - accuracy: 0.7327 - loss: 0.6175 - val_accuracy: 0.6000 - val_loss: 1.0765\n",
            "Epoch 26/500\n",
            "\u001b[1m14/15\u001b[0m \u001b[32m━━━━━━━━━━━━━━━━━━\u001b[0m\u001b[37m━━\u001b[0m \u001b[1m0s\u001b[0m 35ms/step - accuracy: 0.7049 - loss: 0.6363\n",
            "Epoch 26: val_accuracy did not improve from 0.67111\n",
            "\u001b[1m15/15\u001b[0m \u001b[32m━━━━━━━━━━━━━━━━━━━━\u001b[0m\u001b[37m\u001b[0m \u001b[1m1s\u001b[0m 46ms/step - accuracy: 0.7062 - loss: 0.6373 - val_accuracy: 0.6356 - val_loss: 1.0374\n",
            "Epoch 27/500\n",
            "\u001b[1m14/15\u001b[0m \u001b[32m━━━━━━━━━━━━━━━━━━\u001b[0m\u001b[37m━━\u001b[0m \u001b[1m0s\u001b[0m 38ms/step - accuracy: 0.7227 - loss: 0.6300\n",
            "Epoch 27: val_accuracy did not improve from 0.67111\n",
            "\u001b[1m15/15\u001b[0m \u001b[32m━━━━━━━━━━━━━━━━━━━━\u001b[0m\u001b[37m\u001b[0m \u001b[1m1s\u001b[0m 47ms/step - accuracy: 0.7217 - loss: 0.6319 - val_accuracy: 0.5778 - val_loss: 1.2212\n",
            "Epoch 28/500\n",
            "\u001b[1m15/15\u001b[0m \u001b[32m━━━━━━━━━━━━━━━━━━━━\u001b[0m\u001b[37m\u001b[0m \u001b[1m0s\u001b[0m 35ms/step - accuracy: 0.6704 - loss: 0.7628\n",
            "Epoch 28: val_accuracy did not improve from 0.67111\n",
            "\u001b[1m15/15\u001b[0m \u001b[32m━━━━━━━━━━━━━━━━━━━━\u001b[0m\u001b[37m\u001b[0m \u001b[1m1s\u001b[0m 47ms/step - accuracy: 0.6713 - loss: 0.7607 - val_accuracy: 0.6289 - val_loss: 1.2674\n",
            "Epoch 29/500\n",
            "\u001b[1m14/15\u001b[0m \u001b[32m━━━━━━━━━━━━━━━━━━\u001b[0m\u001b[37m━━\u001b[0m \u001b[1m0s\u001b[0m 37ms/step - accuracy: 0.7108 - loss: 0.6391\n",
            "Epoch 29: val_accuracy did not improve from 0.67111\n",
            "\u001b[1m15/15\u001b[0m \u001b[32m━━━━━━━━━━━━━━━━━━━━\u001b[0m\u001b[37m\u001b[0m \u001b[1m1s\u001b[0m 48ms/step - accuracy: 0.7101 - loss: 0.6415 - val_accuracy: 0.6044 - val_loss: 1.1446\n",
            "Epoch 30/500\n",
            "\u001b[1m14/15\u001b[0m \u001b[32m━━━━━━━━━━━━━━━━━━\u001b[0m\u001b[37m━━\u001b[0m \u001b[1m0s\u001b[0m 35ms/step - accuracy: 0.7209 - loss: 0.6375\n",
            "Epoch 30: val_accuracy did not improve from 0.67111\n",
            "\u001b[1m15/15\u001b[0m \u001b[32m━━━━━━━━━━━━━━━━━━━━\u001b[0m\u001b[37m\u001b[0m \u001b[1m1s\u001b[0m 47ms/step - accuracy: 0.7228 - loss: 0.6343 - val_accuracy: 0.6467 - val_loss: 1.1892\n",
            "Epoch 31/500\n",
            "\u001b[1m15/15\u001b[0m \u001b[32m━━━━━━━━━━━━━━━━━━━━\u001b[0m\u001b[37m\u001b[0m \u001b[1m0s\u001b[0m 38ms/step - accuracy: 0.7591 - loss: 0.5722\n",
            "Epoch 31: val_accuracy did not improve from 0.67111\n",
            "\u001b[1m15/15\u001b[0m \u001b[32m━━━━━━━━━━━━━━━━━━━━\u001b[0m\u001b[37m\u001b[0m \u001b[1m1s\u001b[0m 50ms/step - accuracy: 0.7598 - loss: 0.5714 - val_accuracy: 0.6667 - val_loss: 1.1909\n",
            "Epoch 32/500\n",
            "\u001b[1m14/15\u001b[0m \u001b[32m━━━━━━━━━━━━━━━━━━\u001b[0m\u001b[37m━━\u001b[0m \u001b[1m0s\u001b[0m 35ms/step - accuracy: 0.7992 - loss: 0.5150\n",
            "Epoch 32: val_accuracy did not improve from 0.67111\n",
            "\u001b[1m15/15\u001b[0m \u001b[32m━━━━━━━━━━━━━━━━━━━━\u001b[0m\u001b[37m\u001b[0m \u001b[1m1s\u001b[0m 46ms/step - accuracy: 0.7979 - loss: 0.5159 - val_accuracy: 0.6511 - val_loss: 1.2969\n",
            "Epoch 33/500\n",
            "\u001b[1m15/15\u001b[0m \u001b[32m━━━━━━━━━━━━━━━━━━━━\u001b[0m\u001b[37m\u001b[0m \u001b[1m0s\u001b[0m 38ms/step - accuracy: 0.7835 - loss: 0.5324\n",
            "Epoch 33: val_accuracy did not improve from 0.67111\n",
            "\u001b[1m15/15\u001b[0m \u001b[32m━━━━━━━━━━━━━━━━━━━━\u001b[0m\u001b[37m\u001b[0m \u001b[1m1s\u001b[0m 62ms/step - accuracy: 0.7836 - loss: 0.5320 - val_accuracy: 0.6200 - val_loss: 1.5006\n",
            "Epoch 34/500\n",
            "\u001b[1m15/15\u001b[0m \u001b[32m━━━━━━━━━━━━━━━━━━━━\u001b[0m\u001b[37m\u001b[0m \u001b[1m0s\u001b[0m 52ms/step - accuracy: 0.7589 - loss: 0.5799\n",
            "Epoch 34: val_accuracy did not improve from 0.67111\n",
            "\u001b[1m15/15\u001b[0m \u001b[32m━━━━━━━━━━━━━━━━━━━━\u001b[0m\u001b[37m\u001b[0m \u001b[1m1s\u001b[0m 76ms/step - accuracy: 0.7585 - loss: 0.5807 - val_accuracy: 0.6289 - val_loss: 1.3093\n",
            "Epoch 35/500\n",
            "\u001b[1m13/15\u001b[0m \u001b[32m━━━━━━━━━━━━━━━━━\u001b[0m\u001b[37m━━━\u001b[0m \u001b[1m0s\u001b[0m 38ms/step - accuracy: 0.7842 - loss: 0.5592\n",
            "Epoch 35: val_accuracy did not improve from 0.67111\n",
            "\u001b[1m15/15\u001b[0m \u001b[32m━━━━━━━━━━━━━━━━━━━━\u001b[0m\u001b[37m\u001b[0m \u001b[1m1s\u001b[0m 47ms/step - accuracy: 0.7862 - loss: 0.5549 - val_accuracy: 0.6422 - val_loss: 1.3349\n",
            "Epoch 36/500\n",
            "\u001b[1m14/15\u001b[0m \u001b[32m━━━━━━━━━━━━━━━━━━\u001b[0m\u001b[37m━━\u001b[0m \u001b[1m0s\u001b[0m 36ms/step - accuracy: 0.7744 - loss: 0.5632\n",
            "Epoch 36: val_accuracy did not improve from 0.67111\n",
            "\u001b[1m15/15\u001b[0m \u001b[32m━━━━━━━━━━━━━━━━━━━━\u001b[0m\u001b[37m\u001b[0m \u001b[1m1s\u001b[0m 47ms/step - accuracy: 0.7768 - loss: 0.5596 - val_accuracy: 0.6667 - val_loss: 1.3940\n",
            "Epoch 37/500\n",
            "\u001b[1m15/15\u001b[0m \u001b[32m━━━━━━━━━━━━━━━━━━━━\u001b[0m\u001b[37m\u001b[0m \u001b[1m0s\u001b[0m 38ms/step - accuracy: 0.8408 - loss: 0.4598\n",
            "Epoch 37: val_accuracy did not improve from 0.67111\n",
            "\u001b[1m15/15\u001b[0m \u001b[32m━━━━━━━━━━━━━━━━━━━━\u001b[0m\u001b[37m\u001b[0m \u001b[1m1s\u001b[0m 48ms/step - accuracy: 0.8399 - loss: 0.4604 - val_accuracy: 0.6422 - val_loss: 1.5324\n",
            "Epoch 38/500\n",
            "\u001b[1m14/15\u001b[0m \u001b[32m━━━━━━━━━━━━━━━━━━\u001b[0m\u001b[37m━━\u001b[0m \u001b[1m0s\u001b[0m 35ms/step - accuracy: 0.7642 - loss: 0.5630\n",
            "Epoch 38: val_accuracy did not improve from 0.67111\n",
            "\u001b[1m15/15\u001b[0m \u001b[32m━━━━━━━━━━━━━━━━━━━━\u001b[0m\u001b[37m\u001b[0m \u001b[1m1s\u001b[0m 47ms/step - accuracy: 0.7665 - loss: 0.5597 - val_accuracy: 0.6578 - val_loss: 1.2688\n",
            "Epoch 39/500\n",
            "\u001b[1m15/15\u001b[0m \u001b[32m━━━━━━━━━━━━━━━━━━━━\u001b[0m\u001b[37m\u001b[0m \u001b[1m0s\u001b[0m 36ms/step - accuracy: 0.7889 - loss: 0.5306\n",
            "Epoch 39: val_accuracy did not improve from 0.67111\n",
            "\u001b[1m15/15\u001b[0m \u001b[32m━━━━━━━━━━━━━━━━━━━━\u001b[0m\u001b[37m\u001b[0m \u001b[1m1s\u001b[0m 47ms/step - accuracy: 0.7893 - loss: 0.5294 - val_accuracy: 0.6533 - val_loss: 1.5146\n",
            "Epoch 40/500\n",
            "\u001b[1m14/15\u001b[0m \u001b[32m━━━━━━━━━━━━━━━━━━\u001b[0m\u001b[37m━━\u001b[0m \u001b[1m0s\u001b[0m 35ms/step - accuracy: 0.8248 - loss: 0.4516\n",
            "Epoch 40: val_accuracy did not improve from 0.67111\n",
            "\u001b[1m15/15\u001b[0m \u001b[32m━━━━━━━━━━━━━━━━━━━━\u001b[0m\u001b[37m\u001b[0m \u001b[1m1s\u001b[0m 47ms/step - accuracy: 0.8222 - loss: 0.4667 - val_accuracy: 0.6200 - val_loss: 1.4201\n",
            "Epoch 41/500\n",
            "\u001b[1m14/15\u001b[0m \u001b[32m━━━━━━━━━━━━━━━━━━\u001b[0m\u001b[37m━━\u001b[0m \u001b[1m0s\u001b[0m 36ms/step - accuracy: 0.7359 - loss: 0.6280\n",
            "Epoch 41: val_accuracy did not improve from 0.67111\n",
            "\u001b[1m15/15\u001b[0m \u001b[32m━━━━━━━━━━━━━━━━━━━━\u001b[0m\u001b[37m\u001b[0m \u001b[1m1s\u001b[0m 47ms/step - accuracy: 0.7377 - loss: 0.6252 - val_accuracy: 0.6533 - val_loss: 1.1778\n",
            "Epoch 42/500\n",
            "\u001b[1m14/15\u001b[0m \u001b[32m━━━━━━━━━━━━━━━━━━\u001b[0m\u001b[37m━━\u001b[0m \u001b[1m0s\u001b[0m 35ms/step - accuracy: 0.7844 - loss: 0.5421\n",
            "Epoch 42: val_accuracy improved from 0.67111 to 0.68222, saving model to meat_freshness_ann_500.keras\n",
            "\u001b[1m15/15\u001b[0m \u001b[32m━━━━━━━━━━━━━━━━━━━━\u001b[0m\u001b[37m\u001b[0m \u001b[1m1s\u001b[0m 61ms/step - accuracy: 0.7826 - loss: 0.5450 - val_accuracy: 0.6822 - val_loss: 1.2083\n",
            "Epoch 43/500\n",
            "\u001b[1m14/15\u001b[0m \u001b[32m━━━━━━━━━━━━━━━━━━\u001b[0m\u001b[37m━━\u001b[0m \u001b[1m0s\u001b[0m 35ms/step - accuracy: 0.7518 - loss: 0.6064\n",
            "Epoch 43: val_accuracy did not improve from 0.68222\n",
            "\u001b[1m15/15\u001b[0m \u001b[32m━━━━━━━━━━━━━━━━━━━━\u001b[0m\u001b[37m\u001b[0m \u001b[1m1s\u001b[0m 47ms/step - accuracy: 0.7511 - loss: 0.6073 - val_accuracy: 0.6422 - val_loss: 1.2926\n",
            "Epoch 44/500\n",
            "\u001b[1m14/15\u001b[0m \u001b[32m━━━━━━━━━━━━━━━━━━\u001b[0m\u001b[37m━━\u001b[0m \u001b[1m0s\u001b[0m 36ms/step - accuracy: 0.7423 - loss: 0.6077\n",
            "Epoch 44: val_accuracy did not improve from 0.68222\n",
            "\u001b[1m15/15\u001b[0m \u001b[32m━━━━━━━━━━━━━━━━━━━━\u001b[0m\u001b[37m\u001b[0m \u001b[1m1s\u001b[0m 47ms/step - accuracy: 0.7414 - loss: 0.6102 - val_accuracy: 0.6378 - val_loss: 1.2064\n",
            "Epoch 45/500\n",
            "\u001b[1m14/15\u001b[0m \u001b[32m━━━━━━━━━━━━━━━━━━\u001b[0m\u001b[37m━━\u001b[0m \u001b[1m0s\u001b[0m 36ms/step - accuracy: 0.7475 - loss: 0.5950\n",
            "Epoch 45: val_accuracy did not improve from 0.68222\n",
            "\u001b[1m15/15\u001b[0m \u001b[32m━━━━━━━━━━━━━━━━━━━━\u001b[0m\u001b[37m\u001b[0m \u001b[1m1s\u001b[0m 47ms/step - accuracy: 0.7470 - loss: 0.5965 - val_accuracy: 0.6378 - val_loss: 1.1239\n",
            "Epoch 46/500\n",
            "\u001b[1m14/15\u001b[0m \u001b[32m━━━━━━━━━━━━━━━━━━\u001b[0m\u001b[37m━━\u001b[0m \u001b[1m0s\u001b[0m 35ms/step - accuracy: 0.7547 - loss: 0.5976\n",
            "Epoch 46: val_accuracy did not improve from 0.68222\n",
            "\u001b[1m15/15\u001b[0m \u001b[32m━━━━━━━━━━━━━━━━━━━━\u001b[0m\u001b[37m\u001b[0m \u001b[1m1s\u001b[0m 46ms/step - accuracy: 0.7546 - loss: 0.5967 - val_accuracy: 0.6289 - val_loss: 1.3969\n",
            "Epoch 47/500\n",
            "\u001b[1m14/15\u001b[0m \u001b[32m━━━━━━━━━━━━━━━━━━\u001b[0m\u001b[37m━━\u001b[0m \u001b[1m0s\u001b[0m 34ms/step - accuracy: 0.7339 - loss: 0.6426\n",
            "Epoch 47: val_accuracy did not improve from 0.68222\n",
            "\u001b[1m15/15\u001b[0m \u001b[32m━━━━━━━━━━━━━━━━━━━━\u001b[0m\u001b[37m\u001b[0m \u001b[1m1s\u001b[0m 46ms/step - accuracy: 0.7345 - loss: 0.6404 - val_accuracy: 0.6156 - val_loss: 1.3672\n",
            "Epoch 48/500\n",
            "\u001b[1m15/15\u001b[0m \u001b[32m━━━━━━━━━━━━━━━━━━━━\u001b[0m\u001b[37m\u001b[0m \u001b[1m0s\u001b[0m 41ms/step - accuracy: 0.7437 - loss: 0.5965\n",
            "Epoch 48: val_accuracy did not improve from 0.68222\n",
            "\u001b[1m15/15\u001b[0m \u001b[32m━━━━━━━━━━━━━━━━━━━━\u001b[0m\u001b[37m\u001b[0m \u001b[1m1s\u001b[0m 58ms/step - accuracy: 0.7445 - loss: 0.5956 - val_accuracy: 0.6333 - val_loss: 1.3910\n",
            "Epoch 49/500\n",
            "\u001b[1m15/15\u001b[0m \u001b[32m━━━━━━━━━━━━━━━━━━━━\u001b[0m\u001b[37m\u001b[0m \u001b[1m0s\u001b[0m 52ms/step - accuracy: 0.8117 - loss: 0.5009\n",
            "Epoch 49: val_accuracy did not improve from 0.68222\n",
            "\u001b[1m15/15\u001b[0m \u001b[32m━━━━━━━━━━━━━━━━━━━━\u001b[0m\u001b[37m\u001b[0m \u001b[1m1s\u001b[0m 69ms/step - accuracy: 0.8108 - loss: 0.5023 - val_accuracy: 0.6400 - val_loss: 1.3306\n",
            "Epoch 50/500\n",
            "\u001b[1m14/15\u001b[0m \u001b[32m━━━━━━━━━━━━━━━━━━\u001b[0m\u001b[37m━━\u001b[0m \u001b[1m0s\u001b[0m 52ms/step - accuracy: 0.7633 - loss: 0.5848\n",
            "Epoch 50: val_accuracy did not improve from 0.68222\n",
            "\u001b[1m15/15\u001b[0m \u001b[32m━━━━━━━━━━━━━━━━━━━━\u001b[0m\u001b[37m\u001b[0m \u001b[1m1s\u001b[0m 63ms/step - accuracy: 0.7640 - loss: 0.5834 - val_accuracy: 0.6356 - val_loss: 1.3050\n",
            "Epoch 51/500\n",
            "\u001b[1m14/15\u001b[0m \u001b[32m━━━━━━━━━━━━━━━━━━\u001b[0m\u001b[37m━━\u001b[0m \u001b[1m0s\u001b[0m 37ms/step - accuracy: 0.7935 - loss: 0.5449\n",
            "Epoch 51: val_accuracy did not improve from 0.68222\n",
            "\u001b[1m15/15\u001b[0m \u001b[32m━━━━━━━━━━━━━━━━━━━━\u001b[0m\u001b[37m\u001b[0m \u001b[1m1s\u001b[0m 50ms/step - accuracy: 0.7957 - loss: 0.5403 - val_accuracy: 0.6422 - val_loss: 1.4594\n",
            "Epoch 52/500\n",
            "\u001b[1m14/15\u001b[0m \u001b[32m━━━━━━━━━━━━━━━━━━\u001b[0m\u001b[37m━━\u001b[0m \u001b[1m0s\u001b[0m 35ms/step - accuracy: 0.7868 - loss: 0.5406\n",
            "Epoch 52: val_accuracy did not improve from 0.68222\n",
            "\u001b[1m15/15\u001b[0m \u001b[32m━━━━━━━━━━━━━━━━━━━━\u001b[0m\u001b[37m\u001b[0m \u001b[1m1s\u001b[0m 46ms/step - accuracy: 0.7879 - loss: 0.5392 - val_accuracy: 0.6622 - val_loss: 1.3484\n",
            "Epoch 53/500\n",
            "\u001b[1m14/15\u001b[0m \u001b[32m━━━━━━━━━━━━━━━━━━\u001b[0m\u001b[37m━━\u001b[0m \u001b[1m0s\u001b[0m 36ms/step - accuracy: 0.7858 - loss: 0.5281\n",
            "Epoch 53: val_accuracy did not improve from 0.68222\n",
            "\u001b[1m15/15\u001b[0m \u001b[32m━━━━━━━━━━━━━━━━━━━━\u001b[0m\u001b[37m\u001b[0m \u001b[1m1s\u001b[0m 47ms/step - accuracy: 0.7846 - loss: 0.5310 - val_accuracy: 0.6689 - val_loss: 1.3569\n",
            "Epoch 54/500\n",
            "\u001b[1m15/15\u001b[0m \u001b[32m━━━━━━━━━━━━━━━━━━━━\u001b[0m\u001b[37m\u001b[0m \u001b[1m0s\u001b[0m 38ms/step - accuracy: 0.7606 - loss: 0.5865\n",
            "Epoch 54: val_accuracy did not improve from 0.68222\n",
            "\u001b[1m15/15\u001b[0m \u001b[32m━━━━━━━━━━━━━━━━━━━━\u001b[0m\u001b[37m\u001b[0m \u001b[1m1s\u001b[0m 49ms/step - accuracy: 0.7615 - loss: 0.5856 - val_accuracy: 0.6556 - val_loss: 1.4261\n",
            "Epoch 55/500\n",
            "\u001b[1m15/15\u001b[0m \u001b[32m━━━━━━━━━━━━━━━━━━━━\u001b[0m\u001b[37m\u001b[0m \u001b[1m0s\u001b[0m 36ms/step - accuracy: 0.7812 - loss: 0.5654\n",
            "Epoch 55: val_accuracy did not improve from 0.68222\n",
            "\u001b[1m15/15\u001b[0m \u001b[32m━━━━━━━━━━━━━━━━━━━━\u001b[0m\u001b[37m\u001b[0m \u001b[1m1s\u001b[0m 47ms/step - accuracy: 0.7795 - loss: 0.5680 - val_accuracy: 0.6111 - val_loss: 1.2051\n",
            "Epoch 56/500\n",
            "\u001b[1m14/15\u001b[0m \u001b[32m━━━━━━━━━━━━━━━━━━\u001b[0m\u001b[37m━━\u001b[0m \u001b[1m0s\u001b[0m 34ms/step - accuracy: 0.7579 - loss: 0.5927\n",
            "Epoch 56: val_accuracy did not improve from 0.68222\n",
            "\u001b[1m15/15\u001b[0m \u001b[32m━━━━━━━━━━━━━━━━━━━━\u001b[0m\u001b[37m\u001b[0m \u001b[1m1s\u001b[0m 46ms/step - accuracy: 0.7567 - loss: 0.5951 - val_accuracy: 0.6067 - val_loss: 1.3661\n",
            "Epoch 57/500\n",
            "\u001b[1m14/15\u001b[0m \u001b[32m━━━━━━━━━━━━━━━━━━\u001b[0m\u001b[37m━━\u001b[0m \u001b[1m0s\u001b[0m 35ms/step - accuracy: 0.7452 - loss: 0.6249\n",
            "Epoch 57: val_accuracy did not improve from 0.68222\n",
            "\u001b[1m15/15\u001b[0m \u001b[32m━━━━━━━━━━━━━━━━━━━━\u001b[0m\u001b[37m\u001b[0m \u001b[1m1s\u001b[0m 46ms/step - accuracy: 0.7473 - loss: 0.6218 - val_accuracy: 0.5889 - val_loss: 1.4123\n",
            "Epoch 58/500\n",
            "\u001b[1m13/15\u001b[0m \u001b[32m━━━━━━━━━━━━━━━━━\u001b[0m\u001b[37m━━━\u001b[0m \u001b[1m0s\u001b[0m 38ms/step - accuracy: 0.7602 - loss: 0.6009\n",
            "Epoch 58: val_accuracy did not improve from 0.68222\n",
            "\u001b[1m15/15\u001b[0m \u001b[32m━━━━━━━━━━━━━━━━━━━━\u001b[0m\u001b[37m\u001b[0m \u001b[1m1s\u001b[0m 47ms/step - accuracy: 0.7602 - loss: 0.6009 - val_accuracy: 0.6378 - val_loss: 1.2324\n",
            "Epoch 59/500\n",
            "\u001b[1m14/15\u001b[0m \u001b[32m━━━━━━━━━━━━━━━━━━\u001b[0m\u001b[37m━━\u001b[0m \u001b[1m0s\u001b[0m 35ms/step - accuracy: 0.7519 - loss: 0.6285\n",
            "Epoch 59: val_accuracy did not improve from 0.68222\n",
            "\u001b[1m15/15\u001b[0m \u001b[32m━━━━━━━━━━━━━━━━━━━━\u001b[0m\u001b[37m\u001b[0m \u001b[1m1s\u001b[0m 47ms/step - accuracy: 0.7517 - loss: 0.6277 - val_accuracy: 0.6467 - val_loss: 1.3698\n",
            "Epoch 60/500\n",
            "\u001b[1m14/15\u001b[0m \u001b[32m━━━━━━━━━━━━━━━━━━\u001b[0m\u001b[37m━━\u001b[0m \u001b[1m0s\u001b[0m 35ms/step - accuracy: 0.7913 - loss: 0.5354\n",
            "Epoch 60: val_accuracy did not improve from 0.68222\n",
            "\u001b[1m15/15\u001b[0m \u001b[32m━━━━━━━━━━━━━━━━━━━━\u001b[0m\u001b[37m\u001b[0m \u001b[1m1s\u001b[0m 46ms/step - accuracy: 0.7899 - loss: 0.5376 - val_accuracy: 0.6356 - val_loss: 1.3891\n",
            "Epoch 61/500\n",
            "\u001b[1m14/15\u001b[0m \u001b[32m━━━━━━━━━━━━━━━━━━\u001b[0m\u001b[37m━━\u001b[0m \u001b[1m0s\u001b[0m 35ms/step - accuracy: 0.7440 - loss: 0.5913\n",
            "Epoch 61: val_accuracy did not improve from 0.68222\n",
            "\u001b[1m15/15\u001b[0m \u001b[32m━━━━━━━━━━━━━━━━━━━━\u001b[0m\u001b[37m\u001b[0m \u001b[1m1s\u001b[0m 47ms/step - accuracy: 0.7440 - loss: 0.5927 - val_accuracy: 0.6400 - val_loss: 1.1826\n",
            "Epoch 62/500\n",
            "\u001b[1m13/15\u001b[0m \u001b[32m━━━━━━━━━━━━━━━━━\u001b[0m\u001b[37m━━━\u001b[0m \u001b[1m0s\u001b[0m 38ms/step - accuracy: 0.7652 - loss: 0.5763\n",
            "Epoch 62: val_accuracy did not improve from 0.68222\n",
            "\u001b[1m15/15\u001b[0m \u001b[32m━━━━━━━━━━━━━━━━━━━━\u001b[0m\u001b[37m\u001b[0m \u001b[1m1s\u001b[0m 46ms/step - accuracy: 0.7638 - loss: 0.5783 - val_accuracy: 0.6511 - val_loss: 1.2598\n",
            "Epoch 63/500\n",
            "\u001b[1m14/15\u001b[0m \u001b[32m━━━━━━━━━━━━━━━━━━\u001b[0m\u001b[37m━━\u001b[0m \u001b[1m0s\u001b[0m 34ms/step - accuracy: 0.7921 - loss: 0.5493\n",
            "Epoch 63: val_accuracy did not improve from 0.68222\n",
            "\u001b[1m15/15\u001b[0m \u001b[32m━━━━━━━━━━━━━━━━━━━━\u001b[0m\u001b[37m\u001b[0m \u001b[1m1s\u001b[0m 57ms/step - accuracy: 0.7899 - loss: 0.5613 - val_accuracy: 0.6533 - val_loss: 1.2113\n",
            "Epoch 64/500\n",
            "\u001b[1m15/15\u001b[0m \u001b[32m━━━━━━━━━━━━━━━━━━━━\u001b[0m\u001b[37m\u001b[0m \u001b[1m0s\u001b[0m 56ms/step - accuracy: 0.7685 - loss: 0.5772\n",
            "Epoch 64: val_accuracy did not improve from 0.68222\n",
            "\u001b[1m15/15\u001b[0m \u001b[32m━━━━━━━━━━━━━━━━━━━━\u001b[0m\u001b[37m\u001b[0m \u001b[1m1s\u001b[0m 73ms/step - accuracy: 0.7694 - loss: 0.5754 - val_accuracy: 0.6667 - val_loss: 1.1797\n",
            "Epoch 65/500\n",
            "\u001b[1m14/15\u001b[0m \u001b[32m━━━━━━━━━━━━━━━━━━\u001b[0m\u001b[37m━━\u001b[0m \u001b[1m0s\u001b[0m 35ms/step - accuracy: 0.8184 - loss: 0.4969\n",
            "Epoch 65: val_accuracy did not improve from 0.68222\n",
            "\u001b[1m15/15\u001b[0m \u001b[32m━━━━━━━━━━━━━━━━━━━━\u001b[0m\u001b[37m\u001b[0m \u001b[1m1s\u001b[0m 46ms/step - accuracy: 0.8165 - loss: 0.4990 - val_accuracy: 0.6822 - val_loss: 1.1615\n",
            "Epoch 66/500\n",
            "\u001b[1m14/15\u001b[0m \u001b[32m━━━━━━━━━━━━━━━━━━\u001b[0m\u001b[37m━━\u001b[0m \u001b[1m0s\u001b[0m 34ms/step - accuracy: 0.7798 - loss: 0.5543\n",
            "Epoch 66: val_accuracy did not improve from 0.68222\n",
            "\u001b[1m15/15\u001b[0m \u001b[32m━━━━━━━━━━━━━━━━━━━━\u001b[0m\u001b[37m\u001b[0m \u001b[1m1s\u001b[0m 45ms/step - accuracy: 0.7805 - loss: 0.5528 - val_accuracy: 0.6222 - val_loss: 1.2364\n",
            "Epoch 67/500\n",
            "\u001b[1m15/15\u001b[0m \u001b[32m━━━━━━━━━━━━━━━━━━━━\u001b[0m\u001b[37m\u001b[0m \u001b[1m0s\u001b[0m 38ms/step - accuracy: 0.7372 - loss: 0.6411\n",
            "Epoch 67: val_accuracy did not improve from 0.68222\n",
            "\u001b[1m15/15\u001b[0m \u001b[32m━━━━━━━━━━━━━━━━━━━━\u001b[0m\u001b[37m\u001b[0m \u001b[1m1s\u001b[0m 49ms/step - accuracy: 0.7379 - loss: 0.6406 - val_accuracy: 0.6311 - val_loss: 1.2857\n",
            "Epoch 68/500\n",
            "\u001b[1m15/15\u001b[0m \u001b[32m━━━━━━━━━━━━━━━━━━━━\u001b[0m\u001b[37m\u001b[0m \u001b[1m0s\u001b[0m 36ms/step - accuracy: 0.8029 - loss: 0.5197\n",
            "Epoch 68: val_accuracy did not improve from 0.68222\n",
            "\u001b[1m15/15\u001b[0m \u001b[32m━━━━━━━━━━━━━━━━━━━━\u001b[0m\u001b[37m\u001b[0m \u001b[1m1s\u001b[0m 47ms/step - accuracy: 0.8022 - loss: 0.5207 - val_accuracy: 0.6467 - val_loss: 1.2717\n",
            "Epoch 69/500\n",
            "\u001b[1m14/15\u001b[0m \u001b[32m━━━━━━━━━━━━━━━━━━\u001b[0m\u001b[37m━━\u001b[0m \u001b[1m0s\u001b[0m 35ms/step - accuracy: 0.7510 - loss: 0.5986\n",
            "Epoch 69: val_accuracy did not improve from 0.68222\n",
            "\u001b[1m15/15\u001b[0m \u001b[32m━━━━━━━━━━━━━━━━━━━━\u001b[0m\u001b[37m\u001b[0m \u001b[1m1s\u001b[0m 46ms/step - accuracy: 0.7537 - loss: 0.5945 - val_accuracy: 0.6556 - val_loss: 1.4084\n",
            "Epoch 70/500\n",
            "\u001b[1m14/15\u001b[0m \u001b[32m━━━━━━━━━━━━━━━━━━\u001b[0m\u001b[37m━━\u001b[0m \u001b[1m0s\u001b[0m 34ms/step - accuracy: 0.7728 - loss: 0.5698\n",
            "Epoch 70: val_accuracy did not improve from 0.68222\n",
            "\u001b[1m15/15\u001b[0m \u001b[32m━━━━━━━━━━━━━━━━━━━━\u001b[0m\u001b[37m\u001b[0m \u001b[1m1s\u001b[0m 46ms/step - accuracy: 0.7697 - loss: 0.5760 - val_accuracy: 0.6378 - val_loss: 1.0904\n",
            "Epoch 71/500\n",
            "\u001b[1m14/15\u001b[0m \u001b[32m━━━━━━━━━━━━━━━━━━\u001b[0m\u001b[37m━━\u001b[0m \u001b[1m0s\u001b[0m 35ms/step - accuracy: 0.7058 - loss: 0.6903\n",
            "Epoch 71: val_accuracy did not improve from 0.68222\n",
            "\u001b[1m15/15\u001b[0m \u001b[32m━━━━━━━━━━━━━━━━━━━━\u001b[0m\u001b[37m\u001b[0m \u001b[1m1s\u001b[0m 46ms/step - accuracy: 0.7051 - loss: 0.6906 - val_accuracy: 0.6289 - val_loss: 1.4835\n",
            "Epoch 72/500\n",
            "\u001b[1m15/15\u001b[0m \u001b[32m━━━━━━━━━━━━━━━━━━━━\u001b[0m\u001b[37m\u001b[0m \u001b[1m0s\u001b[0m 37ms/step - accuracy: 0.7559 - loss: 0.6367\n",
            "Epoch 72: val_accuracy did not improve from 0.68222\n",
            "\u001b[1m15/15\u001b[0m \u001b[32m━━━━━━━━━━━━━━━━━━━━\u001b[0m\u001b[37m\u001b[0m \u001b[1m1s\u001b[0m 48ms/step - accuracy: 0.7532 - loss: 0.6397 - val_accuracy: 0.6111 - val_loss: 1.3494\n",
            "Epoch 73/500\n",
            "\u001b[1m13/15\u001b[0m \u001b[32m━━━━━━━━━━━━━━━━━\u001b[0m\u001b[37m━━━\u001b[0m \u001b[1m0s\u001b[0m 37ms/step - accuracy: 0.7009 - loss: 0.6782\n",
            "Epoch 73: val_accuracy did not improve from 0.68222\n",
            "\u001b[1m15/15\u001b[0m \u001b[32m━━━━━━━━━━━━━━━━━━━━\u001b[0m\u001b[37m\u001b[0m \u001b[1m1s\u001b[0m 65ms/step - accuracy: 0.7024 - loss: 0.6748 - val_accuracy: 0.6489 - val_loss: 1.1548\n",
            "Epoch 74/500\n",
            "\u001b[1m15/15\u001b[0m \u001b[32m━━━━━━━━━━━━━━━━━━━━\u001b[0m\u001b[37m\u001b[0m \u001b[1m0s\u001b[0m 52ms/step - accuracy: 0.7124 - loss: 0.6688\n",
            "Epoch 74: val_accuracy did not improve from 0.68222\n",
            "\u001b[1m15/15\u001b[0m \u001b[32m━━━━━━━━━━━━━━━━━━━━\u001b[0m\u001b[37m\u001b[0m \u001b[1m1s\u001b[0m 68ms/step - accuracy: 0.7118 - loss: 0.6696 - val_accuracy: 0.5867 - val_loss: 1.3651\n",
            "Epoch 75/500\n",
            "\u001b[1m15/15\u001b[0m \u001b[32m━━━━━━━━━━━━━━━━━━━━\u001b[0m\u001b[37m\u001b[0m \u001b[1m0s\u001b[0m 53ms/step - accuracy: 0.7094 - loss: 0.6613\n",
            "Epoch 75: val_accuracy did not improve from 0.68222\n",
            "\u001b[1m15/15\u001b[0m \u001b[32m━━━━━━━━━━━━━━━━━━━━\u001b[0m\u001b[37m\u001b[0m \u001b[1m1s\u001b[0m 66ms/step - accuracy: 0.7092 - loss: 0.6618 - val_accuracy: 0.6333 - val_loss: 1.2122\n",
            "Epoch 76/500\n",
            "\u001b[1m14/15\u001b[0m \u001b[32m━━━━━━━━━━━━━━━━━━\u001b[0m\u001b[37m━━\u001b[0m \u001b[1m0s\u001b[0m 34ms/step - accuracy: 0.7247 - loss: 0.6319\n",
            "Epoch 76: val_accuracy did not improve from 0.68222\n",
            "\u001b[1m15/15\u001b[0m \u001b[32m━━━━━━━━━━━━━━━━━━━━\u001b[0m\u001b[37m\u001b[0m \u001b[1m1s\u001b[0m 46ms/step - accuracy: 0.7254 - loss: 0.6317 - val_accuracy: 0.6311 - val_loss: 1.1958\n",
            "Epoch 77/500\n",
            "\u001b[1m15/15\u001b[0m \u001b[32m━━━━━━━━━━━━━━━━━━━━\u001b[0m\u001b[37m\u001b[0m \u001b[1m0s\u001b[0m 50ms/step - accuracy: 0.7240 - loss: 0.6458\n",
            "Epoch 77: val_accuracy did not improve from 0.68222\n",
            "\u001b[1m15/15\u001b[0m \u001b[32m━━━━━━━━━━━━━━━━━━━━\u001b[0m\u001b[37m\u001b[0m \u001b[1m1s\u001b[0m 73ms/step - accuracy: 0.7241 - loss: 0.6458 - val_accuracy: 0.5844 - val_loss: 1.2838\n",
            "Epoch 78/500\n",
            "\u001b[1m15/15\u001b[0m \u001b[32m━━━━━━━━━━━━━━━━━━━━\u001b[0m\u001b[37m\u001b[0m \u001b[1m0s\u001b[0m 53ms/step - accuracy: 0.7267 - loss: 0.6446\n",
            "Epoch 78: val_accuracy did not improve from 0.68222\n",
            "\u001b[1m15/15\u001b[0m \u001b[32m━━━━━━━━━━━━━━━━━━━━\u001b[0m\u001b[37m\u001b[0m \u001b[1m1s\u001b[0m 71ms/step - accuracy: 0.7273 - loss: 0.6437 - val_accuracy: 0.6533 - val_loss: 1.3435\n",
            "Epoch 79/500\n",
            "\u001b[1m15/15\u001b[0m \u001b[32m━━━━━━━━━━━━━━━━━━━━\u001b[0m\u001b[37m\u001b[0m \u001b[1m0s\u001b[0m 37ms/step - accuracy: 0.7667 - loss: 0.5700\n",
            "Epoch 79: val_accuracy did not improve from 0.68222\n",
            "\u001b[1m15/15\u001b[0m \u001b[32m━━━━━━━━━━━━━━━━━━━━\u001b[0m\u001b[37m\u001b[0m \u001b[1m1s\u001b[0m 49ms/step - accuracy: 0.7668 - loss: 0.5705 - val_accuracy: 0.6689 - val_loss: 1.1545\n",
            "Epoch 80/500\n",
            "\u001b[1m14/15\u001b[0m \u001b[32m━━━━━━━━━━━━━━━━━━\u001b[0m\u001b[37m━━\u001b[0m \u001b[1m0s\u001b[0m 34ms/step - accuracy: 0.7196 - loss: 0.6345\n",
            "Epoch 80: val_accuracy did not improve from 0.68222\n",
            "\u001b[1m15/15\u001b[0m \u001b[32m━━━━━━━━━━━━━━━━━━━━\u001b[0m\u001b[37m\u001b[0m \u001b[1m1s\u001b[0m 45ms/step - accuracy: 0.7210 - loss: 0.6334 - val_accuracy: 0.6222 - val_loss: 1.4604\n",
            "Epoch 81/500\n",
            "\u001b[1m14/15\u001b[0m \u001b[32m━━━━━━━━━━━━━━━━━━\u001b[0m\u001b[37m━━\u001b[0m \u001b[1m0s\u001b[0m 34ms/step - accuracy: 0.7353 - loss: 0.6319\n",
            "Epoch 81: val_accuracy did not improve from 0.68222\n",
            "\u001b[1m15/15\u001b[0m \u001b[32m━━━━━━━━━━━━━━━━━━━━\u001b[0m\u001b[37m\u001b[0m \u001b[1m1s\u001b[0m 45ms/step - accuracy: 0.7352 - loss: 0.6333 - val_accuracy: 0.6244 - val_loss: 1.1468\n",
            "Epoch 82/500\n",
            "\u001b[1m14/15\u001b[0m \u001b[32m━━━━━━━━━━━━━━━━━━\u001b[0m\u001b[37m━━\u001b[0m \u001b[1m0s\u001b[0m 34ms/step - accuracy: 0.6622 - loss: 0.7481\n",
            "Epoch 82: val_accuracy did not improve from 0.68222\n",
            "\u001b[1m15/15\u001b[0m \u001b[32m━━━━━━━━━━━━━━━━━━━━\u001b[0m\u001b[37m\u001b[0m \u001b[1m1s\u001b[0m 46ms/step - accuracy: 0.6614 - loss: 0.7515 - val_accuracy: 0.5978 - val_loss: 1.2632\n",
            "Epoch 83/500\n",
            "\u001b[1m15/15\u001b[0m \u001b[32m━━━━━━━━━━━━━━━━━━━━\u001b[0m\u001b[37m\u001b[0m \u001b[1m0s\u001b[0m 36ms/step - accuracy: 0.6634 - loss: 0.7273\n",
            "Epoch 83: val_accuracy did not improve from 0.68222\n",
            "\u001b[1m15/15\u001b[0m \u001b[32m━━━━━━━━━━━━━━━━━━━━\u001b[0m\u001b[37m\u001b[0m \u001b[1m1s\u001b[0m 48ms/step - accuracy: 0.6637 - loss: 0.7266 - val_accuracy: 0.5800 - val_loss: 1.1080\n",
            "Epoch 84/500\n",
            "\u001b[1m14/15\u001b[0m \u001b[32m━━━━━━━━━━━━━━━━━━\u001b[0m\u001b[37m━━\u001b[0m \u001b[1m0s\u001b[0m 35ms/step - accuracy: 0.6759 - loss: 0.7372\n",
            "Epoch 84: val_accuracy did not improve from 0.68222\n",
            "\u001b[1m15/15\u001b[0m \u001b[32m━━━━━━━━━━━━━━━━━━━━\u001b[0m\u001b[37m\u001b[0m \u001b[1m1s\u001b[0m 46ms/step - accuracy: 0.6771 - loss: 0.7355 - val_accuracy: 0.5956 - val_loss: 1.0083\n",
            "Epoch 85/500\n",
            "\u001b[1m14/15\u001b[0m \u001b[32m━━━━━━━━━━━━━━━━━━\u001b[0m\u001b[37m━━\u001b[0m \u001b[1m0s\u001b[0m 33ms/step - accuracy: 0.7059 - loss: 0.6737\n",
            "Epoch 85: val_accuracy did not improve from 0.68222\n",
            "\u001b[1m15/15\u001b[0m \u001b[32m━━━━━━━━━━━━━━━━━━━━\u001b[0m\u001b[37m\u001b[0m \u001b[1m1s\u001b[0m 45ms/step - accuracy: 0.7081 - loss: 0.6702 - val_accuracy: 0.6356 - val_loss: 1.3185\n",
            "Epoch 86/500\n",
            "\u001b[1m14/15\u001b[0m \u001b[32m━━━━━━━━━━━━━━━━━━\u001b[0m\u001b[37m━━\u001b[0m \u001b[1m0s\u001b[0m 35ms/step - accuracy: 0.7611 - loss: 0.5913\n",
            "Epoch 86: val_accuracy did not improve from 0.68222\n",
            "\u001b[1m15/15\u001b[0m \u001b[32m━━━━━━━━━━━━━━━━━━━━\u001b[0m\u001b[37m\u001b[0m \u001b[1m1s\u001b[0m 46ms/step - accuracy: 0.7582 - loss: 0.5957 - val_accuracy: 0.6378 - val_loss: 1.2332\n",
            "Epoch 87/500\n",
            "\u001b[1m14/15\u001b[0m \u001b[32m━━━━━━━━━━━━━━━━━━\u001b[0m\u001b[37m━━\u001b[0m \u001b[1m0s\u001b[0m 35ms/step - accuracy: 0.7386 - loss: 0.6153\n",
            "Epoch 87: val_accuracy did not improve from 0.68222\n",
            "\u001b[1m15/15\u001b[0m \u001b[32m━━━━━━━━━━━━━━━━━━━━\u001b[0m\u001b[37m\u001b[0m \u001b[1m1s\u001b[0m 47ms/step - accuracy: 0.7371 - loss: 0.6171 - val_accuracy: 0.6222 - val_loss: 1.1773\n",
            "Epoch 88/500\n",
            "\u001b[1m14/15\u001b[0m \u001b[32m━━━━━━━━━━━━━━━━━━\u001b[0m\u001b[37m━━\u001b[0m \u001b[1m0s\u001b[0m 34ms/step - accuracy: 0.7335 - loss: 0.6221\n",
            "Epoch 88: val_accuracy did not improve from 0.68222\n",
            "\u001b[1m15/15\u001b[0m \u001b[32m━━━━━━━━━━━━━━━━━━━━\u001b[0m\u001b[37m\u001b[0m \u001b[1m1s\u001b[0m 47ms/step - accuracy: 0.7324 - loss: 0.6248 - val_accuracy: 0.6511 - val_loss: 1.1218\n",
            "Epoch 89/500\n",
            "\u001b[1m14/15\u001b[0m \u001b[32m━━━━━━━━━━━━━━━━━━\u001b[0m\u001b[37m━━\u001b[0m \u001b[1m0s\u001b[0m 34ms/step - accuracy: 0.7326 - loss: 0.6574\n",
            "Epoch 89: val_accuracy did not improve from 0.68222\n",
            "\u001b[1m15/15\u001b[0m \u001b[32m━━━━━━━━━━━━━━━━━━━━\u001b[0m\u001b[37m\u001b[0m \u001b[1m1s\u001b[0m 45ms/step - accuracy: 0.7275 - loss: 0.6635 - val_accuracy: 0.5511 - val_loss: 1.3955\n",
            "Epoch 90/500\n",
            "\u001b[1m15/15\u001b[0m \u001b[32m━━━━━━━━━━━━━━━━━━━━\u001b[0m\u001b[37m\u001b[0m \u001b[1m0s\u001b[0m 43ms/step - accuracy: 0.6587 - loss: 0.7429\n",
            "Epoch 90: val_accuracy did not improve from 0.68222\n",
            "\u001b[1m15/15\u001b[0m \u001b[32m━━━━━━━━━━━━━━━━━━━━\u001b[0m\u001b[37m\u001b[0m \u001b[1m2s\u001b[0m 76ms/step - accuracy: 0.6596 - loss: 0.7413 - val_accuracy: 0.5578 - val_loss: 1.1689\n",
            "Epoch 91/500\n",
            "\u001b[1m15/15\u001b[0m \u001b[32m━━━━━━━━━━━━━━━━━━━━\u001b[0m\u001b[37m\u001b[0m \u001b[1m0s\u001b[0m 77ms/step - accuracy: 0.6780 - loss: 0.7136\n",
            "Epoch 91: val_accuracy did not improve from 0.68222\n",
            "\u001b[1m15/15\u001b[0m \u001b[32m━━━━━━━━━━━━━━━━━━━━\u001b[0m\u001b[37m\u001b[0m \u001b[1m2s\u001b[0m 100ms/step - accuracy: 0.6784 - loss: 0.7137 - val_accuracy: 0.6356 - val_loss: 1.0354\n",
            "Epoch 92/500\n",
            "\u001b[1m14/15\u001b[0m \u001b[32m━━━━━━━━━━━━━━━━━━\u001b[0m\u001b[37m━━\u001b[0m \u001b[1m0s\u001b[0m 34ms/step - accuracy: 0.7043 - loss: 0.6757\n",
            "Epoch 92: val_accuracy did not improve from 0.68222\n",
            "\u001b[1m15/15\u001b[0m \u001b[32m━━━━━━━━━━━━━━━━━━━━\u001b[0m\u001b[37m\u001b[0m \u001b[1m2s\u001b[0m 44ms/step - accuracy: 0.7024 - loss: 0.6781 - val_accuracy: 0.5578 - val_loss: 1.1480\n",
            "Epoch 93/500\n",
            "\u001b[1m14/15\u001b[0m \u001b[32m━━━━━━━━━━━━━━━━━━\u001b[0m\u001b[37m━━\u001b[0m \u001b[1m0s\u001b[0m 36ms/step - accuracy: 0.6714 - loss: 0.7166\n",
            "Epoch 93: val_accuracy did not improve from 0.68222\n",
            "\u001b[1m15/15\u001b[0m \u001b[32m━━━━━━━━━━━━━━━━━━━━\u001b[0m\u001b[37m\u001b[0m \u001b[1m1s\u001b[0m 47ms/step - accuracy: 0.6718 - loss: 0.7152 - val_accuracy: 0.5778 - val_loss: 1.0934\n",
            "Epoch 94/500\n",
            "\u001b[1m15/15\u001b[0m \u001b[32m━━━━━━━━━━━━━━━━━━━━\u001b[0m\u001b[37m\u001b[0m \u001b[1m0s\u001b[0m 37ms/step - accuracy: 0.6668 - loss: 0.7109\n",
            "Epoch 94: val_accuracy did not improve from 0.68222\n",
            "\u001b[1m15/15\u001b[0m \u001b[32m━━━━━━━━━━━━━━━━━━━━\u001b[0m\u001b[37m\u001b[0m \u001b[1m1s\u001b[0m 49ms/step - accuracy: 0.6681 - loss: 0.7095 - val_accuracy: 0.6267 - val_loss: 1.1034\n",
            "Epoch 95/500\n",
            "\u001b[1m14/15\u001b[0m \u001b[32m━━━━━━━━━━━━━━━━━━\u001b[0m\u001b[37m━━\u001b[0m \u001b[1m0s\u001b[0m 35ms/step - accuracy: 0.7177 - loss: 0.6578\n",
            "Epoch 95: val_accuracy did not improve from 0.68222\n",
            "\u001b[1m15/15\u001b[0m \u001b[32m━━━━━━━━━━━━━━━━━━━━\u001b[0m\u001b[37m\u001b[0m \u001b[1m1s\u001b[0m 46ms/step - accuracy: 0.7172 - loss: 0.6583 - val_accuracy: 0.5511 - val_loss: 1.2977\n",
            "Epoch 96/500\n",
            "\u001b[1m13/15\u001b[0m \u001b[32m━━━━━━━━━━━━━━━━━\u001b[0m\u001b[37m━━━\u001b[0m \u001b[1m0s\u001b[0m 38ms/step - accuracy: 0.7338 - loss: 0.6472\n",
            "Epoch 96: val_accuracy did not improve from 0.68222\n",
            "\u001b[1m15/15\u001b[0m \u001b[32m━━━━━━━━━━━━━━━━━━━━\u001b[0m\u001b[37m\u001b[0m \u001b[1m1s\u001b[0m 46ms/step - accuracy: 0.7323 - loss: 0.6460 - val_accuracy: 0.5711 - val_loss: 1.4533\n",
            "Epoch 97/500\n",
            "\u001b[1m14/15\u001b[0m \u001b[32m━━━━━━━━━━━━━━━━━━\u001b[0m\u001b[37m━━\u001b[0m \u001b[1m0s\u001b[0m 36ms/step - accuracy: 0.7121 - loss: 0.6613\n",
            "Epoch 97: val_accuracy did not improve from 0.68222\n",
            "\u001b[1m15/15\u001b[0m \u001b[32m━━━━━━━━━━━━━━━━━━━━\u001b[0m\u001b[37m\u001b[0m \u001b[1m1s\u001b[0m 48ms/step - accuracy: 0.7066 - loss: 0.6708 - val_accuracy: 0.6000 - val_loss: 1.0192\n",
            "Epoch 98/500\n",
            "\u001b[1m14/15\u001b[0m \u001b[32m━━━━━━━━━━━━━━━━━━\u001b[0m\u001b[37m━━\u001b[0m \u001b[1m0s\u001b[0m 36ms/step - accuracy: 0.6961 - loss: 0.6857\n",
            "Epoch 98: val_accuracy did not improve from 0.68222\n",
            "\u001b[1m15/15\u001b[0m \u001b[32m━━━━━━━━━━━━━━━━━━━━\u001b[0m\u001b[37m\u001b[0m \u001b[1m1s\u001b[0m 48ms/step - accuracy: 0.6981 - loss: 0.6831 - val_accuracy: 0.6222 - val_loss: 1.0475\n",
            "Epoch 99/500\n",
            "\u001b[1m15/15\u001b[0m \u001b[32m━━━━━━━━━━━━━━━━━━━━\u001b[0m\u001b[37m\u001b[0m \u001b[1m0s\u001b[0m 37ms/step - accuracy: 0.7208 - loss: 0.6376\n",
            "Epoch 99: val_accuracy did not improve from 0.68222\n",
            "\u001b[1m15/15\u001b[0m \u001b[32m━━━━━━━━━━━━━━━━━━━━\u001b[0m\u001b[37m\u001b[0m \u001b[1m1s\u001b[0m 48ms/step - accuracy: 0.7212 - loss: 0.6376 - val_accuracy: 0.6022 - val_loss: 1.1028\n",
            "Epoch 100/500\n",
            "\u001b[1m13/15\u001b[0m \u001b[32m━━━━━━━━━━━━━━━━━\u001b[0m\u001b[37m━━━\u001b[0m \u001b[1m0s\u001b[0m 38ms/step - accuracy: 0.7264 - loss: 0.6573\n",
            "Epoch 100: val_accuracy did not improve from 0.68222\n",
            "\u001b[1m15/15\u001b[0m \u001b[32m━━━━━━━━━━━━━━━━━━━━\u001b[0m\u001b[37m\u001b[0m \u001b[1m1s\u001b[0m 47ms/step - accuracy: 0.7280 - loss: 0.6541 - val_accuracy: 0.6333 - val_loss: 1.1109\n",
            "Epoch 101/500\n",
            "\u001b[1m15/15\u001b[0m \u001b[32m━━━━━━━━━━━━━━━━━━━━\u001b[0m\u001b[37m\u001b[0m \u001b[1m0s\u001b[0m 37ms/step - accuracy: 0.7312 - loss: 0.6265\n",
            "Epoch 101: val_accuracy did not improve from 0.68222\n",
            "\u001b[1m15/15\u001b[0m \u001b[32m━━━━━━━━━━━━━━━━━━━━\u001b[0m\u001b[37m\u001b[0m \u001b[1m1s\u001b[0m 48ms/step - accuracy: 0.7312 - loss: 0.6272 - val_accuracy: 0.6111 - val_loss: 1.1168\n",
            "Epoch 102/500\n",
            "\u001b[1m14/15\u001b[0m \u001b[32m━━━━━━━━━━━━━━━━━━\u001b[0m\u001b[37m━━\u001b[0m \u001b[1m0s\u001b[0m 35ms/step - accuracy: 0.7095 - loss: 0.6600\n",
            "Epoch 102: val_accuracy did not improve from 0.68222\n",
            "\u001b[1m15/15\u001b[0m \u001b[32m━━━━━━━━━━━━━━━━━━━━\u001b[0m\u001b[37m\u001b[0m \u001b[1m1s\u001b[0m 47ms/step - accuracy: 0.7085 - loss: 0.6616 - val_accuracy: 0.5889 - val_loss: 1.0835\n",
            "Epoch 103/500\n",
            "\u001b[1m15/15\u001b[0m \u001b[32m━━━━━━━━━━━━━━━━━━━━\u001b[0m\u001b[37m\u001b[0m \u001b[1m0s\u001b[0m 37ms/step - accuracy: 0.7185 - loss: 0.6571\n",
            "Epoch 103: val_accuracy did not improve from 0.68222\n",
            "\u001b[1m15/15\u001b[0m \u001b[32m━━━━━━━━━━━━━━━━━━━━\u001b[0m\u001b[37m\u001b[0m \u001b[1m1s\u001b[0m 51ms/step - accuracy: 0.7189 - loss: 0.6565 - val_accuracy: 0.5978 - val_loss: 1.0037\n",
            "Epoch 104/500\n",
            "\u001b[1m15/15\u001b[0m \u001b[32m━━━━━━━━━━━━━━━━━━━━\u001b[0m\u001b[37m\u001b[0m \u001b[1m0s\u001b[0m 51ms/step - accuracy: 0.7489 - loss: 0.6199\n",
            "Epoch 104: val_accuracy did not improve from 0.68222\n",
            "\u001b[1m15/15\u001b[0m \u001b[32m━━━━━━━━━━━━━━━━━━━━\u001b[0m\u001b[37m\u001b[0m \u001b[1m2s\u001b[0m 70ms/step - accuracy: 0.7498 - loss: 0.6186 - val_accuracy: 0.6044 - val_loss: 1.2798\n",
            "Epoch 105/500\n",
            "\u001b[1m14/15\u001b[0m \u001b[32m━━━━━━━━━━━━━━━━━━\u001b[0m\u001b[37m━━\u001b[0m \u001b[1m0s\u001b[0m 35ms/step - accuracy: 0.7867 - loss: 0.5498\n",
            "Epoch 105: val_accuracy did not improve from 0.68222\n",
            "\u001b[1m15/15\u001b[0m \u001b[32m━━━━━━━━━━━━━━━━━━━━\u001b[0m\u001b[37m\u001b[0m \u001b[1m1s\u001b[0m 58ms/step - accuracy: 0.7862 - loss: 0.5503 - val_accuracy: 0.6556 - val_loss: 1.0868\n",
            "Epoch 106/500\n",
            "\u001b[1m14/15\u001b[0m \u001b[32m━━━━━━━━━━━━━━━━━━\u001b[0m\u001b[37m━━\u001b[0m \u001b[1m0s\u001b[0m 35ms/step - accuracy: 0.8148 - loss: 0.5050\n",
            "Epoch 106: val_accuracy did not improve from 0.68222\n",
            "\u001b[1m15/15\u001b[0m \u001b[32m━━━━━━━━━━━━━━━━━━━━\u001b[0m\u001b[37m\u001b[0m \u001b[1m1s\u001b[0m 46ms/step - accuracy: 0.8134 - loss: 0.5063 - val_accuracy: 0.6400 - val_loss: 1.3026\n",
            "Epoch 107/500\n",
            "\u001b[1m15/15\u001b[0m \u001b[32m━━━━━━━━━━━━━━━━━━━━\u001b[0m\u001b[37m\u001b[0m \u001b[1m0s\u001b[0m 37ms/step - accuracy: 0.7943 - loss: 0.5074\n",
            "Epoch 107: val_accuracy did not improve from 0.68222\n",
            "\u001b[1m15/15\u001b[0m \u001b[32m━━━━━━━━━━━━━━━━━━━━\u001b[0m\u001b[37m\u001b[0m \u001b[1m1s\u001b[0m 50ms/step - accuracy: 0.7939 - loss: 0.5083 - val_accuracy: 0.6578 - val_loss: 1.1313\n",
            "Epoch 108/500\n",
            "\u001b[1m14/15\u001b[0m \u001b[32m━━━━━━━━━━━━━━━━━━\u001b[0m\u001b[37m━━\u001b[0m \u001b[1m0s\u001b[0m 35ms/step - accuracy: 0.8144 - loss: 0.4663\n",
            "Epoch 108: val_accuracy did not improve from 0.68222\n",
            "\u001b[1m15/15\u001b[0m \u001b[32m━━━━━━━━━━━━━━━━━━━━\u001b[0m\u001b[37m\u001b[0m \u001b[1m1s\u001b[0m 45ms/step - accuracy: 0.8127 - loss: 0.4698 - val_accuracy: 0.6511 - val_loss: 1.2672\n",
            "Epoch 109/500\n",
            "\u001b[1m15/15\u001b[0m \u001b[32m━━━━━━━━━━━━━━━━━━━━\u001b[0m\u001b[37m\u001b[0m \u001b[1m0s\u001b[0m 36ms/step - accuracy: 0.8079 - loss: 0.5239\n",
            "Epoch 109: val_accuracy did not improve from 0.68222\n",
            "\u001b[1m15/15\u001b[0m \u001b[32m━━━━━━━━━━━━━━━━━━━━\u001b[0m\u001b[37m\u001b[0m \u001b[1m1s\u001b[0m 48ms/step - accuracy: 0.8074 - loss: 0.5240 - val_accuracy: 0.6333 - val_loss: 1.4653\n",
            "Epoch 110/500\n",
            "\u001b[1m14/15\u001b[0m \u001b[32m━━━━━━━━━━━━━━━━━━\u001b[0m\u001b[37m━━\u001b[0m \u001b[1m0s\u001b[0m 38ms/step - accuracy: 0.7848 - loss: 0.5530\n",
            "Epoch 110: val_accuracy did not improve from 0.68222\n",
            "\u001b[1m15/15\u001b[0m \u001b[32m━━━━━━━━━━━━━━━━━━━━\u001b[0m\u001b[37m\u001b[0m \u001b[1m1s\u001b[0m 50ms/step - accuracy: 0.7844 - loss: 0.5548 - val_accuracy: 0.6222 - val_loss: 1.0834\n",
            "Epoch 111/500\n",
            "\u001b[1m13/15\u001b[0m \u001b[32m━━━━━━━━━━━━━━━━━\u001b[0m\u001b[37m━━━\u001b[0m \u001b[1m0s\u001b[0m 39ms/step - accuracy: 0.7888 - loss: 0.5301\n",
            "Epoch 111: val_accuracy did not improve from 0.68222\n",
            "\u001b[1m15/15\u001b[0m \u001b[32m━━━━━━━━━━━━━━━━━━━━\u001b[0m\u001b[37m\u001b[0m \u001b[1m1s\u001b[0m 47ms/step - accuracy: 0.7891 - loss: 0.5277 - val_accuracy: 0.6178 - val_loss: 1.3720\n",
            "Epoch 112/500\n",
            "\u001b[1m14/15\u001b[0m \u001b[32m━━━━━━━━━━━━━━━━━━\u001b[0m\u001b[37m━━\u001b[0m \u001b[1m0s\u001b[0m 36ms/step - accuracy: 0.7716 - loss: 0.5602\n",
            "Epoch 112: val_accuracy did not improve from 0.68222\n",
            "\u001b[1m15/15\u001b[0m \u001b[32m━━━━━━━━━━━━━━━━━━━━\u001b[0m\u001b[37m\u001b[0m \u001b[1m1s\u001b[0m 47ms/step - accuracy: 0.7707 - loss: 0.5620 - val_accuracy: 0.6000 - val_loss: 1.4100\n",
            "Epoch 113/500\n",
            "\u001b[1m14/15\u001b[0m \u001b[32m━━━━━━━━━━━━━━━━━━\u001b[0m\u001b[37m━━\u001b[0m \u001b[1m0s\u001b[0m 36ms/step - accuracy: 0.7387 - loss: 0.6541\n",
            "Epoch 113: val_accuracy did not improve from 0.68222\n",
            "\u001b[1m15/15\u001b[0m \u001b[32m━━━━━━━━━━━━━━━━━━━━\u001b[0m\u001b[37m\u001b[0m \u001b[1m1s\u001b[0m 48ms/step - accuracy: 0.7399 - loss: 0.6509 - val_accuracy: 0.6044 - val_loss: 1.0339\n",
            "Epoch 114/500\n",
            "\u001b[1m14/15\u001b[0m \u001b[32m━━━━━━━━━━━━━━━━━━\u001b[0m\u001b[37m━━\u001b[0m \u001b[1m0s\u001b[0m 35ms/step - accuracy: 0.7235 - loss: 0.6394\n",
            "Epoch 114: val_accuracy did not improve from 0.68222\n",
            "\u001b[1m15/15\u001b[0m \u001b[32m━━━━━━━━━━━━━━━━━━━━\u001b[0m\u001b[37m\u001b[0m \u001b[1m1s\u001b[0m 46ms/step - accuracy: 0.7221 - loss: 0.6431 - val_accuracy: 0.6178 - val_loss: 0.9364\n",
            "Epoch 115/500\n",
            "\u001b[1m15/15\u001b[0m \u001b[32m━━━━━━━━━━━━━━━━━━━━\u001b[0m\u001b[37m\u001b[0m \u001b[1m0s\u001b[0m 36ms/step - accuracy: 0.7147 - loss: 0.6758\n",
            "Epoch 115: val_accuracy did not improve from 0.68222\n",
            "\u001b[1m15/15\u001b[0m \u001b[32m━━━━━━━━━━━━━━━━━━━━\u001b[0m\u001b[37m\u001b[0m \u001b[1m1s\u001b[0m 48ms/step - accuracy: 0.7153 - loss: 0.6740 - val_accuracy: 0.6333 - val_loss: 1.1063\n",
            "Epoch 116/500\n",
            "\u001b[1m14/15\u001b[0m \u001b[32m━━━━━━━━━━━━━━━━━━\u001b[0m\u001b[37m━━\u001b[0m \u001b[1m0s\u001b[0m 41ms/step - accuracy: 0.7055 - loss: 0.6686\n",
            "Epoch 116: val_accuracy did not improve from 0.68222\n",
            "\u001b[1m15/15\u001b[0m \u001b[32m━━━━━━━━━━━━━━━━━━━━\u001b[0m\u001b[37m\u001b[0m \u001b[1m1s\u001b[0m 65ms/step - accuracy: 0.7071 - loss: 0.6661 - val_accuracy: 0.6222 - val_loss: 1.1957\n",
            "Epoch 117/500\n",
            "\u001b[1m15/15\u001b[0m \u001b[32m━━━━━━━━━━━━━━━━━━━━\u001b[0m\u001b[37m\u001b[0m \u001b[1m0s\u001b[0m 55ms/step - accuracy: 0.7207 - loss: 0.6462\n",
            "Epoch 117: val_accuracy did not improve from 0.68222\n",
            "\u001b[1m15/15\u001b[0m \u001b[32m━━━━━━━━━━━━━━━━━━━━\u001b[0m\u001b[37m\u001b[0m \u001b[1m1s\u001b[0m 70ms/step - accuracy: 0.7209 - loss: 0.6463 - val_accuracy: 0.6133 - val_loss: 1.3233\n",
            "Epoch 118/500\n",
            "\u001b[1m14/15\u001b[0m \u001b[32m━━━━━━━━━━━━━━━━━━\u001b[0m\u001b[37m━━\u001b[0m \u001b[1m0s\u001b[0m 35ms/step - accuracy: 0.7403 - loss: 0.6249\n",
            "Epoch 118: val_accuracy did not improve from 0.68222\n",
            "\u001b[1m15/15\u001b[0m \u001b[32m━━━━━━━━━━━━━━━━━━━━\u001b[0m\u001b[37m\u001b[0m \u001b[1m1s\u001b[0m 47ms/step - accuracy: 0.7389 - loss: 0.6263 - val_accuracy: 0.6111 - val_loss: 1.1125\n",
            "Epoch 119/500\n",
            "\u001b[1m14/15\u001b[0m \u001b[32m━━━━━━━━━━━━━━━━━━\u001b[0m\u001b[37m━━\u001b[0m \u001b[1m0s\u001b[0m 36ms/step - accuracy: 0.7613 - loss: 0.6164\n",
            "Epoch 119: val_accuracy did not improve from 0.68222\n",
            "\u001b[1m15/15\u001b[0m \u001b[32m━━━━━━━━━━━━━━━━━━━━\u001b[0m\u001b[37m\u001b[0m \u001b[1m1s\u001b[0m 47ms/step - accuracy: 0.7603 - loss: 0.6164 - val_accuracy: 0.6222 - val_loss: 1.0883\n",
            "Epoch 120/500\n",
            "\u001b[1m14/15\u001b[0m \u001b[32m━━━━━━━━━━━━━━━━━━\u001b[0m\u001b[37m━━\u001b[0m \u001b[1m0s\u001b[0m 35ms/step - accuracy: 0.7450 - loss: 0.6217\n",
            "Epoch 120: val_accuracy did not improve from 0.68222\n",
            "\u001b[1m15/15\u001b[0m \u001b[32m━━━━━━━━━━━━━━━━━━━━\u001b[0m\u001b[37m\u001b[0m \u001b[1m1s\u001b[0m 47ms/step - accuracy: 0.7437 - loss: 0.6415 - val_accuracy: 0.5378 - val_loss: 1.3218\n",
            "Epoch 121/500\n",
            "\u001b[1m14/15\u001b[0m \u001b[32m━━━━━━━━━━━━━━━━━━\u001b[0m\u001b[37m━━\u001b[0m \u001b[1m0s\u001b[0m 35ms/step - accuracy: 0.6727 - loss: 0.7698\n",
            "Epoch 121: val_accuracy did not improve from 0.68222\n",
            "\u001b[1m15/15\u001b[0m \u001b[32m━━━━━━━━━━━━━━━━━━━━\u001b[0m\u001b[37m\u001b[0m \u001b[1m1s\u001b[0m 46ms/step - accuracy: 0.6751 - loss: 0.7626 - val_accuracy: 0.5956 - val_loss: 0.9097\n",
            "Epoch 122/500\n",
            "\u001b[1m13/15\u001b[0m \u001b[32m━━━━━━━━━━━━━━━━━\u001b[0m\u001b[37m━━━\u001b[0m \u001b[1m0s\u001b[0m 38ms/step - accuracy: 0.7019 - loss: 0.6848\n",
            "Epoch 122: val_accuracy did not improve from 0.68222\n",
            "\u001b[1m15/15\u001b[0m \u001b[32m━━━━━━━━━━━━━━━━━━━━\u001b[0m\u001b[37m\u001b[0m \u001b[1m1s\u001b[0m 47ms/step - accuracy: 0.7033 - loss: 0.6809 - val_accuracy: 0.6289 - val_loss: 0.8749\n",
            "Epoch 123/500\n",
            "\u001b[1m13/15\u001b[0m \u001b[32m━━━━━━━━━━━━━━━━━\u001b[0m\u001b[37m━━━\u001b[0m \u001b[1m0s\u001b[0m 38ms/step - accuracy: 0.6896 - loss: 0.6965\n",
            "Epoch 123: val_accuracy did not improve from 0.68222\n",
            "\u001b[1m15/15\u001b[0m \u001b[32m━━━━━━━━━━━━━━━━━━━━\u001b[0m\u001b[37m\u001b[0m \u001b[1m1s\u001b[0m 47ms/step - accuracy: 0.6917 - loss: 0.6941 - val_accuracy: 0.6289 - val_loss: 0.9401\n",
            "Epoch 124/500\n",
            "\u001b[1m14/15\u001b[0m \u001b[32m━━━━━━━━━━━━━━━━━━\u001b[0m\u001b[37m━━\u001b[0m \u001b[1m0s\u001b[0m 35ms/step - accuracy: 0.7232 - loss: 0.6424\n",
            "Epoch 124: val_accuracy did not improve from 0.68222\n",
            "\u001b[1m15/15\u001b[0m \u001b[32m━━━━━━━━━━━━━━━━━━━━\u001b[0m\u001b[37m\u001b[0m \u001b[1m1s\u001b[0m 46ms/step - accuracy: 0.7244 - loss: 0.6410 - val_accuracy: 0.6267 - val_loss: 0.9292\n",
            "Epoch 125/500\n",
            "\u001b[1m14/15\u001b[0m \u001b[32m━━━━━━━━━━━━━━━━━━\u001b[0m\u001b[37m━━\u001b[0m \u001b[1m0s\u001b[0m 36ms/step - accuracy: 0.7177 - loss: 0.7225\n",
            "Epoch 125: val_accuracy did not improve from 0.68222\n",
            "\u001b[1m15/15\u001b[0m \u001b[32m━━━━━━━━━━━━━━━━━━━━\u001b[0m\u001b[37m\u001b[0m \u001b[1m1s\u001b[0m 47ms/step - accuracy: 0.7179 - loss: 0.7235 - val_accuracy: 0.6311 - val_loss: 0.8810\n",
            "Epoch 126/500\n",
            "\u001b[1m14/15\u001b[0m \u001b[32m━━━━━━━━━━━━━━━━━━\u001b[0m\u001b[37m━━\u001b[0m \u001b[1m0s\u001b[0m 35ms/step - accuracy: 0.7500 - loss: 0.5963\n",
            "Epoch 126: val_accuracy did not improve from 0.68222\n",
            "\u001b[1m15/15\u001b[0m \u001b[32m━━━━━━━━━━━━━━━━━━━━\u001b[0m\u001b[37m\u001b[0m \u001b[1m1s\u001b[0m 47ms/step - accuracy: 0.7495 - loss: 0.5952 - val_accuracy: 0.6244 - val_loss: 0.8690\n",
            "Epoch 127/500\n",
            "\u001b[1m15/15\u001b[0m \u001b[32m━━━━━━━━━━━━━━━━━━━━\u001b[0m\u001b[37m\u001b[0m \u001b[1m0s\u001b[0m 37ms/step - accuracy: 0.7120 - loss: 0.6548\n",
            "Epoch 127: val_accuracy did not improve from 0.68222\n",
            "\u001b[1m15/15\u001b[0m \u001b[32m━━━━━━━━━━━━━━━━━━━━\u001b[0m\u001b[37m\u001b[0m \u001b[1m1s\u001b[0m 49ms/step - accuracy: 0.7124 - loss: 0.6541 - val_accuracy: 0.6289 - val_loss: 0.9633\n",
            "Epoch 128/500\n",
            "\u001b[1m14/15\u001b[0m \u001b[32m━━━━━━━━━━━━━━━━━━\u001b[0m\u001b[37m━━\u001b[0m \u001b[1m0s\u001b[0m 35ms/step - accuracy: 0.7375 - loss: 0.5936\n",
            "Epoch 128: val_accuracy did not improve from 0.68222\n",
            "\u001b[1m15/15\u001b[0m \u001b[32m━━━━━━━━━━━━━━━━━━━━\u001b[0m\u001b[37m\u001b[0m \u001b[1m1s\u001b[0m 52ms/step - accuracy: 0.7375 - loss: 0.5958 - val_accuracy: 0.6067 - val_loss: 0.8716\n",
            "Epoch 129/500\n",
            "\u001b[1m15/15\u001b[0m \u001b[32m━━━━━━━━━━━━━━━━━━━━\u001b[0m\u001b[37m\u001b[0m \u001b[1m0s\u001b[0m 52ms/step - accuracy: 0.6834 - loss: 0.7206\n",
            "Epoch 129: val_accuracy did not improve from 0.68222\n",
            "\u001b[1m15/15\u001b[0m \u001b[32m━━━━━━━━━━━━━━━━━━━━\u001b[0m\u001b[37m\u001b[0m \u001b[1m1s\u001b[0m 75ms/step - accuracy: 0.6829 - loss: 0.7220 - val_accuracy: 0.5933 - val_loss: 0.9178\n",
            "Epoch 130/500\n",
            "\u001b[1m15/15\u001b[0m \u001b[32m━━━━━━━━━━━━━━━━━━━━\u001b[0m\u001b[37m\u001b[0m \u001b[1m0s\u001b[0m 50ms/step - accuracy: 0.6720 - loss: 0.7447\n",
            "Epoch 130: val_accuracy did not improve from 0.68222\n",
            "\u001b[1m15/15\u001b[0m \u001b[32m━━━━━━━━━━━━━━━━━━━━\u001b[0m\u001b[37m\u001b[0m \u001b[1m1s\u001b[0m 61ms/step - accuracy: 0.6699 - loss: 0.7550 - val_accuracy: 0.5978 - val_loss: 0.8963\n",
            "Epoch 131/500\n",
            "\u001b[1m13/15\u001b[0m \u001b[32m━━━━━━━━━━━━━━━━━\u001b[0m\u001b[37m━━━\u001b[0m \u001b[1m0s\u001b[0m 38ms/step - accuracy: 0.6505 - loss: 0.7697\n",
            "Epoch 131: val_accuracy did not improve from 0.68222\n",
            "\u001b[1m15/15\u001b[0m \u001b[32m━━━━━━━━━━━━━━━━━━━━\u001b[0m\u001b[37m\u001b[0m \u001b[1m1s\u001b[0m 47ms/step - accuracy: 0.6522 - loss: 0.7665 - val_accuracy: 0.5622 - val_loss: 1.1181\n",
            "Epoch 132/500\n",
            "\u001b[1m14/15\u001b[0m \u001b[32m━━━━━━━━━━━━━━━━━━\u001b[0m\u001b[37m━━\u001b[0m \u001b[1m0s\u001b[0m 35ms/step - accuracy: 0.6988 - loss: 0.7165\n",
            "Epoch 132: val_accuracy did not improve from 0.68222\n",
            "\u001b[1m15/15\u001b[0m \u001b[32m━━━━━━━━━━━━━━━━━━━━\u001b[0m\u001b[37m\u001b[0m \u001b[1m1s\u001b[0m 46ms/step - accuracy: 0.7022 - loss: 0.7110 - val_accuracy: 0.4467 - val_loss: 1.5083\n",
            "Epoch 133/500\n",
            "\u001b[1m15/15\u001b[0m \u001b[32m━━━━━━━━━━━━━━━━━━━━\u001b[0m\u001b[37m\u001b[0m \u001b[1m0s\u001b[0m 41ms/step - accuracy: 0.6455 - loss: 0.9259\n",
            "Epoch 133: val_accuracy did not improve from 0.68222\n",
            "\u001b[1m15/15\u001b[0m \u001b[32m━━━━━━━━━━━━━━━━━━━━\u001b[0m\u001b[37m\u001b[0m \u001b[1m1s\u001b[0m 52ms/step - accuracy: 0.6490 - loss: 0.9145 - val_accuracy: 0.6489 - val_loss: 0.8625\n",
            "Epoch 134/500\n",
            "\u001b[1m14/15\u001b[0m \u001b[32m━━━━━━━━━━━━━━━━━━\u001b[0m\u001b[37m━━\u001b[0m \u001b[1m0s\u001b[0m 35ms/step - accuracy: 0.7587 - loss: 0.5897\n",
            "Epoch 134: val_accuracy did not improve from 0.68222\n",
            "\u001b[1m15/15\u001b[0m \u001b[32m━━━━━━━━━━━━━━━━━━━━\u001b[0m\u001b[37m\u001b[0m \u001b[1m1s\u001b[0m 46ms/step - accuracy: 0.7591 - loss: 0.5908 - val_accuracy: 0.6800 - val_loss: 0.8715\n",
            "Epoch 135/500\n",
            "\u001b[1m14/15\u001b[0m \u001b[32m━━━━━━━━━━━━━━━━━━\u001b[0m\u001b[37m━━\u001b[0m \u001b[1m0s\u001b[0m 36ms/step - accuracy: 0.7693 - loss: 0.5781\n",
            "Epoch 135: val_accuracy did not improve from 0.68222\n",
            "\u001b[1m15/15\u001b[0m \u001b[32m━━━━━━━━━━━━━━━━━━━━\u001b[0m\u001b[37m\u001b[0m \u001b[1m1s\u001b[0m 48ms/step - accuracy: 0.7682 - loss: 0.5810 - val_accuracy: 0.6356 - val_loss: 0.9514\n",
            "Epoch 136/500\n",
            "\u001b[1m15/15\u001b[0m \u001b[32m━━━━━━━━━━━━━━━━━━━━\u001b[0m\u001b[37m\u001b[0m \u001b[1m0s\u001b[0m 37ms/step - accuracy: 0.7471 - loss: 0.6047\n",
            "Epoch 136: val_accuracy did not improve from 0.68222\n",
            "\u001b[1m15/15\u001b[0m \u001b[32m━━━━━━━━━━━━━━━━━━━━\u001b[0m\u001b[37m\u001b[0m \u001b[1m1s\u001b[0m 48ms/step - accuracy: 0.7462 - loss: 0.6078 - val_accuracy: 0.5711 - val_loss: 1.2762\n",
            "Epoch 137/500\n",
            "\u001b[1m14/15\u001b[0m \u001b[32m━━━━━━━━━━━━━━━━━━\u001b[0m\u001b[37m━━\u001b[0m \u001b[1m0s\u001b[0m 36ms/step - accuracy: 0.7029 - loss: 0.7494\n",
            "Epoch 137: val_accuracy did not improve from 0.68222\n",
            "\u001b[1m15/15\u001b[0m \u001b[32m━━━━━━━━━━━━━━━━━━━━\u001b[0m\u001b[37m\u001b[0m \u001b[1m1s\u001b[0m 46ms/step - accuracy: 0.7038 - loss: 0.7420 - val_accuracy: 0.6533 - val_loss: 0.8810\n",
            "Epoch 138/500\n",
            "\u001b[1m14/15\u001b[0m \u001b[32m━━━━━━━━━━━━━━━━━━\u001b[0m\u001b[37m━━\u001b[0m \u001b[1m0s\u001b[0m 35ms/step - accuracy: 0.7512 - loss: 0.6231\n",
            "Epoch 138: val_accuracy did not improve from 0.68222\n",
            "\u001b[1m15/15\u001b[0m \u001b[32m━━━━━━━━━━━━━━━━━━━━\u001b[0m\u001b[37m\u001b[0m \u001b[1m1s\u001b[0m 46ms/step - accuracy: 0.7504 - loss: 0.6217 - val_accuracy: 0.6800 - val_loss: 0.8524\n",
            "Epoch 139/500\n",
            "\u001b[1m13/15\u001b[0m \u001b[32m━━━━━━━━━━━━━━━━━\u001b[0m\u001b[37m━━━\u001b[0m \u001b[1m0s\u001b[0m 38ms/step - accuracy: 0.7562 - loss: 0.5993\n",
            "Epoch 139: val_accuracy did not improve from 0.68222\n",
            "\u001b[1m15/15\u001b[0m \u001b[32m━━━━━━━━━━━━━━━━━━━━\u001b[0m\u001b[37m\u001b[0m \u001b[1m1s\u001b[0m 47ms/step - accuracy: 0.7565 - loss: 0.5976 - val_accuracy: 0.6600 - val_loss: 0.9346\n",
            "Epoch 140/500\n",
            "\u001b[1m14/15\u001b[0m \u001b[32m━━━━━━━━━━━━━━━━━━\u001b[0m\u001b[37m━━\u001b[0m \u001b[1m0s\u001b[0m 36ms/step - accuracy: 0.8010 - loss: 0.5377\n",
            "Epoch 140: val_accuracy did not improve from 0.68222\n",
            "\u001b[1m15/15\u001b[0m \u001b[32m━━━━━━━━━━━━━━━━━━━━\u001b[0m\u001b[37m\u001b[0m \u001b[1m1s\u001b[0m 47ms/step - accuracy: 0.7984 - loss: 0.5407 - val_accuracy: 0.6089 - val_loss: 1.1083\n",
            "Epoch 141/500\n",
            "\u001b[1m14/15\u001b[0m \u001b[32m━━━━━━━━━━━━━━━━━━\u001b[0m\u001b[37m━━\u001b[0m \u001b[1m0s\u001b[0m 47ms/step - accuracy: 0.7661 - loss: 0.6023\n",
            "Epoch 141: val_accuracy did not improve from 0.68222\n",
            "\u001b[1m15/15\u001b[0m \u001b[32m━━━━━━━━━━━━━━━━━━━━\u001b[0m\u001b[37m\u001b[0m \u001b[1m2s\u001b[0m 68ms/step - accuracy: 0.7651 - loss: 0.6030 - val_accuracy: 0.6533 - val_loss: 0.9605\n",
            "Epoch 142/500\n",
            "\u001b[1m15/15\u001b[0m \u001b[32m━━━━━━━━━━━━━━━━━━━━\u001b[0m\u001b[37m\u001b[0m \u001b[1m0s\u001b[0m 58ms/step - accuracy: 0.7725 - loss: 0.5555\n",
            "Epoch 142: val_accuracy did not improve from 0.68222\n",
            "\u001b[1m15/15\u001b[0m \u001b[32m━━━━━━━━━━━━━━━━━━━━\u001b[0m\u001b[37m\u001b[0m \u001b[1m1s\u001b[0m 72ms/step - accuracy: 0.7717 - loss: 0.5579 - val_accuracy: 0.6244 - val_loss: 0.9778\n",
            "Epoch 143/500\n",
            "\u001b[1m14/15\u001b[0m \u001b[32m━━━━━━━━━━━━━━━━━━\u001b[0m\u001b[37m━━\u001b[0m \u001b[1m0s\u001b[0m 38ms/step - accuracy: 0.7615 - loss: 0.6213\n",
            "Epoch 143: val_accuracy did not improve from 0.68222\n",
            "\u001b[1m15/15\u001b[0m \u001b[32m━━━━━━━━━━━━━━━━━━━━\u001b[0m\u001b[37m\u001b[0m \u001b[1m1s\u001b[0m 50ms/step - accuracy: 0.7598 - loss: 0.6223 - val_accuracy: 0.6111 - val_loss: 1.0656\n",
            "Epoch 144/500\n",
            "\u001b[1m15/15\u001b[0m \u001b[32m━━━━━━━━━━━━━━━━━━━━\u001b[0m\u001b[37m\u001b[0m \u001b[1m0s\u001b[0m 36ms/step - accuracy: 0.7138 - loss: 0.6883\n",
            "Epoch 144: val_accuracy did not improve from 0.68222\n",
            "\u001b[1m15/15\u001b[0m \u001b[32m━━━━━━━━━━━━━━━━━━━━\u001b[0m\u001b[37m\u001b[0m \u001b[1m1s\u001b[0m 47ms/step - accuracy: 0.7145 - loss: 0.6870 - val_accuracy: 0.6178 - val_loss: 1.0991\n",
            "Epoch 145/500\n",
            "\u001b[1m14/15\u001b[0m \u001b[32m━━━━━━━━━━━━━━━━━━\u001b[0m\u001b[37m━━\u001b[0m \u001b[1m0s\u001b[0m 35ms/step - accuracy: 0.7436 - loss: 0.6117\n",
            "Epoch 145: val_accuracy did not improve from 0.68222\n",
            "\u001b[1m15/15\u001b[0m \u001b[32m━━━━━━━━━━━━━━━━━━━━\u001b[0m\u001b[37m\u001b[0m \u001b[1m1s\u001b[0m 46ms/step - accuracy: 0.7451 - loss: 0.6093 - val_accuracy: 0.6600 - val_loss: 1.0281\n",
            "Epoch 146/500\n",
            "\u001b[1m15/15\u001b[0m \u001b[32m━━━━━━━━━━━━━━━━━━━━\u001b[0m\u001b[37m\u001b[0m \u001b[1m0s\u001b[0m 36ms/step - accuracy: 0.7914 - loss: 0.5273\n",
            "Epoch 146: val_accuracy did not improve from 0.68222\n",
            "\u001b[1m15/15\u001b[0m \u001b[32m━━━━━━━━━━━━━━━━━━━━\u001b[0m\u001b[37m\u001b[0m \u001b[1m1s\u001b[0m 47ms/step - accuracy: 0.7913 - loss: 0.5275 - val_accuracy: 0.6178 - val_loss: 0.9434\n",
            "Epoch 147/500\n",
            "\u001b[1m14/15\u001b[0m \u001b[32m━━━━━━━━━━━━━━━━━━\u001b[0m\u001b[37m━━\u001b[0m \u001b[1m0s\u001b[0m 37ms/step - accuracy: 0.7280 - loss: 0.6211\n",
            "Epoch 147: val_accuracy did not improve from 0.68222\n",
            "\u001b[1m15/15\u001b[0m \u001b[32m━━━━━━━━━━━━━━━━━━━━\u001b[0m\u001b[37m\u001b[0m \u001b[1m1s\u001b[0m 49ms/step - accuracy: 0.7293 - loss: 0.6207 - val_accuracy: 0.6222 - val_loss: 0.9379\n",
            "Epoch 148/500\n",
            "\u001b[1m14/15\u001b[0m \u001b[32m━━━━━━━━━━━━━━━━━━\u001b[0m\u001b[37m━━\u001b[0m \u001b[1m0s\u001b[0m 35ms/step - accuracy: 0.7731 - loss: 0.5593\n",
            "Epoch 148: val_accuracy did not improve from 0.68222\n",
            "\u001b[1m15/15\u001b[0m \u001b[32m━━━━━━━━━━━━━━━━━━━━\u001b[0m\u001b[37m\u001b[0m \u001b[1m1s\u001b[0m 46ms/step - accuracy: 0.7719 - loss: 0.5605 - val_accuracy: 0.6422 - val_loss: 1.0164\n",
            "Epoch 149/500\n",
            "\u001b[1m15/15\u001b[0m \u001b[32m━━━━━━━━━━━━━━━━━━━━\u001b[0m\u001b[37m\u001b[0m \u001b[1m0s\u001b[0m 35ms/step - accuracy: 0.7751 - loss: 0.5450\n",
            "Epoch 149: val_accuracy did not improve from 0.68222\n",
            "\u001b[1m15/15\u001b[0m \u001b[32m━━━━━━━━━━━━━━━━━━━━\u001b[0m\u001b[37m\u001b[0m \u001b[1m1s\u001b[0m 47ms/step - accuracy: 0.7749 - loss: 0.5455 - val_accuracy: 0.6267 - val_loss: 0.9357\n",
            "Epoch 150/500\n",
            "\u001b[1m14/15\u001b[0m \u001b[32m━━━━━━━━━━━━━━━━━━\u001b[0m\u001b[37m━━\u001b[0m \u001b[1m0s\u001b[0m 36ms/step - accuracy: 0.7633 - loss: 0.5449\n",
            "Epoch 150: val_accuracy did not improve from 0.68222\n",
            "\u001b[1m15/15\u001b[0m \u001b[32m━━━━━━━━━━━━━━━━━━━━\u001b[0m\u001b[37m\u001b[0m \u001b[1m1s\u001b[0m 48ms/step - accuracy: 0.7625 - loss: 0.5476 - val_accuracy: 0.6422 - val_loss: 0.8759\n",
            "Epoch 151/500\n",
            "\u001b[1m14/15\u001b[0m \u001b[32m━━━━━━━━━━━━━━━━━━\u001b[0m\u001b[37m━━\u001b[0m \u001b[1m0s\u001b[0m 35ms/step - accuracy: 0.7647 - loss: 0.5868\n",
            "Epoch 151: val_accuracy did not improve from 0.68222\n",
            "\u001b[1m15/15\u001b[0m \u001b[32m━━━━━━━━━━━━━━━━━━━━\u001b[0m\u001b[37m\u001b[0m \u001b[1m1s\u001b[0m 48ms/step - accuracy: 0.7628 - loss: 0.5897 - val_accuracy: 0.6244 - val_loss: 0.9598\n",
            "Epoch 152/500\n",
            "\u001b[1m13/15\u001b[0m \u001b[32m━━━━━━━━━━━━━━━━━\u001b[0m\u001b[37m━━━\u001b[0m \u001b[1m0s\u001b[0m 38ms/step - accuracy: 0.7363 - loss: 0.6397\n",
            "Epoch 152: val_accuracy did not improve from 0.68222\n",
            "\u001b[1m15/15\u001b[0m \u001b[32m━━━━━━━━━━━━━━━━━━━━\u001b[0m\u001b[37m\u001b[0m \u001b[1m1s\u001b[0m 46ms/step - accuracy: 0.7368 - loss: 0.6346 - val_accuracy: 0.6578 - val_loss: 0.8588\n",
            "Epoch 153/500\n",
            "\u001b[1m14/15\u001b[0m \u001b[32m━━━━━━━━━━━━━━━━━━\u001b[0m\u001b[37m━━\u001b[0m \u001b[1m0s\u001b[0m 35ms/step - accuracy: 0.7186 - loss: 0.6443\n",
            "Epoch 153: val_accuracy did not improve from 0.68222\n",
            "\u001b[1m15/15\u001b[0m \u001b[32m━━━━━━━━━━━━━━━━━━━━\u001b[0m\u001b[37m\u001b[0m \u001b[1m1s\u001b[0m 46ms/step - accuracy: 0.7192 - loss: 0.6442 - val_accuracy: 0.6067 - val_loss: 1.0645\n",
            "Epoch 154/500\n",
            "\u001b[1m15/15\u001b[0m \u001b[32m━━━━━━━━━━━━━━━━━━━━\u001b[0m\u001b[37m\u001b[0m \u001b[1m0s\u001b[0m 51ms/step - accuracy: 0.7035 - loss: 0.6703\n",
            "Epoch 154: val_accuracy did not improve from 0.68222\n",
            "\u001b[1m15/15\u001b[0m \u001b[32m━━━━━━━━━━━━━━━━━━━━\u001b[0m\u001b[37m\u001b[0m \u001b[1m2s\u001b[0m 65ms/step - accuracy: 0.7025 - loss: 0.6726 - val_accuracy: 0.6000 - val_loss: 0.9858\n",
            "Epoch 155/500\n",
            "\u001b[1m15/15\u001b[0m \u001b[32m━━━━━━━━━━━━━━━━━━━━\u001b[0m\u001b[37m\u001b[0m \u001b[1m0s\u001b[0m 43ms/step - accuracy: 0.6661 - loss: 0.7486\n",
            "Epoch 155: val_accuracy did not improve from 0.68222\n",
            "\u001b[1m15/15\u001b[0m \u001b[32m━━━━━━━━━━━━━━━━━━━━\u001b[0m\u001b[37m\u001b[0m \u001b[1m1s\u001b[0m 54ms/step - accuracy: 0.6685 - loss: 0.7452 - val_accuracy: 0.6244 - val_loss: 0.9502\n",
            "Epoch 156/500\n",
            "\u001b[1m14/15\u001b[0m \u001b[32m━━━━━━━━━━━━━━━━━━\u001b[0m\u001b[37m━━\u001b[0m \u001b[1m0s\u001b[0m 35ms/step - accuracy: 0.7246 - loss: 0.6491\n",
            "Epoch 156: val_accuracy did not improve from 0.68222\n",
            "\u001b[1m15/15\u001b[0m \u001b[32m━━━━━━━━━━━━━━━━━━━━\u001b[0m\u001b[37m\u001b[0m \u001b[1m1s\u001b[0m 47ms/step - accuracy: 0.7247 - loss: 0.6467 - val_accuracy: 0.6489 - val_loss: 0.9996\n",
            "Epoch 157/500\n",
            "\u001b[1m15/15\u001b[0m \u001b[32m━━━━━━━━━━━━━━━━━━━━\u001b[0m\u001b[37m\u001b[0m \u001b[1m0s\u001b[0m 36ms/step - accuracy: 0.7705 - loss: 0.5622\n",
            "Epoch 157: val_accuracy did not improve from 0.68222\n",
            "\u001b[1m15/15\u001b[0m \u001b[32m━━━━━━━━━━━━━━━━━━━━\u001b[0m\u001b[37m\u001b[0m \u001b[1m1s\u001b[0m 47ms/step - accuracy: 0.7690 - loss: 0.5640 - val_accuracy: 0.6267 - val_loss: 1.0319\n",
            "Epoch 158/500\n",
            "\u001b[1m14/15\u001b[0m \u001b[32m━━━━━━━━━━━━━━━━━━\u001b[0m\u001b[37m━━\u001b[0m \u001b[1m0s\u001b[0m 36ms/step - accuracy: 0.7304 - loss: 0.6210\n",
            "Epoch 158: val_accuracy did not improve from 0.68222\n",
            "\u001b[1m15/15\u001b[0m \u001b[32m━━━━━━━━━━━━━━━━━━━━\u001b[0m\u001b[37m\u001b[0m \u001b[1m1s\u001b[0m 47ms/step - accuracy: 0.7312 - loss: 0.6207 - val_accuracy: 0.6511 - val_loss: 0.9937\n",
            "Epoch 159/500\n",
            "\u001b[1m14/15\u001b[0m \u001b[32m━━━━━━━━━━━━━━━━━━\u001b[0m\u001b[37m━━\u001b[0m \u001b[1m0s\u001b[0m 35ms/step - accuracy: 0.7587 - loss: 0.5649\n",
            "Epoch 159: val_accuracy did not improve from 0.68222\n",
            "\u001b[1m15/15\u001b[0m \u001b[32m━━━━━━━━━━━━━━━━━━━━\u001b[0m\u001b[37m\u001b[0m \u001b[1m1s\u001b[0m 47ms/step - accuracy: 0.7576 - loss: 0.5666 - val_accuracy: 0.6378 - val_loss: 0.9884\n",
            "Epoch 160/500\n",
            "\u001b[1m14/15\u001b[0m \u001b[32m━━━━━━━━━━━━━━━━━━\u001b[0m\u001b[37m━━\u001b[0m \u001b[1m0s\u001b[0m 36ms/step - accuracy: 0.7554 - loss: 0.5769\n",
            "Epoch 160: val_accuracy did not improve from 0.68222\n",
            "\u001b[1m15/15\u001b[0m \u001b[32m━━━━━━━━━━━━━━━━━━━━\u001b[0m\u001b[37m\u001b[0m \u001b[1m1s\u001b[0m 47ms/step - accuracy: 0.7547 - loss: 0.5789 - val_accuracy: 0.6356 - val_loss: 0.9700\n",
            "Epoch 161/500\n",
            "\u001b[1m14/15\u001b[0m \u001b[32m━━━━━━━━━━━━━━━━━━\u001b[0m\u001b[37m━━\u001b[0m \u001b[1m0s\u001b[0m 37ms/step - accuracy: 0.7109 - loss: 0.6467\n",
            "Epoch 161: val_accuracy did not improve from 0.68222\n",
            "\u001b[1m15/15\u001b[0m \u001b[32m━━━━━━━━━━━━━━━━━━━━\u001b[0m\u001b[37m\u001b[0m \u001b[1m1s\u001b[0m 49ms/step - accuracy: 0.7128 - loss: 0.6436 - val_accuracy: 0.6356 - val_loss: 0.9601\n",
            "Epoch 162/500\n",
            "\u001b[1m14/15\u001b[0m \u001b[32m━━━━━━━━━━━━━━━━━━\u001b[0m\u001b[37m━━\u001b[0m \u001b[1m0s\u001b[0m 35ms/step - accuracy: 0.7413 - loss: 0.5957\n",
            "Epoch 162: val_accuracy did not improve from 0.68222\n",
            "\u001b[1m15/15\u001b[0m \u001b[32m━━━━━━━━━━━━━━━━━━━━\u001b[0m\u001b[37m\u001b[0m \u001b[1m1s\u001b[0m 46ms/step - accuracy: 0.7401 - loss: 0.5997 - val_accuracy: 0.5956 - val_loss: 1.1544\n",
            "Epoch 163/500\n",
            "\u001b[1m14/15\u001b[0m \u001b[32m━━━━━━━━━━━━━━━━━━\u001b[0m\u001b[37m━━\u001b[0m \u001b[1m0s\u001b[0m 35ms/step - accuracy: 0.7380 - loss: 0.6289\n",
            "Epoch 163: val_accuracy did not improve from 0.68222\n",
            "\u001b[1m15/15\u001b[0m \u001b[32m━━━━━━━━━━━━━━━━━━━━\u001b[0m\u001b[37m\u001b[0m \u001b[1m1s\u001b[0m 47ms/step - accuracy: 0.7395 - loss: 0.6253 - val_accuracy: 0.6689 - val_loss: 0.9073\n",
            "Epoch 164/500\n",
            "\u001b[1m14/15\u001b[0m \u001b[32m━━━━━━━━━━━━━━━━━━\u001b[0m\u001b[37m━━\u001b[0m \u001b[1m0s\u001b[0m 35ms/step - accuracy: 0.7854 - loss: 0.5484\n",
            "Epoch 164: val_accuracy did not improve from 0.68222\n",
            "\u001b[1m15/15\u001b[0m \u001b[32m━━━━━━━━━━━━━━━━━━━━\u001b[0m\u001b[37m\u001b[0m \u001b[1m1s\u001b[0m 46ms/step - accuracy: 0.7839 - loss: 0.5497 - val_accuracy: 0.6511 - val_loss: 0.9974\n",
            "Epoch 165/500\n",
            "\u001b[1m14/15\u001b[0m \u001b[32m━━━━━━━━━━━━━━━━━━\u001b[0m\u001b[37m━━\u001b[0m \u001b[1m0s\u001b[0m 34ms/step - accuracy: 0.7606 - loss: 0.5709\n",
            "Epoch 165: val_accuracy did not improve from 0.68222\n",
            "\u001b[1m15/15\u001b[0m \u001b[32m━━━━━━━━━━━━━━━━━━━━\u001b[0m\u001b[37m\u001b[0m \u001b[1m1s\u001b[0m 46ms/step - accuracy: 0.7592 - loss: 0.5742 - val_accuracy: 0.5978 - val_loss: 1.3167\n",
            "Epoch 166/500\n",
            "\u001b[1m14/15\u001b[0m \u001b[32m━━━━━━━━━━━━━━━━━━\u001b[0m\u001b[37m━━\u001b[0m \u001b[1m0s\u001b[0m 35ms/step - accuracy: 0.7537 - loss: 0.5777\n",
            "Epoch 166: val_accuracy did not improve from 0.68222\n",
            "\u001b[1m15/15\u001b[0m \u001b[32m━━━━━━━━━━━━━━━━━━━━\u001b[0m\u001b[37m\u001b[0m \u001b[1m1s\u001b[0m 58ms/step - accuracy: 0.7528 - loss: 0.5802 - val_accuracy: 0.6133 - val_loss: 1.0638\n",
            "Epoch 167/500\n",
            "\u001b[1m15/15\u001b[0m \u001b[32m━━━━━━━━━━━━━━━━━━━━\u001b[0m\u001b[37m\u001b[0m \u001b[1m0s\u001b[0m 55ms/step - accuracy: 0.7596 - loss: 0.5874\n",
            "Epoch 167: val_accuracy did not improve from 0.68222\n",
            "\u001b[1m15/15\u001b[0m \u001b[32m━━━━━━━━━━━━━━━━━━━━\u001b[0m\u001b[37m\u001b[0m \u001b[1m1s\u001b[0m 72ms/step - accuracy: 0.7584 - loss: 0.5892 - val_accuracy: 0.6133 - val_loss: 1.0755\n",
            "Epoch 168/500\n",
            "\u001b[1m13/15\u001b[0m \u001b[32m━━━━━━━━━━━━━━━━━\u001b[0m\u001b[37m━━━\u001b[0m \u001b[1m0s\u001b[0m 60ms/step - accuracy: 0.7452 - loss: 0.5962\n",
            "Epoch 168: val_accuracy did not improve from 0.68222\n",
            "\u001b[1m15/15\u001b[0m \u001b[32m━━━━━━━━━━━━━━━━━━━━\u001b[0m\u001b[37m\u001b[0m \u001b[1m1s\u001b[0m 65ms/step - accuracy: 0.7451 - loss: 0.5976 - val_accuracy: 0.6578 - val_loss: 0.9867\n",
            "Epoch 169/500\n",
            "\u001b[1m14/15\u001b[0m \u001b[32m━━━━━━━━━━━━━━━━━━\u001b[0m\u001b[37m━━\u001b[0m \u001b[1m0s\u001b[0m 37ms/step - accuracy: 0.7577 - loss: 0.6184\n",
            "Epoch 169: val_accuracy did not improve from 0.68222\n",
            "\u001b[1m15/15\u001b[0m \u001b[32m━━━━━━━━━━━━━━━━━━━━\u001b[0m\u001b[37m\u001b[0m \u001b[1m1s\u001b[0m 48ms/step - accuracy: 0.7588 - loss: 0.6153 - val_accuracy: 0.6467 - val_loss: 0.9891\n",
            "Epoch 170/500\n",
            "\u001b[1m15/15\u001b[0m \u001b[32m━━━━━━━━━━━━━━━━━━━━\u001b[0m\u001b[37m\u001b[0m \u001b[1m0s\u001b[0m 38ms/step - accuracy: 0.7731 - loss: 0.5694\n",
            "Epoch 170: val_accuracy did not improve from 0.68222\n",
            "\u001b[1m15/15\u001b[0m \u001b[32m━━━━━━━━━━━━━━━━━━━━\u001b[0m\u001b[37m\u001b[0m \u001b[1m1s\u001b[0m 50ms/step - accuracy: 0.7727 - loss: 0.5696 - val_accuracy: 0.6489 - val_loss: 1.1422\n",
            "Epoch 171/500\n",
            "\u001b[1m13/15\u001b[0m \u001b[32m━━━━━━━━━━━━━━━━━\u001b[0m\u001b[37m━━━\u001b[0m \u001b[1m0s\u001b[0m 39ms/step - accuracy: 0.8096 - loss: 0.5240\n",
            "Epoch 171: val_accuracy did not improve from 0.68222\n",
            "\u001b[1m15/15\u001b[0m \u001b[32m━━━━━━━━━━━━━━━━━━━━\u001b[0m\u001b[37m\u001b[0m \u001b[1m1s\u001b[0m 48ms/step - accuracy: 0.8079 - loss: 0.5250 - val_accuracy: 0.6689 - val_loss: 1.2484\n",
            "Epoch 172/500\n",
            "\u001b[1m15/15\u001b[0m \u001b[32m━━━━━━━━━━━━━━━━━━━━\u001b[0m\u001b[37m\u001b[0m \u001b[1m0s\u001b[0m 36ms/step - accuracy: 0.8025 - loss: 0.4860\n",
            "Epoch 172: val_accuracy did not improve from 0.68222\n",
            "\u001b[1m15/15\u001b[0m \u001b[32m━━━━━━━━━━━━━━━━━━━━\u001b[0m\u001b[37m\u001b[0m \u001b[1m1s\u001b[0m 47ms/step - accuracy: 0.8027 - loss: 0.4866 - val_accuracy: 0.6733 - val_loss: 1.0705\n",
            "Epoch 173/500\n",
            "\u001b[1m14/15\u001b[0m \u001b[32m━━━━━━━━━━━━━━━━━━\u001b[0m\u001b[37m━━\u001b[0m \u001b[1m0s\u001b[0m 35ms/step - accuracy: 0.8056 - loss: 0.5062\n",
            "Epoch 173: val_accuracy did not improve from 0.68222\n",
            "\u001b[1m15/15\u001b[0m \u001b[32m━━━━━━━━━━━━━━━━━━━━\u001b[0m\u001b[37m\u001b[0m \u001b[1m1s\u001b[0m 46ms/step - accuracy: 0.8032 - loss: 0.5113 - val_accuracy: 0.6378 - val_loss: 1.1249\n",
            "Epoch 174/500\n",
            "\u001b[1m14/15\u001b[0m \u001b[32m━━━━━━━━━━━━━━━━━━\u001b[0m\u001b[37m━━\u001b[0m \u001b[1m0s\u001b[0m 36ms/step - accuracy: 0.7555 - loss: 0.7083\n",
            "Epoch 174: val_accuracy did not improve from 0.68222\n",
            "\u001b[1m15/15\u001b[0m \u001b[32m━━━━━━━━━━━━━━━━━━━━\u001b[0m\u001b[37m\u001b[0m \u001b[1m1s\u001b[0m 48ms/step - accuracy: 0.7505 - loss: 0.7196 - val_accuracy: 0.6200 - val_loss: 1.0886\n",
            "Epoch 175/500\n",
            "\u001b[1m14/15\u001b[0m \u001b[32m━━━━━━━━━━━━━━━━━━\u001b[0m\u001b[37m━━\u001b[0m \u001b[1m0s\u001b[0m 38ms/step - accuracy: 0.7524 - loss: 0.6210\n",
            "Epoch 175: val_accuracy did not improve from 0.68222\n",
            "\u001b[1m15/15\u001b[0m \u001b[32m━━━━━━━━━━━━━━━━━━━━\u001b[0m\u001b[37m\u001b[0m \u001b[1m1s\u001b[0m 49ms/step - accuracy: 0.7512 - loss: 0.6230 - val_accuracy: 0.6178 - val_loss: 0.9404\n",
            "Epoch 176/500\n",
            "\u001b[1m14/15\u001b[0m \u001b[32m━━━━━━━━━━━━━━━━━━\u001b[0m\u001b[37m━━\u001b[0m \u001b[1m0s\u001b[0m 36ms/step - accuracy: 0.7162 - loss: 0.6610\n",
            "Epoch 176: val_accuracy did not improve from 0.68222\n",
            "\u001b[1m15/15\u001b[0m \u001b[32m━━━━━━━━━━━━━━━━━━━━\u001b[0m\u001b[37m\u001b[0m \u001b[1m1s\u001b[0m 47ms/step - accuracy: 0.7177 - loss: 0.6582 - val_accuracy: 0.6244 - val_loss: 0.9571\n",
            "Epoch 177/500\n",
            "\u001b[1m14/15\u001b[0m \u001b[32m━━━━━━━━━━━━━━━━━━\u001b[0m\u001b[37m━━\u001b[0m \u001b[1m0s\u001b[0m 35ms/step - accuracy: 0.7480 - loss: 0.6066\n",
            "Epoch 177: val_accuracy did not improve from 0.68222\n",
            "\u001b[1m15/15\u001b[0m \u001b[32m━━━━━━━━━━━━━━━━━━━━\u001b[0m\u001b[37m\u001b[0m \u001b[1m1s\u001b[0m 46ms/step - accuracy: 0.7491 - loss: 0.6053 - val_accuracy: 0.6711 - val_loss: 0.9056\n",
            "Epoch 178/500\n",
            "\u001b[1m15/15\u001b[0m \u001b[32m━━━━━━━━━━━━━━━━━━━━\u001b[0m\u001b[37m\u001b[0m \u001b[1m0s\u001b[0m 53ms/step - accuracy: 0.7468 - loss: 0.6316\n",
            "Epoch 178: val_accuracy did not improve from 0.68222\n",
            "\u001b[1m15/15\u001b[0m \u001b[32m━━━━━━━━━━━━━━━━━━━━\u001b[0m\u001b[37m\u001b[0m \u001b[1m2s\u001b[0m 69ms/step - accuracy: 0.7470 - loss: 0.6310 - val_accuracy: 0.6689 - val_loss: 0.9602\n",
            "Epoch 179/500\n",
            "\u001b[1m15/15\u001b[0m \u001b[32m━━━━━━━━━━━━━━━━━━━━\u001b[0m\u001b[37m\u001b[0m \u001b[1m0s\u001b[0m 57ms/step - accuracy: 0.7690 - loss: 0.5776\n",
            "Epoch 179: val_accuracy did not improve from 0.68222\n",
            "\u001b[1m15/15\u001b[0m \u001b[32m━━━━━━━━━━━━━━━━━━━━\u001b[0m\u001b[37m\u001b[0m \u001b[1m1s\u001b[0m 72ms/step - accuracy: 0.7692 - loss: 0.5779 - val_accuracy: 0.6578 - val_loss: 1.0444\n",
            "Epoch 180/500\n",
            "\u001b[1m14/15\u001b[0m \u001b[32m━━━━━━━━━━━━━━━━━━\u001b[0m\u001b[37m━━\u001b[0m \u001b[1m0s\u001b[0m 36ms/step - accuracy: 0.7498 - loss: 0.5966\n",
            "Epoch 180: val_accuracy improved from 0.68222 to 0.70444, saving model to meat_freshness_ann_500.keras\n",
            "\u001b[1m15/15\u001b[0m \u001b[32m━━━━━━━━━━━━━━━━━━━━\u001b[0m\u001b[37m\u001b[0m \u001b[1m1s\u001b[0m 62ms/step - accuracy: 0.7517 - loss: 0.5939 - val_accuracy: 0.7044 - val_loss: 0.9512\n",
            "Epoch 181/500\n",
            "\u001b[1m13/15\u001b[0m \u001b[32m━━━━━━━━━━━━━━━━━\u001b[0m\u001b[37m━━━\u001b[0m \u001b[1m0s\u001b[0m 39ms/step - accuracy: 0.7909 - loss: 0.5251\n",
            "Epoch 181: val_accuracy did not improve from 0.70444\n",
            "\u001b[1m15/15\u001b[0m \u001b[32m━━━━━━━━━━━━━━━━━━━━\u001b[0m\u001b[37m\u001b[0m \u001b[1m1s\u001b[0m 47ms/step - accuracy: 0.7900 - loss: 0.5272 - val_accuracy: 0.5867 - val_loss: 1.2088\n",
            "Epoch 182/500\n",
            "\u001b[1m14/15\u001b[0m \u001b[32m━━━━━━━━━━━━━━━━━━\u001b[0m\u001b[37m━━\u001b[0m \u001b[1m0s\u001b[0m 36ms/step - accuracy: 0.7346 - loss: 0.6441\n",
            "Epoch 182: val_accuracy did not improve from 0.70444\n",
            "\u001b[1m15/15\u001b[0m \u001b[32m━━━━━━━━━━━━━━━━━━━━\u001b[0m\u001b[37m\u001b[0m \u001b[1m1s\u001b[0m 48ms/step - accuracy: 0.7373 - loss: 0.6390 - val_accuracy: 0.6622 - val_loss: 1.0119\n",
            "Epoch 183/500\n",
            "\u001b[1m14/15\u001b[0m \u001b[32m━━━━━━━━━━━━━━━━━━\u001b[0m\u001b[37m━━\u001b[0m \u001b[1m0s\u001b[0m 36ms/step - accuracy: 0.7426 - loss: 0.6238\n",
            "Epoch 183: val_accuracy did not improve from 0.70444\n",
            "\u001b[1m15/15\u001b[0m \u001b[32m━━━━━━━━━━━━━━━━━━━━\u001b[0m\u001b[37m\u001b[0m \u001b[1m1s\u001b[0m 48ms/step - accuracy: 0.7433 - loss: 0.6224 - val_accuracy: 0.7022 - val_loss: 0.9303\n",
            "Epoch 184/500\n",
            "\u001b[1m14/15\u001b[0m \u001b[32m━━━━━━━━━━━━━━━━━━\u001b[0m\u001b[37m━━\u001b[0m \u001b[1m0s\u001b[0m 35ms/step - accuracy: 0.7793 - loss: 0.5717\n",
            "Epoch 184: val_accuracy did not improve from 0.70444\n",
            "\u001b[1m15/15\u001b[0m \u001b[32m━━━━━━━━━━━━━━━━━━━━\u001b[0m\u001b[37m\u001b[0m \u001b[1m1s\u001b[0m 46ms/step - accuracy: 0.7766 - loss: 0.5746 - val_accuracy: 0.6689 - val_loss: 1.0067\n",
            "Epoch 185/500\n",
            "\u001b[1m15/15\u001b[0m \u001b[32m━━━━━━━━━━━━━━━━━━━━\u001b[0m\u001b[37m\u001b[0m \u001b[1m0s\u001b[0m 36ms/step - accuracy: 0.7703 - loss: 0.5618\n",
            "Epoch 185: val_accuracy did not improve from 0.70444\n",
            "\u001b[1m15/15\u001b[0m \u001b[32m━━━━━━━━━━━━━━━━━━━━\u001b[0m\u001b[37m\u001b[0m \u001b[1m1s\u001b[0m 47ms/step - accuracy: 0.7707 - loss: 0.5614 - val_accuracy: 0.6733 - val_loss: 1.0384\n",
            "Epoch 186/500\n",
            "\u001b[1m14/15\u001b[0m \u001b[32m━━━━━━━━━━━━━━━━━━\u001b[0m\u001b[37m━━\u001b[0m \u001b[1m0s\u001b[0m 35ms/step - accuracy: 0.7898 - loss: 0.5328\n",
            "Epoch 186: val_accuracy did not improve from 0.70444\n",
            "\u001b[1m15/15\u001b[0m \u001b[32m━━━━━━━━━━━━━━━━━━━━\u001b[0m\u001b[37m\u001b[0m \u001b[1m1s\u001b[0m 47ms/step - accuracy: 0.7898 - loss: 0.5318 - val_accuracy: 0.6667 - val_loss: 1.0096\n",
            "Epoch 187/500\n",
            "\u001b[1m14/15\u001b[0m \u001b[32m━━━━━━━━━━━━━━━━━━\u001b[0m\u001b[37m━━\u001b[0m \u001b[1m0s\u001b[0m 35ms/step - accuracy: 0.7792 - loss: 0.5490\n",
            "Epoch 187: val_accuracy did not improve from 0.70444\n",
            "\u001b[1m15/15\u001b[0m \u001b[32m━━━━━━━━━━━━━━━━━━━━\u001b[0m\u001b[37m\u001b[0m \u001b[1m1s\u001b[0m 48ms/step - accuracy: 0.7789 - loss: 0.5496 - val_accuracy: 0.6489 - val_loss: 1.1049\n",
            "Epoch 188/500\n",
            "\u001b[1m15/15\u001b[0m \u001b[32m━━━━━━━━━━━━━━━━━━━━\u001b[0m\u001b[37m\u001b[0m \u001b[1m0s\u001b[0m 37ms/step - accuracy: 0.7754 - loss: 0.5789\n",
            "Epoch 188: val_accuracy did not improve from 0.70444\n",
            "\u001b[1m15/15\u001b[0m \u001b[32m━━━━━━━━━━━━━━━━━━━━\u001b[0m\u001b[37m\u001b[0m \u001b[1m1s\u001b[0m 48ms/step - accuracy: 0.7746 - loss: 0.5795 - val_accuracy: 0.6667 - val_loss: 0.9854\n",
            "Epoch 189/500\n",
            "\u001b[1m15/15\u001b[0m \u001b[32m━━━━━━━━━━━━━━━━━━━━\u001b[0m\u001b[37m\u001b[0m \u001b[1m0s\u001b[0m 47ms/step - accuracy: 0.7645 - loss: 0.5635\n",
            "Epoch 189: val_accuracy did not improve from 0.70444\n",
            "\u001b[1m15/15\u001b[0m \u001b[32m━━━━━━━━━━━━━━━━━━━━\u001b[0m\u001b[37m\u001b[0m \u001b[1m2s\u001b[0m 71ms/step - accuracy: 0.7647 - loss: 0.5636 - val_accuracy: 0.6778 - val_loss: 1.1396\n",
            "Epoch 190/500\n",
            "\u001b[1m15/15\u001b[0m \u001b[32m━━━━━━━━━━━━━━━━━━━━\u001b[0m\u001b[37m\u001b[0m \u001b[1m0s\u001b[0m 58ms/step - accuracy: 0.7931 - loss: 0.4987\n",
            "Epoch 190: val_accuracy did not improve from 0.70444\n",
            "\u001b[1m15/15\u001b[0m \u001b[32m━━━━━━━━━━━━━━━━━━━━\u001b[0m\u001b[37m\u001b[0m \u001b[1m1s\u001b[0m 75ms/step - accuracy: 0.7930 - loss: 0.4999 - val_accuracy: 0.6578 - val_loss: 1.1606\n",
            "Epoch 191/500\n",
            "\u001b[1m15/15\u001b[0m \u001b[32m━━━━━━━━━━━━━━━━━━━━\u001b[0m\u001b[37m\u001b[0m \u001b[1m0s\u001b[0m 36ms/step - accuracy: 0.7880 - loss: 0.5286\n",
            "Epoch 191: val_accuracy did not improve from 0.70444\n",
            "\u001b[1m15/15\u001b[0m \u001b[32m━━━━━━━━━━━━━━━━━━━━\u001b[0m\u001b[37m\u001b[0m \u001b[1m1s\u001b[0m 48ms/step - accuracy: 0.7880 - loss: 0.5290 - val_accuracy: 0.6778 - val_loss: 1.0638\n",
            "Epoch 192/500\n",
            "\u001b[1m15/15\u001b[0m \u001b[32m━━━━━━━━━━━━━━━━━━━━\u001b[0m\u001b[37m\u001b[0m \u001b[1m0s\u001b[0m 36ms/step - accuracy: 0.7879 - loss: 0.5356\n",
            "Epoch 192: val_accuracy did not improve from 0.70444\n",
            "\u001b[1m15/15\u001b[0m \u001b[32m━━━━━━━━━━━━━━━━━━━━\u001b[0m\u001b[37m\u001b[0m \u001b[1m1s\u001b[0m 48ms/step - accuracy: 0.7880 - loss: 0.5358 - val_accuracy: 0.6644 - val_loss: 1.1438\n",
            "Epoch 193/500\n",
            "\u001b[1m13/15\u001b[0m \u001b[32m━━━━━━━━━━━━━━━━━\u001b[0m\u001b[37m━━━\u001b[0m \u001b[1m0s\u001b[0m 38ms/step - accuracy: 0.7867 - loss: 0.5474\n",
            "Epoch 193: val_accuracy did not improve from 0.70444\n",
            "\u001b[1m15/15\u001b[0m \u001b[32m━━━━━━━━━━━━━━━━━━━━\u001b[0m\u001b[37m\u001b[0m \u001b[1m1s\u001b[0m 47ms/step - accuracy: 0.7861 - loss: 0.5476 - val_accuracy: 0.6711 - val_loss: 1.1379\n",
            "Epoch 194/500\n",
            "\u001b[1m14/15\u001b[0m \u001b[32m━━━━━━━━━━━━━━━━━━\u001b[0m\u001b[37m━━\u001b[0m \u001b[1m0s\u001b[0m 35ms/step - accuracy: 0.7581 - loss: 0.5959\n",
            "Epoch 194: val_accuracy did not improve from 0.70444\n",
            "\u001b[1m15/15\u001b[0m \u001b[32m━━━━━━━━━━━━━━━━━━━━\u001b[0m\u001b[37m\u001b[0m \u001b[1m1s\u001b[0m 47ms/step - accuracy: 0.7577 - loss: 0.5963 - val_accuracy: 0.5733 - val_loss: 1.4585\n",
            "Epoch 195/500\n",
            "\u001b[1m14/15\u001b[0m \u001b[32m━━━━━━━━━━━━━━━━━━\u001b[0m\u001b[37m━━\u001b[0m \u001b[1m0s\u001b[0m 36ms/step - accuracy: 0.6772 - loss: 0.7942\n",
            "Epoch 195: val_accuracy did not improve from 0.70444\n",
            "\u001b[1m15/15\u001b[0m \u001b[32m━━━━━━━━━━━━━━━━━━━━\u001b[0m\u001b[37m\u001b[0m \u001b[1m1s\u001b[0m 47ms/step - accuracy: 0.6805 - loss: 0.7866 - val_accuracy: 0.6400 - val_loss: 1.1189\n",
            "Epoch 196/500\n",
            "\u001b[1m14/15\u001b[0m \u001b[32m━━━━━━━━━━━━━━━━━━\u001b[0m\u001b[37m━━\u001b[0m \u001b[1m0s\u001b[0m 35ms/step - accuracy: 0.7374 - loss: 0.6272\n",
            "Epoch 196: val_accuracy did not improve from 0.70444\n",
            "\u001b[1m15/15\u001b[0m \u001b[32m━━━━━━━━━━━━━━━━━━━━\u001b[0m\u001b[37m\u001b[0m \u001b[1m1s\u001b[0m 46ms/step - accuracy: 0.7328 - loss: 0.6359 - val_accuracy: 0.5733 - val_loss: 1.0740\n",
            "Epoch 197/500\n",
            "\u001b[1m15/15\u001b[0m \u001b[32m━━━━━━━━━━━━━━━━━━━━\u001b[0m\u001b[37m\u001b[0m \u001b[1m0s\u001b[0m 38ms/step - accuracy: 0.6463 - loss: 0.7633\n",
            "Epoch 197: val_accuracy did not improve from 0.70444\n",
            "\u001b[1m15/15\u001b[0m \u001b[32m━━━━━━━━━━━━━━━━━━━━\u001b[0m\u001b[37m\u001b[0m \u001b[1m1s\u001b[0m 50ms/step - accuracy: 0.6459 - loss: 0.7635 - val_accuracy: 0.5778 - val_loss: 1.0552\n",
            "Epoch 198/500\n",
            "\u001b[1m14/15\u001b[0m \u001b[32m━━━━━━━━━━━━━━━━━━\u001b[0m\u001b[37m━━\u001b[0m \u001b[1m0s\u001b[0m 36ms/step - accuracy: 0.6427 - loss: 0.7565\n",
            "Epoch 198: val_accuracy did not improve from 0.70444\n",
            "\u001b[1m15/15\u001b[0m \u001b[32m━━━━━━━━━━━━━━━━━━━━\u001b[0m\u001b[37m\u001b[0m \u001b[1m1s\u001b[0m 48ms/step - accuracy: 0.6446 - loss: 0.7543 - val_accuracy: 0.5844 - val_loss: 1.0559\n",
            "Epoch 199/500\n",
            "\u001b[1m14/15\u001b[0m \u001b[32m━━━━━━━━━━━━━━━━━━\u001b[0m\u001b[37m━━\u001b[0m \u001b[1m0s\u001b[0m 37ms/step - accuracy: 0.6408 - loss: 0.7538\n",
            "Epoch 199: val_accuracy did not improve from 0.70444\n",
            "\u001b[1m15/15\u001b[0m \u001b[32m━━━━━━━━━━━━━━━━━━━━\u001b[0m\u001b[37m\u001b[0m \u001b[1m1s\u001b[0m 48ms/step - accuracy: 0.6433 - loss: 0.7507 - val_accuracy: 0.6267 - val_loss: 1.1064\n",
            "Epoch 200/500\n",
            "\u001b[1m14/15\u001b[0m \u001b[32m━━━━━━━━━━━━━━━━━━\u001b[0m\u001b[37m━━\u001b[0m \u001b[1m0s\u001b[0m 35ms/step - accuracy: 0.7031 - loss: 0.6748\n",
            "Epoch 200: val_accuracy did not improve from 0.70444\n",
            "\u001b[1m15/15\u001b[0m \u001b[32m━━━━━━━━━━━━━━━━━━━━\u001b[0m\u001b[37m\u001b[0m \u001b[1m1s\u001b[0m 46ms/step - accuracy: 0.7007 - loss: 0.6765 - val_accuracy: 0.6111 - val_loss: 1.1365\n",
            "Epoch 201/500\n",
            "\u001b[1m15/15\u001b[0m \u001b[32m━━━━━━━━━━━━━━━━━━━━\u001b[0m\u001b[37m\u001b[0m \u001b[1m0s\u001b[0m 54ms/step - accuracy: 0.6934 - loss: 0.6778\n",
            "Epoch 201: val_accuracy did not improve from 0.70444\n",
            "\u001b[1m15/15\u001b[0m \u001b[32m━━━━━━━━━━━━━━━━━━━━\u001b[0m\u001b[37m\u001b[0m \u001b[1m1s\u001b[0m 78ms/step - accuracy: 0.6931 - loss: 0.6785 - val_accuracy: 0.6200 - val_loss: 1.0706\n",
            "Epoch 202/500\n",
            "\u001b[1m15/15\u001b[0m \u001b[32m━━━━━━━━━━━━━━━━━━━━\u001b[0m\u001b[37m\u001b[0m \u001b[1m0s\u001b[0m 54ms/step - accuracy: 0.6943 - loss: 0.6853\n",
            "Epoch 202: val_accuracy did not improve from 0.70444\n",
            "\u001b[1m15/15\u001b[0m \u001b[32m━━━━━━━━━━━━━━━━━━━━\u001b[0m\u001b[37m\u001b[0m \u001b[1m1s\u001b[0m 72ms/step - accuracy: 0.6941 - loss: 0.6855 - val_accuracy: 0.6067 - val_loss: 1.0650\n",
            "Epoch 203/500\n",
            "\u001b[1m14/15\u001b[0m \u001b[32m━━━━━━━━━━━━━━━━━━\u001b[0m\u001b[37m━━\u001b[0m \u001b[1m0s\u001b[0m 37ms/step - accuracy: 0.6894 - loss: 0.7078\n",
            "Epoch 203: val_accuracy did not improve from 0.70444\n",
            "\u001b[1m15/15\u001b[0m \u001b[32m━━━━━━━━━━━━━━━━━━━━\u001b[0m\u001b[37m\u001b[0m \u001b[1m1s\u001b[0m 49ms/step - accuracy: 0.6919 - loss: 0.7039 - val_accuracy: 0.5289 - val_loss: 1.2272\n",
            "Epoch 204/500\n",
            "\u001b[1m14/15\u001b[0m \u001b[32m━━━━━━━━━━━━━━━━━━\u001b[0m\u001b[37m━━\u001b[0m \u001b[1m0s\u001b[0m 36ms/step - accuracy: 0.7271 - loss: 0.6452\n",
            "Epoch 204: val_accuracy did not improve from 0.70444\n",
            "\u001b[1m15/15\u001b[0m \u001b[32m━━━━━━━━━━━━━━━━━━━━\u001b[0m\u001b[37m\u001b[0m \u001b[1m1s\u001b[0m 47ms/step - accuracy: 0.7279 - loss: 0.6438 - val_accuracy: 0.6044 - val_loss: 1.1748\n",
            "Epoch 205/500\n",
            "\u001b[1m13/15\u001b[0m \u001b[32m━━━━━━━━━━━━━━━━━\u001b[0m\u001b[37m━━━\u001b[0m \u001b[1m0s\u001b[0m 39ms/step - accuracy: 0.7448 - loss: 0.6041\n",
            "Epoch 205: val_accuracy did not improve from 0.70444\n",
            "\u001b[1m15/15\u001b[0m \u001b[32m━━━━━━━━━━━━━━━━━━━━\u001b[0m\u001b[37m\u001b[0m \u001b[1m1s\u001b[0m 47ms/step - accuracy: 0.7423 - loss: 0.6080 - val_accuracy: 0.5956 - val_loss: 1.3317\n",
            "Epoch 206/500\n",
            "\u001b[1m13/15\u001b[0m \u001b[32m━━━━━━━━━━━━━━━━━\u001b[0m\u001b[37m━━━\u001b[0m \u001b[1m0s\u001b[0m 40ms/step - accuracy: 0.7201 - loss: 0.6557\n",
            "Epoch 206: val_accuracy did not improve from 0.70444\n",
            "\u001b[1m15/15\u001b[0m \u001b[32m━━━━━━━━━━━━━━━━━━━━\u001b[0m\u001b[37m\u001b[0m \u001b[1m1s\u001b[0m 49ms/step - accuracy: 0.7200 - loss: 0.6530 - val_accuracy: 0.6111 - val_loss: 1.2115\n",
            "Epoch 207/500\n",
            "\u001b[1m14/15\u001b[0m \u001b[32m━━━━━━━━━━━━━━━━━━\u001b[0m\u001b[37m━━\u001b[0m \u001b[1m0s\u001b[0m 36ms/step - accuracy: 0.7032 - loss: 0.6681\n",
            "Epoch 207: val_accuracy did not improve from 0.70444\n",
            "\u001b[1m15/15\u001b[0m \u001b[32m━━━━━━━━━━━━━━━━━━━━\u001b[0m\u001b[37m\u001b[0m \u001b[1m1s\u001b[0m 59ms/step - accuracy: 0.7063 - loss: 0.6629 - val_accuracy: 0.6400 - val_loss: 1.1917\n",
            "Epoch 208/500\n",
            "\u001b[1m14/15\u001b[0m \u001b[32m━━━━━━━━━━━━━━━━━━\u001b[0m\u001b[37m━━\u001b[0m \u001b[1m0s\u001b[0m 35ms/step - accuracy: 0.7397 - loss: 0.6095\n",
            "Epoch 208: val_accuracy did not improve from 0.70444\n",
            "\u001b[1m15/15\u001b[0m \u001b[32m━━━━━━━━━━━━━━━━━━━━\u001b[0m\u001b[37m\u001b[0m \u001b[1m1s\u001b[0m 46ms/step - accuracy: 0.7379 - loss: 0.6119 - val_accuracy: 0.6244 - val_loss: 1.2021\n",
            "Epoch 209/500\n",
            "\u001b[1m15/15\u001b[0m \u001b[32m━━━━━━━━━━━━━━━━━━━━\u001b[0m\u001b[37m\u001b[0m \u001b[1m0s\u001b[0m 37ms/step - accuracy: 0.7356 - loss: 0.6107\n",
            "Epoch 209: val_accuracy did not improve from 0.70444\n",
            "\u001b[1m15/15\u001b[0m \u001b[32m━━━━━━━━━━━━━━━━━━━━\u001b[0m\u001b[37m\u001b[0m \u001b[1m1s\u001b[0m 48ms/step - accuracy: 0.7348 - loss: 0.6126 - val_accuracy: 0.6533 - val_loss: 1.2475\n",
            "Epoch 210/500\n",
            "\u001b[1m14/15\u001b[0m \u001b[32m━━━━━━━━━━━━━━━━━━\u001b[0m\u001b[37m━━\u001b[0m \u001b[1m0s\u001b[0m 36ms/step - accuracy: 0.7176 - loss: 0.6508\n",
            "Epoch 210: val_accuracy did not improve from 0.70444\n",
            "\u001b[1m15/15\u001b[0m \u001b[32m━━━━━━━━━━━━━━━━━━━━\u001b[0m\u001b[37m\u001b[0m \u001b[1m1s\u001b[0m 47ms/step - accuracy: 0.7186 - loss: 0.6502 - val_accuracy: 0.6111 - val_loss: 1.1837\n",
            "Epoch 211/500\n",
            "\u001b[1m14/15\u001b[0m \u001b[32m━━━━━━━━━━━━━━━━━━\u001b[0m\u001b[37m━━\u001b[0m \u001b[1m0s\u001b[0m 36ms/step - accuracy: 0.7121 - loss: 0.6638\n",
            "Epoch 211: val_accuracy did not improve from 0.70444\n",
            "\u001b[1m15/15\u001b[0m \u001b[32m━━━━━━━━━━━━━━━━━━━━\u001b[0m\u001b[37m\u001b[0m \u001b[1m1s\u001b[0m 59ms/step - accuracy: 0.7127 - loss: 0.6626 - val_accuracy: 0.6244 - val_loss: 1.1304\n",
            "Epoch 212/500\n",
            "\u001b[1m14/15\u001b[0m \u001b[32m━━━━━━━━━━━━━━━━━━\u001b[0m\u001b[37m━━\u001b[0m \u001b[1m0s\u001b[0m 35ms/step - accuracy: 0.7349 - loss: 0.6463\n",
            "Epoch 212: val_accuracy did not improve from 0.70444\n",
            "\u001b[1m15/15\u001b[0m \u001b[32m━━━━━━━━━━━━━━━━━━━━\u001b[0m\u001b[37m\u001b[0m \u001b[1m1s\u001b[0m 47ms/step - accuracy: 0.7336 - loss: 0.6467 - val_accuracy: 0.5978 - val_loss: 1.2146\n",
            "Epoch 213/500\n",
            "\u001b[1m15/15\u001b[0m \u001b[32m━━━━━━━━━━━━━━━━━━━━\u001b[0m\u001b[37m\u001b[0m \u001b[1m0s\u001b[0m 53ms/step - accuracy: 0.6900 - loss: 0.6819\n",
            "Epoch 213: val_accuracy did not improve from 0.70444\n",
            "\u001b[1m15/15\u001b[0m \u001b[32m━━━━━━━━━━━━━━━━━━━━\u001b[0m\u001b[37m\u001b[0m \u001b[1m2s\u001b[0m 77ms/step - accuracy: 0.6894 - loss: 0.6834 - val_accuracy: 0.5889 - val_loss: 1.0883\n",
            "Epoch 214/500\n",
            "\u001b[1m15/15\u001b[0m \u001b[32m━━━━━━━━━━━━━━━━━━━━\u001b[0m\u001b[37m\u001b[0m \u001b[1m0s\u001b[0m 54ms/step - accuracy: 0.6656 - loss: 0.8146\n",
            "Epoch 214: val_accuracy did not improve from 0.70444\n",
            "\u001b[1m15/15\u001b[0m \u001b[32m━━━━━━━━━━━━━━━━━━━━\u001b[0m\u001b[37m\u001b[0m \u001b[1m1s\u001b[0m 66ms/step - accuracy: 0.6674 - loss: 0.8107 - val_accuracy: 0.5778 - val_loss: 1.1254\n",
            "Epoch 215/500\n",
            "\u001b[1m14/15\u001b[0m \u001b[32m━━━━━━━━━━━━━━━━━━\u001b[0m\u001b[37m━━\u001b[0m \u001b[1m0s\u001b[0m 36ms/step - accuracy: 0.6984 - loss: 0.6796\n",
            "Epoch 215: val_accuracy did not improve from 0.70444\n",
            "\u001b[1m15/15\u001b[0m \u001b[32m━━━━━━━━━━━━━━━━━━━━\u001b[0m\u001b[37m\u001b[0m \u001b[1m1s\u001b[0m 49ms/step - accuracy: 0.6982 - loss: 0.6809 - val_accuracy: 0.5844 - val_loss: 1.0322\n",
            "Epoch 216/500\n",
            "\u001b[1m14/15\u001b[0m \u001b[32m━━━━━━━━━━━━━━━━━━\u001b[0m\u001b[37m━━\u001b[0m \u001b[1m0s\u001b[0m 35ms/step - accuracy: 0.7248 - loss: 0.6563\n",
            "Epoch 216: val_accuracy did not improve from 0.70444\n",
            "\u001b[1m15/15\u001b[0m \u001b[32m━━━━━━━━━━━━━━━━━━━━\u001b[0m\u001b[37m\u001b[0m \u001b[1m1s\u001b[0m 47ms/step - accuracy: 0.7233 - loss: 0.6583 - val_accuracy: 0.5711 - val_loss: 1.1807\n",
            "Epoch 217/500\n",
            "\u001b[1m15/15\u001b[0m \u001b[32m━━━━━━━━━━━━━━━━━━━━\u001b[0m\u001b[37m\u001b[0m \u001b[1m0s\u001b[0m 37ms/step - accuracy: 0.7057 - loss: 0.6638\n",
            "Epoch 217: val_accuracy did not improve from 0.70444\n",
            "\u001b[1m15/15\u001b[0m \u001b[32m━━━━━━━━━━━━━━━━━━━━\u001b[0m\u001b[37m\u001b[0m \u001b[1m1s\u001b[0m 49ms/step - accuracy: 0.7055 - loss: 0.6654 - val_accuracy: 0.5556 - val_loss: 1.4198\n",
            "Epoch 218/500\n",
            "\u001b[1m15/15\u001b[0m \u001b[32m━━━━━━━━━━━━━━━━━━━━\u001b[0m\u001b[37m\u001b[0m \u001b[1m0s\u001b[0m 38ms/step - accuracy: 0.6826 - loss: 0.7860\n",
            "Epoch 218: val_accuracy did not improve from 0.70444\n",
            "\u001b[1m15/15\u001b[0m \u001b[32m━━━━━━━━━━━━━━━━━━━━\u001b[0m\u001b[37m\u001b[0m \u001b[1m1s\u001b[0m 50ms/step - accuracy: 0.6822 - loss: 0.7843 - val_accuracy: 0.6022 - val_loss: 1.0849\n",
            "Epoch 219/500\n",
            "\u001b[1m14/15\u001b[0m \u001b[32m━━━━━━━━━━━━━━━━━━\u001b[0m\u001b[37m━━\u001b[0m \u001b[1m0s\u001b[0m 37ms/step - accuracy: 0.6993 - loss: 0.6878\n",
            "Epoch 219: val_accuracy did not improve from 0.70444\n",
            "\u001b[1m15/15\u001b[0m \u001b[32m━━━━━━━━━━━━━━━━━━━━\u001b[0m\u001b[37m\u001b[0m \u001b[1m1s\u001b[0m 49ms/step - accuracy: 0.7008 - loss: 0.6853 - val_accuracy: 0.5956 - val_loss: 1.1431\n",
            "Epoch 220/500\n",
            "\u001b[1m14/15\u001b[0m \u001b[32m━━━━━━━━━━━━━━━━━━\u001b[0m\u001b[37m━━\u001b[0m \u001b[1m0s\u001b[0m 38ms/step - accuracy: 0.7220 - loss: 0.6426\n",
            "Epoch 220: val_accuracy did not improve from 0.70444\n",
            "\u001b[1m15/15\u001b[0m \u001b[32m━━━━━━━━━━━━━━━━━━━━\u001b[0m\u001b[37m\u001b[0m \u001b[1m1s\u001b[0m 48ms/step - accuracy: 0.7206 - loss: 0.6443 - val_accuracy: 0.5822 - val_loss: 1.2043\n",
            "Epoch 221/500\n",
            "\u001b[1m15/15\u001b[0m \u001b[32m━━━━━━━━━━━━━━━━━━━━\u001b[0m\u001b[37m\u001b[0m \u001b[1m0s\u001b[0m 37ms/step - accuracy: 0.6964 - loss: 0.6792\n",
            "Epoch 221: val_accuracy did not improve from 0.70444\n",
            "\u001b[1m15/15\u001b[0m \u001b[32m━━━━━━━━━━━━━━━━━━━━\u001b[0m\u001b[37m\u001b[0m \u001b[1m1s\u001b[0m 49ms/step - accuracy: 0.6985 - loss: 0.6764 - val_accuracy: 0.6089 - val_loss: 1.2206\n",
            "Epoch 222/500\n",
            "\u001b[1m15/15\u001b[0m \u001b[32m━━━━━━━━━━━━━━━━━━━━\u001b[0m\u001b[37m\u001b[0m \u001b[1m0s\u001b[0m 38ms/step - accuracy: 0.7443 - loss: 0.6157\n",
            "Epoch 222: val_accuracy did not improve from 0.70444\n",
            "\u001b[1m15/15\u001b[0m \u001b[32m━━━━━━━━━━━━━━━━━━━━\u001b[0m\u001b[37m\u001b[0m \u001b[1m1s\u001b[0m 49ms/step - accuracy: 0.7442 - loss: 0.6155 - val_accuracy: 0.6311 - val_loss: 1.1983\n",
            "Epoch 223/500\n",
            "\u001b[1m14/15\u001b[0m \u001b[32m━━━━━━━━━━━━━━━━━━\u001b[0m\u001b[37m━━\u001b[0m \u001b[1m0s\u001b[0m 37ms/step - accuracy: 0.7615 - loss: 0.5943\n",
            "Epoch 223: val_accuracy did not improve from 0.70444\n",
            "\u001b[1m15/15\u001b[0m \u001b[32m━━━━━━━━━━━━━━━━━━━━\u001b[0m\u001b[37m\u001b[0m \u001b[1m1s\u001b[0m 49ms/step - accuracy: 0.7606 - loss: 0.5953 - val_accuracy: 0.6089 - val_loss: 1.2680\n",
            "Epoch 224/500\n",
            "\u001b[1m14/15\u001b[0m \u001b[32m━━━━━━━━━━━━━━━━━━\u001b[0m\u001b[37m━━\u001b[0m \u001b[1m0s\u001b[0m 36ms/step - accuracy: 0.7491 - loss: 0.5988\n",
            "Epoch 224: val_accuracy did not improve from 0.70444\n",
            "\u001b[1m15/15\u001b[0m \u001b[32m━━━━━━━━━━━━━━━━━━━━\u001b[0m\u001b[37m\u001b[0m \u001b[1m1s\u001b[0m 48ms/step - accuracy: 0.7491 - loss: 0.5996 - val_accuracy: 0.6267 - val_loss: 1.1586\n",
            "Epoch 225/500\n",
            "\u001b[1m15/15\u001b[0m \u001b[32m━━━━━━━━━━━━━━━━━━━━\u001b[0m\u001b[37m\u001b[0m \u001b[1m0s\u001b[0m 42ms/step - accuracy: 0.7175 - loss: 0.6776\n",
            "Epoch 225: val_accuracy did not improve from 0.70444\n",
            "\u001b[1m15/15\u001b[0m \u001b[32m━━━━━━━━━━━━━━━━━━━━\u001b[0m\u001b[37m\u001b[0m \u001b[1m1s\u001b[0m 66ms/step - accuracy: 0.7157 - loss: 0.6801 - val_accuracy: 0.5822 - val_loss: 1.0674\n",
            "Epoch 226/500\n",
            "\u001b[1m15/15\u001b[0m \u001b[32m━━━━━━━━━━━━━━━━━━━━\u001b[0m\u001b[37m\u001b[0m \u001b[1m0s\u001b[0m 58ms/step - accuracy: 0.6594 - loss: 0.7291\n",
            "Epoch 226: val_accuracy did not improve from 0.70444\n",
            "\u001b[1m15/15\u001b[0m \u001b[32m━━━━━━━━━━━━━━━━━━━━\u001b[0m\u001b[37m\u001b[0m \u001b[1m1s\u001b[0m 76ms/step - accuracy: 0.6597 - loss: 0.7286 - val_accuracy: 0.5978 - val_loss: 1.2121\n",
            "Epoch 227/500\n",
            "\u001b[1m14/15\u001b[0m \u001b[32m━━━━━━━━━━━━━━━━━━\u001b[0m\u001b[37m━━\u001b[0m \u001b[1m0s\u001b[0m 41ms/step - accuracy: 0.7177 - loss: 0.6589\n",
            "Epoch 227: val_accuracy did not improve from 0.70444\n",
            "\u001b[1m15/15\u001b[0m \u001b[32m━━━━━━━━━━━━━━━━━━━━\u001b[0m\u001b[37m\u001b[0m \u001b[1m1s\u001b[0m 51ms/step - accuracy: 0.7181 - loss: 0.6574 - val_accuracy: 0.6244 - val_loss: 1.0977\n",
            "Epoch 228/500\n",
            "\u001b[1m14/15\u001b[0m \u001b[32m━━━━━━━━━━━━━━━━━━\u001b[0m\u001b[37m━━\u001b[0m \u001b[1m0s\u001b[0m 36ms/step - accuracy: 0.7234 - loss: 0.6502\n",
            "Epoch 228: val_accuracy did not improve from 0.70444\n",
            "\u001b[1m15/15\u001b[0m \u001b[32m━━━━━━━━━━━━━━━━━━━━\u001b[0m\u001b[37m\u001b[0m \u001b[1m1s\u001b[0m 47ms/step - accuracy: 0.7221 - loss: 0.6510 - val_accuracy: 0.6089 - val_loss: 1.1978\n",
            "Epoch 229/500\n",
            "\u001b[1m15/15\u001b[0m \u001b[32m━━━━━━━━━━━━━━━━━━━━\u001b[0m\u001b[37m\u001b[0m \u001b[1m0s\u001b[0m 37ms/step - accuracy: 0.7304 - loss: 0.6345\n",
            "Epoch 229: val_accuracy did not improve from 0.70444\n",
            "\u001b[1m15/15\u001b[0m \u001b[32m━━━━━━━━━━━━━━━━━━━━\u001b[0m\u001b[37m\u001b[0m \u001b[1m1s\u001b[0m 49ms/step - accuracy: 0.7307 - loss: 0.6333 - val_accuracy: 0.5911 - val_loss: 1.2252\n",
            "Epoch 230/500\n",
            "\u001b[1m14/15\u001b[0m \u001b[32m━━━━━━━━━━━━━━━━━━\u001b[0m\u001b[37m━━\u001b[0m \u001b[1m0s\u001b[0m 38ms/step - accuracy: 0.7257 - loss: 0.6317\n",
            "Epoch 230: val_accuracy did not improve from 0.70444\n",
            "\u001b[1m15/15\u001b[0m \u001b[32m━━━━━━━━━━━━━━━━━━━━\u001b[0m\u001b[37m\u001b[0m \u001b[1m1s\u001b[0m 49ms/step - accuracy: 0.7267 - loss: 0.6311 - val_accuracy: 0.6000 - val_loss: 1.1305\n",
            "Epoch 231/500\n",
            "\u001b[1m14/15\u001b[0m \u001b[32m━━━━━━━━━━━━━━━━━━\u001b[0m\u001b[37m━━\u001b[0m \u001b[1m0s\u001b[0m 37ms/step - accuracy: 0.6900 - loss: 0.6895\n",
            "Epoch 231: val_accuracy did not improve from 0.70444\n",
            "\u001b[1m15/15\u001b[0m \u001b[32m━━━━━━━━━━━━━━━━━━━━\u001b[0m\u001b[37m\u001b[0m \u001b[1m1s\u001b[0m 48ms/step - accuracy: 0.6905 - loss: 0.6886 - val_accuracy: 0.5867 - val_loss: 1.1571\n",
            "Epoch 232/500\n",
            "\u001b[1m15/15\u001b[0m \u001b[32m━━━━━━━━━━━━━━━━━━━━\u001b[0m\u001b[37m\u001b[0m \u001b[1m0s\u001b[0m 36ms/step - accuracy: 0.7016 - loss: 0.6623\n",
            "Epoch 232: val_accuracy did not improve from 0.70444\n",
            "\u001b[1m15/15\u001b[0m \u001b[32m━━━━━━━━━━━━━━━━━━━━\u001b[0m\u001b[37m\u001b[0m \u001b[1m1s\u001b[0m 48ms/step - accuracy: 0.7017 - loss: 0.6622 - val_accuracy: 0.6022 - val_loss: 1.1376\n",
            "Epoch 233/500\n",
            "\u001b[1m14/15\u001b[0m \u001b[32m━━━━━━━━━━━━━━━━━━\u001b[0m\u001b[37m━━\u001b[0m \u001b[1m0s\u001b[0m 36ms/step - accuracy: 0.7167 - loss: 0.6490\n",
            "Epoch 233: val_accuracy did not improve from 0.70444\n",
            "\u001b[1m15/15\u001b[0m \u001b[32m━━━━━━━━━━━━━━━━━━━━\u001b[0m\u001b[37m\u001b[0m \u001b[1m1s\u001b[0m 48ms/step - accuracy: 0.7175 - loss: 0.6488 - val_accuracy: 0.6333 - val_loss: 1.0823\n",
            "Epoch 234/500\n",
            "\u001b[1m15/15\u001b[0m \u001b[32m━━━━━━━━━━━━━━━━━━━━\u001b[0m\u001b[37m\u001b[0m \u001b[1m0s\u001b[0m 38ms/step - accuracy: 0.7057 - loss: 0.6489\n",
            "Epoch 234: val_accuracy did not improve from 0.70444\n",
            "\u001b[1m15/15\u001b[0m \u001b[32m━━━━━━━━━━━━━━━━━━━━\u001b[0m\u001b[37m\u001b[0m \u001b[1m1s\u001b[0m 50ms/step - accuracy: 0.7069 - loss: 0.6478 - val_accuracy: 0.6333 - val_loss: 1.1228\n",
            "Epoch 235/500\n",
            "\u001b[1m15/15\u001b[0m \u001b[32m━━━━━━━━━━━━━━━━━━━━\u001b[0m\u001b[37m\u001b[0m \u001b[1m0s\u001b[0m 37ms/step - accuracy: 0.7342 - loss: 0.6257\n",
            "Epoch 235: val_accuracy did not improve from 0.70444\n",
            "\u001b[1m15/15\u001b[0m \u001b[32m━━━━━━━━━━━━━━━━━━━━\u001b[0m\u001b[37m\u001b[0m \u001b[1m1s\u001b[0m 49ms/step - accuracy: 0.7338 - loss: 0.6258 - val_accuracy: 0.6089 - val_loss: 1.1220\n",
            "Epoch 236/500\n",
            "\u001b[1m14/15\u001b[0m \u001b[32m━━━━━━━━━━━━━━━━━━\u001b[0m\u001b[37m━━\u001b[0m \u001b[1m0s\u001b[0m 36ms/step - accuracy: 0.7012 - loss: 0.6646\n",
            "Epoch 236: val_accuracy did not improve from 0.70444\n",
            "\u001b[1m15/15\u001b[0m \u001b[32m━━━━━━━━━━━━━━━━━━━━\u001b[0m\u001b[37m\u001b[0m \u001b[1m1s\u001b[0m 47ms/step - accuracy: 0.7030 - loss: 0.6628 - val_accuracy: 0.6044 - val_loss: 1.0657\n",
            "Epoch 237/500\n",
            "\u001b[1m15/15\u001b[0m \u001b[32m━━━━━━━━━━━━━━━━━━━━\u001b[0m\u001b[37m\u001b[0m \u001b[1m0s\u001b[0m 42ms/step - accuracy: 0.6982 - loss: 0.6889\n",
            "Epoch 237: val_accuracy did not improve from 0.70444\n",
            "\u001b[1m15/15\u001b[0m \u001b[32m━━━━━━━━━━━━━━━━━━━━\u001b[0m\u001b[37m\u001b[0m \u001b[1m1s\u001b[0m 59ms/step - accuracy: 0.6983 - loss: 0.6882 - val_accuracy: 0.6289 - val_loss: 1.1017\n",
            "Epoch 238/500\n",
            "\u001b[1m15/15\u001b[0m \u001b[32m━━━━━━━━━━━━━━━━━━━━\u001b[0m\u001b[37m\u001b[0m \u001b[1m0s\u001b[0m 56ms/step - accuracy: 0.7072 - loss: 0.6620\n",
            "Epoch 238: val_accuracy did not improve from 0.70444\n",
            "\u001b[1m15/15\u001b[0m \u001b[32m━━━━━━━━━━━━━━━━━━━━\u001b[0m\u001b[37m\u001b[0m \u001b[1m1s\u001b[0m 72ms/step - accuracy: 0.7071 - loss: 0.6624 - val_accuracy: 0.5978 - val_loss: 1.1520\n",
            "Epoch 239/500\n",
            "\u001b[1m15/15\u001b[0m \u001b[32m━━━━━━━━━━━━━━━━━━━━\u001b[0m\u001b[37m\u001b[0m \u001b[1m0s\u001b[0m 55ms/step - accuracy: 0.7100 - loss: 0.6635\n",
            "Epoch 239: val_accuracy did not improve from 0.70444\n",
            "\u001b[1m15/15\u001b[0m \u001b[32m━━━━━━━━━━━━━━━━━━━━\u001b[0m\u001b[37m\u001b[0m \u001b[1m1s\u001b[0m 66ms/step - accuracy: 0.7093 - loss: 0.6639 - val_accuracy: 0.6333 - val_loss: 1.1757\n",
            "Epoch 240/500\n",
            "\u001b[1m14/15\u001b[0m \u001b[32m━━━━━━━━━━━━━━━━━━\u001b[0m\u001b[37m━━\u001b[0m \u001b[1m0s\u001b[0m 36ms/step - accuracy: 0.6998 - loss: 0.7013\n",
            "Epoch 240: val_accuracy did not improve from 0.70444\n",
            "\u001b[1m15/15\u001b[0m \u001b[32m━━━━━━━━━━━━━━━━━━━━\u001b[0m\u001b[37m\u001b[0m \u001b[1m1s\u001b[0m 48ms/step - accuracy: 0.6965 - loss: 0.7036 - val_accuracy: 0.5867 - val_loss: 1.0428\n",
            "Epoch 241/500\n",
            "\u001b[1m14/15\u001b[0m \u001b[32m━━━━━━━━━━━━━━━━━━\u001b[0m\u001b[37m━━\u001b[0m \u001b[1m0s\u001b[0m 37ms/step - accuracy: 0.6872 - loss: 0.6871\n",
            "Epoch 241: val_accuracy did not improve from 0.70444\n",
            "\u001b[1m15/15\u001b[0m \u001b[32m━━━━━━━━━━━━━━━━━━━━\u001b[0m\u001b[37m\u001b[0m \u001b[1m1s\u001b[0m 48ms/step - accuracy: 0.6864 - loss: 0.6910 - val_accuracy: 0.5911 - val_loss: 1.0153\n",
            "Epoch 242/500\n",
            "\u001b[1m15/15\u001b[0m \u001b[32m━━━━━━━━━━━━━━━━━━━━\u001b[0m\u001b[37m\u001b[0m \u001b[1m0s\u001b[0m 38ms/step - accuracy: 0.6706 - loss: 0.7185\n",
            "Epoch 242: val_accuracy did not improve from 0.70444\n",
            "\u001b[1m15/15\u001b[0m \u001b[32m━━━━━━━━━━━━━━━━━━━━\u001b[0m\u001b[37m\u001b[0m \u001b[1m1s\u001b[0m 50ms/step - accuracy: 0.6703 - loss: 0.7186 - val_accuracy: 0.6111 - val_loss: 1.0090\n",
            "Epoch 243/500\n",
            "\u001b[1m13/15\u001b[0m \u001b[32m━━━━━━━━━━━━━━━━━\u001b[0m\u001b[37m━━━\u001b[0m \u001b[1m0s\u001b[0m 39ms/step - accuracy: 0.6711 - loss: 0.7072\n",
            "Epoch 243: val_accuracy did not improve from 0.70444\n",
            "\u001b[1m15/15\u001b[0m \u001b[32m━━━━━━━━━━━━━━━━━━━━\u001b[0m\u001b[37m\u001b[0m \u001b[1m1s\u001b[0m 48ms/step - accuracy: 0.6761 - loss: 0.7020 - val_accuracy: 0.6333 - val_loss: 1.0013\n",
            "Epoch 244/500\n",
            "\u001b[1m14/15\u001b[0m \u001b[32m━━━━━━━━━━━━━━━━━━\u001b[0m\u001b[37m━━\u001b[0m \u001b[1m0s\u001b[0m 36ms/step - accuracy: 0.7057 - loss: 0.6670\n",
            "Epoch 244: val_accuracy did not improve from 0.70444\n",
            "\u001b[1m15/15\u001b[0m \u001b[32m━━━━━━━━━━━━━━━━━━━━\u001b[0m\u001b[37m\u001b[0m \u001b[1m1s\u001b[0m 47ms/step - accuracy: 0.7060 - loss: 0.6662 - val_accuracy: 0.6156 - val_loss: 1.1172\n",
            "Epoch 245/500\n",
            "\u001b[1m15/15\u001b[0m \u001b[32m━━━━━━━━━━━━━━━━━━━━\u001b[0m\u001b[37m\u001b[0m \u001b[1m0s\u001b[0m 37ms/step - accuracy: 0.6815 - loss: 0.7026\n",
            "Epoch 245: val_accuracy did not improve from 0.70444\n",
            "\u001b[1m15/15\u001b[0m \u001b[32m━━━━━━━━━━━━━━━━━━━━\u001b[0m\u001b[37m\u001b[0m \u001b[1m1s\u001b[0m 49ms/step - accuracy: 0.6809 - loss: 0.7034 - val_accuracy: 0.5822 - val_loss: 1.0253\n",
            "Epoch 246/500\n",
            "\u001b[1m14/15\u001b[0m \u001b[32m━━━━━━━━━━━━━━━━━━\u001b[0m\u001b[37m━━\u001b[0m \u001b[1m0s\u001b[0m 37ms/step - accuracy: 0.6728 - loss: 0.7069\n",
            "Epoch 246: val_accuracy did not improve from 0.70444\n",
            "\u001b[1m15/15\u001b[0m \u001b[32m━━━━━━━━━━━━━━━━━━━━\u001b[0m\u001b[37m\u001b[0m \u001b[1m1s\u001b[0m 48ms/step - accuracy: 0.6727 - loss: 0.7077 - val_accuracy: 0.6156 - val_loss: 1.0786\n",
            "Epoch 247/500\n",
            "\u001b[1m14/15\u001b[0m \u001b[32m━━━━━━━━━━━━━━━━━━\u001b[0m\u001b[37m━━\u001b[0m \u001b[1m0s\u001b[0m 36ms/step - accuracy: 0.6849 - loss: 0.7083\n",
            "Epoch 247: val_accuracy did not improve from 0.70444\n",
            "\u001b[1m15/15\u001b[0m \u001b[32m━━━━━━━━━━━━━━━━━━━━\u001b[0m\u001b[37m\u001b[0m \u001b[1m1s\u001b[0m 47ms/step - accuracy: 0.6856 - loss: 0.7072 - val_accuracy: 0.6222 - val_loss: 1.0296\n",
            "Epoch 248/500\n",
            "\u001b[1m15/15\u001b[0m \u001b[32m━━━━━━━━━━━━━━━━━━━━\u001b[0m\u001b[37m\u001b[0m \u001b[1m0s\u001b[0m 38ms/step - accuracy: 0.6996 - loss: 0.6706\n",
            "Epoch 248: val_accuracy did not improve from 0.70444\n",
            "\u001b[1m15/15\u001b[0m \u001b[32m━━━━━━━━━━━━━━━━━━━━\u001b[0m\u001b[37m\u001b[0m \u001b[1m1s\u001b[0m 51ms/step - accuracy: 0.7010 - loss: 0.6692 - val_accuracy: 0.6356 - val_loss: 1.2086\n",
            "Epoch 249/500\n",
            "\u001b[1m15/15\u001b[0m \u001b[32m━━━━━━━━━━━━━━━━━━━━\u001b[0m\u001b[37m\u001b[0m \u001b[1m0s\u001b[0m 40ms/step - accuracy: 0.7257 - loss: 0.6353\n",
            "Epoch 249: val_accuracy did not improve from 0.70444\n",
            "\u001b[1m15/15\u001b[0m \u001b[32m━━━━━━━━━━━━━━━━━━━━\u001b[0m\u001b[37m\u001b[0m \u001b[1m1s\u001b[0m 57ms/step - accuracy: 0.7263 - loss: 0.6346 - val_accuracy: 0.6067 - val_loss: 1.2430\n",
            "Epoch 250/500\n",
            "\u001b[1m15/15\u001b[0m \u001b[32m━━━━━━━━━━━━━━━━━━━━\u001b[0m\u001b[37m\u001b[0m \u001b[1m0s\u001b[0m 57ms/step - accuracy: 0.7101 - loss: 0.6720\n",
            "Epoch 250: val_accuracy did not improve from 0.70444\n",
            "\u001b[1m15/15\u001b[0m \u001b[32m━━━━━━━━━━━━━━━━━━━━\u001b[0m\u001b[37m\u001b[0m \u001b[1m1s\u001b[0m 80ms/step - accuracy: 0.7089 - loss: 0.6732 - val_accuracy: 0.6111 - val_loss: 1.1132\n",
            "Epoch 251/500\n",
            "\u001b[1m15/15\u001b[0m \u001b[32m━━━━━━━━━━━━━━━━━━━━\u001b[0m\u001b[37m\u001b[0m \u001b[1m0s\u001b[0m 50ms/step - accuracy: 0.7052 - loss: 0.6723\n",
            "Epoch 251: val_accuracy did not improve from 0.70444\n",
            "\u001b[1m15/15\u001b[0m \u001b[32m━━━━━━━━━━━━━━━━━━━━\u001b[0m\u001b[37m\u001b[0m \u001b[1m1s\u001b[0m 62ms/step - accuracy: 0.7043 - loss: 0.6734 - val_accuracy: 0.5667 - val_loss: 1.0879\n",
            "Epoch 252/500\n",
            "\u001b[1m15/15\u001b[0m \u001b[32m━━━━━━━━━━━━━━━━━━━━\u001b[0m\u001b[37m\u001b[0m \u001b[1m0s\u001b[0m 37ms/step - accuracy: 0.6834 - loss: 0.6975\n",
            "Epoch 252: val_accuracy did not improve from 0.70444\n",
            "\u001b[1m15/15\u001b[0m \u001b[32m━━━━━━━━━━━━━━━━━━━━\u001b[0m\u001b[37m\u001b[0m \u001b[1m1s\u001b[0m 49ms/step - accuracy: 0.6834 - loss: 0.6978 - val_accuracy: 0.6222 - val_loss: 1.2569\n",
            "Epoch 253/500\n",
            "\u001b[1m15/15\u001b[0m \u001b[32m━━━━━━━━━━━━━━━━━━━━\u001b[0m\u001b[37m\u001b[0m \u001b[1m0s\u001b[0m 40ms/step - accuracy: 0.7490 - loss: 0.5914\n",
            "Epoch 253: val_accuracy did not improve from 0.70444\n",
            "\u001b[1m15/15\u001b[0m \u001b[32m━━━━━━━━━━━━━━━━━━━━\u001b[0m\u001b[37m\u001b[0m \u001b[1m1s\u001b[0m 52ms/step - accuracy: 0.7494 - loss: 0.5912 - val_accuracy: 0.6000 - val_loss: 1.3505\n",
            "Epoch 254/500\n",
            "\u001b[1m14/15\u001b[0m \u001b[32m━━━━━━━━━━━━━━━━━━\u001b[0m\u001b[37m━━\u001b[0m \u001b[1m0s\u001b[0m 37ms/step - accuracy: 0.7611 - loss: 0.5881\n",
            "Epoch 254: val_accuracy did not improve from 0.70444\n",
            "\u001b[1m15/15\u001b[0m \u001b[32m━━━━━━━━━━━━━━━━━━━━\u001b[0m\u001b[37m\u001b[0m \u001b[1m1s\u001b[0m 48ms/step - accuracy: 0.7619 - loss: 0.5860 - val_accuracy: 0.6422 - val_loss: 1.1917\n",
            "Epoch 255/500\n",
            "\u001b[1m14/15\u001b[0m \u001b[32m━━━━━━━━━━━━━━━━━━\u001b[0m\u001b[37m━━\u001b[0m \u001b[1m0s\u001b[0m 40ms/step - accuracy: 0.7342 - loss: 0.6428\n",
            "Epoch 255: val_accuracy did not improve from 0.70444\n",
            "\u001b[1m15/15\u001b[0m \u001b[32m━━━━━━━━━━━━━━━━━━━━\u001b[0m\u001b[37m\u001b[0m \u001b[1m1s\u001b[0m 52ms/step - accuracy: 0.7318 - loss: 0.6495 - val_accuracy: 0.6333 - val_loss: 1.1003\n",
            "Epoch 256/500\n",
            "\u001b[1m14/15\u001b[0m \u001b[32m━━━━━━━━━━━━━━━━━━\u001b[0m\u001b[37m━━\u001b[0m \u001b[1m0s\u001b[0m 35ms/step - accuracy: 0.7098 - loss: 0.6482\n",
            "Epoch 256: val_accuracy did not improve from 0.70444\n",
            "\u001b[1m15/15\u001b[0m \u001b[32m━━━━━━━━━━━━━━━━━━━━\u001b[0m\u001b[37m\u001b[0m \u001b[1m1s\u001b[0m 47ms/step - accuracy: 0.7123 - loss: 0.6461 - val_accuracy: 0.6067 - val_loss: 1.2656\n",
            "Epoch 257/500\n",
            "\u001b[1m14/15\u001b[0m \u001b[32m━━━━━━━━━━━━━━━━━━\u001b[0m\u001b[37m━━\u001b[0m \u001b[1m0s\u001b[0m 38ms/step - accuracy: 0.7000 - loss: 0.6768\n",
            "Epoch 257: val_accuracy did not improve from 0.70444\n",
            "\u001b[1m15/15\u001b[0m \u001b[32m━━━━━━━━━━━━━━━━━━━━\u001b[0m\u001b[37m\u001b[0m \u001b[1m1s\u001b[0m 49ms/step - accuracy: 0.6986 - loss: 0.6806 - val_accuracy: 0.5667 - val_loss: 1.1110\n",
            "Epoch 258/500\n",
            "\u001b[1m14/15\u001b[0m \u001b[32m━━━━━━━━━━━━━━━━━━\u001b[0m\u001b[37m━━\u001b[0m \u001b[1m0s\u001b[0m 38ms/step - accuracy: 0.6825 - loss: 0.7280\n",
            "Epoch 258: val_accuracy did not improve from 0.70444\n",
            "\u001b[1m15/15\u001b[0m \u001b[32m━━━━━━━━━━━━━━━━━━━━\u001b[0m\u001b[37m\u001b[0m \u001b[1m1s\u001b[0m 49ms/step - accuracy: 0.6821 - loss: 0.7269 - val_accuracy: 0.5756 - val_loss: 1.0265\n",
            "Epoch 259/500\n",
            "\u001b[1m15/15\u001b[0m \u001b[32m━━━━━━━━━━━━━━━━━━━━\u001b[0m\u001b[37m\u001b[0m \u001b[1m0s\u001b[0m 40ms/step - accuracy: 0.6585 - loss: 0.7348\n",
            "Epoch 259: val_accuracy did not improve from 0.70444\n",
            "\u001b[1m15/15\u001b[0m \u001b[32m━━━━━━━━━━━━━━━━━━━━\u001b[0m\u001b[37m\u001b[0m \u001b[1m1s\u001b[0m 52ms/step - accuracy: 0.6608 - loss: 0.7326 - val_accuracy: 0.6089 - val_loss: 1.0263\n",
            "Epoch 260/500\n",
            "\u001b[1m15/15\u001b[0m \u001b[32m━━━━━━━━━━━━━━━━━━━━\u001b[0m\u001b[37m\u001b[0m \u001b[1m0s\u001b[0m 38ms/step - accuracy: 0.7007 - loss: 0.6814\n",
            "Epoch 260: val_accuracy did not improve from 0.70444\n",
            "\u001b[1m15/15\u001b[0m \u001b[32m━━━━━━━━━━━━━━━━━━━━\u001b[0m\u001b[37m\u001b[0m \u001b[1m1s\u001b[0m 49ms/step - accuracy: 0.7003 - loss: 0.6823 - val_accuracy: 0.5733 - val_loss: 1.0027\n",
            "Epoch 261/500\n",
            "\u001b[1m14/15\u001b[0m \u001b[32m━━━━━━━━━━━━━━━━━━\u001b[0m\u001b[37m━━\u001b[0m \u001b[1m0s\u001b[0m 36ms/step - accuracy: 0.6778 - loss: 0.7229\n",
            "Epoch 261: val_accuracy did not improve from 0.70444\n",
            "\u001b[1m15/15\u001b[0m \u001b[32m━━━━━━━━━━━━━━━━━━━━\u001b[0m\u001b[37m\u001b[0m \u001b[1m1s\u001b[0m 48ms/step - accuracy: 0.6813 - loss: 0.7165 - val_accuracy: 0.6156 - val_loss: 1.0461\n",
            "Epoch 262/500\n",
            "\u001b[1m15/15\u001b[0m \u001b[32m━━━━━━━━━━━━━━━━━━━━\u001b[0m\u001b[37m\u001b[0m \u001b[1m0s\u001b[0m 56ms/step - accuracy: 0.7296 - loss: 0.6289\n",
            "Epoch 262: val_accuracy did not improve from 0.70444\n",
            "\u001b[1m15/15\u001b[0m \u001b[32m━━━━━━━━━━━━━━━━━━━━\u001b[0m\u001b[37m\u001b[0m \u001b[1m1s\u001b[0m 72ms/step - accuracy: 0.7293 - loss: 0.6294 - val_accuracy: 0.5756 - val_loss: 1.1933\n",
            "Epoch 263/500\n",
            "\u001b[1m15/15\u001b[0m \u001b[32m━━━━━━━━━━━━━━━━━━━━\u001b[0m\u001b[37m\u001b[0m \u001b[1m0s\u001b[0m 54ms/step - accuracy: 0.7031 - loss: 0.6673\n",
            "Epoch 263: val_accuracy did not improve from 0.70444\n",
            "\u001b[1m15/15\u001b[0m \u001b[32m━━━━━━━━━━━━━━━━━━━━\u001b[0m\u001b[37m\u001b[0m \u001b[1m1s\u001b[0m 72ms/step - accuracy: 0.7040 - loss: 0.6663 - val_accuracy: 0.5956 - val_loss: 1.0800\n",
            "Epoch 264/500\n",
            "\u001b[1m14/15\u001b[0m \u001b[32m━━━━━━━━━━━━━━━━━━\u001b[0m\u001b[37m━━\u001b[0m \u001b[1m0s\u001b[0m 51ms/step - accuracy: 0.7279 - loss: 0.6315\n",
            "Epoch 264: val_accuracy did not improve from 0.70444\n",
            "\u001b[1m15/15\u001b[0m \u001b[32m━━━━━━━━━━━━━━━━━━━━\u001b[0m\u001b[37m\u001b[0m \u001b[1m1s\u001b[0m 61ms/step - accuracy: 0.7268 - loss: 0.6328 - val_accuracy: 0.6156 - val_loss: 1.1894\n",
            "Epoch 265/500\n",
            "\u001b[1m14/15\u001b[0m \u001b[32m━━━━━━━━━━━━━━━━━━\u001b[0m\u001b[37m━━\u001b[0m \u001b[1m0s\u001b[0m 38ms/step - accuracy: 0.7478 - loss: 0.5829\n",
            "Epoch 265: val_accuracy did not improve from 0.70444\n",
            "\u001b[1m15/15\u001b[0m \u001b[32m━━━━━━━━━━━━━━━━━━━━\u001b[0m\u001b[37m\u001b[0m \u001b[1m1s\u001b[0m 50ms/step - accuracy: 0.7473 - loss: 0.5845 - val_accuracy: 0.6200 - val_loss: 1.0850\n",
            "Epoch 266/500\n",
            "\u001b[1m15/15\u001b[0m \u001b[32m━━━━━━━━━━━━━━━━━━━━\u001b[0m\u001b[37m\u001b[0m \u001b[1m0s\u001b[0m 40ms/step - accuracy: 0.7451 - loss: 0.6217\n",
            "Epoch 266: val_accuracy did not improve from 0.70444\n",
            "\u001b[1m15/15\u001b[0m \u001b[32m━━━━━━━━━━━━━━━━━━━━\u001b[0m\u001b[37m\u001b[0m \u001b[1m1s\u001b[0m 52ms/step - accuracy: 0.7439 - loss: 0.6228 - val_accuracy: 0.6089 - val_loss: 1.0161\n",
            "Epoch 267/500\n",
            "\u001b[1m15/15\u001b[0m \u001b[32m━━━━━━━━━━━━━━━━━━━━\u001b[0m\u001b[37m\u001b[0m \u001b[1m0s\u001b[0m 38ms/step - accuracy: 0.7068 - loss: 0.6619\n",
            "Epoch 267: val_accuracy did not improve from 0.70444\n",
            "\u001b[1m15/15\u001b[0m \u001b[32m━━━━━━━━━━━━━━━━━━━━\u001b[0m\u001b[37m\u001b[0m \u001b[1m1s\u001b[0m 49ms/step - accuracy: 0.7080 - loss: 0.6604 - val_accuracy: 0.6644 - val_loss: 0.9481\n",
            "Epoch 268/500\n",
            "\u001b[1m14/15\u001b[0m \u001b[32m━━━━━━━━━━━━━━━━━━\u001b[0m\u001b[37m━━\u001b[0m \u001b[1m0s\u001b[0m 37ms/step - accuracy: 0.7456 - loss: 0.6056\n",
            "Epoch 268: val_accuracy did not improve from 0.70444\n",
            "\u001b[1m15/15\u001b[0m \u001b[32m━━━━━━━━━━━━━━━━━━━━\u001b[0m\u001b[37m\u001b[0m \u001b[1m1s\u001b[0m 48ms/step - accuracy: 0.7458 - loss: 0.6061 - val_accuracy: 0.6400 - val_loss: 0.9971\n",
            "Epoch 269/500\n",
            "\u001b[1m13/15\u001b[0m \u001b[32m━━━━━━━━━━━━━━━━━\u001b[0m\u001b[37m━━━\u001b[0m \u001b[1m0s\u001b[0m 40ms/step - accuracy: 0.7490 - loss: 0.6040\n",
            "Epoch 269: val_accuracy did not improve from 0.70444\n",
            "\u001b[1m15/15\u001b[0m \u001b[32m━━━━━━━━━━━━━━━━━━━━\u001b[0m\u001b[37m\u001b[0m \u001b[1m1s\u001b[0m 49ms/step - accuracy: 0.7453 - loss: 0.6101 - val_accuracy: 0.5511 - val_loss: 1.3275\n",
            "Epoch 270/500\n",
            "\u001b[1m14/15\u001b[0m \u001b[32m━━━━━━━━━━━━━━━━━━\u001b[0m\u001b[37m━━\u001b[0m \u001b[1m0s\u001b[0m 41ms/step - accuracy: 0.7221 - loss: 0.6294\n",
            "Epoch 270: val_accuracy did not improve from 0.70444\n",
            "\u001b[1m15/15\u001b[0m \u001b[32m━━━━━━━━━━━━━━━━━━━━\u001b[0m\u001b[37m\u001b[0m \u001b[1m1s\u001b[0m 52ms/step - accuracy: 0.7211 - loss: 0.6325 - val_accuracy: 0.5844 - val_loss: 1.0494\n",
            "Epoch 271/500\n",
            "\u001b[1m13/15\u001b[0m \u001b[32m━━━━━━━━━━━━━━━━━\u001b[0m\u001b[37m━━━\u001b[0m \u001b[1m0s\u001b[0m 40ms/step - accuracy: 0.7018 - loss: 0.6884\n",
            "Epoch 271: val_accuracy did not improve from 0.70444\n",
            "\u001b[1m15/15\u001b[0m \u001b[32m━━━━━━━━━━━━━━━━━━━━\u001b[0m\u001b[37m\u001b[0m \u001b[1m1s\u001b[0m 49ms/step - accuracy: 0.7003 - loss: 0.6926 - val_accuracy: 0.5778 - val_loss: 1.0954\n",
            "Epoch 272/500\n",
            "\u001b[1m14/15\u001b[0m \u001b[32m━━━━━━━━━━━━━━━━━━\u001b[0m\u001b[37m━━\u001b[0m \u001b[1m0s\u001b[0m 39ms/step - accuracy: 0.6822 - loss: 0.8513\n",
            "Epoch 272: val_accuracy did not improve from 0.70444\n",
            "\u001b[1m15/15\u001b[0m \u001b[32m━━━━━━━━━━━━━━━━━━━━\u001b[0m\u001b[37m\u001b[0m \u001b[1m1s\u001b[0m 51ms/step - accuracy: 0.6831 - loss: 0.8474 - val_accuracy: 0.5844 - val_loss: 1.0458\n",
            "Epoch 273/500\n",
            "\u001b[1m14/15\u001b[0m \u001b[32m━━━━━━━━━━━━━━━━━━\u001b[0m\u001b[37m━━\u001b[0m \u001b[1m0s\u001b[0m 39ms/step - accuracy: 0.6974 - loss: 0.6924\n",
            "Epoch 273: val_accuracy did not improve from 0.70444\n",
            "\u001b[1m15/15\u001b[0m \u001b[32m━━━━━━━━━━━━━━━━━━━━\u001b[0m\u001b[37m\u001b[0m \u001b[1m1s\u001b[0m 49ms/step - accuracy: 0.6972 - loss: 0.6936 - val_accuracy: 0.6133 - val_loss: 0.9585\n",
            "Epoch 274/500\n",
            "\u001b[1m14/15\u001b[0m \u001b[32m━━━━━━━━━━━━━━━━━━\u001b[0m\u001b[37m━━\u001b[0m \u001b[1m0s\u001b[0m 55ms/step - accuracy: 0.7065 - loss: 0.6774\n",
            "Epoch 274: val_accuracy did not improve from 0.70444\n",
            "\u001b[1m15/15\u001b[0m \u001b[32m━━━━━━━━━━━━━━━━━━━━\u001b[0m\u001b[37m\u001b[0m \u001b[1m2s\u001b[0m 77ms/step - accuracy: 0.7070 - loss: 0.6769 - val_accuracy: 0.5911 - val_loss: 0.9789\n",
            "Epoch 275/500\n",
            "\u001b[1m15/15\u001b[0m \u001b[32m━━━━━━━━━━━━━━━━━━━━\u001b[0m\u001b[37m\u001b[0m \u001b[1m0s\u001b[0m 59ms/step - accuracy: 0.7178 - loss: 0.6713\n",
            "Epoch 275: val_accuracy did not improve from 0.70444\n",
            "\u001b[1m15/15\u001b[0m \u001b[32m━━━━━━━━━━━━━━━━━━━━\u001b[0m\u001b[37m\u001b[0m \u001b[1m1s\u001b[0m 75ms/step - accuracy: 0.7177 - loss: 0.6717 - val_accuracy: 0.5733 - val_loss: 1.0060\n",
            "Epoch 276/500\n",
            "\u001b[1m14/15\u001b[0m \u001b[32m━━━━━━━━━━━━━━━━━━\u001b[0m\u001b[37m━━\u001b[0m \u001b[1m0s\u001b[0m 37ms/step - accuracy: 0.7253 - loss: 0.6432\n",
            "Epoch 276: val_accuracy did not improve from 0.70444\n",
            "\u001b[1m15/15\u001b[0m \u001b[32m━━━━━━━━━━━━━━━━━━━━\u001b[0m\u001b[37m\u001b[0m \u001b[1m1s\u001b[0m 48ms/step - accuracy: 0.7267 - loss: 0.6416 - val_accuracy: 0.6533 - val_loss: 0.9610\n",
            "Epoch 277/500\n",
            "\u001b[1m13/15\u001b[0m \u001b[32m━━━━━━━━━━━━━━━━━\u001b[0m\u001b[37m━━━\u001b[0m \u001b[1m0s\u001b[0m 39ms/step - accuracy: 0.7544 - loss: 0.6049\n",
            "Epoch 277: val_accuracy did not improve from 0.70444\n",
            "\u001b[1m15/15\u001b[0m \u001b[32m━━━━━━━━━━━━━━━━━━━━\u001b[0m\u001b[37m\u001b[0m \u001b[1m1s\u001b[0m 48ms/step - accuracy: 0.7531 - loss: 0.6055 - val_accuracy: 0.5689 - val_loss: 1.2810\n",
            "Epoch 278/500\n",
            "\u001b[1m15/15\u001b[0m \u001b[32m━━━━━━━━━━━━━━━━━━━━\u001b[0m\u001b[37m\u001b[0m \u001b[1m0s\u001b[0m 39ms/step - accuracy: 0.6417 - loss: 1.0001\n",
            "Epoch 278: val_accuracy did not improve from 0.70444\n",
            "\u001b[1m15/15\u001b[0m \u001b[32m━━━━━━━━━━━━━━━━━━━━\u001b[0m\u001b[37m\u001b[0m \u001b[1m1s\u001b[0m 50ms/step - accuracy: 0.6426 - loss: 0.9935 - val_accuracy: 0.6311 - val_loss: 0.9941\n",
            "Epoch 279/500\n",
            "\u001b[1m15/15\u001b[0m \u001b[32m━━━━━━━━━━━━━━━━━━━━\u001b[0m\u001b[37m\u001b[0m \u001b[1m0s\u001b[0m 38ms/step - accuracy: 0.7118 - loss: 0.6808\n",
            "Epoch 279: val_accuracy did not improve from 0.70444\n",
            "\u001b[1m15/15\u001b[0m \u001b[32m━━━━━━━━━━━━━━━━━━━━\u001b[0m\u001b[37m\u001b[0m \u001b[1m1s\u001b[0m 50ms/step - accuracy: 0.7107 - loss: 0.6820 - val_accuracy: 0.5844 - val_loss: 1.0619\n",
            "Epoch 280/500\n",
            "\u001b[1m15/15\u001b[0m \u001b[32m━━━━━━━━━━━━━━━━━━━━\u001b[0m\u001b[37m\u001b[0m \u001b[1m0s\u001b[0m 37ms/step - accuracy: 0.6554 - loss: 0.7675\n",
            "Epoch 280: val_accuracy did not improve from 0.70444\n",
            "\u001b[1m15/15\u001b[0m \u001b[32m━━━━━━━━━━━━━━━━━━━━\u001b[0m\u001b[37m\u001b[0m \u001b[1m1s\u001b[0m 49ms/step - accuracy: 0.6550 - loss: 0.7676 - val_accuracy: 0.5711 - val_loss: 1.0535\n",
            "Epoch 281/500\n",
            "\u001b[1m14/15\u001b[0m \u001b[32m━━━━━━━━━━━━━━━━━━\u001b[0m\u001b[37m━━\u001b[0m \u001b[1m0s\u001b[0m 36ms/step - accuracy: 0.6411 - loss: 0.7839\n",
            "Epoch 281: val_accuracy did not improve from 0.70444\n",
            "\u001b[1m15/15\u001b[0m \u001b[32m━━━━━━━━━━━━━━━━━━━━\u001b[0m\u001b[37m\u001b[0m \u001b[1m1s\u001b[0m 47ms/step - accuracy: 0.6435 - loss: 0.7792 - val_accuracy: 0.5800 - val_loss: 1.1120\n",
            "Epoch 282/500\n",
            "\u001b[1m15/15\u001b[0m \u001b[32m━━━━━━━━━━━━━━━━━━━━\u001b[0m\u001b[37m\u001b[0m \u001b[1m0s\u001b[0m 41ms/step - accuracy: 0.6471 - loss: 0.7527\n",
            "Epoch 282: val_accuracy did not improve from 0.70444\n",
            "\u001b[1m15/15\u001b[0m \u001b[32m━━━━━━━━━━━━━━━━━━━━\u001b[0m\u001b[37m\u001b[0m \u001b[1m1s\u001b[0m 53ms/step - accuracy: 0.6479 - loss: 0.7522 - val_accuracy: 0.5711 - val_loss: 1.0904\n",
            "Epoch 283/500\n",
            "\u001b[1m14/15\u001b[0m \u001b[32m━━━━━━━━━━━━━━━━━━\u001b[0m\u001b[37m━━\u001b[0m \u001b[1m0s\u001b[0m 40ms/step - accuracy: 0.6611 - loss: 0.7467\n",
            "Epoch 283: val_accuracy did not improve from 0.70444\n",
            "\u001b[1m15/15\u001b[0m \u001b[32m━━━━━━━━━━━━━━━━━━━━\u001b[0m\u001b[37m\u001b[0m \u001b[1m1s\u001b[0m 50ms/step - accuracy: 0.6623 - loss: 0.7445 - val_accuracy: 0.5578 - val_loss: 1.2735\n",
            "Epoch 284/500\n",
            "\u001b[1m14/15\u001b[0m \u001b[32m━━━━━━━━━━━━━━━━━━\u001b[0m\u001b[37m━━\u001b[0m \u001b[1m0s\u001b[0m 40ms/step - accuracy: 0.6631 - loss: 0.7396\n",
            "Epoch 284: val_accuracy did not improve from 0.70444\n",
            "\u001b[1m15/15\u001b[0m \u001b[32m━━━━━━━━━━━━━━━━━━━━\u001b[0m\u001b[37m\u001b[0m \u001b[1m1s\u001b[0m 51ms/step - accuracy: 0.6623 - loss: 0.7399 - val_accuracy: 0.5800 - val_loss: 1.1840\n",
            "Epoch 285/500\n",
            "\u001b[1m14/15\u001b[0m \u001b[32m━━━━━━━━━━━━━━━━━━\u001b[0m\u001b[37m━━\u001b[0m \u001b[1m0s\u001b[0m 36ms/step - accuracy: 0.6745 - loss: 0.7233\n",
            "Epoch 285: val_accuracy did not improve from 0.70444\n",
            "\u001b[1m15/15\u001b[0m \u001b[32m━━━━━━━━━━━━━━━━━━━━\u001b[0m\u001b[37m\u001b[0m \u001b[1m1s\u001b[0m 47ms/step - accuracy: 0.6740 - loss: 0.7240 - val_accuracy: 0.5578 - val_loss: 1.1627\n",
            "Epoch 286/500\n",
            "\u001b[1m15/15\u001b[0m \u001b[32m━━━━━━━━━━━━━━━━━━━━\u001b[0m\u001b[37m\u001b[0m \u001b[1m0s\u001b[0m 55ms/step - accuracy: 0.6442 - loss: 0.7610\n",
            "Epoch 286: val_accuracy did not improve from 0.70444\n",
            "\u001b[1m15/15\u001b[0m \u001b[32m━━━━━━━━━━━━━━━━━━━━\u001b[0m\u001b[37m\u001b[0m \u001b[1m2s\u001b[0m 72ms/step - accuracy: 0.6446 - loss: 0.7608 - val_accuracy: 0.5556 - val_loss: 1.1401\n",
            "Epoch 287/500\n",
            "\u001b[1m14/15\u001b[0m \u001b[32m━━━━━━━━━━━━━━━━━━\u001b[0m\u001b[37m━━\u001b[0m \u001b[1m0s\u001b[0m 50ms/step - accuracy: 0.6361 - loss: 0.7765\n",
            "Epoch 287: val_accuracy did not improve from 0.70444\n",
            "\u001b[1m15/15\u001b[0m \u001b[32m━━━━━━━━━━━━━━━━━━━━\u001b[0m\u001b[37m\u001b[0m \u001b[1m1s\u001b[0m 60ms/step - accuracy: 0.6371 - loss: 0.7763 - val_accuracy: 0.5311 - val_loss: 1.1567\n",
            "Epoch 288/500\n",
            "\u001b[1m14/15\u001b[0m \u001b[32m━━━━━━━━━━━━━━━━━━\u001b[0m\u001b[37m━━\u001b[0m \u001b[1m0s\u001b[0m 38ms/step - accuracy: 0.6160 - loss: 0.8049\n",
            "Epoch 288: val_accuracy did not improve from 0.70444\n",
            "\u001b[1m15/15\u001b[0m \u001b[32m━━━━━━━━━━━━━━━━━━━━\u001b[0m\u001b[37m\u001b[0m \u001b[1m1s\u001b[0m 49ms/step - accuracy: 0.6189 - loss: 0.8002 - val_accuracy: 0.5289 - val_loss: 1.2187\n",
            "Epoch 289/500\n",
            "\u001b[1m14/15\u001b[0m \u001b[32m━━━━━━━━━━━━━━━━━━\u001b[0m\u001b[37m━━\u001b[0m \u001b[1m0s\u001b[0m 38ms/step - accuracy: 0.6149 - loss: 0.7973\n",
            "Epoch 289: val_accuracy did not improve from 0.70444\n",
            "\u001b[1m15/15\u001b[0m \u001b[32m━━━━━━━━━━━━━━━━━━━━\u001b[0m\u001b[37m\u001b[0m \u001b[1m1s\u001b[0m 50ms/step - accuracy: 0.6155 - loss: 0.7965 - val_accuracy: 0.5689 - val_loss: 1.1723\n",
            "Epoch 290/500\n",
            "\u001b[1m14/15\u001b[0m \u001b[32m━━━━━━━━━━━━━━━━━━\u001b[0m\u001b[37m━━\u001b[0m \u001b[1m0s\u001b[0m 35ms/step - accuracy: 0.6211 - loss: 0.8012\n",
            "Epoch 290: val_accuracy did not improve from 0.70444\n",
            "\u001b[1m15/15\u001b[0m \u001b[32m━━━━━━━━━━━━━━━━━━━━\u001b[0m\u001b[37m\u001b[0m \u001b[1m1s\u001b[0m 47ms/step - accuracy: 0.6233 - loss: 0.7977 - val_accuracy: 0.5711 - val_loss: 1.1569\n",
            "Epoch 291/500\n",
            "\u001b[1m14/15\u001b[0m \u001b[32m━━━━━━━━━━━━━━━━━━\u001b[0m\u001b[37m━━\u001b[0m \u001b[1m0s\u001b[0m 36ms/step - accuracy: 0.6351 - loss: 0.7748\n",
            "Epoch 291: val_accuracy did not improve from 0.70444\n",
            "\u001b[1m15/15\u001b[0m \u001b[32m━━━━━━━━━━━━━━━━━━━━\u001b[0m\u001b[37m\u001b[0m \u001b[1m1s\u001b[0m 48ms/step - accuracy: 0.6330 - loss: 0.7767 - val_accuracy: 0.5444 - val_loss: 1.1634\n",
            "Epoch 292/500\n",
            "\u001b[1m14/15\u001b[0m \u001b[32m━━━━━━━━━━━━━━━━━━\u001b[0m\u001b[37m━━\u001b[0m \u001b[1m0s\u001b[0m 36ms/step - accuracy: 0.6468 - loss: 0.7644\n",
            "Epoch 292: val_accuracy did not improve from 0.70444\n",
            "\u001b[1m15/15\u001b[0m \u001b[32m━━━━━━━━━━━━━━━━━━━━\u001b[0m\u001b[37m\u001b[0m \u001b[1m1s\u001b[0m 48ms/step - accuracy: 0.6459 - loss: 0.7649 - val_accuracy: 0.5800 - val_loss: 1.0631\n",
            "Epoch 293/500\n",
            "\u001b[1m14/15\u001b[0m \u001b[32m━━━━━━━━━━━━━━━━━━\u001b[0m\u001b[37m━━\u001b[0m \u001b[1m0s\u001b[0m 37ms/step - accuracy: 0.6447 - loss: 0.7539\n",
            "Epoch 293: val_accuracy did not improve from 0.70444\n",
            "\u001b[1m15/15\u001b[0m \u001b[32m━━━━━━━━━━━━━━━━━━━━\u001b[0m\u001b[37m\u001b[0m \u001b[1m1s\u001b[0m 48ms/step - accuracy: 0.6452 - loss: 0.7535 - val_accuracy: 0.5689 - val_loss: 1.2083\n",
            "Epoch 294/500\n",
            "\u001b[1m14/15\u001b[0m \u001b[32m━━━━━━━━━━━━━━━━━━\u001b[0m\u001b[37m━━\u001b[0m \u001b[1m0s\u001b[0m 39ms/step - accuracy: 0.6007 - loss: 1.0906\n",
            "Epoch 294: val_accuracy did not improve from 0.70444\n",
            "\u001b[1m15/15\u001b[0m \u001b[32m━━━━━━━━━━━━━━━━━━━━\u001b[0m\u001b[37m\u001b[0m \u001b[1m1s\u001b[0m 50ms/step - accuracy: 0.6020 - loss: 1.0786 - val_accuracy: 0.5511 - val_loss: 1.1464\n",
            "Epoch 295/500\n",
            "\u001b[1m14/15\u001b[0m \u001b[32m━━━━━━━━━━━━━━━━━━\u001b[0m\u001b[37m━━\u001b[0m \u001b[1m0s\u001b[0m 37ms/step - accuracy: 0.6127 - loss: 0.7770\n",
            "Epoch 295: val_accuracy did not improve from 0.70444\n",
            "\u001b[1m15/15\u001b[0m \u001b[32m━━━━━━━━━━━━━━━━━━━━\u001b[0m\u001b[37m\u001b[0m \u001b[1m1s\u001b[0m 48ms/step - accuracy: 0.6122 - loss: 0.7793 - val_accuracy: 0.5600 - val_loss: 1.1615\n",
            "Epoch 296/500\n",
            "\u001b[1m13/15\u001b[0m \u001b[32m━━━━━━━━━━━━━━━━━\u001b[0m\u001b[37m━━━\u001b[0m \u001b[1m0s\u001b[0m 39ms/step - accuracy: 0.5958 - loss: 0.8208\n",
            "Epoch 296: val_accuracy did not improve from 0.70444\n",
            "\u001b[1m15/15\u001b[0m \u001b[32m━━━━━━━━━━━━━━━━━━━━\u001b[0m\u001b[37m\u001b[0m \u001b[1m1s\u001b[0m 48ms/step - accuracy: 0.5954 - loss: 0.8185 - val_accuracy: 0.5333 - val_loss: 1.2550\n",
            "Epoch 297/500\n",
            "\u001b[1m14/15\u001b[0m \u001b[32m━━━━━━━━━━━━━━━━━━\u001b[0m\u001b[37m━━\u001b[0m \u001b[1m0s\u001b[0m 36ms/step - accuracy: 0.5926 - loss: 0.8127\n",
            "Epoch 297: val_accuracy did not improve from 0.70444\n",
            "\u001b[1m15/15\u001b[0m \u001b[32m━━━━━━━━━━━━━━━━━━━━\u001b[0m\u001b[37m\u001b[0m \u001b[1m1s\u001b[0m 47ms/step - accuracy: 0.5931 - loss: 0.8121 - val_accuracy: 0.5378 - val_loss: 1.0293\n",
            "Epoch 298/500\n",
            "\u001b[1m15/15\u001b[0m \u001b[32m━━━━━━━━━━━━━━━━━━━━\u001b[0m\u001b[37m\u001b[0m \u001b[1m0s\u001b[0m 53ms/step - accuracy: 0.5735 - loss: 0.8388\n",
            "Epoch 298: val_accuracy did not improve from 0.70444\n",
            "\u001b[1m15/15\u001b[0m \u001b[32m━━━━━━━━━━━━━━━━━━━━\u001b[0m\u001b[37m\u001b[0m \u001b[1m2s\u001b[0m 77ms/step - accuracy: 0.5739 - loss: 0.8382 - val_accuracy: 0.5733 - val_loss: 1.0863\n",
            "Epoch 299/500\n",
            "\u001b[1m15/15\u001b[0m \u001b[32m━━━━━━━━━━━━━━━━━━━━\u001b[0m\u001b[37m\u001b[0m \u001b[1m0s\u001b[0m 51ms/step - accuracy: 0.5845 - loss: 0.8138\n",
            "Epoch 299: val_accuracy did not improve from 0.70444\n",
            "\u001b[1m15/15\u001b[0m \u001b[32m━━━━━━━━━━━━━━━━━━━━\u001b[0m\u001b[37m\u001b[0m \u001b[1m1s\u001b[0m 63ms/step - accuracy: 0.5855 - loss: 0.8128 - val_accuracy: 0.5556 - val_loss: 1.2033\n",
            "Epoch 300/500\n",
            "\u001b[1m14/15\u001b[0m \u001b[32m━━━━━━━━━━━━━━━━━━\u001b[0m\u001b[37m━━\u001b[0m \u001b[1m0s\u001b[0m 36ms/step - accuracy: 0.6180 - loss: 0.7743\n",
            "Epoch 300: val_accuracy did not improve from 0.70444\n",
            "\u001b[1m15/15\u001b[0m \u001b[32m━━━━━━━━━━━━━━━━━━━━\u001b[0m\u001b[37m\u001b[0m \u001b[1m1s\u001b[0m 47ms/step - accuracy: 0.6193 - loss: 0.7728 - val_accuracy: 0.5800 - val_loss: 1.1534\n",
            "Epoch 301/500\n",
            "\u001b[1m14/15\u001b[0m \u001b[32m━━━━━━━━━━━━━━━━━━\u001b[0m\u001b[37m━━\u001b[0m \u001b[1m0s\u001b[0m 37ms/step - accuracy: 0.6602 - loss: 0.7215\n",
            "Epoch 301: val_accuracy did not improve from 0.70444\n",
            "\u001b[1m15/15\u001b[0m \u001b[32m━━━━━━━━━━━━━━━━━━━━\u001b[0m\u001b[37m\u001b[0m \u001b[1m1s\u001b[0m 49ms/step - accuracy: 0.6616 - loss: 0.7202 - val_accuracy: 0.5711 - val_loss: 1.2380\n",
            "Epoch 302/500\n",
            "\u001b[1m14/15\u001b[0m \u001b[32m━━━━━━━━━━━━━━━━━━\u001b[0m\u001b[37m━━\u001b[0m \u001b[1m0s\u001b[0m 37ms/step - accuracy: 0.6547 - loss: 0.7264\n",
            "Epoch 302: val_accuracy did not improve from 0.70444\n",
            "\u001b[1m15/15\u001b[0m \u001b[32m━━━━━━━━━━━━━━━━━━━━\u001b[0m\u001b[37m\u001b[0m \u001b[1m1s\u001b[0m 48ms/step - accuracy: 0.6566 - loss: 0.7256 - val_accuracy: 0.5689 - val_loss: 1.1875\n",
            "Epoch 303/500\n",
            "\u001b[1m15/15\u001b[0m \u001b[32m━━━━━━━━━━━━━━━━━━━━\u001b[0m\u001b[37m\u001b[0m \u001b[1m0s\u001b[0m 38ms/step - accuracy: 0.7012 - loss: 0.6991\n",
            "Epoch 303: val_accuracy did not improve from 0.70444\n",
            "\u001b[1m15/15\u001b[0m \u001b[32m━━━━━━━━━━━━━━━━━━━━\u001b[0m\u001b[37m\u001b[0m \u001b[1m1s\u001b[0m 50ms/step - accuracy: 0.7011 - loss: 0.6984 - val_accuracy: 0.6556 - val_loss: 1.1251\n",
            "Epoch 304/500\n",
            "\u001b[1m14/15\u001b[0m \u001b[32m━━━━━━━━━━━━━━━━━━\u001b[0m\u001b[37m━━\u001b[0m \u001b[1m0s\u001b[0m 37ms/step - accuracy: 0.7333 - loss: 0.6377\n",
            "Epoch 304: val_accuracy did not improve from 0.70444\n",
            "\u001b[1m15/15\u001b[0m \u001b[32m━━━━━━━━━━━━━━━━━━━━\u001b[0m\u001b[37m\u001b[0m \u001b[1m1s\u001b[0m 49ms/step - accuracy: 0.7352 - loss: 0.6349 - val_accuracy: 0.6467 - val_loss: 1.1133\n",
            "Epoch 305/500\n",
            "\u001b[1m14/15\u001b[0m \u001b[32m━━━━━━━━━━━━━━━━━━\u001b[0m\u001b[37m━━\u001b[0m \u001b[1m0s\u001b[0m 37ms/step - accuracy: 0.7419 - loss: 0.6167\n",
            "Epoch 305: val_accuracy did not improve from 0.70444\n",
            "\u001b[1m15/15\u001b[0m \u001b[32m━━━━━━━━━━━━━━━━━━━━\u001b[0m\u001b[37m\u001b[0m \u001b[1m1s\u001b[0m 49ms/step - accuracy: 0.7404 - loss: 0.6193 - val_accuracy: 0.6133 - val_loss: 1.2511\n",
            "Epoch 306/500\n",
            "\u001b[1m14/15\u001b[0m \u001b[32m━━━━━━━━━━━━━━━━━━\u001b[0m\u001b[37m━━\u001b[0m \u001b[1m0s\u001b[0m 37ms/step - accuracy: 0.7364 - loss: 0.6336\n",
            "Epoch 306: val_accuracy did not improve from 0.70444\n",
            "\u001b[1m15/15\u001b[0m \u001b[32m━━━━━━━━━━━━━━━━━━━━\u001b[0m\u001b[37m\u001b[0m \u001b[1m1s\u001b[0m 48ms/step - accuracy: 0.7355 - loss: 0.6336 - val_accuracy: 0.6244 - val_loss: 1.1630\n",
            "Epoch 307/500\n",
            "\u001b[1m14/15\u001b[0m \u001b[32m━━━━━━━━━━━━━━━━━━\u001b[0m\u001b[37m━━\u001b[0m \u001b[1m0s\u001b[0m 39ms/step - accuracy: 0.7615 - loss: 0.5924\n",
            "Epoch 307: val_accuracy did not improve from 0.70444\n",
            "\u001b[1m15/15\u001b[0m \u001b[32m━━━━━━━━━━━━━━━━━━━━\u001b[0m\u001b[37m\u001b[0m \u001b[1m1s\u001b[0m 51ms/step - accuracy: 0.7596 - loss: 0.5943 - val_accuracy: 0.6244 - val_loss: 1.2312\n",
            "Epoch 308/500\n",
            "\u001b[1m14/15\u001b[0m \u001b[32m━━━━━━━━━━━━━━━━━━\u001b[0m\u001b[37m━━\u001b[0m \u001b[1m0s\u001b[0m 41ms/step - accuracy: 0.7390 - loss: 0.6300\n",
            "Epoch 308: val_accuracy did not improve from 0.70444\n",
            "\u001b[1m15/15\u001b[0m \u001b[32m━━━━━━━━━━━━━━━━━━━━\u001b[0m\u001b[37m\u001b[0m \u001b[1m1s\u001b[0m 50ms/step - accuracy: 0.7382 - loss: 0.6310 - val_accuracy: 0.6178 - val_loss: 1.1165\n",
            "Epoch 309/500\n",
            "\u001b[1m13/15\u001b[0m \u001b[32m━━━━━━━━━━━━━━━━━\u001b[0m\u001b[37m━━━\u001b[0m \u001b[1m0s\u001b[0m 39ms/step - accuracy: 0.7434 - loss: 0.6083\n",
            "Epoch 309: val_accuracy did not improve from 0.70444\n",
            "\u001b[1m15/15\u001b[0m \u001b[32m━━━━━━━━━━━━━━━━━━━━\u001b[0m\u001b[37m\u001b[0m \u001b[1m1s\u001b[0m 48ms/step - accuracy: 0.7434 - loss: 0.6089 - val_accuracy: 0.5400 - val_loss: 1.5414\n",
            "Epoch 310/500\n",
            "\u001b[1m15/15\u001b[0m \u001b[32m━━━━━━━━━━━━━━━━━━━━\u001b[0m\u001b[37m\u001b[0m \u001b[1m0s\u001b[0m 37ms/step - accuracy: 0.7377 - loss: 0.6462\n",
            "Epoch 310: val_accuracy did not improve from 0.70444\n",
            "\u001b[1m15/15\u001b[0m \u001b[32m━━━━━━━━━━━━━━━━━━━━\u001b[0m\u001b[37m\u001b[0m \u001b[1m1s\u001b[0m 48ms/step - accuracy: 0.7369 - loss: 0.6465 - val_accuracy: 0.6267 - val_loss: 1.0727\n",
            "Epoch 311/500\n",
            "\u001b[1m15/15\u001b[0m \u001b[32m━━━━━━━━━━━━━━━━━━━━\u001b[0m\u001b[37m\u001b[0m \u001b[1m0s\u001b[0m 56ms/step - accuracy: 0.7240 - loss: 0.6374\n",
            "Epoch 311: val_accuracy did not improve from 0.70444\n",
            "\u001b[1m15/15\u001b[0m \u001b[32m━━━━━━━━━━━━━━━━━━━━\u001b[0m\u001b[37m\u001b[0m \u001b[1m2s\u001b[0m 72ms/step - accuracy: 0.7244 - loss: 0.6370 - val_accuracy: 0.6444 - val_loss: 1.2968\n",
            "Epoch 312/500\n",
            "\u001b[1m14/15\u001b[0m \u001b[32m━━━━━━━━━━━━━━━━━━\u001b[0m\u001b[37m━━\u001b[0m \u001b[1m0s\u001b[0m 52ms/step - accuracy: 0.7652 - loss: 0.5858\n",
            "Epoch 312: val_accuracy did not improve from 0.70444\n",
            "\u001b[1m15/15\u001b[0m \u001b[32m━━━━━━━━━━━━━━━━━━━━\u001b[0m\u001b[37m\u001b[0m \u001b[1m1s\u001b[0m 62ms/step - accuracy: 0.7615 - loss: 0.5902 - val_accuracy: 0.6400 - val_loss: 1.1762\n",
            "Epoch 313/500\n",
            "\u001b[1m14/15\u001b[0m \u001b[32m━━━━━━━━━━━━━━━━━━\u001b[0m\u001b[37m━━\u001b[0m \u001b[1m0s\u001b[0m 39ms/step - accuracy: 0.7683 - loss: 0.5699\n",
            "Epoch 313: val_accuracy did not improve from 0.70444\n",
            "\u001b[1m15/15\u001b[0m \u001b[32m━━━━━━━━━━━━━━━━━━━━\u001b[0m\u001b[37m\u001b[0m \u001b[1m1s\u001b[0m 50ms/step - accuracy: 0.7666 - loss: 0.5727 - val_accuracy: 0.6422 - val_loss: 1.1269\n",
            "Epoch 314/500\n",
            "\u001b[1m14/15\u001b[0m \u001b[32m━━━━━━━━━━━━━━━━━━\u001b[0m\u001b[37m━━\u001b[0m \u001b[1m0s\u001b[0m 37ms/step - accuracy: 0.7500 - loss: 0.6003\n",
            "Epoch 314: val_accuracy did not improve from 0.70444\n",
            "\u001b[1m15/15\u001b[0m \u001b[32m━━━━━━━━━━━━━━━━━━━━\u001b[0m\u001b[37m\u001b[0m \u001b[1m1s\u001b[0m 49ms/step - accuracy: 0.7506 - loss: 0.5998 - val_accuracy: 0.6133 - val_loss: 1.2915\n",
            "Epoch 315/500\n",
            "\u001b[1m14/15\u001b[0m \u001b[32m━━━━━━━━━━━━━━━━━━\u001b[0m\u001b[37m━━\u001b[0m \u001b[1m0s\u001b[0m 37ms/step - accuracy: 0.7568 - loss: 0.6014\n",
            "Epoch 315: val_accuracy did not improve from 0.70444\n",
            "\u001b[1m15/15\u001b[0m \u001b[32m━━━━━━━━━━━━━━━━━━━━\u001b[0m\u001b[37m\u001b[0m \u001b[1m1s\u001b[0m 48ms/step - accuracy: 0.7562 - loss: 0.6027 - val_accuracy: 0.6022 - val_loss: 1.1115\n",
            "Epoch 316/500\n",
            "\u001b[1m15/15\u001b[0m \u001b[32m━━━━━━━━━━━━━━━━━━━━\u001b[0m\u001b[37m\u001b[0m \u001b[1m0s\u001b[0m 37ms/step - accuracy: 0.7321 - loss: 0.6474\n",
            "Epoch 316: val_accuracy did not improve from 0.70444\n",
            "\u001b[1m15/15\u001b[0m \u001b[32m━━━━━━━━━━━━━━━━━━━━\u001b[0m\u001b[37m\u001b[0m \u001b[1m1s\u001b[0m 48ms/step - accuracy: 0.7315 - loss: 0.6482 - val_accuracy: 0.6022 - val_loss: 1.1455\n",
            "Epoch 317/500\n",
            "\u001b[1m15/15\u001b[0m \u001b[32m━━━━━━━━━━━━━━━━━━━━\u001b[0m\u001b[37m\u001b[0m \u001b[1m0s\u001b[0m 38ms/step - accuracy: 0.6975 - loss: 0.6747\n",
            "Epoch 317: val_accuracy did not improve from 0.70444\n",
            "\u001b[1m15/15\u001b[0m \u001b[32m━━━━━━━━━━━━━━━━━━━━\u001b[0m\u001b[37m\u001b[0m \u001b[1m1s\u001b[0m 50ms/step - accuracy: 0.6975 - loss: 0.6749 - val_accuracy: 0.6267 - val_loss: 1.0483\n",
            "Epoch 318/500\n",
            "\u001b[1m14/15\u001b[0m \u001b[32m━━━━━━━━━━━━━━━━━━\u001b[0m\u001b[37m━━\u001b[0m \u001b[1m0s\u001b[0m 37ms/step - accuracy: 0.7390 - loss: 0.6238\n",
            "Epoch 318: val_accuracy did not improve from 0.70444\n",
            "\u001b[1m15/15\u001b[0m \u001b[32m━━━━━━━━━━━━━━━━━━━━\u001b[0m\u001b[37m\u001b[0m \u001b[1m1s\u001b[0m 48ms/step - accuracy: 0.7362 - loss: 0.6273 - val_accuracy: 0.6178 - val_loss: 1.1055\n",
            "Epoch 319/500\n",
            "\u001b[1m14/15\u001b[0m \u001b[32m━━━━━━━━━━━━━━━━━━\u001b[0m\u001b[37m━━\u001b[0m \u001b[1m0s\u001b[0m 37ms/step - accuracy: 0.7269 - loss: 0.6374\n",
            "Epoch 319: val_accuracy did not improve from 0.70444\n",
            "\u001b[1m15/15\u001b[0m \u001b[32m━━━━━━━━━━━━━━━━━━━━\u001b[0m\u001b[37m\u001b[0m \u001b[1m1s\u001b[0m 48ms/step - accuracy: 0.7275 - loss: 0.6370 - val_accuracy: 0.6578 - val_loss: 1.0660\n",
            "Epoch 320/500\n",
            "\u001b[1m14/15\u001b[0m \u001b[32m━━━━━━━━━━━━━━━━━━\u001b[0m\u001b[37m━━\u001b[0m \u001b[1m0s\u001b[0m 38ms/step - accuracy: 0.7201 - loss: 0.6290\n",
            "Epoch 320: val_accuracy did not improve from 0.70444\n",
            "\u001b[1m15/15\u001b[0m \u001b[32m━━━━━━━━━━━━━━━━━━━━\u001b[0m\u001b[37m\u001b[0m \u001b[1m1s\u001b[0m 50ms/step - accuracy: 0.7226 - loss: 0.6257 - val_accuracy: 0.6022 - val_loss: 1.0757\n",
            "Epoch 321/500\n",
            "\u001b[1m15/15\u001b[0m \u001b[32m━━━━━━━━━━━━━━━━━━━━\u001b[0m\u001b[37m\u001b[0m \u001b[1m0s\u001b[0m 39ms/step - accuracy: 0.7547 - loss: 0.6303\n",
            "Epoch 321: val_accuracy did not improve from 0.70444\n",
            "\u001b[1m15/15\u001b[0m \u001b[32m━━━━━━━━━━━━━━━━━━━━\u001b[0m\u001b[37m\u001b[0m \u001b[1m1s\u001b[0m 51ms/step - accuracy: 0.7541 - loss: 0.6296 - val_accuracy: 0.6133 - val_loss: 1.0923\n",
            "Epoch 322/500\n",
            "\u001b[1m14/15\u001b[0m \u001b[32m━━━━━━━━━━━━━━━━━━\u001b[0m\u001b[37m━━\u001b[0m \u001b[1m0s\u001b[0m 48ms/step - accuracy: 0.7338 - loss: 0.6400\n",
            "Epoch 322: val_accuracy did not improve from 0.70444\n",
            "\u001b[1m15/15\u001b[0m \u001b[32m━━━━━━━━━━━━━━━━━━━━\u001b[0m\u001b[37m\u001b[0m \u001b[1m1s\u001b[0m 64ms/step - accuracy: 0.7337 - loss: 0.6405 - val_accuracy: 0.6289 - val_loss: 1.0355\n",
            "Epoch 323/500\n",
            "\u001b[1m15/15\u001b[0m \u001b[32m━━━━━━━━━━━━━━━━━━━━\u001b[0m\u001b[37m\u001b[0m \u001b[1m0s\u001b[0m 53ms/step - accuracy: 0.7682 - loss: 0.5815\n",
            "Epoch 323: val_accuracy did not improve from 0.70444\n",
            "\u001b[1m15/15\u001b[0m \u001b[32m━━━━━━━━━━━━━━━━━━━━\u001b[0m\u001b[37m\u001b[0m \u001b[1m1s\u001b[0m 79ms/step - accuracy: 0.7686 - loss: 0.5808 - val_accuracy: 0.6533 - val_loss: 1.1047\n",
            "Epoch 324/500\n",
            "\u001b[1m14/15\u001b[0m \u001b[32m━━━━━━━━━━━━━━━━━━\u001b[0m\u001b[37m━━\u001b[0m \u001b[1m0s\u001b[0m 36ms/step - accuracy: 0.7853 - loss: 0.5569\n",
            "Epoch 324: val_accuracy did not improve from 0.70444\n",
            "\u001b[1m15/15\u001b[0m \u001b[32m━━━━━━━━━━━━━━━━━━━━\u001b[0m\u001b[37m\u001b[0m \u001b[1m1s\u001b[0m 48ms/step - accuracy: 0.7841 - loss: 0.5582 - val_accuracy: 0.6489 - val_loss: 1.0598\n",
            "Epoch 325/500\n",
            "\u001b[1m15/15\u001b[0m \u001b[32m━━━━━━━━━━━━━━━━━━━━\u001b[0m\u001b[37m\u001b[0m \u001b[1m0s\u001b[0m 38ms/step - accuracy: 0.7551 - loss: 0.5773\n",
            "Epoch 325: val_accuracy did not improve from 0.70444\n",
            "\u001b[1m15/15\u001b[0m \u001b[32m━━━━━━━━━━━━━━━━━━━━\u001b[0m\u001b[37m\u001b[0m \u001b[1m1s\u001b[0m 50ms/step - accuracy: 0.7552 - loss: 0.5773 - val_accuracy: 0.6289 - val_loss: 1.1248\n",
            "Epoch 326/500\n",
            "\u001b[1m15/15\u001b[0m \u001b[32m━━━━━━━━━━━━━━━━━━━━\u001b[0m\u001b[37m\u001b[0m \u001b[1m0s\u001b[0m 37ms/step - accuracy: 0.7238 - loss: 0.7639\n",
            "Epoch 326: val_accuracy did not improve from 0.70444\n",
            "\u001b[1m15/15\u001b[0m \u001b[32m━━━━━━━━━━━━━━━━━━━━\u001b[0m\u001b[37m\u001b[0m \u001b[1m1s\u001b[0m 49ms/step - accuracy: 0.7237 - loss: 0.7619 - val_accuracy: 0.6578 - val_loss: 0.9539\n",
            "Epoch 327/500\n",
            "\u001b[1m14/15\u001b[0m \u001b[32m━━━━━━━━━━━━━━━━━━\u001b[0m\u001b[37m━━\u001b[0m \u001b[1m0s\u001b[0m 37ms/step - accuracy: 0.7232 - loss: 0.6463\n",
            "Epoch 327: val_accuracy did not improve from 0.70444\n",
            "\u001b[1m15/15\u001b[0m \u001b[32m━━━━━━━━━━━━━━━━━━━━\u001b[0m\u001b[37m\u001b[0m \u001b[1m1s\u001b[0m 48ms/step - accuracy: 0.7244 - loss: 0.6449 - val_accuracy: 0.6156 - val_loss: 1.0689\n",
            "Epoch 328/500\n",
            "\u001b[1m15/15\u001b[0m \u001b[32m━━━━━━━━━━━━━━━━━━━━\u001b[0m\u001b[37m\u001b[0m \u001b[1m0s\u001b[0m 40ms/step - accuracy: 0.7267 - loss: 0.6529\n",
            "Epoch 328: val_accuracy did not improve from 0.70444\n",
            "\u001b[1m15/15\u001b[0m \u001b[32m━━━━━━━━━━━━━━━━━━━━\u001b[0m\u001b[37m\u001b[0m \u001b[1m1s\u001b[0m 52ms/step - accuracy: 0.7258 - loss: 0.6542 - val_accuracy: 0.6022 - val_loss: 1.0605\n",
            "Epoch 329/500\n",
            "\u001b[1m15/15\u001b[0m \u001b[32m━━━━━━━━━━━━━━━━━━━━\u001b[0m\u001b[37m\u001b[0m \u001b[1m0s\u001b[0m 43ms/step - accuracy: 0.7346 - loss: 0.6329\n",
            "Epoch 329: val_accuracy did not improve from 0.70444\n",
            "\u001b[1m15/15\u001b[0m \u001b[32m━━━━━━━━━━━━━━━━━━━━\u001b[0m\u001b[37m\u001b[0m \u001b[1m1s\u001b[0m 55ms/step - accuracy: 0.7352 - loss: 0.6321 - val_accuracy: 0.6022 - val_loss: 1.0879\n",
            "Epoch 330/500\n",
            "\u001b[1m15/15\u001b[0m \u001b[32m━━━━━━━━━━━━━━━━━━━━\u001b[0m\u001b[37m\u001b[0m \u001b[1m0s\u001b[0m 40ms/step - accuracy: 0.7201 - loss: 0.6294\n",
            "Epoch 330: val_accuracy did not improve from 0.70444\n",
            "\u001b[1m15/15\u001b[0m \u001b[32m━━━━━━━━━━━━━━━━━━━━\u001b[0m\u001b[37m\u001b[0m \u001b[1m1s\u001b[0m 52ms/step - accuracy: 0.7215 - loss: 0.6281 - val_accuracy: 0.6556 - val_loss: 0.9725\n",
            "Epoch 331/500\n",
            "\u001b[1m15/15\u001b[0m \u001b[32m━━━━━━━━━━━━━━━━━━━━\u001b[0m\u001b[37m\u001b[0m \u001b[1m0s\u001b[0m 41ms/step - accuracy: 0.7193 - loss: 0.6620\n",
            "Epoch 331: val_accuracy did not improve from 0.70444\n",
            "\u001b[1m15/15\u001b[0m \u001b[32m━━━━━━━━━━━━━━━━━━━━\u001b[0m\u001b[37m\u001b[0m \u001b[1m1s\u001b[0m 52ms/step - accuracy: 0.7196 - loss: 0.6621 - val_accuracy: 0.6600 - val_loss: 0.9908\n",
            "Epoch 332/500\n",
            "\u001b[1m15/15\u001b[0m \u001b[32m━━━━━━━━━━━━━━━━━━━━\u001b[0m\u001b[37m\u001b[0m \u001b[1m0s\u001b[0m 39ms/step - accuracy: 0.7331 - loss: 0.6200\n",
            "Epoch 332: val_accuracy did not improve from 0.70444\n",
            "\u001b[1m15/15\u001b[0m \u001b[32m━━━━━━━━━━━━━━━━━━━━\u001b[0m\u001b[37m\u001b[0m \u001b[1m1s\u001b[0m 50ms/step - accuracy: 0.7328 - loss: 0.6210 - val_accuracy: 0.6267 - val_loss: 1.0340\n",
            "Epoch 333/500\n",
            "\u001b[1m14/15\u001b[0m \u001b[32m━━━━━━━━━━━━━━━━━━\u001b[0m\u001b[37m━━\u001b[0m \u001b[1m0s\u001b[0m 38ms/step - accuracy: 0.7249 - loss: 0.6465\n",
            "Epoch 333: val_accuracy did not improve from 0.70444\n",
            "\u001b[1m15/15\u001b[0m \u001b[32m━━━━━━━━━━━━━━━━━━━━\u001b[0m\u001b[37m\u001b[0m \u001b[1m1s\u001b[0m 50ms/step - accuracy: 0.7236 - loss: 0.6483 - val_accuracy: 0.6200 - val_loss: 1.1707\n",
            "Epoch 334/500\n",
            "\u001b[1m15/15\u001b[0m \u001b[32m━━━━━━━━━━━━━━━━━━━━\u001b[0m\u001b[37m\u001b[0m \u001b[1m0s\u001b[0m 50ms/step - accuracy: 0.6884 - loss: 0.7159\n",
            "Epoch 334: val_accuracy did not improve from 0.70444\n",
            "\u001b[1m15/15\u001b[0m \u001b[32m━━━━━━━━━━━━━━━━━━━━\u001b[0m\u001b[37m\u001b[0m \u001b[1m1s\u001b[0m 67ms/step - accuracy: 0.6888 - loss: 0.7146 - val_accuracy: 0.6022 - val_loss: 1.1629\n",
            "Epoch 335/500\n",
            "\u001b[1m15/15\u001b[0m \u001b[32m━━━━━━━━━━━━━━━━━━━━\u001b[0m\u001b[37m\u001b[0m \u001b[1m0s\u001b[0m 58ms/step - accuracy: 0.7041 - loss: 0.6565\n",
            "Epoch 335: val_accuracy did not improve from 0.70444\n",
            "\u001b[1m15/15\u001b[0m \u001b[32m━━━━━━━━━━━━━━━━━━━━\u001b[0m\u001b[37m\u001b[0m \u001b[1m1s\u001b[0m 76ms/step - accuracy: 0.7038 - loss: 0.6573 - val_accuracy: 0.5911 - val_loss: 1.2750\n",
            "Epoch 336/500\n",
            "\u001b[1m14/15\u001b[0m \u001b[32m━━━━━━━━━━━━━━━━━━\u001b[0m\u001b[37m━━\u001b[0m \u001b[1m0s\u001b[0m 37ms/step - accuracy: 0.7109 - loss: 0.6626\n",
            "Epoch 336: val_accuracy did not improve from 0.70444\n",
            "\u001b[1m15/15\u001b[0m \u001b[32m━━━━━━━━━━━━━━━━━━━━\u001b[0m\u001b[37m\u001b[0m \u001b[1m1s\u001b[0m 48ms/step - accuracy: 0.7113 - loss: 0.6622 - val_accuracy: 0.6111 - val_loss: 1.2040\n",
            "Epoch 337/500\n",
            "\u001b[1m14/15\u001b[0m \u001b[32m━━━━━━━━━━━━━━━━━━\u001b[0m\u001b[37m━━\u001b[0m \u001b[1m0s\u001b[0m 37ms/step - accuracy: 0.7024 - loss: 0.6638\n",
            "Epoch 337: val_accuracy did not improve from 0.70444\n",
            "\u001b[1m15/15\u001b[0m \u001b[32m━━━━━━━━━━━━━━━━━━━━\u001b[0m\u001b[37m\u001b[0m \u001b[1m1s\u001b[0m 49ms/step - accuracy: 0.7014 - loss: 0.6673 - val_accuracy: 0.6267 - val_loss: 1.1187\n",
            "Epoch 338/500\n",
            "\u001b[1m15/15\u001b[0m \u001b[32m━━━━━━━━━━━━━━━━━━━━\u001b[0m\u001b[37m\u001b[0m \u001b[1m0s\u001b[0m 39ms/step - accuracy: 0.6850 - loss: 0.6931\n",
            "Epoch 338: val_accuracy did not improve from 0.70444\n",
            "\u001b[1m15/15\u001b[0m \u001b[32m━━━━━━━━━━━━━━━━━━━━\u001b[0m\u001b[37m\u001b[0m \u001b[1m1s\u001b[0m 51ms/step - accuracy: 0.6862 - loss: 0.6918 - val_accuracy: 0.5889 - val_loss: 1.1061\n",
            "Epoch 339/500\n",
            "\u001b[1m15/15\u001b[0m \u001b[32m━━━━━━━━━━━━━━━━━━━━\u001b[0m\u001b[37m\u001b[0m \u001b[1m0s\u001b[0m 38ms/step - accuracy: 0.7134 - loss: 0.6622\n",
            "Epoch 339: val_accuracy did not improve from 0.70444\n",
            "\u001b[1m15/15\u001b[0m \u001b[32m━━━━━━━━━━━━━━━━━━━━\u001b[0m\u001b[37m\u001b[0m \u001b[1m1s\u001b[0m 50ms/step - accuracy: 0.7125 - loss: 0.6637 - val_accuracy: 0.5733 - val_loss: 1.2513\n",
            "Epoch 340/500\n",
            "\u001b[1m14/15\u001b[0m \u001b[32m━━━━━━━━━━━━━━━━━━\u001b[0m\u001b[37m━━\u001b[0m \u001b[1m0s\u001b[0m 37ms/step - accuracy: 0.7215 - loss: 0.6587\n",
            "Epoch 340: val_accuracy did not improve from 0.70444\n",
            "\u001b[1m15/15\u001b[0m \u001b[32m━━━━━━━━━━━━━━━━━━━━\u001b[0m\u001b[37m\u001b[0m \u001b[1m1s\u001b[0m 61ms/step - accuracy: 0.7208 - loss: 0.6588 - val_accuracy: 0.6200 - val_loss: 1.1713\n",
            "Epoch 341/500\n",
            "\u001b[1m14/15\u001b[0m \u001b[32m━━━━━━━━━━━━━━━━━━\u001b[0m\u001b[37m━━\u001b[0m \u001b[1m0s\u001b[0m 38ms/step - accuracy: 0.6985 - loss: 0.6754\n",
            "Epoch 341: val_accuracy did not improve from 0.70444\n",
            "\u001b[1m15/15\u001b[0m \u001b[32m━━━━━━━━━━━━━━━━━━━━\u001b[0m\u001b[37m\u001b[0m \u001b[1m1s\u001b[0m 50ms/step - accuracy: 0.7004 - loss: 0.6732 - val_accuracy: 0.6000 - val_loss: 1.2493\n",
            "Epoch 342/500\n",
            "\u001b[1m14/15\u001b[0m \u001b[32m━━━━━━━━━━━━━━━━━━\u001b[0m\u001b[37m━━\u001b[0m \u001b[1m0s\u001b[0m 38ms/step - accuracy: 0.7241 - loss: 0.6475\n",
            "Epoch 342: val_accuracy did not improve from 0.70444\n",
            "\u001b[1m15/15\u001b[0m \u001b[32m━━━━━━━━━━━━━━━━━━━━\u001b[0m\u001b[37m\u001b[0m \u001b[1m1s\u001b[0m 50ms/step - accuracy: 0.7235 - loss: 0.6476 - val_accuracy: 0.6267 - val_loss: 1.1718\n",
            "Epoch 343/500\n",
            "\u001b[1m14/15\u001b[0m \u001b[32m━━━━━━━━━━━━━━━━━━\u001b[0m\u001b[37m━━\u001b[0m \u001b[1m0s\u001b[0m 38ms/step - accuracy: 0.7320 - loss: 0.6239\n",
            "Epoch 343: val_accuracy did not improve from 0.70444\n",
            "\u001b[1m15/15\u001b[0m \u001b[32m━━━━━━━━━━━━━━━━━━━━\u001b[0m\u001b[37m\u001b[0m \u001b[1m1s\u001b[0m 49ms/step - accuracy: 0.7324 - loss: 0.6238 - val_accuracy: 0.6267 - val_loss: 1.2212\n",
            "Epoch 344/500\n",
            "\u001b[1m15/15\u001b[0m \u001b[32m━━━━━━━━━━━━━━━━━━━━\u001b[0m\u001b[37m\u001b[0m \u001b[1m0s\u001b[0m 39ms/step - accuracy: 0.7095 - loss: 0.6598\n",
            "Epoch 344: val_accuracy did not improve from 0.70444\n",
            "\u001b[1m15/15\u001b[0m \u001b[32m━━━━━━━━━━━━━━━━━━━━\u001b[0m\u001b[37m\u001b[0m \u001b[1m1s\u001b[0m 51ms/step - accuracy: 0.7113 - loss: 0.6575 - val_accuracy: 0.6133 - val_loss: 1.0753\n",
            "Epoch 345/500\n",
            "\u001b[1m15/15\u001b[0m \u001b[32m━━━━━━━━━━━━━━━━━━━━\u001b[0m\u001b[37m\u001b[0m \u001b[1m0s\u001b[0m 45ms/step - accuracy: 0.7404 - loss: 0.6251\n",
            "Epoch 345: val_accuracy did not improve from 0.70444\n",
            "\u001b[1m15/15\u001b[0m \u001b[32m━━━━━━━━━━━━━━━━━━━━\u001b[0m\u001b[37m\u001b[0m \u001b[1m1s\u001b[0m 69ms/step - accuracy: 0.7392 - loss: 0.6274 - val_accuracy: 0.6000 - val_loss: 1.1994\n",
            "Epoch 346/500\n",
            "\u001b[1m15/15\u001b[0m \u001b[32m━━━━━━━━━━━━━━━━━━━━\u001b[0m\u001b[37m\u001b[0m \u001b[1m0s\u001b[0m 53ms/step - accuracy: 0.6591 - loss: 0.8305\n",
            "Epoch 346: val_accuracy did not improve from 0.70444\n",
            "\u001b[1m15/15\u001b[0m \u001b[32m━━━━━━━━━━━━━━━━━━━━\u001b[0m\u001b[37m\u001b[0m \u001b[1m1s\u001b[0m 77ms/step - accuracy: 0.6585 - loss: 0.8316 - val_accuracy: 0.5622 - val_loss: 1.0988\n",
            "Epoch 347/500\n",
            "\u001b[1m15/15\u001b[0m \u001b[32m━━━━━━━━━━━━━━━━━━━━\u001b[0m\u001b[37m\u001b[0m \u001b[1m0s\u001b[0m 51ms/step - accuracy: 0.6489 - loss: 0.7662\n",
            "Epoch 347: val_accuracy did not improve from 0.70444\n",
            "\u001b[1m15/15\u001b[0m \u001b[32m━━━━━━━━━━━━━━━━━━━━\u001b[0m\u001b[37m\u001b[0m \u001b[1m1s\u001b[0m 64ms/step - accuracy: 0.6495 - loss: 0.7658 - val_accuracy: 0.5778 - val_loss: 1.0082\n",
            "Epoch 348/500\n",
            "\u001b[1m14/15\u001b[0m \u001b[32m━━━━━━━━━━━━━━━━━━\u001b[0m\u001b[37m━━\u001b[0m \u001b[1m0s\u001b[0m 41ms/step - accuracy: 0.6707 - loss: 0.7281\n",
            "Epoch 348: val_accuracy did not improve from 0.70444\n",
            "\u001b[1m15/15\u001b[0m \u001b[32m━━━━━━━━━━━━━━━━━━━━\u001b[0m\u001b[37m\u001b[0m \u001b[1m1s\u001b[0m 52ms/step - accuracy: 0.6693 - loss: 0.7302 - val_accuracy: 0.5778 - val_loss: 0.9387\n",
            "Epoch 349/500\n",
            "\u001b[1m14/15\u001b[0m \u001b[32m━━━━━━━━━━━━━━━━━━\u001b[0m\u001b[37m━━\u001b[0m \u001b[1m0s\u001b[0m 38ms/step - accuracy: 0.6301 - loss: 0.7867\n",
            "Epoch 349: val_accuracy did not improve from 0.70444\n",
            "\u001b[1m15/15\u001b[0m \u001b[32m━━━━━━━━━━━━━━━━━━━━\u001b[0m\u001b[37m\u001b[0m \u001b[1m1s\u001b[0m 51ms/step - accuracy: 0.6299 - loss: 0.7868 - val_accuracy: 0.5533 - val_loss: 0.9745\n",
            "Epoch 350/500\n",
            "\u001b[1m14/15\u001b[0m \u001b[32m━━━━━━━━━━━━━━━━━━\u001b[0m\u001b[37m━━\u001b[0m \u001b[1m0s\u001b[0m 41ms/step - accuracy: 0.6429 - loss: 0.7602\n",
            "Epoch 350: val_accuracy did not improve from 0.70444\n",
            "\u001b[1m15/15\u001b[0m \u001b[32m━━━━━━━━━━━━━━━━━━━━\u001b[0m\u001b[37m\u001b[0m \u001b[1m1s\u001b[0m 53ms/step - accuracy: 0.6457 - loss: 0.7584 - val_accuracy: 0.5778 - val_loss: 1.0276\n",
            "Epoch 351/500\n",
            "\u001b[1m15/15\u001b[0m \u001b[32m━━━━━━━━━━━━━━━━━━━━\u001b[0m\u001b[37m\u001b[0m \u001b[1m0s\u001b[0m 38ms/step - accuracy: 0.6718 - loss: 0.7216\n",
            "Epoch 351: val_accuracy did not improve from 0.70444\n",
            "\u001b[1m15/15\u001b[0m \u001b[32m━━━━━━━━━━━━━━━━━━━━\u001b[0m\u001b[37m\u001b[0m \u001b[1m1s\u001b[0m 51ms/step - accuracy: 0.6717 - loss: 0.7219 - val_accuracy: 0.5733 - val_loss: 1.0336\n",
            "Epoch 352/500\n",
            "\u001b[1m15/15\u001b[0m \u001b[32m━━━━━━━━━━━━━━━━━━━━\u001b[0m\u001b[37m\u001b[0m \u001b[1m0s\u001b[0m 40ms/step - accuracy: 0.6696 - loss: 0.7374\n",
            "Epoch 352: val_accuracy did not improve from 0.70444\n",
            "\u001b[1m15/15\u001b[0m \u001b[32m━━━━━━━━━━━━━━━━━━━━\u001b[0m\u001b[37m\u001b[0m \u001b[1m1s\u001b[0m 51ms/step - accuracy: 0.6690 - loss: 0.7377 - val_accuracy: 0.5911 - val_loss: 0.9839\n",
            "Epoch 353/500\n",
            "\u001b[1m14/15\u001b[0m \u001b[32m━━━━━━━━━━━━━━━━━━\u001b[0m\u001b[37m━━\u001b[0m \u001b[1m0s\u001b[0m 40ms/step - accuracy: 0.6913 - loss: 0.7075\n",
            "Epoch 353: val_accuracy did not improve from 0.70444\n",
            "\u001b[1m15/15\u001b[0m \u001b[32m━━━━━━━━━━━━━━━━━━━━\u001b[0m\u001b[37m\u001b[0m \u001b[1m1s\u001b[0m 52ms/step - accuracy: 0.6921 - loss: 0.7056 - val_accuracy: 0.5800 - val_loss: 1.0860\n",
            "Epoch 354/500\n",
            "\u001b[1m15/15\u001b[0m \u001b[32m━━━━━━━━━━━━━━━━━━━━\u001b[0m\u001b[37m\u001b[0m \u001b[1m0s\u001b[0m 38ms/step - accuracy: 0.6821 - loss: 0.6952\n",
            "Epoch 354: val_accuracy did not improve from 0.70444\n",
            "\u001b[1m15/15\u001b[0m \u001b[32m━━━━━━━━━━━━━━━━━━━━\u001b[0m\u001b[37m\u001b[0m \u001b[1m1s\u001b[0m 49ms/step - accuracy: 0.6833 - loss: 0.6941 - val_accuracy: 0.6089 - val_loss: 1.1293\n",
            "Epoch 355/500\n",
            "\u001b[1m14/15\u001b[0m \u001b[32m━━━━━━━━━━━━━━━━━━\u001b[0m\u001b[37m━━\u001b[0m \u001b[1m0s\u001b[0m 37ms/step - accuracy: 0.7235 - loss: 0.6465\n",
            "Epoch 355: val_accuracy did not improve from 0.70444\n",
            "\u001b[1m15/15\u001b[0m \u001b[32m━━━━━━━━━━━━━━━━━━━━\u001b[0m\u001b[37m\u001b[0m \u001b[1m1s\u001b[0m 48ms/step - accuracy: 0.7229 - loss: 0.6466 - val_accuracy: 0.6067 - val_loss: 1.0809\n",
            "Epoch 356/500\n",
            "\u001b[1m15/15\u001b[0m \u001b[32m━━━━━━━━━━━━━━━━━━━━\u001b[0m\u001b[37m\u001b[0m \u001b[1m0s\u001b[0m 44ms/step - accuracy: 0.7585 - loss: 0.5896\n",
            "Epoch 356: val_accuracy did not improve from 0.70444\n",
            "\u001b[1m15/15\u001b[0m \u001b[32m━━━━━━━━━━━━━━━━━━━━\u001b[0m\u001b[37m\u001b[0m \u001b[1m2s\u001b[0m 68ms/step - accuracy: 0.7582 - loss: 0.5901 - val_accuracy: 0.6822 - val_loss: 1.0533\n",
            "Epoch 357/500\n",
            "\u001b[1m15/15\u001b[0m \u001b[32m━━━━━━━━━━━━━━━━━━━━\u001b[0m\u001b[37m\u001b[0m \u001b[1m0s\u001b[0m 56ms/step - accuracy: 0.7585 - loss: 0.5753\n",
            "Epoch 357: val_accuracy did not improve from 0.70444\n",
            "\u001b[1m15/15\u001b[0m \u001b[32m━━━━━━━━━━━━━━━━━━━━\u001b[0m\u001b[37m\u001b[0m \u001b[1m1s\u001b[0m 75ms/step - accuracy: 0.7583 - loss: 0.5743 - val_accuracy: 0.6844 - val_loss: 0.9574\n",
            "Epoch 358/500\n",
            "\u001b[1m14/15\u001b[0m \u001b[32m━━━━━━━━━━━━━━━━━━\u001b[0m\u001b[37m━━\u001b[0m \u001b[1m0s\u001b[0m 54ms/step - accuracy: 0.7889 - loss: 0.5050\n",
            "Epoch 358: val_accuracy did not improve from 0.70444\n",
            "\u001b[1m15/15\u001b[0m \u001b[32m━━━━━━━━━━━━━━━━━━━━\u001b[0m\u001b[37m\u001b[0m \u001b[1m1s\u001b[0m 63ms/step - accuracy: 0.7882 - loss: 0.5057 - val_accuracy: 0.6333 - val_loss: 1.0324\n",
            "Epoch 359/500\n",
            "\u001b[1m14/15\u001b[0m \u001b[32m━━━━━━━━━━━━━━━━━━\u001b[0m\u001b[37m━━\u001b[0m \u001b[1m0s\u001b[0m 38ms/step - accuracy: 0.7628 - loss: 0.5334\n",
            "Epoch 359: val_accuracy did not improve from 0.70444\n",
            "\u001b[1m15/15\u001b[0m \u001b[32m━━━━━━━━━━━━━━━━━━━━\u001b[0m\u001b[37m\u001b[0m \u001b[1m1s\u001b[0m 49ms/step - accuracy: 0.7636 - loss: 0.5335 - val_accuracy: 0.6644 - val_loss: 1.0754\n",
            "Epoch 360/500\n",
            "\u001b[1m13/15\u001b[0m \u001b[32m━━━━━━━━━━━━━━━━━\u001b[0m\u001b[37m━━━\u001b[0m \u001b[1m0s\u001b[0m 40ms/step - accuracy: 0.7803 - loss: 0.5195\n",
            "Epoch 360: val_accuracy did not improve from 0.70444\n",
            "\u001b[1m15/15\u001b[0m \u001b[32m━━━━━━━━━━━━━━━━━━━━\u001b[0m\u001b[37m\u001b[0m \u001b[1m1s\u001b[0m 49ms/step - accuracy: 0.7812 - loss: 0.5182 - val_accuracy: 0.6533 - val_loss: 1.0545\n",
            "Epoch 361/500\n",
            "\u001b[1m15/15\u001b[0m \u001b[32m━━━━━━━━━━━━━━━━━━━━\u001b[0m\u001b[37m\u001b[0m \u001b[1m0s\u001b[0m 38ms/step - accuracy: 0.7364 - loss: 0.5956\n",
            "Epoch 361: val_accuracy did not improve from 0.70444\n",
            "\u001b[1m15/15\u001b[0m \u001b[32m━━━━━━━━━━━━━━━━━━━━\u001b[0m\u001b[37m\u001b[0m \u001b[1m1s\u001b[0m 50ms/step - accuracy: 0.7377 - loss: 0.5935 - val_accuracy: 0.6533 - val_loss: 1.0416\n",
            "Epoch 362/500\n",
            "\u001b[1m15/15\u001b[0m \u001b[32m━━━━━━━━━━━━━━━━━━━━\u001b[0m\u001b[37m\u001b[0m \u001b[1m0s\u001b[0m 37ms/step - accuracy: 0.7481 - loss: 0.5869\n",
            "Epoch 362: val_accuracy did not improve from 0.70444\n",
            "\u001b[1m15/15\u001b[0m \u001b[32m━━━━━━━━━━━━━━━━━━━━\u001b[0m\u001b[37m\u001b[0m \u001b[1m1s\u001b[0m 49ms/step - accuracy: 0.7479 - loss: 0.5867 - val_accuracy: 0.6467 - val_loss: 1.0593\n",
            "Epoch 363/500\n",
            "\u001b[1m15/15\u001b[0m \u001b[32m━━━━━━━━━━━━━━━━━━━━\u001b[0m\u001b[37m\u001b[0m \u001b[1m0s\u001b[0m 39ms/step - accuracy: 0.7749 - loss: 0.5441\n",
            "Epoch 363: val_accuracy did not improve from 0.70444\n",
            "\u001b[1m15/15\u001b[0m \u001b[32m━━━━━━━━━━━━━━━━━━━━\u001b[0m\u001b[37m\u001b[0m \u001b[1m1s\u001b[0m 51ms/step - accuracy: 0.7747 - loss: 0.5448 - val_accuracy: 0.6244 - val_loss: 1.2175\n",
            "Epoch 364/500\n",
            "\u001b[1m13/15\u001b[0m \u001b[32m━━━━━━━━━━━━━━━━━\u001b[0m\u001b[37m━━━\u001b[0m \u001b[1m0s\u001b[0m 40ms/step - accuracy: 0.7410 - loss: 0.6078\n",
            "Epoch 364: val_accuracy did not improve from 0.70444\n",
            "\u001b[1m15/15\u001b[0m \u001b[32m━━━━━━━━━━━━━━━━━━━━\u001b[0m\u001b[37m\u001b[0m \u001b[1m1s\u001b[0m 49ms/step - accuracy: 0.7457 - loss: 0.5996 - val_accuracy: 0.6844 - val_loss: 1.1678\n",
            "Epoch 365/500\n",
            "\u001b[1m13/15\u001b[0m \u001b[32m━━━━━━━━━━━━━━━━━\u001b[0m\u001b[37m━━━\u001b[0m \u001b[1m0s\u001b[0m 40ms/step - accuracy: 0.7565 - loss: 0.5969\n",
            "Epoch 365: val_accuracy did not improve from 0.70444\n",
            "\u001b[1m15/15\u001b[0m \u001b[32m━━━━━━━━━━━━━━━━━━━━\u001b[0m\u001b[37m\u001b[0m \u001b[1m1s\u001b[0m 49ms/step - accuracy: 0.7547 - loss: 0.6023 - val_accuracy: 0.6044 - val_loss: 1.3950\n",
            "Epoch 366/500\n",
            "\u001b[1m14/15\u001b[0m \u001b[32m━━━━━━━━━━━━━━━━━━\u001b[0m\u001b[37m━━\u001b[0m \u001b[1m0s\u001b[0m 39ms/step - accuracy: 0.7223 - loss: 0.6529\n",
            "Epoch 366: val_accuracy did not improve from 0.70444\n",
            "\u001b[1m15/15\u001b[0m \u001b[32m━━━━━━━━━━━━━━━━━━━━\u001b[0m\u001b[37m\u001b[0m \u001b[1m1s\u001b[0m 50ms/step - accuracy: 0.7221 - loss: 0.6536 - val_accuracy: 0.6289 - val_loss: 1.2160\n",
            "Epoch 367/500\n",
            "\u001b[1m14/15\u001b[0m \u001b[32m━━━━━━━━━━━━━━━━━━\u001b[0m\u001b[37m━━\u001b[0m \u001b[1m0s\u001b[0m 37ms/step - accuracy: 0.7288 - loss: 0.6377\n",
            "Epoch 367: val_accuracy did not improve from 0.70444\n",
            "\u001b[1m15/15\u001b[0m \u001b[32m━━━━━━━━━━━━━━━━━━━━\u001b[0m\u001b[37m\u001b[0m \u001b[1m1s\u001b[0m 49ms/step - accuracy: 0.7296 - loss: 0.6365 - val_accuracy: 0.6400 - val_loss: 1.3309\n",
            "Epoch 368/500\n",
            "\u001b[1m15/15\u001b[0m \u001b[32m━━━━━━━━━━━━━━━━━━━━\u001b[0m\u001b[37m\u001b[0m \u001b[1m0s\u001b[0m 59ms/step - accuracy: 0.7436 - loss: 0.6158\n",
            "Epoch 368: val_accuracy did not improve from 0.70444\n",
            "\u001b[1m15/15\u001b[0m \u001b[32m━━━━━━━━━━━━━━━━━━━━\u001b[0m\u001b[37m\u001b[0m \u001b[1m2s\u001b[0m 76ms/step - accuracy: 0.7438 - loss: 0.6152 - val_accuracy: 0.6267 - val_loss: 1.4020\n",
            "Epoch 369/500\n",
            "\u001b[1m15/15\u001b[0m \u001b[32m━━━━━━━━━━━━━━━━━━━━\u001b[0m\u001b[37m\u001b[0m \u001b[1m0s\u001b[0m 54ms/step - accuracy: 0.7401 - loss: 0.6170\n",
            "Epoch 369: val_accuracy did not improve from 0.70444\n",
            "\u001b[1m15/15\u001b[0m \u001b[32m━━━━━━━━━━━━━━━━━━━━\u001b[0m\u001b[37m\u001b[0m \u001b[1m1s\u001b[0m 79ms/step - accuracy: 0.7397 - loss: 0.6171 - val_accuracy: 0.5867 - val_loss: 1.4424\n",
            "Epoch 370/500\n",
            "\u001b[1m13/15\u001b[0m \u001b[32m━━━━━━━━━━━━━━━━━\u001b[0m\u001b[37m━━━\u001b[0m \u001b[1m0s\u001b[0m 40ms/step - accuracy: 0.7727 - loss: 0.5697\n",
            "Epoch 370: val_accuracy did not improve from 0.70444\n",
            "\u001b[1m15/15\u001b[0m \u001b[32m━━━━━━━━━━━━━━━━━━━━\u001b[0m\u001b[37m\u001b[0m \u001b[1m1s\u001b[0m 48ms/step - accuracy: 0.7708 - loss: 0.5724 - val_accuracy: 0.6200 - val_loss: 1.2554\n",
            "Epoch 371/500\n",
            "\u001b[1m14/15\u001b[0m \u001b[32m━━━━━━━━━━━━━━━━━━\u001b[0m\u001b[37m━━\u001b[0m \u001b[1m0s\u001b[0m 39ms/step - accuracy: 0.7725 - loss: 0.5654\n",
            "Epoch 371: val_accuracy did not improve from 0.70444\n",
            "\u001b[1m15/15\u001b[0m \u001b[32m━━━━━━━━━━━━━━━━━━━━\u001b[0m\u001b[37m\u001b[0m \u001b[1m1s\u001b[0m 51ms/step - accuracy: 0.7722 - loss: 0.5663 - val_accuracy: 0.6400 - val_loss: 1.2045\n",
            "Epoch 372/500\n",
            "\u001b[1m15/15\u001b[0m \u001b[32m━━━━━━━━━━━━━━━━━━━━\u001b[0m\u001b[37m\u001b[0m \u001b[1m0s\u001b[0m 38ms/step - accuracy: 0.7821 - loss: 0.5541\n",
            "Epoch 372: val_accuracy did not improve from 0.70444\n",
            "\u001b[1m15/15\u001b[0m \u001b[32m━━━━━━━━━━━━━━━━━━━━\u001b[0m\u001b[37m\u001b[0m \u001b[1m1s\u001b[0m 49ms/step - accuracy: 0.7816 - loss: 0.5544 - val_accuracy: 0.5956 - val_loss: 1.3014\n",
            "Epoch 373/500\n",
            "\u001b[1m15/15\u001b[0m \u001b[32m━━━━━━━━━━━━━━━━━━━━\u001b[0m\u001b[37m\u001b[0m \u001b[1m0s\u001b[0m 38ms/step - accuracy: 0.7353 - loss: 0.6255\n",
            "Epoch 373: val_accuracy did not improve from 0.70444\n",
            "\u001b[1m15/15\u001b[0m \u001b[32m━━━━━━━━━━━━━━━━━━━━\u001b[0m\u001b[37m\u001b[0m \u001b[1m1s\u001b[0m 51ms/step - accuracy: 0.7352 - loss: 0.6262 - val_accuracy: 0.6244 - val_loss: 1.1925\n",
            "Epoch 374/500\n",
            "\u001b[1m14/15\u001b[0m \u001b[32m━━━━━━━━━━━━━━━━━━\u001b[0m\u001b[37m━━\u001b[0m \u001b[1m0s\u001b[0m 38ms/step - accuracy: 0.7416 - loss: 0.6216\n",
            "Epoch 374: val_accuracy did not improve from 0.70444\n",
            "\u001b[1m15/15\u001b[0m \u001b[32m━━━━━━━━━━━━━━━━━━━━\u001b[0m\u001b[37m\u001b[0m \u001b[1m1s\u001b[0m 50ms/step - accuracy: 0.7416 - loss: 0.6193 - val_accuracy: 0.6044 - val_loss: 1.3504\n",
            "Epoch 375/500\n",
            "\u001b[1m15/15\u001b[0m \u001b[32m━━━━━━━━━━━━━━━━━━━━\u001b[0m\u001b[37m\u001b[0m \u001b[1m0s\u001b[0m 41ms/step - accuracy: 0.7649 - loss: 0.5818\n",
            "Epoch 375: val_accuracy did not improve from 0.70444\n",
            "\u001b[1m15/15\u001b[0m \u001b[32m━━━━━━━━━━━━━━━━━━━━\u001b[0m\u001b[37m\u001b[0m \u001b[1m1s\u001b[0m 52ms/step - accuracy: 0.7644 - loss: 0.5820 - val_accuracy: 0.6289 - val_loss: 1.2344\n",
            "Epoch 376/500\n",
            "\u001b[1m14/15\u001b[0m \u001b[32m━━━━━━━━━━━━━━━━━━\u001b[0m\u001b[37m━━\u001b[0m \u001b[1m0s\u001b[0m 37ms/step - accuracy: 0.7595 - loss: 0.5908\n",
            "Epoch 376: val_accuracy did not improve from 0.70444\n",
            "\u001b[1m15/15\u001b[0m \u001b[32m━━━━━━━━━━━━━━━━━━━━\u001b[0m\u001b[37m\u001b[0m \u001b[1m1s\u001b[0m 49ms/step - accuracy: 0.7595 - loss: 0.5904 - val_accuracy: 0.6089 - val_loss: 1.1658\n",
            "Epoch 377/500\n",
            "\u001b[1m15/15\u001b[0m \u001b[32m━━━━━━━━━━━━━━━━━━━━\u001b[0m\u001b[37m\u001b[0m \u001b[1m0s\u001b[0m 39ms/step - accuracy: 0.7450 - loss: 0.5972\n",
            "Epoch 377: val_accuracy did not improve from 0.70444\n",
            "\u001b[1m15/15\u001b[0m \u001b[32m━━━━━━━━━━━━━━━━━━━━\u001b[0m\u001b[37m\u001b[0m \u001b[1m1s\u001b[0m 51ms/step - accuracy: 0.7443 - loss: 0.5987 - val_accuracy: 0.6044 - val_loss: 1.2261\n",
            "Epoch 378/500\n",
            "\u001b[1m14/15\u001b[0m \u001b[32m━━━━━━━━━━━━━━━━━━\u001b[0m\u001b[37m━━\u001b[0m \u001b[1m0s\u001b[0m 37ms/step - accuracy: 0.7346 - loss: 0.6374\n",
            "Epoch 378: val_accuracy did not improve from 0.70444\n",
            "\u001b[1m15/15\u001b[0m \u001b[32m━━━━━━━━━━━━━━━━━━━━\u001b[0m\u001b[37m\u001b[0m \u001b[1m1s\u001b[0m 49ms/step - accuracy: 0.7334 - loss: 0.6373 - val_accuracy: 0.5889 - val_loss: 1.4751\n",
            "Epoch 379/500\n",
            "\u001b[1m13/15\u001b[0m \u001b[32m━━━━━━━━━━━━━━━━━\u001b[0m\u001b[37m━━━\u001b[0m \u001b[1m0s\u001b[0m 40ms/step - accuracy: 0.7390 - loss: 0.6284\n",
            "Epoch 379: val_accuracy did not improve from 0.70444\n",
            "\u001b[1m15/15\u001b[0m \u001b[32m━━━━━━━━━━━━━━━━━━━━\u001b[0m\u001b[37m\u001b[0m \u001b[1m1s\u001b[0m 60ms/step - accuracy: 0.7405 - loss: 0.6249 - val_accuracy: 0.6422 - val_loss: 1.2779\n",
            "Epoch 380/500\n",
            "\u001b[1m15/15\u001b[0m \u001b[32m━━━━━━━━━━━━━━━━━━━━\u001b[0m\u001b[37m\u001b[0m \u001b[1m0s\u001b[0m 52ms/step - accuracy: 0.7762 - loss: 0.5399\n",
            "Epoch 380: val_accuracy did not improve from 0.70444\n",
            "\u001b[1m15/15\u001b[0m \u001b[32m━━━━━━━━━━━━━━━━━━━━\u001b[0m\u001b[37m\u001b[0m \u001b[1m1s\u001b[0m 69ms/step - accuracy: 0.7764 - loss: 0.5399 - val_accuracy: 0.6422 - val_loss: 1.3525\n",
            "Epoch 381/500\n",
            "\u001b[1m15/15\u001b[0m \u001b[32m━━━━━━━━━━━━━━━━━━━━\u001b[0m\u001b[37m\u001b[0m \u001b[1m0s\u001b[0m 60ms/step - accuracy: 0.7698 - loss: 0.5569\n",
            "Epoch 381: val_accuracy did not improve from 0.70444\n",
            "\u001b[1m15/15\u001b[0m \u001b[32m━━━━━━━━━━━━━━━━━━━━\u001b[0m\u001b[37m\u001b[0m \u001b[1m1s\u001b[0m 80ms/step - accuracy: 0.7703 - loss: 0.5563 - val_accuracy: 0.6133 - val_loss: 1.4091\n",
            "Epoch 382/500\n",
            "\u001b[1m14/15\u001b[0m \u001b[32m━━━━━━━━━━━━━━━━━━\u001b[0m\u001b[37m━━\u001b[0m \u001b[1m0s\u001b[0m 40ms/step - accuracy: 0.7941 - loss: 0.5287\n",
            "Epoch 382: val_accuracy did not improve from 0.70444\n",
            "\u001b[1m15/15\u001b[0m \u001b[32m━━━━━━━━━━━━━━━━━━━━\u001b[0m\u001b[37m\u001b[0m \u001b[1m1s\u001b[0m 51ms/step - accuracy: 0.7919 - loss: 0.5317 - val_accuracy: 0.6333 - val_loss: 1.3560\n",
            "Epoch 383/500\n",
            "\u001b[1m14/15\u001b[0m \u001b[32m━━━━━━━━━━━━━━━━━━\u001b[0m\u001b[37m━━\u001b[0m \u001b[1m0s\u001b[0m 36ms/step - accuracy: 0.7670 - loss: 0.5817\n",
            "Epoch 383: val_accuracy did not improve from 0.70444\n",
            "\u001b[1m15/15\u001b[0m \u001b[32m━━━━━━━━━━━━━━━━━━━━\u001b[0m\u001b[37m\u001b[0m \u001b[1m1s\u001b[0m 48ms/step - accuracy: 0.7652 - loss: 0.5837 - val_accuracy: 0.6111 - val_loss: 1.3487\n",
            "Epoch 384/500\n",
            "\u001b[1m15/15\u001b[0m \u001b[32m━━━━━━━━━━━━━━━━━━━━\u001b[0m\u001b[37m\u001b[0m \u001b[1m0s\u001b[0m 38ms/step - accuracy: 0.7433 - loss: 0.6114\n",
            "Epoch 384: val_accuracy did not improve from 0.70444\n",
            "\u001b[1m15/15\u001b[0m \u001b[32m━━━━━━━━━━━━━━━━━━━━\u001b[0m\u001b[37m\u001b[0m \u001b[1m1s\u001b[0m 50ms/step - accuracy: 0.7436 - loss: 0.6114 - val_accuracy: 0.6067 - val_loss: 1.2493\n",
            "Epoch 385/500\n",
            "\u001b[1m14/15\u001b[0m \u001b[32m━━━━━━━━━━━━━━━━━━\u001b[0m\u001b[37m━━\u001b[0m \u001b[1m0s\u001b[0m 38ms/step - accuracy: 0.7608 - loss: 0.5930\n",
            "Epoch 385: val_accuracy did not improve from 0.70444\n",
            "\u001b[1m15/15\u001b[0m \u001b[32m━━━━━━━━━━━━━━━━━━━━\u001b[0m\u001b[37m\u001b[0m \u001b[1m1s\u001b[0m 49ms/step - accuracy: 0.7607 - loss: 0.5930 - val_accuracy: 0.6467 - val_loss: 1.1091\n",
            "Epoch 386/500\n",
            "\u001b[1m14/15\u001b[0m \u001b[32m━━━━━━━━━━━━━━━━━━\u001b[0m\u001b[37m━━\u001b[0m \u001b[1m0s\u001b[0m 40ms/step - accuracy: 0.7337 - loss: 0.6301\n",
            "Epoch 386: val_accuracy did not improve from 0.70444\n",
            "\u001b[1m15/15\u001b[0m \u001b[32m━━━━━━━━━━━━━━━━━━━━\u001b[0m\u001b[37m\u001b[0m \u001b[1m1s\u001b[0m 51ms/step - accuracy: 0.7344 - loss: 0.6279 - val_accuracy: 0.6289 - val_loss: 1.1795\n",
            "Epoch 387/500\n",
            "\u001b[1m14/15\u001b[0m \u001b[32m━━━━━━━━━━━━━━━━━━\u001b[0m\u001b[37m━━\u001b[0m \u001b[1m0s\u001b[0m 40ms/step - accuracy: 0.7695 - loss: 0.5869\n",
            "Epoch 387: val_accuracy did not improve from 0.70444\n",
            "\u001b[1m15/15\u001b[0m \u001b[32m━━━━━━━━━━━━━━━━━━━━\u001b[0m\u001b[37m\u001b[0m \u001b[1m1s\u001b[0m 51ms/step - accuracy: 0.7699 - loss: 0.5883 - val_accuracy: 0.6467 - val_loss: 1.2214\n",
            "Epoch 388/500\n",
            "\u001b[1m14/15\u001b[0m \u001b[32m━━━━━━━━━━━━━━━━━━\u001b[0m\u001b[37m━━\u001b[0m \u001b[1m0s\u001b[0m 38ms/step - accuracy: 0.7552 - loss: 0.5896\n",
            "Epoch 388: val_accuracy did not improve from 0.70444\n",
            "\u001b[1m15/15\u001b[0m \u001b[32m━━━━━━━━━━━━━━━━━━━━\u001b[0m\u001b[37m\u001b[0m \u001b[1m1s\u001b[0m 49ms/step - accuracy: 0.7548 - loss: 0.5886 - val_accuracy: 0.6022 - val_loss: 1.3334\n",
            "Epoch 389/500\n",
            "\u001b[1m14/15\u001b[0m \u001b[32m━━━━━━━━━━━━━━━━━━\u001b[0m\u001b[37m━━\u001b[0m \u001b[1m0s\u001b[0m 38ms/step - accuracy: 0.6956 - loss: 0.6772\n",
            "Epoch 389: val_accuracy did not improve from 0.70444\n",
            "\u001b[1m15/15\u001b[0m \u001b[32m━━━━━━━━━━━━━━━━━━━━\u001b[0m\u001b[37m\u001b[0m \u001b[1m1s\u001b[0m 50ms/step - accuracy: 0.6965 - loss: 0.6752 - val_accuracy: 0.5933 - val_loss: 1.4213\n",
            "Epoch 390/500\n",
            "\u001b[1m15/15\u001b[0m \u001b[32m━━━━━━━━━━━━━━━━━━━━\u001b[0m\u001b[37m\u001b[0m \u001b[1m0s\u001b[0m 38ms/step - accuracy: 0.7210 - loss: 0.6305\n",
            "Epoch 390: val_accuracy did not improve from 0.70444\n",
            "\u001b[1m15/15\u001b[0m \u001b[32m━━━━━━━━━━━━━━━━━━━━\u001b[0m\u001b[37m\u001b[0m \u001b[1m1s\u001b[0m 50ms/step - accuracy: 0.7214 - loss: 0.6301 - val_accuracy: 0.6000 - val_loss: 1.2481\n",
            "Epoch 391/500\n",
            "\u001b[1m15/15\u001b[0m \u001b[32m━━━━━━━━━━━━━━━━━━━━\u001b[0m\u001b[37m\u001b[0m \u001b[1m0s\u001b[0m 39ms/step - accuracy: 0.7492 - loss: 0.5860\n",
            "Epoch 391: val_accuracy did not improve from 0.70444\n",
            "\u001b[1m15/15\u001b[0m \u001b[32m━━━━━━━━━━━━━━━━━━━━\u001b[0m\u001b[37m\u001b[0m \u001b[1m1s\u001b[0m 51ms/step - accuracy: 0.7500 - loss: 0.5851 - val_accuracy: 0.6022 - val_loss: 1.4441\n",
            "Epoch 392/500\n",
            "\u001b[1m15/15\u001b[0m \u001b[32m━━━━━━━━━━━━━━━━━━━━\u001b[0m\u001b[37m\u001b[0m \u001b[1m0s\u001b[0m 39ms/step - accuracy: 0.7600 - loss: 0.5739\n",
            "Epoch 392: val_accuracy did not improve from 0.70444\n",
            "\u001b[1m15/15\u001b[0m \u001b[32m━━━━━━━━━━━━━━━━━━━━\u001b[0m\u001b[37m\u001b[0m \u001b[1m1s\u001b[0m 52ms/step - accuracy: 0.7604 - loss: 0.5736 - val_accuracy: 0.6422 - val_loss: 1.2974\n",
            "Epoch 393/500\n",
            "\u001b[1m15/15\u001b[0m \u001b[32m━━━━━━━━━━━━━━━━━━━━\u001b[0m\u001b[37m\u001b[0m \u001b[1m0s\u001b[0m 58ms/step - accuracy: 0.7789 - loss: 0.5504\n",
            "Epoch 393: val_accuracy did not improve from 0.70444\n",
            "\u001b[1m15/15\u001b[0m \u001b[32m━━━━━━━━━━━━━━━━━━━━\u001b[0m\u001b[37m\u001b[0m \u001b[1m2s\u001b[0m 78ms/step - accuracy: 0.7796 - loss: 0.5491 - val_accuracy: 0.6333 - val_loss: 1.3354\n",
            "Epoch 394/500\n",
            "\u001b[1m14/15\u001b[0m \u001b[32m━━━━━━━━━━━━━━━━━━\u001b[0m\u001b[37m━━\u001b[0m \u001b[1m0s\u001b[0m 37ms/step - accuracy: 0.7746 - loss: 0.5619\n",
            "Epoch 394: val_accuracy did not improve from 0.70444\n",
            "\u001b[1m15/15\u001b[0m \u001b[32m━━━━━━━━━━━━━━━━━━━━\u001b[0m\u001b[37m\u001b[0m \u001b[1m1s\u001b[0m 48ms/step - accuracy: 0.7737 - loss: 0.5626 - val_accuracy: 0.6356 - val_loss: 1.1911\n",
            "Epoch 395/500\n",
            "\u001b[1m14/15\u001b[0m \u001b[32m━━━━━━━━━━━━━━━━━━\u001b[0m\u001b[37m━━\u001b[0m \u001b[1m0s\u001b[0m 38ms/step - accuracy: 0.7707 - loss: 0.5687\n",
            "Epoch 395: val_accuracy did not improve from 0.70444\n",
            "\u001b[1m15/15\u001b[0m \u001b[32m━━━━━━━━━━━━━━━━━━━━\u001b[0m\u001b[37m\u001b[0m \u001b[1m1s\u001b[0m 50ms/step - accuracy: 0.7695 - loss: 0.5700 - val_accuracy: 0.6289 - val_loss: 1.1666\n",
            "Epoch 396/500\n",
            "\u001b[1m14/15\u001b[0m \u001b[32m━━━━━━━━━━━━━━━━━━\u001b[0m\u001b[37m━━\u001b[0m \u001b[1m0s\u001b[0m 37ms/step - accuracy: 0.7452 - loss: 0.6024\n",
            "Epoch 396: val_accuracy did not improve from 0.70444\n",
            "\u001b[1m15/15\u001b[0m \u001b[32m━━━━━━━━━━━━━━━━━━━━\u001b[0m\u001b[37m\u001b[0m \u001b[1m1s\u001b[0m 49ms/step - accuracy: 0.7470 - loss: 0.5988 - val_accuracy: 0.6600 - val_loss: 1.2426\n",
            "Epoch 397/500\n",
            "\u001b[1m15/15\u001b[0m \u001b[32m━━━━━━━━━━━━━━━━━━━━\u001b[0m\u001b[37m\u001b[0m \u001b[1m0s\u001b[0m 39ms/step - accuracy: 0.7964 - loss: 0.5027\n",
            "Epoch 397: val_accuracy did not improve from 0.70444\n",
            "\u001b[1m15/15\u001b[0m \u001b[32m━━━━━━━━━━━━━━━━━━━━\u001b[0m\u001b[37m\u001b[0m \u001b[1m1s\u001b[0m 51ms/step - accuracy: 0.7966 - loss: 0.5025 - val_accuracy: 0.6556 - val_loss: 1.3890\n",
            "Epoch 398/500\n",
            "\u001b[1m15/15\u001b[0m \u001b[32m━━━━━━━━━━━━━━━━━━━━\u001b[0m\u001b[37m\u001b[0m \u001b[1m0s\u001b[0m 38ms/step - accuracy: 0.8058 - loss: 0.4957\n",
            "Epoch 398: val_accuracy did not improve from 0.70444\n",
            "\u001b[1m15/15\u001b[0m \u001b[32m━━━━━━━━━━━━━━━━━━━━\u001b[0m\u001b[37m\u001b[0m \u001b[1m1s\u001b[0m 50ms/step - accuracy: 0.8061 - loss: 0.4954 - val_accuracy: 0.6333 - val_loss: 1.3257\n",
            "Epoch 399/500\n",
            "\u001b[1m15/15\u001b[0m \u001b[32m━━━━━━━━━━━━━━━━━━━━\u001b[0m\u001b[37m\u001b[0m \u001b[1m0s\u001b[0m 40ms/step - accuracy: 0.7924 - loss: 0.5047\n",
            "Epoch 399: val_accuracy did not improve from 0.70444\n",
            "\u001b[1m15/15\u001b[0m \u001b[32m━━━━━━━━━━━━━━━━━━━━\u001b[0m\u001b[37m\u001b[0m \u001b[1m1s\u001b[0m 51ms/step - accuracy: 0.7931 - loss: 0.5032 - val_accuracy: 0.6889 - val_loss: 1.3687\n",
            "Epoch 400/500\n",
            "\u001b[1m14/15\u001b[0m \u001b[32m━━━━━━━━━━━━━━━━━━\u001b[0m\u001b[37m━━\u001b[0m \u001b[1m0s\u001b[0m 40ms/step - accuracy: 0.8367 - loss: 0.4474\n",
            "Epoch 400: val_accuracy did not improve from 0.70444\n",
            "\u001b[1m15/15\u001b[0m \u001b[32m━━━━━━━━━━━━━━━━━━━━\u001b[0m\u001b[37m\u001b[0m \u001b[1m1s\u001b[0m 52ms/step - accuracy: 0.8350 - loss: 0.4497 - val_accuracy: 0.6244 - val_loss: 1.4424\n",
            "Epoch 401/500\n",
            "\u001b[1m15/15\u001b[0m \u001b[32m━━━━━━━━━━━━━━━━━━━━\u001b[0m\u001b[37m\u001b[0m \u001b[1m0s\u001b[0m 38ms/step - accuracy: 0.8025 - loss: 0.4927\n",
            "Epoch 401: val_accuracy did not improve from 0.70444\n",
            "\u001b[1m15/15\u001b[0m \u001b[32m━━━━━━━━━━━━━━━━━━━━\u001b[0m\u001b[37m\u001b[0m \u001b[1m1s\u001b[0m 50ms/step - accuracy: 0.8025 - loss: 0.4934 - val_accuracy: 0.6533 - val_loss: 1.3733\n",
            "Epoch 402/500\n",
            "\u001b[1m14/15\u001b[0m \u001b[32m━━━━━━━━━━━━━━━━━━\u001b[0m\u001b[37m━━\u001b[0m \u001b[1m0s\u001b[0m 38ms/step - accuracy: 0.8019 - loss: 0.4982\n",
            "Epoch 402: val_accuracy did not improve from 0.70444\n",
            "\u001b[1m15/15\u001b[0m \u001b[32m━━━━━━━━━━━━━━━━━━━━\u001b[0m\u001b[37m\u001b[0m \u001b[1m1s\u001b[0m 50ms/step - accuracy: 0.8008 - loss: 0.5015 - val_accuracy: 0.6444 - val_loss: 1.3966\n",
            "Epoch 403/500\n",
            "\u001b[1m14/15\u001b[0m \u001b[32m━━━━━━━━━━━━━━━━━━\u001b[0m\u001b[37m━━\u001b[0m \u001b[1m0s\u001b[0m 41ms/step - accuracy: 0.7643 - loss: 0.5563\n",
            "Epoch 403: val_accuracy did not improve from 0.70444\n",
            "\u001b[1m15/15\u001b[0m \u001b[32m━━━━━━━━━━━━━━━━━━━━\u001b[0m\u001b[37m\u001b[0m \u001b[1m1s\u001b[0m 52ms/step - accuracy: 0.7693 - loss: 0.5480 - val_accuracy: 0.6267 - val_loss: 1.4603\n",
            "Epoch 404/500\n",
            "\u001b[1m15/15\u001b[0m \u001b[32m━━━━━━━━━━━━━━━━━━━━\u001b[0m\u001b[37m\u001b[0m \u001b[1m0s\u001b[0m 40ms/step - accuracy: 0.8218 - loss: 0.4710\n",
            "Epoch 404: val_accuracy did not improve from 0.70444\n",
            "\u001b[1m15/15\u001b[0m \u001b[32m━━━━━━━━━━━━━━━━━━━━\u001b[0m\u001b[37m\u001b[0m \u001b[1m1s\u001b[0m 52ms/step - accuracy: 0.8217 - loss: 0.4709 - val_accuracy: 0.6600 - val_loss: 1.2767\n",
            "Epoch 405/500\n",
            "\u001b[1m14/15\u001b[0m \u001b[32m━━━━━━━━━━━━━━━━━━\u001b[0m\u001b[37m━━\u001b[0m \u001b[1m0s\u001b[0m 57ms/step - accuracy: 0.7794 - loss: 0.5494\n",
            "Epoch 405: val_accuracy did not improve from 0.70444\n",
            "\u001b[1m15/15\u001b[0m \u001b[32m━━━━━━━━━━━━━━━━━━━━\u001b[0m\u001b[37m\u001b[0m \u001b[1m2s\u001b[0m 80ms/step - accuracy: 0.7814 - loss: 0.5435 - val_accuracy: 0.6556 - val_loss: 1.3353\n",
            "Epoch 406/500\n",
            "\u001b[1m14/15\u001b[0m \u001b[32m━━━━━━━━━━━━━━━━━━\u001b[0m\u001b[37m━━\u001b[0m \u001b[1m0s\u001b[0m 52ms/step - accuracy: 0.7965 - loss: 0.5304\n",
            "Epoch 406: val_accuracy did not improve from 0.70444\n",
            "\u001b[1m15/15\u001b[0m \u001b[32m━━━━━━━━━━━━━━━━━━━━\u001b[0m\u001b[37m\u001b[0m \u001b[1m1s\u001b[0m 62ms/step - accuracy: 0.7955 - loss: 0.5313 - val_accuracy: 0.6356 - val_loss: 1.7807\n",
            "Epoch 407/500\n",
            "\u001b[1m15/15\u001b[0m \u001b[32m━━━━━━━━━━━━━━━━━━━━\u001b[0m\u001b[37m\u001b[0m \u001b[1m0s\u001b[0m 39ms/step - accuracy: 0.7782 - loss: 0.5708\n",
            "Epoch 407: val_accuracy did not improve from 0.70444\n",
            "\u001b[1m15/15\u001b[0m \u001b[32m━━━━━━━━━━━━━━━━━━━━\u001b[0m\u001b[37m\u001b[0m \u001b[1m1s\u001b[0m 51ms/step - accuracy: 0.7779 - loss: 0.5711 - val_accuracy: 0.6400 - val_loss: 1.3062\n",
            "Epoch 408/500\n",
            "\u001b[1m15/15\u001b[0m \u001b[32m━━━━━━━━━━━━━━━━━━━━\u001b[0m\u001b[37m\u001b[0m \u001b[1m0s\u001b[0m 40ms/step - accuracy: 0.7798 - loss: 0.5513\n",
            "Epoch 408: val_accuracy did not improve from 0.70444\n",
            "\u001b[1m15/15\u001b[0m \u001b[32m━━━━━━━━━━━━━━━━━━━━\u001b[0m\u001b[37m\u001b[0m \u001b[1m1s\u001b[0m 52ms/step - accuracy: 0.7796 - loss: 0.5511 - val_accuracy: 0.6311 - val_loss: 1.3446\n",
            "Epoch 409/500\n",
            "\u001b[1m15/15\u001b[0m \u001b[32m━━━━━━━━━━━━━━━━━━━━\u001b[0m\u001b[37m\u001b[0m \u001b[1m0s\u001b[0m 39ms/step - accuracy: 0.7963 - loss: 0.5211\n",
            "Epoch 409: val_accuracy did not improve from 0.70444\n",
            "\u001b[1m15/15\u001b[0m \u001b[32m━━━━━━━━━━━━━━━━━━━━\u001b[0m\u001b[37m\u001b[0m \u001b[1m1s\u001b[0m 51ms/step - accuracy: 0.7966 - loss: 0.5202 - val_accuracy: 0.6267 - val_loss: 1.3162\n",
            "Epoch 410/500\n",
            "\u001b[1m15/15\u001b[0m \u001b[32m━━━━━━━━━━━━━━━━━━━━\u001b[0m\u001b[37m\u001b[0m \u001b[1m0s\u001b[0m 38ms/step - accuracy: 0.7595 - loss: 0.5752\n",
            "Epoch 410: val_accuracy did not improve from 0.70444\n",
            "\u001b[1m15/15\u001b[0m \u001b[32m━━━━━━━━━━━━━━━━━━━━\u001b[0m\u001b[37m\u001b[0m \u001b[1m1s\u001b[0m 51ms/step - accuracy: 0.7592 - loss: 0.5760 - val_accuracy: 0.5422 - val_loss: 1.5432\n",
            "Epoch 411/500\n",
            "\u001b[1m15/15\u001b[0m \u001b[32m━━━━━━━━━━━━━━━━━━━━\u001b[0m\u001b[37m\u001b[0m \u001b[1m0s\u001b[0m 38ms/step - accuracy: 0.6827 - loss: 0.8528\n",
            "Epoch 411: val_accuracy did not improve from 0.70444\n",
            "\u001b[1m15/15\u001b[0m \u001b[32m━━━━━━━━━━━━━━━━━━━━\u001b[0m\u001b[37m\u001b[0m \u001b[1m1s\u001b[0m 51ms/step - accuracy: 0.6839 - loss: 0.8468 - val_accuracy: 0.6222 - val_loss: 1.2124\n",
            "Epoch 412/500\n",
            "\u001b[1m14/15\u001b[0m \u001b[32m━━━━━━━━━━━━━━━━━━\u001b[0m\u001b[37m━━\u001b[0m \u001b[1m0s\u001b[0m 40ms/step - accuracy: 0.7184 - loss: 0.6520\n",
            "Epoch 412: val_accuracy did not improve from 0.70444\n",
            "\u001b[1m15/15\u001b[0m \u001b[32m━━━━━━━━━━━━━━━━━━━━\u001b[0m\u001b[37m\u001b[0m \u001b[1m1s\u001b[0m 51ms/step - accuracy: 0.7210 - loss: 0.6488 - val_accuracy: 0.6022 - val_loss: 1.1812\n",
            "Epoch 413/500\n",
            "\u001b[1m15/15\u001b[0m \u001b[32m━━━━━━━━━━━━━━━━━━━━\u001b[0m\u001b[37m\u001b[0m \u001b[1m0s\u001b[0m 39ms/step - accuracy: 0.7545 - loss: 0.5999\n",
            "Epoch 413: val_accuracy did not improve from 0.70444\n",
            "\u001b[1m15/15\u001b[0m \u001b[32m━━━━━━━━━━━━━━━━━━━━\u001b[0m\u001b[37m\u001b[0m \u001b[1m1s\u001b[0m 51ms/step - accuracy: 0.7530 - loss: 0.6022 - val_accuracy: 0.6200 - val_loss: 1.0405\n",
            "Epoch 414/500\n",
            "\u001b[1m14/15\u001b[0m \u001b[32m━━━━━━━━━━━━━━━━━━\u001b[0m\u001b[37m━━\u001b[0m \u001b[1m0s\u001b[0m 39ms/step - accuracy: 0.7224 - loss: 0.6474\n",
            "Epoch 414: val_accuracy did not improve from 0.70444\n",
            "\u001b[1m15/15\u001b[0m \u001b[32m━━━━━━━━━━━━━━━━━━━━\u001b[0m\u001b[37m\u001b[0m \u001b[1m1s\u001b[0m 51ms/step - accuracy: 0.7221 - loss: 0.6477 - val_accuracy: 0.6244 - val_loss: 0.9867\n",
            "Epoch 415/500\n",
            "\u001b[1m13/15\u001b[0m \u001b[32m━━━━━━━━━━━━━━━━━\u001b[0m\u001b[37m━━━\u001b[0m \u001b[1m0s\u001b[0m 42ms/step - accuracy: 0.7542 - loss: 0.6013\n",
            "Epoch 415: val_accuracy did not improve from 0.70444\n",
            "\u001b[1m15/15\u001b[0m \u001b[32m━━━━━━━━━━━━━━━━━━━━\u001b[0m\u001b[37m\u001b[0m \u001b[1m1s\u001b[0m 52ms/step - accuracy: 0.7518 - loss: 0.6038 - val_accuracy: 0.6467 - val_loss: 1.0948\n",
            "Epoch 416/500\n",
            "\u001b[1m15/15\u001b[0m \u001b[32m━━━━━━━━━━━━━━━━━━━━\u001b[0m\u001b[37m\u001b[0m \u001b[1m0s\u001b[0m 53ms/step - accuracy: 0.7718 - loss: 0.5670\n",
            "Epoch 416: val_accuracy did not improve from 0.70444\n",
            "\u001b[1m15/15\u001b[0m \u001b[32m━━━━━━━━━━━━━━━━━━━━\u001b[0m\u001b[37m\u001b[0m \u001b[1m2s\u001b[0m 70ms/step - accuracy: 0.7711 - loss: 0.5683 - val_accuracy: 0.6644 - val_loss: 1.0524\n",
            "Epoch 417/500\n",
            "\u001b[1m15/15\u001b[0m \u001b[32m━━━━━━━━━━━━━━━━━━━━\u001b[0m\u001b[37m\u001b[0m \u001b[1m0s\u001b[0m 62ms/step - accuracy: 0.7713 - loss: 0.5495\n",
            "Epoch 417: val_accuracy did not improve from 0.70444\n",
            "\u001b[1m15/15\u001b[0m \u001b[32m━━━━━━━━━━━━━━━━━━━━\u001b[0m\u001b[37m\u001b[0m \u001b[1m1s\u001b[0m 76ms/step - accuracy: 0.7712 - loss: 0.5497 - val_accuracy: 0.6356 - val_loss: 1.2742\n",
            "Epoch 418/500\n",
            "\u001b[1m14/15\u001b[0m \u001b[32m━━━━━━━━━━━━━━━━━━\u001b[0m\u001b[37m━━\u001b[0m \u001b[1m0s\u001b[0m 38ms/step - accuracy: 0.7787 - loss: 0.5490\n",
            "Epoch 418: val_accuracy did not improve from 0.70444\n",
            "\u001b[1m15/15\u001b[0m \u001b[32m━━━━━━━━━━━━━━━━━━━━\u001b[0m\u001b[37m\u001b[0m \u001b[1m1s\u001b[0m 49ms/step - accuracy: 0.7796 - loss: 0.5479 - val_accuracy: 0.6400 - val_loss: 1.2500\n",
            "Epoch 419/500\n",
            "\u001b[1m15/15\u001b[0m \u001b[32m━━━━━━━━━━━━━━━━━━━━\u001b[0m\u001b[37m\u001b[0m \u001b[1m0s\u001b[0m 37ms/step - accuracy: 0.7801 - loss: 0.5516\n",
            "Epoch 419: val_accuracy did not improve from 0.70444\n",
            "\u001b[1m15/15\u001b[0m \u001b[32m━━━━━━━━━━━━━━━━━━━━\u001b[0m\u001b[37m\u001b[0m \u001b[1m1s\u001b[0m 49ms/step - accuracy: 0.7800 - loss: 0.5511 - val_accuracy: 0.6000 - val_loss: 1.4161\n",
            "Epoch 420/500\n",
            "\u001b[1m14/15\u001b[0m \u001b[32m━━━━━━━━━━━━━━━━━━\u001b[0m\u001b[37m━━\u001b[0m \u001b[1m0s\u001b[0m 40ms/step - accuracy: 0.7642 - loss: 0.5697\n",
            "Epoch 420: val_accuracy did not improve from 0.70444\n",
            "\u001b[1m15/15\u001b[0m \u001b[32m━━━━━━━━━━━━━━━━━━━━\u001b[0m\u001b[37m\u001b[0m \u001b[1m1s\u001b[0m 51ms/step - accuracy: 0.7634 - loss: 0.5702 - val_accuracy: 0.6244 - val_loss: 1.1431\n",
            "Epoch 421/500\n",
            "\u001b[1m15/15\u001b[0m \u001b[32m━━━━━━━━━━━━━━━━━━━━\u001b[0m\u001b[37m\u001b[0m \u001b[1m0s\u001b[0m 42ms/step - accuracy: 0.7503 - loss: 0.5875\n",
            "Epoch 421: val_accuracy did not improve from 0.70444\n",
            "\u001b[1m15/15\u001b[0m \u001b[32m━━━━━━━━━━━━━━━━━━━━\u001b[0m\u001b[37m\u001b[0m \u001b[1m1s\u001b[0m 54ms/step - accuracy: 0.7506 - loss: 0.5868 - val_accuracy: 0.6178 - val_loss: 1.3540\n",
            "Epoch 422/500\n",
            "\u001b[1m14/15\u001b[0m \u001b[32m━━━━━━━━━━━━━━━━━━\u001b[0m\u001b[37m━━\u001b[0m \u001b[1m0s\u001b[0m 37ms/step - accuracy: 0.7397 - loss: 0.6327\n",
            "Epoch 422: val_accuracy did not improve from 0.70444\n",
            "\u001b[1m15/15\u001b[0m \u001b[32m━━━━━━━━━━━━━━━━━━━━\u001b[0m\u001b[37m\u001b[0m \u001b[1m1s\u001b[0m 49ms/step - accuracy: 0.7424 - loss: 0.6272 - val_accuracy: 0.6356 - val_loss: 1.1644\n",
            "Epoch 423/500\n",
            "\u001b[1m14/15\u001b[0m \u001b[32m━━━━━━━━━━━━━━━━━━\u001b[0m\u001b[37m━━\u001b[0m \u001b[1m0s\u001b[0m 37ms/step - accuracy: 0.7640 - loss: 0.5670\n",
            "Epoch 423: val_accuracy did not improve from 0.70444\n",
            "\u001b[1m15/15\u001b[0m \u001b[32m━━━━━━━━━━━━━━━━━━━━\u001b[0m\u001b[37m\u001b[0m \u001b[1m1s\u001b[0m 49ms/step - accuracy: 0.7647 - loss: 0.5659 - val_accuracy: 0.6756 - val_loss: 1.0482\n",
            "Epoch 424/500\n",
            "\u001b[1m15/15\u001b[0m \u001b[32m━━━━━━━━━━━━━━━━━━━━\u001b[0m\u001b[37m\u001b[0m \u001b[1m0s\u001b[0m 39ms/step - accuracy: 0.7830 - loss: 0.5340\n",
            "Epoch 424: val_accuracy did not improve from 0.70444\n",
            "\u001b[1m15/15\u001b[0m \u001b[32m━━━━━━━━━━━━━━━━━━━━\u001b[0m\u001b[37m\u001b[0m \u001b[1m1s\u001b[0m 51ms/step - accuracy: 0.7833 - loss: 0.5338 - val_accuracy: 0.6778 - val_loss: 1.1897\n",
            "Epoch 425/500\n",
            "\u001b[1m14/15\u001b[0m \u001b[32m━━━━━━━━━━━━━━━━━━\u001b[0m\u001b[37m━━\u001b[0m \u001b[1m0s\u001b[0m 39ms/step - accuracy: 0.8100 - loss: 0.4773\n",
            "Epoch 425: val_accuracy did not improve from 0.70444\n",
            "\u001b[1m15/15\u001b[0m \u001b[32m━━━━━━━━━━━━━━━━━━━━\u001b[0m\u001b[37m\u001b[0m \u001b[1m1s\u001b[0m 50ms/step - accuracy: 0.8097 - loss: 0.4784 - val_accuracy: 0.6867 - val_loss: 1.2786\n",
            "Epoch 426/500\n",
            "\u001b[1m15/15\u001b[0m \u001b[32m━━━━━━━━━━━━━━━━━━━━\u001b[0m\u001b[37m\u001b[0m \u001b[1m0s\u001b[0m 40ms/step - accuracy: 0.8197 - loss: 0.4744\n",
            "Epoch 426: val_accuracy did not improve from 0.70444\n",
            "\u001b[1m15/15\u001b[0m \u001b[32m━━━━━━━━━━━━━━━━━━━━\u001b[0m\u001b[37m\u001b[0m \u001b[1m1s\u001b[0m 51ms/step - accuracy: 0.8190 - loss: 0.4746 - val_accuracy: 0.6778 - val_loss: 1.3301\n",
            "Epoch 427/500\n",
            "\u001b[1m14/15\u001b[0m \u001b[32m━━━━━━━━━━━━━━━━━━\u001b[0m\u001b[37m━━\u001b[0m \u001b[1m0s\u001b[0m 55ms/step - accuracy: 0.7891 - loss: 0.5159\n",
            "Epoch 427: val_accuracy did not improve from 0.70444\n",
            "\u001b[1m15/15\u001b[0m \u001b[32m━━━━━━━━━━━━━━━━━━━━\u001b[0m\u001b[37m\u001b[0m \u001b[1m2s\u001b[0m 70ms/step - accuracy: 0.7906 - loss: 0.5146 - val_accuracy: 0.6822 - val_loss: 1.2852\n",
            "Epoch 428/500\n",
            "\u001b[1m15/15\u001b[0m \u001b[32m━━━━━━━━━━━━━━━━━━━━\u001b[0m\u001b[37m\u001b[0m \u001b[1m0s\u001b[0m 58ms/step - accuracy: 0.8128 - loss: 0.4679\n",
            "Epoch 428: val_accuracy did not improve from 0.70444\n",
            "\u001b[1m15/15\u001b[0m \u001b[32m━━━━━━━━━━━━━━━━━━━━\u001b[0m\u001b[37m\u001b[0m \u001b[1m1s\u001b[0m 83ms/step - accuracy: 0.8127 - loss: 0.4685 - val_accuracy: 0.7044 - val_loss: 1.1735\n",
            "Epoch 429/500\n",
            "\u001b[1m15/15\u001b[0m \u001b[32m━━━━━━━━━━━━━━━━━━━━\u001b[0m\u001b[37m\u001b[0m \u001b[1m0s\u001b[0m 37ms/step - accuracy: 0.8177 - loss: 0.4617\n",
            "Epoch 429: val_accuracy did not improve from 0.70444\n",
            "\u001b[1m15/15\u001b[0m \u001b[32m━━━━━━━━━━━━━━━━━━━━\u001b[0m\u001b[37m\u001b[0m \u001b[1m2s\u001b[0m 49ms/step - accuracy: 0.8169 - loss: 0.4633 - val_accuracy: 0.6378 - val_loss: 1.3616\n",
            "Epoch 430/500\n",
            "\u001b[1m14/15\u001b[0m \u001b[32m━━━━━━━━━━━━━━━━━━\u001b[0m\u001b[37m━━\u001b[0m \u001b[1m0s\u001b[0m 40ms/step - accuracy: 0.7941 - loss: 0.5203\n",
            "Epoch 430: val_accuracy did not improve from 0.70444\n",
            "\u001b[1m15/15\u001b[0m \u001b[32m━━━━━━━━━━━━━━━━━━━━\u001b[0m\u001b[37m\u001b[0m \u001b[1m1s\u001b[0m 52ms/step - accuracy: 0.7947 - loss: 0.5195 - val_accuracy: 0.6600 - val_loss: 1.2594\n",
            "Epoch 431/500\n",
            "\u001b[1m15/15\u001b[0m \u001b[32m━━━━━━━━━━━━━━━━━━━━\u001b[0m\u001b[37m\u001b[0m \u001b[1m0s\u001b[0m 39ms/step - accuracy: 0.7829 - loss: 0.5551\n",
            "Epoch 431: val_accuracy did not improve from 0.70444\n",
            "\u001b[1m15/15\u001b[0m \u001b[32m━━━━━━━━━━━━━━━━━━━━\u001b[0m\u001b[37m\u001b[0m \u001b[1m1s\u001b[0m 51ms/step - accuracy: 0.7830 - loss: 0.5541 - val_accuracy: 0.6178 - val_loss: 1.4055\n",
            "Epoch 432/500\n",
            "\u001b[1m14/15\u001b[0m \u001b[32m━━━━━━━━━━━━━━━━━━\u001b[0m\u001b[37m━━\u001b[0m \u001b[1m0s\u001b[0m 39ms/step - accuracy: 0.8068 - loss: 0.5033\n",
            "Epoch 432: val_accuracy did not improve from 0.70444\n",
            "\u001b[1m15/15\u001b[0m \u001b[32m━━━━━━━━━━━━━━━━━━━━\u001b[0m\u001b[37m\u001b[0m \u001b[1m1s\u001b[0m 51ms/step - accuracy: 0.8062 - loss: 0.5041 - val_accuracy: 0.6844 - val_loss: 1.2724\n",
            "Epoch 433/500\n",
            "\u001b[1m15/15\u001b[0m \u001b[32m━━━━━━━━━━━━━━━━━━━━\u001b[0m\u001b[37m\u001b[0m \u001b[1m0s\u001b[0m 39ms/step - accuracy: 0.7931 - loss: 0.5227\n",
            "Epoch 433: val_accuracy did not improve from 0.70444\n",
            "\u001b[1m15/15\u001b[0m \u001b[32m━━━━━━━━━━━━━━━━━━━━\u001b[0m\u001b[37m\u001b[0m \u001b[1m1s\u001b[0m 50ms/step - accuracy: 0.7935 - loss: 0.5227 - val_accuracy: 0.6333 - val_loss: 1.3777\n",
            "Epoch 434/500\n",
            "\u001b[1m14/15\u001b[0m \u001b[32m━━━━━━━━━━━━━━━━━━\u001b[0m\u001b[37m━━\u001b[0m \u001b[1m0s\u001b[0m 39ms/step - accuracy: 0.8059 - loss: 0.4972\n",
            "Epoch 434: val_accuracy did not improve from 0.70444\n",
            "\u001b[1m15/15\u001b[0m \u001b[32m━━━━━━━━━━━━━━━━━━━━\u001b[0m\u001b[37m\u001b[0m \u001b[1m1s\u001b[0m 52ms/step - accuracy: 0.8056 - loss: 0.4975 - val_accuracy: 0.6667 - val_loss: 1.2223\n",
            "Epoch 435/500\n",
            "\u001b[1m15/15\u001b[0m \u001b[32m━━━━━━━━━━━━━━━━━━━━\u001b[0m\u001b[37m\u001b[0m \u001b[1m0s\u001b[0m 39ms/step - accuracy: 0.8059 - loss: 0.4908\n",
            "Epoch 435: val_accuracy did not improve from 0.70444\n",
            "\u001b[1m15/15\u001b[0m \u001b[32m━━━━━━━━━━━━━━━━━━━━\u001b[0m\u001b[37m\u001b[0m \u001b[1m1s\u001b[0m 50ms/step - accuracy: 0.8055 - loss: 0.4918 - val_accuracy: 0.6756 - val_loss: 1.2607\n",
            "Epoch 436/500\n",
            "\u001b[1m15/15\u001b[0m \u001b[32m━━━━━━━━━━━━━━━━━━━━\u001b[0m\u001b[37m\u001b[0m \u001b[1m0s\u001b[0m 38ms/step - accuracy: 0.7742 - loss: 0.5268\n",
            "Epoch 436: val_accuracy did not improve from 0.70444\n",
            "\u001b[1m15/15\u001b[0m \u001b[32m━━━━━━━━━━━━━━━━━━━━\u001b[0m\u001b[37m\u001b[0m \u001b[1m1s\u001b[0m 51ms/step - accuracy: 0.7746 - loss: 0.5277 - val_accuracy: 0.6378 - val_loss: 1.2424\n",
            "Epoch 437/500\n",
            "\u001b[1m15/15\u001b[0m \u001b[32m━━━━━━━━━━━━━━━━━━━━\u001b[0m\u001b[37m\u001b[0m \u001b[1m0s\u001b[0m 39ms/step - accuracy: 0.7745 - loss: 0.5527\n",
            "Epoch 437: val_accuracy did not improve from 0.70444\n",
            "\u001b[1m15/15\u001b[0m \u001b[32m━━━━━━━━━━━━━━━━━━━━\u001b[0m\u001b[37m\u001b[0m \u001b[1m1s\u001b[0m 57ms/step - accuracy: 0.7737 - loss: 0.5538 - val_accuracy: 0.5956 - val_loss: 1.3915\n",
            "Epoch 438/500\n",
            "\u001b[1m15/15\u001b[0m \u001b[32m━━━━━━━━━━━━━━━━━━━━\u001b[0m\u001b[37m\u001b[0m \u001b[1m0s\u001b[0m 61ms/step - accuracy: 0.7572 - loss: 0.6011\n",
            "Epoch 438: val_accuracy did not improve from 0.70444\n",
            "\u001b[1m15/15\u001b[0m \u001b[32m━━━━━━━━━━━━━━━━━━━━\u001b[0m\u001b[37m\u001b[0m \u001b[1m1s\u001b[0m 86ms/step - accuracy: 0.7573 - loss: 0.6008 - val_accuracy: 0.6356 - val_loss: 1.2587\n",
            "Epoch 439/500\n",
            "\u001b[1m15/15\u001b[0m \u001b[32m━━━━━━━━━━━━━━━━━━━━\u001b[0m\u001b[37m\u001b[0m \u001b[1m0s\u001b[0m 59ms/step - accuracy: 0.7890 - loss: 0.5365\n",
            "Epoch 439: val_accuracy did not improve from 0.70444\n",
            "\u001b[1m15/15\u001b[0m \u001b[32m━━━━━━━━━━━━━━━━━━━━\u001b[0m\u001b[37m\u001b[0m \u001b[1m1s\u001b[0m 72ms/step - accuracy: 0.7884 - loss: 0.5368 - val_accuracy: 0.6356 - val_loss: 1.3599\n",
            "Epoch 440/500\n",
            "\u001b[1m14/15\u001b[0m \u001b[32m━━━━━━━━━━━━━━━━━━\u001b[0m\u001b[37m━━\u001b[0m \u001b[1m0s\u001b[0m 38ms/step - accuracy: 0.7899 - loss: 0.5555\n",
            "Epoch 440: val_accuracy did not improve from 0.70444\n",
            "\u001b[1m15/15\u001b[0m \u001b[32m━━━━━━━━━━━━━━━━━━━━\u001b[0m\u001b[37m\u001b[0m \u001b[1m1s\u001b[0m 50ms/step - accuracy: 0.7911 - loss: 0.5509 - val_accuracy: 0.6444 - val_loss: 1.1754\n",
            "Epoch 441/500\n",
            "\u001b[1m14/15\u001b[0m \u001b[32m━━━━━━━━━━━━━━━━━━\u001b[0m\u001b[37m━━\u001b[0m \u001b[1m0s\u001b[0m 44ms/step - accuracy: 0.7768 - loss: 0.5427\n",
            "Epoch 441: val_accuracy did not improve from 0.70444\n",
            "\u001b[1m15/15\u001b[0m \u001b[32m━━━━━━━━━━━━━━━━━━━━\u001b[0m\u001b[37m\u001b[0m \u001b[1m1s\u001b[0m 55ms/step - accuracy: 0.7786 - loss: 0.5395 - val_accuracy: 0.6267 - val_loss: 1.6471\n",
            "Epoch 442/500\n",
            "\u001b[1m14/15\u001b[0m \u001b[32m━━━━━━━━━━━━━━━━━━\u001b[0m\u001b[37m━━\u001b[0m \u001b[1m0s\u001b[0m 42ms/step - accuracy: 0.8082 - loss: 0.4799\n",
            "Epoch 442: val_accuracy did not improve from 0.70444\n",
            "\u001b[1m15/15\u001b[0m \u001b[32m━━━━━━━━━━━━━━━━━━━━\u001b[0m\u001b[37m\u001b[0m \u001b[1m1s\u001b[0m 55ms/step - accuracy: 0.8072 - loss: 0.4834 - val_accuracy: 0.6733 - val_loss: 1.4164\n",
            "Epoch 443/500\n",
            "\u001b[1m14/15\u001b[0m \u001b[32m━━━━━━━━━━━━━━━━━━\u001b[0m\u001b[37m━━\u001b[0m \u001b[1m0s\u001b[0m 39ms/step - accuracy: 0.7829 - loss: 0.5286\n",
            "Epoch 443: val_accuracy did not improve from 0.70444\n",
            "\u001b[1m15/15\u001b[0m \u001b[32m━━━━━━━━━━━━━━━━━━━━\u001b[0m\u001b[37m\u001b[0m \u001b[1m1s\u001b[0m 50ms/step - accuracy: 0.7815 - loss: 0.5328 - val_accuracy: 0.6133 - val_loss: 1.2538\n",
            "Epoch 444/500\n",
            "\u001b[1m14/15\u001b[0m \u001b[32m━━━━━━━━━━━━━━━━━━\u001b[0m\u001b[37m━━\u001b[0m \u001b[1m0s\u001b[0m 40ms/step - accuracy: 0.7268 - loss: 0.6474\n",
            "Epoch 444: val_accuracy did not improve from 0.70444\n",
            "\u001b[1m15/15\u001b[0m \u001b[32m━━━━━━━━━━━━━━━━━━━━\u001b[0m\u001b[37m\u001b[0m \u001b[1m1s\u001b[0m 52ms/step - accuracy: 0.7263 - loss: 0.6475 - val_accuracy: 0.5978 - val_loss: 1.1965\n",
            "Epoch 445/500\n",
            "\u001b[1m14/15\u001b[0m \u001b[32m━━━━━━━━━━━━━━━━━━\u001b[0m\u001b[37m━━\u001b[0m \u001b[1m0s\u001b[0m 38ms/step - accuracy: 0.7231 - loss: 0.6585\n",
            "Epoch 445: val_accuracy did not improve from 0.70444\n",
            "\u001b[1m15/15\u001b[0m \u001b[32m━━━━━━━━━━━━━━━━━━━━\u001b[0m\u001b[37m\u001b[0m \u001b[1m1s\u001b[0m 50ms/step - accuracy: 0.7249 - loss: 0.6557 - val_accuracy: 0.6400 - val_loss: 1.2553\n",
            "Epoch 446/500\n",
            "\u001b[1m14/15\u001b[0m \u001b[32m━━━━━━━━━━━━━━━━━━\u001b[0m\u001b[37m━━\u001b[0m \u001b[1m0s\u001b[0m 38ms/step - accuracy: 0.7661 - loss: 0.5841\n",
            "Epoch 446: val_accuracy did not improve from 0.70444\n",
            "\u001b[1m15/15\u001b[0m \u001b[32m━━━━━━━━━━━━━━━━━━━━\u001b[0m\u001b[37m\u001b[0m \u001b[1m1s\u001b[0m 51ms/step - accuracy: 0.7672 - loss: 0.5813 - val_accuracy: 0.6244 - val_loss: 1.2367\n",
            "Epoch 447/500\n",
            "\u001b[1m15/15\u001b[0m \u001b[32m━━━━━━━━━━━━━━━━━━━━\u001b[0m\u001b[37m\u001b[0m \u001b[1m0s\u001b[0m 38ms/step - accuracy: 0.7744 - loss: 0.5698\n",
            "Epoch 447: val_accuracy did not improve from 0.70444\n",
            "\u001b[1m15/15\u001b[0m \u001b[32m━━━━━━━━━━━━━━━━━━━━\u001b[0m\u001b[37m\u001b[0m \u001b[1m1s\u001b[0m 49ms/step - accuracy: 0.7731 - loss: 0.5725 - val_accuracy: 0.6333 - val_loss: 1.3022\n",
            "Epoch 448/500\n",
            "\u001b[1m14/15\u001b[0m \u001b[32m━━━━━━━━━━━━━━━━━━\u001b[0m\u001b[37m━━\u001b[0m \u001b[1m0s\u001b[0m 38ms/step - accuracy: 0.7413 - loss: 0.6174\n",
            "Epoch 448: val_accuracy did not improve from 0.70444\n",
            "\u001b[1m15/15\u001b[0m \u001b[32m━━━━━━━━━━━━━━━━━━━━\u001b[0m\u001b[37m\u001b[0m \u001b[1m1s\u001b[0m 63ms/step - accuracy: 0.7395 - loss: 0.6241 - val_accuracy: 0.5778 - val_loss: 1.2629\n",
            "Epoch 449/500\n",
            "\u001b[1m15/15\u001b[0m \u001b[32m━━━━━━━━━━━━━━━━━━━━\u001b[0m\u001b[37m\u001b[0m \u001b[1m0s\u001b[0m 58ms/step - accuracy: 0.6867 - loss: 0.6993\n",
            "Epoch 449: val_accuracy did not improve from 0.70444\n",
            "\u001b[1m15/15\u001b[0m \u001b[32m━━━━━━━━━━━━━━━━━━━━\u001b[0m\u001b[37m\u001b[0m \u001b[1m2s\u001b[0m 82ms/step - accuracy: 0.6866 - loss: 0.6997 - val_accuracy: 0.5867 - val_loss: 1.1904\n",
            "Epoch 450/500\n",
            "\u001b[1m15/15\u001b[0m \u001b[32m━━━━━━━━━━━━━━━━━━━━\u001b[0m\u001b[37m\u001b[0m \u001b[1m0s\u001b[0m 40ms/step - accuracy: 0.6926 - loss: 0.6907\n",
            "Epoch 450: val_accuracy did not improve from 0.70444\n",
            "\u001b[1m15/15\u001b[0m \u001b[32m━━━━━━━━━━━━━━━━━━━━\u001b[0m\u001b[37m\u001b[0m \u001b[1m1s\u001b[0m 52ms/step - accuracy: 0.6926 - loss: 0.6904 - val_accuracy: 0.5622 - val_loss: 1.3306\n",
            "Epoch 451/500\n",
            "\u001b[1m15/15\u001b[0m \u001b[32m━━━━━━━━━━━━━━━━━━━━\u001b[0m\u001b[37m\u001b[0m \u001b[1m0s\u001b[0m 38ms/step - accuracy: 0.7099 - loss: 0.6554\n",
            "Epoch 451: val_accuracy did not improve from 0.70444\n",
            "\u001b[1m15/15\u001b[0m \u001b[32m━━━━━━━━━━━━━━━━━━━━\u001b[0m\u001b[37m\u001b[0m \u001b[1m1s\u001b[0m 49ms/step - accuracy: 0.7098 - loss: 0.6555 - val_accuracy: 0.6378 - val_loss: 1.3022\n",
            "Epoch 452/500\n",
            "\u001b[1m14/15\u001b[0m \u001b[32m━━━━━━━━━━━━━━━━━━\u001b[0m\u001b[37m━━\u001b[0m \u001b[1m0s\u001b[0m 38ms/step - accuracy: 0.7377 - loss: 0.6148\n",
            "Epoch 452: val_accuracy did not improve from 0.70444\n",
            "\u001b[1m15/15\u001b[0m \u001b[32m━━━━━━━━━━━━━━━━━━━━\u001b[0m\u001b[37m\u001b[0m \u001b[1m1s\u001b[0m 50ms/step - accuracy: 0.7382 - loss: 0.6148 - val_accuracy: 0.6178 - val_loss: 1.3639\n",
            "Epoch 453/500\n",
            "\u001b[1m15/15\u001b[0m \u001b[32m━━━━━━━━━━━━━━━━━━━━\u001b[0m\u001b[37m\u001b[0m \u001b[1m0s\u001b[0m 41ms/step - accuracy: 0.7788 - loss: 0.5618\n",
            "Epoch 453: val_accuracy did not improve from 0.70444\n",
            "\u001b[1m15/15\u001b[0m \u001b[32m━━━━━━━━━━━━━━━━━━━━\u001b[0m\u001b[37m\u001b[0m \u001b[1m1s\u001b[0m 52ms/step - accuracy: 0.7789 - loss: 0.5614 - val_accuracy: 0.6356 - val_loss: 1.3795\n",
            "Epoch 454/500\n",
            "\u001b[1m15/15\u001b[0m \u001b[32m━━━━━━━━━━━━━━━━━━━━\u001b[0m\u001b[37m\u001b[0m \u001b[1m0s\u001b[0m 41ms/step - accuracy: 0.7953 - loss: 0.5211\n",
            "Epoch 454: val_accuracy did not improve from 0.70444\n",
            "\u001b[1m15/15\u001b[0m \u001b[32m━━━━━━━━━━━━━━━━━━━━\u001b[0m\u001b[37m\u001b[0m \u001b[1m1s\u001b[0m 53ms/step - accuracy: 0.7941 - loss: 0.5227 - val_accuracy: 0.6378 - val_loss: 1.2303\n",
            "Epoch 455/500\n",
            "\u001b[1m14/15\u001b[0m \u001b[32m━━━━━━━━━━━━━━━━━━\u001b[0m\u001b[37m━━\u001b[0m \u001b[1m0s\u001b[0m 39ms/step - accuracy: 0.7757 - loss: 0.5563\n",
            "Epoch 455: val_accuracy did not improve from 0.70444\n",
            "\u001b[1m15/15\u001b[0m \u001b[32m━━━━━━━━━━━━━━━━━━━━\u001b[0m\u001b[37m\u001b[0m \u001b[1m1s\u001b[0m 51ms/step - accuracy: 0.7751 - loss: 0.5560 - val_accuracy: 0.6400 - val_loss: 1.2656\n",
            "Epoch 456/500\n",
            "\u001b[1m14/15\u001b[0m \u001b[32m━━━━━━━━━━━━━━━━━━\u001b[0m\u001b[37m━━\u001b[0m \u001b[1m0s\u001b[0m 39ms/step - accuracy: 0.7546 - loss: 0.5979\n",
            "Epoch 456: val_accuracy did not improve from 0.70444\n",
            "\u001b[1m15/15\u001b[0m \u001b[32m━━━━━━━━━━━━━━━━━━━━\u001b[0m\u001b[37m\u001b[0m \u001b[1m1s\u001b[0m 50ms/step - accuracy: 0.7541 - loss: 0.6003 - val_accuracy: 0.6400 - val_loss: 1.1710\n",
            "Epoch 457/500\n",
            "\u001b[1m15/15\u001b[0m \u001b[32m━━━━━━━━━━━━━━━━━━━━\u001b[0m\u001b[37m\u001b[0m \u001b[1m0s\u001b[0m 42ms/step - accuracy: 0.7670 - loss: 0.5510\n",
            "Epoch 457: val_accuracy did not improve from 0.70444\n",
            "\u001b[1m15/15\u001b[0m \u001b[32m━━━━━━━━━━━━━━━━━━━━\u001b[0m\u001b[37m\u001b[0m \u001b[1m1s\u001b[0m 53ms/step - accuracy: 0.7670 - loss: 0.5515 - val_accuracy: 0.6556 - val_loss: 1.2286\n",
            "Epoch 458/500\n",
            "\u001b[1m14/15\u001b[0m \u001b[32m━━━━━━━━━━━━━━━━━━\u001b[0m\u001b[37m━━\u001b[0m \u001b[1m0s\u001b[0m 39ms/step - accuracy: 0.7639 - loss: 0.5549\n",
            "Epoch 458: val_accuracy did not improve from 0.70444\n",
            "\u001b[1m15/15\u001b[0m \u001b[32m━━━━━━━━━━━━━━━━━━━━\u001b[0m\u001b[37m\u001b[0m \u001b[1m1s\u001b[0m 51ms/step - accuracy: 0.7651 - loss: 0.5539 - val_accuracy: 0.6244 - val_loss: 1.3363\n",
            "Epoch 459/500\n",
            "\u001b[1m15/15\u001b[0m \u001b[32m━━━━━━━━━━━━━━━━━━━━\u001b[0m\u001b[37m\u001b[0m \u001b[1m0s\u001b[0m 38ms/step - accuracy: 0.7762 - loss: 0.5514\n",
            "Epoch 459: val_accuracy did not improve from 0.70444\n",
            "\u001b[1m15/15\u001b[0m \u001b[32m━━━━━━━━━━━━━━━━━━━━\u001b[0m\u001b[37m\u001b[0m \u001b[1m1s\u001b[0m 50ms/step - accuracy: 0.7759 - loss: 0.5521 - val_accuracy: 0.6044 - val_loss: 1.4911\n",
            "Epoch 460/500\n",
            "\u001b[1m14/15\u001b[0m \u001b[32m━━━━━━━━━━━━━━━━━━\u001b[0m\u001b[37m━━\u001b[0m \u001b[1m0s\u001b[0m 52ms/step - accuracy: 0.7110 - loss: 0.7108\n",
            "Epoch 460: val_accuracy did not improve from 0.70444\n",
            "\u001b[1m15/15\u001b[0m \u001b[32m━━━━━━━━━━━━━━━━━━━━\u001b[0m\u001b[37m\u001b[0m \u001b[1m2s\u001b[0m 75ms/step - accuracy: 0.7136 - loss: 0.7011 - val_accuracy: 0.5889 - val_loss: 1.2075\n",
            "Epoch 461/500\n",
            "\u001b[1m15/15\u001b[0m \u001b[32m━━━━━━━━━━━━━━━━━━━━\u001b[0m\u001b[37m\u001b[0m \u001b[1m0s\u001b[0m 62ms/step - accuracy: 0.6844 - loss: 0.7147\n",
            "Epoch 461: val_accuracy did not improve from 0.70444\n",
            "\u001b[1m15/15\u001b[0m \u001b[32m━━━━━━━━━━━━━━━━━━━━\u001b[0m\u001b[37m\u001b[0m \u001b[1m1s\u001b[0m 80ms/step - accuracy: 0.6843 - loss: 0.7153 - val_accuracy: 0.5578 - val_loss: 1.0668\n",
            "Epoch 462/500\n",
            "\u001b[1m13/15\u001b[0m \u001b[32m━━━━━━━━━━━━━━━━━\u001b[0m\u001b[37m━━━\u001b[0m \u001b[1m0s\u001b[0m 54ms/step - accuracy: 0.6889 - loss: 0.6925\n",
            "Epoch 462: val_accuracy did not improve from 0.70444\n",
            "\u001b[1m15/15\u001b[0m \u001b[32m━━━━━━━━━━━━━━━━━━━━\u001b[0m\u001b[37m\u001b[0m \u001b[1m1s\u001b[0m 60ms/step - accuracy: 0.6886 - loss: 0.6940 - val_accuracy: 0.5733 - val_loss: 1.1396\n",
            "Epoch 463/500\n",
            "\u001b[1m14/15\u001b[0m \u001b[32m━━━━━━━━━━━━━━━━━━\u001b[0m\u001b[37m━━\u001b[0m \u001b[1m0s\u001b[0m 38ms/step - accuracy: 0.6689 - loss: 0.7782\n",
            "Epoch 463: val_accuracy did not improve from 0.70444\n",
            "\u001b[1m15/15\u001b[0m \u001b[32m━━━━━━━━━━━━━━━━━━━━\u001b[0m\u001b[37m\u001b[0m \u001b[1m1s\u001b[0m 50ms/step - accuracy: 0.6702 - loss: 0.7723 - val_accuracy: 0.5889 - val_loss: 0.9164\n",
            "Epoch 464/500\n",
            "\u001b[1m14/15\u001b[0m \u001b[32m━━━━━━━━━━━━━━━━━━\u001b[0m\u001b[37m━━\u001b[0m \u001b[1m0s\u001b[0m 40ms/step - accuracy: 0.6908 - loss: 0.6883\n",
            "Epoch 464: val_accuracy did not improve from 0.70444\n",
            "\u001b[1m15/15\u001b[0m \u001b[32m━━━━━━━━━━━━━━━━━━━━\u001b[0m\u001b[37m\u001b[0m \u001b[1m1s\u001b[0m 52ms/step - accuracy: 0.6916 - loss: 0.6880 - val_accuracy: 0.5956 - val_loss: 0.9662\n",
            "Epoch 465/500\n",
            "\u001b[1m15/15\u001b[0m \u001b[32m━━━━━━━━━━━━━━━━━━━━\u001b[0m\u001b[37m\u001b[0m \u001b[1m0s\u001b[0m 46ms/step - accuracy: 0.7284 - loss: 0.6222\n",
            "Epoch 465: val_accuracy did not improve from 0.70444\n",
            "\u001b[1m15/15\u001b[0m \u001b[32m━━━━━━━━━━━━━━━━━━━━\u001b[0m\u001b[37m\u001b[0m \u001b[1m1s\u001b[0m 58ms/step - accuracy: 0.7282 - loss: 0.6222 - val_accuracy: 0.6333 - val_loss: 1.0806\n",
            "Epoch 466/500\n",
            "\u001b[1m15/15\u001b[0m \u001b[32m━━━━━━━━━━━━━━━━━━━━\u001b[0m\u001b[37m\u001b[0m \u001b[1m0s\u001b[0m 41ms/step - accuracy: 0.7542 - loss: 0.5782\n",
            "Epoch 466: val_accuracy did not improve from 0.70444\n",
            "\u001b[1m15/15\u001b[0m \u001b[32m━━━━━━━━━━━━━━━━━━━━\u001b[0m\u001b[37m\u001b[0m \u001b[1m1s\u001b[0m 52ms/step - accuracy: 0.7542 - loss: 0.5783 - val_accuracy: 0.6578 - val_loss: 1.0716\n",
            "Epoch 467/500\n",
            "\u001b[1m15/15\u001b[0m \u001b[32m━━━━━━━━━━━━━━━━━━━━\u001b[0m\u001b[37m\u001b[0m \u001b[1m0s\u001b[0m 39ms/step - accuracy: 0.7254 - loss: 0.6162\n",
            "Epoch 467: val_accuracy did not improve from 0.70444\n",
            "\u001b[1m15/15\u001b[0m \u001b[32m━━━━━━━━━━━━━━━━━━━━\u001b[0m\u001b[37m\u001b[0m \u001b[1m1s\u001b[0m 51ms/step - accuracy: 0.7272 - loss: 0.6130 - val_accuracy: 0.6489 - val_loss: 1.2665\n",
            "Epoch 468/500\n",
            "\u001b[1m14/15\u001b[0m \u001b[32m━━━━━━━━━━━━━━━━━━\u001b[0m\u001b[37m━━\u001b[0m \u001b[1m0s\u001b[0m 39ms/step - accuracy: 0.7790 - loss: 0.5342\n",
            "Epoch 468: val_accuracy did not improve from 0.70444\n",
            "\u001b[1m15/15\u001b[0m \u001b[32m━━━━━━━━━━━━━━━━━━━━\u001b[0m\u001b[37m\u001b[0m \u001b[1m1s\u001b[0m 51ms/step - accuracy: 0.7757 - loss: 0.5408 - val_accuracy: 0.6178 - val_loss: 1.0796\n",
            "Epoch 469/500\n",
            "\u001b[1m14/15\u001b[0m \u001b[32m━━━━━━━━━━━━━━━━━━\u001b[0m\u001b[37m━━\u001b[0m \u001b[1m0s\u001b[0m 41ms/step - accuracy: 0.7101 - loss: 0.6703\n",
            "Epoch 469: val_accuracy did not improve from 0.70444\n",
            "\u001b[1m15/15\u001b[0m \u001b[32m━━━━━━━━━━━━━━━━━━━━\u001b[0m\u001b[37m\u001b[0m \u001b[1m1s\u001b[0m 52ms/step - accuracy: 0.7110 - loss: 0.6687 - val_accuracy: 0.6178 - val_loss: 1.0475\n",
            "Epoch 470/500\n",
            "\u001b[1m15/15\u001b[0m \u001b[32m━━━━━━━━━━━━━━━━━━━━\u001b[0m\u001b[37m\u001b[0m \u001b[1m0s\u001b[0m 39ms/step - accuracy: 0.7171 - loss: 0.6548\n",
            "Epoch 470: val_accuracy did not improve from 0.70444\n",
            "\u001b[1m15/15\u001b[0m \u001b[32m━━━━━━━━━━━━━━━━━━━━\u001b[0m\u001b[37m\u001b[0m \u001b[1m1s\u001b[0m 51ms/step - accuracy: 0.7180 - loss: 0.6532 - val_accuracy: 0.5978 - val_loss: 1.1596\n",
            "Epoch 471/500\n",
            "\u001b[1m14/15\u001b[0m \u001b[32m━━━━━━━━━━━━━━━━━━\u001b[0m\u001b[37m━━\u001b[0m \u001b[1m0s\u001b[0m 38ms/step - accuracy: 0.7485 - loss: 0.5872\n",
            "Epoch 471: val_accuracy did not improve from 0.70444\n",
            "\u001b[1m15/15\u001b[0m \u001b[32m━━━━━━━━━━━━━━━━━━━━\u001b[0m\u001b[37m\u001b[0m \u001b[1m1s\u001b[0m 50ms/step - accuracy: 0.7492 - loss: 0.5863 - val_accuracy: 0.6711 - val_loss: 1.0785\n",
            "Epoch 472/500\n",
            "\u001b[1m15/15\u001b[0m \u001b[32m━━━━━━━━━━━━━━━━━━━━\u001b[0m\u001b[37m\u001b[0m \u001b[1m0s\u001b[0m 64ms/step - accuracy: 0.7732 - loss: 0.5494\n",
            "Epoch 472: val_accuracy did not improve from 0.70444\n",
            "\u001b[1m15/15\u001b[0m \u001b[32m━━━━━━━━━━━━━━━━━━━━\u001b[0m\u001b[37m\u001b[0m \u001b[1m1s\u001b[0m 89ms/step - accuracy: 0.7731 - loss: 0.5495 - val_accuracy: 0.6711 - val_loss: 1.1357\n",
            "Epoch 473/500\n",
            "\u001b[1m15/15\u001b[0m \u001b[32m━━━━━━━━━━━━━━━━━━━━\u001b[0m\u001b[37m\u001b[0m \u001b[1m0s\u001b[0m 41ms/step - accuracy: 0.7578 - loss: 0.5784\n",
            "Epoch 473: val_accuracy did not improve from 0.70444\n",
            "\u001b[1m15/15\u001b[0m \u001b[32m━━━━━━━━━━━━━━━━━━━━\u001b[0m\u001b[37m\u001b[0m \u001b[1m2s\u001b[0m 53ms/step - accuracy: 0.7576 - loss: 0.5791 - val_accuracy: 0.6111 - val_loss: 1.1620\n",
            "Epoch 474/500\n",
            "\u001b[1m15/15\u001b[0m \u001b[32m━━━━━━━━━━━━━━━━━━━━\u001b[0m\u001b[37m\u001b[0m \u001b[1m0s\u001b[0m 39ms/step - accuracy: 0.7465 - loss: 0.6122\n",
            "Epoch 474: val_accuracy did not improve from 0.70444\n",
            "\u001b[1m15/15\u001b[0m \u001b[32m━━━━━━━━━━━━━━━━━━━━\u001b[0m\u001b[37m\u001b[0m \u001b[1m1s\u001b[0m 51ms/step - accuracy: 0.7474 - loss: 0.6102 - val_accuracy: 0.6200 - val_loss: 1.1112\n",
            "Epoch 475/500\n",
            "\u001b[1m15/15\u001b[0m \u001b[32m━━━━━━━━━━━━━━━━━━━━\u001b[0m\u001b[37m\u001b[0m \u001b[1m0s\u001b[0m 39ms/step - accuracy: 0.7730 - loss: 0.5545\n",
            "Epoch 475: val_accuracy did not improve from 0.70444\n",
            "\u001b[1m15/15\u001b[0m \u001b[32m━━━━━━━━━━━━━━━━━━━━\u001b[0m\u001b[37m\u001b[0m \u001b[1m1s\u001b[0m 51ms/step - accuracy: 0.7726 - loss: 0.5550 - val_accuracy: 0.6133 - val_loss: 1.1334\n",
            "Epoch 476/500\n",
            "\u001b[1m15/15\u001b[0m \u001b[32m━━━━━━━━━━━━━━━━━━━━\u001b[0m\u001b[37m\u001b[0m \u001b[1m0s\u001b[0m 40ms/step - accuracy: 0.7495 - loss: 0.5857\n",
            "Epoch 476: val_accuracy did not improve from 0.70444\n",
            "\u001b[1m15/15\u001b[0m \u001b[32m━━━━━━━━━━━━━━━━━━━━\u001b[0m\u001b[37m\u001b[0m \u001b[1m1s\u001b[0m 51ms/step - accuracy: 0.7492 - loss: 0.5866 - val_accuracy: 0.6289 - val_loss: 1.1615\n",
            "Epoch 477/500\n",
            "\u001b[1m14/15\u001b[0m \u001b[32m━━━━━━━━━━━━━━━━━━\u001b[0m\u001b[37m━━\u001b[0m \u001b[1m0s\u001b[0m 41ms/step - accuracy: 0.7727 - loss: 0.5416\n",
            "Epoch 477: val_accuracy did not improve from 0.70444\n",
            "\u001b[1m15/15\u001b[0m \u001b[32m━━━━━━━━━━━━━━━━━━━━\u001b[0m\u001b[37m\u001b[0m \u001b[1m1s\u001b[0m 52ms/step - accuracy: 0.7707 - loss: 0.5448 - val_accuracy: 0.6244 - val_loss: 1.1848\n",
            "Epoch 478/500\n",
            "\u001b[1m15/15\u001b[0m \u001b[32m━━━━━━━━━━━━━━━━━━━━\u001b[0m\u001b[37m\u001b[0m \u001b[1m0s\u001b[0m 38ms/step - accuracy: 0.7638 - loss: 0.5769\n",
            "Epoch 478: val_accuracy did not improve from 0.70444\n",
            "\u001b[1m15/15\u001b[0m \u001b[32m━━━━━━━━━━━━━━━━━━━━\u001b[0m\u001b[37m\u001b[0m \u001b[1m1s\u001b[0m 50ms/step - accuracy: 0.7644 - loss: 0.5754 - val_accuracy: 0.6844 - val_loss: 1.3629\n",
            "Epoch 479/500\n",
            "\u001b[1m14/15\u001b[0m \u001b[32m━━━━━━━━━━━━━━━━━━\u001b[0m\u001b[37m━━\u001b[0m \u001b[1m0s\u001b[0m 37ms/step - accuracy: 0.8123 - loss: 0.4872\n",
            "Epoch 479: val_accuracy did not improve from 0.70444\n",
            "\u001b[1m15/15\u001b[0m \u001b[32m━━━━━━━━━━━━━━━━━━━━\u001b[0m\u001b[37m\u001b[0m \u001b[1m1s\u001b[0m 49ms/step - accuracy: 0.8135 - loss: 0.4820 - val_accuracy: 0.6911 - val_loss: 1.3086\n",
            "Epoch 480/500\n",
            "\u001b[1m15/15\u001b[0m \u001b[32m━━━━━━━━━━━━━━━━━━━━\u001b[0m\u001b[37m\u001b[0m \u001b[1m0s\u001b[0m 39ms/step - accuracy: 0.8300 - loss: 0.4379\n",
            "Epoch 480: val_accuracy did not improve from 0.70444\n",
            "\u001b[1m15/15\u001b[0m \u001b[32m━━━━━━━━━━━━━━━━━━━━\u001b[0m\u001b[37m\u001b[0m \u001b[1m1s\u001b[0m 51ms/step - accuracy: 0.8294 - loss: 0.4389 - val_accuracy: 0.6911 - val_loss: 1.3318\n",
            "Epoch 481/500\n",
            "\u001b[1m14/15\u001b[0m \u001b[32m━━━━━━━━━━━━━━━━━━\u001b[0m\u001b[37m━━\u001b[0m \u001b[1m0s\u001b[0m 44ms/step - accuracy: 0.8480 - loss: 0.3810\n",
            "Epoch 481: val_accuracy did not improve from 0.70444\n",
            "\u001b[1m15/15\u001b[0m \u001b[32m━━━━━━━━━━━━━━━━━━━━\u001b[0m\u001b[37m\u001b[0m \u001b[1m1s\u001b[0m 55ms/step - accuracy: 0.8471 - loss: 0.3841 - val_accuracy: 0.6911 - val_loss: 1.2370\n",
            "Epoch 482/500\n",
            "\u001b[1m15/15\u001b[0m \u001b[32m━━━━━━━━━━━━━━━━━━━━\u001b[0m\u001b[37m\u001b[0m \u001b[1m0s\u001b[0m 38ms/step - accuracy: 0.8199 - loss: 0.4705\n",
            "Epoch 482: val_accuracy did not improve from 0.70444\n",
            "\u001b[1m15/15\u001b[0m \u001b[32m━━━━━━━━━━━━━━━━━━━━\u001b[0m\u001b[37m\u001b[0m \u001b[1m1s\u001b[0m 50ms/step - accuracy: 0.8198 - loss: 0.4707 - val_accuracy: 0.6822 - val_loss: 1.2432\n",
            "Epoch 483/500\n",
            "\u001b[1m15/15\u001b[0m \u001b[32m━━━━━━━━━━━━━━━━━━━━\u001b[0m\u001b[37m\u001b[0m \u001b[1m0s\u001b[0m 59ms/step - accuracy: 0.7949 - loss: 0.5462\n",
            "Epoch 483: val_accuracy did not improve from 0.70444\n",
            "\u001b[1m15/15\u001b[0m \u001b[32m━━━━━━━━━━━━━━━━━━━━\u001b[0m\u001b[37m\u001b[0m \u001b[1m2s\u001b[0m 84ms/step - accuracy: 0.7942 - loss: 0.5470 - val_accuracy: 0.6333 - val_loss: 1.4202\n",
            "Epoch 484/500\n",
            "\u001b[1m14/15\u001b[0m \u001b[32m━━━━━━━━━━━━━━━━━━\u001b[0m\u001b[37m━━\u001b[0m \u001b[1m0s\u001b[0m 54ms/step - accuracy: 0.8021 - loss: 0.4982\n",
            "Epoch 484: val_accuracy did not improve from 0.70444\n",
            "\u001b[1m15/15\u001b[0m \u001b[32m━━━━━━━━━━━━━━━━━━━━\u001b[0m\u001b[37m\u001b[0m \u001b[1m1s\u001b[0m 64ms/step - accuracy: 0.8012 - loss: 0.5007 - val_accuracy: 0.6533 - val_loss: 1.1179\n",
            "Epoch 485/500\n",
            "\u001b[1m15/15\u001b[0m \u001b[32m━━━━━━━━━━━━━━━━━━━━\u001b[0m\u001b[37m\u001b[0m \u001b[1m0s\u001b[0m 40ms/step - accuracy: 0.8007 - loss: 0.5294\n",
            "Epoch 485: val_accuracy did not improve from 0.70444\n",
            "\u001b[1m15/15\u001b[0m \u001b[32m━━━━━━━━━━━━━━━━━━━━\u001b[0m\u001b[37m\u001b[0m \u001b[1m1s\u001b[0m 52ms/step - accuracy: 0.8007 - loss: 0.5286 - val_accuracy: 0.6356 - val_loss: 1.2901\n",
            "Epoch 486/500\n",
            "\u001b[1m14/15\u001b[0m \u001b[32m━━━━━━━━━━━━━━━━━━\u001b[0m\u001b[37m━━\u001b[0m \u001b[1m0s\u001b[0m 40ms/step - accuracy: 0.7934 - loss: 0.5089\n",
            "Epoch 486: val_accuracy did not improve from 0.70444\n",
            "\u001b[1m15/15\u001b[0m \u001b[32m━━━━━━━━━━━━━━━━━━━━\u001b[0m\u001b[37m\u001b[0m \u001b[1m1s\u001b[0m 53ms/step - accuracy: 0.7945 - loss: 0.5072 - val_accuracy: 0.6689 - val_loss: 1.2397\n",
            "Epoch 487/500\n",
            "\u001b[1m15/15\u001b[0m \u001b[32m━━━━━━━━━━━━━━━━━━━━\u001b[0m\u001b[37m\u001b[0m \u001b[1m0s\u001b[0m 38ms/step - accuracy: 0.8093 - loss: 0.4824\n",
            "Epoch 487: val_accuracy did not improve from 0.70444\n",
            "\u001b[1m15/15\u001b[0m \u001b[32m━━━━━━━━━━━━━━━━━━━━\u001b[0m\u001b[37m\u001b[0m \u001b[1m1s\u001b[0m 50ms/step - accuracy: 0.8097 - loss: 0.4815 - val_accuracy: 0.6578 - val_loss: 1.3899\n",
            "Epoch 488/500\n",
            "\u001b[1m13/15\u001b[0m \u001b[32m━━━━━━━━━━━━━━━━━\u001b[0m\u001b[37m━━━\u001b[0m \u001b[1m0s\u001b[0m 40ms/step - accuracy: 0.8115 - loss: 0.4898\n",
            "Epoch 488: val_accuracy did not improve from 0.70444\n",
            "\u001b[1m15/15\u001b[0m \u001b[32m━━━━━━━━━━━━━━━━━━━━\u001b[0m\u001b[37m\u001b[0m \u001b[1m1s\u001b[0m 50ms/step - accuracy: 0.8107 - loss: 0.4917 - val_accuracy: 0.5622 - val_loss: 1.7822\n",
            "Epoch 489/500\n",
            "\u001b[1m14/15\u001b[0m \u001b[32m━━━━━━━━━━━━━━━━━━\u001b[0m\u001b[37m━━\u001b[0m \u001b[1m0s\u001b[0m 41ms/step - accuracy: 0.7544 - loss: 0.6725\n",
            "Epoch 489: val_accuracy did not improve from 0.70444\n",
            "\u001b[1m15/15\u001b[0m \u001b[32m━━━━━━━━━━━━━━━━━━━━\u001b[0m\u001b[37m\u001b[0m \u001b[1m1s\u001b[0m 52ms/step - accuracy: 0.7564 - loss: 0.6612 - val_accuracy: 0.6667 - val_loss: 1.2126\n",
            "Epoch 490/500\n",
            "\u001b[1m15/15\u001b[0m \u001b[32m━━━━━━━━━━━━━━━━━━━━\u001b[0m\u001b[37m\u001b[0m \u001b[1m0s\u001b[0m 40ms/step - accuracy: 0.8064 - loss: 0.4984\n",
            "Epoch 490: val_accuracy did not improve from 0.70444\n",
            "\u001b[1m15/15\u001b[0m \u001b[32m━━━━━━━━━━━━━━━━━━━━\u001b[0m\u001b[37m\u001b[0m \u001b[1m1s\u001b[0m 51ms/step - accuracy: 0.8059 - loss: 0.4983 - val_accuracy: 0.6622 - val_loss: 1.2651\n",
            "Epoch 491/500\n",
            "\u001b[1m15/15\u001b[0m \u001b[32m━━━━━━━━━━━━━━━━━━━━\u001b[0m\u001b[37m\u001b[0m \u001b[1m0s\u001b[0m 38ms/step - accuracy: 0.8184 - loss: 0.4633\n",
            "Epoch 491: val_accuracy did not improve from 0.70444\n",
            "\u001b[1m15/15\u001b[0m \u001b[32m━━━━━━━━━━━━━━━━━━━━\u001b[0m\u001b[37m\u001b[0m \u001b[1m1s\u001b[0m 50ms/step - accuracy: 0.8180 - loss: 0.4630 - val_accuracy: 0.6689 - val_loss: 1.2029\n",
            "Epoch 492/500\n",
            "\u001b[1m15/15\u001b[0m \u001b[32m━━━━━━━━━━━━━━━━━━━━\u001b[0m\u001b[37m\u001b[0m \u001b[1m0s\u001b[0m 39ms/step - accuracy: 0.7929 - loss: 0.5046\n",
            "Epoch 492: val_accuracy did not improve from 0.70444\n",
            "\u001b[1m15/15\u001b[0m \u001b[32m━━━━━━━━━━━━━━━━━━━━\u001b[0m\u001b[37m\u001b[0m \u001b[1m1s\u001b[0m 50ms/step - accuracy: 0.7938 - loss: 0.5027 - val_accuracy: 0.6533 - val_loss: 1.2903\n",
            "Epoch 493/500\n",
            "\u001b[1m15/15\u001b[0m \u001b[32m━━━━━━━━━━━━━━━━━━━━\u001b[0m\u001b[37m\u001b[0m \u001b[1m0s\u001b[0m 48ms/step - accuracy: 0.8240 - loss: 0.4514\n",
            "Epoch 493: val_accuracy did not improve from 0.70444\n",
            "\u001b[1m15/15\u001b[0m \u001b[32m━━━━━━━━━━━━━━━━━━━━\u001b[0m\u001b[37m\u001b[0m \u001b[1m1s\u001b[0m 66ms/step - accuracy: 0.8227 - loss: 0.4528 - val_accuracy: 0.6244 - val_loss: 1.4875\n",
            "Epoch 494/500\n",
            "\u001b[1m15/15\u001b[0m \u001b[32m━━━━━━━━━━━━━━━━━━━━\u001b[0m\u001b[37m\u001b[0m \u001b[1m0s\u001b[0m 61ms/step - accuracy: 0.8147 - loss: 0.4604\n",
            "Epoch 494: val_accuracy did not improve from 0.70444\n",
            "\u001b[1m15/15\u001b[0m \u001b[32m━━━━━━━━━━━━━━━━━━━━\u001b[0m\u001b[37m\u001b[0m \u001b[1m1s\u001b[0m 85ms/step - accuracy: 0.8139 - loss: 0.4633 - val_accuracy: 0.6711 - val_loss: 1.0849\n",
            "Epoch 495/500\n",
            "\u001b[1m14/15\u001b[0m \u001b[32m━━━━━━━━━━━━━━━━━━\u001b[0m\u001b[37m━━\u001b[0m \u001b[1m0s\u001b[0m 60ms/step - accuracy: 0.8058 - loss: 0.4807\n",
            "Epoch 495: val_accuracy did not improve from 0.70444\n",
            "\u001b[1m15/15\u001b[0m \u001b[32m━━━━━━━━━━━━━━━━━━━━\u001b[0m\u001b[37m\u001b[0m \u001b[1m1s\u001b[0m 70ms/step - accuracy: 0.8048 - loss: 0.4828 - val_accuracy: 0.6756 - val_loss: 1.0623\n",
            "Epoch 496/500\n",
            "\u001b[1m14/15\u001b[0m \u001b[32m━━━━━━━━━━━━━━━━━━\u001b[0m\u001b[37m━━\u001b[0m \u001b[1m0s\u001b[0m 40ms/step - accuracy: 0.7655 - loss: 0.5268\n",
            "Epoch 496: val_accuracy did not improve from 0.70444\n",
            "\u001b[1m15/15\u001b[0m \u001b[32m━━━━━━━━━━━━━━━━━━━━\u001b[0m\u001b[37m\u001b[0m \u001b[1m1s\u001b[0m 52ms/step - accuracy: 0.7672 - loss: 0.5252 - val_accuracy: 0.6867 - val_loss: 1.1480\n",
            "Epoch 497/500\n",
            "\u001b[1m14/15\u001b[0m \u001b[32m━━━━━━━━━━━━━━━━━━\u001b[0m\u001b[37m━━\u001b[0m \u001b[1m0s\u001b[0m 45ms/step - accuracy: 0.7985 - loss: 0.5286\n",
            "Epoch 497: val_accuracy did not improve from 0.70444\n",
            "\u001b[1m15/15\u001b[0m \u001b[32m━━━━━━━━━━━━━━━━━━━━\u001b[0m\u001b[37m\u001b[0m \u001b[1m1s\u001b[0m 57ms/step - accuracy: 0.7958 - loss: 0.5333 - val_accuracy: 0.6444 - val_loss: 1.2372\n",
            "Epoch 498/500\n",
            "\u001b[1m15/15\u001b[0m \u001b[32m━━━━━━━━━━━━━━━━━━━━\u001b[0m\u001b[37m\u001b[0m \u001b[1m0s\u001b[0m 40ms/step - accuracy: 0.7860 - loss: 0.5606\n",
            "Epoch 498: val_accuracy did not improve from 0.70444\n",
            "\u001b[1m15/15\u001b[0m \u001b[32m━━━━━━━━━━━━━━━━━━━━\u001b[0m\u001b[37m\u001b[0m \u001b[1m1s\u001b[0m 53ms/step - accuracy: 0.7862 - loss: 0.5594 - val_accuracy: 0.6222 - val_loss: 1.4275\n",
            "Epoch 499/500\n",
            "\u001b[1m15/15\u001b[0m \u001b[32m━━━━━━━━━━━━━━━━━━━━\u001b[0m\u001b[37m\u001b[0m \u001b[1m0s\u001b[0m 39ms/step - accuracy: 0.7725 - loss: 0.5803\n",
            "Epoch 499: val_accuracy did not improve from 0.70444\n",
            "\u001b[1m15/15\u001b[0m \u001b[32m━━━━━━━━━━━━━━━━━━━━\u001b[0m\u001b[37m\u001b[0m \u001b[1m1s\u001b[0m 51ms/step - accuracy: 0.7728 - loss: 0.5796 - val_accuracy: 0.6289 - val_loss: 1.2099\n",
            "Epoch 500/500\n",
            "\u001b[1m14/15\u001b[0m \u001b[32m━━━━━━━━━━━━━━━━━━\u001b[0m\u001b[37m━━\u001b[0m \u001b[1m0s\u001b[0m 39ms/step - accuracy: 0.7818 - loss: 0.5550\n",
            "Epoch 500: val_accuracy did not improve from 0.70444\n",
            "\u001b[1m15/15\u001b[0m \u001b[32m━━━━━━━━━━━━━━━━━━━━\u001b[0m\u001b[37m\u001b[0m \u001b[1m1s\u001b[0m 51ms/step - accuracy: 0.7813 - loss: 0.5558 - val_accuracy: 0.6111 - val_loss: 1.2552\n"
          ]
        }
      ]
    },
    {
      "cell_type": "code",
      "source": [
        "from tensorflow.keras.models import load_model\n",
        "\n",
        "model = load_model(\"meat_freshness_ann_500.keras\")  # Загружаем сохраненную модель\n",
        "history = model.fit(train_generator, epochs=500, validation_data=val_generator)  # Продолжаем обучение"
      ],
      "metadata": {
        "id": "1KAowSD_9rB-"
      },
      "execution_count": null,
      "outputs": []
    },
    {
      "cell_type": "code",
      "source": [
        "# Графики обучения\n",
        "plt.figure(figsize=(10, 5))\n",
        "plt.plot(history.history['accuracy'], label='Train Accuracy')\n",
        "plt.plot(history.history['val_accuracy'], label='Val Accuracy')\n",
        "plt.legend()\n",
        "plt.title(\"Accuracy\")\n",
        "plt.show()\n",
        "\n",
        "# Подготовка данных для SVM\n",
        "X, y = [], []\n",
        "for folder in os.listdir(train_dir):\n",
        "    class_dir = os.path.join(train_dir, folder)\n",
        "    label = train_generator.class_indices[folder]\n",
        "    for file in os.listdir(class_dir):\n",
        "        img_path = os.path.join(class_dir, file)\n",
        "        img = plt.imread(img_path)\n",
        "        img = np.resize(img, (50, 50, 3))\n",
        "        X.append(img.flatten())\n",
        "        y.append(label)\n",
        "X = np.array(X)\n",
        "y = np.array(y)\n",
        "\n",
        "# Нормализация и разделение\n",
        "scaler = StandardScaler()\n",
        "X_scaled = scaler.fit_transform(X)\n",
        "X_train, X_test, y_train, y_test = train_test_split(X_scaled, y, test_size=0.2, random_state=42)\n",
        "\n",
        "# SVM классификатор\n",
        "svm_model = SVC(kernel='linear')\n",
        "svm_model.fit(X_train, y_train)\n",
        "\n",
        "# Предсказание\n",
        "svm_pred = svm_model.predict(X_test)\n",
        "print(classification_report(y_test, svm_pred))\n",
        "\n",
        "# Матрица ошибок\n",
        "sns.heatmap(confusion_matrix(y_test, svm_pred), annot=True, fmt='d', cmap='coolwarm')\n",
        "plt.title(\"Confusion Matrix for SVM\")\n",
        "plt.show()"
      ],
      "metadata": {
        "colab": {
          "base_uri": "https://localhost:8080/",
          "height": 1000
        },
        "id": "pkwW8Xpw_9Oz",
        "outputId": "f1d5f4fb-b163-436d-a9f3-ea2583fa751f"
      },
      "execution_count": null,
      "outputs": [
        {
          "output_type": "display_data",
          "data": {
            "text/plain": [
              "<Figure size 1000x500 with 1 Axes>"
            ],
            "image/png": "[encoded data removed]"
          },
          "metadata": {}
        },
        {
          "output_type": "stream",
          "name": "stdout",
          "text": [
            "              precision    recall  f1-score   support\n",
            "\n",
            "           0       0.62      0.49      0.55       128\n",
            "           1       0.64      0.51      0.57       127\n",
            "           2       0.44      0.66      0.53       105\n",
            "\n",
            "    accuracy                           0.55       360\n",
            "   macro avg       0.57      0.55      0.55       360\n",
            "weighted avg       0.57      0.55      0.55       360\n",
            "\n"
          ]
        },
        {
          "output_type": "display_data",
          "data": {
            "text/plain": [
              "<Figure size 640x480 with 2 Axes>"
            ],
            "image/png": "[encoded data removed]"
          },
          "metadata": {}
        }
      ]
    },
    {
      "cell_type": "code",
      "source": [
        "# Для SVM\n",
        "from sklearn.metrics import accuracy_score\n",
        "\n",
        "# Получение точности SVM\n",
        "svm_accuracy = accuracy_score(y_test, svm_pred)\n",
        "print(f\"SVM Accuracy: {svm_accuracy * 100:.2f}%\")\n",
        "\n",
        "# Для ANN\n",
        "# Получаем максимальную точность из истории обучения\n",
        "ann_train_accuracy = max(history.history['accuracy'])\n",
        "ann_val_accuracy = max(history.history['val_accuracy'])\n",
        "\n",
        "print(f\"Max ANN Training Accuracy: {ann_train_accuracy * 100:.2f}%\")\n",
        "print(f\"Max ANN Validation Accuracy: {ann_val_accuracy * 100:.2f}%\")\n"
      ],
      "metadata": {
        "colab": {
          "base_uri": "https://localhost:8080/"
        },
        "id": "vpUdXGkvBkeV",
        "outputId": "5205e801-dda4-4c43-8ae8-669df8f1541a"
      },
      "execution_count": null,
      "outputs": [
        {
          "output_type": "stream",
          "name": "stdout",
          "text": [
            "SVM Accuracy: 54.72%\n",
            "Max ANN Training Accuracy: 84.06%\n",
            "Max ANN Validation Accuracy: 70.44%\n"
          ]
        }
      ]
    },
    {
      "cell_type": "code",
      "source": [
        "import cv2\n",
        "\n",
        "X, y = [], []\n",
        "for folder in os.listdir(train_dir):\n",
        "    class_dir = os.path.join(train_dir, folder)\n",
        "    label = train_generator.class_indices[folder]\n",
        "    for file in os.listdir(class_dir):\n",
        "        img_path = os.path.join(class_dir, file)\n",
        "        img = cv2.imread(img_path)  # Используем OpenCV\n",
        "        img = cv2.resize(img, (50, 50))  # Корректное изменение размера\n",
        "        img = img.flatten()  # Преобразуем в вектор\n",
        "        X.append(img)\n",
        "        y.append(label)\n",
        "\n",
        "X = np.array(X)\n",
        "y = np.array(y)\n",
        "\n",
        "# Нормализация\n",
        "scaler = StandardScaler()\n",
        "X_scaled = scaler.fit_transform(X)\n",
        "\n",
        "# Разделение на train/test\n",
        "X_train, X_test, y_train, y_test = train_test_split(X_scaled, y, test_size=0.2, random_state=42)\n",
        "\n",
        "# Обучение SVM\n",
        "svm_model = SVC(kernel='rbf')  # Вместо 'linear'\n",
        "svm_model.fit(X_train, y_train)"
      ],
      "metadata": {
        "colab": {
          "base_uri": "https://localhost:8080/",
          "height": 80
        },
        "id": "eLO1voEkCCuR",
        "outputId": "b03c3bb2-7e98-4d79-d272-5e7eb2e2edd3"
      },
      "execution_count": null,
      "outputs": [
        {
          "output_type": "execute_result",
          "data": {
            "text/plain": [
              "SVC()"
            ],
            "text/html": [
              "<style>#sk-container-id-1 {\n",
              "  /* Definition of color scheme common for light and dark mode */\n",
              "  --sklearn-color-text: #000;\n",
              "  --sklearn-color-text-muted: #666;\n",
              "  --sklearn-color-line: gray;\n",
              "  /* Definition of color scheme for unfitted estimators */\n",
              "  --sklearn-color-unfitted-level-0: #fff5e6;\n",
              "  --sklearn-color-unfitted-level-1: #f6e4d2;\n",
              "  --sklearn-color-unfitted-level-2: #ffe0b3;\n",
              "  --sklearn-color-unfitted-level-3: chocolate;\n",
              "  /* Definition of color scheme for fitted estimators */\n",
              "  --sklearn-color-fitted-level-0: #f0f8ff;\n",
              "  --sklearn-color-fitted-level-1: #d4ebff;\n",
              "  --sklearn-color-fitted-level-2: #b3dbfd;\n",
              "  --sklearn-color-fitted-level-3: cornflowerblue;\n",
              "\n",
              "  /* Specific color for light theme */\n",
              "  --sklearn-color-text-on-default-background: var(--sg-text-color, var(--theme-code-foreground, var(--jp-content-font-color1, black)));\n",
              "  --sklearn-color-background: var(--sg-background-color, var(--theme-background, var(--jp-layout-color0, white)));\n",
              "  --sklearn-color-border-box: var(--sg-text-color, var(--theme-code-foreground, var(--jp-content-font-color1, black)));\n",
              "  --sklearn-color-icon: #696969;\n",
              "\n",
              "  @media (prefers-color-scheme: dark) {\n",
              "    /* Redefinition of color scheme for dark theme */\n",
              "    --sklearn-color-text-on-default-background: var(--sg-text-color, var(--theme-code-foreground, var(--jp-content-font-color1, white)));\n",
              "    --sklearn-color-background: var(--sg-background-color, var(--theme-background, var(--jp-layout-color0, #111)));\n",
              "    --sklearn-color-border-box: var(--sg-text-color, var(--theme-code-foreground, var(--jp-content-font-color1, white)));\n",
              "    --sklearn-color-icon: #878787;\n",
              "  }\n",
              "}\n",
              "\n",
              "#sk-container-id-1 {\n",
              "  color: var(--sklearn-color-text);\n",
              "}\n",
              "\n",
              "#sk-container-id-1 pre {\n",
              "  padding: 0;\n",
              "}\n",
              "\n",
              "#sk-container-id-1 input.sk-hidden--visually {\n",
              "  border: 0;\n",
              "  clip: rect(1px 1px 1px 1px);\n",
              "  clip: rect(1px, 1px, 1px, 1px);\n",
              "  height: 1px;\n",
              "  margin: -1px;\n",
              "  overflow: hidden;\n",
              "  padding: 0;\n",
              "  position: absolute;\n",
              "  width: 1px;\n",
              "}\n",
              "\n",
              "#sk-container-id-1 div.sk-dashed-wrapped {\n",
              "  border: 1px dashed var(--sklearn-color-line);\n",
              "  margin: 0 0.4em 0.5em 0.4em;\n",
              "  box-sizing: border-box;\n",
              "  padding-bottom: 0.4em;\n",
              "  background-color: var(--sklearn-color-background);\n",
              "}\n",
              "\n",
              "#sk-container-id-1 div.sk-container {\n",
              "  /* jupyter's `normalize.less` sets `[hidden] { display: none; }`\n",
              "     but bootstrap.min.css set `[hidden] { display: none !important; }`\n",
              "     so we also need the `!important` here to be able to override the\n",
              "     default hidden behavior on the sphinx rendered scikit-learn.org.\n",
              "     See: https://github.com/scikit-learn/scikit-learn/issues/21755 */\n",
              "  display: inline-block !important;\n",
              "  position: relative;\n",
              "}\n",
              "\n",
              "#sk-container-id-1 div.sk-text-repr-fallback {\n",
              "  display: none;\n",
              "}\n",
              "\n",
              "div.sk-parallel-item,\n",
              "div.sk-serial,\n",
              "div.sk-item {\n",
              "  /* draw centered vertical line to link estimators */\n",
              "  background-image: linear-gradient(var(--sklearn-color-text-on-default-background), var(--sklearn-color-text-on-default-background));\n",
              "  background-size: 2px 100%;\n",
              "  background-repeat: no-repeat;\n",
              "  background-position: center center;\n",
              "}\n",
              "\n",
              "/* Parallel-specific style estimator block */\n",
              "\n",
              "#sk-container-id-1 div.sk-parallel-item::after {\n",
              "  content: \"\";\n",
              "  width: 100%;\n",
              "  border-bottom: 2px solid var(--sklearn-color-text-on-default-background);\n",
              "  flex-grow: 1;\n",
              "}\n",
              "\n",
              "#sk-container-id-1 div.sk-parallel {\n",
              "  display: flex;\n",
              "  align-items: stretch;\n",
              "  justify-content: center;\n",
              "  background-color: var(--sklearn-color-background);\n",
              "  position: relative;\n",
              "}\n",
              "\n",
              "#sk-container-id-1 div.sk-parallel-item {\n",
              "  display: flex;\n",
              "  flex-direction: column;\n",
              "}\n",
              "\n",
              "#sk-container-id-1 div.sk-parallel-item:first-child::after {\n",
              "  align-self: flex-end;\n",
              "  width: 50%;\n",
              "}\n",
              "\n",
              "#sk-container-id-1 div.sk-parallel-item:last-child::after {\n",
              "  align-self: flex-start;\n",
              "  width: 50%;\n",
              "}\n",
              "\n",
              "#sk-container-id-1 div.sk-parallel-item:only-child::after {\n",
              "  width: 0;\n",
              "}\n",
              "\n",
              "/* Serial-specific style estimator block */\n",
              "\n",
              "#sk-container-id-1 div.sk-serial {\n",
              "  display: flex;\n",
              "  flex-direction: column;\n",
              "  align-items: center;\n",
              "  background-color: var(--sklearn-color-background);\n",
              "  padding-right: 1em;\n",
              "  padding-left: 1em;\n",
              "}\n",
              "\n",
              "\n",
              "/* Toggleable style: style used for estimator/Pipeline/ColumnTransformer box that is\n",
              "clickable and can be expanded/collapsed.\n",
              "- Pipeline and ColumnTransformer use this feature and define the default style\n",
              "- Estimators will overwrite some part of the style using the `sk-estimator` class\n",
              "*/\n",
              "\n",
              "/* Pipeline and ColumnTransformer style (default) */\n",
              "\n",
              "#sk-container-id-1 div.sk-toggleable {\n",
              "  /* Default theme specific background. It is overwritten whether we have a\n",
              "  specific estimator or a Pipeline/ColumnTransformer */\n",
              "  background-color: var(--sklearn-color-background);\n",
              "}\n",
              "\n",
              "/* Toggleable label */\n",
              "#sk-container-id-1 label.sk-toggleable__label {\n",
              "  cursor: pointer;\n",
              "  display: flex;\n",
              "  width: 100%;\n",
              "  margin-bottom: 0;\n",
              "  padding: 0.5em;\n",
              "  box-sizing: border-box;\n",
              "  text-align: center;\n",
              "  align-items: start;\n",
              "  justify-content: space-between;\n",
              "  gap: 0.5em;\n",
              "}\n",
              "\n",
              "#sk-container-id-1 label.sk-toggleable__label .caption {\n",
              "  font-size: 0.6rem;\n",
              "  font-weight: lighter;\n",
              "  color: var(--sklearn-color-text-muted);\n",
              "}\n",
              "\n",
              "#sk-container-id-1 label.sk-toggleable__label-arrow:before {\n",
              "  /* Arrow on the left of the label */\n",
              "  content: \"▸\";\n",
              "  float: left;\n",
              "  margin-right: 0.25em;\n",
              "  color: var(--sklearn-color-icon);\n",
              "}\n",
              "\n",
              "#sk-container-id-1 label.sk-toggleable__label-arrow:hover:before {\n",
              "  color: var(--sklearn-color-text);\n",
              "}\n",
              "\n",
              "/* Toggleable content - dropdown */\n",
              "\n",
              "#sk-container-id-1 div.sk-toggleable__content {\n",
              "  max-height: 0;\n",
              "  max-width: 0;\n",
              "  overflow: hidden;\n",
              "  text-align: left;\n",
              "  /* unfitted */\n",
              "  background-color: var(--sklearn-color-unfitted-level-0);\n",
              "}\n",
              "\n",
              "#sk-container-id-1 div.sk-toggleable__content.fitted {\n",
              "  /* fitted */\n",
              "  background-color: var(--sklearn-color-fitted-level-0);\n",
              "}\n",
              "\n",
              "#sk-container-id-1 div.sk-toggleable__content pre {\n",
              "  margin: 0.2em;\n",
              "  border-radius: 0.25em;\n",
              "  color: var(--sklearn-color-text);\n",
              "  /* unfitted */\n",
              "  background-color: var(--sklearn-color-unfitted-level-0);\n",
              "}\n",
              "\n",
              "#sk-container-id-1 div.sk-toggleable__content.fitted pre {\n",
              "  /* unfitted */\n",
              "  background-color: var(--sklearn-color-fitted-level-0);\n",
              "}\n",
              "\n",
              "#sk-container-id-1 input.sk-toggleable__control:checked~div.sk-toggleable__content {\n",
              "  /* Expand drop-down */\n",
              "  max-height: 200px;\n",
              "  max-width: 100%;\n",
              "  overflow: auto;\n",
              "}\n",
              "\n",
              "#sk-container-id-1 input.sk-toggleable__control:checked~label.sk-toggleable__label-arrow:before {\n",
              "  content: \"▾\";\n",
              "}\n",
              "\n",
              "/* Pipeline/ColumnTransformer-specific style */\n",
              "\n",
              "#sk-container-id-1 div.sk-label input.sk-toggleable__control:checked~label.sk-toggleable__label {\n",
              "  color: var(--sklearn-color-text);\n",
              "  background-color: var(--sklearn-color-unfitted-level-2);\n",
              "}\n",
              "\n",
              "#sk-container-id-1 div.sk-label.fitted input.sk-toggleable__control:checked~label.sk-toggleable__label {\n",
              "  background-color: var(--sklearn-color-fitted-level-2);\n",
              "}\n",
              "\n",
              "/* Estimator-specific style */\n",
              "\n",
              "/* Colorize estimator box */\n",
              "#sk-container-id-1 div.sk-estimator input.sk-toggleable__control:checked~label.sk-toggleable__label {\n",
              "  /* unfitted */\n",
              "  background-color: var(--sklearn-color-unfitted-level-2);\n",
              "}\n",
              "\n",
              "#sk-container-id-1 div.sk-estimator.fitted input.sk-toggleable__control:checked~label.sk-toggleable__label {\n",
              "  /* fitted */\n",
              "  background-color: var(--sklearn-color-fitted-level-2);\n",
              "}\n",
              "\n",
              "#sk-container-id-1 div.sk-label label.sk-toggleable__label,\n",
              "#sk-container-id-1 div.sk-label label {\n",
              "  /* The background is the default theme color */\n",
              "  color: var(--sklearn-color-text-on-default-background);\n",
              "}\n",
              "\n",
              "/* On hover, darken the color of the background */\n",
              "#sk-container-id-1 div.sk-label:hover label.sk-toggleable__label {\n",
              "  color: var(--sklearn-color-text);\n",
              "  background-color: var(--sklearn-color-unfitted-level-2);\n",
              "}\n",
              "\n",
              "/* Label box, darken color on hover, fitted */\n",
              "#sk-container-id-1 div.sk-label.fitted:hover label.sk-toggleable__label.fitted {\n",
              "  color: var(--sklearn-color-text);\n",
              "  background-color: var(--sklearn-color-fitted-level-2);\n",
              "}\n",
              "\n",
              "/* Estimator label */\n",
              "\n",
              "#sk-container-id-1 div.sk-label label {\n",
              "  font-family: monospace;\n",
              "  font-weight: bold;\n",
              "  display: inline-block;\n",
              "  line-height: 1.2em;\n",
              "}\n",
              "\n",
              "#sk-container-id-1 div.sk-label-container {\n",
              "  text-align: center;\n",
              "}\n",
              "\n",
              "/* Estimator-specific */\n",
              "#sk-container-id-1 div.sk-estimator {\n",
              "  font-family: monospace;\n",
              "  border: 1px dotted var(--sklearn-color-border-box);\n",
              "  border-radius: 0.25em;\n",
              "  box-sizing: border-box;\n",
              "  margin-bottom: 0.5em;\n",
              "  /* unfitted */\n",
              "  background-color: var(--sklearn-color-unfitted-level-0);\n",
              "}\n",
              "\n",
              "#sk-container-id-1 div.sk-estimator.fitted {\n",
              "  /* fitted */\n",
              "  background-color: var(--sklearn-color-fitted-level-0);\n",
              "}\n",
              "\n",
              "/* on hover */\n",
              "#sk-container-id-1 div.sk-estimator:hover {\n",
              "  /* unfitted */\n",
              "  background-color: var(--sklearn-color-unfitted-level-2);\n",
              "}\n",
              "\n",
              "#sk-container-id-1 div.sk-estimator.fitted:hover {\n",
              "  /* fitted */\n",
              "  background-color: var(--sklearn-color-fitted-level-2);\n",
              "}\n",
              "\n",
              "/* Specification for estimator info (e.g. \"i\" and \"?\") */\n",
              "\n",
              "/* Common style for \"i\" and \"?\" */\n",
              "\n",
              ".sk-estimator-doc-link,\n",
              "a:link.sk-estimator-doc-link,\n",
              "a:visited.sk-estimator-doc-link {\n",
              "  float: right;\n",
              "  font-size: smaller;\n",
              "  line-height: 1em;\n",
              "  font-family: monospace;\n",
              "  background-color: var(--sklearn-color-background);\n",
              "  border-radius: 1em;\n",
              "  height: 1em;\n",
              "  width: 1em;\n",
              "  text-decoration: none !important;\n",
              "  margin-left: 0.5em;\n",
              "  text-align: center;\n",
              "  /* unfitted */\n",
              "  border: var(--sklearn-color-unfitted-level-1) 1pt solid;\n",
              "  color: var(--sklearn-color-unfitted-level-1);\n",
              "}\n",
              "\n",
              ".sk-estimator-doc-link.fitted,\n",
              "a:link.sk-estimator-doc-link.fitted,\n",
              "a:visited.sk-estimator-doc-link.fitted {\n",
              "  /* fitted */\n",
              "  border: var(--sklearn-color-fitted-level-1) 1pt solid;\n",
              "  color: var(--sklearn-color-fitted-level-1);\n",
              "}\n",
              "\n",
              "/* On hover */\n",
              "div.sk-estimator:hover .sk-estimator-doc-link:hover,\n",
              ".sk-estimator-doc-link:hover,\n",
              "div.sk-label-container:hover .sk-estimator-doc-link:hover,\n",
              ".sk-estimator-doc-link:hover {\n",
              "  /* unfitted */\n",
              "  background-color: var(--sklearn-color-unfitted-level-3);\n",
              "  color: var(--sklearn-color-background);\n",
              "  text-decoration: none;\n",
              "}\n",
              "\n",
              "div.sk-estimator.fitted:hover .sk-estimator-doc-link.fitted:hover,\n",
              ".sk-estimator-doc-link.fitted:hover,\n",
              "div.sk-label-container:hover .sk-estimator-doc-link.fitted:hover,\n",
              ".sk-estimator-doc-link.fitted:hover {\n",
              "  /* fitted */\n",
              "  background-color: var(--sklearn-color-fitted-level-3);\n",
              "  color: var(--sklearn-color-background);\n",
              "  text-decoration: none;\n",
              "}\n",
              "\n",
              "/* Span, style for the box shown on hovering the info icon */\n",
              ".sk-estimator-doc-link span {\n",
              "  display: none;\n",
              "  z-index: 9999;\n",
              "  position: relative;\n",
              "  font-weight: normal;\n",
              "  right: .2ex;\n",
              "  padding: .5ex;\n",
              "  margin: .5ex;\n",
              "  width: min-content;\n",
              "  min-width: 20ex;\n",
              "  max-width: 50ex;\n",
              "  color: var(--sklearn-color-text);\n",
              "  box-shadow: 2pt 2pt 4pt #999;\n",
              "  /* unfitted */\n",
              "  background: var(--sklearn-color-unfitted-level-0);\n",
              "  border: .5pt solid var(--sklearn-color-unfitted-level-3);\n",
              "}\n",
              "\n",
              ".sk-estimator-doc-link.fitted span {\n",
              "  /* fitted */\n",
              "  background: var(--sklearn-color-fitted-level-0);\n",
              "  border: var(--sklearn-color-fitted-level-3);\n",
              "}\n",
              "\n",
              ".sk-estimator-doc-link:hover span {\n",
              "  display: block;\n",
              "}\n",
              "\n",
              "/* \"?\"-specific style due to the `<a>` HTML tag */\n",
              "\n",
              "#sk-container-id-1 a.estimator_doc_link {\n",
              "  float: right;\n",
              "  font-size: 1rem;\n",
              "  line-height: 1em;\n",
              "  font-family: monospace;\n",
              "  background-color: var(--sklearn-color-background);\n",
              "  border-radius: 1rem;\n",
              "  height: 1rem;\n",
              "  width: 1rem;\n",
              "  text-decoration: none;\n",
              "  /* unfitted */\n",
              "  color: var(--sklearn-color-unfitted-level-1);\n",
              "  border: var(--sklearn-color-unfitted-level-1) 1pt solid;\n",
              "}\n",
              "\n",
              "#sk-container-id-1 a.estimator_doc_link.fitted {\n",
              "  /* fitted */\n",
              "  border: var(--sklearn-color-fitted-level-1) 1pt solid;\n",
              "  color: var(--sklearn-color-fitted-level-1);\n",
              "}\n",
              "\n",
              "/* On hover */\n",
              "#sk-container-id-1 a.estimator_doc_link:hover {\n",
              "  /* unfitted */\n",
              "  background-color: var(--sklearn-color-unfitted-level-3);\n",
              "  color: var(--sklearn-color-background);\n",
              "  text-decoration: none;\n",
              "}\n",
              "\n",
              "#sk-container-id-1 a.estimator_doc_link.fitted:hover {\n",
              "  /* fitted */\n",
              "  background-color: var(--sklearn-color-fitted-level-3);\n",
              "}\n",
              "</style><div id=\"sk-container-id-1\" class=\"sk-top-container\"><div class=\"sk-text-repr-fallback\"><pre>SVC()</pre><b>In a Jupyter environment, please rerun this cell to show the HTML representation or trust the notebook. <br />On GitHub, the HTML representation is unable to render, please try loading this page with nbviewer.org.</b></div><div class=\"sk-container\" hidden><div class=\"sk-item\"><div class=\"sk-estimator fitted sk-toggleable\"><input class=\"sk-toggleable__control sk-hidden--visually\" id=\"sk-estimator-id-1\" type=\"checkbox\" checked><label for=\"sk-estimator-id-1\" class=\"sk-toggleable__label fitted sk-toggleable__label-arrow\"><div><div>SVC</div></div><div><a class=\"sk-estimator-doc-link fitted\" rel=\"noreferrer\" target=\"_blank\" href=\"https://scikit-learn.org/1.6/modules/generated/sklearn.svm.SVC.html\">?<span>Documentation for SVC</span></a><span class=\"sk-estimator-doc-link fitted\">i<span>Fitted</span></span></div></label><div class=\"sk-toggleable__content fitted\"><pre>SVC()</pre></div> </div></div></div></div>"
            ]
          },
          "metadata": {},
          "execution_count": 28
        }
      ]
    },
    {
      "cell_type": "code",
      "source": [
        "from tensorflow.keras.layers import Conv2D, MaxPooling2D, BatchNormalization, GlobalAveragePooling2D\n",
        "\n",
        "model = Sequential([\n",
        "    Conv2D(32, (3, 3), activation='relu', input_shape=(50, 50, 3)),\n",
        "    BatchNormalization(),\n",
        "    MaxPooling2D(2, 2),\n",
        "\n",
        "    Conv2D(64, (3, 3), activation='relu'),\n",
        "    BatchNormalization(),\n",
        "    MaxPooling2D(2, 2),\n",
        "\n",
        "    Conv2D(128, (3, 3), activation='relu'),\n",
        "    BatchNormalization(),\n",
        "    GlobalAveragePooling2D(),\n",
        "\n",
        "    Dense(128, activation='relu'),\n",
        "    Dropout(0.5),\n",
        "\n",
        "    Dense(3, activation='softmax')  # Три класса\n",
        "])"
      ],
      "metadata": {
        "id": "Qq1wfDzKCUSU"
      },
      "execution_count": null,
      "outputs": []
    },
    {
      "cell_type": "code",
      "source": [
        "import numpy as np\n",
        "import os\n",
        "import matplotlib.pyplot as plt\n",
        "import seaborn as sns\n",
        "from sklearn.svm import SVC\n",
        "from sklearn.metrics import classification_report, confusion_matrix\n",
        "from sklearn.preprocessing import MinMaxScaler\n",
        "from sklearn.model_selection import train_test_split, GridSearchCV\n",
        "from tensorflow.keras.preprocessing.image import load_img, img_to_array\n",
        "\n",
        "# Пути к данным\n",
        "train_dir = \"/content/YOLOA_50/train\"\n",
        "\n",
        "# Параметры\n",
        "img_size = (50, 50)\n",
        "\n",
        "# Чтение изображений и подготовка данных\n",
        "X, y = [], []\n",
        "class_labels = sorted(os.listdir(train_dir))  # Получаем список классов\n",
        "label_dict = {label: i for i, label in enumerate(class_labels)}  # Словарь классов\n",
        "\n",
        "for folder in class_labels:\n",
        "    class_dir = os.path.join(train_dir, folder)\n",
        "    if not os.path.isdir(class_dir):\n",
        "        continue  # Пропускаем не-папки\n",
        "    label = label_dict[folder]  # Получаем числовой класс\n",
        "    for file in os.listdir(class_dir):\n",
        "        img_path = os.path.join(class_dir, file)\n",
        "        img = load_img(img_path, target_size=img_size)  # Изменяем размер\n",
        "        img_array = img_to_array(img) / 255.0  # Нормализация\n",
        "        X.append(img_array.flatten())  # Преобразуем в одномерный массив\n",
        "        y.append(label)\n",
        "\n",
        "# Преобразование в numpy массивы\n",
        "X = np.array(X)\n",
        "y = np.array(y)\n",
        "\n",
        "# Разделение на train/test\n",
        "X_train, X_test, y_train, y_test = train_test_split(X, y, test_size=0.2, random_state=42)\n",
        "\n",
        "# Оптимизация параметров SVM\n",
        "param_grid = {\n",
        "    'C': [0.1, 1, 10],\n",
        "    'gamma': ['scale', 'auto'],\n",
        "    'kernel': ['rbf']\n",
        "}\n",
        "\n",
        "svm = SVC()\n",
        "grid_search = GridSearchCV(svm, param_grid, cv=5, verbose=1, n_jobs=-1)\n",
        "grid_search.fit(X_train, y_train)\n",
        "\n",
        "# Лучшие параметры\n",
        "best_svm = grid_search.best_estimator_\n",
        "print(f\"Best SVM Parameters: {grid_search.best_params_}\")\n",
        "\n",
        "# Оценка модели\n",
        "y_pred = best_svm.predict(X_test)\n",
        "print(classification_report(y_test, y_pred))\n",
        "\n",
        "# Матрица ошибок\n",
        "plt.figure(figsize=(5, 4))\n",
        "sns.heatmap(confusion_matrix(y_test, y_pred), annot=True, fmt='d', cmap='coolwarm')\n",
        "plt.title(\"Confusion Matrix for SVM\")\n",
        "plt.xlabel(\"Predicted Label\")\n",
        "plt.ylabel(\"True Label\")\n",
        "plt.show()\n"
      ],
      "metadata": {
        "colab": {
          "base_uri": "https://localhost:8080/"
        },
        "id": "3mI5htixNBdY",
        "outputId": "a85c4d71-dc9c-483b-f4b0-3b67664f003a"
      },
      "execution_count": null,
      "outputs": [
        {
          "output_type": "stream",
          "name": "stdout",
          "text": [
            "Fitting 5 folds for each of 6 candidates, totalling 30 fits\n",
            "Best SVM Parameters: {'C': 10, 'gamma': 'scale', 'kernel': 'rbf'}\n",
            "              precision    recall  f1-score   support\n",
            "\n",
            "           0       0.60      0.76      0.67       127\n",
            "           1       0.60      0.53      0.57       105\n",
            "           2       0.70      0.57      0.63       128\n",
            "\n",
            "    accuracy                           0.63       360\n",
            "   macro avg       0.63      0.62      0.62       360\n",
            "weighted avg       0.64      0.63      0.62       360\n",
            "\n"
          ]
        },
        {
          "output_type": "display_data",
          "data": {
            "text/plain": [
              "<Figure size 500x400 with 2 Axes>"
            ],
            "image/png": "[encoded data removed]"
          },
          "metadata": {}
        }
      ]
    },
    {
      "cell_type": "code",
      "source": [
        "import os\n",
        "import numpy as np\n",
        "from PIL import Image\n",
        "from sklearn.svm import SVC\n",
        "from sklearn.decomposition import PCA\n",
        "from skimage.feature import hog\n",
        "from sklearn.preprocessing import StandardScaler\n",
        "from sklearn.metrics import accuracy_score\n",
        "import joblib\n",
        "\n",
        "def load_images_from_folder(folder):\n",
        "    X, y = [], []\n",
        "    class_map = {'FRESH': 0, 'HALF': 1, 'SPOILT': 2}\n",
        "    for label in class_map:\n",
        "        class_path = os.path.join(folder, label)\n",
        "        if not os.path.exists(class_path):\n",
        "            continue\n",
        "        for filename in os.listdir(class_path):\n",
        "            img_path = os.path.join(class_path, filename)\n",
        "            img = Image.open(img_path).convert('L').resize((50, 50))  # Преобразуем в градации серого\n",
        "            img_array = np.array(img)\n",
        "            hog_features = hog(img_array, pixels_per_cell=(4, 4), cells_per_block=(2, 2), feature_vector=True, orientations=9)\n",
        "            X.append(hog_features)\n",
        "            y.append(class_map[label])\n",
        "    return np.array(X), np.array(y)\n",
        "\n",
        "# Загружаем данные\n",
        "train_path = '/content/YOLOA_50/train'\n",
        "val_path = '/content/YOLOA_50/val'\n",
        "X_train, y_train = load_images_from_folder(train_path)\n",
        "X_val, y_val = load_images_from_folder(val_path)\n",
        "\n",
        "# Нормализация\n",
        "scaler = StandardScaler()\n",
        "X_train = scaler.fit_transform(X_train)\n",
        "X_val = scaler.transform(X_val)\n",
        "\n",
        "# Снижение размерности через PCA\n",
        "pca = PCA(n_components=50)\n",
        "X_train = pca.fit_transform(X_train)\n",
        "X_val = pca.transform(X_val)\n",
        "\n",
        "# Обучение SVM\n",
        "svm_model = SVC(kernel='rbf', C=3, gamma='scale')\n",
        "svm_model.fit(X_train, y_train)\n",
        "\n",
        "# Оценка модели\n",
        "y_pred = svm_model.predict(X_val)\n",
        "accuracy = accuracy_score(y_val, y_pred)\n",
        "print(f'Validation Accuracy: {accuracy:.4f}')\n",
        "\n",
        "# Сохранение модели\n",
        "joblib.dump(svm_model, 'svm_model.pkl')\n",
        "joblib.dump(scaler, 'scaler.pkl')\n",
        "joblib.dump(pca, 'pca.pkl')"
      ],
      "metadata": {
        "colab": {
          "base_uri": "https://localhost:8080/"
        },
        "id": "1bj83MlfxtNP",
        "outputId": "a8d8e358-b79f-4804-cedc-75e79a38eeb3"
      },
      "execution_count": null,
      "outputs": [
        {
          "output_type": "stream",
          "name": "stdout",
          "text": [
            "Validation Accuracy: 0.6889\n"
          ]
        },
        {
          "output_type": "execute_result",
          "data": {
            "text/plain": [
              "['pca.pkl']"
            ]
          },
          "metadata": {},
          "execution_count": 39
        }
      ]
    },
    {
      "cell_type": "code",
      "source": [
        "import os\n",
        "import numpy as np\n",
        "import seaborn as sns\n",
        "import matplotlib.pyplot as plt\n",
        "from PIL import Image\n",
        "from sklearn.svm import SVC\n",
        "from sklearn.decomposition import PCA\n",
        "from skimage.feature import hog\n",
        "from sklearn.preprocessing import StandardScaler\n",
        "from sklearn.metrics import accuracy_score, confusion_matrix\n",
        "import joblib\n",
        "\n",
        "# Построение матрицы ошибок\n",
        "conf_matrix = confusion_matrix(y_val, y_pred)\n",
        "plt.figure(figsize=(6, 5))\n",
        "sns.heatmap(conf_matrix, annot=True, fmt='d', cmap='Blues', xticklabels=['FRESH', 'HALF', 'SPOILT'], yticklabels=['FRESH', 'HALF', 'SPOILT'])\n",
        "plt.xlabel('Predicted')\n",
        "plt.ylabel('Actual')\n",
        "plt.title('Confusion Matrix')\n",
        "plt.show()"
      ],
      "metadata": {
        "colab": {
          "base_uri": "https://localhost:8080/",
          "height": 487
        },
        "id": "UONYi10S3Uax",
        "outputId": "adf9172c-8f32-4361-a5b4-8a06cd2f99ae"
      },
      "execution_count": null,
      "outputs": [
        {
          "output_type": "display_data",
          "data": {
            "text/plain": [
              "<Figure size 600x500 with 2 Axes>"
            ],
            "image/png": "[encoded data removed]"
          },
          "metadata": {}
        }
      ]
    },
    {
      "cell_type": "code",
      "source": [
        "# CNN\n",
        "import os\n",
        "import numpy as np\n",
        "import matplotlib.pyplot as plt\n",
        "import seaborn as sns\n",
        "import tensorflow as tf\n",
        "from tensorflow.keras.preprocessing.image import ImageDataGenerator\n",
        "from tensorflow.keras.applications import VGG16\n",
        "from tensorflow.keras.layers import Flatten, Dense, Dropout\n",
        "from tensorflow.keras.models import Model\n",
        "\n",
        "# 1. Подготовка данных с использованием ImageDataGenerator\n",
        "img_width, img_height = 50, 50\n",
        "batch_size = 32\n",
        "train_dir = '/content/YOLOC_50/train'\n",
        "val_dir = '/content/YOLOC_50/val'\n",
        "\n",
        "train_datagen = ImageDataGenerator(\n",
        "    rescale=1./255,\n",
        "    rotation_range=20,\n",
        "    width_shift_range=0.1,\n",
        "    height_shift_range=0.1,\n",
        "    shear_range=0.1,\n",
        "    zoom_range=0.1,\n",
        "    horizontal_flip=True,\n",
        "    fill_mode='nearest'\n",
        ")\n",
        "\n",
        "val_datagen = ImageDataGenerator(rescale=1./255)\n",
        "\n",
        "train_generator = train_datagen.flow_from_directory(\n",
        "    train_dir,\n",
        "    target_size=(img_width, img_height),\n",
        "    batch_size=batch_size,\n",
        "    class_mode='categorical'\n",
        ")\n",
        "\n",
        "validation_generator = val_datagen.flow_from_directory(\n",
        "    val_dir,\n",
        "    target_size=(img_width, img_height),\n",
        "    batch_size=batch_size,\n",
        "    class_mode='categorical'\n",
        ")\n",
        "\n",
        "# 2. Создание модели CNN\n",
        "base_model = VGG16(weights='imagenet', include_top=False, input_shape=(img_width, img_height, 3))\n",
        "base_model.trainable = False\n",
        "\n",
        "x = base_model.output\n",
        "x = Flatten()(x)\n",
        "x = Dense(256, activation='relu')(x)\n",
        "x = Dropout(0.5)(x)\n",
        "output = Dense(train_generator.num_classes, activation='softmax')(x)\n",
        "\n",
        "model = Model(inputs=base_model.input, outputs=output)\n",
        "model.compile(optimizer='adam', loss='categorical_crossentropy', metrics=['accuracy'])\n",
        "\n",
        "# Early Stopping\n",
        "callback = tf.keras.callbacks.EarlyStopping(monitor='val_loss', patience=5)\n",
        "\n",
        "history = model.fit(\n",
        "    train_generator,\n",
        "    steps_per_epoch=train_generator.samples // batch_size,\n",
        "    epochs=50,\n",
        "    validation_data=validation_generator,\n",
        "    validation_steps=validation_generator.samples // batch_size,\n",
        ")\n",
        "\n",
        "# 3. Графики обучения\n",
        "plt.figure(figsize=(10, 5))\n",
        "plt.plot(history.history['accuracy'], label='Train Accuracy')\n",
        "plt.plot(history.history['val_accuracy'], label='Val Accuracy')\n",
        "plt.legend()\n",
        "plt.title(\"Accuracy\")\n",
        "plt.show()\n",
        "\n",
        "# 4. Матрица ошибок\n",
        "val_labels = []\n",
        "val_preds = []\n",
        "for i in range(len(validation_generator)):\n",
        "    x_batch, y_batch = validation_generator[i]\n",
        "    preds = model.predict(x_batch)\n",
        "    val_preds.extend(np.argmax(preds, axis=1))\n",
        "    val_labels.extend(np.argmax(y_batch, axis=1))\n",
        "\n",
        "conf_matrix = tf.math.confusion_matrix(val_labels, val_preds).numpy()\n",
        "plt.figure(figsize=(6, 5))\n",
        "sns.heatmap(conf_matrix, annot=True, fmt='d', cmap='coolwarm', xticklabels=train_generator.class_indices.keys(), yticklabels=train_generator.class_indices.keys())\n",
        "plt.xlabel('Predicted')\n",
        "plt.ylabel('Actual')\n",
        "plt.title('Confusion Matrix')\n",
        "plt.show()\n",
        "\n",
        "# 5. Сохранение модели\n",
        "model.save('cnn_model.h5')"
      ],
      "metadata": {
        "colab": {
          "base_uri": "https://localhost:8080/",
          "height": 1000
        },
        "id": "Mw5psEQq_8SR",
        "outputId": "f4f8d65e-427a-4784-cfbc-0bcad5abe847"
      },
      "execution_count": null,
      "outputs": [
        {
          "output_type": "stream",
          "name": "stdout",
          "text": [
            "Found 4500 images belonging to 3 classes.\n",
            "Found 1125 images belonging to 3 classes.\n",
            "Epoch 1/50\n"
          ]
        },
        {
          "output_type": "stream",
          "name": "stderr",
          "text": [
            "/usr/local/lib/python3.11/dist-packages/keras/src/trainers/data_adapters/py_dataset_adapter.py:121: UserWarning: Your `PyDataset` class should call `super().__init__(**kwargs)` in its constructor. `**kwargs` can include `workers`, `use_multiprocessing`, `max_queue_size`. Do not pass these arguments to `fit()`, as they will be ignored.\n",
            "  self._warn_if_super_not_called()\n"
          ]
        },
        {
          "output_type": "stream",
          "name": "stdout",
          "text": [
            "\u001b[1m140/140\u001b[0m \u001b[32m━━━━━━━━━━━━━━━━━━━━\u001b[0m\u001b[37m\u001b[0m \u001b[1m13s\u001b[0m 78ms/step - accuracy: 0.4664 - loss: 1.0704 - val_accuracy: 0.6196 - val_loss: 0.8653\n",
            "Epoch 2/50\n",
            "\u001b[1m  1/140\u001b[0m \u001b[37m━━━━━━━━━━━━━━━━━━━━\u001b[0m \u001b[1m2s\u001b[0m 18ms/step - accuracy: 0.5312 - loss: 0.9518"
          ]
        },
        {
          "output_type": "stream",
          "name": "stderr",
          "text": [
            "/usr/local/lib/python3.11/dist-packages/keras/src/trainers/epoch_iterator.py:107: UserWarning: Your input ran out of data; interrupting training. Make sure that your dataset or generator can generate at least `steps_per_epoch * epochs` batches. You may need to use the `.repeat()` function when building your dataset.\n",
            "  self._interrupted_warning()\n"
          ]
        },
        {
          "output_type": "stream",
          "name": "stdout",
          "text": [
            "\b\b\b\b\b\b\b\b\b\b\b\b\b\b\b\b\b\b\b\b\b\b\b\b\b\b\b\b\b\b\b\b\b\b\b\b\b\b\b\b\b\b\b\b\b\b\b\b\b\b\b\b\b\b\b\b\b\b\b\b\b\b\b\b\b\b\b\b\b\b\b\b\b\b\b\r\u001b[1m140/140\u001b[0m \u001b[32m━━━━━━━━━━━━━━━━━━━━\u001b[0m\u001b[37m\u001b[0m \u001b[1m1s\u001b[0m 4ms/step - accuracy: 0.5312 - loss: 0.9518 - val_accuracy: 0.6232 - val_loss: 0.8641\n",
            "Epoch 3/50\n",
            "\u001b[1m140/140\u001b[0m \u001b[32m━━━━━━━━━━━━━━━━━━━━\u001b[0m\u001b[37m\u001b[0m \u001b[1m21s\u001b[0m 90ms/step - accuracy: 0.6075 - loss: 0.8717 - val_accuracy: 0.6205 - val_loss: 0.8091\n",
            "Epoch 4/50\n",
            "\u001b[1m140/140\u001b[0m \u001b[32m━━━━━━━━━━━━━━━━━━━━\u001b[0m\u001b[37m\u001b[0m \u001b[1m1s\u001b[0m 4ms/step - accuracy: 0.6250 - loss: 0.9039 - val_accuracy: 0.6170 - val_loss: 0.8101\n",
            "Epoch 5/50\n",
            "\u001b[1m140/140\u001b[0m \u001b[32m━━━━━━━━━━━━━━━━━━━━\u001b[0m\u001b[37m\u001b[0m \u001b[1m8s\u001b[0m 54ms/step - accuracy: 0.6435 - loss: 0.8162 - val_accuracy: 0.6286 - val_loss: 0.7883\n",
            "Epoch 6/50\n",
            "\u001b[1m140/140\u001b[0m \u001b[32m━━━━━━━━━━━━━━━━━━━━\u001b[0m\u001b[37m\u001b[0m \u001b[1m1s\u001b[0m 4ms/step - accuracy: 0.6875 - loss: 0.7140 - val_accuracy: 0.6277 - val_loss: 0.7883\n",
            "Epoch 7/50\n",
            "\u001b[1m140/140\u001b[0m \u001b[32m━━━━━━━━━━━━━━━━━━━━\u001b[0m\u001b[37m\u001b[0m \u001b[1m9s\u001b[0m 50ms/step - accuracy: 0.6298 - loss: 0.8105 - val_accuracy: 0.6286 - val_loss: 0.8057\n",
            "Epoch 8/50\n",
            "\u001b[1m140/140\u001b[0m \u001b[32m━━━━━━━━━━━━━━━━━━━━\u001b[0m\u001b[37m\u001b[0m \u001b[1m1s\u001b[0m 5ms/step - accuracy: 0.6250 - loss: 0.7651 - val_accuracy: 0.6295 - val_loss: 0.8055\n",
            "Epoch 9/50\n",
            "\u001b[1m140/140\u001b[0m \u001b[32m━━━━━━━━━━━━━━━━━━━━\u001b[0m\u001b[37m\u001b[0m \u001b[1m10s\u001b[0m 55ms/step - accuracy: 0.6635 - loss: 0.7705 - val_accuracy: 0.6402 - val_loss: 0.7749\n",
            "Epoch 10/50\n",
            "\u001b[1m140/140\u001b[0m \u001b[32m━━━━━━━━━━━━━━━━━━━━\u001b[0m\u001b[37m\u001b[0m \u001b[1m1s\u001b[0m 4ms/step - accuracy: 0.4688 - loss: 0.9019 - val_accuracy: 0.6393 - val_loss: 0.7741\n",
            "Epoch 11/50\n",
            "\u001b[1m140/140\u001b[0m \u001b[32m━━━━━━━━━━━━━━━━━━━━\u001b[0m\u001b[37m\u001b[0m \u001b[1m8s\u001b[0m 56ms/step - accuracy: 0.6579 - loss: 0.7645 - val_accuracy: 0.6696 - val_loss: 0.7248\n",
            "Epoch 12/50\n",
            "\u001b[1m140/140\u001b[0m \u001b[32m━━━━━━━━━━━━━━━━━━━━\u001b[0m\u001b[37m\u001b[0m \u001b[1m1s\u001b[0m 4ms/step - accuracy: 0.5625 - loss: 0.7919 - val_accuracy: 0.6643 - val_loss: 0.7268\n",
            "Epoch 13/50\n",
            "\u001b[1m140/140\u001b[0m \u001b[32m━━━━━━━━━━━━━━━━━━━━\u001b[0m\u001b[37m\u001b[0m \u001b[1m10s\u001b[0m 74ms/step - accuracy: 0.6658 - loss: 0.7460 - val_accuracy: 0.6661 - val_loss: 0.7377\n",
            "Epoch 14/50\n",
            "\u001b[1m140/140\u001b[0m \u001b[32m━━━━━━━━━━━━━━━━━━━━\u001b[0m\u001b[37m\u001b[0m \u001b[1m1s\u001b[0m 4ms/step - accuracy: 0.7500 - loss: 0.7612 - val_accuracy: 0.6661 - val_loss: 0.7375\n",
            "Epoch 15/50\n",
            "\u001b[1m140/140\u001b[0m \u001b[32m━━━━━━━━━━━━━━━━━━━━\u001b[0m\u001b[37m\u001b[0m \u001b[1m21s\u001b[0m 78ms/step - accuracy: 0.6552 - loss: 0.7571 - val_accuracy: 0.6402 - val_loss: 0.7993\n",
            "Epoch 16/50\n",
            "\u001b[1m140/140\u001b[0m \u001b[32m━━━━━━━━━━━━━━━━━━━━\u001b[0m\u001b[37m\u001b[0m \u001b[1m1s\u001b[0m 4ms/step - accuracy: 0.7188 - loss: 0.6996 - val_accuracy: 0.6402 - val_loss: 0.7943\n",
            "Epoch 17/50\n",
            "\u001b[1m140/140\u001b[0m \u001b[32m━━━━━━━━━━━━━━━━━━━━\u001b[0m\u001b[37m\u001b[0m \u001b[1m7s\u001b[0m 49ms/step - accuracy: 0.6606 - loss: 0.7482 - val_accuracy: 0.6545 - val_loss: 0.7489\n",
            "Epoch 18/50\n",
            "\u001b[1m140/140\u001b[0m \u001b[32m━━━━━━━━━━━━━━━━━━━━\u001b[0m\u001b[37m\u001b[0m \u001b[1m1s\u001b[0m 4ms/step - accuracy: 0.8438 - loss: 0.6022 - val_accuracy: 0.6562 - val_loss: 0.7453\n",
            "Epoch 19/50\n",
            "\u001b[1m140/140\u001b[0m \u001b[32m━━━━━━━━━━━━━━━━━━━━\u001b[0m\u001b[37m\u001b[0m \u001b[1m10s\u001b[0m 50ms/step - accuracy: 0.6923 - loss: 0.7062 - val_accuracy: 0.6571 - val_loss: 0.7487\n",
            "Epoch 20/50\n",
            "\u001b[1m140/140\u001b[0m \u001b[32m━━━━━━━━━━━━━━━━━━━━\u001b[0m\u001b[37m\u001b[0m \u001b[1m1s\u001b[0m 4ms/step - accuracy: 0.7500 - loss: 0.5962 - val_accuracy: 0.6589 - val_loss: 0.7687\n",
            "Epoch 21/50\n",
            "\u001b[1m140/140\u001b[0m \u001b[32m━━━━━━━━━━━━━━━━━━━━\u001b[0m\u001b[37m\u001b[0m \u001b[1m8s\u001b[0m 55ms/step - accuracy: 0.6680 - loss: 0.7238 - val_accuracy: 0.6429 - val_loss: 0.7987\n",
            "Epoch 22/50\n",
            "\u001b[1m140/140\u001b[0m \u001b[32m━━━━━━━━━━━━━━━━━━━━\u001b[0m\u001b[37m\u001b[0m \u001b[1m1s\u001b[0m 4ms/step - accuracy: 0.6875 - loss: 0.7696 - val_accuracy: 0.6402 - val_loss: 0.8032\n",
            "Epoch 23/50\n",
            "\u001b[1m140/140\u001b[0m \u001b[32m━━━━━━━━━━━━━━━━━━━━\u001b[0m\u001b[37m\u001b[0m \u001b[1m10s\u001b[0m 60ms/step - accuracy: 0.6806 - loss: 0.7063 - val_accuracy: 0.6705 - val_loss: 0.7155\n",
            "Epoch 24/50\n",
            "\u001b[1m140/140\u001b[0m \u001b[32m━━━━━━━━━━━━━━━━━━━━\u001b[0m\u001b[37m\u001b[0m \u001b[1m1s\u001b[0m 4ms/step - accuracy: 0.5312 - loss: 0.8854 - val_accuracy: 0.6687 - val_loss: 0.7145\n",
            "Epoch 25/50\n",
            "\u001b[1m140/140\u001b[0m \u001b[32m━━━━━━━━━━━━━━━━━━━━\u001b[0m\u001b[37m\u001b[0m \u001b[1m9s\u001b[0m 52ms/step - accuracy: 0.6798 - loss: 0.7227 - val_accuracy: 0.6562 - val_loss: 0.7403\n",
            "Epoch 26/50\n",
            "\u001b[1m140/140\u001b[0m \u001b[32m━━━━━━━━━━━━━━━━━━━━\u001b[0m\u001b[37m\u001b[0m \u001b[1m1s\u001b[0m 5ms/step - accuracy: 0.7188 - loss: 0.6543 - val_accuracy: 0.6571 - val_loss: 0.7420\n",
            "Epoch 27/50\n",
            "\u001b[1m140/140\u001b[0m \u001b[32m━━━━━━━━━━━━━━━━━━━━\u001b[0m\u001b[37m\u001b[0m \u001b[1m9s\u001b[0m 50ms/step - accuracy: 0.6772 - loss: 0.7161 - val_accuracy: 0.6482 - val_loss: 0.7947\n",
            "Epoch 28/50\n",
            "\u001b[1m140/140\u001b[0m \u001b[32m━━━━━━━━━━━━━━━━━━━━\u001b[0m\u001b[37m\u001b[0m \u001b[1m1s\u001b[0m 4ms/step - accuracy: 0.7500 - loss: 0.5773 - val_accuracy: 0.6509 - val_loss: 0.7856\n",
            "Epoch 29/50\n",
            "\u001b[1m140/140\u001b[0m \u001b[32m━━━━━━━━━━━━━━━━━━━━\u001b[0m\u001b[37m\u001b[0m \u001b[1m10s\u001b[0m 74ms/step - accuracy: 0.6858 - loss: 0.7041 - val_accuracy: 0.6643 - val_loss: 0.7339\n",
            "Epoch 30/50\n",
            "\u001b[1m140/140\u001b[0m \u001b[32m━━━━━━━━━━━━━━━━━━━━\u001b[0m\u001b[37m\u001b[0m \u001b[1m1s\u001b[0m 4ms/step - accuracy: 0.4375 - loss: 0.9637 - val_accuracy: 0.6634 - val_loss: 0.7400\n",
            "Epoch 31/50\n",
            "\u001b[1m140/140\u001b[0m \u001b[32m━━━━━━━━━━━━━━━━━━━━\u001b[0m\u001b[37m\u001b[0m \u001b[1m10s\u001b[0m 74ms/step - accuracy: 0.6942 - loss: 0.6997 - val_accuracy: 0.6580 - val_loss: 0.7707\n",
            "Epoch 32/50\n",
            "\u001b[1m140/140\u001b[0m \u001b[32m━━━━━━━━━━━━━━━━━━━━\u001b[0m\u001b[37m\u001b[0m \u001b[1m1s\u001b[0m 4ms/step - accuracy: 0.5938 - loss: 0.7391 - val_accuracy: 0.6562 - val_loss: 0.7746\n",
            "Epoch 33/50\n",
            "\u001b[1m140/140\u001b[0m \u001b[32m━━━━━━━━━━━━━━━━━━━━\u001b[0m\u001b[37m\u001b[0m \u001b[1m17s\u001b[0m 55ms/step - accuracy: 0.6828 - loss: 0.7029 - val_accuracy: 0.6643 - val_loss: 0.7821\n",
            "Epoch 34/50\n",
            "\u001b[1m140/140\u001b[0m \u001b[32m━━━━━━━━━━━━━━━━━━━━\u001b[0m\u001b[37m\u001b[0m \u001b[1m1s\u001b[0m 8ms/step - accuracy: 0.6875 - loss: 0.7700 - val_accuracy: 0.6661 - val_loss: 0.7761\n",
            "Epoch 35/50\n",
            "\u001b[1m140/140\u001b[0m \u001b[32m━━━━━━━━━━━━━━━━━━━━\u001b[0m\u001b[37m\u001b[0m \u001b[1m8s\u001b[0m 49ms/step - accuracy: 0.6860 - loss: 0.7201 - val_accuracy: 0.6580 - val_loss: 0.7997\n",
            "Epoch 36/50\n",
            "\u001b[1m140/140\u001b[0m \u001b[32m━━━━━━━━━━━━━━━━━━━━\u001b[0m\u001b[37m\u001b[0m \u001b[1m1s\u001b[0m 4ms/step - accuracy: 0.6875 - loss: 0.7608 - val_accuracy: 0.6625 - val_loss: 0.7883\n",
            "Epoch 37/50\n",
            "\u001b[1m140/140\u001b[0m \u001b[32m━━━━━━━━━━━━━━━━━━━━\u001b[0m\u001b[37m\u001b[0m \u001b[1m10s\u001b[0m 50ms/step - accuracy: 0.6831 - loss: 0.6923 - val_accuracy: 0.6705 - val_loss: 0.8073\n",
            "Epoch 38/50\n",
            "\u001b[1m140/140\u001b[0m \u001b[32m━━━━━━━━━━━━━━━━━━━━\u001b[0m\u001b[37m\u001b[0m \u001b[1m1s\u001b[0m 4ms/step - accuracy: 0.6562 - loss: 0.7527 - val_accuracy: 0.6741 - val_loss: 0.8008\n",
            "Epoch 39/50\n",
            "\u001b[1m140/140\u001b[0m \u001b[32m━━━━━━━━━━━━━━━━━━━━\u001b[0m\u001b[37m\u001b[0m \u001b[1m10s\u001b[0m 55ms/step - accuracy: 0.6996 - loss: 0.6844 - val_accuracy: 0.6598 - val_loss: 0.7493\n",
            "Epoch 40/50\n",
            "\u001b[1m140/140\u001b[0m \u001b[32m━━━━━━━━━━━━━━━━━━━━\u001b[0m\u001b[37m\u001b[0m \u001b[1m1s\u001b[0m 4ms/step - accuracy: 0.8125 - loss: 0.4810 - val_accuracy: 0.6598 - val_loss: 0.7523\n",
            "Epoch 41/50\n",
            "\u001b[1m140/140\u001b[0m \u001b[32m━━━━━━━━━━━━━━━━━━━━\u001b[0m\u001b[37m\u001b[0m \u001b[1m10s\u001b[0m 74ms/step - accuracy: 0.7010 - loss: 0.6636 - val_accuracy: 0.6768 - val_loss: 0.7547\n",
            "Epoch 42/50\n",
            "\u001b[1m140/140\u001b[0m \u001b[32m━━━━━━━━━━━━━━━━━━━━\u001b[0m\u001b[37m\u001b[0m \u001b[1m1s\u001b[0m 4ms/step - accuracy: 0.5938 - loss: 0.8547 - val_accuracy: 0.6804 - val_loss: 0.7543\n",
            "Epoch 43/50\n",
            "\u001b[1m140/140\u001b[0m \u001b[32m━━━━━━━━━━━━━━━━━━━━\u001b[0m\u001b[37m\u001b[0m \u001b[1m10s\u001b[0m 74ms/step - accuracy: 0.6945 - loss: 0.6746 - val_accuracy: 0.6723 - val_loss: 0.7851\n",
            "Epoch 44/50\n",
            "\u001b[1m140/140\u001b[0m \u001b[32m━━━━━━━━━━━━━━━━━━━━\u001b[0m\u001b[37m\u001b[0m \u001b[1m1s\u001b[0m 4ms/step - accuracy: 0.7500 - loss: 0.5652 - val_accuracy: 0.6705 - val_loss: 0.7901\n",
            "Epoch 45/50\n",
            "\u001b[1m140/140\u001b[0m \u001b[32m━━━━━━━━━━━━━━━━━━━━\u001b[0m\u001b[37m\u001b[0m \u001b[1m17s\u001b[0m 51ms/step - accuracy: 0.7024 - loss: 0.6733 - val_accuracy: 0.6732 - val_loss: 0.7428\n",
            "Epoch 46/50\n",
            "\u001b[1m140/140\u001b[0m \u001b[32m━━━━━━━━━━━━━━━━━━━━\u001b[0m\u001b[37m\u001b[0m \u001b[1m1s\u001b[0m 9ms/step - accuracy: 0.8125 - loss: 0.6242 - val_accuracy: 0.6723 - val_loss: 0.7409\n",
            "Epoch 47/50\n",
            "\u001b[1m140/140\u001b[0m \u001b[32m━━━━━━━━━━━━━━━━━━━━\u001b[0m\u001b[37m\u001b[0m \u001b[1m10s\u001b[0m 60ms/step - accuracy: 0.6889 - loss: 0.6861 - val_accuracy: 0.6786 - val_loss: 0.7837\n",
            "Epoch 48/50\n",
            "\u001b[1m140/140\u001b[0m \u001b[32m━━━━━━━━━━━━━━━━━━━━\u001b[0m\u001b[37m\u001b[0m \u001b[1m1s\u001b[0m 9ms/step - accuracy: 0.6562 - loss: 0.7140 - val_accuracy: 0.6741 - val_loss: 0.7663\n",
            "Epoch 49/50\n",
            "\u001b[1m140/140\u001b[0m \u001b[32m━━━━━━━━━━━━━━━━━━━━\u001b[0m\u001b[37m\u001b[0m \u001b[1m7s\u001b[0m 51ms/step - accuracy: 0.6762 - loss: 0.6910 - val_accuracy: 0.6911 - val_loss: 0.7380\n",
            "Epoch 50/50\n",
            "\u001b[1m140/140\u001b[0m \u001b[32m━━━━━━━━━━━━━━━━━━━━\u001b[0m\u001b[37m\u001b[0m \u001b[1m1s\u001b[0m 4ms/step - accuracy: 0.5312 - loss: 0.8697 - val_accuracy: 0.6839 - val_loss: 0.7407\n"
          ]
        },
        {
          "output_type": "display_data",
          "data": {
            "text/plain": [
              "<Figure size 1000x500 with 1 Axes>"
            ],
            "image/png": "[encoded data removed]"
          },
          "metadata": {}
        },
        {
          "output_type": "stream",
          "name": "stdout",
          "text": [
            "\u001b[1m1/1\u001b[0m \u001b[32m━━━━━━━━━━━━━━━━━━━━\u001b[0m\u001b[37m\u001b[0m \u001b[1m0s\u001b[0m 473ms/step\n",
            "\u001b[1m1/1\u001b[0m \u001b[32m━━━━━━━━━━━━━━━━━━━━\u001b[0m\u001b[37m\u001b[0m \u001b[1m0s\u001b[0m 39ms/step\n",
            "\u001b[1m1/1\u001b[0m \u001b[32m━━━━━━━━━━━━━━━━━━━━\u001b[0m\u001b[37m\u001b[0m \u001b[1m0s\u001b[0m 38ms/step\n",
            "\u001b[1m1/1\u001b[0m \u001b[32m━━━━━━━━━━━━━━━━━━━━\u001b[0m\u001b[37m\u001b[0m \u001b[1m0s\u001b[0m 37ms/step\n",
            "\u001b[1m1/1\u001b[0m \u001b[32m━━━━━━━━━━━━━━━━━━━━\u001b[0m\u001b[37m\u001b[0m \u001b[1m0s\u001b[0m 38ms/step\n",
            "\u001b[1m1/1\u001b[0m \u001b[32m━━━━━━━━━━━━━━━━━━━━\u001b[0m\u001b[37m\u001b[0m \u001b[1m0s\u001b[0m 38ms/step\n",
            "\u001b[1m1/1\u001b[0m \u001b[32m━━━━━━━━━━━━━━━━━━━━\u001b[0m\u001b[37m\u001b[0m \u001b[1m0s\u001b[0m 38ms/step\n",
            "\u001b[1m1/1\u001b[0m \u001b[32m━━━━━━━━━━━━━━━━━━━━\u001b[0m\u001b[37m\u001b[0m \u001b[1m0s\u001b[0m 39ms/step\n",
            "\u001b[1m1/1\u001b[0m \u001b[32m━━━━━━━━━━━━━━━━━━━━\u001b[0m\u001b[37m\u001b[0m \u001b[1m0s\u001b[0m 50ms/step\n",
            "\u001b[1m1/1\u001b[0m \u001b[32m━━━━━━━━━━━━━━━━━━━━\u001b[0m\u001b[37m\u001b[0m \u001b[1m0s\u001b[0m 50ms/step\n",
            "\u001b[1m1/1\u001b[0m \u001b[32m━━━━━━━━━━━━━━━━━━━━\u001b[0m\u001b[37m\u001b[0m \u001b[1m0s\u001b[0m 50ms/step\n",
            "\u001b[1m1/1\u001b[0m \u001b[32m━━━━━━━━━━━━━━━━━━━━\u001b[0m\u001b[37m\u001b[0m \u001b[1m0s\u001b[0m 51ms/step\n",
            "\u001b[1m1/1\u001b[0m \u001b[32m━━━━━━━━━━━━━━━━━━━━\u001b[0m\u001b[37m\u001b[0m \u001b[1m0s\u001b[0m 50ms/step\n",
            "\u001b[1m1/1\u001b[0m \u001b[32m━━━━━━━━━━━━━━━━━━━━\u001b[0m\u001b[37m\u001b[0m \u001b[1m0s\u001b[0m 51ms/step\n",
            "\u001b[1m1/1\u001b[0m \u001b[32m━━━━━━━━━━━━━━━━━━━━\u001b[0m\u001b[37m\u001b[0m \u001b[1m0s\u001b[0m 50ms/step\n",
            "\u001b[1m1/1\u001b[0m \u001b[32m━━━━━━━━━━━━━━━━━━━━\u001b[0m\u001b[37m\u001b[0m \u001b[1m0s\u001b[0m 55ms/step\n",
            "\u001b[1m1/1\u001b[0m \u001b[32m━━━━━━━━━━━━━━━━━━━━\u001b[0m\u001b[37m\u001b[0m \u001b[1m0s\u001b[0m 61ms/step\n",
            "\u001b[1m1/1\u001b[0m \u001b[32m━━━━━━━━━━━━━━━━━━━━\u001b[0m\u001b[37m\u001b[0m \u001b[1m0s\u001b[0m 70ms/step\n",
            "\u001b[1m1/1\u001b[0m \u001b[32m━━━━━━━━━━━━━━━━━━━━\u001b[0m\u001b[37m\u001b[0m \u001b[1m0s\u001b[0m 72ms/step\n",
            "\u001b[1m1/1\u001b[0m \u001b[32m━━━━━━━━━━━━━━━━━━━━\u001b[0m\u001b[37m\u001b[0m \u001b[1m0s\u001b[0m 67ms/step\n",
            "\u001b[1m1/1\u001b[0m \u001b[32m━━━━━━━━━━━━━━━━━━━━\u001b[0m\u001b[37m\u001b[0m \u001b[1m0s\u001b[0m 63ms/step\n",
            "\u001b[1m1/1\u001b[0m \u001b[32m━━━━━━━━━━━━━━━━━━━━\u001b[0m\u001b[37m\u001b[0m \u001b[1m0s\u001b[0m 66ms/step\n",
            "\u001b[1m1/1\u001b[0m \u001b[32m━━━━━━━━━━━━━━━━━━━━\u001b[0m\u001b[37m\u001b[0m \u001b[1m0s\u001b[0m 62ms/step\n",
            "\u001b[1m1/1\u001b[0m \u001b[32m━━━━━━━━━━━━━━━━━━━━\u001b[0m\u001b[37m\u001b[0m \u001b[1m0s\u001b[0m 64ms/step\n",
            "\u001b[1m1/1\u001b[0m \u001b[32m━━━━━━━━━━━━━━━━━━━━\u001b[0m\u001b[37m\u001b[0m \u001b[1m0s\u001b[0m 63ms/step\n",
            "\u001b[1m1/1\u001b[0m \u001b[32m━━━━━━━━━━━━━━━━━━━━\u001b[0m\u001b[37m\u001b[0m \u001b[1m0s\u001b[0m 60ms/step\n",
            "\u001b[1m1/1\u001b[0m \u001b[32m━━━━━━━━━━━━━━━━━━━━\u001b[0m\u001b[37m\u001b[0m \u001b[1m0s\u001b[0m 67ms/step\n",
            "\u001b[1m1/1\u001b[0m \u001b[32m━━━━━━━━━━━━━━━━━━━━\u001b[0m\u001b[37m\u001b[0m \u001b[1m0s\u001b[0m 62ms/step\n",
            "\u001b[1m1/1\u001b[0m \u001b[32m━━━━━━━━━━━━━━━━━━━━\u001b[0m\u001b[37m\u001b[0m \u001b[1m0s\u001b[0m 66ms/step\n",
            "\u001b[1m1/1\u001b[0m \u001b[32m━━━━━━━━━━━━━━━━━━━━\u001b[0m\u001b[37m\u001b[0m \u001b[1m0s\u001b[0m 70ms/step\n",
            "\u001b[1m1/1\u001b[0m \u001b[32m━━━━━━━━━━━━━━━━━━━━\u001b[0m\u001b[37m\u001b[0m \u001b[1m0s\u001b[0m 76ms/step\n",
            "\u001b[1m1/1\u001b[0m \u001b[32m━━━━━━━━━━━━━━━━━━━━\u001b[0m\u001b[37m\u001b[0m \u001b[1m0s\u001b[0m 78ms/step\n",
            "\u001b[1m1/1\u001b[0m \u001b[32m━━━━━━━━━━━━━━━━━━━━\u001b[0m\u001b[37m\u001b[0m \u001b[1m0s\u001b[0m 72ms/step\n",
            "\u001b[1m1/1\u001b[0m \u001b[32m━━━━━━━━━━━━━━━━━━━━\u001b[0m\u001b[37m\u001b[0m \u001b[1m0s\u001b[0m 75ms/step\n",
            "\u001b[1m1/1\u001b[0m \u001b[32m━━━━━━━━━━━━━━━━━━━━\u001b[0m\u001b[37m\u001b[0m \u001b[1m0s\u001b[0m 61ms/step\n",
            "\u001b[1m1/1\u001b[0m \u001b[32m━━━━━━━━━━━━━━━━━━━━\u001b[0m\u001b[37m\u001b[0m \u001b[1m1s\u001b[0m 1s/step\n"
          ]
        },
        {
          "output_type": "display_data",
          "data": {
            "text/plain": [
              "<Figure size 600x500 with 2 Axes>"
            ],
            "image/png": "[encoded data removed]"
          },
          "metadata": {}
        },
        {
          "output_type": "stream",
          "name": "stderr",
          "text": [
            "WARNING:absl:You are saving your model as an HDF5 file via `model.save()` or `keras.saving.save_model(model)`. This file format is considered legacy. We recommend using instead the native Keras format, e.g. `model.save('my_model.keras')` or `keras.saving.save_model(model, 'my_model.keras')`. \n"
          ]
        }
      ]
    }
  ]
}