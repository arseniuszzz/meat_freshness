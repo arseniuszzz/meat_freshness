{
  "nbformat": 4,
  "nbformat_minor": 0,
  "metadata": {
    "colab": {
      "provenance": [],
      "gpuType": "T4"
    },
    "kernelspec": {
      "name": "python3",
      "display_name": "Python 3"
    },
    "language_info": {
      "name": "python"
    },
    "accelerator": "GPU"
  },
  "cells": [
    {
      "cell_type": "code",
      "execution_count": null,
      "metadata": {
        "colab": {
          "base_uri": "https://localhost:8080/"
        },
        "id": "vgSvljMQ9Ta2",
        "outputId": "98829276-5667-4488-ea16-d2abb1276c5d"
      },
      "outputs": [
        {
          "output_type": "stream",
          "name": "stdout",
          "text": [
            "Collecting ultralytics\n",
            "  Downloading ultralytics-8.3.67-py3-none-any.whl.metadata (35 kB)\n",
            "Requirement already satisfied: numpy>=1.23.0 in /usr/local/lib/python3.11/dist-packages (from ultralytics) (1.26.4)\n",
            "Requirement already satisfied: matplotlib>=3.3.0 in /usr/local/lib/python3.11/dist-packages (from ultralytics) (3.10.0)\n",
            "Requirement already satisfied: opencv-python>=4.6.0 in /usr/local/lib/python3.11/dist-packages (from ultralytics) (4.10.0.84)\n",
            "Requirement already satisfied: pillow>=7.1.2 in /usr/local/lib/python3.11/dist-packages (from ultralytics) (11.1.0)\n",
            "Requirement already satisfied: pyyaml>=5.3.1 in /usr/local/lib/python3.11/dist-packages (from ultralytics) (6.0.2)\n",
            "Requirement already satisfied: requests>=2.23.0 in /usr/local/lib/python3.11/dist-packages (from ultralytics) (2.32.3)\n",
            "Requirement already satisfied: scipy>=1.4.1 in /usr/local/lib/python3.11/dist-packages (from ultralytics) (1.13.1)\n",
            "Requirement already satisfied: torch>=1.8.0 in /usr/local/lib/python3.11/dist-packages (from ultralytics) (2.5.1+cu121)\n",
            "Requirement already satisfied: torchvision>=0.9.0 in /usr/local/lib/python3.11/dist-packages (from ultralytics) (0.20.1+cu121)\n",
            "Requirement already satisfied: tqdm>=4.64.0 in /usr/local/lib/python3.11/dist-packages (from ultralytics) (4.67.1)\n",
            "Requirement already satisfied: psutil in /usr/local/lib/python3.11/dist-packages (from ultralytics) (5.9.5)\n",
            "Requirement already satisfied: py-cpuinfo in /usr/local/lib/python3.11/dist-packages (from ultralytics) (9.0.0)\n",
            "Requirement already satisfied: pandas>=1.1.4 in /usr/local/lib/python3.11/dist-packages (from ultralytics) (2.2.2)\n",
            "Requirement already satisfied: seaborn>=0.11.0 in /usr/local/lib/python3.11/dist-packages (from ultralytics) (0.13.2)\n",
            "Collecting ultralytics-thop>=2.0.0 (from ultralytics)\n",
            "  Downloading ultralytics_thop-2.0.14-py3-none-any.whl.metadata (9.4 kB)\n",
            "Requirement already satisfied: contourpy>=1.0.1 in /usr/local/lib/python3.11/dist-packages (from matplotlib>=3.3.0->ultralytics) (1.3.1)\n",
            "Requirement already satisfied: cycler>=0.10 in /usr/local/lib/python3.11/dist-packages (from matplotlib>=3.3.0->ultralytics) (0.12.1)\n",
            "Requirement already satisfied: fonttools>=4.22.0 in /usr/local/lib/python3.11/dist-packages (from matplotlib>=3.3.0->ultralytics) (4.55.4)\n",
            "Requirement already satisfied: kiwisolver>=1.3.1 in /usr/local/lib/python3.11/dist-packages (from matplotlib>=3.3.0->ultralytics) (1.4.8)\n",
            "Requirement already satisfied: packaging>=20.0 in /usr/local/lib/python3.11/dist-packages (from matplotlib>=3.3.0->ultralytics) (24.2)\n",
            "Requirement already satisfied: pyparsing>=2.3.1 in /usr/local/lib/python3.11/dist-packages (from matplotlib>=3.3.0->ultralytics) (3.2.1)\n",
            "Requirement already satisfied: python-dateutil>=2.7 in /usr/local/lib/python3.11/dist-packages (from matplotlib>=3.3.0->ultralytics) (2.8.2)\n",
            "Requirement already satisfied: pytz>=2020.1 in /usr/local/lib/python3.11/dist-packages (from pandas>=1.1.4->ultralytics) (2024.2)\n",
            "Requirement already satisfied: tzdata>=2022.7 in /usr/local/lib/python3.11/dist-packages (from pandas>=1.1.4->ultralytics) (2025.1)\n",
            "Requirement already satisfied: charset-normalizer<4,>=2 in /usr/local/lib/python3.11/dist-packages (from requests>=2.23.0->ultralytics) (3.4.1)\n",
            "Requirement already satisfied: idna<4,>=2.5 in /usr/local/lib/python3.11/dist-packages (from requests>=2.23.0->ultralytics) (3.10)\n",
            "Requirement already satisfied: urllib3<3,>=1.21.1 in /usr/local/lib/python3.11/dist-packages (from requests>=2.23.0->ultralytics) (2.3.0)\n",
            "Requirement already satisfied: certifi>=2017.4.17 in /usr/local/lib/python3.11/dist-packages (from requests>=2.23.0->ultralytics) (2024.12.14)\n",
            "Requirement already satisfied: filelock in /usr/local/lib/python3.11/dist-packages (from torch>=1.8.0->ultralytics) (3.17.0)\n",
            "Requirement already satisfied: typing-extensions>=4.8.0 in /usr/local/lib/python3.11/dist-packages (from torch>=1.8.0->ultralytics) (4.12.2)\n",
            "Requirement already satisfied: networkx in /usr/local/lib/python3.11/dist-packages (from torch>=1.8.0->ultralytics) (3.4.2)\n",
            "Requirement already satisfied: jinja2 in /usr/local/lib/python3.11/dist-packages (from torch>=1.8.0->ultralytics) (3.1.5)\n",
            "Requirement already satisfied: fsspec in /usr/local/lib/python3.11/dist-packages (from torch>=1.8.0->ultralytics) (2024.10.0)\n",
            "Requirement already satisfied: nvidia-cuda-nvrtc-cu12==12.1.105 in /usr/local/lib/python3.11/dist-packages (from torch>=1.8.0->ultralytics) (12.1.105)\n",
            "Requirement already satisfied: nvidia-cuda-runtime-cu12==12.1.105 in /usr/local/lib/python3.11/dist-packages (from torch>=1.8.0->ultralytics) (12.1.105)\n",
            "Requirement already satisfied: nvidia-cuda-cupti-cu12==12.1.105 in /usr/local/lib/python3.11/dist-packages (from torch>=1.8.0->ultralytics) (12.1.105)\n",
            "Requirement already satisfied: nvidia-cudnn-cu12==9.1.0.70 in /usr/local/lib/python3.11/dist-packages (from torch>=1.8.0->ultralytics) (9.1.0.70)\n",
            "Requirement already satisfied: nvidia-cublas-cu12==12.1.3.1 in /usr/local/lib/python3.11/dist-packages (from torch>=1.8.0->ultralytics) (12.1.3.1)\n",
            "Requirement already satisfied: nvidia-cufft-cu12==11.0.2.54 in /usr/local/lib/python3.11/dist-packages (from torch>=1.8.0->ultralytics) (11.0.2.54)\n",
            "Requirement already satisfied: nvidia-curand-cu12==10.3.2.106 in /usr/local/lib/python3.11/dist-packages (from torch>=1.8.0->ultralytics) (10.3.2.106)\n",
            "Requirement already satisfied: nvidia-cusolver-cu12==11.4.5.107 in /usr/local/lib/python3.11/dist-packages (from torch>=1.8.0->ultralytics) (11.4.5.107)\n",
            "Requirement already satisfied: nvidia-cusparse-cu12==12.1.0.106 in /usr/local/lib/python3.11/dist-packages (from torch>=1.8.0->ultralytics) (12.1.0.106)\n",
            "Requirement already satisfied: nvidia-nccl-cu12==2.21.5 in /usr/local/lib/python3.11/dist-packages (from torch>=1.8.0->ultralytics) (2.21.5)\n",
            "Requirement already satisfied: nvidia-nvtx-cu12==12.1.105 in /usr/local/lib/python3.11/dist-packages (from torch>=1.8.0->ultralytics) (12.1.105)\n",
            "Requirement already satisfied: triton==3.1.0 in /usr/local/lib/python3.11/dist-packages (from torch>=1.8.0->ultralytics) (3.1.0)\n",
            "Requirement already satisfied: sympy==1.13.1 in /usr/local/lib/python3.11/dist-packages (from torch>=1.8.0->ultralytics) (1.13.1)\n",
            "Requirement already satisfied: nvidia-nvjitlink-cu12 in /usr/local/lib/python3.11/dist-packages (from nvidia-cusolver-cu12==11.4.5.107->torch>=1.8.0->ultralytics) (12.6.85)\n",
            "Requirement already satisfied: mpmath<1.4,>=1.1.0 in /usr/local/lib/python3.11/dist-packages (from sympy==1.13.1->torch>=1.8.0->ultralytics) (1.3.0)\n",
            "Requirement already satisfied: six>=1.5 in /usr/local/lib/python3.11/dist-packages (from python-dateutil>=2.7->matplotlib>=3.3.0->ultralytics) (1.17.0)\n",
            "Requirement already satisfied: MarkupSafe>=2.0 in /usr/local/lib/python3.11/dist-packages (from jinja2->torch>=1.8.0->ultralytics) (3.0.2)\n",
            "Downloading ultralytics-8.3.67-py3-none-any.whl (913 kB)\n",
            "\u001b[2K   \u001b[90m━━━━━━━━━━━━━━━━━━━━━━━━━━━━━━━━━━━━━━━━\u001b[0m \u001b[32m913.5/913.5 kB\u001b[0m \u001b[31m21.4 MB/s\u001b[0m eta \u001b[36m0:00:00\u001b[0m\n",
            "\u001b[?25hDownloading ultralytics_thop-2.0.14-py3-none-any.whl (26 kB)\n",
            "Installing collected packages: ultralytics-thop, ultralytics\n",
            "Successfully installed ultralytics-8.3.67 ultralytics-thop-2.0.14\n"
          ]
        }
      ],
      "source": [
        "!pip install ultralytics"
      ]
    },
    {
      "cell_type": "code",
      "source": [
        "!pip install scikit-learn"
      ],
      "metadata": {
        "colab": {
          "base_uri": "https://localhost:8080/"
        },
        "id": "ExTYVNrx9tKk",
        "outputId": "a32dfacb-edcd-4b08-c4c0-b5263e8566b4"
      },
      "execution_count": null,
      "outputs": [
        {
          "output_type": "stream",
          "name": "stdout",
          "text": [
            "Requirement already satisfied: scikit-learn in /usr/local/lib/python3.11/dist-packages (1.6.1)\n",
            "Requirement already satisfied: numpy>=1.19.5 in /usr/local/lib/python3.11/dist-packages (from scikit-learn) (1.26.4)\n",
            "Requirement already satisfied: scipy>=1.6.0 in /usr/local/lib/python3.11/dist-packages (from scikit-learn) (1.13.1)\n",
            "Requirement already satisfied: joblib>=1.2.0 in /usr/local/lib/python3.11/dist-packages (from scikit-learn) (1.4.2)\n",
            "Requirement already satisfied: threadpoolctl>=3.1.0 in /usr/local/lib/python3.11/dist-packages (from scikit-learn) (3.5.0)\n"
          ]
        }
      ]
    },
    {
      "cell_type": "code",
      "source": [
        "!pip install torch torchvision torchaudio --index-url https://download.pytorch.org/whl/cu118 --verbose"
      ],
      "metadata": {
        "colab": {
          "base_uri": "https://localhost:8080/"
        },
        "collapsed": true,
        "id": "onQ97H009w2n",
        "outputId": "e6b326b9-b0a8-4bad-dc22-25a48636a60b"
      },
      "execution_count": null,
      "outputs": [
        {
          "output_type": "stream",
          "name": "stdout",
          "text": [
            "Using pip 24.1.2 from /usr/local/lib/python3.11/dist-packages/pip (python 3.11)\n",
            "Looking in indexes: https://download.pytorch.org/whl/cu118\n",
            "Requirement already satisfied: torch in /usr/local/lib/python3.11/dist-packages (2.5.1+cu121)\n",
            "Requirement already satisfied: torchvision in /usr/local/lib/python3.11/dist-packages (0.20.1+cu121)\n",
            "Requirement already satisfied: torchaudio in /usr/local/lib/python3.11/dist-packages (2.5.1+cu121)\n",
            "Requirement already satisfied: filelock in /usr/local/lib/python3.11/dist-packages (from torch) (3.17.0)\n",
            "Requirement already satisfied: typing-extensions>=4.8.0 in /usr/local/lib/python3.11/dist-packages (from torch) (4.12.2)\n",
            "Requirement already satisfied: networkx in /usr/local/lib/python3.11/dist-packages (from torch) (3.4.2)\n",
            "Requirement already satisfied: jinja2 in /usr/local/lib/python3.11/dist-packages (from torch) (3.1.5)\n",
            "Requirement already satisfied: fsspec in /usr/local/lib/python3.11/dist-packages (from torch) (2024.10.0)\n",
            "Requirement already satisfied: nvidia-cuda-nvrtc-cu12==12.1.105 in /usr/local/lib/python3.11/dist-packages (from torch) (12.1.105)\n",
            "Requirement already satisfied: nvidia-cuda-runtime-cu12==12.1.105 in /usr/local/lib/python3.11/dist-packages (from torch) (12.1.105)\n",
            "Requirement already satisfied: nvidia-cuda-cupti-cu12==12.1.105 in /usr/local/lib/python3.11/dist-packages (from torch) (12.1.105)\n",
            "Requirement already satisfied: nvidia-cudnn-cu12==9.1.0.70 in /usr/local/lib/python3.11/dist-packages (from torch) (9.1.0.70)\n",
            "Requirement already satisfied: nvidia-cublas-cu12==12.1.3.1 in /usr/local/lib/python3.11/dist-packages (from torch) (12.1.3.1)\n",
            "Requirement already satisfied: nvidia-cufft-cu12==11.0.2.54 in /usr/local/lib/python3.11/dist-packages (from torch) (11.0.2.54)\n",
            "Requirement already satisfied: nvidia-curand-cu12==10.3.2.106 in /usr/local/lib/python3.11/dist-packages (from torch) (10.3.2.106)\n",
            "Requirement already satisfied: nvidia-cusolver-cu12==11.4.5.107 in /usr/local/lib/python3.11/dist-packages (from torch) (11.4.5.107)\n",
            "Requirement already satisfied: nvidia-cusparse-cu12==12.1.0.106 in /usr/local/lib/python3.11/dist-packages (from torch) (12.1.0.106)\n",
            "Requirement already satisfied: nvidia-nccl-cu12==2.21.5 in /usr/local/lib/python3.11/dist-packages (from torch) (2.21.5)\n",
            "Requirement already satisfied: nvidia-nvtx-cu12==12.1.105 in /usr/local/lib/python3.11/dist-packages (from torch) (12.1.105)\n",
            "Requirement already satisfied: triton==3.1.0 in /usr/local/lib/python3.11/dist-packages (from torch) (3.1.0)\n",
            "Requirement already satisfied: sympy==1.13.1 in /usr/local/lib/python3.11/dist-packages (from torch) (1.13.1)\n",
            "Requirement already satisfied: nvidia-nvjitlink-cu12 in /usr/local/lib/python3.11/dist-packages (from nvidia-cusolver-cu12==11.4.5.107->torch) (12.6.85)\n",
            "Requirement already satisfied: mpmath<1.4,>=1.1.0 in /usr/local/lib/python3.11/dist-packages (from sympy==1.13.1->torch) (1.3.0)\n",
            "Requirement already satisfied: numpy in /usr/local/lib/python3.11/dist-packages (from torchvision) (1.26.4)\n",
            "Requirement already satisfied: pillow!=8.3.*,>=5.3.0 in /usr/local/lib/python3.11/dist-packages (from torchvision) (11.1.0)\n",
            "Requirement already satisfied: MarkupSafe>=2.0 in /usr/local/lib/python3.11/dist-packages (from jinja2->torch) (3.0.2)\n"
          ]
        }
      ]
    },
    {
      "cell_type": "code",
      "source": [
        "import torch\n",
        "print(\"CUDA доступен:\", torch.cuda.is_available())\n",
        "print(\"Количество GPU:\", torch.cuda.device_count())\n",
        "print(\"Название GPU:\", torch.cuda.get_device_name(0) if torch.cuda.is_available() else \"GPU не найдена\")"
      ],
      "metadata": {
        "colab": {
          "base_uri": "https://localhost:8080/"
        },
        "id": "2z3S2F8z90WK",
        "outputId": "a063a5be-4eb9-4577-cf3c-e557a6a34ddb"
      },
      "execution_count": null,
      "outputs": [
        {
          "output_type": "stream",
          "name": "stdout",
          "text": [
            "CUDA доступен: True\n",
            "Количество GPU: 1\n",
            "Название GPU: Tesla T4\n"
          ]
        }
      ]
    },
    {
      "cell_type": "code",
      "source": [
        "from ultralytics import YOLO\n",
        "# Загрузите YOLOv8 модель для классификации\n",
        "model = YOLO('yolo11m-cls.pt')  # Выберите базовую модель; можно взять и другие модели (s, m, l, x)"
      ],
      "metadata": {
        "colab": {
          "base_uri": "https://localhost:8080/"
        },
        "id": "LvlUK5CJ93p-",
        "outputId": "2e1ebdd4-fda8-4ea1-f31f-1a4c06cb89d8"
      },
      "execution_count": null,
      "outputs": [
        {
          "output_type": "stream",
          "name": "stdout",
          "text": [
            "Creating new Ultralytics Settings v0.0.6 file ✅ \n",
            "View Ultralytics Settings with 'yolo settings' or at '/root/.config/Ultralytics/settings.json'\n",
            "Update Settings with 'yolo settings key=value', i.e. 'yolo settings runs_dir=path/to/dir'. For help see https://docs.ultralytics.com/quickstart/#ultralytics-settings.\n",
            "Downloading https://github.com/ultralytics/assets/releases/download/v8.3.0/yolo11m-cls.pt to 'yolo11m-cls.pt'...\n"
          ]
        },
        {
          "output_type": "stream",
          "name": "stderr",
          "text": [
            "100%|██████████| 22.4M/22.4M [00:00<00:00, 279MB/s]\n"
          ]
        }
      ]
    },
    {
      "cell_type": "code",
      "source": [
        "!unzip meatFreshnessP_YOLO.zip"
      ],
      "metadata": {
        "colab": {
          "base_uri": "https://localhost:8080/"
        },
        "collapsed": true,
        "id": "vZonb_TZ96mi",
        "outputId": "4053d1fc-c300-4805-bfb1-e2a536a67f46"
      },
      "execution_count": null,
      "outputs": [
        {
          "output_type": "stream",
          "name": "stdout",
          "text": [
            "Archive:  meatFreshnessP_YOLO.zip\n",
            "   creating: meatFreshnessP_YOLO/\n",
            "   creating: meatFreshnessP_YOLO/test/\n",
            "  inflating: meatFreshnessP_YOLO/test/FRESH_GREEN_ADD_cropped_26.LR.png  \n",
            "  inflating: meatFreshnessP_YOLO/test/HALF_GREEN_cropped_19.LH.png  \n",
            "  inflating: meatFreshnessP_YOLO/test/SPOILT_RED_cropped_1.HP.png  \n",
            "   creating: meatFreshnessP_YOLO/train/\n",
            "   creating: meatFreshnessP_YOLO/train/FRESH/\n",
            "  inflating: meatFreshnessP_YOLO/train/FRESH/FRESH_BLUE_ADD_cropped_1.HP.png  \n",
            "  inflating: meatFreshnessP_YOLO/train/FRESH/FRESH_BLUE_ADD_cropped_10.PV.png  \n",
            "  inflating: meatFreshnessP_YOLO/train/FRESH/FRESH_BLUE_ADD_cropped_11.HV.png  \n",
            "  inflating: meatFreshnessP_YOLO/train/FRESH/FRESH_BLUE_ADD_cropped_12.QV.png  \n",
            "  inflating: meatFreshnessP_YOLO/train/FRESH/FRESH_BLUE_ADD_cropped_13.QQ.png  \n",
            "  inflating: meatFreshnessP_YOLO/train/FRESH/FRESH_BLUE_ADD_cropped_14.HQ.png  \n",
            "  inflating: meatFreshnessP_YOLO/train/FRESH/FRESH_BLUE_ADD_cropped_15.PQ.png  \n",
            "  inflating: meatFreshnessP_YOLO/train/FRESH/FRESH_BLUE_ADD_cropped_16.VQ.png  \n",
            "  inflating: meatFreshnessP_YOLO/train/FRESH/FRESH_BLUE_ADD_cropped_17.RQ.png  \n",
            "  inflating: meatFreshnessP_YOLO/train/FRESH/FRESH_BLUE_ADD_cropped_19.LH.png  \n",
            "  inflating: meatFreshnessP_YOLO/train/FRESH/FRESH_BLUE_ADD_cropped_2.PP.png  \n",
            "  inflating: meatFreshnessP_YOLO/train/FRESH/FRESH_BLUE_ADD_cropped_20.RH.png  \n",
            "  inflating: meatFreshnessP_YOLO/train/FRESH/FRESH_BLUE_ADD_cropped_21.HH.png  \n",
            "  inflating: meatFreshnessP_YOLO/train/FRESH/FRESH_BLUE_ADD_cropped_22.QH.png  \n",
            "  inflating: meatFreshnessP_YOLO/train/FRESH/FRESH_BLUE_ADD_cropped_25.RR.png  \n",
            "  inflating: meatFreshnessP_YOLO/train/FRESH/FRESH_BLUE_ADD_cropped_27.HR.png  \n",
            "  inflating: meatFreshnessP_YOLO/train/FRESH/FRESH_BLUE_ADD_cropped_28.QR.png  \n",
            "  inflating: meatFreshnessP_YOLO/train/FRESH/FRESH_BLUE_ADD_cropped_29.PR.png  \n",
            "  inflating: meatFreshnessP_YOLO/train/FRESH/FRESH_BLUE_ADD_cropped_3.VP.png  \n",
            "  inflating: meatFreshnessP_YOLO/train/FRESH/FRESH_BLUE_ADD_cropped_30.VR.png  \n",
            "  inflating: meatFreshnessP_YOLO/train/FRESH/FRESH_BLUE_ADD_cropped_31.VL.png  \n",
            "  inflating: meatFreshnessP_YOLO/train/FRESH/FRESH_BLUE_ADD_cropped_33.HL.png  \n",
            "  inflating: meatFreshnessP_YOLO/train/FRESH/FRESH_BLUE_ADD_cropped_34.QL.png  \n",
            "  inflating: meatFreshnessP_YOLO/train/FRESH/FRESH_BLUE_ADD_cropped_35.RL.png  \n",
            "  inflating: meatFreshnessP_YOLO/train/FRESH/FRESH_BLUE_ADD_cropped_36.LL.png  \n",
            "  inflating: meatFreshnessP_YOLO/train/FRESH/FRESH_BLUE_ADD_cropped_5.RP.png  \n",
            "  inflating: meatFreshnessP_YOLO/train/FRESH/FRESH_BLUE_ADD_cropped_6.LP.png  \n",
            "  inflating: meatFreshnessP_YOLO/train/FRESH/FRESH_BLUE_ADD_cropped_7.LV.png  \n",
            "  inflating: meatFreshnessP_YOLO/train/FRESH/FRESH_BLUE_ADD_cropped_8.RV.png  \n",
            "  inflating: meatFreshnessP_YOLO/train/FRESH/FRESH_BLUE_ADD_cropped_9.VV.png  \n",
            "  inflating: meatFreshnessP_YOLO/train/FRESH/FRESH_BLUE_cropped_1.VH.png  \n",
            "  inflating: meatFreshnessP_YOLO/train/FRESH/FRESH_BLUE_cropped_10.VQ.png  \n",
            "  inflating: meatFreshnessP_YOLO/train/FRESH/FRESH_BLUE_cropped_11.RQ.png  \n",
            "  inflating: meatFreshnessP_YOLO/train/FRESH/FRESH_BLUE_cropped_12.LQ.png  \n",
            "  inflating: meatFreshnessP_YOLO/train/FRESH/FRESH_BLUE_cropped_13.HP.png  \n",
            "  inflating: meatFreshnessP_YOLO/train/FRESH/FRESH_BLUE_cropped_14.PP.png  \n",
            "  inflating: meatFreshnessP_YOLO/train/FRESH/FRESH_BLUE_cropped_15.VP.png  \n",
            "  inflating: meatFreshnessP_YOLO/train/FRESH/FRESH_BLUE_cropped_16.QP.png  \n",
            "  inflating: meatFreshnessP_YOLO/train/FRESH/FRESH_BLUE_cropped_17.RP.png  \n",
            "  inflating: meatFreshnessP_YOLO/train/FRESH/FRESH_BLUE_cropped_19.LV.png  \n",
            "  inflating: meatFreshnessP_YOLO/train/FRESH/FRESH_BLUE_cropped_2.HH.png  \n",
            "  inflating: meatFreshnessP_YOLO/train/FRESH/FRESH_BLUE_cropped_20.RV.png  \n",
            "  inflating: meatFreshnessP_YOLO/train/FRESH/FRESH_BLUE_cropped_21.VV.png  \n",
            "  inflating: meatFreshnessP_YOLO/train/FRESH/FRESH_BLUE_cropped_22.PV.png  \n",
            "  inflating: meatFreshnessP_YOLO/train/FRESH/FRESH_BLUE_cropped_23.HV.png  \n",
            "  inflating: meatFreshnessP_YOLO/train/FRESH/FRESH_BLUE_cropped_24.QV.png  \n",
            "  inflating: meatFreshnessP_YOLO/train/FRESH/FRESH_BLUE_cropped_25.RR.png  \n",
            "  inflating: meatFreshnessP_YOLO/train/FRESH/FRESH_BLUE_cropped_26.LR.png  \n",
            "  inflating: meatFreshnessP_YOLO/train/FRESH/FRESH_BLUE_cropped_28.QR.png  \n",
            "  inflating: meatFreshnessP_YOLO/train/FRESH/FRESH_BLUE_cropped_29.PR.png  \n",
            "  inflating: meatFreshnessP_YOLO/train/FRESH/FRESH_BLUE_cropped_3.PH.png  \n",
            "  inflating: meatFreshnessP_YOLO/train/FRESH/FRESH_BLUE_cropped_30.VR.png  \n",
            "  inflating: meatFreshnessP_YOLO/train/FRESH/FRESH_BLUE_cropped_31.VL.png  \n",
            "  inflating: meatFreshnessP_YOLO/train/FRESH/FRESH_BLUE_cropped_32.PL.png  \n",
            "  inflating: meatFreshnessP_YOLO/train/FRESH/FRESH_BLUE_cropped_33.HL.png  \n",
            "  inflating: meatFreshnessP_YOLO/train/FRESH/FRESH_BLUE_cropped_34.QL.png  \n",
            "  inflating: meatFreshnessP_YOLO/train/FRESH/FRESH_BLUE_cropped_35.RL.png  \n",
            "  inflating: meatFreshnessP_YOLO/train/FRESH/FRESH_BLUE_cropped_36.LL.png  \n",
            "  inflating: meatFreshnessP_YOLO/train/FRESH/FRESH_BLUE_cropped_6.LH.png  \n",
            "  inflating: meatFreshnessP_YOLO/train/FRESH/FRESH_BLUE_cropped_7.HQ.png  \n",
            "  inflating: meatFreshnessP_YOLO/train/FRESH/FRESH_BLUE_cropped_8.QQ.png  \n",
            "  inflating: meatFreshnessP_YOLO/train/FRESH/FRESH_BLUE_cropped_9.PQ.png  \n",
            "  inflating: meatFreshnessP_YOLO/train/FRESH/FRESH_GREEN_ADD_cropped_1.HP.png  \n",
            "  inflating: meatFreshnessP_YOLO/train/FRESH/FRESH_GREEN_ADD_cropped_11.HV.png  \n",
            "  inflating: meatFreshnessP_YOLO/train/FRESH/FRESH_GREEN_ADD_cropped_13.QQ.png  \n",
            "  inflating: meatFreshnessP_YOLO/train/FRESH/FRESH_GREEN_ADD_cropped_14.HQ.png  \n",
            "  inflating: meatFreshnessP_YOLO/train/FRESH/FRESH_GREEN_ADD_cropped_15.PQ.png  \n",
            "  inflating: meatFreshnessP_YOLO/train/FRESH/FRESH_GREEN_ADD_cropped_17.RQ.png  \n",
            "  inflating: meatFreshnessP_YOLO/train/FRESH/FRESH_GREEN_ADD_cropped_18.LQ.png  \n",
            "  inflating: meatFreshnessP_YOLO/train/FRESH/FRESH_GREEN_ADD_cropped_19.LH.png  \n",
            "  inflating: meatFreshnessP_YOLO/train/FRESH/FRESH_GREEN_ADD_cropped_2.PP.png  \n",
            "  inflating: meatFreshnessP_YOLO/train/FRESH/FRESH_GREEN_ADD_cropped_20.RH.png  \n",
            "  inflating: meatFreshnessP_YOLO/train/FRESH/FRESH_GREEN_ADD_cropped_21.HH.png  \n",
            "  inflating: meatFreshnessP_YOLO/train/FRESH/FRESH_GREEN_ADD_cropped_22.QH.png  \n",
            "  inflating: meatFreshnessP_YOLO/train/FRESH/FRESH_GREEN_ADD_cropped_23.PH.png  \n",
            "  inflating: meatFreshnessP_YOLO/train/FRESH/FRESH_GREEN_ADD_cropped_24.VH.png  \n",
            "  inflating: meatFreshnessP_YOLO/train/FRESH/FRESH_GREEN_ADD_cropped_25.RR.png  \n",
            "  inflating: meatFreshnessP_YOLO/train/FRESH/FRESH_GREEN_ADD_cropped_27.HR.png  \n",
            "  inflating: meatFreshnessP_YOLO/train/FRESH/FRESH_GREEN_ADD_cropped_28.QR.png  \n",
            "  inflating: meatFreshnessP_YOLO/train/FRESH/FRESH_GREEN_ADD_cropped_3.VP.png  \n",
            "  inflating: meatFreshnessP_YOLO/train/FRESH/FRESH_GREEN_ADD_cropped_30.VR.png  \n",
            "  inflating: meatFreshnessP_YOLO/train/FRESH/FRESH_GREEN_ADD_cropped_32.PL.png  \n",
            "  inflating: meatFreshnessP_YOLO/train/FRESH/FRESH_GREEN_ADD_cropped_34.QL.png  \n",
            "  inflating: meatFreshnessP_YOLO/train/FRESH/FRESH_GREEN_ADD_cropped_35.RL.png  \n",
            "  inflating: meatFreshnessP_YOLO/train/FRESH/FRESH_GREEN_ADD_cropped_36.LL.png  \n",
            "  inflating: meatFreshnessP_YOLO/train/FRESH/FRESH_GREEN_ADD_cropped_4.QP.png  \n",
            "  inflating: meatFreshnessP_YOLO/train/FRESH/FRESH_GREEN_ADD_cropped_5.RP.png  \n",
            "  inflating: meatFreshnessP_YOLO/train/FRESH/FRESH_GREEN_ADD_cropped_7.LV.png  \n",
            "  inflating: meatFreshnessP_YOLO/train/FRESH/FRESH_GREEN_ADD_cropped_8.RV.png  \n",
            "  inflating: meatFreshnessP_YOLO/train/FRESH/FRESH_GREEN_ADD_cropped_9.VV.png  \n",
            "  inflating: meatFreshnessP_YOLO/train/FRESH/FRESH_GREEN_cropped_10.PV.png  \n",
            "  inflating: meatFreshnessP_YOLO/train/FRESH/FRESH_GREEN_cropped_11.HV.png  \n",
            "  inflating: meatFreshnessP_YOLO/train/FRESH/FRESH_GREEN_cropped_14.HQ.png  \n",
            "  inflating: meatFreshnessP_YOLO/train/FRESH/FRESH_GREEN_cropped_15.PQ.png  \n",
            "  inflating: meatFreshnessP_YOLO/train/FRESH/FRESH_GREEN_cropped_16.VQ.png  \n",
            "  inflating: meatFreshnessP_YOLO/train/FRESH/FRESH_GREEN_cropped_17.RQ.png  \n",
            "  inflating: meatFreshnessP_YOLO/train/FRESH/FRESH_GREEN_cropped_2.PP.png  \n",
            "  inflating: meatFreshnessP_YOLO/train/FRESH/FRESH_GREEN_cropped_20.RH.png  \n",
            "  inflating: meatFreshnessP_YOLO/train/FRESH/FRESH_GREEN_cropped_21.HH.png  \n",
            "  inflating: meatFreshnessP_YOLO/train/FRESH/FRESH_GREEN_cropped_22.QH.png  \n",
            "  inflating: meatFreshnessP_YOLO/train/FRESH/FRESH_GREEN_cropped_23.PH.png  \n",
            "  inflating: meatFreshnessP_YOLO/train/FRESH/FRESH_GREEN_cropped_25.RR.png  \n",
            "  inflating: meatFreshnessP_YOLO/train/FRESH/FRESH_GREEN_cropped_26.LR.png  \n",
            "  inflating: meatFreshnessP_YOLO/train/FRESH/FRESH_GREEN_cropped_27.HR.png  \n",
            "  inflating: meatFreshnessP_YOLO/train/FRESH/FRESH_GREEN_cropped_29.PR.png  \n",
            "  inflating: meatFreshnessP_YOLO/train/FRESH/FRESH_GREEN_cropped_3.VP.png  \n",
            "  inflating: meatFreshnessP_YOLO/train/FRESH/FRESH_GREEN_cropped_30.VR.png  \n",
            "  inflating: meatFreshnessP_YOLO/train/FRESH/FRESH_GREEN_cropped_31.VL.png  \n",
            "  inflating: meatFreshnessP_YOLO/train/FRESH/FRESH_GREEN_cropped_32.PL.png  \n",
            "  inflating: meatFreshnessP_YOLO/train/FRESH/FRESH_GREEN_cropped_33.HL.png  \n",
            "  inflating: meatFreshnessP_YOLO/train/FRESH/FRESH_GREEN_cropped_35.RL.png  \n",
            "  inflating: meatFreshnessP_YOLO/train/FRESH/FRESH_GREEN_cropped_36.LL.png  \n",
            "  inflating: meatFreshnessP_YOLO/train/FRESH/FRESH_GREEN_cropped_6.LP.png  \n",
            "  inflating: meatFreshnessP_YOLO/train/FRESH/FRESH_GREEN_cropped_7.LV.png  \n",
            "  inflating: meatFreshnessP_YOLO/train/FRESH/FRESH_GREEN_cropped_9.VV.png  \n",
            "  inflating: meatFreshnessP_YOLO/train/FRESH/FRESH_RED_ADD_cropped_1.HP.png  \n",
            "  inflating: meatFreshnessP_YOLO/train/FRESH/FRESH_RED_ADD_cropped_10.PV.png  \n",
            "  inflating: meatFreshnessP_YOLO/train/FRESH/FRESH_RED_ADD_cropped_12.QV.png  \n",
            "  inflating: meatFreshnessP_YOLO/train/FRESH/FRESH_RED_ADD_cropped_13.QQ.png  \n",
            "  inflating: meatFreshnessP_YOLO/train/FRESH/FRESH_RED_ADD_cropped_14.HQ.png  \n",
            "  inflating: meatFreshnessP_YOLO/train/FRESH/FRESH_RED_ADD_cropped_15.PQ.png  \n",
            "  inflating: meatFreshnessP_YOLO/train/FRESH/FRESH_RED_ADD_cropped_16.VQ.png  \n",
            "  inflating: meatFreshnessP_YOLO/train/FRESH/FRESH_RED_ADD_cropped_17.RQ.png  \n",
            "  inflating: meatFreshnessP_YOLO/train/FRESH/FRESH_RED_ADD_cropped_18.LQ.png  \n",
            "  inflating: meatFreshnessP_YOLO/train/FRESH/FRESH_RED_ADD_cropped_2.PP.png  \n",
            "  inflating: meatFreshnessP_YOLO/train/FRESH/FRESH_RED_ADD_cropped_20.RH.png  \n",
            "  inflating: meatFreshnessP_YOLO/train/FRESH/FRESH_RED_ADD_cropped_21.HH.png  \n",
            "  inflating: meatFreshnessP_YOLO/train/FRESH/FRESH_RED_ADD_cropped_22.QH.png  \n",
            "  inflating: meatFreshnessP_YOLO/train/FRESH/FRESH_RED_ADD_cropped_24.VH.png  \n",
            "  inflating: meatFreshnessP_YOLO/train/FRESH/FRESH_RED_ADD_cropped_26.LR.png  \n",
            "  inflating: meatFreshnessP_YOLO/train/FRESH/FRESH_RED_ADD_cropped_27.HR.png  \n",
            "  inflating: meatFreshnessP_YOLO/train/FRESH/FRESH_RED_ADD_cropped_28.QR.png  \n",
            "  inflating: meatFreshnessP_YOLO/train/FRESH/FRESH_RED_ADD_cropped_29.PR.png  \n",
            "  inflating: meatFreshnessP_YOLO/train/FRESH/FRESH_RED_ADD_cropped_3.VP.png  \n",
            "  inflating: meatFreshnessP_YOLO/train/FRESH/FRESH_RED_ADD_cropped_30.VR.png  \n",
            "  inflating: meatFreshnessP_YOLO/train/FRESH/FRESH_RED_ADD_cropped_31.VL.png  \n",
            "  inflating: meatFreshnessP_YOLO/train/FRESH/FRESH_RED_ADD_cropped_32.PL.png  \n",
            "  inflating: meatFreshnessP_YOLO/train/FRESH/FRESH_RED_ADD_cropped_33.HL.png  \n",
            "  inflating: meatFreshnessP_YOLO/train/FRESH/FRESH_RED_ADD_cropped_34.QL.png  \n",
            "  inflating: meatFreshnessP_YOLO/train/FRESH/FRESH_RED_ADD_cropped_36.LL.png  \n",
            "  inflating: meatFreshnessP_YOLO/train/FRESH/FRESH_RED_ADD_cropped_4.QP.png  \n",
            "  inflating: meatFreshnessP_YOLO/train/FRESH/FRESH_RED_ADD_cropped_5.RP.png  \n",
            "  inflating: meatFreshnessP_YOLO/train/FRESH/FRESH_RED_ADD_cropped_8.RV.png  \n",
            "  inflating: meatFreshnessP_YOLO/train/FRESH/FRESH_RED_ADD_cropped_9.VV.png  \n",
            "  inflating: meatFreshnessP_YOLO/train/FRESH/FRESH_RED_cropped_1.HP.png  \n",
            "  inflating: meatFreshnessP_YOLO/train/FRESH/FRESH_RED_cropped_10.PV.png  \n",
            "  inflating: meatFreshnessP_YOLO/train/FRESH/FRESH_RED_cropped_12.QV.png  \n",
            "  inflating: meatFreshnessP_YOLO/train/FRESH/FRESH_RED_cropped_14.HQ.png  \n",
            "  inflating: meatFreshnessP_YOLO/train/FRESH/FRESH_RED_cropped_16,VQ.png  \n",
            "  inflating: meatFreshnessP_YOLO/train/FRESH/FRESH_RED_cropped_17.RQ.png  \n",
            "  inflating: meatFreshnessP_YOLO/train/FRESH/FRESH_RED_cropped_18.LQ.png  \n",
            "  inflating: meatFreshnessP_YOLO/train/FRESH/FRESH_RED_cropped_2.PP.png  \n",
            "  inflating: meatFreshnessP_YOLO/train/FRESH/FRESH_RED_cropped_21.HH.png  \n",
            "  inflating: meatFreshnessP_YOLO/train/FRESH/FRESH_RED_cropped_22.QH.png  \n",
            "  inflating: meatFreshnessP_YOLO/train/FRESH/FRESH_RED_cropped_23.PH.png  \n",
            "  inflating: meatFreshnessP_YOLO/train/FRESH/FRESH_RED_cropped_24.VH.png  \n",
            "  inflating: meatFreshnessP_YOLO/train/FRESH/FRESH_RED_cropped_25.RR.png  \n",
            "  inflating: meatFreshnessP_YOLO/train/FRESH/FRESH_RED_cropped_26.LR.png  \n",
            "  inflating: meatFreshnessP_YOLO/train/FRESH/FRESH_RED_cropped_28.QR.png  \n",
            "  inflating: meatFreshnessP_YOLO/train/FRESH/FRESH_RED_cropped_3.VP.png  \n",
            "  inflating: meatFreshnessP_YOLO/train/FRESH/FRESH_RED_cropped_30.VR.png  \n",
            "  inflating: meatFreshnessP_YOLO/train/FRESH/FRESH_RED_cropped_31.VL.png  \n",
            "  inflating: meatFreshnessP_YOLO/train/FRESH/FRESH_RED_cropped_33.HL.png  \n",
            "  inflating: meatFreshnessP_YOLO/train/FRESH/FRESH_RED_cropped_34.QL.png  \n",
            "  inflating: meatFreshnessP_YOLO/train/FRESH/FRESH_RED_cropped_35.RL.png  \n",
            "  inflating: meatFreshnessP_YOLO/train/FRESH/FRESH_RED_cropped_36.LL.png  \n",
            "  inflating: meatFreshnessP_YOLO/train/FRESH/FRESH_RED_cropped_4.QP.png  \n",
            "  inflating: meatFreshnessP_YOLO/train/FRESH/FRESH_RED_cropped_5.RP.png  \n",
            "  inflating: meatFreshnessP_YOLO/train/FRESH/FRESH_RED_cropped_6.LP.png  \n",
            "  inflating: meatFreshnessP_YOLO/train/FRESH/FRESH_RED_cropped_8.RV.png  \n",
            "  inflating: meatFreshnessP_YOLO/train/FRESH/FRESH_RED_cropped_9.VV.png  \n",
            "   creating: meatFreshnessP_YOLO/train/HALF/\n",
            "  inflating: meatFreshnessP_YOLO/train/HALF/HALF_BLUE_cropped_10.PV.png  \n",
            "  inflating: meatFreshnessP_YOLO/train/HALF/HALF_BLUE_cropped_11.HV.png  \n",
            "  inflating: meatFreshnessP_YOLO/train/HALF/HALF_BLUE_cropped_12.QV.png  \n",
            "  inflating: meatFreshnessP_YOLO/train/HALF/HALF_BLUE_cropped_14.HQ.png  \n",
            "  inflating: meatFreshnessP_YOLO/train/HALF/HALF_BLUE_cropped_15.PQ.png  \n",
            "  inflating: meatFreshnessP_YOLO/train/HALF/HALF_BLUE_cropped_16.VQ.png  \n",
            "  inflating: meatFreshnessP_YOLO/train/HALF/HALF_BLUE_cropped_17.RQ.png  \n",
            "  inflating: meatFreshnessP_YOLO/train/HALF/HALF_BLUE_cropped_18.LQ.png  \n",
            "  inflating: meatFreshnessP_YOLO/train/HALF/HALF_BLUE_cropped_2.PP.png  \n",
            "  inflating: meatFreshnessP_YOLO/train/HALF/HALF_BLUE_cropped_21.HH.png  \n",
            "  inflating: meatFreshnessP_YOLO/train/HALF/HALF_BLUE_cropped_22.QH.png  \n",
            "  inflating: meatFreshnessP_YOLO/train/HALF/HALF_BLUE_cropped_23.PH.png  \n",
            "  inflating: meatFreshnessP_YOLO/train/HALF/HALF_BLUE_cropped_24.VH.png  \n",
            "  inflating: meatFreshnessP_YOLO/train/HALF/HALF_BLUE_cropped_25.RR.png  \n",
            "  inflating: meatFreshnessP_YOLO/train/HALF/HALF_BLUE_cropped_27.HR.png  \n",
            "  inflating: meatFreshnessP_YOLO/train/HALF/HALF_BLUE_cropped_28.QR.png  \n",
            "  inflating: meatFreshnessP_YOLO/train/HALF/HALF_BLUE_cropped_29.PR.png  \n",
            "  inflating: meatFreshnessP_YOLO/train/HALF/HALF_BLUE_cropped_30.VR.png  \n",
            "  inflating: meatFreshnessP_YOLO/train/HALF/HALF_BLUE_cropped_31.VL.png  \n",
            "  inflating: meatFreshnessP_YOLO/train/HALF/HALF_BLUE_cropped_32.PL.png  \n",
            "  inflating: meatFreshnessP_YOLO/train/HALF/HALF_BLUE_cropped_34.QL.png  \n",
            "  inflating: meatFreshnessP_YOLO/train/HALF/HALF_BLUE_cropped_36.LL.png  \n",
            "  inflating: meatFreshnessP_YOLO/train/HALF/HALF_BLUE_cropped_4.QP.png  \n",
            "  inflating: meatFreshnessP_YOLO/train/HALF/HALF_BLUE_cropped_5.RP.png  \n",
            "  inflating: meatFreshnessP_YOLO/train/HALF/HALF_BLUE_cropped_6.LP.png  \n",
            "  inflating: meatFreshnessP_YOLO/train/HALF/HALF_BLUE_cropped_7.LV.png  \n",
            "  inflating: meatFreshnessP_YOLO/train/HALF/HALF_BLUE_cropped_8.RV.png  \n",
            "  inflating: meatFreshnessP_YOLO/train/HALF/HALF_GREEN_cropped_1.HP.png  \n",
            "  inflating: meatFreshnessP_YOLO/train/HALF/HALF_GREEN_cropped_10.PV.png  \n",
            "  inflating: meatFreshnessP_YOLO/train/HALF/HALF_GREEN_cropped_12.QV.png  \n",
            "  inflating: meatFreshnessP_YOLO/train/HALF/HALF_GREEN_cropped_15.PQ.png  \n",
            "  inflating: meatFreshnessP_YOLO/train/HALF/HALF_GREEN_cropped_16.VQ.png  \n",
            "  inflating: meatFreshnessP_YOLO/train/HALF/HALF_GREEN_cropped_17.RQ.png  \n",
            "  inflating: meatFreshnessP_YOLO/train/HALF/HALF_GREEN_cropped_19.LH.png  \n",
            "  inflating: meatFreshnessP_YOLO/train/HALF/HALF_GREEN_cropped_2.PP.png  \n",
            "  inflating: meatFreshnessP_YOLO/train/HALF/HALF_GREEN_cropped_20.RH.png  \n",
            "  inflating: meatFreshnessP_YOLO/train/HALF/HALF_GREEN_cropped_22.QH.png  \n",
            "  inflating: meatFreshnessP_YOLO/train/HALF/HALF_GREEN_cropped_28.QR.png  \n",
            "  inflating: meatFreshnessP_YOLO/train/HALF/HALF_GREEN_cropped_29.PR.png  \n",
            "  inflating: meatFreshnessP_YOLO/train/HALF/HALF_GREEN_cropped_3.VP.png  \n",
            "  inflating: meatFreshnessP_YOLO/train/HALF/HALF_GREEN_cropped_32.PL.png  \n",
            "  inflating: meatFreshnessP_YOLO/train/HALF/HALF_GREEN_cropped_34.QL.png  \n",
            "  inflating: meatFreshnessP_YOLO/train/HALF/HALF_GREEN_cropped_5.RP.png  \n",
            "  inflating: meatFreshnessP_YOLO/train/HALF/HALF_GREEN_cropped_6.LP.png  \n",
            "  inflating: meatFreshnessP_YOLO/train/HALF/HALF_RED_cropped_1.HP.png  \n",
            "  inflating: meatFreshnessP_YOLO/train/HALF/HALF_RED_cropped_10.PV.png  \n",
            "  inflating: meatFreshnessP_YOLO/train/HALF/HALF_RED_cropped_11.HV.png  \n",
            "  inflating: meatFreshnessP_YOLO/train/HALF/HALF_RED_cropped_12.QV.png  \n",
            "  inflating: meatFreshnessP_YOLO/train/HALF/HALF_RED_cropped_14.HQ.png  \n",
            "  inflating: meatFreshnessP_YOLO/train/HALF/HALF_RED_cropped_15.PQ.png  \n",
            "  inflating: meatFreshnessP_YOLO/train/HALF/HALF_RED_cropped_16.VQ.png  \n",
            "  inflating: meatFreshnessP_YOLO/train/HALF/HALF_RED_cropped_17.RQ.png  \n",
            "  inflating: meatFreshnessP_YOLO/train/HALF/HALF_RED_cropped_19.LH.png  \n",
            "  inflating: meatFreshnessP_YOLO/train/HALF/HALF_RED_cropped_2.PP.png  \n",
            "  inflating: meatFreshnessP_YOLO/train/HALF/HALF_RED_cropped_20.RH.png  \n",
            "  inflating: meatFreshnessP_YOLO/train/HALF/HALF_RED_cropped_21.HH.png  \n",
            "  inflating: meatFreshnessP_YOLO/train/HALF/HALF_RED_cropped_23.PH.png  \n",
            "  inflating: meatFreshnessP_YOLO/train/HALF/HALF_RED_cropped_24.VH.png  \n",
            "  inflating: meatFreshnessP_YOLO/train/HALF/HALF_RED_cropped_25.RR.png  \n",
            "  inflating: meatFreshnessP_YOLO/train/HALF/HALF_RED_cropped_26.LR.png  \n",
            "  inflating: meatFreshnessP_YOLO/train/HALF/HALF_RED_cropped_27.HR.png  \n",
            "  inflating: meatFreshnessP_YOLO/train/HALF/HALF_RED_cropped_28.QR.png  \n",
            "  inflating: meatFreshnessP_YOLO/train/HALF/HALF_RED_cropped_29.PR.png  \n",
            "  inflating: meatFreshnessP_YOLO/train/HALF/HALF_RED_cropped_3.VP.png  \n",
            "  inflating: meatFreshnessP_YOLO/train/HALF/HALF_RED_cropped_30.VR.png  \n",
            "  inflating: meatFreshnessP_YOLO/train/HALF/HALF_RED_cropped_31.VL.png  \n",
            "  inflating: meatFreshnessP_YOLO/train/HALF/HALF_RED_cropped_33.HL.png  \n",
            "  inflating: meatFreshnessP_YOLO/train/HALF/HALF_RED_cropped_35.RL.png  \n",
            "  inflating: meatFreshnessP_YOLO/train/HALF/HALF_RED_cropped_36.LL.png  \n",
            "  inflating: meatFreshnessP_YOLO/train/HALF/HALF_RED_cropped_4.QP.png  \n",
            "  inflating: meatFreshnessP_YOLO/train/HALF/HALF_RED_cropped_5.RP.png  \n",
            "  inflating: meatFreshnessP_YOLO/train/HALF/HALF_RED_cropped_6.LP.png  \n",
            "  inflating: meatFreshnessP_YOLO/train/HALF/HALF_RED_cropped_8.RV.png  \n",
            "  inflating: meatFreshnessP_YOLO/train/HALF/HALF_RED_cropped_9.VV.png  \n",
            "   creating: meatFreshnessP_YOLO/train/SPOILT/\n",
            "  inflating: meatFreshnessP_YOLO/train/SPOILT/SPOILT_GREEN_cropped_10.HR.png  \n",
            "  inflating: meatFreshnessP_YOLO/train/SPOILT/SPOILT_GREEN_cropped_11.LR.png  \n",
            "  inflating: meatFreshnessP_YOLO/train/SPOILT/SPOILT_GREEN_cropped_12.RR.png  \n",
            "  inflating: meatFreshnessP_YOLO/train/SPOILT/SPOILT_GREEN_cropped_15.QH.png  \n",
            "  inflating: meatFreshnessP_YOLO/train/SPOILT/SPOILT_GREEN_cropped_16.HH.png  \n",
            "  inflating: meatFreshnessP_YOLO/train/SPOILT/SPOILT_GREEN_cropped_17.RH.png  \n",
            "  inflating: meatFreshnessP_YOLO/train/SPOILT/SPOILT_GREEN_cropped_2.RL.png  \n",
            "  inflating: meatFreshnessP_YOLO/train/SPOILT/SPOILT_GREEN_cropped_21.VQ.png  \n",
            "  inflating: meatFreshnessP_YOLO/train/SPOILT/SPOILT_GREEN_cropped_22.PQ.png  \n",
            "  inflating: meatFreshnessP_YOLO/train/SPOILT/SPOILT_GREEN_cropped_23.HQ.png  \n",
            "  inflating: meatFreshnessP_YOLO/train/SPOILT/SPOILT_GREEN_cropped_24.QQ.png  \n",
            "  inflating: meatFreshnessP_YOLO/train/SPOILT/SPOILT_GREEN_cropped_25.QV.png  \n",
            "  inflating: meatFreshnessP_YOLO/train/SPOILT/SPOILT_GREEN_cropped_27.PV.png  \n",
            "  inflating: meatFreshnessP_YOLO/train/SPOILT/SPOILT_GREEN_cropped_28,VV.png  \n",
            "  inflating: meatFreshnessP_YOLO/train/SPOILT/SPOILT_GREEN_cropped_29.RV.png  \n",
            "  inflating: meatFreshnessP_YOLO/train/SPOILT/SPOILT_GREEN_cropped_3.QL.png  \n",
            "  inflating: meatFreshnessP_YOLO/train/SPOILT/SPOILT_GREEN_cropped_30.LV.png  \n",
            "  inflating: meatFreshnessP_YOLO/train/SPOILT/SPOILT_GREEN_cropped_31.LP.png  \n",
            "  inflating: meatFreshnessP_YOLO/train/SPOILT/SPOILT_GREEN_cropped_32.RP.png  \n",
            "  inflating: meatFreshnessP_YOLO/train/SPOILT/SPOILT_GREEN_cropped_33.QP.png  \n",
            "  inflating: meatFreshnessP_YOLO/train/SPOILT/SPOILT_GREEN_cropped_34.VP.png  \n",
            "  inflating: meatFreshnessP_YOLO/train/SPOILT/SPOILT_GREEN_cropped_36.HP.png  \n",
            "  inflating: meatFreshnessP_YOLO/train/SPOILT/SPOILT_GREEN_cropped_4.HL.png  \n",
            "  inflating: meatFreshnessP_YOLO/train/SPOILT/SPOILT_GREEN_cropped_6.VL.png  \n",
            "  inflating: meatFreshnessP_YOLO/train/SPOILT/SPOILT_GREEN_cropped_7.VR.png  \n",
            "  inflating: meatFreshnessP_YOLO/train/SPOILT/SPOILT_GREEN_cropped_9.QR.png  \n",
            "  inflating: meatFreshnessP_YOLO/train/SPOILT/SPOILT_RED_cropped_10.PV.png  \n",
            "  inflating: meatFreshnessP_YOLO/train/SPOILT/SPOILT_RED_cropped_11.HV.png  \n",
            "  inflating: meatFreshnessP_YOLO/train/SPOILT/SPOILT_RED_cropped_12.QV.png  \n",
            "  inflating: meatFreshnessP_YOLO/train/SPOILT/SPOILT_RED_cropped_13.QQ.png  \n",
            "  inflating: meatFreshnessP_YOLO/train/SPOILT/SPOILT_RED_cropped_14.PQ.png  \n",
            "  inflating: meatFreshnessP_YOLO/train/SPOILT/SPOILT_RED_cropped_15.VQ.png  \n",
            "  inflating: meatFreshnessP_YOLO/train/SPOILT/SPOILT_RED_cropped_16.RQ.png  \n",
            "  inflating: meatFreshnessP_YOLO/train/SPOILT/SPOILT_RED_cropped_17.LQ.png  \n",
            "  inflating: meatFreshnessP_YOLO/train/SPOILT/SPOILT_RED_cropped_19.LH.png  \n",
            "  inflating: meatFreshnessP_YOLO/train/SPOILT/SPOILT_RED_cropped_20.RH.png  \n",
            "  inflating: meatFreshnessP_YOLO/train/SPOILT/SPOILT_RED_cropped_21.HH.png  \n",
            "  inflating: meatFreshnessP_YOLO/train/SPOILT/SPOILT_RED_cropped_23.PH.png  \n",
            "  inflating: meatFreshnessP_YOLO/train/SPOILT/SPOILT_RED_cropped_24.VH.png  \n",
            "  inflating: meatFreshnessP_YOLO/train/SPOILT/SPOILT_RED_cropped_25.RR.png  \n",
            "  inflating: meatFreshnessP_YOLO/train/SPOILT/SPOILT_RED_cropped_27.HR.png  \n",
            "  inflating: meatFreshnessP_YOLO/train/SPOILT/SPOILT_RED_cropped_28.QR.png  \n",
            "  inflating: meatFreshnessP_YOLO/train/SPOILT/SPOILT_RED_cropped_29.PR.png  \n",
            "  inflating: meatFreshnessP_YOLO/train/SPOILT/SPOILT_RED_cropped_3.VP.png  \n",
            "  inflating: meatFreshnessP_YOLO/train/SPOILT/SPOILT_RED_cropped_30.VR.png  \n",
            "  inflating: meatFreshnessP_YOLO/train/SPOILT/SPOILT_RED_cropped_31.VL.png  \n",
            "  inflating: meatFreshnessP_YOLO/train/SPOILT/SPOILT_RED_cropped_32.PL.png  \n",
            "  inflating: meatFreshnessP_YOLO/train/SPOILT/SPOILT_RED_cropped_34.QL.png  \n",
            "  inflating: meatFreshnessP_YOLO/train/SPOILT/SPOILT_RED_cropped_35.RL.png  \n",
            "  inflating: meatFreshnessP_YOLO/train/SPOILT/SPOILT_RED_cropped_36.LL.png  \n",
            "  inflating: meatFreshnessP_YOLO/train/SPOILT/SPOILT_RED_cropped_4.QP.png  \n",
            "  inflating: meatFreshnessP_YOLO/train/SPOILT/SPOILT_RED_cropped_5.RP.png  \n",
            "  inflating: meatFreshnessP_YOLO/train/SPOILT/SPOILT_RED_cropped_6.LP.png  \n",
            "  inflating: meatFreshnessP_YOLO/train/SPOILT/SPOILT_RED_cropped_7.LV.png  \n",
            "  inflating: meatFreshnessP_YOLO/train/SPOILT/SPOILT_RED_cropped_8.RV.png  \n",
            "  inflating: meatFreshnessP_YOLO/train/SPOILT/SPOILT_RED_cropped_9.VV.png  \n",
            "  inflating: meatFreshnessP_YOLO/train.cache  \n",
            "   creating: meatFreshnessP_YOLO/val/\n",
            "   creating: meatFreshnessP_YOLO/val/FRESH/\n",
            "  inflating: meatFreshnessP_YOLO/val/FRESH/FRESH_BLUE_ADD_cropped_18.LQ.png  \n",
            "  inflating: meatFreshnessP_YOLO/val/FRESH/FRESH_BLUE_ADD_cropped_23.PH.png  \n",
            "  inflating: meatFreshnessP_YOLO/val/FRESH/FRESH_BLUE_ADD_cropped_24.VH.png  \n",
            "  inflating: meatFreshnessP_YOLO/val/FRESH/FRESH_BLUE_ADD_cropped_26.LR.png  \n",
            "  inflating: meatFreshnessP_YOLO/val/FRESH/FRESH_BLUE_ADD_cropped_32.PL.png  \n",
            "  inflating: meatFreshnessP_YOLO/val/FRESH/FRESH_BLUE_ADD_cropped_4.QP.png  \n",
            "  inflating: meatFreshnessP_YOLO/val/FRESH/FRESH_BLUE_cropped_18.LP.png  \n",
            "  inflating: meatFreshnessP_YOLO/val/FRESH/FRESH_BLUE_cropped_27.HR.png  \n",
            "  inflating: meatFreshnessP_YOLO/val/FRESH/FRESH_BLUE_cropped_4.QH.png  \n",
            "  inflating: meatFreshnessP_YOLO/val/FRESH/FRESH_BLUE_cropped_5.RH.png  \n",
            "  inflating: meatFreshnessP_YOLO/val/FRESH/FRESH_GREEN_ADD_cropped_10.PV.png  \n",
            "  inflating: meatFreshnessP_YOLO/val/FRESH/FRESH_GREEN_ADD_cropped_12.QV.png  \n",
            "  inflating: meatFreshnessP_YOLO/val/FRESH/FRESH_GREEN_ADD_cropped_16.VQ.png  \n",
            "  inflating: meatFreshnessP_YOLO/val/FRESH/FRESH_GREEN_ADD_cropped_29.PR.png  \n",
            "  inflating: meatFreshnessP_YOLO/val/FRESH/FRESH_GREEN_ADD_cropped_31.VL.png  \n",
            "  inflating: meatFreshnessP_YOLO/val/FRESH/FRESH_GREEN_ADD_cropped_33.HL.png  \n",
            "  inflating: meatFreshnessP_YOLO/val/FRESH/FRESH_GREEN_ADD_cropped_6.LP.png  \n",
            "  inflating: meatFreshnessP_YOLO/val/FRESH/FRESH_GREEN_cropped_1.HP.png  \n",
            "  inflating: meatFreshnessP_YOLO/val/FRESH/FRESH_GREEN_cropped_12.QV.png  \n",
            "  inflating: meatFreshnessP_YOLO/val/FRESH/FRESH_GREEN_cropped_13.QQ.png  \n",
            "  inflating: meatFreshnessP_YOLO/val/FRESH/FRESH_GREEN_cropped_18.LQ.png  \n",
            "  inflating: meatFreshnessP_YOLO/val/FRESH/FRESH_GREEN_cropped_19.LH.png  \n",
            "  inflating: meatFreshnessP_YOLO/val/FRESH/FRESH_GREEN_cropped_24.VH.png  \n",
            "  inflating: meatFreshnessP_YOLO/val/FRESH/FRESH_GREEN_cropped_28.QR.png  \n",
            "  inflating: meatFreshnessP_YOLO/val/FRESH/FRESH_GREEN_cropped_34.QL.png  \n",
            "  inflating: meatFreshnessP_YOLO/val/FRESH/FRESH_GREEN_cropped_4.QP.png  \n",
            "  inflating: meatFreshnessP_YOLO/val/FRESH/FRESH_GREEN_cropped_5.RP.png  \n",
            "  inflating: meatFreshnessP_YOLO/val/FRESH/FRESH_GREEN_cropped_8.RV.png  \n",
            "  inflating: meatFreshnessP_YOLO/val/FRESH/FRESH_RED_ADD_cropped_11.HV.png  \n",
            "  inflating: meatFreshnessP_YOLO/val/FRESH/FRESH_RED_ADD_cropped_19.LH.png  \n",
            "  inflating: meatFreshnessP_YOLO/val/FRESH/FRESH_RED_ADD_cropped_23.PH.png  \n",
            "  inflating: meatFreshnessP_YOLO/val/FRESH/FRESH_RED_ADD_cropped_25.RR.png  \n",
            "  inflating: meatFreshnessP_YOLO/val/FRESH/FRESH_RED_ADD_cropped_35.RL.png  \n",
            "  inflating: meatFreshnessP_YOLO/val/FRESH/FRESH_RED_ADD_cropped_6.LP.png  \n",
            "  inflating: meatFreshnessP_YOLO/val/FRESH/FRESH_RED_ADD_cropped_7.LV.png  \n",
            "  inflating: meatFreshnessP_YOLO/val/FRESH/FRESH_RED_cropped_11.HV.png  \n",
            "  inflating: meatFreshnessP_YOLO/val/FRESH/FRESH_RED_cropped_13.QQ.png  \n",
            "  inflating: meatFreshnessP_YOLO/val/FRESH/FRESH_RED_cropped_15.PQ.png  \n",
            "  inflating: meatFreshnessP_YOLO/val/FRESH/FRESH_RED_cropped_19.LH.png  \n",
            "  inflating: meatFreshnessP_YOLO/val/FRESH/FRESH_RED_cropped_20.RH.png  \n",
            "  inflating: meatFreshnessP_YOLO/val/FRESH/FRESH_RED_cropped_27.HR.png  \n",
            "  inflating: meatFreshnessP_YOLO/val/FRESH/FRESH_RED_cropped_29.PR.png  \n",
            "  inflating: meatFreshnessP_YOLO/val/FRESH/FRESH_RED_cropped_32.PL.png  \n",
            "  inflating: meatFreshnessP_YOLO/val/FRESH/FRESH_RED_cropped_7.LV.png  \n",
            "   creating: meatFreshnessP_YOLO/val/HALF/\n",
            "  inflating: meatFreshnessP_YOLO/val/HALF/HALF_BLUE_cropped_1.HP.png  \n",
            "  inflating: meatFreshnessP_YOLO/val/HALF/HALF_BLUE_cropped_13.QQ.png  \n",
            "  inflating: meatFreshnessP_YOLO/val/HALF/HALF_BLUE_cropped_19.LH.png  \n",
            "  inflating: meatFreshnessP_YOLO/val/HALF/HALF_BLUE_cropped_20.RH.png  \n",
            "  inflating: meatFreshnessP_YOLO/val/HALF/HALF_BLUE_cropped_26.LR.png  \n",
            "  inflating: meatFreshnessP_YOLO/val/HALF/HALF_BLUE_cropped_3.VP.png  \n",
            "  inflating: meatFreshnessP_YOLO/val/HALF/HALF_BLUE_cropped_33.HL.png  \n",
            "  inflating: meatFreshnessP_YOLO/val/HALF/HALF_BLUE_cropped_35.RL.png  \n",
            "  inflating: meatFreshnessP_YOLO/val/HALF/HALF_BLUE_cropped_9.VV.png  \n",
            "  inflating: meatFreshnessP_YOLO/val/HALF/HALF_GREEN_cropped_13.QQ.png  \n",
            "  inflating: meatFreshnessP_YOLO/val/HALF/HALF_GREEN_cropped_14.HQ.png  \n",
            "  inflating: meatFreshnessP_YOLO/val/HALF/HALF_GREEN_cropped_18.LQ.png  \n",
            "  inflating: meatFreshnessP_YOLO/val/HALF/HALF_GREEN_cropped_23.PH.png  \n",
            "  inflating: meatFreshnessP_YOLO/val/HALF/HALF_GREEN_cropped_4.QP.png  \n",
            "  inflating: meatFreshnessP_YOLO/val/HALF/HALF_RED_cropped_13.QQ.png  \n",
            "  inflating: meatFreshnessP_YOLO/val/HALF/HALF_RED_cropped_18.LQ.png  \n",
            "  inflating: meatFreshnessP_YOLO/val/HALF/HALF_RED_cropped_22.QH.png  \n",
            "  inflating: meatFreshnessP_YOLO/val/HALF/HALF_RED_cropped_32.PL.png  \n",
            "  inflating: meatFreshnessP_YOLO/val/HALF/HALF_RED_cropped_7.LV.png  \n",
            "   creating: meatFreshnessP_YOLO/val/SPOILT/\n",
            "  inflating: meatFreshnessP_YOLO/val/SPOILT/SPOILT_GREEN_cropped_1.LL.png  \n",
            "  inflating: meatFreshnessP_YOLO/val/SPOILT/SPOILT_GREEN_cropped_13.VH.png  \n",
            "  inflating: meatFreshnessP_YOLO/val/SPOILT/SPOILT_GREEN_cropped_14.PH.png  \n",
            "  inflating: meatFreshnessP_YOLO/val/SPOILT/SPOILT_GREEN_cropped_18.LH.png  \n",
            "  inflating: meatFreshnessP_YOLO/val/SPOILT/SPOILT_GREEN_cropped_19.LQ.png  \n",
            "  inflating: meatFreshnessP_YOLO/val/SPOILT/SPOILT_GREEN_cropped_20.RQ.png  \n",
            "  inflating: meatFreshnessP_YOLO/val/SPOILT/SPOILT_GREEN_cropped_26.HV.png  \n",
            "  inflating: meatFreshnessP_YOLO/val/SPOILT/SPOILT_GREEN_cropped_35.PP.png  \n",
            "  inflating: meatFreshnessP_YOLO/val/SPOILT/SPOILT_GREEN_cropped_5.PL.png  \n",
            "  inflating: meatFreshnessP_YOLO/val/SPOILT/SPOILT_GREEN_cropped_8.PR.png  \n",
            "  inflating: meatFreshnessP_YOLO/val/SPOILT/SPOILT_RED_cropped_18.HQ.png  \n",
            "  inflating: meatFreshnessP_YOLO/val/SPOILT/SPOILT_RED_cropped_2.PP.png  \n",
            "  inflating: meatFreshnessP_YOLO/val/SPOILT/SPOILT_RED_cropped_22.QH.png  \n",
            "  inflating: meatFreshnessP_YOLO/val/SPOILT/SPOILT_RED_cropped_26.LR.png  \n",
            "  inflating: meatFreshnessP_YOLO/val/SPOILT/SPOILT_RED_cropped_33.HL.png  \n",
            "  inflating: meatFreshnessP_YOLO/val.cache  \n"
          ]
        }
      ]
    },
    {
      "cell_type": "code",
      "source": [
        "# Обучение\n",
        "model.train(data=r'/content/meatFreshnessP_YOLO', epochs=20, imgsz=256, batch=16)"
      ],
      "metadata": {
        "colab": {
          "base_uri": "https://localhost:8080/"
        },
        "id": "MjE-tfs2_fsT",
        "outputId": "b3599261-a2c6-4933-8c16-42669e41965a"
      },
      "execution_count": null,
      "outputs": [
        {
          "output_type": "stream",
          "name": "stdout",
          "text": [
            "Ultralytics 8.3.67 🚀 Python-3.11.11 torch-2.5.1+cu121 CUDA:0 (Tesla T4, 15102MiB)\n",
            "\u001b[34m\u001b[1mengine/trainer: \u001b[0mtask=classify, mode=train, model=yolo11m-cls.pt, data=/content/meatFreshnessP_YOLO, epochs=20, time=None, patience=100, batch=16, imgsz=256, save=True, save_period=-1, cache=False, device=None, workers=8, project=None, name=train, exist_ok=False, pretrained=True, optimizer=auto, verbose=True, seed=0, deterministic=True, single_cls=False, rect=False, cos_lr=False, close_mosaic=10, resume=False, amp=True, fraction=1.0, profile=False, freeze=None, multi_scale=False, overlap_mask=True, mask_ratio=4, dropout=0.0, val=True, split=val, save_json=False, save_hybrid=False, conf=None, iou=0.7, max_det=300, half=False, dnn=False, plots=True, source=None, vid_stride=1, stream_buffer=False, visualize=False, augment=False, agnostic_nms=False, classes=None, retina_masks=False, embed=None, show=False, save_frames=False, save_txt=False, save_conf=False, save_crop=False, show_labels=True, show_conf=True, show_boxes=True, line_width=None, format=torchscript, keras=False, optimize=False, int8=False, dynamic=False, simplify=True, opset=None, workspace=None, nms=False, lr0=0.01, lrf=0.01, momentum=0.937, weight_decay=0.0005, warmup_epochs=3.0, warmup_momentum=0.8, warmup_bias_lr=0.1, box=7.5, cls=0.5, dfl=1.5, pose=12.0, kobj=1.0, nbs=64, hsv_h=0.015, hsv_s=0.7, hsv_v=0.4, degrees=0.0, translate=0.1, scale=0.5, shear=0.0, perspective=0.0, flipud=0.0, fliplr=0.5, bgr=0.0, mosaic=1.0, mixup=0.0, copy_paste=0.0, copy_paste_mode=flip, auto_augment=randaugment, erasing=0.4, crop_fraction=1.0, cfg=None, tracker=botsort.yaml, save_dir=runs/classify/train\n",
            "\u001b[34m\u001b[1mtrain:\u001b[0m /content/meatFreshnessP_YOLO/train... found 301 images in 3 classes ✅ \n",
            "\u001b[34m\u001b[1mval:\u001b[0m /content/meatFreshnessP_YOLO/val... found 78 images in 3 classes ✅ \n",
            "\u001b[34m\u001b[1mtest:\u001b[0m /content/meatFreshnessP_YOLO/test... found 3 images in 1 classes: ERROR ❌️ requires 3 classes, not 1\n",
            "Overriding model.yaml nc=80 with nc=3\n",
            "\n",
            "                   from  n    params  module                                       arguments                     \n",
            "  0                  -1  1      1856  ultralytics.nn.modules.conv.Conv             [3, 64, 3, 2]                 \n",
            "  1                  -1  1     73984  ultralytics.nn.modules.conv.Conv             [64, 128, 3, 2]               \n",
            "  2                  -1  1    111872  ultralytics.nn.modules.block.C3k2            [128, 256, 1, True, 0.25]     \n",
            "  3                  -1  1    590336  ultralytics.nn.modules.conv.Conv             [256, 256, 3, 2]              \n",
            "  4                  -1  1    444928  ultralytics.nn.modules.block.C3k2            [256, 512, 1, True, 0.25]     \n",
            "  5                  -1  1   2360320  ultralytics.nn.modules.conv.Conv             [512, 512, 3, 2]              \n",
            "  6                  -1  1   1380352  ultralytics.nn.modules.block.C3k2            [512, 512, 1, True]           \n",
            "  7                  -1  1   2360320  ultralytics.nn.modules.conv.Conv             [512, 512, 3, 2]              \n",
            "  8                  -1  1   1380352  ultralytics.nn.modules.block.C3k2            [512, 512, 1, True]           \n",
            "  9                  -1  1    990976  ultralytics.nn.modules.block.C2PSA           [512, 512, 1]                 \n",
            " 10                  -1  1    661763  ultralytics.nn.modules.head.Classify         [512, 3]                      \n",
            "YOLO11m-cls summary: 187 layers, 10,357,059 parameters, 10,357,059 gradients, 39.6 GFLOPs\n",
            "Transferred 294/296 items from pretrained weights\n",
            "\u001b[34m\u001b[1mTensorBoard: \u001b[0mStart with 'tensorboard --logdir runs/classify/train', view at http://localhost:6006/\n",
            "\u001b[34m\u001b[1mAMP: \u001b[0mrunning Automatic Mixed Precision (AMP) checks...\n",
            "Downloading https://github.com/ultralytics/assets/releases/download/v8.3.0/yolo11n.pt to 'yolo11n.pt'...\n"
          ]
        },
        {
          "output_type": "stream",
          "name": "stderr",
          "text": [
            "100%|██████████| 5.35M/5.35M [00:00<00:00, 93.7MB/s]\n"
          ]
        },
        {
          "output_type": "stream",
          "name": "stdout",
          "text": [
            "\u001b[34m\u001b[1mAMP: \u001b[0mchecks passed ✅\n"
          ]
        },
        {
          "output_type": "stream",
          "name": "stderr",
          "text": [
            "\u001b[34m\u001b[1mtrain: \u001b[0mScanning /content/meatFreshnessP_YOLO/train... 301 images, 0 corrupt: 100%|██████████| 301/301 [00:00<00:00, 7315.87it/s]"
          ]
        },
        {
          "output_type": "stream",
          "name": "stdout",
          "text": [
            "\u001b[34m\u001b[1mtrain: \u001b[0mNew cache created: /content/meatFreshnessP_YOLO/train.cache\n"
          ]
        },
        {
          "output_type": "stream",
          "name": "stderr",
          "text": [
            "\n",
            "\u001b[34m\u001b[1mval: \u001b[0mScanning /content/meatFreshnessP_YOLO/val... 78 images, 0 corrupt: 100%|██████████| 78/78 [00:00<00:00, 272176.13it/s]"
          ]
        },
        {
          "output_type": "stream",
          "name": "stdout",
          "text": [
            "\u001b[34m\u001b[1mval: \u001b[0mNew cache created: /content/meatFreshnessP_YOLO/val.cache\n"
          ]
        },
        {
          "output_type": "stream",
          "name": "stderr",
          "text": [
            "\n"
          ]
        },
        {
          "output_type": "stream",
          "name": "stdout",
          "text": [
            "\u001b[34m\u001b[1moptimizer:\u001b[0m 'optimizer=auto' found, ignoring 'lr0=0.01' and 'momentum=0.937' and determining best 'optimizer', 'lr0' and 'momentum' automatically... \n",
            "\u001b[34m\u001b[1moptimizer:\u001b[0m AdamW(lr=0.001429, momentum=0.9) with parameter groups 49 weight(decay=0.0), 50 weight(decay=0.0005), 50 bias(decay=0.0)\n",
            "\u001b[34m\u001b[1mTensorBoard: \u001b[0mmodel graph visualization added ✅\n",
            "Image sizes 256 train, 256 val\n",
            "Using 2 dataloader workers\n",
            "Logging results to \u001b[1mruns/classify/train\u001b[0m\n",
            "Starting training for 20 epochs...\n",
            "\n",
            "      Epoch    GPU_mem       loss  Instances       Size\n"
          ]
        },
        {
          "output_type": "stream",
          "name": "stderr",
          "text": [
            "       1/20      1.14G     0.9806         16        256:  21%|██        | 4/19 [00:01<00:04,  3.52it/s]"
          ]
        },
        {
          "output_type": "stream",
          "name": "stdout",
          "text": [
            "Downloading https://ultralytics.com/assets/Arial.ttf to '/root/.config/Ultralytics/Arial.ttf'...\n"
          ]
        },
        {
          "output_type": "stream",
          "name": "stderr",
          "text": [
            "       1/20      1.17G     0.9287         16        256:  53%|█████▎    | 10/19 [00:01<00:01,  7.33it/s]\n",
            "100%|██████████| 755k/755k [00:00<00:00, 17.4MB/s]\n",
            "       1/20      1.18G     0.7785         13        256: 100%|██████████| 19/19 [00:03<00:00,  5.40it/s]\n",
            "               classes   top1_acc   top5_acc: 100%|██████████| 3/3 [00:00<00:00, 10.71it/s]"
          ]
        },
        {
          "output_type": "stream",
          "name": "stdout",
          "text": [
            "                   all      0.795          1\n"
          ]
        },
        {
          "output_type": "stream",
          "name": "stderr",
          "text": [
            "\n"
          ]
        },
        {
          "output_type": "stream",
          "name": "stdout",
          "text": [
            "\n",
            "      Epoch    GPU_mem       loss  Instances       Size\n"
          ]
        },
        {
          "output_type": "stream",
          "name": "stderr",
          "text": [
            "       2/20      1.08G     0.3331         13        256: 100%|██████████| 19/19 [00:02<00:00,  8.90it/s]\n",
            "               classes   top1_acc   top5_acc: 100%|██████████| 3/3 [00:00<00:00, 36.50it/s]\n"
          ]
        },
        {
          "output_type": "stream",
          "name": "stdout",
          "text": [
            "                   all      0.962          1\n",
            "\n",
            "      Epoch    GPU_mem       loss  Instances       Size\n"
          ]
        },
        {
          "output_type": "stream",
          "name": "stderr",
          "text": [
            "       3/20      1.08G     0.3866         13        256: 100%|██████████| 19/19 [00:02<00:00,  7.70it/s]\n",
            "               classes   top1_acc   top5_acc: 100%|██████████| 3/3 [00:00<00:00, 13.51it/s]"
          ]
        },
        {
          "output_type": "stream",
          "name": "stdout",
          "text": [
            "                   all      0.846          1\n"
          ]
        },
        {
          "output_type": "stream",
          "name": "stderr",
          "text": [
            "\n"
          ]
        },
        {
          "output_type": "stream",
          "name": "stdout",
          "text": [
            "\n",
            "      Epoch    GPU_mem       loss  Instances       Size\n"
          ]
        },
        {
          "output_type": "stream",
          "name": "stderr",
          "text": [
            "       4/20      1.09G     0.3403         13        256: 100%|██████████| 19/19 [00:03<00:00,  5.32it/s]\n",
            "               classes   top1_acc   top5_acc: 100%|██████████| 3/3 [00:00<00:00, 11.63it/s]"
          ]
        },
        {
          "output_type": "stream",
          "name": "stdout",
          "text": [
            "                   all       0.91          1\n"
          ]
        },
        {
          "output_type": "stream",
          "name": "stderr",
          "text": [
            "\n"
          ]
        },
        {
          "output_type": "stream",
          "name": "stdout",
          "text": [
            "\n",
            "      Epoch    GPU_mem       loss  Instances       Size\n"
          ]
        },
        {
          "output_type": "stream",
          "name": "stderr",
          "text": [
            "       5/20      1.08G     0.3132         13        256: 100%|██████████| 19/19 [00:02<00:00,  9.10it/s]\n",
            "               classes   top1_acc   top5_acc: 100%|██████████| 3/3 [00:00<00:00, 13.68it/s]"
          ]
        },
        {
          "output_type": "stream",
          "name": "stdout",
          "text": [
            "                   all      0.949          1\n"
          ]
        },
        {
          "output_type": "stream",
          "name": "stderr",
          "text": [
            "\n"
          ]
        },
        {
          "output_type": "stream",
          "name": "stdout",
          "text": [
            "\n",
            "      Epoch    GPU_mem       loss  Instances       Size\n"
          ]
        },
        {
          "output_type": "stream",
          "name": "stderr",
          "text": [
            "       6/20      1.09G      0.321         13        256: 100%|██████████| 19/19 [00:02<00:00,  8.96it/s]\n",
            "               classes   top1_acc   top5_acc: 100%|██████████| 3/3 [00:00<00:00, 18.47it/s]"
          ]
        },
        {
          "output_type": "stream",
          "name": "stdout",
          "text": [
            "                   all       0.91          1\n"
          ]
        },
        {
          "output_type": "stream",
          "name": "stderr",
          "text": [
            "\n"
          ]
        },
        {
          "output_type": "stream",
          "name": "stdout",
          "text": [
            "\n",
            "      Epoch    GPU_mem       loss  Instances       Size\n"
          ]
        },
        {
          "output_type": "stream",
          "name": "stderr",
          "text": [
            "       7/20      1.08G     0.2215         13        256: 100%|██████████| 19/19 [00:02<00:00,  8.85it/s]\n",
            "               classes   top1_acc   top5_acc: 100%|██████████| 3/3 [00:00<00:00, 16.94it/s]"
          ]
        },
        {
          "output_type": "stream",
          "name": "stdout",
          "text": [
            "                   all      0.769          1\n"
          ]
        },
        {
          "output_type": "stream",
          "name": "stderr",
          "text": [
            "\n"
          ]
        },
        {
          "output_type": "stream",
          "name": "stdout",
          "text": [
            "\n",
            "      Epoch    GPU_mem       loss  Instances       Size\n"
          ]
        },
        {
          "output_type": "stream",
          "name": "stderr",
          "text": [
            "       8/20      1.09G      0.314         13        256: 100%|██████████| 19/19 [00:03<00:00,  5.87it/s]\n",
            "               classes   top1_acc   top5_acc: 100%|██████████| 3/3 [00:00<00:00, 14.52it/s]"
          ]
        },
        {
          "output_type": "stream",
          "name": "stdout",
          "text": [
            "                   all      0.949          1\n"
          ]
        },
        {
          "output_type": "stream",
          "name": "stderr",
          "text": [
            "\n"
          ]
        },
        {
          "output_type": "stream",
          "name": "stdout",
          "text": [
            "\n",
            "      Epoch    GPU_mem       loss  Instances       Size\n"
          ]
        },
        {
          "output_type": "stream",
          "name": "stderr",
          "text": [
            "       9/20      1.08G     0.3016         13        256: 100%|██████████| 19/19 [00:03<00:00,  6.29it/s]\n",
            "               classes   top1_acc   top5_acc: 100%|██████████| 3/3 [00:00<00:00, 23.72it/s]"
          ]
        },
        {
          "output_type": "stream",
          "name": "stdout",
          "text": [
            "                   all      0.936          1\n"
          ]
        },
        {
          "output_type": "stream",
          "name": "stderr",
          "text": [
            "\n"
          ]
        },
        {
          "output_type": "stream",
          "name": "stdout",
          "text": [
            "\n",
            "      Epoch    GPU_mem       loss  Instances       Size\n"
          ]
        },
        {
          "output_type": "stream",
          "name": "stderr",
          "text": [
            "      10/20      1.09G     0.3688         13        256: 100%|██████████| 19/19 [00:02<00:00,  9.03it/s]\n",
            "               classes   top1_acc   top5_acc: 100%|██████████| 3/3 [00:00<00:00, 25.15it/s]"
          ]
        },
        {
          "output_type": "stream",
          "name": "stdout",
          "text": [
            "                   all      0.962          1\n"
          ]
        },
        {
          "output_type": "stream",
          "name": "stderr",
          "text": [
            "\n"
          ]
        },
        {
          "output_type": "stream",
          "name": "stdout",
          "text": [
            "\n",
            "      Epoch    GPU_mem       loss  Instances       Size\n"
          ]
        },
        {
          "output_type": "stream",
          "name": "stderr",
          "text": [
            "      11/20      1.18G     0.2571         13        256: 100%|██████████| 19/19 [00:02<00:00,  7.28it/s]\n",
            "               classes   top1_acc   top5_acc: 100%|██████████| 3/3 [00:00<00:00, 16.55it/s]"
          ]
        },
        {
          "output_type": "stream",
          "name": "stdout",
          "text": [
            "                   all      0.923          1\n"
          ]
        },
        {
          "output_type": "stream",
          "name": "stderr",
          "text": [
            "\n"
          ]
        },
        {
          "output_type": "stream",
          "name": "stdout",
          "text": [
            "\n",
            "      Epoch    GPU_mem       loss  Instances       Size\n"
          ]
        },
        {
          "output_type": "stream",
          "name": "stderr",
          "text": [
            "      12/20      1.09G     0.2502         13        256: 100%|██████████| 19/19 [00:03<00:00,  5.14it/s]\n",
            "               classes   top1_acc   top5_acc: 100%|██████████| 3/3 [00:00<00:00, 13.51it/s]"
          ]
        },
        {
          "output_type": "stream",
          "name": "stdout",
          "text": [
            "                   all      0.897          1\n"
          ]
        },
        {
          "output_type": "stream",
          "name": "stderr",
          "text": [
            "\n"
          ]
        },
        {
          "output_type": "stream",
          "name": "stdout",
          "text": [
            "\n",
            "      Epoch    GPU_mem       loss  Instances       Size\n"
          ]
        },
        {
          "output_type": "stream",
          "name": "stderr",
          "text": [
            "      13/20      1.17G     0.3291         13        256: 100%|██████████| 19/19 [00:02<00:00,  6.68it/s]\n",
            "               classes   top1_acc   top5_acc: 100%|██████████| 3/3 [00:00<00:00, 19.30it/s]\n"
          ]
        },
        {
          "output_type": "stream",
          "name": "stdout",
          "text": [
            "                   all      0.987          1\n",
            "\n",
            "      Epoch    GPU_mem       loss  Instances       Size\n"
          ]
        },
        {
          "output_type": "stream",
          "name": "stderr",
          "text": [
            "      14/20      1.09G     0.2349         13        256: 100%|██████████| 19/19 [00:02<00:00,  8.49it/s]\n",
            "               classes   top1_acc   top5_acc: 100%|██████████| 3/3 [00:00<00:00, 23.67it/s]"
          ]
        },
        {
          "output_type": "stream",
          "name": "stdout",
          "text": [
            "                   all      0.987          1\n"
          ]
        },
        {
          "output_type": "stream",
          "name": "stderr",
          "text": [
            "\n"
          ]
        },
        {
          "output_type": "stream",
          "name": "stdout",
          "text": [
            "\n",
            "      Epoch    GPU_mem       loss  Instances       Size\n"
          ]
        },
        {
          "output_type": "stream",
          "name": "stderr",
          "text": [
            "      15/20      1.09G     0.1864         13        256: 100%|██████████| 19/19 [00:02<00:00,  9.13it/s]\n",
            "               classes   top1_acc   top5_acc: 100%|██████████| 3/3 [00:00<00:00, 17.33it/s]\n"
          ]
        },
        {
          "output_type": "stream",
          "name": "stdout",
          "text": [
            "                   all      0.987          1\n",
            "\n",
            "      Epoch    GPU_mem       loss  Instances       Size\n"
          ]
        },
        {
          "output_type": "stream",
          "name": "stderr",
          "text": [
            "      16/20      1.09G     0.2293         13        256: 100%|██████████| 19/19 [00:02<00:00,  6.94it/s]\n",
            "               classes   top1_acc   top5_acc: 100%|██████████| 3/3 [00:00<00:00, 16.26it/s]"
          ]
        },
        {
          "output_type": "stream",
          "name": "stdout",
          "text": [
            "                   all      0.987          1\n"
          ]
        },
        {
          "output_type": "stream",
          "name": "stderr",
          "text": [
            "\n"
          ]
        },
        {
          "output_type": "stream",
          "name": "stdout",
          "text": [
            "\n",
            "      Epoch    GPU_mem       loss  Instances       Size\n"
          ]
        },
        {
          "output_type": "stream",
          "name": "stderr",
          "text": [
            "      17/20      1.08G     0.1763         13        256: 100%|██████████| 19/19 [00:03<00:00,  5.31it/s]\n",
            "               classes   top1_acc   top5_acc: 100%|██████████| 3/3 [00:00<00:00, 11.25it/s]"
          ]
        },
        {
          "output_type": "stream",
          "name": "stdout",
          "text": [
            "                   all          1          1\n"
          ]
        },
        {
          "output_type": "stream",
          "name": "stderr",
          "text": [
            "\n"
          ]
        },
        {
          "output_type": "stream",
          "name": "stdout",
          "text": [
            "\n",
            "      Epoch    GPU_mem       loss  Instances       Size\n"
          ]
        },
        {
          "output_type": "stream",
          "name": "stderr",
          "text": [
            "      18/20      1.09G     0.1159         13        256: 100%|██████████| 19/19 [00:02<00:00,  8.75it/s]\n",
            "               classes   top1_acc   top5_acc: 100%|██████████| 3/3 [00:00<00:00, 23.96it/s]"
          ]
        },
        {
          "output_type": "stream",
          "name": "stdout",
          "text": [
            "                   all          1          1\n"
          ]
        },
        {
          "output_type": "stream",
          "name": "stderr",
          "text": [
            "\n"
          ]
        },
        {
          "output_type": "stream",
          "name": "stdout",
          "text": [
            "\n",
            "      Epoch    GPU_mem       loss  Instances       Size\n"
          ]
        },
        {
          "output_type": "stream",
          "name": "stderr",
          "text": [
            "      19/20      1.06G     0.1342         13        256: 100%|██████████| 19/19 [00:02<00:00,  8.97it/s]\n",
            "               classes   top1_acc   top5_acc: 100%|██████████| 3/3 [00:00<00:00, 21.91it/s]"
          ]
        },
        {
          "output_type": "stream",
          "name": "stdout",
          "text": [
            "                   all          1          1\n"
          ]
        },
        {
          "output_type": "stream",
          "name": "stderr",
          "text": [
            "\n"
          ]
        },
        {
          "output_type": "stream",
          "name": "stdout",
          "text": [
            "\n",
            "      Epoch    GPU_mem       loss  Instances       Size\n"
          ]
        },
        {
          "output_type": "stream",
          "name": "stderr",
          "text": [
            "      20/20      1.09G     0.1017         13        256: 100%|██████████| 19/19 [00:02<00:00,  9.19it/s]\n",
            "               classes   top1_acc   top5_acc: 100%|██████████| 3/3 [00:00<00:00, 26.86it/s]"
          ]
        },
        {
          "output_type": "stream",
          "name": "stdout",
          "text": [
            "                   all          1          1\n"
          ]
        },
        {
          "output_type": "stream",
          "name": "stderr",
          "text": [
            "\n"
          ]
        },
        {
          "output_type": "stream",
          "name": "stdout",
          "text": [
            "\n",
            "20 epochs completed in 0.023 hours.\n",
            "Optimizer stripped from runs/classify/train/weights/last.pt, 20.9MB\n",
            "Optimizer stripped from runs/classify/train/weights/best.pt, 20.9MB\n",
            "\n",
            "Validating runs/classify/train/weights/best.pt...\n",
            "Ultralytics 8.3.67 🚀 Python-3.11.11 torch-2.5.1+cu121 CUDA:0 (Tesla T4, 15102MiB)\n",
            "YOLO11m-cls summary (fused): 138 layers, 10,345,475 parameters, 0 gradients, 39.3 GFLOPs\n",
            "\u001b[34m\u001b[1mtrain:\u001b[0m /content/meatFreshnessP_YOLO/train... found 301 images in 3 classes ✅ \n",
            "\u001b[34m\u001b[1mval:\u001b[0m /content/meatFreshnessP_YOLO/val... found 78 images in 3 classes ✅ \n",
            "\u001b[34m\u001b[1mtest:\u001b[0m /content/meatFreshnessP_YOLO/test... found 3 images in 1 classes: ERROR ❌️ requires 3 classes, not 1\n"
          ]
        },
        {
          "output_type": "stream",
          "name": "stderr",
          "text": [
            "               classes   top1_acc   top5_acc: 100%|██████████| 3/3 [00:00<00:00, 11.72it/s]\n"
          ]
        },
        {
          "output_type": "stream",
          "name": "stdout",
          "text": [
            "                   all          1          1\n",
            "Speed: 0.1ms preprocess, 1.7ms inference, 0.0ms loss, 0.0ms postprocess per image\n",
            "Results saved to \u001b[1mruns/classify/train\u001b[0m\n"
          ]
        },
        {
          "output_type": "execute_result",
          "data": {
            "text/plain": [
              "ultralytics.utils.metrics.ClassifyMetrics object with attributes:\n",
              "\n",
              "confusion_matrix: <ultralytics.utils.metrics.ConfusionMatrix object at 0x7bdaa61b4dd0>\n",
              "curves: []\n",
              "curves_results: []\n",
              "fitness: 1.0\n",
              "keys: ['metrics/accuracy_top1', 'metrics/accuracy_top5']\n",
              "results_dict: {'metrics/accuracy_top1': 1.0, 'metrics/accuracy_top5': 1.0, 'fitness': 1.0}\n",
              "save_dir: PosixPath('runs/classify/train')\n",
              "speed: {'preprocess': 0.10021527608235677, 'inference': 1.7424821853637695, 'loss': 0.0004004209469526242, 'postprocess': 0.0006113296900040065}\n",
              "task: 'classify'\n",
              "top1: 1.0\n",
              "top5: 1.0"
            ]
          },
          "metadata": {},
          "execution_count": 7
        }
      ]
    },
    {
      "cell_type": "code",
      "source": [
        "!yolo task=classify mode=predict model=runs/classify/train/weights/best.pt source=/content/meatFreshnessP_YOLO/test"
      ],
      "metadata": {
        "colab": {
          "base_uri": "https://localhost:8080/"
        },
        "id": "mDW4zHqcCzdP",
        "outputId": "7411c056-2804-410d-dc92-6270ac8d6365"
      },
      "execution_count": null,
      "outputs": [
        {
          "output_type": "stream",
          "name": "stdout",
          "text": [
            "Ultralytics 8.3.67 🚀 Python-3.11.11 torch-2.5.1+cu121 CUDA:0 (Tesla T4, 15102MiB)\n",
            "YOLO11m-cls summary (fused): 138 layers, 10,345,475 parameters, 0 gradients, 39.3 GFLOPs\n",
            "\n",
            "image 1/3 /content/meatFreshnessP_YOLO/test/FRESH_GREEN_ADD_cropped_26.LR.png: 256x256 FRESH 1.00, SPOILT 0.00, HALF 0.00, 6.4ms\n",
            "image 2/3 /content/meatFreshnessP_YOLO/test/HALF_GREEN_cropped_19.LH.png: 256x256 HALF 1.00, FRESH 0.00, SPOILT 0.00, 5.9ms\n",
            "image 3/3 /content/meatFreshnessP_YOLO/test/SPOILT_GREEN_cropped_23.HQ.png: 256x256 SPOILT 0.99, FRESH 0.01, HALF 0.00, 5.9ms\n",
            "Speed: 4.7ms preprocess, 6.1ms inference, 0.0ms postprocess per image at shape (1, 3, 256, 256)\n",
            "Results saved to \u001b[1mruns/classify/predict2\u001b[0m\n",
            "💡 Learn more at https://docs.ultralytics.com/modes/predict\n"
          ]
        }
      ]
    },
    {
      "cell_type": "code",
      "source": [
        "!ls /content/meatFreshnessP_YOLO/test"
      ],
      "metadata": {
        "colab": {
          "base_uri": "https://localhost:8080/"
        },
        "id": "vECiDUAPDcgS",
        "outputId": "d6519ece-e719-42b7-f5c0-c99759c9078c"
      },
      "execution_count": null,
      "outputs": [
        {
          "output_type": "stream",
          "name": "stdout",
          "text": [
            "FRESH  HALF  SPOILT\n"
          ]
        }
      ]
    }
  ]
}